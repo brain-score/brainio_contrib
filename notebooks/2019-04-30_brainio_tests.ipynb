{
  "cells": [
    {
      "cell_type": "code",
      "source": [
        "import os"
      ],
      "outputs": [],
      "execution_count": 1,
      "metadata": {
        "collapsed": false,
        "outputHidden": false,
        "inputHidden": false
      }
    },
    {
      "cell_type": "code",
      "source": [
        "import shutil"
      ],
      "outputs": [],
      "execution_count": 2,
      "metadata": {
        "collapsed": false,
        "outputHidden": false,
        "inputHidden": false
      }
    },
    {
      "cell_type": "code",
      "source": [
        "from pathlib import Path"
      ],
      "outputs": [],
      "execution_count": 41,
      "metadata": {
        "collapsed": false,
        "outputHidden": false,
        "inputHidden": false
      }
    },
    {
      "cell_type": "code",
      "source": [
        "import numpy as np"
      ],
      "outputs": [],
      "execution_count": 18,
      "metadata": {
        "collapsed": false,
        "outputHidden": false,
        "inputHidden": false
      }
    },
    {
      "cell_type": "code",
      "source": [
        "import pandas as pd"
      ],
      "outputs": [],
      "execution_count": 3,
      "metadata": {
        "collapsed": false,
        "outputHidden": false,
        "inputHidden": false
      }
    },
    {
      "cell_type": "code",
      "source": [
        "import xarray as xr"
      ],
      "outputs": [],
      "execution_count": 4,
      "metadata": {
        "collapsed": false,
        "outputHidden": false,
        "inputHidden": false
      }
    },
    {
      "cell_type": "code",
      "source": [
        "import brainio_collection"
      ],
      "outputs": [],
      "execution_count": 5,
      "metadata": {
        "collapsed": false,
        "outputHidden": false,
        "inputHidden": false
      }
    },
    {
      "cell_type": "code",
      "source": [
        "from brainio_collection.knownfile import KnownFile as kf"
      ],
      "outputs": [],
      "execution_count": 6,
      "metadata": {
        "collapsed": false,
        "outputHidden": false,
        "inputHidden": false
      }
    },
    {
      "cell_type": "code",
      "source": [
        "target_dir = \"/Users/jjpr/dev/brainio_contrib/tests/images\""
      ],
      "outputs": [],
      "execution_count": 7,
      "metadata": {
        "collapsed": false,
        "outputHidden": false,
        "inputHidden": false
      }
    },
    {
      "cell_type": "code",
      "source": [
        "stim = brainio_collection.get_stimulus_set(\"dicarlo.hvm\")\n",
        "stim"
      ],
      "outputs": [],
      "execution_count": null,
      "metadata": {
        "collapsed": false,
        "outputHidden": true,
        "inputHidden": false
      }
    },
    {
      "cell_type": "code",
      "source": [
        "samp = stim[stim[\"variation\"] == 0].sample(n=25)\n",
        "samp"
      ],
      "outputs": [],
      "execution_count": null,
      "metadata": {
        "collapsed": false,
        "outputHidden": false,
        "inputHidden": false
      }
    },
    {
      "cell_type": "code",
      "source": [
        "samp[\"image_current_local_file_path\"] = [samp.get_image(x) for x in samp[\"image_id\"]]\n",
        "samp"
      ],
      "outputs": [],
      "execution_count": null,
      "metadata": {
        "collapsed": false,
        "outputHidden": false,
        "inputHidden": false
      }
    },
    {
      "cell_type": "code",
      "source": [
        "samp[\"sha1\"] = [kf(im).sha1 for im in samp[\"image_current_local_file_path\"]]\n",
        "samp"
      ],
      "outputs": [],
      "execution_count": null,
      "metadata": {
        "collapsed": false,
        "outputHidden": false,
        "inputHidden": false
      }
    },
    {
      "cell_type": "code",
      "source": [
        "samp[\"image_source_local_file_path\"] = samp[\"image_current_local_file_path\"]\n",
        "samp[\"image_target_local_file_path\"] = [os.path.join(target_dir, im.image_id + \".png\") for im in samp.itertuples()]\n",
        "samp"
      ],
      "outputs": [],
      "execution_count": null,
      "metadata": {
        "collapsed": false,
        "outputHidden": false,
        "inputHidden": false
      }
    },
    {
      "cell_type": "code",
      "source": [
        "for im in samp.itertuples():\n",
        "  shutil.copy(im.image_source_local_file_path, im.image_target_local_file_path)"
      ],
      "outputs": [],
      "execution_count": null,
      "metadata": {
        "collapsed": false,
        "outputHidden": false,
        "inputHidden": false
      }
    },
    {
      "cell_type": "code",
      "source": [
        "image_file_names = [im.image_id + \".png\" for im in samp.itertuples()]\n",
        "out_df = pd.DataFrame({\n",
        "  \"image_id\": samp[\"image_id\"], \n",
        "  \"image_current_relative_file_path\": image_file_names, \n",
        "  \"image_path_within_store\": image_file_names,\n",
        "  \"object_name\": samp[\"object_name\"],\n",
        "  \"category_name\": samp[\"category_name\"],\n",
        "  \"size\": samp[\"size\"]\n",
        "})\n",
        "out_df"
      ],
      "outputs": [],
      "execution_count": null,
      "metadata": {
        "collapsed": false,
        "outputHidden": false,
        "inputHidden": false
      }
    },
    {
      "cell_type": "code",
      "source": [
        "target_csv = os.path.join(target_dir, \"test_images.csv\")\n",
        "target_csv"
      ],
      "outputs": [
        {
          "output_type": "execute_result",
          "execution_count": 8,
          "data": {
            "text/plain": [
              "'/Users/jjpr/dev/brainio_contrib/tests/images/test_images.csv'"
            ]
          },
          "metadata": {}
        }
      ],
      "execution_count": 8,
      "metadata": {
        "collapsed": false,
        "outputHidden": false,
        "inputHidden": false
      }
    },
    {
      "cell_type": "code",
      "source": [
        "out_df.to_csv(target_csv, index=False)"
      ],
      "outputs": [],
      "execution_count": null,
      "metadata": {
        "collapsed": false,
        "outputHidden": false,
        "inputHidden": false
      }
    },
    {
      "cell_type": "code",
      "source": [
        "proto = pd.read_csv(target_csv)\n",
        "proto"
      ],
      "outputs": [
        {
          "output_type": "execute_result",
          "execution_count": 9,
          "data": {
            "text/plain": [
              "                                    image_id  \\\n",
              "0   b713c093a9135539f1fdd0b92c44f59688267561   \n",
              "1   9d89aedf86af6292d4d6fe3774a51c92fb715c4e   \n",
              "2   11bfd22097d9c511621ef17b2c13067dc1cd7352   \n",
              "3   398ece9ff10d90e31c39e0b7625454d81fc19f8d   \n",
              "4   c4fac169f2c9ce65d4647435e1d720ea25554dfe   \n",
              "5   2ea3bb4fb4212f49f1382a938351d3c2e8e0a652   \n",
              "6   cf1f1948b5e55815a11b72c52831275bababaeea   \n",
              "7   4e05f442f98dceb778e7de1f2d0f700241461756   \n",
              "8   2371c02dcd0b562d3dd7cfb13123f7d426cf4810   \n",
              "9   cc67fe89474be6c5ae653843a75d9ed0b343ca52   \n",
              "10  5546dc0575a1e6477db5f4accd1d17184deb405b   \n",
              "11  b64a713676ad771e355fe0cad98121f1cb329d92   \n",
              "12  2970df86fb9706eb1ef066a7120049eb7bb8656e   \n",
              "13  79d8e812eae9ecf647eb1eff72d613dff34b1062   \n",
              "14  ac1db6c2528dd94f07c1ae56b404d73995b5329f   \n",
              "15  d5685a6afd20ea9cd27444fb14a14ed0f2036a63   \n",
              "16  a533e519b553cdf360ae134f7c9f161134ddaf00   \n",
              "17  bffb5a5531aabefe3a9f0eee48963e1dbfc2f5f2   \n",
              "18  a7792c8a467907240ca8cd98fa51cf768311e398   \n",
              "19  fd1c8070be2eaf90ee17bed9094e9bb06eb7bb4e   \n",
              "20  48c621bed18d56770d77b061e01ca33b4548f539   \n",
              "21  fe4f9a92c45af3487323f2f145d2e49594b61f33   \n",
              "22  c33a74c58c05433d6ce418cdfc5a2b2edd5b72dc   \n",
              "23  3a2e8aeaae50f81d1d4fc716969bd2c8e169b9d9   \n",
              "24  36db24ff49d1e53a12af349c465fc32592168b4b   \n",
              "\n",
              "                image_current_relative_file_path  \\\n",
              "0   b713c093a9135539f1fdd0b92c44f59688267561.png   \n",
              "1   9d89aedf86af6292d4d6fe3774a51c92fb715c4e.png   \n",
              "2   11bfd22097d9c511621ef17b2c13067dc1cd7352.png   \n",
              "3   398ece9ff10d90e31c39e0b7625454d81fc19f8d.png   \n",
              "4   c4fac169f2c9ce65d4647435e1d720ea25554dfe.png   \n",
              "5   2ea3bb4fb4212f49f1382a938351d3c2e8e0a652.png   \n",
              "6   cf1f1948b5e55815a11b72c52831275bababaeea.png   \n",
              "7   4e05f442f98dceb778e7de1f2d0f700241461756.png   \n",
              "8   2371c02dcd0b562d3dd7cfb13123f7d426cf4810.png   \n",
              "9   cc67fe89474be6c5ae653843a75d9ed0b343ca52.png   \n",
              "10  5546dc0575a1e6477db5f4accd1d17184deb405b.png   \n",
              "11  b64a713676ad771e355fe0cad98121f1cb329d92.png   \n",
              "12  2970df86fb9706eb1ef066a7120049eb7bb8656e.png   \n",
              "13  79d8e812eae9ecf647eb1eff72d613dff34b1062.png   \n",
              "14  ac1db6c2528dd94f07c1ae56b404d73995b5329f.png   \n",
              "15  d5685a6afd20ea9cd27444fb14a14ed0f2036a63.png   \n",
              "16  a533e519b553cdf360ae134f7c9f161134ddaf00.png   \n",
              "17  bffb5a5531aabefe3a9f0eee48963e1dbfc2f5f2.png   \n",
              "18  a7792c8a467907240ca8cd98fa51cf768311e398.png   \n",
              "19  fd1c8070be2eaf90ee17bed9094e9bb06eb7bb4e.png   \n",
              "20  48c621bed18d56770d77b061e01ca33b4548f539.png   \n",
              "21  fe4f9a92c45af3487323f2f145d2e49594b61f33.png   \n",
              "22  c33a74c58c05433d6ce418cdfc5a2b2edd5b72dc.png   \n",
              "23  3a2e8aeaae50f81d1d4fc716969bd2c8e169b9d9.png   \n",
              "24  36db24ff49d1e53a12af349c465fc32592168b4b.png   \n",
              "\n",
              "                         image_path_within_store object_name category_name  \\\n",
              "0   b713c093a9135539f1fdd0b92c44f59688267561.png       ship2         Boats   \n",
              "1   9d89aedf86af6292d4d6fe3774a51c92fb715c4e.png   airplane2        Planes   \n",
              "2   11bfd22097d9c511621ef17b2c13067dc1cd7352.png   raspberry        Fruits   \n",
              "3   398ece9ff10d90e31c39e0b7625454d81fc19f8d.png      chair4        Chairs   \n",
              "4   c4fac169f2c9ce65d4647435e1d720ea25554dfe.png    elephant       Animals   \n",
              "5   2ea3bb4fb4212f49f1382a938351d3c2e8e0a652.png       face6         Faces   \n",
              "6   cf1f1948b5e55815a11b72c52831275bababaeea.png    car_clio          Cars   \n",
              "7   4e05f442f98dceb778e7de1f2d0f700241461756.png    car_clio          Cars   \n",
              "8   2371c02dcd0b562d3dd7cfb13123f7d426cf4810.png   raspberry        Fruits   \n",
              "9   cc67fe89474be6c5ae653843a75d9ed0b343ca52.png       face1         Faces   \n",
              "10  5546dc0575a1e6477db5f4accd1d17184deb405b.png     gorilla       Animals   \n",
              "11  b64a713676ad771e355fe0cad98121f1cb329d92.png         dog       Animals   \n",
              "12  2970df86fb9706eb1ef066a7120049eb7bb8656e.png       ship3         Boats   \n",
              "13  79d8e812eae9ecf647eb1eff72d613dff34b1062.png       ship5         Boats   \n",
              "14  ac1db6c2528dd94f07c1ae56b404d73995b5329f.png      table5        Tables   \n",
              "15  d5685a6afd20ea9cd27444fb14a14ed0f2036a63.png     lioness       Animals   \n",
              "16  a533e519b553cdf360ae134f7c9f161134ddaf00.png       face0         Faces   \n",
              "17  bffb5a5531aabefe3a9f0eee48963e1dbfc2f5f2.png   airplane4        Planes   \n",
              "18  a7792c8a467907240ca8cd98fa51cf768311e398.png      car_z3          Cars   \n",
              "19  fd1c8070be2eaf90ee17bed9094e9bb06eb7bb4e.png      chair7        Chairs   \n",
              "20  48c621bed18d56770d77b061e01ca33b4548f539.png   airplane6        Planes   \n",
              "21  fe4f9a92c45af3487323f2f145d2e49594b61f33.png   airplane1        Planes   \n",
              "22  c33a74c58c05433d6ce418cdfc5a2b2edd5b72dc.png      chair7        Chairs   \n",
              "23  3a2e8aeaae50f81d1d4fc716969bd2c8e169b9d9.png       apple        Fruits   \n",
              "24  36db24ff49d1e53a12af349c465fc32592168b4b.png   raspberry        Fruits   \n",
              "\n",
              "     size  \n",
              "0   256.0  \n",
              "1   256.0  \n",
              "2   256.0  \n",
              "3   256.0  \n",
              "4   256.0  \n",
              "5   256.0  \n",
              "6   256.0  \n",
              "7   256.0  \n",
              "8   256.0  \n",
              "9   256.0  \n",
              "10  256.0  \n",
              "11  256.0  \n",
              "12  256.0  \n",
              "13  256.0  \n",
              "14  256.0  \n",
              "15  256.0  \n",
              "16  256.0  \n",
              "17  256.0  \n",
              "18  256.0  \n",
              "19  256.0  \n",
              "20  256.0  \n",
              "21  256.0  \n",
              "22  256.0  \n",
              "23  256.0  \n",
              "24  256.0  "
            ],
            "text/html": [
              "<div>\n",
              "<style scoped>\n",
              "    .dataframe tbody tr th:only-of-type {\n",
              "        vertical-align: middle;\n",
              "    }\n",
              "\n",
              "    .dataframe tbody tr th {\n",
              "        vertical-align: top;\n",
              "    }\n",
              "\n",
              "    .dataframe thead th {\n",
              "        text-align: right;\n",
              "    }\n",
              "</style>\n",
              "<table border=\"1\" class=\"dataframe\">\n",
              "  <thead>\n",
              "    <tr style=\"text-align: right;\">\n",
              "      <th></th>\n",
              "      <th>image_id</th>\n",
              "      <th>image_current_relative_file_path</th>\n",
              "      <th>image_path_within_store</th>\n",
              "      <th>object_name</th>\n",
              "      <th>category_name</th>\n",
              "      <th>size</th>\n",
              "    </tr>\n",
              "  </thead>\n",
              "  <tbody>\n",
              "    <tr>\n",
              "      <th>0</th>\n",
              "      <td>b713c093a9135539f1fdd0b92c44f59688267561</td>\n",
              "      <td>b713c093a9135539f1fdd0b92c44f59688267561.png</td>\n",
              "      <td>b713c093a9135539f1fdd0b92c44f59688267561.png</td>\n",
              "      <td>ship2</td>\n",
              "      <td>Boats</td>\n",
              "      <td>256.0</td>\n",
              "    </tr>\n",
              "    <tr>\n",
              "      <th>1</th>\n",
              "      <td>9d89aedf86af6292d4d6fe3774a51c92fb715c4e</td>\n",
              "      <td>9d89aedf86af6292d4d6fe3774a51c92fb715c4e.png</td>\n",
              "      <td>9d89aedf86af6292d4d6fe3774a51c92fb715c4e.png</td>\n",
              "      <td>airplane2</td>\n",
              "      <td>Planes</td>\n",
              "      <td>256.0</td>\n",
              "    </tr>\n",
              "    <tr>\n",
              "      <th>2</th>\n",
              "      <td>11bfd22097d9c511621ef17b2c13067dc1cd7352</td>\n",
              "      <td>11bfd22097d9c511621ef17b2c13067dc1cd7352.png</td>\n",
              "      <td>11bfd22097d9c511621ef17b2c13067dc1cd7352.png</td>\n",
              "      <td>raspberry</td>\n",
              "      <td>Fruits</td>\n",
              "      <td>256.0</td>\n",
              "    </tr>\n",
              "    <tr>\n",
              "      <th>3</th>\n",
              "      <td>398ece9ff10d90e31c39e0b7625454d81fc19f8d</td>\n",
              "      <td>398ece9ff10d90e31c39e0b7625454d81fc19f8d.png</td>\n",
              "      <td>398ece9ff10d90e31c39e0b7625454d81fc19f8d.png</td>\n",
              "      <td>chair4</td>\n",
              "      <td>Chairs</td>\n",
              "      <td>256.0</td>\n",
              "    </tr>\n",
              "    <tr>\n",
              "      <th>4</th>\n",
              "      <td>c4fac169f2c9ce65d4647435e1d720ea25554dfe</td>\n",
              "      <td>c4fac169f2c9ce65d4647435e1d720ea25554dfe.png</td>\n",
              "      <td>c4fac169f2c9ce65d4647435e1d720ea25554dfe.png</td>\n",
              "      <td>elephant</td>\n",
              "      <td>Animals</td>\n",
              "      <td>256.0</td>\n",
              "    </tr>\n",
              "    <tr>\n",
              "      <th>5</th>\n",
              "      <td>2ea3bb4fb4212f49f1382a938351d3c2e8e0a652</td>\n",
              "      <td>2ea3bb4fb4212f49f1382a938351d3c2e8e0a652.png</td>\n",
              "      <td>2ea3bb4fb4212f49f1382a938351d3c2e8e0a652.png</td>\n",
              "      <td>face6</td>\n",
              "      <td>Faces</td>\n",
              "      <td>256.0</td>\n",
              "    </tr>\n",
              "    <tr>\n",
              "      <th>6</th>\n",
              "      <td>cf1f1948b5e55815a11b72c52831275bababaeea</td>\n",
              "      <td>cf1f1948b5e55815a11b72c52831275bababaeea.png</td>\n",
              "      <td>cf1f1948b5e55815a11b72c52831275bababaeea.png</td>\n",
              "      <td>car_clio</td>\n",
              "      <td>Cars</td>\n",
              "      <td>256.0</td>\n",
              "    </tr>\n",
              "    <tr>\n",
              "      <th>7</th>\n",
              "      <td>4e05f442f98dceb778e7de1f2d0f700241461756</td>\n",
              "      <td>4e05f442f98dceb778e7de1f2d0f700241461756.png</td>\n",
              "      <td>4e05f442f98dceb778e7de1f2d0f700241461756.png</td>\n",
              "      <td>car_clio</td>\n",
              "      <td>Cars</td>\n",
              "      <td>256.0</td>\n",
              "    </tr>\n",
              "    <tr>\n",
              "      <th>8</th>\n",
              "      <td>2371c02dcd0b562d3dd7cfb13123f7d426cf4810</td>\n",
              "      <td>2371c02dcd0b562d3dd7cfb13123f7d426cf4810.png</td>\n",
              "      <td>2371c02dcd0b562d3dd7cfb13123f7d426cf4810.png</td>\n",
              "      <td>raspberry</td>\n",
              "      <td>Fruits</td>\n",
              "      <td>256.0</td>\n",
              "    </tr>\n",
              "    <tr>\n",
              "      <th>9</th>\n",
              "      <td>cc67fe89474be6c5ae653843a75d9ed0b343ca52</td>\n",
              "      <td>cc67fe89474be6c5ae653843a75d9ed0b343ca52.png</td>\n",
              "      <td>cc67fe89474be6c5ae653843a75d9ed0b343ca52.png</td>\n",
              "      <td>face1</td>\n",
              "      <td>Faces</td>\n",
              "      <td>256.0</td>\n",
              "    </tr>\n",
              "    <tr>\n",
              "      <th>10</th>\n",
              "      <td>5546dc0575a1e6477db5f4accd1d17184deb405b</td>\n",
              "      <td>5546dc0575a1e6477db5f4accd1d17184deb405b.png</td>\n",
              "      <td>5546dc0575a1e6477db5f4accd1d17184deb405b.png</td>\n",
              "      <td>gorilla</td>\n",
              "      <td>Animals</td>\n",
              "      <td>256.0</td>\n",
              "    </tr>\n",
              "    <tr>\n",
              "      <th>11</th>\n",
              "      <td>b64a713676ad771e355fe0cad98121f1cb329d92</td>\n",
              "      <td>b64a713676ad771e355fe0cad98121f1cb329d92.png</td>\n",
              "      <td>b64a713676ad771e355fe0cad98121f1cb329d92.png</td>\n",
              "      <td>dog</td>\n",
              "      <td>Animals</td>\n",
              "      <td>256.0</td>\n",
              "    </tr>\n",
              "    <tr>\n",
              "      <th>12</th>\n",
              "      <td>2970df86fb9706eb1ef066a7120049eb7bb8656e</td>\n",
              "      <td>2970df86fb9706eb1ef066a7120049eb7bb8656e.png</td>\n",
              "      <td>2970df86fb9706eb1ef066a7120049eb7bb8656e.png</td>\n",
              "      <td>ship3</td>\n",
              "      <td>Boats</td>\n",
              "      <td>256.0</td>\n",
              "    </tr>\n",
              "    <tr>\n",
              "      <th>13</th>\n",
              "      <td>79d8e812eae9ecf647eb1eff72d613dff34b1062</td>\n",
              "      <td>79d8e812eae9ecf647eb1eff72d613dff34b1062.png</td>\n",
              "      <td>79d8e812eae9ecf647eb1eff72d613dff34b1062.png</td>\n",
              "      <td>ship5</td>\n",
              "      <td>Boats</td>\n",
              "      <td>256.0</td>\n",
              "    </tr>\n",
              "    <tr>\n",
              "      <th>14</th>\n",
              "      <td>ac1db6c2528dd94f07c1ae56b404d73995b5329f</td>\n",
              "      <td>ac1db6c2528dd94f07c1ae56b404d73995b5329f.png</td>\n",
              "      <td>ac1db6c2528dd94f07c1ae56b404d73995b5329f.png</td>\n",
              "      <td>table5</td>\n",
              "      <td>Tables</td>\n",
              "      <td>256.0</td>\n",
              "    </tr>\n",
              "    <tr>\n",
              "      <th>15</th>\n",
              "      <td>d5685a6afd20ea9cd27444fb14a14ed0f2036a63</td>\n",
              "      <td>d5685a6afd20ea9cd27444fb14a14ed0f2036a63.png</td>\n",
              "      <td>d5685a6afd20ea9cd27444fb14a14ed0f2036a63.png</td>\n",
              "      <td>lioness</td>\n",
              "      <td>Animals</td>\n",
              "      <td>256.0</td>\n",
              "    </tr>\n",
              "    <tr>\n",
              "      <th>16</th>\n",
              "      <td>a533e519b553cdf360ae134f7c9f161134ddaf00</td>\n",
              "      <td>a533e519b553cdf360ae134f7c9f161134ddaf00.png</td>\n",
              "      <td>a533e519b553cdf360ae134f7c9f161134ddaf00.png</td>\n",
              "      <td>face0</td>\n",
              "      <td>Faces</td>\n",
              "      <td>256.0</td>\n",
              "    </tr>\n",
              "    <tr>\n",
              "      <th>17</th>\n",
              "      <td>bffb5a5531aabefe3a9f0eee48963e1dbfc2f5f2</td>\n",
              "      <td>bffb5a5531aabefe3a9f0eee48963e1dbfc2f5f2.png</td>\n",
              "      <td>bffb5a5531aabefe3a9f0eee48963e1dbfc2f5f2.png</td>\n",
              "      <td>airplane4</td>\n",
              "      <td>Planes</td>\n",
              "      <td>256.0</td>\n",
              "    </tr>\n",
              "    <tr>\n",
              "      <th>18</th>\n",
              "      <td>a7792c8a467907240ca8cd98fa51cf768311e398</td>\n",
              "      <td>a7792c8a467907240ca8cd98fa51cf768311e398.png</td>\n",
              "      <td>a7792c8a467907240ca8cd98fa51cf768311e398.png</td>\n",
              "      <td>car_z3</td>\n",
              "      <td>Cars</td>\n",
              "      <td>256.0</td>\n",
              "    </tr>\n",
              "    <tr>\n",
              "      <th>19</th>\n",
              "      <td>fd1c8070be2eaf90ee17bed9094e9bb06eb7bb4e</td>\n",
              "      <td>fd1c8070be2eaf90ee17bed9094e9bb06eb7bb4e.png</td>\n",
              "      <td>fd1c8070be2eaf90ee17bed9094e9bb06eb7bb4e.png</td>\n",
              "      <td>chair7</td>\n",
              "      <td>Chairs</td>\n",
              "      <td>256.0</td>\n",
              "    </tr>\n",
              "    <tr>\n",
              "      <th>20</th>\n",
              "      <td>48c621bed18d56770d77b061e01ca33b4548f539</td>\n",
              "      <td>48c621bed18d56770d77b061e01ca33b4548f539.png</td>\n",
              "      <td>48c621bed18d56770d77b061e01ca33b4548f539.png</td>\n",
              "      <td>airplane6</td>\n",
              "      <td>Planes</td>\n",
              "      <td>256.0</td>\n",
              "    </tr>\n",
              "    <tr>\n",
              "      <th>21</th>\n",
              "      <td>fe4f9a92c45af3487323f2f145d2e49594b61f33</td>\n",
              "      <td>fe4f9a92c45af3487323f2f145d2e49594b61f33.png</td>\n",
              "      <td>fe4f9a92c45af3487323f2f145d2e49594b61f33.png</td>\n",
              "      <td>airplane1</td>\n",
              "      <td>Planes</td>\n",
              "      <td>256.0</td>\n",
              "    </tr>\n",
              "    <tr>\n",
              "      <th>22</th>\n",
              "      <td>c33a74c58c05433d6ce418cdfc5a2b2edd5b72dc</td>\n",
              "      <td>c33a74c58c05433d6ce418cdfc5a2b2edd5b72dc.png</td>\n",
              "      <td>c33a74c58c05433d6ce418cdfc5a2b2edd5b72dc.png</td>\n",
              "      <td>chair7</td>\n",
              "      <td>Chairs</td>\n",
              "      <td>256.0</td>\n",
              "    </tr>\n",
              "    <tr>\n",
              "      <th>23</th>\n",
              "      <td>3a2e8aeaae50f81d1d4fc716969bd2c8e169b9d9</td>\n",
              "      <td>3a2e8aeaae50f81d1d4fc716969bd2c8e169b9d9.png</td>\n",
              "      <td>3a2e8aeaae50f81d1d4fc716969bd2c8e169b9d9.png</td>\n",
              "      <td>apple</td>\n",
              "      <td>Fruits</td>\n",
              "      <td>256.0</td>\n",
              "    </tr>\n",
              "    <tr>\n",
              "      <th>24</th>\n",
              "      <td>36db24ff49d1e53a12af349c465fc32592168b4b</td>\n",
              "      <td>36db24ff49d1e53a12af349c465fc32592168b4b.png</td>\n",
              "      <td>36db24ff49d1e53a12af349c465fc32592168b4b.png</td>\n",
              "      <td>raspberry</td>\n",
              "      <td>Fruits</td>\n",
              "      <td>256.0</td>\n",
              "    </tr>\n",
              "  </tbody>\n",
              "</table>\n",
              "</div>"
            ]
          },
          "metadata": {}
        }
      ],
      "execution_count": 9,
      "metadata": {
        "collapsed": false,
        "outputHidden": false,
        "inputHidden": false
      }
    },
    {
      "cell_type": "code",
      "source": [
        "proto[\"image_current_local_file_path\"] = [os.path.join(target_dir, f) for f in proto[\"image_current_relative_file_path\"]]\n",
        "proto"
      ],
      "outputs": [
        {
          "output_type": "execute_result",
          "execution_count": 10,
          "data": {
            "text/plain": [
              "                                    image_id  \\\n",
              "0   b713c093a9135539f1fdd0b92c44f59688267561   \n",
              "1   9d89aedf86af6292d4d6fe3774a51c92fb715c4e   \n",
              "2   11bfd22097d9c511621ef17b2c13067dc1cd7352   \n",
              "3   398ece9ff10d90e31c39e0b7625454d81fc19f8d   \n",
              "4   c4fac169f2c9ce65d4647435e1d720ea25554dfe   \n",
              "5   2ea3bb4fb4212f49f1382a938351d3c2e8e0a652   \n",
              "6   cf1f1948b5e55815a11b72c52831275bababaeea   \n",
              "7   4e05f442f98dceb778e7de1f2d0f700241461756   \n",
              "8   2371c02dcd0b562d3dd7cfb13123f7d426cf4810   \n",
              "9   cc67fe89474be6c5ae653843a75d9ed0b343ca52   \n",
              "10  5546dc0575a1e6477db5f4accd1d17184deb405b   \n",
              "11  b64a713676ad771e355fe0cad98121f1cb329d92   \n",
              "12  2970df86fb9706eb1ef066a7120049eb7bb8656e   \n",
              "13  79d8e812eae9ecf647eb1eff72d613dff34b1062   \n",
              "14  ac1db6c2528dd94f07c1ae56b404d73995b5329f   \n",
              "15  d5685a6afd20ea9cd27444fb14a14ed0f2036a63   \n",
              "16  a533e519b553cdf360ae134f7c9f161134ddaf00   \n",
              "17  bffb5a5531aabefe3a9f0eee48963e1dbfc2f5f2   \n",
              "18  a7792c8a467907240ca8cd98fa51cf768311e398   \n",
              "19  fd1c8070be2eaf90ee17bed9094e9bb06eb7bb4e   \n",
              "20  48c621bed18d56770d77b061e01ca33b4548f539   \n",
              "21  fe4f9a92c45af3487323f2f145d2e49594b61f33   \n",
              "22  c33a74c58c05433d6ce418cdfc5a2b2edd5b72dc   \n",
              "23  3a2e8aeaae50f81d1d4fc716969bd2c8e169b9d9   \n",
              "24  36db24ff49d1e53a12af349c465fc32592168b4b   \n",
              "\n",
              "                image_current_relative_file_path  \\\n",
              "0   b713c093a9135539f1fdd0b92c44f59688267561.png   \n",
              "1   9d89aedf86af6292d4d6fe3774a51c92fb715c4e.png   \n",
              "2   11bfd22097d9c511621ef17b2c13067dc1cd7352.png   \n",
              "3   398ece9ff10d90e31c39e0b7625454d81fc19f8d.png   \n",
              "4   c4fac169f2c9ce65d4647435e1d720ea25554dfe.png   \n",
              "5   2ea3bb4fb4212f49f1382a938351d3c2e8e0a652.png   \n",
              "6   cf1f1948b5e55815a11b72c52831275bababaeea.png   \n",
              "7   4e05f442f98dceb778e7de1f2d0f700241461756.png   \n",
              "8   2371c02dcd0b562d3dd7cfb13123f7d426cf4810.png   \n",
              "9   cc67fe89474be6c5ae653843a75d9ed0b343ca52.png   \n",
              "10  5546dc0575a1e6477db5f4accd1d17184deb405b.png   \n",
              "11  b64a713676ad771e355fe0cad98121f1cb329d92.png   \n",
              "12  2970df86fb9706eb1ef066a7120049eb7bb8656e.png   \n",
              "13  79d8e812eae9ecf647eb1eff72d613dff34b1062.png   \n",
              "14  ac1db6c2528dd94f07c1ae56b404d73995b5329f.png   \n",
              "15  d5685a6afd20ea9cd27444fb14a14ed0f2036a63.png   \n",
              "16  a533e519b553cdf360ae134f7c9f161134ddaf00.png   \n",
              "17  bffb5a5531aabefe3a9f0eee48963e1dbfc2f5f2.png   \n",
              "18  a7792c8a467907240ca8cd98fa51cf768311e398.png   \n",
              "19  fd1c8070be2eaf90ee17bed9094e9bb06eb7bb4e.png   \n",
              "20  48c621bed18d56770d77b061e01ca33b4548f539.png   \n",
              "21  fe4f9a92c45af3487323f2f145d2e49594b61f33.png   \n",
              "22  c33a74c58c05433d6ce418cdfc5a2b2edd5b72dc.png   \n",
              "23  3a2e8aeaae50f81d1d4fc716969bd2c8e169b9d9.png   \n",
              "24  36db24ff49d1e53a12af349c465fc32592168b4b.png   \n",
              "\n",
              "                         image_path_within_store object_name category_name  \\\n",
              "0   b713c093a9135539f1fdd0b92c44f59688267561.png       ship2         Boats   \n",
              "1   9d89aedf86af6292d4d6fe3774a51c92fb715c4e.png   airplane2        Planes   \n",
              "2   11bfd22097d9c511621ef17b2c13067dc1cd7352.png   raspberry        Fruits   \n",
              "3   398ece9ff10d90e31c39e0b7625454d81fc19f8d.png      chair4        Chairs   \n",
              "4   c4fac169f2c9ce65d4647435e1d720ea25554dfe.png    elephant       Animals   \n",
              "5   2ea3bb4fb4212f49f1382a938351d3c2e8e0a652.png       face6         Faces   \n",
              "6   cf1f1948b5e55815a11b72c52831275bababaeea.png    car_clio          Cars   \n",
              "7   4e05f442f98dceb778e7de1f2d0f700241461756.png    car_clio          Cars   \n",
              "8   2371c02dcd0b562d3dd7cfb13123f7d426cf4810.png   raspberry        Fruits   \n",
              "9   cc67fe89474be6c5ae653843a75d9ed0b343ca52.png       face1         Faces   \n",
              "10  5546dc0575a1e6477db5f4accd1d17184deb405b.png     gorilla       Animals   \n",
              "11  b64a713676ad771e355fe0cad98121f1cb329d92.png         dog       Animals   \n",
              "12  2970df86fb9706eb1ef066a7120049eb7bb8656e.png       ship3         Boats   \n",
              "13  79d8e812eae9ecf647eb1eff72d613dff34b1062.png       ship5         Boats   \n",
              "14  ac1db6c2528dd94f07c1ae56b404d73995b5329f.png      table5        Tables   \n",
              "15  d5685a6afd20ea9cd27444fb14a14ed0f2036a63.png     lioness       Animals   \n",
              "16  a533e519b553cdf360ae134f7c9f161134ddaf00.png       face0         Faces   \n",
              "17  bffb5a5531aabefe3a9f0eee48963e1dbfc2f5f2.png   airplane4        Planes   \n",
              "18  a7792c8a467907240ca8cd98fa51cf768311e398.png      car_z3          Cars   \n",
              "19  fd1c8070be2eaf90ee17bed9094e9bb06eb7bb4e.png      chair7        Chairs   \n",
              "20  48c621bed18d56770d77b061e01ca33b4548f539.png   airplane6        Planes   \n",
              "21  fe4f9a92c45af3487323f2f145d2e49594b61f33.png   airplane1        Planes   \n",
              "22  c33a74c58c05433d6ce418cdfc5a2b2edd5b72dc.png      chair7        Chairs   \n",
              "23  3a2e8aeaae50f81d1d4fc716969bd2c8e169b9d9.png       apple        Fruits   \n",
              "24  36db24ff49d1e53a12af349c465fc32592168b4b.png   raspberry        Fruits   \n",
              "\n",
              "     size                      image_current_local_file_path  \n",
              "0   256.0  /Users/jjpr/dev/brainio_contrib/tests/images/b...  \n",
              "1   256.0  /Users/jjpr/dev/brainio_contrib/tests/images/9...  \n",
              "2   256.0  /Users/jjpr/dev/brainio_contrib/tests/images/1...  \n",
              "3   256.0  /Users/jjpr/dev/brainio_contrib/tests/images/3...  \n",
              "4   256.0  /Users/jjpr/dev/brainio_contrib/tests/images/c...  \n",
              "5   256.0  /Users/jjpr/dev/brainio_contrib/tests/images/2...  \n",
              "6   256.0  /Users/jjpr/dev/brainio_contrib/tests/images/c...  \n",
              "7   256.0  /Users/jjpr/dev/brainio_contrib/tests/images/4...  \n",
              "8   256.0  /Users/jjpr/dev/brainio_contrib/tests/images/2...  \n",
              "9   256.0  /Users/jjpr/dev/brainio_contrib/tests/images/c...  \n",
              "10  256.0  /Users/jjpr/dev/brainio_contrib/tests/images/5...  \n",
              "11  256.0  /Users/jjpr/dev/brainio_contrib/tests/images/b...  \n",
              "12  256.0  /Users/jjpr/dev/brainio_contrib/tests/images/2...  \n",
              "13  256.0  /Users/jjpr/dev/brainio_contrib/tests/images/7...  \n",
              "14  256.0  /Users/jjpr/dev/brainio_contrib/tests/images/a...  \n",
              "15  256.0  /Users/jjpr/dev/brainio_contrib/tests/images/d...  \n",
              "16  256.0  /Users/jjpr/dev/brainio_contrib/tests/images/a...  \n",
              "17  256.0  /Users/jjpr/dev/brainio_contrib/tests/images/b...  \n",
              "18  256.0  /Users/jjpr/dev/brainio_contrib/tests/images/a...  \n",
              "19  256.0  /Users/jjpr/dev/brainio_contrib/tests/images/f...  \n",
              "20  256.0  /Users/jjpr/dev/brainio_contrib/tests/images/4...  \n",
              "21  256.0  /Users/jjpr/dev/brainio_contrib/tests/images/f...  \n",
              "22  256.0  /Users/jjpr/dev/brainio_contrib/tests/images/c...  \n",
              "23  256.0  /Users/jjpr/dev/brainio_contrib/tests/images/3...  \n",
              "24  256.0  /Users/jjpr/dev/brainio_contrib/tests/images/3...  "
            ],
            "text/html": [
              "<div>\n",
              "<style scoped>\n",
              "    .dataframe tbody tr th:only-of-type {\n",
              "        vertical-align: middle;\n",
              "    }\n",
              "\n",
              "    .dataframe tbody tr th {\n",
              "        vertical-align: top;\n",
              "    }\n",
              "\n",
              "    .dataframe thead th {\n",
              "        text-align: right;\n",
              "    }\n",
              "</style>\n",
              "<table border=\"1\" class=\"dataframe\">\n",
              "  <thead>\n",
              "    <tr style=\"text-align: right;\">\n",
              "      <th></th>\n",
              "      <th>image_id</th>\n",
              "      <th>image_current_relative_file_path</th>\n",
              "      <th>image_path_within_store</th>\n",
              "      <th>object_name</th>\n",
              "      <th>category_name</th>\n",
              "      <th>size</th>\n",
              "      <th>image_current_local_file_path</th>\n",
              "    </tr>\n",
              "  </thead>\n",
              "  <tbody>\n",
              "    <tr>\n",
              "      <th>0</th>\n",
              "      <td>b713c093a9135539f1fdd0b92c44f59688267561</td>\n",
              "      <td>b713c093a9135539f1fdd0b92c44f59688267561.png</td>\n",
              "      <td>b713c093a9135539f1fdd0b92c44f59688267561.png</td>\n",
              "      <td>ship2</td>\n",
              "      <td>Boats</td>\n",
              "      <td>256.0</td>\n",
              "      <td>/Users/jjpr/dev/brainio_contrib/tests/images/b...</td>\n",
              "    </tr>\n",
              "    <tr>\n",
              "      <th>1</th>\n",
              "      <td>9d89aedf86af6292d4d6fe3774a51c92fb715c4e</td>\n",
              "      <td>9d89aedf86af6292d4d6fe3774a51c92fb715c4e.png</td>\n",
              "      <td>9d89aedf86af6292d4d6fe3774a51c92fb715c4e.png</td>\n",
              "      <td>airplane2</td>\n",
              "      <td>Planes</td>\n",
              "      <td>256.0</td>\n",
              "      <td>/Users/jjpr/dev/brainio_contrib/tests/images/9...</td>\n",
              "    </tr>\n",
              "    <tr>\n",
              "      <th>2</th>\n",
              "      <td>11bfd22097d9c511621ef17b2c13067dc1cd7352</td>\n",
              "      <td>11bfd22097d9c511621ef17b2c13067dc1cd7352.png</td>\n",
              "      <td>11bfd22097d9c511621ef17b2c13067dc1cd7352.png</td>\n",
              "      <td>raspberry</td>\n",
              "      <td>Fruits</td>\n",
              "      <td>256.0</td>\n",
              "      <td>/Users/jjpr/dev/brainio_contrib/tests/images/1...</td>\n",
              "    </tr>\n",
              "    <tr>\n",
              "      <th>3</th>\n",
              "      <td>398ece9ff10d90e31c39e0b7625454d81fc19f8d</td>\n",
              "      <td>398ece9ff10d90e31c39e0b7625454d81fc19f8d.png</td>\n",
              "      <td>398ece9ff10d90e31c39e0b7625454d81fc19f8d.png</td>\n",
              "      <td>chair4</td>\n",
              "      <td>Chairs</td>\n",
              "      <td>256.0</td>\n",
              "      <td>/Users/jjpr/dev/brainio_contrib/tests/images/3...</td>\n",
              "    </tr>\n",
              "    <tr>\n",
              "      <th>4</th>\n",
              "      <td>c4fac169f2c9ce65d4647435e1d720ea25554dfe</td>\n",
              "      <td>c4fac169f2c9ce65d4647435e1d720ea25554dfe.png</td>\n",
              "      <td>c4fac169f2c9ce65d4647435e1d720ea25554dfe.png</td>\n",
              "      <td>elephant</td>\n",
              "      <td>Animals</td>\n",
              "      <td>256.0</td>\n",
              "      <td>/Users/jjpr/dev/brainio_contrib/tests/images/c...</td>\n",
              "    </tr>\n",
              "    <tr>\n",
              "      <th>5</th>\n",
              "      <td>2ea3bb4fb4212f49f1382a938351d3c2e8e0a652</td>\n",
              "      <td>2ea3bb4fb4212f49f1382a938351d3c2e8e0a652.png</td>\n",
              "      <td>2ea3bb4fb4212f49f1382a938351d3c2e8e0a652.png</td>\n",
              "      <td>face6</td>\n",
              "      <td>Faces</td>\n",
              "      <td>256.0</td>\n",
              "      <td>/Users/jjpr/dev/brainio_contrib/tests/images/2...</td>\n",
              "    </tr>\n",
              "    <tr>\n",
              "      <th>6</th>\n",
              "      <td>cf1f1948b5e55815a11b72c52831275bababaeea</td>\n",
              "      <td>cf1f1948b5e55815a11b72c52831275bababaeea.png</td>\n",
              "      <td>cf1f1948b5e55815a11b72c52831275bababaeea.png</td>\n",
              "      <td>car_clio</td>\n",
              "      <td>Cars</td>\n",
              "      <td>256.0</td>\n",
              "      <td>/Users/jjpr/dev/brainio_contrib/tests/images/c...</td>\n",
              "    </tr>\n",
              "    <tr>\n",
              "      <th>7</th>\n",
              "      <td>4e05f442f98dceb778e7de1f2d0f700241461756</td>\n",
              "      <td>4e05f442f98dceb778e7de1f2d0f700241461756.png</td>\n",
              "      <td>4e05f442f98dceb778e7de1f2d0f700241461756.png</td>\n",
              "      <td>car_clio</td>\n",
              "      <td>Cars</td>\n",
              "      <td>256.0</td>\n",
              "      <td>/Users/jjpr/dev/brainio_contrib/tests/images/4...</td>\n",
              "    </tr>\n",
              "    <tr>\n",
              "      <th>8</th>\n",
              "      <td>2371c02dcd0b562d3dd7cfb13123f7d426cf4810</td>\n",
              "      <td>2371c02dcd0b562d3dd7cfb13123f7d426cf4810.png</td>\n",
              "      <td>2371c02dcd0b562d3dd7cfb13123f7d426cf4810.png</td>\n",
              "      <td>raspberry</td>\n",
              "      <td>Fruits</td>\n",
              "      <td>256.0</td>\n",
              "      <td>/Users/jjpr/dev/brainio_contrib/tests/images/2...</td>\n",
              "    </tr>\n",
              "    <tr>\n",
              "      <th>9</th>\n",
              "      <td>cc67fe89474be6c5ae653843a75d9ed0b343ca52</td>\n",
              "      <td>cc67fe89474be6c5ae653843a75d9ed0b343ca52.png</td>\n",
              "      <td>cc67fe89474be6c5ae653843a75d9ed0b343ca52.png</td>\n",
              "      <td>face1</td>\n",
              "      <td>Faces</td>\n",
              "      <td>256.0</td>\n",
              "      <td>/Users/jjpr/dev/brainio_contrib/tests/images/c...</td>\n",
              "    </tr>\n",
              "    <tr>\n",
              "      <th>10</th>\n",
              "      <td>5546dc0575a1e6477db5f4accd1d17184deb405b</td>\n",
              "      <td>5546dc0575a1e6477db5f4accd1d17184deb405b.png</td>\n",
              "      <td>5546dc0575a1e6477db5f4accd1d17184deb405b.png</td>\n",
              "      <td>gorilla</td>\n",
              "      <td>Animals</td>\n",
              "      <td>256.0</td>\n",
              "      <td>/Users/jjpr/dev/brainio_contrib/tests/images/5...</td>\n",
              "    </tr>\n",
              "    <tr>\n",
              "      <th>11</th>\n",
              "      <td>b64a713676ad771e355fe0cad98121f1cb329d92</td>\n",
              "      <td>b64a713676ad771e355fe0cad98121f1cb329d92.png</td>\n",
              "      <td>b64a713676ad771e355fe0cad98121f1cb329d92.png</td>\n",
              "      <td>dog</td>\n",
              "      <td>Animals</td>\n",
              "      <td>256.0</td>\n",
              "      <td>/Users/jjpr/dev/brainio_contrib/tests/images/b...</td>\n",
              "    </tr>\n",
              "    <tr>\n",
              "      <th>12</th>\n",
              "      <td>2970df86fb9706eb1ef066a7120049eb7bb8656e</td>\n",
              "      <td>2970df86fb9706eb1ef066a7120049eb7bb8656e.png</td>\n",
              "      <td>2970df86fb9706eb1ef066a7120049eb7bb8656e.png</td>\n",
              "      <td>ship3</td>\n",
              "      <td>Boats</td>\n",
              "      <td>256.0</td>\n",
              "      <td>/Users/jjpr/dev/brainio_contrib/tests/images/2...</td>\n",
              "    </tr>\n",
              "    <tr>\n",
              "      <th>13</th>\n",
              "      <td>79d8e812eae9ecf647eb1eff72d613dff34b1062</td>\n",
              "      <td>79d8e812eae9ecf647eb1eff72d613dff34b1062.png</td>\n",
              "      <td>79d8e812eae9ecf647eb1eff72d613dff34b1062.png</td>\n",
              "      <td>ship5</td>\n",
              "      <td>Boats</td>\n",
              "      <td>256.0</td>\n",
              "      <td>/Users/jjpr/dev/brainio_contrib/tests/images/7...</td>\n",
              "    </tr>\n",
              "    <tr>\n",
              "      <th>14</th>\n",
              "      <td>ac1db6c2528dd94f07c1ae56b404d73995b5329f</td>\n",
              "      <td>ac1db6c2528dd94f07c1ae56b404d73995b5329f.png</td>\n",
              "      <td>ac1db6c2528dd94f07c1ae56b404d73995b5329f.png</td>\n",
              "      <td>table5</td>\n",
              "      <td>Tables</td>\n",
              "      <td>256.0</td>\n",
              "      <td>/Users/jjpr/dev/brainio_contrib/tests/images/a...</td>\n",
              "    </tr>\n",
              "    <tr>\n",
              "      <th>15</th>\n",
              "      <td>d5685a6afd20ea9cd27444fb14a14ed0f2036a63</td>\n",
              "      <td>d5685a6afd20ea9cd27444fb14a14ed0f2036a63.png</td>\n",
              "      <td>d5685a6afd20ea9cd27444fb14a14ed0f2036a63.png</td>\n",
              "      <td>lioness</td>\n",
              "      <td>Animals</td>\n",
              "      <td>256.0</td>\n",
              "      <td>/Users/jjpr/dev/brainio_contrib/tests/images/d...</td>\n",
              "    </tr>\n",
              "    <tr>\n",
              "      <th>16</th>\n",
              "      <td>a533e519b553cdf360ae134f7c9f161134ddaf00</td>\n",
              "      <td>a533e519b553cdf360ae134f7c9f161134ddaf00.png</td>\n",
              "      <td>a533e519b553cdf360ae134f7c9f161134ddaf00.png</td>\n",
              "      <td>face0</td>\n",
              "      <td>Faces</td>\n",
              "      <td>256.0</td>\n",
              "      <td>/Users/jjpr/dev/brainio_contrib/tests/images/a...</td>\n",
              "    </tr>\n",
              "    <tr>\n",
              "      <th>17</th>\n",
              "      <td>bffb5a5531aabefe3a9f0eee48963e1dbfc2f5f2</td>\n",
              "      <td>bffb5a5531aabefe3a9f0eee48963e1dbfc2f5f2.png</td>\n",
              "      <td>bffb5a5531aabefe3a9f0eee48963e1dbfc2f5f2.png</td>\n",
              "      <td>airplane4</td>\n",
              "      <td>Planes</td>\n",
              "      <td>256.0</td>\n",
              "      <td>/Users/jjpr/dev/brainio_contrib/tests/images/b...</td>\n",
              "    </tr>\n",
              "    <tr>\n",
              "      <th>18</th>\n",
              "      <td>a7792c8a467907240ca8cd98fa51cf768311e398</td>\n",
              "      <td>a7792c8a467907240ca8cd98fa51cf768311e398.png</td>\n",
              "      <td>a7792c8a467907240ca8cd98fa51cf768311e398.png</td>\n",
              "      <td>car_z3</td>\n",
              "      <td>Cars</td>\n",
              "      <td>256.0</td>\n",
              "      <td>/Users/jjpr/dev/brainio_contrib/tests/images/a...</td>\n",
              "    </tr>\n",
              "    <tr>\n",
              "      <th>19</th>\n",
              "      <td>fd1c8070be2eaf90ee17bed9094e9bb06eb7bb4e</td>\n",
              "      <td>fd1c8070be2eaf90ee17bed9094e9bb06eb7bb4e.png</td>\n",
              "      <td>fd1c8070be2eaf90ee17bed9094e9bb06eb7bb4e.png</td>\n",
              "      <td>chair7</td>\n",
              "      <td>Chairs</td>\n",
              "      <td>256.0</td>\n",
              "      <td>/Users/jjpr/dev/brainio_contrib/tests/images/f...</td>\n",
              "    </tr>\n",
              "    <tr>\n",
              "      <th>20</th>\n",
              "      <td>48c621bed18d56770d77b061e01ca33b4548f539</td>\n",
              "      <td>48c621bed18d56770d77b061e01ca33b4548f539.png</td>\n",
              "      <td>48c621bed18d56770d77b061e01ca33b4548f539.png</td>\n",
              "      <td>airplane6</td>\n",
              "      <td>Planes</td>\n",
              "      <td>256.0</td>\n",
              "      <td>/Users/jjpr/dev/brainio_contrib/tests/images/4...</td>\n",
              "    </tr>\n",
              "    <tr>\n",
              "      <th>21</th>\n",
              "      <td>fe4f9a92c45af3487323f2f145d2e49594b61f33</td>\n",
              "      <td>fe4f9a92c45af3487323f2f145d2e49594b61f33.png</td>\n",
              "      <td>fe4f9a92c45af3487323f2f145d2e49594b61f33.png</td>\n",
              "      <td>airplane1</td>\n",
              "      <td>Planes</td>\n",
              "      <td>256.0</td>\n",
              "      <td>/Users/jjpr/dev/brainio_contrib/tests/images/f...</td>\n",
              "    </tr>\n",
              "    <tr>\n",
              "      <th>22</th>\n",
              "      <td>c33a74c58c05433d6ce418cdfc5a2b2edd5b72dc</td>\n",
              "      <td>c33a74c58c05433d6ce418cdfc5a2b2edd5b72dc.png</td>\n",
              "      <td>c33a74c58c05433d6ce418cdfc5a2b2edd5b72dc.png</td>\n",
              "      <td>chair7</td>\n",
              "      <td>Chairs</td>\n",
              "      <td>256.0</td>\n",
              "      <td>/Users/jjpr/dev/brainio_contrib/tests/images/c...</td>\n",
              "    </tr>\n",
              "    <tr>\n",
              "      <th>23</th>\n",
              "      <td>3a2e8aeaae50f81d1d4fc716969bd2c8e169b9d9</td>\n",
              "      <td>3a2e8aeaae50f81d1d4fc716969bd2c8e169b9d9.png</td>\n",
              "      <td>3a2e8aeaae50f81d1d4fc716969bd2c8e169b9d9.png</td>\n",
              "      <td>apple</td>\n",
              "      <td>Fruits</td>\n",
              "      <td>256.0</td>\n",
              "      <td>/Users/jjpr/dev/brainio_contrib/tests/images/3...</td>\n",
              "    </tr>\n",
              "    <tr>\n",
              "      <th>24</th>\n",
              "      <td>36db24ff49d1e53a12af349c465fc32592168b4b</td>\n",
              "      <td>36db24ff49d1e53a12af349c465fc32592168b4b.png</td>\n",
              "      <td>36db24ff49d1e53a12af349c465fc32592168b4b.png</td>\n",
              "      <td>raspberry</td>\n",
              "      <td>Fruits</td>\n",
              "      <td>256.0</td>\n",
              "      <td>/Users/jjpr/dev/brainio_contrib/tests/images/3...</td>\n",
              "    </tr>\n",
              "  </tbody>\n",
              "</table>\n",
              "</div>"
            ]
          },
          "metadata": {}
        }
      ],
      "execution_count": 10,
      "metadata": {
        "collapsed": false,
        "outputHidden": false,
        "inputHidden": false
      }
    },
    {
      "cell_type": "code",
      "source": [
        "del proto[\"image_current_relative_file_path\"]\n",
        "proto"
      ],
      "outputs": [],
      "execution_count": null,
      "metadata": {
        "collapsed": false,
        "outputHidden": false,
        "inputHidden": false
      }
    },
    {
      "cell_type": "code",
      "source": [
        "proto.columns"
      ],
      "outputs": [],
      "execution_count": null,
      "metadata": {
        "collapsed": false,
        "outputHidden": false,
        "inputHidden": false
      }
    },
    {
      "cell_type": "code",
      "source": [
        "[x for x in proto]"
      ],
      "outputs": [],
      "execution_count": null,
      "metadata": {
        "collapsed": false,
        "outputHidden": false,
        "inputHidden": false
      }
    },
    {
      "cell_type": "code",
      "source": [
        "assy_hvm = brainio_collection.get_assembly(\"dicarlo.Majaj2015\")\n",
        "assy_hvm"
      ],
      "outputs": [
        {
          "output_type": "stream",
          "name": "stderr",
          "text": [
            "/Users/jjpr/dev/brainio_base/brainio_base/assemblies.py:213: FutureWarning: The inplace argument has been deprecated and will be removed in xarray 0.12.0.\n",
            "  xr_data.set_index(append=True, inplace=True, **coords_d)\n",
            "/Users/jjpr/anaconda/envs/brainio/lib/python3.7/site-packages/xarray/core/dataset.py:167: FutureWarning: the 'labels' keyword is deprecated, use 'codes' instead\n",
            "  idx = pd.MultiIndex(labels=labels, levels=levels, names=names)\n"
          ]
        },
        {
          "output_type": "execute_result",
          "execution_count": 11,
          "data": {
            "text/plain": [
              "<xarray.NeuronRecordingAssembly 'dicarlo.Majaj2015' (neuroid: 296, presentation: 268800, time_bin: 1)>\n",
              "array([[[ 0.060929],\n",
              "        [-0.686162],\n",
              "        ...,\n",
              "        [-0.968256],\n",
              "        [ 0.183887]],\n",
              "\n",
              "       [[-0.725592],\n",
              "        [ 0.292777],\n",
              "        ...,\n",
              "        [ 2.449372],\n",
              "        [ 0.401197]],\n",
              "\n",
              "       ...,\n",
              "\n",
              "       [[ 1.121319],\n",
              "        [ 1.719423],\n",
              "        ...,\n",
              "        [ 0.800551],\n",
              "        [-0.019874]],\n",
              "\n",
              "       [[-0.518903],\n",
              "        [ 0.696196],\n",
              "        ...,\n",
              "        [-0.603347],\n",
              "        [-0.175979]]], dtype=float32)\n",
              "Coordinates:\n",
              "  * neuroid          (neuroid) MultiIndex\n",
              "  - neuroid_id       (neuroid) object 'Chabo_L_M_5_9' ... 'Chabo_L_P_7_6'\n",
              "  - arr              (neuroid) object 'M' 'M' 'M' 'M' 'M' ... 'P' 'P' 'P' 'P'\n",
              "  - col              (neuroid) int64 9 9 8 9 8 8 7 7 5 6 ... 8 7 8 6 7 5 7 7 6 6\n",
              "  - hemisphere       (neuroid) object 'L' 'L' 'L' 'L' 'L' ... 'L' 'L' 'L' 'L'\n",
              "  - subregion        (neuroid) object 'cIT' 'cIT' 'cIT' 'cIT' ... 'V4' 'V4' 'V4'\n",
              "  - animal           (neuroid) object 'Chabo' 'Chabo' ... 'Chabo' 'Chabo'\n",
              "  - y                (neuroid) float64 0.2 0.6 0.2 1.0 0.6 ... 1.8 1.0 1.8 1.0\n",
              "  - x                (neuroid) float64 1.8 1.8 1.4 1.8 1.4 ... 1.0 1.0 0.6 0.6\n",
              "  - region           (neuroid) object 'IT' 'IT' 'IT' 'IT' ... 'V4' 'V4' 'V4'\n",
              "  - row              (neuroid) int64 5 6 5 7 6 7 9 7 9 8 ... 8 5 9 6 8 7 9 7 9 7\n",
              "  * presentation     (presentation) MultiIndex\n",
              "  - image_id         (presentation) object '8a72e2bfdb8c267b57232bf96f069374d5b21832' ... 'a533e519b553cdf360ae134f7c9f161134ddaf00'\n",
              "  - repetition       (presentation) int64 0 0 0 0 0 0 0 0 0 ... 0 0 0 0 0 0 0 0\n",
              "  - stimulus         (presentation) int64 0 1 2 3 4 5 6 ... 23 24 25 26 27 28 29\n",
              "  - id               (presentation) int64 1 2 3 4 5 6 7 ... 24 25 26 27 28 29 30\n",
              "  - image_file_name  (presentation) object 'astra_rx+00.000_ry+00.000_rz+00.000_tx+00.000_ty+00.000_s+01.000_ecd40f3f6d7a4d6d88134d648884e0b9b364efc9_256x256.png' ... 'face0001_rx+00.000_ry+00.000_rz+00.000_tx+00.000_ty+00.000_s+00.800_840b0badda8be10e1e3d5eff5cedce384f8021bc_256x256.png'\n",
              "  - object_name      (presentation) object 'car_astra' 'table3' ... 'face0'\n",
              "  - category_name    (presentation) object 'Cars' 'Tables' ... 'Fruits' 'Faces'\n",
              "  - background_id    (presentation) object 'ecd40f3f6d7a4d6d88134d648884e0b9b364efc9' ... '840b0badda8be10e1e3d5eff5cedce384f8021bc'\n",
              "  - variation        (presentation) int64 0 0 0 0 0 0 0 0 0 ... 0 0 0 0 0 0 0 0\n",
              "  - ty               (presentation) float64 0.0 0.0 0.0 0.0 ... 0.0 0.0 0.0 0.0\n",
              "  - tz               (presentation) float64 0.0 0.0 0.0 0.0 ... 0.0 0.0 0.0 0.0\n",
              "  - rxy              (presentation) float64 -0.0 -0.0 -0.0 ... -0.0 -0.0 -0.0\n",
              "  - rxz              (presentation) float64 0.0 0.0 0.0 0.0 ... 0.0 0.0 0.0 0.0\n",
              "  - ryz              (presentation) float64 -0.0 -0.0 -0.0 ... -0.0 -0.0 -0.0\n",
              "  - rxy_semantic     (presentation) float64 90.0 -0.0 -0.0 ... -0.0 -0.0 -0.0\n",
              "  - rxz_semantic     (presentation) float64 0.0 0.0 0.0 0.0 ... 0.0 0.0 0.0 0.0\n",
              "  - ryz_semantic     (presentation) float64 -0.0 -0.0 -0.0 ... -0.0 -0.0 -0.0\n",
              "  - size             (presentation) float64 256.0 256.0 256.0 ... 256.0 256.0\n",
              "  - s                (presentation) float64 1.0 1.0 1.0 1.0 ... 1.0 1.0 1.0 1.0\n",
              "  * time_bin         (time_bin) MultiIndex\n",
              "  - time_bin_start   (time_bin) int64 70\n",
              "  - time_bin_end     (time_bin) int64 170\n",
              "Attributes:\n",
              "    stimulus_set_name:  dicarlo.hvm\n",
              "    stimulus_set:               id                                  image_id ..."
            ]
          },
          "metadata": {}
        }
      ],
      "execution_count": 11,
      "metadata": {
        "collapsed": false,
        "outputHidden": false,
        "inputHidden": false
      }
    },
    {
      "cell_type": "code",
      "source": [
        "pd.Series(assy_hvm[\"image_id\"]).values in proto[\"image_id\"]"
      ],
      "outputs": [],
      "execution_count": null,
      "metadata": {
        "collapsed": false,
        "outputHidden": false,
        "inputHidden": false
      }
    },
    {
      "cell_type": "code",
      "source": [
        "xr.merge([assy_hvm[\"image_id\"], proto[\"image_id\"]], join=\"inner\")"
      ],
      "outputs": [],
      "execution_count": null,
      "metadata": {
        "collapsed": false,
        "outputHidden": false,
        "inputHidden": false
      }
    },
    {
      "cell_type": "code",
      "source": [
        "assy_hvm.where(assy_hvm[\"image_id\"] in proto[\"image_id\"], drop=True)"
      ],
      "outputs": [],
      "execution_count": null,
      "metadata": {
        "collapsed": false,
        "outputHidden": false,
        "inputHidden": false
      }
    },
    {
      "cell_type": "code",
      "source": [
        "assy_hvm.sel(image_id=assy_hvm[\"image_id\"].values in proto[\"image_id\"])"
      ],
      "outputs": [],
      "execution_count": null,
      "metadata": {
        "collapsed": false,
        "outputHidden": false,
        "inputHidden": false
      }
    },
    {
      "cell_type": "code",
      "source": [
        "proto[\"image_id\"]"
      ],
      "outputs": [],
      "execution_count": null,
      "metadata": {
        "collapsed": false,
        "outputHidden": false,
        "inputHidden": false
      }
    },
    {
      "cell_type": "code",
      "source": [
        "assy_hvm[\"image_id\"]"
      ],
      "outputs": [],
      "execution_count": null,
      "metadata": {
        "collapsed": false,
        "outputHidden": false,
        "inputHidden": false
      }
    },
    {
      "cell_type": "code",
      "source": [
        "xr.DataArray(proto)[:,0]"
      ],
      "outputs": [
        {
          "output_type": "execute_result",
          "execution_count": 14,
          "data": {
            "text/plain": [
              "<xarray.DataArray (dim_0: 25)>\n",
              "array(['b713c093a9135539f1fdd0b92c44f59688267561',\n",
              "       '9d89aedf86af6292d4d6fe3774a51c92fb715c4e',\n",
              "       '11bfd22097d9c511621ef17b2c13067dc1cd7352',\n",
              "       '398ece9ff10d90e31c39e0b7625454d81fc19f8d',\n",
              "       'c4fac169f2c9ce65d4647435e1d720ea25554dfe',\n",
              "       '2ea3bb4fb4212f49f1382a938351d3c2e8e0a652',\n",
              "       'cf1f1948b5e55815a11b72c52831275bababaeea',\n",
              "       '4e05f442f98dceb778e7de1f2d0f700241461756',\n",
              "       '2371c02dcd0b562d3dd7cfb13123f7d426cf4810',\n",
              "       'cc67fe89474be6c5ae653843a75d9ed0b343ca52',\n",
              "       '5546dc0575a1e6477db5f4accd1d17184deb405b',\n",
              "       'b64a713676ad771e355fe0cad98121f1cb329d92',\n",
              "       '2970df86fb9706eb1ef066a7120049eb7bb8656e',\n",
              "       '79d8e812eae9ecf647eb1eff72d613dff34b1062',\n",
              "       'ac1db6c2528dd94f07c1ae56b404d73995b5329f',\n",
              "       'd5685a6afd20ea9cd27444fb14a14ed0f2036a63',\n",
              "       'a533e519b553cdf360ae134f7c9f161134ddaf00',\n",
              "       'bffb5a5531aabefe3a9f0eee48963e1dbfc2f5f2',\n",
              "       'a7792c8a467907240ca8cd98fa51cf768311e398',\n",
              "       'fd1c8070be2eaf90ee17bed9094e9bb06eb7bb4e',\n",
              "       '48c621bed18d56770d77b061e01ca33b4548f539',\n",
              "       'fe4f9a92c45af3487323f2f145d2e49594b61f33',\n",
              "       'c33a74c58c05433d6ce418cdfc5a2b2edd5b72dc',\n",
              "       '3a2e8aeaae50f81d1d4fc716969bd2c8e169b9d9',\n",
              "       '36db24ff49d1e53a12af349c465fc32592168b4b'], dtype=object)\n",
              "Coordinates:\n",
              "  * dim_0    (dim_0) int64 0 1 2 3 4 5 6 7 8 9 ... 15 16 17 18 19 20 21 22 23 24\n",
              "    dim_1    <U8 'image_id'"
            ]
          },
          "metadata": {}
        }
      ],
      "execution_count": 14,
      "metadata": {
        "collapsed": false,
        "outputHidden": false,
        "inputHidden": false
      }
    },
    {
      "cell_type": "code",
      "source": [
        "sub = assy_hvm.loc[:, assy_hvm[\"image_id\"].isin(proto[\"image_id\"]), :]\n",
        "sub"
      ],
      "outputs": [
        {
          "output_type": "execute_result",
          "execution_count": 17,
          "data": {
            "text/plain": [
              "<xarray.NeuronRecordingAssembly 'dicarlo.Majaj2015' (neuroid: 296, presentation: 700, time_bin: 1)>\n",
              "array([[[ 1.928658],\n",
              "        [ 0.060929],\n",
              "        ...,\n",
              "        [-0.623783],\n",
              "        [ 0.529768]],\n",
              "\n",
              "       [[ 0.292777],\n",
              "        [ 1.990058],\n",
              "        ...,\n",
              "        [ 0.967823],\n",
              "        [-0.386514]],\n",
              "\n",
              "       ...,\n",
              "\n",
              "       [[ 1.420371],\n",
              "        [-0.07489 ],\n",
              "        ...,\n",
              "        [-1.35632 ],\n",
              "        [-0.085704]],\n",
              "\n",
              "       [[ 0.291163],\n",
              "        [-0.518903],\n",
              "        ...,\n",
              "        [ 2.94649 ],\n",
              "        [-1.835507]]], dtype=float32)\n",
              "Coordinates:\n",
              "  * neuroid          (neuroid) MultiIndex\n",
              "  - neuroid_id       (neuroid) object 'Chabo_L_M_5_9' ... 'Chabo_L_P_7_6'\n",
              "  - arr              (neuroid) object 'M' 'M' 'M' 'M' 'M' ... 'P' 'P' 'P' 'P'\n",
              "  - col              (neuroid) int64 9 9 8 9 8 8 7 7 5 6 ... 8 7 8 6 7 5 7 7 6 6\n",
              "  - hemisphere       (neuroid) object 'L' 'L' 'L' 'L' 'L' ... 'L' 'L' 'L' 'L'\n",
              "  - subregion        (neuroid) object 'cIT' 'cIT' 'cIT' 'cIT' ... 'V4' 'V4' 'V4'\n",
              "  - animal           (neuroid) object 'Chabo' 'Chabo' ... 'Chabo' 'Chabo'\n",
              "  - y                (neuroid) float64 0.2 0.6 0.2 1.0 0.6 ... 1.8 1.0 1.8 1.0\n",
              "  - x                (neuroid) float64 1.8 1.8 1.4 1.8 1.4 ... 1.0 1.0 0.6 0.6\n",
              "  - region           (neuroid) object 'IT' 'IT' 'IT' 'IT' ... 'V4' 'V4' 'V4'\n",
              "  - row              (neuroid) int64 5 6 5 7 6 7 9 7 9 8 ... 8 5 9 6 8 7 9 7 9 7\n",
              "  * presentation     (presentation) MultiIndex\n",
              "  - image_id         (presentation) object 'a533e519b553cdf360ae134f7c9f161134ddaf00' ... 'c33a74c58c05433d6ce418cdfc5a2b2edd5b72dc'\n",
              "  - repetition       (presentation) int64 0 0 0 0 0 0 0 0 0 ... 0 0 0 1 1 1 1 1\n",
              "  - stimulus         (presentation) int64 29 67 74 102 160 ... 29 67 74 102 160\n",
              "  - id               (presentation) int64 30 68 75 103 159 ... 30 68 75 103 159\n",
              "  - image_file_name  (presentation) object 'face0001_rx+00.000_ry+00.000_rz+00.000_tx+00.000_ty+00.000_s+00.800_840b0badda8be10e1e3d5eff5cedce384f8021bc_256x256.png' ... '_033_rx+00.000_ry+00.000_rz+00.000_tx+00.000_ty+00.000_s+00.700_ed7b2a8868c12f924385f86f85e33c8e95f572be_256x256.png'\n",
              "  - object_name      (presentation) object 'face0' 'car_clio' ... 'chair7'\n",
              "  - category_name    (presentation) object 'Faces' 'Cars' ... 'Faces' 'Chairs'\n",
              "  - background_id    (presentation) object '840b0badda8be10e1e3d5eff5cedce384f8021bc' ... 'ed7b2a8868c12f924385f86f85e33c8e95f572be'\n",
              "  - variation        (presentation) int64 0 0 0 0 0 0 0 0 0 ... 0 0 0 0 0 0 0 0\n",
              "  - ty               (presentation) float64 0.0 0.0 0.0 0.0 ... 0.0 0.0 0.0 0.0\n",
              "  - tz               (presentation) float64 0.0 0.0 0.0 0.0 ... 0.0 0.0 0.0 0.0\n",
              "  - rxy              (presentation) float64 -0.0 -0.0 -0.0 ... -0.0 -0.0 -0.0\n",
              "  - rxz              (presentation) float64 0.0 0.0 0.0 0.0 ... 0.0 0.0 0.0 0.0\n",
              "  - ryz              (presentation) float64 -0.0 -0.0 -0.0 ... -0.0 -0.0 -0.0\n",
              "  - rxy_semantic     (presentation) float64 -0.0 90.0 90.0 ... 90.0 -0.0 -0.0\n",
              "  - rxz_semantic     (presentation) float64 0.0 0.0 0.0 0.0 ... 0.0 0.0 0.0 0.0\n",
              "  - ryz_semantic     (presentation) float64 -0.0 -0.0 -0.0 ... -0.0 -0.0 -0.0\n",
              "  - size             (presentation) float64 256.0 256.0 256.0 ... 256.0 256.0\n",
              "  - s                (presentation) float64 1.0 1.0 1.0 1.0 ... 1.0 1.0 1.0 1.0\n",
              "  * time_bin         (time_bin) MultiIndex\n",
              "  - time_bin_start   (time_bin) int64 70\n",
              "  - time_bin_end     (time_bin) int64 170\n",
              "Attributes:\n",
              "    stimulus_set_name:  dicarlo.hvm\n",
              "    stimulus_set:               id                                  image_id ..."
            ]
          },
          "metadata": {}
        }
      ],
      "execution_count": 17,
      "metadata": {
        "collapsed": false,
        "outputHidden": false,
        "inputHidden": false
      }
    },
    {
      "cell_type": "code",
      "source": [
        "np.unique(sub[\"object_name\"])"
      ],
      "outputs": [
        {
          "output_type": "execute_result",
          "execution_count": 19,
          "data": {
            "text/plain": [
              "array(['airplane1', 'airplane2', 'airplane4', 'airplane6', 'apple',\n",
              "       'car_clio', 'car_z3', 'chair4', 'chair7', 'dog', 'elephant',\n",
              "       'face0', 'face1', 'face6', 'gorilla', 'lioness', 'raspberry',\n",
              "       'ship2', 'ship3', 'ship5', 'table5'], dtype=object)"
            ]
          },
          "metadata": {}
        }
      ],
      "execution_count": 19,
      "metadata": {
        "collapsed": false,
        "outputHidden": false,
        "inputHidden": false
      }
    },
    {
      "cell_type": "code",
      "source": [
        "np.unique(proto[\"object_name\"])"
      ],
      "outputs": [
        {
          "output_type": "execute_result",
          "execution_count": 20,
          "data": {
            "text/plain": [
              "array(['airplane1', 'airplane2', 'airplane4', 'airplane6', 'apple',\n",
              "       'car_clio', 'car_z3', 'chair4', 'chair7', 'dog', 'elephant',\n",
              "       'face0', 'face1', 'face6', 'gorilla', 'lioness', 'raspberry',\n",
              "       'ship2', 'ship3', 'ship5', 'table5'], dtype=object)"
            ]
          },
          "metadata": {}
        }
      ],
      "execution_count": 20,
      "metadata": {
        "collapsed": false,
        "outputHidden": false,
        "inputHidden": false
      }
    },
    {
      "cell_type": "code",
      "source": [
        "sub[\"image_id\"]"
      ],
      "outputs": [
        {
          "output_type": "execute_result",
          "execution_count": 21,
          "data": {
            "text/plain": [
              "<xarray.NeuronRecordingAssembly 'image_id' (presentation: 700)>\n",
              "array(['a533e519b553cdf360ae134f7c9f161134ddaf00',\n",
              "       '4e05f442f98dceb778e7de1f2d0f700241461756',\n",
              "       'a7792c8a467907240ca8cd98fa51cf768311e398', ...,\n",
              "       'd5685a6afd20ea9cd27444fb14a14ed0f2036a63',\n",
              "       'c4fac169f2c9ce65d4647435e1d720ea25554dfe',\n",
              "       '2371c02dcd0b562d3dd7cfb13123f7d426cf4810'], dtype=object)\n",
              "Coordinates:\n",
              "  * presentation     (presentation) MultiIndex\n",
              "  - image_id         (presentation) object 'a533e519b553cdf360ae134f7c9f161134ddaf00' ... 'c33a74c58c05433d6ce418cdfc5a2b2edd5b72dc'\n",
              "  - repetition       (presentation) int64 0 0 0 0 0 0 0 0 0 ... 0 0 0 1 1 1 1 1\n",
              "  - stimulus         (presentation) int64 29 67 74 102 160 ... 29 67 74 102 160\n",
              "  - id               (presentation) int64 30 68 75 103 159 ... 30 68 75 103 159\n",
              "  - image_file_name  (presentation) object 'face0001_rx+00.000_ry+00.000_rz+00.000_tx+00.000_ty+00.000_s+00.800_840b0badda8be10e1e3d5eff5cedce384f8021bc_256x256.png' ... '_033_rx+00.000_ry+00.000_rz+00.000_tx+00.000_ty+00.000_s+00.700_ed7b2a8868c12f924385f86f85e33c8e95f572be_256x256.png'\n",
              "  - object_name      (presentation) object 'face0' 'car_clio' ... 'chair7'\n",
              "  - category_name    (presentation) object 'Faces' 'Cars' ... 'Faces' 'Chairs'\n",
              "  - background_id    (presentation) object '840b0badda8be10e1e3d5eff5cedce384f8021bc' ... 'ed7b2a8868c12f924385f86f85e33c8e95f572be'\n",
              "  - variation        (presentation) int64 0 0 0 0 0 0 0 0 0 ... 0 0 0 0 0 0 0 0\n",
              "  - ty               (presentation) float64 0.0 0.0 0.0 0.0 ... 0.0 0.0 0.0 0.0\n",
              "  - tz               (presentation) float64 0.0 0.0 0.0 0.0 ... 0.0 0.0 0.0 0.0\n",
              "  - rxy              (presentation) float64 -0.0 -0.0 -0.0 ... -0.0 -0.0 -0.0\n",
              "  - rxz              (presentation) float64 0.0 0.0 0.0 0.0 ... 0.0 0.0 0.0 0.0\n",
              "  - ryz              (presentation) float64 -0.0 -0.0 -0.0 ... -0.0 -0.0 -0.0\n",
              "  - rxy_semantic     (presentation) float64 -0.0 90.0 90.0 ... 90.0 -0.0 -0.0\n",
              "  - rxz_semantic     (presentation) float64 0.0 0.0 0.0 0.0 ... 0.0 0.0 0.0 0.0\n",
              "  - ryz_semantic     (presentation) float64 -0.0 -0.0 -0.0 ... -0.0 -0.0 -0.0\n",
              "  - size             (presentation) float64 256.0 256.0 256.0 ... 256.0 256.0\n",
              "  - s                (presentation) float64 1.0 1.0 1.0 1.0 ... 1.0 1.0 1.0 1.0"
            ]
          },
          "metadata": {}
        }
      ],
      "execution_count": 21,
      "metadata": {
        "collapsed": false,
        "outputHidden": false,
        "inputHidden": false
      }
    },
    {
      "cell_type": "code",
      "source": [
        "np.unique(sub[\"image_id\"])"
      ],
      "outputs": [
        {
          "output_type": "execute_result",
          "execution_count": 22,
          "data": {
            "text/plain": [
              "array(['11bfd22097d9c511621ef17b2c13067dc1cd7352',\n",
              "       '2371c02dcd0b562d3dd7cfb13123f7d426cf4810',\n",
              "       '2970df86fb9706eb1ef066a7120049eb7bb8656e',\n",
              "       '2ea3bb4fb4212f49f1382a938351d3c2e8e0a652',\n",
              "       '36db24ff49d1e53a12af349c465fc32592168b4b',\n",
              "       '398ece9ff10d90e31c39e0b7625454d81fc19f8d',\n",
              "       '3a2e8aeaae50f81d1d4fc716969bd2c8e169b9d9',\n",
              "       '48c621bed18d56770d77b061e01ca33b4548f539',\n",
              "       '4e05f442f98dceb778e7de1f2d0f700241461756',\n",
              "       '5546dc0575a1e6477db5f4accd1d17184deb405b',\n",
              "       '79d8e812eae9ecf647eb1eff72d613dff34b1062',\n",
              "       '9d89aedf86af6292d4d6fe3774a51c92fb715c4e',\n",
              "       'a533e519b553cdf360ae134f7c9f161134ddaf00',\n",
              "       'a7792c8a467907240ca8cd98fa51cf768311e398',\n",
              "       'ac1db6c2528dd94f07c1ae56b404d73995b5329f',\n",
              "       'b64a713676ad771e355fe0cad98121f1cb329d92',\n",
              "       'b713c093a9135539f1fdd0b92c44f59688267561',\n",
              "       'bffb5a5531aabefe3a9f0eee48963e1dbfc2f5f2',\n",
              "       'c33a74c58c05433d6ce418cdfc5a2b2edd5b72dc',\n",
              "       'c4fac169f2c9ce65d4647435e1d720ea25554dfe',\n",
              "       'cc67fe89474be6c5ae653843a75d9ed0b343ca52',\n",
              "       'cf1f1948b5e55815a11b72c52831275bababaeea',\n",
              "       'd5685a6afd20ea9cd27444fb14a14ed0f2036a63',\n",
              "       'fd1c8070be2eaf90ee17bed9094e9bb06eb7bb4e',\n",
              "       'fe4f9a92c45af3487323f2f145d2e49594b61f33'], dtype=object)"
            ]
          },
          "metadata": {}
        }
      ],
      "execution_count": 22,
      "metadata": {
        "collapsed": false,
        "outputHidden": false,
        "inputHidden": false
      }
    },
    {
      "cell_type": "code",
      "source": [
        "len(np.unique(sub[\"image_id\"]))"
      ],
      "outputs": [
        {
          "output_type": "execute_result",
          "execution_count": 23,
          "data": {
            "text/plain": [
              "25"
            ]
          },
          "metadata": {}
        }
      ],
      "execution_count": 23,
      "metadata": {
        "collapsed": false,
        "outputHidden": false,
        "inputHidden": false
      }
    },
    {
      "cell_type": "code",
      "source": [
        "[x for x in sub.coords]"
      ],
      "outputs": [
        {
          "output_type": "execute_result",
          "execution_count": 27,
          "data": {
            "text/plain": [
              "['neuroid', 'presentation', 'time_bin']"
            ]
          },
          "metadata": {}
        }
      ],
      "execution_count": 27,
      "metadata": {
        "collapsed": false,
        "outputHidden": false,
        "inputHidden": false
      }
    },
    {
      "cell_type": "code",
      "source": [
        "[x for x in sub.indexes.keys()]"
      ],
      "outputs": [
        {
          "output_type": "execute_result",
          "execution_count": 30,
          "data": {
            "text/plain": [
              "['neuroid', 'presentation', 'time_bin']"
            ]
          },
          "metadata": {}
        }
      ],
      "execution_count": 30,
      "metadata": {
        "collapsed": false,
        "outputHidden": false,
        "inputHidden": false
      }
    },
    {
      "cell_type": "code",
      "source": [
        "result = xr.DataArray(sub).reset_index(\"presentation\")\n",
        "result"
      ],
      "outputs": [
        {
          "output_type": "execute_result",
          "execution_count": 32,
          "data": {
            "text/plain": [
              "<xarray.DataArray 'dicarlo.Majaj2015' (neuroid: 296, presentation: 700, time_bin: 1)>\n",
              "array([[[ 1.928658],\n",
              "        [ 0.060929],\n",
              "        ...,\n",
              "        [-0.623783],\n",
              "        [ 0.529768]],\n",
              "\n",
              "       [[ 0.292777],\n",
              "        [ 1.990058],\n",
              "        ...,\n",
              "        [ 0.967823],\n",
              "        [-0.386514]],\n",
              "\n",
              "       ...,\n",
              "\n",
              "       [[ 1.420371],\n",
              "        [-0.07489 ],\n",
              "        ...,\n",
              "        [-1.35632 ],\n",
              "        [-0.085704]],\n",
              "\n",
              "       [[ 0.291163],\n",
              "        [-0.518903],\n",
              "        ...,\n",
              "        [ 2.94649 ],\n",
              "        [-1.835507]]], dtype=float32)\n",
              "Coordinates:\n",
              "  * neuroid          (neuroid) MultiIndex\n",
              "  - neuroid_id       (neuroid) object 'Chabo_L_M_5_9' ... 'Chabo_L_P_7_6'\n",
              "  - arr              (neuroid) object 'M' 'M' 'M' 'M' 'M' ... 'P' 'P' 'P' 'P'\n",
              "  - col              (neuroid) int64 9 9 8 9 8 8 7 7 5 6 ... 8 7 8 6 7 5 7 7 6 6\n",
              "  - hemisphere       (neuroid) object 'L' 'L' 'L' 'L' 'L' ... 'L' 'L' 'L' 'L'\n",
              "  - subregion        (neuroid) object 'cIT' 'cIT' 'cIT' 'cIT' ... 'V4' 'V4' 'V4'\n",
              "  - animal           (neuroid) object 'Chabo' 'Chabo' ... 'Chabo' 'Chabo'\n",
              "  - y                (neuroid) float64 0.2 0.6 0.2 1.0 0.6 ... 1.8 1.0 1.8 1.0\n",
              "  - x                (neuroid) float64 1.8 1.8 1.4 1.8 1.4 ... 1.0 1.0 0.6 0.6\n",
              "  - region           (neuroid) object 'IT' 'IT' 'IT' 'IT' ... 'V4' 'V4' 'V4'\n",
              "  - row              (neuroid) int64 5 6 5 7 6 7 9 7 9 8 ... 8 5 9 6 8 7 9 7 9 7\n",
              "  * time_bin         (time_bin) MultiIndex\n",
              "  - time_bin_start   (time_bin) int64 70\n",
              "  - time_bin_end     (time_bin) int64 170\n",
              "    image_id         (presentation) object 'a533e519b553cdf360ae134f7c9f161134ddaf00' ... '2371c02dcd0b562d3dd7cfb13123f7d426cf4810'\n",
              "    repetition       (presentation) int64 0 0 0 0 0 0 0 ... 27 27 27 27 27 27 27\n",
              "    stimulus         (presentation) int64 29 67 74 102 160 ... 572 589 625 638\n",
              "    id               (presentation) int64 30 68 75 103 159 ... 563 580 616 629\n",
              "    image_file_name  (presentation) object 'face0001_rx+00.000_ry+00.000_rz+00.000_tx+00.000_ty+00.000_s+00.800_840b0badda8be10e1e3d5eff5cedce384f8021bc_256x256.png' ... 'raspberry_obj_rx-90.000_ry+00.000_rz+00.000_tx+00.000_ty+00.000_s+00.700_c922cc8b2e97dd5b98e0c825af29f28e546e7b22_256x256.png'\n",
              "    object_name      (presentation) object 'face0' 'car_clio' ... 'raspberry'\n",
              "    category_name    (presentation) object 'Faces' 'Cars' ... 'Animals' 'Fruits'\n",
              "    background_id    (presentation) object '840b0badda8be10e1e3d5eff5cedce384f8021bc' ... 'c922cc8b2e97dd5b98e0c825af29f28e546e7b22'\n",
              "    variation        (presentation) int64 0 0 0 0 0 0 0 0 0 ... 0 0 0 0 0 0 0 0\n",
              "    ty               (presentation) float64 0.0 0.0 0.0 0.0 ... 0.0 0.0 0.0 0.0\n",
              "    tz               (presentation) float64 0.0 0.0 0.0 0.0 ... 0.0 0.0 0.0 0.0\n",
              "    rxy              (presentation) float64 -0.0 -0.0 -0.0 ... -0.0 -0.0 -0.0\n",
              "    rxz              (presentation) float64 0.0 0.0 0.0 0.0 ... 0.0 0.0 0.0 0.0\n",
              "    ryz              (presentation) float64 -0.0 -0.0 -0.0 ... -0.0 -0.0 -0.0\n",
              "    rxy_semantic     (presentation) float64 -0.0 90.0 90.0 ... 90.0 90.0 -0.0\n",
              "    rxz_semantic     (presentation) float64 0.0 0.0 0.0 0.0 ... 0.0 0.0 0.0 0.0\n",
              "    ryz_semantic     (presentation) float64 -0.0 -0.0 -0.0 ... -0.0 -0.0 -90.0\n",
              "    size             (presentation) float64 256.0 256.0 256.0 ... 256.0 256.0\n",
              "    s                (presentation) float64 1.0 1.0 1.0 1.0 ... 1.0 1.0 1.0 1.0\n",
              "Dimensions without coordinates: presentation\n",
              "Attributes:\n",
              "    stimulus_set_name:  dicarlo.hvm\n",
              "    stimulus_set:               id                                  image_id ..."
            ]
          },
          "metadata": {}
        }
      ],
      "execution_count": 32,
      "metadata": {
        "collapsed": false,
        "outputHidden": false,
        "inputHidden": false
      }
    },
    {
      "cell_type": "code",
      "source": [
        "[x for x in result.coords]"
      ],
      "outputs": [
        {
          "output_type": "execute_result",
          "execution_count": 33,
          "data": {
            "text/plain": [
              "['neuroid',\n",
              " 'time_bin',\n",
              " 'image_id',\n",
              " 'repetition',\n",
              " 'stimulus',\n",
              " 'id',\n",
              " 'image_file_name',\n",
              " 'object_name',\n",
              " 'category_name',\n",
              " 'background_id',\n",
              " 'variation',\n",
              " 'ty',\n",
              " 'tz',\n",
              " 'rxy',\n",
              " 'rxz',\n",
              " 'ryz',\n",
              " 'rxy_semantic',\n",
              " 'rxz_semantic',\n",
              " 'ryz_semantic',\n",
              " 'size',\n",
              " 's']"
            ]
          },
          "metadata": {}
        }
      ],
      "execution_count": 33,
      "metadata": {
        "collapsed": false,
        "outputHidden": false,
        "inputHidden": false
      }
    },
    {
      "cell_type": "code",
      "source": [
        "preserve = ['neuroid', 'time_bin','image_id', 'repetition']"
      ],
      "outputs": [],
      "execution_count": 36,
      "metadata": {
        "collapsed": false,
        "outputHidden": false,
        "inputHidden": false
      }
    },
    {
      "cell_type": "code",
      "source": [
        "remove = [x for x in result.coords if x not in preserve]\n",
        "remove"
      ],
      "outputs": [
        {
          "output_type": "execute_result",
          "execution_count": 38,
          "data": {
            "text/plain": [
              "['stimulus',\n",
              " 'id',\n",
              " 'image_file_name',\n",
              " 'object_name',\n",
              " 'category_name',\n",
              " 'background_id',\n",
              " 'variation',\n",
              " 'ty',\n",
              " 'tz',\n",
              " 'rxy',\n",
              " 'rxz',\n",
              " 'ryz',\n",
              " 'rxy_semantic',\n",
              " 'rxz_semantic',\n",
              " 'ryz_semantic',\n",
              " 'size',\n",
              " 's']"
            ]
          },
          "metadata": {}
        }
      ],
      "execution_count": 38,
      "metadata": {
        "collapsed": false,
        "outputHidden": false,
        "inputHidden": false
      }
    },
    {
      "cell_type": "code",
      "source": [
        "result = result.drop(remove)\n",
        "result"
      ],
      "outputs": [
        {
          "output_type": "execute_result",
          "execution_count": 39,
          "data": {
            "text/plain": [
              "<xarray.DataArray 'dicarlo.Majaj2015' (neuroid: 296, presentation: 700, time_bin: 1)>\n",
              "array([[[ 1.928658],\n",
              "        [ 0.060929],\n",
              "        ...,\n",
              "        [-0.623783],\n",
              "        [ 0.529768]],\n",
              "\n",
              "       [[ 0.292777],\n",
              "        [ 1.990058],\n",
              "        ...,\n",
              "        [ 0.967823],\n",
              "        [-0.386514]],\n",
              "\n",
              "       ...,\n",
              "\n",
              "       [[ 1.420371],\n",
              "        [-0.07489 ],\n",
              "        ...,\n",
              "        [-1.35632 ],\n",
              "        [-0.085704]],\n",
              "\n",
              "       [[ 0.291163],\n",
              "        [-0.518903],\n",
              "        ...,\n",
              "        [ 2.94649 ],\n",
              "        [-1.835507]]], dtype=float32)\n",
              "Coordinates:\n",
              "  * neuroid         (neuroid) MultiIndex\n",
              "  - neuroid_id      (neuroid) object 'Chabo_L_M_5_9' ... 'Chabo_L_P_7_6'\n",
              "  - arr             (neuroid) object 'M' 'M' 'M' 'M' 'M' ... 'P' 'P' 'P' 'P' 'P'\n",
              "  - col             (neuroid) int64 9 9 8 9 8 8 7 7 5 6 ... 8 7 8 6 7 5 7 7 6 6\n",
              "  - hemisphere      (neuroid) object 'L' 'L' 'L' 'L' 'L' ... 'L' 'L' 'L' 'L' 'L'\n",
              "  - subregion       (neuroid) object 'cIT' 'cIT' 'cIT' 'cIT' ... 'V4' 'V4' 'V4'\n",
              "  - animal          (neuroid) object 'Chabo' 'Chabo' 'Chabo' ... 'Chabo' 'Chabo'\n",
              "  - y               (neuroid) float64 0.2 0.6 0.2 1.0 0.6 ... 1.8 1.0 1.8 1.0\n",
              "  - x               (neuroid) float64 1.8 1.8 1.4 1.8 1.4 ... 1.0 1.0 0.6 0.6\n",
              "  - region          (neuroid) object 'IT' 'IT' 'IT' 'IT' ... 'V4' 'V4' 'V4' 'V4'\n",
              "  - row             (neuroid) int64 5 6 5 7 6 7 9 7 9 8 ... 8 5 9 6 8 7 9 7 9 7\n",
              "  * time_bin        (time_bin) MultiIndex\n",
              "  - time_bin_start  (time_bin) int64 70\n",
              "  - time_bin_end    (time_bin) int64 170\n",
              "    image_id        (presentation) object 'a533e519b553cdf360ae134f7c9f161134ddaf00' ... '2371c02dcd0b562d3dd7cfb13123f7d426cf4810'\n",
              "    repetition      (presentation) int64 0 0 0 0 0 0 0 ... 27 27 27 27 27 27 27\n",
              "Dimensions without coordinates: presentation\n",
              "Attributes:\n",
              "    stimulus_set_name:  dicarlo.hvm\n",
              "    stimulus_set:               id                                  image_id ..."
            ]
          },
          "metadata": {}
        }
      ],
      "execution_count": 39,
      "metadata": {
        "collapsed": false,
        "outputHidden": false,
        "inputHidden": false
      }
    },
    {
      "cell_type": "code",
      "source": [
        "target_netcdf = Path(target_dir).parent / \"test_data.nc\""
      ],
      "outputs": [],
      "execution_count": 42,
      "metadata": {
        "collapsed": false,
        "outputHidden": false,
        "inputHidden": false
      }
    },
    {
      "cell_type": "code",
      "source": [
        "del result.attrs[\"stimulus_set\"]"
      ],
      "outputs": [],
      "execution_count": 44,
      "metadata": {
        "collapsed": false,
        "outputHidden": false,
        "inputHidden": false
      }
    },
    {
      "cell_type": "code",
      "source": [
        "result = result.reset_index([\"neuroid\", \"time_bin\"])\n",
        "result"
      ],
      "outputs": [
        {
          "output_type": "error",
          "ename": "KeyError",
          "evalue": "'neuroid'",
          "traceback": [
            "\u001b[0;31m---------------------------------------------------------------------------\u001b[0m",
            "\u001b[0;31mKeyError\u001b[0m                                  Traceback (most recent call last)",
            "\u001b[0;32m<ipython-input-47-465bcd84f577>\u001b[0m in \u001b[0;36m<module>\u001b[0;34m\u001b[0m\n\u001b[0;32m----> 1\u001b[0;31m \u001b[0mresult\u001b[0m \u001b[0;34m=\u001b[0m \u001b[0mresult\u001b[0m\u001b[0;34m.\u001b[0m\u001b[0mreset_index\u001b[0m\u001b[0;34m(\u001b[0m\u001b[0;34m[\u001b[0m\u001b[0;34m\"neuroid\"\u001b[0m\u001b[0;34m,\u001b[0m \u001b[0;34m\"time_bin\"\u001b[0m\u001b[0;34m]\u001b[0m\u001b[0;34m)\u001b[0m\u001b[0;34m\u001b[0m\u001b[0;34m\u001b[0m\u001b[0m\n\u001b[0m\u001b[1;32m      2\u001b[0m \u001b[0mresult\u001b[0m\u001b[0;34m\u001b[0m\u001b[0;34m\u001b[0m\u001b[0m\n",
            "\u001b[0;32m~/anaconda/envs/brainio/lib/python3.7/site-packages/xarray/core/dataarray.py\u001b[0m in \u001b[0;36mreset_index\u001b[0;34m(self, dims_or_levels, drop, inplace)\u001b[0m\n\u001b[1;32m   1223\u001b[0m         \u001b[0minplace\u001b[0m \u001b[0;34m=\u001b[0m \u001b[0m_check_inplace\u001b[0m\u001b[0;34m(\u001b[0m\u001b[0minplace\u001b[0m\u001b[0;34m)\u001b[0m\u001b[0;34m\u001b[0m\u001b[0;34m\u001b[0m\u001b[0m\n\u001b[1;32m   1224\u001b[0m         coords, _ = split_indexes(dims_or_levels, self._coords, set(),\n\u001b[0;32m-> 1225\u001b[0;31m                                   self._level_coords, drop=drop)\n\u001b[0m\u001b[1;32m   1226\u001b[0m         \u001b[0;32mif\u001b[0m \u001b[0minplace\u001b[0m\u001b[0;34m:\u001b[0m\u001b[0;34m\u001b[0m\u001b[0;34m\u001b[0m\u001b[0m\n\u001b[1;32m   1227\u001b[0m             \u001b[0mself\u001b[0m\u001b[0;34m.\u001b[0m\u001b[0m_coords\u001b[0m \u001b[0;34m=\u001b[0m \u001b[0mcoords\u001b[0m\u001b[0;34m\u001b[0m\u001b[0;34m\u001b[0m\u001b[0m\n",
            "\u001b[0;32m~/anaconda/envs/brainio/lib/python3.7/site-packages/xarray/core/dataset.py\u001b[0m in \u001b[0;36msplit_indexes\u001b[0;34m(dims_or_levels, variables, coord_names, level_coords, drop)\u001b[0m\n\u001b[1;32m    208\u001b[0m \u001b[0;34m\u001b[0m\u001b[0m\n\u001b[1;32m    209\u001b[0m     \u001b[0;32mfor\u001b[0m \u001b[0md\u001b[0m \u001b[0;32min\u001b[0m \u001b[0mdims\u001b[0m\u001b[0;34m:\u001b[0m\u001b[0;34m\u001b[0m\u001b[0;34m\u001b[0m\u001b[0m\n\u001b[0;32m--> 210\u001b[0;31m         \u001b[0mindex\u001b[0m \u001b[0;34m=\u001b[0m \u001b[0mvariables\u001b[0m\u001b[0;34m[\u001b[0m\u001b[0md\u001b[0m\u001b[0;34m]\u001b[0m\u001b[0;34m.\u001b[0m\u001b[0mto_index\u001b[0m\u001b[0;34m(\u001b[0m\u001b[0;34m)\u001b[0m\u001b[0;34m\u001b[0m\u001b[0;34m\u001b[0m\u001b[0m\n\u001b[0m\u001b[1;32m    211\u001b[0m         \u001b[0;32mif\u001b[0m \u001b[0misinstance\u001b[0m\u001b[0;34m(\u001b[0m\u001b[0mindex\u001b[0m\u001b[0;34m,\u001b[0m \u001b[0mpd\u001b[0m\u001b[0;34m.\u001b[0m\u001b[0mMultiIndex\u001b[0m\u001b[0;34m)\u001b[0m\u001b[0;34m:\u001b[0m\u001b[0;34m\u001b[0m\u001b[0;34m\u001b[0m\u001b[0m\n\u001b[1;32m    212\u001b[0m             \u001b[0mdim_levels\u001b[0m\u001b[0;34m[\u001b[0m\u001b[0md\u001b[0m\u001b[0;34m]\u001b[0m \u001b[0;34m=\u001b[0m \u001b[0mindex\u001b[0m\u001b[0;34m.\u001b[0m\u001b[0mnames\u001b[0m\u001b[0;34m\u001b[0m\u001b[0;34m\u001b[0m\u001b[0m\n",
            "\u001b[0;31mKeyError\u001b[0m: 'neuroid'"
          ]
        }
      ],
      "execution_count": 47,
      "metadata": {
        "collapsed": false,
        "outputHidden": false,
        "inputHidden": false
      }
    },
    {
      "cell_type": "code",
      "source": [
        "result.to_netcdf(target_netcdf)"
      ],
      "outputs": [],
      "execution_count": 48,
      "metadata": {
        "collapsed": false,
        "outputHidden": false,
        "inputHidden": false
      }
    },
    {
      "cell_type": "code",
      "source": [],
      "outputs": [],
      "execution_count": null,
      "metadata": {
        "collapsed": false,
        "outputHidden": false,
        "inputHidden": false
      }
    }
  ],
  "metadata": {
    "kernel_info": {
      "name": "brainio"
    },
    "language_info": {
      "name": "python",
      "version": "3.7.2",
      "mimetype": "text/x-python",
      "codemirror_mode": {
        "name": "ipython",
        "version": 3
      },
      "pygments_lexer": "ipython3",
      "nbconvert_exporter": "python",
      "file_extension": ".py"
    },
    "kernelspec": {
      "name": "brainio",
      "language": "python",
      "display_name": "brainio"
    },
    "nteract": {
      "version": "0.14.3"
    }
  },
  "nbformat": 4,
  "nbformat_minor": 0
}