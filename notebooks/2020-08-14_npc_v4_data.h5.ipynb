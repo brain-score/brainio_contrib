{
  "cells": [
    {
      "cell_type": "code",
      "source": [
        "import tables"
      ],
      "outputs": [],
      "execution_count": 1,
      "metadata": {
        "collapsed": true,
        "jupyter": {
          "source_hidden": false,
          "outputs_hidden": false
        },
        "nteract": {
          "transient": {
            "deleting": false
          }
        },
        "execution": {
          "iopub.status.busy": "2020-09-02T19:24:14.431Z",
          "iopub.execute_input": "2020-09-02T19:24:14.454Z",
          "shell.execute_reply": "2020-09-02T19:24:15.944Z",
          "iopub.status.idle": "2020-09-02T19:24:15.924Z"
        }
      }
    },
    {
      "cell_type": "code",
      "source": [
        "h5 = tables.open_file(\"/Users/jjpr/Downloads/DiCarlo Lab/npc_v4_data.h5\")\n",
        "h5.filename"
      ],
      "outputs": [
        {
          "output_type": "execute_result",
          "execution_count": 5,
          "data": {
            "text/plain": "'/Users/jjpr/Downloads/DiCarlo Lab/npc_v4_data.h5'"
          },
          "metadata": {}
        }
      ],
      "execution_count": 5,
      "metadata": {
        "collapsed": true,
        "jupyter": {
          "source_hidden": false,
          "outputs_hidden": false
        },
        "nteract": {
          "transient": {
            "deleting": false
          }
        },
        "execution": {
          "iopub.status.busy": "2020-08-21T01:42:50.753Z",
          "iopub.execute_input": "2020-08-21T01:42:50.760Z",
          "iopub.status.idle": "2020-08-21T01:42:50.864Z",
          "shell.execute_reply": "2020-08-21T01:42:50.886Z"
        }
      }
    },
    {
      "cell_type": "code",
      "source": [
        "for node in h5:\n",
        "  print(f\"{node._v_parent._v_pathname}->{node._v_pathname}\")"
      ],
      "outputs": [],
      "execution_count": null,
      "metadata": {
        "collapsed": true,
        "jupyter": {
          "source_hidden": false,
          "outputs_hidden": false
        },
        "nteract": {
          "transient": {
            "deleting": false
          }
        },
        "execution": {
          "iopub.status.busy": "2020-08-14T20:01:35.807Z",
          "iopub.execute_input": "2020-08-14T20:01:35.812Z",
          "iopub.status.idle": "2020-08-14T20:01:35.825Z",
          "shell.execute_reply": "2020-08-14T20:01:35.836Z"
        }
      }
    },
    {
      "cell_type": "code",
      "source": [
        "print(\"graph LR;\")\n",
        "for node in h5:\n",
        "  print(f\"    {node._v_pathname}([\\\"{node._v_name}\\\"]);\")\n",
        "for node in h5:\n",
        "  print(f\"    {node._v_parent._v_pathname}-->{node._v_pathname};\")"
      ],
      "outputs": [],
      "execution_count": null,
      "metadata": {
        "collapsed": true,
        "jupyter": {
          "source_hidden": false,
          "outputs_hidden": false
        },
        "nteract": {
          "transient": {
            "deleting": false
          }
        },
        "execution": {
          "iopub.status.busy": "2020-08-17T21:30:06.764Z",
          "iopub.execute_input": "2020-08-17T21:30:06.799Z",
          "iopub.status.idle": "2020-08-17T21:30:06.948Z",
          "shell.execute_reply": "2020-08-17T21:30:06.968Z"
        }
      }
    },
    {
      "cell_type": "code",
      "source": [
        "h5path = \"/neural/synthetic/monkey_m/stretch/session_1\"\n",
        "node = h5.get_node(h5path)\n",
        "node"
      ],
      "outputs": [],
      "execution_count": null,
      "metadata": {
        "collapsed": true,
        "jupyter": {
          "source_hidden": false,
          "outputs_hidden": false
        },
        "nteract": {
          "transient": {
            "deleting": false
          }
        },
        "execution": {
          "iopub.status.busy": "2020-08-17T21:42:38.677Z",
          "iopub.execute_input": "2020-08-17T21:42:38.683Z",
          "iopub.status.idle": "2020-08-17T21:42:38.698Z",
          "shell.execute_reply": "2020-08-17T21:42:38.713Z"
        }
      }
    },
    {
      "cell_type": "code",
      "source": [
        "[type(node) for node in h5]"
      ],
      "outputs": [],
      "execution_count": null,
      "metadata": {
        "collapsed": true,
        "jupyter": {
          "source_hidden": false,
          "outputs_hidden": false
        },
        "nteract": {
          "transient": {
            "deleting": false
          }
        },
        "execution": {
          "iopub.status.busy": "2020-08-17T22:21:27.381Z",
          "iopub.execute_input": "2020-08-17T22:21:27.387Z",
          "iopub.status.idle": "2020-08-17T22:21:27.405Z",
          "shell.execute_reply": "2020-08-17T22:21:27.422Z"
        }
      }
    },
    {
      "cell_type": "code",
      "source": [
        "[node.shape for node in h5 if type(node) == tables.array.Array]"
      ],
      "outputs": [],
      "execution_count": null,
      "metadata": {
        "collapsed": true,
        "jupyter": {
          "source_hidden": false,
          "outputs_hidden": false
        },
        "nteract": {
          "transient": {
            "deleting": false
          }
        },
        "execution": {
          "iopub.status.busy": "2020-08-17T22:25:59.265Z",
          "iopub.execute_input": "2020-08-17T22:25:59.271Z",
          "iopub.status.idle": "2020-08-17T22:25:59.289Z",
          "shell.execute_reply": "2020-08-17T22:25:59.307Z"
        }
      }
    },
    {
      "cell_type": "code",
      "source": [
        "type(h5.get_node(\"/neural/synthetic/monkey_m/stretch\"))"
      ],
      "outputs": [],
      "execution_count": null,
      "metadata": {
        "collapsed": true,
        "jupyter": {
          "source_hidden": false,
          "outputs_hidden": false
        },
        "nteract": {
          "transient": {
            "deleting": false
          }
        },
        "execution": {
          "iopub.status.busy": "2020-08-17T22:14:32.082Z",
          "iopub.execute_input": "2020-08-17T22:14:32.087Z",
          "iopub.status.idle": "2020-08-17T22:14:32.099Z",
          "shell.execute_reply": "2020-08-17T22:14:32.103Z"
        }
      }
    },
    {
      "cell_type": "code",
      "source": [
        "print(\"graph LR;\")\n",
        "for node in h5:\n",
        "  if type(node) == tables.array.Array:\n",
        "    disp = f\"[\\\"{node._v_name} {str(node.shape)}\\\"]\"\n",
        "  else:\n",
        "    disp = f\"([\\\"{node._v_name}\\\"])\"\n",
        "  print(f\"    {node._v_pathname}{disp};\")\n",
        "for node in h5:\n",
        "  print(f\"    {node._v_parent._v_pathname}-->{node._v_pathname};\")"
      ],
      "outputs": [],
      "execution_count": null,
      "metadata": {
        "collapsed": true,
        "jupyter": {
          "source_hidden": false,
          "outputs_hidden": false
        },
        "nteract": {
          "transient": {
            "deleting": false
          }
        },
        "execution": {
          "iopub.status.busy": "2020-08-17T22:45:33.826Z",
          "iopub.execute_input": "2020-08-17T22:45:33.832Z",
          "iopub.status.idle": "2020-08-17T22:45:33.863Z",
          "shell.execute_reply": "2020-08-17T22:45:33.870Z"
        }
      }
    },
    {
      "cell_type": "code",
      "source": [
        "[node._v_name for node in h5.root.neural]"
      ],
      "outputs": [
        {
          "output_type": "execute_result",
          "execution_count": 8,
          "data": {
            "text/plain": "['curvature', 'naturalistic', 'synthetic']"
          },
          "metadata": {}
        }
      ],
      "execution_count": 8,
      "metadata": {
        "collapsed": true,
        "jupyter": {
          "source_hidden": false,
          "outputs_hidden": false
        },
        "nteract": {
          "transient": {
            "deleting": false
          }
        },
        "execution": {
          "iopub.status.busy": "2020-08-21T01:44:28.082Z",
          "iopub.execute_input": "2020-08-21T01:44:28.088Z",
          "iopub.status.idle": "2020-08-21T01:44:28.103Z",
          "shell.execute_reply": "2020-08-21T01:44:28.109Z"
        }
      }
    },
    {
      "cell_type": "code",
      "source": [
        "# assemblies?\n",
        "for monkey in h5.root.neural.synthetic:\n",
        "  for setting in monkey:\n",
        "    for session in setting: \n",
        "      print(f\"synthetic_{monkey._v_name}_{setting._v_name}_{session._v_name}\")"
      ],
      "outputs": [
        {
          "output_type": "stream",
          "name": "stdout",
          "text": [
            "synthetic_monkey_m_ohp_session_1\n",
            "synthetic_monkey_m_ohp_session_2\n",
            "synthetic_monkey_m_stretch_session_1\n",
            "synthetic_monkey_m_stretch_session_2\n",
            "synthetic_monkey_n_stretch_session_1\n",
            "synthetic_monkey_n_stretch_session_2\n",
            "synthetic_monkey_s_ohp_session_1\n",
            "synthetic_monkey_s_stretch_session_1\n"
          ]
        }
      ],
      "execution_count": 14,
      "metadata": {
        "collapsed": true,
        "jupyter": {
          "source_hidden": false,
          "outputs_hidden": false
        },
        "nteract": {
          "transient": {
            "deleting": false
          }
        },
        "execution": {
          "iopub.status.busy": "2020-08-21T02:22:22.480Z",
          "iopub.execute_input": "2020-08-21T02:22:22.488Z",
          "iopub.status.idle": "2020-08-21T02:22:22.502Z",
          "shell.execute_reply": "2020-08-21T02:22:22.509Z"
        }
      }
    },
    {
      "cell_type": "code",
      "source": [
        "for monkey in h5.root.neural.naturalistic:\n",
        "  for setting in monkey:\n",
        "    for session in setting: \n",
        "      for i in range(session.shape[2]):\n",
        "          print(f\"{monkey._v_name[-1]}_{setting._v_name}_{session._v_name[-1]}_{str(i)}\")"
      ],
      "outputs": [
        {
          "output_type": "stream",
          "name": "stdout",
          "text": [
            "m_ohp_1_0\n",
            "m_ohp_1_1\n",
            "m_ohp_1_2\n",
            "m_ohp_1_3\n",
            "m_ohp_1_4\n",
            "m_ohp_1_5\n",
            "m_ohp_1_6\n",
            "m_ohp_1_7\n",
            "m_ohp_1_8\n",
            "m_ohp_1_9\n",
            "m_ohp_1_10\n",
            "m_ohp_1_11\n",
            "m_ohp_1_12\n",
            "m_ohp_1_13\n",
            "m_ohp_1_14\n",
            "m_ohp_1_15\n",
            "m_ohp_1_16\n",
            "m_ohp_1_17\n",
            "m_ohp_1_18\n",
            "m_ohp_1_19\n",
            "m_ohp_1_20\n",
            "m_ohp_1_21\n",
            "m_ohp_1_22\n",
            "m_ohp_1_23\n",
            "m_ohp_1_24\n",
            "m_ohp_1_25\n",
            "m_ohp_1_26\n",
            "m_ohp_1_27\n",
            "m_ohp_1_28\n",
            "m_ohp_1_29\n",
            "m_ohp_1_30\n",
            "m_ohp_1_31\n",
            "m_ohp_1_32\n",
            "m_ohp_1_33\n",
            "m_ohp_1_34\n",
            "m_ohp_1_35\n",
            "m_ohp_1_36\n",
            "m_ohp_1_37\n",
            "m_ohp_1_38\n",
            "m_ohp_2_0\n",
            "m_ohp_2_1\n",
            "m_ohp_2_2\n",
            "m_ohp_2_3\n",
            "m_ohp_2_4\n",
            "m_ohp_2_5\n",
            "m_ohp_2_6\n",
            "m_ohp_2_7\n",
            "m_ohp_2_8\n",
            "m_ohp_2_9\n",
            "m_ohp_2_10\n",
            "m_ohp_2_11\n",
            "m_ohp_2_12\n",
            "m_ohp_2_13\n",
            "m_ohp_2_14\n",
            "m_ohp_2_15\n",
            "m_ohp_2_16\n",
            "m_ohp_2_17\n",
            "m_ohp_2_18\n",
            "m_ohp_2_19\n",
            "m_ohp_2_20\n",
            "m_ohp_2_21\n",
            "m_ohp_2_22\n",
            "m_ohp_2_23\n",
            "m_ohp_2_24\n",
            "m_ohp_2_25\n",
            "m_ohp_2_26\n",
            "m_ohp_2_27\n",
            "m_ohp_2_28\n",
            "m_ohp_2_29\n",
            "m_ohp_2_30\n",
            "m_ohp_2_31\n",
            "m_ohp_2_32\n",
            "m_ohp_2_33\n",
            "m_ohp_2_34\n",
            "m_ohp_2_35\n",
            "m_ohp_2_36\n",
            "m_ohp_2_37\n",
            "m_stretch_1_0\n",
            "m_stretch_1_1\n",
            "m_stretch_1_2\n",
            "m_stretch_1_3\n",
            "m_stretch_1_4\n",
            "m_stretch_1_5\n",
            "m_stretch_1_6\n",
            "m_stretch_1_7\n",
            "m_stretch_1_8\n",
            "m_stretch_1_9\n",
            "m_stretch_1_10\n",
            "m_stretch_1_11\n",
            "m_stretch_1_12\n",
            "m_stretch_1_13\n",
            "m_stretch_1_14\n",
            "m_stretch_1_15\n",
            "m_stretch_1_16\n",
            "m_stretch_1_17\n",
            "m_stretch_1_18\n",
            "m_stretch_1_19\n",
            "m_stretch_1_20\n",
            "m_stretch_1_21\n",
            "m_stretch_1_22\n",
            "m_stretch_1_23\n",
            "m_stretch_1_24\n",
            "m_stretch_1_25\n",
            "m_stretch_1_26\n",
            "m_stretch_1_27\n",
            "m_stretch_1_28\n",
            "m_stretch_1_29\n",
            "m_stretch_1_30\n",
            "m_stretch_1_31\n",
            "m_stretch_1_32\n",
            "m_stretch_1_33\n",
            "m_stretch_1_34\n",
            "m_stretch_1_35\n",
            "m_stretch_1_36\n",
            "m_stretch_1_37\n",
            "m_stretch_1_38\n",
            "m_stretch_2_0\n",
            "m_stretch_2_1\n",
            "m_stretch_2_2\n",
            "m_stretch_2_3\n",
            "m_stretch_2_4\n",
            "m_stretch_2_5\n",
            "m_stretch_2_6\n",
            "m_stretch_2_7\n",
            "m_stretch_2_8\n",
            "m_stretch_2_9\n",
            "m_stretch_2_10\n",
            "m_stretch_2_11\n",
            "m_stretch_2_12\n",
            "m_stretch_2_13\n",
            "m_stretch_2_14\n",
            "m_stretch_2_15\n",
            "m_stretch_2_16\n",
            "m_stretch_2_17\n",
            "m_stretch_2_18\n",
            "m_stretch_2_19\n",
            "m_stretch_2_20\n",
            "m_stretch_2_21\n",
            "m_stretch_2_22\n",
            "m_stretch_2_23\n",
            "m_stretch_2_24\n",
            "m_stretch_2_25\n",
            "m_stretch_2_26\n",
            "m_stretch_2_27\n",
            "m_stretch_2_28\n",
            "m_stretch_2_29\n",
            "m_stretch_2_30\n",
            "m_stretch_2_31\n",
            "m_stretch_2_32\n",
            "m_stretch_2_33\n",
            "m_stretch_2_34\n",
            "m_stretch_2_35\n",
            "m_stretch_2_36\n",
            "m_stretch_2_37\n",
            "m_stretch_2_38\n",
            "m_stretch_2_39\n",
            "m_stretch_2_40\n",
            "m_stretch_2_41\n",
            "m_stretch_2_42\n",
            "m_stretch_2_43\n",
            "m_stretch_2_44\n",
            "m_stretch_2_45\n",
            "m_stretch_2_46\n",
            "m_stretch_2_47\n",
            "m_stretch_2_48\n",
            "m_stretch_2_49\n",
            "m_stretch_2_50\n",
            "m_stretch_2_51\n",
            "n_stretch_1_0\n",
            "n_stretch_1_1\n",
            "n_stretch_1_2\n",
            "n_stretch_1_3\n",
            "n_stretch_1_4\n",
            "n_stretch_1_5\n",
            "n_stretch_1_6\n",
            "n_stretch_1_7\n",
            "n_stretch_1_8\n",
            "n_stretch_1_9\n",
            "n_stretch_1_10\n",
            "n_stretch_1_11\n",
            "n_stretch_1_12\n",
            "n_stretch_1_13\n",
            "n_stretch_1_14\n",
            "n_stretch_1_15\n",
            "n_stretch_1_16\n",
            "n_stretch_1_17\n",
            "n_stretch_1_18\n",
            "n_stretch_1_19\n",
            "n_stretch_2_0\n",
            "s_ohp_1_0\n",
            "s_ohp_1_1\n",
            "s_ohp_1_2\n",
            "s_ohp_1_3\n",
            "s_ohp_1_4\n",
            "s_ohp_1_5\n",
            "s_ohp_1_6\n",
            "s_ohp_1_7\n",
            "s_ohp_1_8\n",
            "s_ohp_1_9\n",
            "s_ohp_1_10\n",
            "s_ohp_1_11\n",
            "s_ohp_1_12\n",
            "s_ohp_1_13\n",
            "s_ohp_1_14\n",
            "s_ohp_1_15\n",
            "s_ohp_1_16\n",
            "s_ohp_1_17\n",
            "s_ohp_1_18\n",
            "s_ohp_1_19\n",
            "s_ohp_1_20\n",
            "s_ohp_1_21\n",
            "s_stretch_1_0\n",
            "s_stretch_1_1\n",
            "s_stretch_1_2\n",
            "s_stretch_1_3\n",
            "s_stretch_1_4\n",
            "s_stretch_1_5\n",
            "s_stretch_1_6\n",
            "s_stretch_1_7\n",
            "s_stretch_1_8\n",
            "s_stretch_1_9\n",
            "s_stretch_1_10\n",
            "s_stretch_1_11\n",
            "s_stretch_1_12\n",
            "s_stretch_1_13\n",
            "s_stretch_1_14\n",
            "s_stretch_1_15\n",
            "s_stretch_1_16\n",
            "s_stretch_1_17\n",
            "s_stretch_1_18\n",
            "s_stretch_1_19\n",
            "s_stretch_1_20\n",
            "s_stretch_1_21\n"
          ]
        }
      ],
      "execution_count": 12,
      "metadata": {
        "collapsed": true,
        "jupyter": {
          "source_hidden": false,
          "outputs_hidden": false
        },
        "nteract": {
          "transient": {
            "deleting": false
          }
        },
        "execution": {
          "iopub.status.busy": "2020-08-21T01:52:45.652Z",
          "iopub.execute_input": "2020-08-21T01:52:45.658Z",
          "iopub.status.idle": "2020-08-21T01:52:45.672Z",
          "shell.execute_reply": "2020-08-21T01:52:45.679Z"
        }
      }
    },
    {
      "cell_type": "code",
      "source": [
        "h5.root.neural.synthetic.monkey_m.stretch.session_1"
      ],
      "outputs": [
        {
          "output_type": "execute_result",
          "execution_count": 15,
          "data": {
            "text/plain": "/neural/synthetic/monkey_m/stretch/session_1 (Array(51, 50, 39)) ''\n  atom := Float64Atom(shape=(), dflt=0.0)\n  maindim := 0\n  flavor := 'numpy'\n  byteorder := 'little'\n  chunkshape := None"
          },
          "metadata": {}
        }
      ],
      "execution_count": 15,
      "metadata": {
        "collapsed": true,
        "jupyter": {
          "source_hidden": false,
          "outputs_hidden": false
        },
        "nteract": {
          "transient": {
            "deleting": false
          }
        },
        "execution": {
          "iopub.status.busy": "2020-08-22T02:34:02.332Z",
          "iopub.execute_input": "2020-08-22T02:34:02.339Z",
          "iopub.status.idle": "2020-08-22T02:34:02.355Z",
          "shell.execute_reply": "2020-08-22T02:34:02.361Z"
        }
      }
    },
    {
      "cell_type": "code",
      "source": [
        "from PIL import Image"
      ],
      "outputs": [],
      "execution_count": 16,
      "metadata": {
        "collapsed": true,
        "jupyter": {
          "source_hidden": false,
          "outputs_hidden": false
        },
        "nteract": {
          "transient": {
            "deleting": false
          }
        },
        "execution": {
          "iopub.status.busy": "2020-08-22T02:59:08.853Z",
          "iopub.execute_input": "2020-08-22T02:59:08.861Z",
          "shell.execute_reply": "2020-08-22T02:59:09.625Z",
          "iopub.status.idle": "2020-08-22T02:59:09.632Z"
        }
      }
    },
    {
      "cell_type": "code",
      "source": [
        "img_m_s_1_00 = h5.root.images.synthetic.monkey_m.stretch.session_1[0]\n",
        "img_m_s_1_00"
      ],
      "outputs": [
        {
          "output_type": "execute_result",
          "execution_count": 19,
          "data": {
            "text/plain": "array([[127., 127., 127., ..., 125., 125., 125.],\n       [127., 127., 127., ..., 126., 125., 125.],\n       [127., 127., 127., ..., 125., 125., 125.],\n       ...,\n       [127., 127., 127., ..., 127., 126., 126.],\n       [127., 127., 127., ..., 127., 126., 126.],\n       [127., 127., 127., ..., 127., 126., 126.]])"
          },
          "metadata": {}
        }
      ],
      "execution_count": 19,
      "metadata": {
        "collapsed": true,
        "jupyter": {
          "source_hidden": false,
          "outputs_hidden": false
        },
        "nteract": {
          "transient": {
            "deleting": false
          }
        },
        "execution": {
          "iopub.status.busy": "2020-08-22T03:10:17.467Z",
          "iopub.execute_input": "2020-08-22T03:10:17.473Z",
          "iopub.status.idle": "2020-08-22T03:10:17.487Z",
          "shell.execute_reply": "2020-08-22T03:10:17.493Z"
        }
      }
    },
    {
      "cell_type": "code",
      "source": [
        "h5"
      ],
      "outputs": [
        {
          "output_type": "stream",
          "name": "stderr",
          "text": [
            "/Users/jjpr/anaconda/envs/brainio_contrib/lib/python3.7/site-packages/tables/group.py:1205: UserWarning: problems loading leaf ``/readme``::\n",
            "\n",
            "  variable length strings are not supported yet\n",
            "\n",
            "The leaf will become an ``UnImplemented`` node.\n",
            "  % (self._g_join(childname), exc))\n"
          ]
        },
        {
          "output_type": "execute_result",
          "execution_count": 20,
          "data": {
            "text/plain": "File(filename=/Users/jjpr/Downloads/DiCarlo Lab/npc_v4_data.h5, title='', mode='r', root_uep='/', filters=Filters(complevel=0, shuffle=False, bitshuffle=False, fletcher32=False, least_significant_digit=None))\n/ (RootGroup) ''\n/readme (UnImplemented()) ''\n  NOTE: <The UnImplemented object represents a PyTables unimplemented\n         dataset present in the '/Users/jjpr/Downloads/DiCarlo Lab/npc_v4_data.h5' HDF5 file.  If you want to see this\n         kind of HDF5 dataset implemented in PyTables, please contact the\n         developers.>\n\n/images (Group) ''\n/images/curvature (Array(370, 299, 299, 3)) ''\n  atom := UInt8Atom(shape=(), dflt=0)\n  maindim := 0\n  flavor := 'numpy'\n  byteorder := 'irrelevant'\n  chunkshape := None\n/images/naturalistic (Array(640, 299, 299)) ''\n  atom := UInt8Atom(shape=(), dflt=0)\n  maindim := 0\n  flavor := 'numpy'\n  byteorder := 'irrelevant'\n  chunkshape := None\n/neural (Group) ''\n/target_inds (Group) ''\n/target_inds/monkey_m (Group) ''\n/target_inds/monkey_n (Group) ''\n/target_inds/monkey_s (Group) ''\n/target_inds/monkey_s/ohp (Group) ''\n/target_inds/monkey_s/ohp/session_1 (Array(19,)) ''\n  atom := Int64Atom(shape=(), dflt=0)\n  maindim := 0\n  flavor := 'numpy'\n  byteorder := 'little'\n  chunkshape := None\n/target_inds/monkey_s/stretch (Group) ''\n/target_inds/monkey_s/stretch/session_1 (Array(19,)) ''\n  atom := Int64Atom(shape=(), dflt=0)\n  maindim := 0\n  flavor := 'numpy'\n  byteorder := 'little'\n  chunkshape := None\n/target_inds/monkey_n/stretch (Group) ''\n/target_inds/monkey_n/stretch/session_1 (Array(18,)) ''\n  atom := Int64Atom(shape=(), dflt=0)\n  maindim := 0\n  flavor := 'numpy'\n  byteorder := 'little'\n  chunkshape := None\n/target_inds/monkey_n/stretch/session_2 (Array(1,)) ''\n  atom := Int64Atom(shape=(), dflt=0)\n  maindim := 0\n  flavor := 'numpy'\n  byteorder := 'little'\n  chunkshape := None\n/target_inds/monkey_m/ohp (Group) ''\n/target_inds/monkey_m/ohp/session_1 (Array(5,)) ''\n  atom := Int64Atom(shape=(), dflt=0)\n  maindim := 0\n  flavor := 'numpy'\n  byteorder := 'little'\n  chunkshape := None\n/target_inds/monkey_m/ohp/session_2 (Array(9,)) ''\n  atom := Int64Atom(shape=(), dflt=0)\n  maindim := 0\n  flavor := 'numpy'\n  byteorder := 'little'\n  chunkshape := None\n/target_inds/monkey_m/stretch (Group) ''\n/target_inds/monkey_m/stretch/session_1 (Array(5,)) ''\n  atom := Int64Atom(shape=(), dflt=0)\n  maindim := 0\n  flavor := 'numpy'\n  byteorder := 'little'\n  chunkshape := None\n/target_inds/monkey_m/stretch/session_2 (Array(16,)) ''\n  atom := Int64Atom(shape=(), dflt=0)\n  maindim := 0\n  flavor := 'numpy'\n  byteorder := 'little'\n  chunkshape := None\n/neural/curvature (Group) ''\n/neural/curvature/monkey_m (Array(28, 370, 52)) ''\n  atom := Float64Atom(shape=(), dflt=0.0)\n  maindim := 0\n  flavor := 'numpy'\n  byteorder := 'little'\n  chunkshape := None\n/neural/curvature/monkey_s (Array(37, 370, 22)) ''\n  atom := Float64Atom(shape=(), dflt=0.0)\n  maindim := 0\n  flavor := 'numpy'\n  byteorder := 'little'\n  chunkshape := None\n/neural/naturalistic (Group) ''\n/neural/synthetic (Group) ''\n/neural/synthetic/monkey_m (Group) ''\n/neural/synthetic/monkey_n (Group) ''\n/neural/synthetic/monkey_s (Group) ''\n/neural/synthetic/monkey_s/ohp (Group) ''\n/neural/synthetic/monkey_s/ohp/session_1 (Array(47, 95, 22)) ''\n  atom := Float64Atom(shape=(), dflt=0.0)\n  maindim := 0\n  flavor := 'numpy'\n  byteorder := 'little'\n  chunkshape := None\n/neural/synthetic/monkey_s/stretch (Group) ''\n/neural/synthetic/monkey_s/stretch/session_1 (Array(47, 95, 22)) ''\n  atom := Float64Atom(shape=(), dflt=0.0)\n  maindim := 0\n  flavor := 'numpy'\n  byteorder := 'little'\n  chunkshape := None\n/neural/synthetic/monkey_n/stretch (Group) ''\n/neural/synthetic/monkey_n/stretch/session_1 (Array(31, 90, 20)) ''\n  atom := Float64Atom(shape=(), dflt=0.0)\n  maindim := 0\n  flavor := 'numpy'\n  byteorder := 'little'\n  chunkshape := None\n/neural/synthetic/monkey_n/stretch/session_2 (Array(20, 5, 1)) ''\n  atom := Float64Atom(shape=(), dflt=0.0)\n  maindim := 0\n  flavor := 'numpy'\n  byteorder := 'little'\n  chunkshape := None\n/neural/synthetic/monkey_m/ohp (Group) ''\n/neural/synthetic/monkey_m/ohp/session_1 (Array(51, 50, 39)) ''\n  atom := Float64Atom(shape=(), dflt=0.0)\n  maindim := 0\n  flavor := 'numpy'\n  byteorder := 'little'\n  chunkshape := None\n/neural/synthetic/monkey_m/ohp/session_2 (Array(40, 45, 38)) ''\n  atom := Float64Atom(shape=(), dflt=0.0)\n  maindim := 0\n  flavor := 'numpy'\n  byteorder := 'little'\n  chunkshape := None\n/neural/synthetic/monkey_m/stretch (Group) ''\n/neural/synthetic/monkey_m/stretch/session_1 (Array(51, 50, 39)) ''\n  atom := Float64Atom(shape=(), dflt=0.0)\n  maindim := 0\n  flavor := 'numpy'\n  byteorder := 'little'\n  chunkshape := None\n/neural/synthetic/monkey_m/stretch/session_2 (Array(33, 80, 52)) ''\n  atom := Float64Atom(shape=(), dflt=0.0)\n  maindim := 0\n  flavor := 'numpy'\n  byteorder := 'little'\n  chunkshape := None\n/neural/naturalistic/monkey_m (Group) ''\n/neural/naturalistic/monkey_n (Group) ''\n/neural/naturalistic/monkey_s (Group) ''\n/neural/naturalistic/monkey_s/ohp (Group) ''\n/neural/naturalistic/monkey_s/ohp/session_1 (Array(33, 640, 22)) ''\n  atom := Float64Atom(shape=(), dflt=0.0)\n  maindim := 0\n  flavor := 'numpy'\n  byteorder := 'little'\n  chunkshape := None\n/neural/naturalistic/monkey_s/stretch (Group) ''\n/neural/naturalistic/monkey_s/stretch/session_1 (Array(33, 640, 22)) ''\n  atom := Float64Atom(shape=(), dflt=0.0)\n  maindim := 0\n  flavor := 'numpy'\n  byteorder := 'little'\n  chunkshape := None\n/neural/naturalistic/monkey_n/stretch (Group) ''\n/neural/naturalistic/monkey_n/stretch/session_1 (Array(34, 640, 20)) ''\n  atom := Float64Atom(shape=(), dflt=0.0)\n  maindim := 0\n  flavor := 'numpy'\n  byteorder := 'little'\n  chunkshape := None\n/neural/naturalistic/monkey_n/stretch/session_2 (Array(34, 640, 1)) ''\n  atom := Float64Atom(shape=(), dflt=0.0)\n  maindim := 0\n  flavor := 'numpy'\n  byteorder := 'little'\n  chunkshape := None\n/neural/naturalistic/monkey_m/ohp (Group) ''\n/neural/naturalistic/monkey_m/ohp/session_1 (Array(38, 640, 39)) ''\n  atom := Float64Atom(shape=(), dflt=0.0)\n  maindim := 0\n  flavor := 'numpy'\n  byteorder := 'little'\n  chunkshape := None\n/neural/naturalistic/monkey_m/ohp/session_2 (Array(36, 640, 38)) ''\n  atom := Float64Atom(shape=(), dflt=0.0)\n  maindim := 0\n  flavor := 'numpy'\n  byteorder := 'little'\n  chunkshape := None\n/neural/naturalistic/monkey_m/stretch (Group) ''\n/neural/naturalistic/monkey_m/stretch/session_1 (Array(38, 640, 39)) ''\n  atom := Float64Atom(shape=(), dflt=0.0)\n  maindim := 0\n  flavor := 'numpy'\n  byteorder := 'little'\n  chunkshape := None\n/neural/naturalistic/monkey_m/stretch/session_2 (Array(36, 640, 52)) ''\n  atom := Float64Atom(shape=(), dflt=0.0)\n  maindim := 0\n  flavor := 'numpy'\n  byteorder := 'little'\n  chunkshape := None\n/images/synthetic (Group) ''\n/images/synthetic/monkey_m (Group) ''\n/images/synthetic/monkey_n (Group) ''\n/images/synthetic/monkey_s (Group) ''\n/images/synthetic/monkey_s/ohp (Group) ''\n/images/synthetic/monkey_s/ohp/session_1 (Array(95, 299, 299)) ''\n  atom := Float64Atom(shape=(), dflt=0.0)\n  maindim := 0\n  flavor := 'numpy'\n  byteorder := 'little'\n  chunkshape := None\n/images/synthetic/monkey_s/stretch (Group) ''\n/images/synthetic/monkey_s/stretch/session_1 (Array(95, 299, 299)) ''\n  atom := Float64Atom(shape=(), dflt=0.0)\n  maindim := 0\n  flavor := 'numpy'\n  byteorder := 'little'\n  chunkshape := None\n/images/synthetic/monkey_n/stretch (Group) ''\n/images/synthetic/monkey_n/stretch/session_1 (Array(90, 299, 299)) ''\n  atom := Float64Atom(shape=(), dflt=0.0)\n  maindim := 0\n  flavor := 'numpy'\n  byteorder := 'little'\n  chunkshape := None\n/images/synthetic/monkey_n/stretch/session_2 (Array(5, 299, 299)) ''\n  atom := Float64Atom(shape=(), dflt=0.0)\n  maindim := 0\n  flavor := 'numpy'\n  byteorder := 'little'\n  chunkshape := None\n/images/synthetic/monkey_m/ohp (Group) ''\n/images/synthetic/monkey_m/ohp/session_1 (Array(50, 299, 299)) ''\n  atom := Float64Atom(shape=(), dflt=0.0)\n  maindim := 0\n  flavor := 'numpy'\n  byteorder := 'little'\n  chunkshape := None\n/images/synthetic/monkey_m/ohp/session_2 (Array(45, 299, 299)) ''\n  atom := Float64Atom(shape=(), dflt=0.0)\n  maindim := 0\n  flavor := 'numpy'\n  byteorder := 'little'\n  chunkshape := None\n/images/synthetic/monkey_m/stretch (Group) ''\n/images/synthetic/monkey_m/stretch/session_1 (Array(50, 299, 299)) ''\n  atom := Float64Atom(shape=(), dflt=0.0)\n  maindim := 0\n  flavor := 'numpy'\n  byteorder := 'little'\n  chunkshape := None\n/images/synthetic/monkey_m/stretch/session_2 (Array(80, 299, 299)) ''\n  atom := Float64Atom(shape=(), dflt=0.0)\n  maindim := 0\n  flavor := 'numpy'\n  byteorder := 'little'\n  chunkshape := None"
          },
          "metadata": {}
        }
      ],
      "execution_count": 20,
      "metadata": {
        "collapsed": true,
        "jupyter": {
          "source_hidden": false,
          "outputs_hidden": false
        },
        "nteract": {
          "transient": {
            "deleting": false
          }
        },
        "execution": {
          "iopub.status.busy": "2020-08-22T03:13:28.605Z",
          "iopub.execute_input": "2020-08-22T03:13:28.612Z",
          "iopub.status.idle": "2020-08-22T03:13:28.646Z",
          "shell.execute_reply": "2020-08-22T03:13:28.689Z"
        }
      }
    },
    {
      "cell_type": "code",
      "source": [
        "img = Image.fromarray((img_m_s_1_00).astype('uint8'))\n",
        "img"
      ],
      "outputs": [
        {
          "output_type": "execute_result",
          "execution_count": 21,
          "data": {
            "text/plain": "<PIL.Image.Image image mode=L size=299x299 at 0x7FEF9C3DF908>",
            "image/png": "[encoded data removed]"
          },
          "metadata": {}
        }
      ],
      "execution_count": 21,
      "metadata": {
        "collapsed": true,
        "jupyter": {
          "source_hidden": false,
          "outputs_hidden": false
        },
        "nteract": {
          "transient": {
            "deleting": false
          }
        },
        "execution": {
          "iopub.status.busy": "2020-08-22T03:23:16.783Z",
          "iopub.execute_input": "2020-08-22T03:23:16.797Z",
          "iopub.status.idle": "2020-08-22T03:23:16.825Z",
          "shell.execute_reply": "2020-08-22T03:23:16.839Z"
        }
      }
    },
    {
      "cell_type": "code",
      "source": [
        "img_nat_00 = h5.root.images.naturalistic[0]\n",
        "img_nat_00"
      ],
      "outputs": [
        {
          "output_type": "execute_result",
          "execution_count": 22,
          "data": {
            "text/plain": "array([[128, 128, 128, ..., 128, 128, 128],\n       [128, 128, 128, ..., 128, 128, 128],\n       [128, 128, 128, ..., 128, 128, 128],\n       ...,\n       [128, 128, 128, ..., 128, 128, 128],\n       [128, 128, 128, ..., 128, 128, 128],\n       [128, 128, 128, ..., 128, 128, 128]], dtype=uint8)"
          },
          "metadata": {}
        }
      ],
      "execution_count": 22,
      "metadata": {
        "collapsed": true,
        "jupyter": {
          "source_hidden": false,
          "outputs_hidden": false
        },
        "nteract": {
          "transient": {
            "deleting": false
          }
        },
        "execution": {
          "iopub.status.busy": "2020-08-22T03:26:53.171Z",
          "iopub.execute_input": "2020-08-22T03:26:53.178Z",
          "iopub.status.idle": "2020-08-22T03:26:53.195Z",
          "shell.execute_reply": "2020-08-22T03:26:53.203Z"
        }
      }
    },
    {
      "cell_type": "code",
      "source": [
        "img2 = Image.fromarray((img_nat_00).astype('uint8'))\n",
        "img2"
      ],
      "outputs": [
        {
          "output_type": "execute_result",
          "execution_count": 23,
          "data": {
            "text/plain": "<PIL.Image.Image image mode=L size=299x299 at 0x7FEF9C24A400>",
            "image/png": "[encoded data removed]"
          },
          "metadata": {}
        }
      ],
      "execution_count": 23,
      "metadata": {
        "collapsed": true,
        "jupyter": {
          "source_hidden": false,
          "outputs_hidden": false
        },
        "nteract": {
          "transient": {
            "deleting": false
          }
        },
        "execution": {
          "iopub.status.busy": "2020-08-22T03:27:24.663Z",
          "iopub.execute_input": "2020-08-22T03:27:24.673Z",
          "iopub.status.idle": "2020-08-22T03:27:24.696Z",
          "shell.execute_reply": "2020-08-22T03:27:24.707Z"
        }
      }
    },
    {
      "cell_type": "code",
      "source": [
        "from pathlib import Path\n",
        "data_dir = Path(\"/Users/jjpr/dev/brainio_contrib/mkgu_packaging/dicarlo/BashivanKar2019\")"
      ],
      "outputs": [],
      "execution_count": 24,
      "metadata": {
        "collapsed": true,
        "jupyter": {
          "source_hidden": false,
          "outputs_hidden": false
        },
        "nteract": {
          "transient": {
            "deleting": false
          }
        },
        "execution": {
          "iopub.status.busy": "2020-08-22T03:32:47.603Z",
          "iopub.execute_input": "2020-08-22T03:32:47.612Z",
          "iopub.status.idle": "2020-08-22T03:32:47.627Z",
          "shell.execute_reply": "2020-08-22T03:32:47.636Z"
        }
      }
    },
    {
      "cell_type": "code",
      "source": [
        "target_path = data_dir/\"test\"/\"img_00.png\"\n",
        "target_path.parent.mkdir(parents=True, exist_ok=True)"
      ],
      "outputs": [],
      "execution_count": 27,
      "metadata": {
        "collapsed": true,
        "jupyter": {
          "source_hidden": false,
          "outputs_hidden": false
        },
        "nteract": {
          "transient": {
            "deleting": false
          }
        },
        "execution": {
          "iopub.status.busy": "2020-08-22T03:40:22.020Z",
          "iopub.execute_input": "2020-08-22T03:40:22.028Z",
          "iopub.status.idle": "2020-08-22T03:40:22.044Z",
          "shell.execute_reply": "2020-08-22T03:40:22.058Z"
        }
      }
    },
    {
      "cell_type": "code",
      "source": [
        "img2.save(target_path)"
      ],
      "outputs": [],
      "execution_count": 28,
      "metadata": {
        "collapsed": true,
        "jupyter": {
          "source_hidden": false,
          "outputs_hidden": false
        },
        "nteract": {
          "transient": {
            "deleting": false
          }
        },
        "execution": {
          "iopub.status.busy": "2020-08-22T03:40:22.159Z",
          "iopub.execute_input": "2020-08-22T03:40:22.171Z",
          "iopub.status.idle": "2020-08-22T03:40:22.188Z",
          "shell.execute_reply": "2020-08-22T03:40:22.199Z"
        }
      }
    },
    {
      "cell_type": "code",
      "source": [
        "from brainio_collection.lookup import sha1_hash"
      ],
      "outputs": [],
      "execution_count": 29,
      "metadata": {
        "collapsed": true,
        "jupyter": {
          "source_hidden": false,
          "outputs_hidden": false
        },
        "nteract": {
          "transient": {
            "deleting": false
          }
        },
        "execution": {
          "iopub.status.busy": "2020-08-22T19:18:07.095Z",
          "iopub.execute_input": "2020-08-22T19:18:07.105Z",
          "iopub.status.idle": "2020-08-22T19:18:07.122Z",
          "shell.execute_reply": "2020-08-22T19:18:07.132Z"
        }
      }
    },
    {
      "cell_type": "code",
      "source": [
        "sha1_img2 = sha1_hash(target_path)\n",
        "sha1_img2"
      ],
      "outputs": [
        {
          "output_type": "execute_result",
          "execution_count": 30,
          "data": {
            "text/plain": "'a5ca287ed63a8a1712acd20685744cdb6e96cba5'"
          },
          "metadata": {}
        }
      ],
      "execution_count": 30,
      "metadata": {
        "collapsed": true,
        "jupyter": {
          "source_hidden": false,
          "outputs_hidden": false
        },
        "nteract": {
          "transient": {
            "deleting": false
          }
        },
        "execution": {
          "iopub.status.busy": "2020-08-22T19:19:33.832Z",
          "iopub.execute_input": "2020-08-22T19:19:33.841Z",
          "iopub.status.idle": "2020-08-22T19:19:33.865Z",
          "shell.execute_reply": "2020-08-22T19:19:33.874Z"
        }
      }
    },
    {
      "cell_type": "code",
      "source": [
        "data_dir.parents[6]"
      ],
      "outputs": [
        {
          "output_type": "execute_result",
          "execution_count": 31,
          "data": {
            "text/plain": "PosixPath('/')"
          },
          "metadata": {}
        }
      ],
      "execution_count": 31,
      "metadata": {
        "collapsed": true,
        "jupyter": {
          "source_hidden": false,
          "outputs_hidden": false
        },
        "nteract": {
          "transient": {
            "deleting": false
          }
        },
        "execution": {
          "iopub.status.busy": "2020-08-23T01:25:09.052Z",
          "iopub.execute_input": "2020-08-23T01:25:09.062Z",
          "iopub.status.idle": "2020-08-23T01:25:09.089Z",
          "shell.execute_reply": "2020-08-23T01:25:09.099Z"
        }
      }
    },
    {
      "cell_type": "code",
      "source": [
        "img_temp = data_dir / \"images_temp\" "
      ],
      "outputs": [],
      "execution_count": 32,
      "metadata": {
        "collapsed": true,
        "jupyter": {
          "source_hidden": false,
          "outputs_hidden": false
        },
        "nteract": {
          "transient": {
            "deleting": false
          }
        },
        "execution": {
          "iopub.status.busy": "2020-08-23T01:49:52.772Z",
          "iopub.execute_input": "2020-08-23T01:49:52.785Z",
          "iopub.status.idle": "2020-08-23T01:49:52.808Z",
          "shell.execute_reply": "2020-08-23T01:49:52.820Z"
        }
      }
    },
    {
      "cell_type": "code",
      "source": [
        "img_temp_nat = img_temp / \"naturalistic\"\n",
        "img_temp_nat.mkdir(parents=True, exist_ok=True)\n",
        "img_temp_nat.is_dir()"
      ],
      "outputs": [
        {
          "output_type": "execute_result",
          "execution_count": 34,
          "data": {
            "text/plain": "True"
          },
          "metadata": {}
        }
      ],
      "execution_count": 34,
      "metadata": {
        "collapsed": true,
        "jupyter": {
          "source_hidden": false,
          "outputs_hidden": false
        },
        "nteract": {
          "transient": {
            "deleting": false
          }
        },
        "execution": {
          "iopub.status.busy": "2020-08-23T01:52:45.912Z",
          "iopub.execute_input": "2020-08-23T01:52:45.923Z",
          "iopub.status.idle": "2020-08-23T01:52:45.948Z",
          "shell.execute_reply": "2020-08-23T01:52:45.959Z"
        }
      }
    },
    {
      "cell_type": "code",
      "source": [
        "for i, img_np in enumerate(h5.root.images.naturalistic):\n",
        "  img_pil = Image.fromarray((img_np).astype('uint8'))\n",
        "  img_path = img_temp_nat / f\"img{i}.png\"\n",
        "  img_pil.save(img_path)\n",
        "  sha1 = sha1_hash(img_path)\n",
        "  img_path_sha1 = img_temp_nat / f\"{sha1}.png\"\n",
        "  img_path.rename(img_path_sha1)\n",
        "  print(f\"{img_path} -> {img_path_sha1}\")\n"
      ],
      "outputs": [
        {
          "output_type": "stream",
          "name": "stdout",
          "text": [
            "/Users/jjpr/dev/brainio_contrib/mkgu_packaging/dicarlo/BashivanKar2019/images_temp/naturalistic/img0.png -> /Users/jjpr/dev/brainio_contrib/mkgu_packaging/dicarlo/BashivanKar2019/images_temp/naturalistic/a5ca287ed63a8a1712acd20685744cdb6e96cba5.png\n",
            "/Users/jjpr/dev/brainio_contrib/mkgu_packaging/dicarlo/BashivanKar2019/images_temp/naturalistic/img1.png -> /Users/jjpr/dev/brainio_contrib/mkgu_packaging/dicarlo/BashivanKar2019/images_temp/naturalistic/06fc797aecd8c4baa55f7240bd2f81fc99c34676.png\n",
            "/Users/jjpr/dev/brainio_contrib/mkgu_packaging/dicarlo/BashivanKar2019/images_temp/naturalistic/img2.png -> /Users/jjpr/dev/brainio_contrib/mkgu_packaging/dicarlo/BashivanKar2019/images_temp/naturalistic/79791f716c4cdd42f8e82a91f56b579d07b83485.png\n",
            "/Users/jjpr/dev/brainio_contrib/mkgu_packaging/dicarlo/BashivanKar2019/images_temp/naturalistic/img3.png -> /Users/jjpr/dev/brainio_contrib/mkgu_packaging/dicarlo/BashivanKar2019/images_temp/naturalistic/400071b6ede4e8d15a851b9880714454909fda39.png\n",
            "/Users/jjpr/dev/brainio_contrib/mkgu_packaging/dicarlo/BashivanKar2019/images_temp/naturalistic/img4.png -> /Users/jjpr/dev/brainio_contrib/mkgu_packaging/dicarlo/BashivanKar2019/images_temp/naturalistic/e47fd0be98d9177bd9f392d3a5fd6d4325641095.png\n",
            "/Users/jjpr/dev/brainio_contrib/mkgu_packaging/dicarlo/BashivanKar2019/images_temp/naturalistic/img5.png -> /Users/jjpr/dev/brainio_contrib/mkgu_packaging/dicarlo/BashivanKar2019/images_temp/naturalistic/593a2df27c63d8d63e73f445a55ef5df756de32b.png\n",
            "/Users/jjpr/dev/brainio_contrib/mkgu_packaging/dicarlo/BashivanKar2019/images_temp/naturalistic/img6.png -> /Users/jjpr/dev/brainio_contrib/mkgu_packaging/dicarlo/BashivanKar2019/images_temp/naturalistic/d8a8145b2903373aafea5b0a804140f272a2f869.png\n",
            "/Users/jjpr/dev/brainio_contrib/mkgu_packaging/dicarlo/BashivanKar2019/images_temp/naturalistic/img7.png -> /Users/jjpr/dev/brainio_contrib/mkgu_packaging/dicarlo/BashivanKar2019/images_temp/naturalistic/da4c9d27b809c8c351de30deb85ad0f10ee12554.png\n",
            "/Users/jjpr/dev/brainio_contrib/mkgu_packaging/dicarlo/BashivanKar2019/images_temp/naturalistic/img8.png -> /Users/jjpr/dev/brainio_contrib/mkgu_packaging/dicarlo/BashivanKar2019/images_temp/naturalistic/d434ac2f492da1e7e4619574fdcbc3177e089733.png\n",
            "/Users/jjpr/dev/brainio_contrib/mkgu_packaging/dicarlo/BashivanKar2019/images_temp/naturalistic/img9.png -> /Users/jjpr/dev/brainio_contrib/mkgu_packaging/dicarlo/BashivanKar2019/images_temp/naturalistic/cef2b4cfbda057f83abd78bda5e5e2540db815f2.png\n",
            "/Users/jjpr/dev/brainio_contrib/mkgu_packaging/dicarlo/BashivanKar2019/images_temp/naturalistic/img10.png -> /Users/jjpr/dev/brainio_contrib/mkgu_packaging/dicarlo/BashivanKar2019/images_temp/naturalistic/234102cc73abe8155621356aad03b724715e7b27.png\n",
            "/Users/jjpr/dev/brainio_contrib/mkgu_packaging/dicarlo/BashivanKar2019/images_temp/naturalistic/img11.png -> /Users/jjpr/dev/brainio_contrib/mkgu_packaging/dicarlo/BashivanKar2019/images_temp/naturalistic/0071a2dd239e99a6064369d2be464d49247759d0.png\n",
            "/Users/jjpr/dev/brainio_contrib/mkgu_packaging/dicarlo/BashivanKar2019/images_temp/naturalistic/img12.png -> /Users/jjpr/dev/brainio_contrib/mkgu_packaging/dicarlo/BashivanKar2019/images_temp/naturalistic/ceea9c9c19a6508e635e94e820a0c80c521ae9d8.png\n",
            "/Users/jjpr/dev/brainio_contrib/mkgu_packaging/dicarlo/BashivanKar2019/images_temp/naturalistic/img13.png -> /Users/jjpr/dev/brainio_contrib/mkgu_packaging/dicarlo/BashivanKar2019/images_temp/naturalistic/fcd6e20a5b737a0e23b6568bbcfc1002e7d87a3d.png\n",
            "/Users/jjpr/dev/brainio_contrib/mkgu_packaging/dicarlo/BashivanKar2019/images_temp/naturalistic/img14.png -> /Users/jjpr/dev/brainio_contrib/mkgu_packaging/dicarlo/BashivanKar2019/images_temp/naturalistic/3ce1c234fe1a48d0be3473a57cb5cc959a8eab8d.png\n",
            "/Users/jjpr/dev/brainio_contrib/mkgu_packaging/dicarlo/BashivanKar2019/images_temp/naturalistic/img15.png -> /Users/jjpr/dev/brainio_contrib/mkgu_packaging/dicarlo/BashivanKar2019/images_temp/naturalistic/bbaf323b93936ecc16dbc6c4cb2f3cac1391f630.png\n",
            "/Users/jjpr/dev/brainio_contrib/mkgu_packaging/dicarlo/BashivanKar2019/images_temp/naturalistic/img16.png -> /Users/jjpr/dev/brainio_contrib/mkgu_packaging/dicarlo/BashivanKar2019/images_temp/naturalistic/6e5e9da09cfeae0951a74957047974b4fc421b9e.png\n",
            "/Users/jjpr/dev/brainio_contrib/mkgu_packaging/dicarlo/BashivanKar2019/images_temp/naturalistic/img17.png -> /Users/jjpr/dev/brainio_contrib/mkgu_packaging/dicarlo/BashivanKar2019/images_temp/naturalistic/4ee987d07861ffc114c6e3d2cb3a6970f39da8b6.png\n",
            "/Users/jjpr/dev/brainio_contrib/mkgu_packaging/dicarlo/BashivanKar2019/images_temp/naturalistic/img18.png -> /Users/jjpr/dev/brainio_contrib/mkgu_packaging/dicarlo/BashivanKar2019/images_temp/naturalistic/112470323b9879a155237f1d5ae31d83b52645f9.png\n",
            "/Users/jjpr/dev/brainio_contrib/mkgu_packaging/dicarlo/BashivanKar2019/images_temp/naturalistic/img19.png -> /Users/jjpr/dev/brainio_contrib/mkgu_packaging/dicarlo/BashivanKar2019/images_temp/naturalistic/fca55dc1ee741fa7fb68ab135cab98a608cfec42.png\n",
            "/Users/jjpr/dev/brainio_contrib/mkgu_packaging/dicarlo/BashivanKar2019/images_temp/naturalistic/img20.png -> /Users/jjpr/dev/brainio_contrib/mkgu_packaging/dicarlo/BashivanKar2019/images_temp/naturalistic/4fdebf8c1c484ec7ec4049a62f6039f2ee760538.png\n",
            "/Users/jjpr/dev/brainio_contrib/mkgu_packaging/dicarlo/BashivanKar2019/images_temp/naturalistic/img21.png -> /Users/jjpr/dev/brainio_contrib/mkgu_packaging/dicarlo/BashivanKar2019/images_temp/naturalistic/36c1bd15a897851a8c3e45783d4d0e819a06a14d.png\n",
            "/Users/jjpr/dev/brainio_contrib/mkgu_packaging/dicarlo/BashivanKar2019/images_temp/naturalistic/img22.png -> /Users/jjpr/dev/brainio_contrib/mkgu_packaging/dicarlo/BashivanKar2019/images_temp/naturalistic/51cb25f76df110a89770050eae0618c351375666.png\n",
            "/Users/jjpr/dev/brainio_contrib/mkgu_packaging/dicarlo/BashivanKar2019/images_temp/naturalistic/img23.png -> /Users/jjpr/dev/brainio_contrib/mkgu_packaging/dicarlo/BashivanKar2019/images_temp/naturalistic/e7a0b76a47b539e11faaf261e24e03d37503226d.png\n",
            "/Users/jjpr/dev/brainio_contrib/mkgu_packaging/dicarlo/BashivanKar2019/images_temp/naturalistic/img24.png -> /Users/jjpr/dev/brainio_contrib/mkgu_packaging/dicarlo/BashivanKar2019/images_temp/naturalistic/a9f10a6713400a99fd1061b462435eff12e2b1b0.png\n",
            "/Users/jjpr/dev/brainio_contrib/mkgu_packaging/dicarlo/BashivanKar2019/images_temp/naturalistic/img25.png -> /Users/jjpr/dev/brainio_contrib/mkgu_packaging/dicarlo/BashivanKar2019/images_temp/naturalistic/3bf274675e9a272d57e3a40fbf2842c2f6992f00.png\n",
            "/Users/jjpr/dev/brainio_contrib/mkgu_packaging/dicarlo/BashivanKar2019/images_temp/naturalistic/img26.png -> /Users/jjpr/dev/brainio_contrib/mkgu_packaging/dicarlo/BashivanKar2019/images_temp/naturalistic/38de0db2bf2bb7971c2c726975d4b138f1704992.png\n",
            "/Users/jjpr/dev/brainio_contrib/mkgu_packaging/dicarlo/BashivanKar2019/images_temp/naturalistic/img27.png -> /Users/jjpr/dev/brainio_contrib/mkgu_packaging/dicarlo/BashivanKar2019/images_temp/naturalistic/1b81054f8ab642999bbd08b6815fb3fbabcdcbd1.png\n",
            "/Users/jjpr/dev/brainio_contrib/mkgu_packaging/dicarlo/BashivanKar2019/images_temp/naturalistic/img28.png -> /Users/jjpr/dev/brainio_contrib/mkgu_packaging/dicarlo/BashivanKar2019/images_temp/naturalistic/49bcd712ac519f77aed75e6d4b0a9b0035a104bd.png\n",
            "/Users/jjpr/dev/brainio_contrib/mkgu_packaging/dicarlo/BashivanKar2019/images_temp/naturalistic/img29.png -> /Users/jjpr/dev/brainio_contrib/mkgu_packaging/dicarlo/BashivanKar2019/images_temp/naturalistic/3f7190841d0b2c5873387877fea8d2f0f8f410b3.png\n",
            "/Users/jjpr/dev/brainio_contrib/mkgu_packaging/dicarlo/BashivanKar2019/images_temp/naturalistic/img30.png -> /Users/jjpr/dev/brainio_contrib/mkgu_packaging/dicarlo/BashivanKar2019/images_temp/naturalistic/e9fd4f6e57f0826e3d8f671edb42e17378297042.png\n",
            "/Users/jjpr/dev/brainio_contrib/mkgu_packaging/dicarlo/BashivanKar2019/images_temp/naturalistic/img31.png -> /Users/jjpr/dev/brainio_contrib/mkgu_packaging/dicarlo/BashivanKar2019/images_temp/naturalistic/400ec63984741401a24614603b4641db193f1daa.png\n",
            "/Users/jjpr/dev/brainio_contrib/mkgu_packaging/dicarlo/BashivanKar2019/images_temp/naturalistic/img32.png -> /Users/jjpr/dev/brainio_contrib/mkgu_packaging/dicarlo/BashivanKar2019/images_temp/naturalistic/ace33a132666be7f97c110d3f9f53bd02fc6e238.png\n",
            "/Users/jjpr/dev/brainio_contrib/mkgu_packaging/dicarlo/BashivanKar2019/images_temp/naturalistic/img33.png -> /Users/jjpr/dev/brainio_contrib/mkgu_packaging/dicarlo/BashivanKar2019/images_temp/naturalistic/0cd8d566ef8a0c8adf34144b67a9189d61799267.png\n",
            "/Users/jjpr/dev/brainio_contrib/mkgu_packaging/dicarlo/BashivanKar2019/images_temp/naturalistic/img34.png -> /Users/jjpr/dev/brainio_contrib/mkgu_packaging/dicarlo/BashivanKar2019/images_temp/naturalistic/ccc8f0e39c1d779967c4e278e402cca059c69099.png\n",
            "/Users/jjpr/dev/brainio_contrib/mkgu_packaging/dicarlo/BashivanKar2019/images_temp/naturalistic/img35.png -> /Users/jjpr/dev/brainio_contrib/mkgu_packaging/dicarlo/BashivanKar2019/images_temp/naturalistic/2527623079564df245f3bab8916bb6a9411cf6b5.png\n",
            "/Users/jjpr/dev/brainio_contrib/mkgu_packaging/dicarlo/BashivanKar2019/images_temp/naturalistic/img36.png -> /Users/jjpr/dev/brainio_contrib/mkgu_packaging/dicarlo/BashivanKar2019/images_temp/naturalistic/2533d34596b162b925cdbf442e369b4437d160db.png\n",
            "/Users/jjpr/dev/brainio_contrib/mkgu_packaging/dicarlo/BashivanKar2019/images_temp/naturalistic/img37.png -> /Users/jjpr/dev/brainio_contrib/mkgu_packaging/dicarlo/BashivanKar2019/images_temp/naturalistic/7b34f5f2f1aa783f4b3e9624443e5ce9118a8bfb.png\n",
            "/Users/jjpr/dev/brainio_contrib/mkgu_packaging/dicarlo/BashivanKar2019/images_temp/naturalistic/img38.png -> /Users/jjpr/dev/brainio_contrib/mkgu_packaging/dicarlo/BashivanKar2019/images_temp/naturalistic/bc7e72866de82e2acf00eb04daaca5da381bb18a.png\n",
            "/Users/jjpr/dev/brainio_contrib/mkgu_packaging/dicarlo/BashivanKar2019/images_temp/naturalistic/img39.png -> /Users/jjpr/dev/brainio_contrib/mkgu_packaging/dicarlo/BashivanKar2019/images_temp/naturalistic/ecb6cdd6db8f5e42f35112e26014848c6cf2f1b6.png\n",
            "/Users/jjpr/dev/brainio_contrib/mkgu_packaging/dicarlo/BashivanKar2019/images_temp/naturalistic/img40.png -> /Users/jjpr/dev/brainio_contrib/mkgu_packaging/dicarlo/BashivanKar2019/images_temp/naturalistic/edef8d92f81f943c032be87199b886ab3e311b02.png\n",
            "/Users/jjpr/dev/brainio_contrib/mkgu_packaging/dicarlo/BashivanKar2019/images_temp/naturalistic/img41.png -> /Users/jjpr/dev/brainio_contrib/mkgu_packaging/dicarlo/BashivanKar2019/images_temp/naturalistic/5650ac3e5db935763faff648c7e80b256ec3d9ee.png\n",
            "/Users/jjpr/dev/brainio_contrib/mkgu_packaging/dicarlo/BashivanKar2019/images_temp/naturalistic/img42.png -> /Users/jjpr/dev/brainio_contrib/mkgu_packaging/dicarlo/BashivanKar2019/images_temp/naturalistic/02d612a4f12fa84938399f61cbc5610baf591091.png\n",
            "/Users/jjpr/dev/brainio_contrib/mkgu_packaging/dicarlo/BashivanKar2019/images_temp/naturalistic/img43.png -> /Users/jjpr/dev/brainio_contrib/mkgu_packaging/dicarlo/BashivanKar2019/images_temp/naturalistic/75d9290ab2fb5e82efe8be9706f4acb4774b7d62.png\n",
            "/Users/jjpr/dev/brainio_contrib/mkgu_packaging/dicarlo/BashivanKar2019/images_temp/naturalistic/img44.png -> /Users/jjpr/dev/brainio_contrib/mkgu_packaging/dicarlo/BashivanKar2019/images_temp/naturalistic/5df081f02fb6a511284f1840d9b03dae22bf8941.png\n",
            "/Users/jjpr/dev/brainio_contrib/mkgu_packaging/dicarlo/BashivanKar2019/images_temp/naturalistic/img45.png -> /Users/jjpr/dev/brainio_contrib/mkgu_packaging/dicarlo/BashivanKar2019/images_temp/naturalistic/04b805dc3d917a371712127b6a1ded5fcc644396.png\n",
            "/Users/jjpr/dev/brainio_contrib/mkgu_packaging/dicarlo/BashivanKar2019/images_temp/naturalistic/img46.png -> /Users/jjpr/dev/brainio_contrib/mkgu_packaging/dicarlo/BashivanKar2019/images_temp/naturalistic/0fdc559c88deb526f060564228b4a1ee3a247556.png\n",
            "/Users/jjpr/dev/brainio_contrib/mkgu_packaging/dicarlo/BashivanKar2019/images_temp/naturalistic/img47.png -> /Users/jjpr/dev/brainio_contrib/mkgu_packaging/dicarlo/BashivanKar2019/images_temp/naturalistic/4fb78ee381f824ccf16ccfd85b1abc1f36364fbe.png\n",
            "/Users/jjpr/dev/brainio_contrib/mkgu_packaging/dicarlo/BashivanKar2019/images_temp/naturalistic/img48.png -> /Users/jjpr/dev/brainio_contrib/mkgu_packaging/dicarlo/BashivanKar2019/images_temp/naturalistic/850a6fc754f512c087462d73b08c8114b026df03.png\n",
            "/Users/jjpr/dev/brainio_contrib/mkgu_packaging/dicarlo/BashivanKar2019/images_temp/naturalistic/img49.png -> /Users/jjpr/dev/brainio_contrib/mkgu_packaging/dicarlo/BashivanKar2019/images_temp/naturalistic/4aa91c7c8a4edacb20358eb7a7aead1d455d891b.png\n",
            "/Users/jjpr/dev/brainio_contrib/mkgu_packaging/dicarlo/BashivanKar2019/images_temp/naturalistic/img50.png -> /Users/jjpr/dev/brainio_contrib/mkgu_packaging/dicarlo/BashivanKar2019/images_temp/naturalistic/f83b9e7ba22efa1b5367066ea7f11340380d9189.png\n",
            "/Users/jjpr/dev/brainio_contrib/mkgu_packaging/dicarlo/BashivanKar2019/images_temp/naturalistic/img51.png -> /Users/jjpr/dev/brainio_contrib/mkgu_packaging/dicarlo/BashivanKar2019/images_temp/naturalistic/3aa6d6d1854408a4be101d0169f3e7b52c73a486.png\n",
            "/Users/jjpr/dev/brainio_contrib/mkgu_packaging/dicarlo/BashivanKar2019/images_temp/naturalistic/img52.png -> /Users/jjpr/dev/brainio_contrib/mkgu_packaging/dicarlo/BashivanKar2019/images_temp/naturalistic/13c824a833df87be986032fa3595406c30bf8f62.png\n",
            "/Users/jjpr/dev/brainio_contrib/mkgu_packaging/dicarlo/BashivanKar2019/images_temp/naturalistic/img53.png -> /Users/jjpr/dev/brainio_contrib/mkgu_packaging/dicarlo/BashivanKar2019/images_temp/naturalistic/ad3c2010cf96f018c5125091b68a16bb07e310ae.png\n",
            "/Users/jjpr/dev/brainio_contrib/mkgu_packaging/dicarlo/BashivanKar2019/images_temp/naturalistic/img54.png -> /Users/jjpr/dev/brainio_contrib/mkgu_packaging/dicarlo/BashivanKar2019/images_temp/naturalistic/80c4fe857d2788002a019f82eb8b59facd8bb93c.png\n",
            "/Users/jjpr/dev/brainio_contrib/mkgu_packaging/dicarlo/BashivanKar2019/images_temp/naturalistic/img55.png -> /Users/jjpr/dev/brainio_contrib/mkgu_packaging/dicarlo/BashivanKar2019/images_temp/naturalistic/012d28ccca463fa7768fe490f304760c951697d4.png\n",
            "/Users/jjpr/dev/brainio_contrib/mkgu_packaging/dicarlo/BashivanKar2019/images_temp/naturalistic/img56.png -> /Users/jjpr/dev/brainio_contrib/mkgu_packaging/dicarlo/BashivanKar2019/images_temp/naturalistic/60be146302696cced4d9b5e8f28d769ccd195db7.png\n",
            "/Users/jjpr/dev/brainio_contrib/mkgu_packaging/dicarlo/BashivanKar2019/images_temp/naturalistic/img57.png -> /Users/jjpr/dev/brainio_contrib/mkgu_packaging/dicarlo/BashivanKar2019/images_temp/naturalistic/78bfc3b6970360ff4f0fa464920cd940347bd412.png\n",
            "/Users/jjpr/dev/brainio_contrib/mkgu_packaging/dicarlo/BashivanKar2019/images_temp/naturalistic/img58.png -> /Users/jjpr/dev/brainio_contrib/mkgu_packaging/dicarlo/BashivanKar2019/images_temp/naturalistic/41b38c2497401e5cfac7816e82c914b47025e416.png\n",
            "/Users/jjpr/dev/brainio_contrib/mkgu_packaging/dicarlo/BashivanKar2019/images_temp/naturalistic/img59.png -> /Users/jjpr/dev/brainio_contrib/mkgu_packaging/dicarlo/BashivanKar2019/images_temp/naturalistic/6900e31700674011d238dc53fe509fdc7c9581a5.png\n",
            "/Users/jjpr/dev/brainio_contrib/mkgu_packaging/dicarlo/BashivanKar2019/images_temp/naturalistic/img60.png -> /Users/jjpr/dev/brainio_contrib/mkgu_packaging/dicarlo/BashivanKar2019/images_temp/naturalistic/3e2fd09c82f3a3f0f60e3f8c158293244521f17b.png\n",
            "/Users/jjpr/dev/brainio_contrib/mkgu_packaging/dicarlo/BashivanKar2019/images_temp/naturalistic/img61.png -> /Users/jjpr/dev/brainio_contrib/mkgu_packaging/dicarlo/BashivanKar2019/images_temp/naturalistic/02022bac4d86b80893b61216ac91c0b1a80b7981.png\n",
            "/Users/jjpr/dev/brainio_contrib/mkgu_packaging/dicarlo/BashivanKar2019/images_temp/naturalistic/img62.png -> /Users/jjpr/dev/brainio_contrib/mkgu_packaging/dicarlo/BashivanKar2019/images_temp/naturalistic/19b6a73451370101c8346f5429e7cc122e4bf4cc.png\n",
            "/Users/jjpr/dev/brainio_contrib/mkgu_packaging/dicarlo/BashivanKar2019/images_temp/naturalistic/img63.png -> /Users/jjpr/dev/brainio_contrib/mkgu_packaging/dicarlo/BashivanKar2019/images_temp/naturalistic/cb1f36cb574e43639cf384f5faeadf33fac0d2a3.png\n",
            "/Users/jjpr/dev/brainio_contrib/mkgu_packaging/dicarlo/BashivanKar2019/images_temp/naturalistic/img64.png -> /Users/jjpr/dev/brainio_contrib/mkgu_packaging/dicarlo/BashivanKar2019/images_temp/naturalistic/21a4df6b4a52e4c588a0290f026612d9f5c38b41.png\n",
            "/Users/jjpr/dev/brainio_contrib/mkgu_packaging/dicarlo/BashivanKar2019/images_temp/naturalistic/img65.png -> /Users/jjpr/dev/brainio_contrib/mkgu_packaging/dicarlo/BashivanKar2019/images_temp/naturalistic/9f6f4fe8e779645b93bf961f0ea0568eb03b62f1.png\n",
            "/Users/jjpr/dev/brainio_contrib/mkgu_packaging/dicarlo/BashivanKar2019/images_temp/naturalistic/img66.png -> /Users/jjpr/dev/brainio_contrib/mkgu_packaging/dicarlo/BashivanKar2019/images_temp/naturalistic/2330fc6f8ce4bf0c2d005fd096246cdacbb87812.png\n",
            "/Users/jjpr/dev/brainio_contrib/mkgu_packaging/dicarlo/BashivanKar2019/images_temp/naturalistic/img67.png -> /Users/jjpr/dev/brainio_contrib/mkgu_packaging/dicarlo/BashivanKar2019/images_temp/naturalistic/34f551885ef0c30fe4f62c0d1eff8a6dac8b8d81.png\n",
            "/Users/jjpr/dev/brainio_contrib/mkgu_packaging/dicarlo/BashivanKar2019/images_temp/naturalistic/img68.png -> /Users/jjpr/dev/brainio_contrib/mkgu_packaging/dicarlo/BashivanKar2019/images_temp/naturalistic/7d61db63fa3a4ae8fd75e1ef7c7af576a0cc2c4e.png\n",
            "/Users/jjpr/dev/brainio_contrib/mkgu_packaging/dicarlo/BashivanKar2019/images_temp/naturalistic/img69.png -> /Users/jjpr/dev/brainio_contrib/mkgu_packaging/dicarlo/BashivanKar2019/images_temp/naturalistic/545188bbe36b911ced60ea9c77a81fe02ccf3a5e.png\n",
            "/Users/jjpr/dev/brainio_contrib/mkgu_packaging/dicarlo/BashivanKar2019/images_temp/naturalistic/img70.png -> /Users/jjpr/dev/brainio_contrib/mkgu_packaging/dicarlo/BashivanKar2019/images_temp/naturalistic/414e2238ffe0a99075e65ab0e4ccf09fcb91a904.png\n",
            "/Users/jjpr/dev/brainio_contrib/mkgu_packaging/dicarlo/BashivanKar2019/images_temp/naturalistic/img71.png -> /Users/jjpr/dev/brainio_contrib/mkgu_packaging/dicarlo/BashivanKar2019/images_temp/naturalistic/8560d8e3fd29db7011a4aa6ba29ff5e56e283559.png\n",
            "/Users/jjpr/dev/brainio_contrib/mkgu_packaging/dicarlo/BashivanKar2019/images_temp/naturalistic/img72.png -> /Users/jjpr/dev/brainio_contrib/mkgu_packaging/dicarlo/BashivanKar2019/images_temp/naturalistic/15f5e2ebeb481b7bfa95ad9f85c38dbb5e8e7723.png\n",
            "/Users/jjpr/dev/brainio_contrib/mkgu_packaging/dicarlo/BashivanKar2019/images_temp/naturalistic/img73.png -> /Users/jjpr/dev/brainio_contrib/mkgu_packaging/dicarlo/BashivanKar2019/images_temp/naturalistic/fbbc788a102cce02bf1ec8821879a6e257a400e6.png\n",
            "/Users/jjpr/dev/brainio_contrib/mkgu_packaging/dicarlo/BashivanKar2019/images_temp/naturalistic/img74.png -> /Users/jjpr/dev/brainio_contrib/mkgu_packaging/dicarlo/BashivanKar2019/images_temp/naturalistic/7ef77c12f853c09a7e33c5e253b404c378e25a8d.png\n",
            "/Users/jjpr/dev/brainio_contrib/mkgu_packaging/dicarlo/BashivanKar2019/images_temp/naturalistic/img75.png -> /Users/jjpr/dev/brainio_contrib/mkgu_packaging/dicarlo/BashivanKar2019/images_temp/naturalistic/277c37e8579938eba9e3604505fd209997410103.png\n",
            "/Users/jjpr/dev/brainio_contrib/mkgu_packaging/dicarlo/BashivanKar2019/images_temp/naturalistic/img76.png -> /Users/jjpr/dev/brainio_contrib/mkgu_packaging/dicarlo/BashivanKar2019/images_temp/naturalistic/30065d4e7ac4b38b9be59e06f641559bb5ec60dc.png\n",
            "/Users/jjpr/dev/brainio_contrib/mkgu_packaging/dicarlo/BashivanKar2019/images_temp/naturalistic/img77.png -> /Users/jjpr/dev/brainio_contrib/mkgu_packaging/dicarlo/BashivanKar2019/images_temp/naturalistic/99435b6abddc57a1335654d883b3ce20a82ecc89.png\n",
            "/Users/jjpr/dev/brainio_contrib/mkgu_packaging/dicarlo/BashivanKar2019/images_temp/naturalistic/img78.png -> /Users/jjpr/dev/brainio_contrib/mkgu_packaging/dicarlo/BashivanKar2019/images_temp/naturalistic/4446f5e9424e1f5a26cafdee035cfff4fba5bdb9.png\n",
            "/Users/jjpr/dev/brainio_contrib/mkgu_packaging/dicarlo/BashivanKar2019/images_temp/naturalistic/img79.png -> /Users/jjpr/dev/brainio_contrib/mkgu_packaging/dicarlo/BashivanKar2019/images_temp/naturalistic/c2f1a86620710718c7fd2605bf9c7c315ff77f7e.png\n",
            "/Users/jjpr/dev/brainio_contrib/mkgu_packaging/dicarlo/BashivanKar2019/images_temp/naturalistic/img80.png -> /Users/jjpr/dev/brainio_contrib/mkgu_packaging/dicarlo/BashivanKar2019/images_temp/naturalistic/5908cd1fffd313f088d3c0a6fe0a3c630e82ac24.png\n",
            "/Users/jjpr/dev/brainio_contrib/mkgu_packaging/dicarlo/BashivanKar2019/images_temp/naturalistic/img81.png -> /Users/jjpr/dev/brainio_contrib/mkgu_packaging/dicarlo/BashivanKar2019/images_temp/naturalistic/de9f9a8531e435f932cdb08a86b85408aa9c348e.png\n",
            "/Users/jjpr/dev/brainio_contrib/mkgu_packaging/dicarlo/BashivanKar2019/images_temp/naturalistic/img82.png -> /Users/jjpr/dev/brainio_contrib/mkgu_packaging/dicarlo/BashivanKar2019/images_temp/naturalistic/ed1e214220fef4802e5dadedab243acec0e5d248.png\n",
            "/Users/jjpr/dev/brainio_contrib/mkgu_packaging/dicarlo/BashivanKar2019/images_temp/naturalistic/img83.png -> /Users/jjpr/dev/brainio_contrib/mkgu_packaging/dicarlo/BashivanKar2019/images_temp/naturalistic/c58ca88f1f5bbb24acf263fb060b6cc8c2ee7fc0.png\n",
            "/Users/jjpr/dev/brainio_contrib/mkgu_packaging/dicarlo/BashivanKar2019/images_temp/naturalistic/img84.png -> /Users/jjpr/dev/brainio_contrib/mkgu_packaging/dicarlo/BashivanKar2019/images_temp/naturalistic/78d8b7c41c28d43961015f7631cd14ae0089e8c5.png\n",
            "/Users/jjpr/dev/brainio_contrib/mkgu_packaging/dicarlo/BashivanKar2019/images_temp/naturalistic/img85.png -> /Users/jjpr/dev/brainio_contrib/mkgu_packaging/dicarlo/BashivanKar2019/images_temp/naturalistic/e773e34a2196367f62d3259ff824bb06d03ef235.png\n",
            "/Users/jjpr/dev/brainio_contrib/mkgu_packaging/dicarlo/BashivanKar2019/images_temp/naturalistic/img86.png -> /Users/jjpr/dev/brainio_contrib/mkgu_packaging/dicarlo/BashivanKar2019/images_temp/naturalistic/6ea692457da8290525478a9e28c51866f647240e.png\n",
            "/Users/jjpr/dev/brainio_contrib/mkgu_packaging/dicarlo/BashivanKar2019/images_temp/naturalistic/img87.png -> /Users/jjpr/dev/brainio_contrib/mkgu_packaging/dicarlo/BashivanKar2019/images_temp/naturalistic/35ba0f167d63c35b25697267450214114728f860.png\n",
            "/Users/jjpr/dev/brainio_contrib/mkgu_packaging/dicarlo/BashivanKar2019/images_temp/naturalistic/img88.png -> /Users/jjpr/dev/brainio_contrib/mkgu_packaging/dicarlo/BashivanKar2019/images_temp/naturalistic/d213736ea27198606eaa643beaf2b50891c1e4e8.png\n",
            "/Users/jjpr/dev/brainio_contrib/mkgu_packaging/dicarlo/BashivanKar2019/images_temp/naturalistic/img89.png -> /Users/jjpr/dev/brainio_contrib/mkgu_packaging/dicarlo/BashivanKar2019/images_temp/naturalistic/1524734ed82cbb41e77db511d2fc0fa920724b05.png\n",
            "/Users/jjpr/dev/brainio_contrib/mkgu_packaging/dicarlo/BashivanKar2019/images_temp/naturalistic/img90.png -> /Users/jjpr/dev/brainio_contrib/mkgu_packaging/dicarlo/BashivanKar2019/images_temp/naturalistic/4bcd8be65c605853e5cdec5e76207ccf73aecb82.png\n",
            "/Users/jjpr/dev/brainio_contrib/mkgu_packaging/dicarlo/BashivanKar2019/images_temp/naturalistic/img91.png -> /Users/jjpr/dev/brainio_contrib/mkgu_packaging/dicarlo/BashivanKar2019/images_temp/naturalistic/1fd0042dfb40a362076b9e6dc40a1e0f9e71c893.png\n",
            "/Users/jjpr/dev/brainio_contrib/mkgu_packaging/dicarlo/BashivanKar2019/images_temp/naturalistic/img92.png -> /Users/jjpr/dev/brainio_contrib/mkgu_packaging/dicarlo/BashivanKar2019/images_temp/naturalistic/09cb7ca0074873d517789bd5beb71d38df1845aa.png\n",
            "/Users/jjpr/dev/brainio_contrib/mkgu_packaging/dicarlo/BashivanKar2019/images_temp/naturalistic/img93.png -> /Users/jjpr/dev/brainio_contrib/mkgu_packaging/dicarlo/BashivanKar2019/images_temp/naturalistic/c59571370442c1533a3ebd5ef91419dff8f89484.png\n",
            "/Users/jjpr/dev/brainio_contrib/mkgu_packaging/dicarlo/BashivanKar2019/images_temp/naturalistic/img94.png -> /Users/jjpr/dev/brainio_contrib/mkgu_packaging/dicarlo/BashivanKar2019/images_temp/naturalistic/779b95ad25030821bf9bbb3411511f6ee79d4f18.png\n",
            "/Users/jjpr/dev/brainio_contrib/mkgu_packaging/dicarlo/BashivanKar2019/images_temp/naturalistic/img95.png -> /Users/jjpr/dev/brainio_contrib/mkgu_packaging/dicarlo/BashivanKar2019/images_temp/naturalistic/33d52cfe4e482db0946c9faa8b98011b56d7f014.png\n",
            "/Users/jjpr/dev/brainio_contrib/mkgu_packaging/dicarlo/BashivanKar2019/images_temp/naturalistic/img96.png -> /Users/jjpr/dev/brainio_contrib/mkgu_packaging/dicarlo/BashivanKar2019/images_temp/naturalistic/e9e305194b1bd44994cf8e1773f3c3ca7a46687b.png\n",
            "/Users/jjpr/dev/brainio_contrib/mkgu_packaging/dicarlo/BashivanKar2019/images_temp/naturalistic/img97.png -> /Users/jjpr/dev/brainio_contrib/mkgu_packaging/dicarlo/BashivanKar2019/images_temp/naturalistic/32ad24f502a3d86312223461c3e8980e606a8467.png\n",
            "/Users/jjpr/dev/brainio_contrib/mkgu_packaging/dicarlo/BashivanKar2019/images_temp/naturalistic/img98.png -> /Users/jjpr/dev/brainio_contrib/mkgu_packaging/dicarlo/BashivanKar2019/images_temp/naturalistic/bb0619e3f5552654fef6ae2b4e29abf3a396a3f4.png\n",
            "/Users/jjpr/dev/brainio_contrib/mkgu_packaging/dicarlo/BashivanKar2019/images_temp/naturalistic/img99.png -> /Users/jjpr/dev/brainio_contrib/mkgu_packaging/dicarlo/BashivanKar2019/images_temp/naturalistic/6f11175c2e13c759f6e7136fb298e31fcf02ff53.png\n",
            "/Users/jjpr/dev/brainio_contrib/mkgu_packaging/dicarlo/BashivanKar2019/images_temp/naturalistic/img100.png -> /Users/jjpr/dev/brainio_contrib/mkgu_packaging/dicarlo/BashivanKar2019/images_temp/naturalistic/cabbce25c004c96ea8fe4a43410ad491521907bc.png\n",
            "/Users/jjpr/dev/brainio_contrib/mkgu_packaging/dicarlo/BashivanKar2019/images_temp/naturalistic/img101.png -> /Users/jjpr/dev/brainio_contrib/mkgu_packaging/dicarlo/BashivanKar2019/images_temp/naturalistic/ff3c0b1644314b1f8be48d4176d3b1c49a313a0a.png\n",
            "/Users/jjpr/dev/brainio_contrib/mkgu_packaging/dicarlo/BashivanKar2019/images_temp/naturalistic/img102.png -> /Users/jjpr/dev/brainio_contrib/mkgu_packaging/dicarlo/BashivanKar2019/images_temp/naturalistic/e673a237f25e26e3716afe3041e992ac34714a8e.png\n",
            "/Users/jjpr/dev/brainio_contrib/mkgu_packaging/dicarlo/BashivanKar2019/images_temp/naturalistic/img103.png -> /Users/jjpr/dev/brainio_contrib/mkgu_packaging/dicarlo/BashivanKar2019/images_temp/naturalistic/0da3d49e31f5bd79052749b1fbc7cfff89596365.png\n",
            "/Users/jjpr/dev/brainio_contrib/mkgu_packaging/dicarlo/BashivanKar2019/images_temp/naturalistic/img104.png -> /Users/jjpr/dev/brainio_contrib/mkgu_packaging/dicarlo/BashivanKar2019/images_temp/naturalistic/be24001e8826a6fc80facfc76ccb684ca2b09e0f.png\n",
            "/Users/jjpr/dev/brainio_contrib/mkgu_packaging/dicarlo/BashivanKar2019/images_temp/naturalistic/img105.png -> /Users/jjpr/dev/brainio_contrib/mkgu_packaging/dicarlo/BashivanKar2019/images_temp/naturalistic/ca6070616cdb31f93361ce501c8b09b772fbdcd0.png\n",
            "/Users/jjpr/dev/brainio_contrib/mkgu_packaging/dicarlo/BashivanKar2019/images_temp/naturalistic/img106.png -> /Users/jjpr/dev/brainio_contrib/mkgu_packaging/dicarlo/BashivanKar2019/images_temp/naturalistic/8186f206f1bb3697c28bca040293f2a1c9938957.png\n",
            "/Users/jjpr/dev/brainio_contrib/mkgu_packaging/dicarlo/BashivanKar2019/images_temp/naturalistic/img107.png -> /Users/jjpr/dev/brainio_contrib/mkgu_packaging/dicarlo/BashivanKar2019/images_temp/naturalistic/ca2b34e586a685b80eae8b21ad1f322ab810092c.png\n",
            "/Users/jjpr/dev/brainio_contrib/mkgu_packaging/dicarlo/BashivanKar2019/images_temp/naturalistic/img108.png -> /Users/jjpr/dev/brainio_contrib/mkgu_packaging/dicarlo/BashivanKar2019/images_temp/naturalistic/b7426bf9ad0c5b949a36e18ff324b2c1ffe6e0ca.png\n",
            "/Users/jjpr/dev/brainio_contrib/mkgu_packaging/dicarlo/BashivanKar2019/images_temp/naturalistic/img109.png -> /Users/jjpr/dev/brainio_contrib/mkgu_packaging/dicarlo/BashivanKar2019/images_temp/naturalistic/a9828968d07de5d444a0ab0b995489b1309c47d5.png\n",
            "/Users/jjpr/dev/brainio_contrib/mkgu_packaging/dicarlo/BashivanKar2019/images_temp/naturalistic/img110.png -> /Users/jjpr/dev/brainio_contrib/mkgu_packaging/dicarlo/BashivanKar2019/images_temp/naturalistic/1a753f7fda4ff3db78c08c17cd545d1ec6f61a5b.png\n",
            "/Users/jjpr/dev/brainio_contrib/mkgu_packaging/dicarlo/BashivanKar2019/images_temp/naturalistic/img111.png -> /Users/jjpr/dev/brainio_contrib/mkgu_packaging/dicarlo/BashivanKar2019/images_temp/naturalistic/cbdca7ba8ba3fee59869e8cdcd8f30cda67f87d4.png\n",
            "/Users/jjpr/dev/brainio_contrib/mkgu_packaging/dicarlo/BashivanKar2019/images_temp/naturalistic/img112.png -> /Users/jjpr/dev/brainio_contrib/mkgu_packaging/dicarlo/BashivanKar2019/images_temp/naturalistic/5d8d4833017f3335ae9895bbd8583e7f6b2678e4.png\n",
            "/Users/jjpr/dev/brainio_contrib/mkgu_packaging/dicarlo/BashivanKar2019/images_temp/naturalistic/img113.png -> /Users/jjpr/dev/brainio_contrib/mkgu_packaging/dicarlo/BashivanKar2019/images_temp/naturalistic/088efff57c7f55e442d117e1721bd5d0728bbc6e.png\n",
            "/Users/jjpr/dev/brainio_contrib/mkgu_packaging/dicarlo/BashivanKar2019/images_temp/naturalistic/img114.png -> /Users/jjpr/dev/brainio_contrib/mkgu_packaging/dicarlo/BashivanKar2019/images_temp/naturalistic/52a85201a0ed0d42f055433d017ff62d75085380.png\n",
            "/Users/jjpr/dev/brainio_contrib/mkgu_packaging/dicarlo/BashivanKar2019/images_temp/naturalistic/img115.png -> /Users/jjpr/dev/brainio_contrib/mkgu_packaging/dicarlo/BashivanKar2019/images_temp/naturalistic/3f1aaa0a945ecd37529bfb052fc1451e4249c170.png\n",
            "/Users/jjpr/dev/brainio_contrib/mkgu_packaging/dicarlo/BashivanKar2019/images_temp/naturalistic/img116.png -> /Users/jjpr/dev/brainio_contrib/mkgu_packaging/dicarlo/BashivanKar2019/images_temp/naturalistic/bc42b0ba09b6c25c80c2c5529d80171d6a6ef0f2.png\n",
            "/Users/jjpr/dev/brainio_contrib/mkgu_packaging/dicarlo/BashivanKar2019/images_temp/naturalistic/img117.png -> /Users/jjpr/dev/brainio_contrib/mkgu_packaging/dicarlo/BashivanKar2019/images_temp/naturalistic/42458c79be7e7d91b58f7c62d6edbcebed039804.png\n",
            "/Users/jjpr/dev/brainio_contrib/mkgu_packaging/dicarlo/BashivanKar2019/images_temp/naturalistic/img118.png -> /Users/jjpr/dev/brainio_contrib/mkgu_packaging/dicarlo/BashivanKar2019/images_temp/naturalistic/052797d08c1e8490ccd7995190aaa0a1d00e213f.png\n",
            "/Users/jjpr/dev/brainio_contrib/mkgu_packaging/dicarlo/BashivanKar2019/images_temp/naturalistic/img119.png -> /Users/jjpr/dev/brainio_contrib/mkgu_packaging/dicarlo/BashivanKar2019/images_temp/naturalistic/f296095156f8a96b186937822bbbc8f4644aee6a.png\n",
            "/Users/jjpr/dev/brainio_contrib/mkgu_packaging/dicarlo/BashivanKar2019/images_temp/naturalistic/img120.png -> /Users/jjpr/dev/brainio_contrib/mkgu_packaging/dicarlo/BashivanKar2019/images_temp/naturalistic/2dcfdb1fccf296298bc47d75ab07e7eb0253e4ef.png\n",
            "/Users/jjpr/dev/brainio_contrib/mkgu_packaging/dicarlo/BashivanKar2019/images_temp/naturalistic/img121.png -> /Users/jjpr/dev/brainio_contrib/mkgu_packaging/dicarlo/BashivanKar2019/images_temp/naturalistic/cf57cc452037e628e87d4766363fd7c7528fec94.png\n",
            "/Users/jjpr/dev/brainio_contrib/mkgu_packaging/dicarlo/BashivanKar2019/images_temp/naturalistic/img122.png -> /Users/jjpr/dev/brainio_contrib/mkgu_packaging/dicarlo/BashivanKar2019/images_temp/naturalistic/9c77520ae3db01205e2f8888f9829241f87ea153.png\n",
            "/Users/jjpr/dev/brainio_contrib/mkgu_packaging/dicarlo/BashivanKar2019/images_temp/naturalistic/img123.png -> /Users/jjpr/dev/brainio_contrib/mkgu_packaging/dicarlo/BashivanKar2019/images_temp/naturalistic/f5624a3c52fed90b5e8ffeabd90d391e42997591.png\n",
            "/Users/jjpr/dev/brainio_contrib/mkgu_packaging/dicarlo/BashivanKar2019/images_temp/naturalistic/img124.png -> /Users/jjpr/dev/brainio_contrib/mkgu_packaging/dicarlo/BashivanKar2019/images_temp/naturalistic/24bba3af6a7d511d52fe8e5d941f0a15c922d0c8.png\n",
            "/Users/jjpr/dev/brainio_contrib/mkgu_packaging/dicarlo/BashivanKar2019/images_temp/naturalistic/img125.png -> /Users/jjpr/dev/brainio_contrib/mkgu_packaging/dicarlo/BashivanKar2019/images_temp/naturalistic/ecbfc23baf2d43906cbce5031fb0f8cb94b2f32f.png\n",
            "/Users/jjpr/dev/brainio_contrib/mkgu_packaging/dicarlo/BashivanKar2019/images_temp/naturalistic/img126.png -> /Users/jjpr/dev/brainio_contrib/mkgu_packaging/dicarlo/BashivanKar2019/images_temp/naturalistic/3a45c643658f18b0ee7a7843b79aa1f1dd4e83c4.png\n",
            "/Users/jjpr/dev/brainio_contrib/mkgu_packaging/dicarlo/BashivanKar2019/images_temp/naturalistic/img127.png -> /Users/jjpr/dev/brainio_contrib/mkgu_packaging/dicarlo/BashivanKar2019/images_temp/naturalistic/ce6ea5fed7388f24f6f2643ab97ff823431c615f.png\n",
            "/Users/jjpr/dev/brainio_contrib/mkgu_packaging/dicarlo/BashivanKar2019/images_temp/naturalistic/img128.png -> /Users/jjpr/dev/brainio_contrib/mkgu_packaging/dicarlo/BashivanKar2019/images_temp/naturalistic/703f30287aa40a4427475d4dff35f03d4a72d585.png\n",
            "/Users/jjpr/dev/brainio_contrib/mkgu_packaging/dicarlo/BashivanKar2019/images_temp/naturalistic/img129.png -> /Users/jjpr/dev/brainio_contrib/mkgu_packaging/dicarlo/BashivanKar2019/images_temp/naturalistic/04be2d751a271b7af274fdb57aa544820011bd7d.png\n",
            "/Users/jjpr/dev/brainio_contrib/mkgu_packaging/dicarlo/BashivanKar2019/images_temp/naturalistic/img130.png -> /Users/jjpr/dev/brainio_contrib/mkgu_packaging/dicarlo/BashivanKar2019/images_temp/naturalistic/b8f94828a3ae1dc8f6d4c2a6ab0267936bd6fe0b.png\n",
            "/Users/jjpr/dev/brainio_contrib/mkgu_packaging/dicarlo/BashivanKar2019/images_temp/naturalistic/img131.png -> /Users/jjpr/dev/brainio_contrib/mkgu_packaging/dicarlo/BashivanKar2019/images_temp/naturalistic/2343bdb031ee96d2258cd3efed8ce72e5b37fabf.png\n",
            "/Users/jjpr/dev/brainio_contrib/mkgu_packaging/dicarlo/BashivanKar2019/images_temp/naturalistic/img132.png -> /Users/jjpr/dev/brainio_contrib/mkgu_packaging/dicarlo/BashivanKar2019/images_temp/naturalistic/3ad0ba47bc02c23046a806390be6bc9eb4b02cfe.png\n",
            "/Users/jjpr/dev/brainio_contrib/mkgu_packaging/dicarlo/BashivanKar2019/images_temp/naturalistic/img133.png -> /Users/jjpr/dev/brainio_contrib/mkgu_packaging/dicarlo/BashivanKar2019/images_temp/naturalistic/8a5d74fa95f5c00d522dc7cd8e5f77c68561aca7.png\n",
            "/Users/jjpr/dev/brainio_contrib/mkgu_packaging/dicarlo/BashivanKar2019/images_temp/naturalistic/img134.png -> /Users/jjpr/dev/brainio_contrib/mkgu_packaging/dicarlo/BashivanKar2019/images_temp/naturalistic/a683a888d7617fb3d2536a74fe0db8d92dc0b060.png\n",
            "/Users/jjpr/dev/brainio_contrib/mkgu_packaging/dicarlo/BashivanKar2019/images_temp/naturalistic/img135.png -> /Users/jjpr/dev/brainio_contrib/mkgu_packaging/dicarlo/BashivanKar2019/images_temp/naturalistic/421fe0abb0ee903b93c3ec5fc627092528fe9aaf.png\n",
            "/Users/jjpr/dev/brainio_contrib/mkgu_packaging/dicarlo/BashivanKar2019/images_temp/naturalistic/img136.png -> /Users/jjpr/dev/brainio_contrib/mkgu_packaging/dicarlo/BashivanKar2019/images_temp/naturalistic/0fa14ca6d607b98d796286f3c896a825f6c17ce8.png\n",
            "/Users/jjpr/dev/brainio_contrib/mkgu_packaging/dicarlo/BashivanKar2019/images_temp/naturalistic/img137.png -> /Users/jjpr/dev/brainio_contrib/mkgu_packaging/dicarlo/BashivanKar2019/images_temp/naturalistic/a58a7d93ff37de7b7cf4975da019cdcbbe90afc9.png\n",
            "/Users/jjpr/dev/brainio_contrib/mkgu_packaging/dicarlo/BashivanKar2019/images_temp/naturalistic/img138.png -> /Users/jjpr/dev/brainio_contrib/mkgu_packaging/dicarlo/BashivanKar2019/images_temp/naturalistic/65634b2cfbb6bbc1cde7d32e4b4e49764b980a98.png\n",
            "/Users/jjpr/dev/brainio_contrib/mkgu_packaging/dicarlo/BashivanKar2019/images_temp/naturalistic/img139.png -> /Users/jjpr/dev/brainio_contrib/mkgu_packaging/dicarlo/BashivanKar2019/images_temp/naturalistic/371fa4bbbdf35bb37d50e4c5bfe91f92a211839e.png\n",
            "/Users/jjpr/dev/brainio_contrib/mkgu_packaging/dicarlo/BashivanKar2019/images_temp/naturalistic/img140.png -> /Users/jjpr/dev/brainio_contrib/mkgu_packaging/dicarlo/BashivanKar2019/images_temp/naturalistic/feb02a92a16777895ca02d83d3a44e0a54b3da70.png\n",
            "/Users/jjpr/dev/brainio_contrib/mkgu_packaging/dicarlo/BashivanKar2019/images_temp/naturalistic/img141.png -> /Users/jjpr/dev/brainio_contrib/mkgu_packaging/dicarlo/BashivanKar2019/images_temp/naturalistic/7bda25fe8cafd2550d6a7eb52b72e9568d03a89e.png\n",
            "/Users/jjpr/dev/brainio_contrib/mkgu_packaging/dicarlo/BashivanKar2019/images_temp/naturalistic/img142.png -> /Users/jjpr/dev/brainio_contrib/mkgu_packaging/dicarlo/BashivanKar2019/images_temp/naturalistic/fd48a148abc3d178c02c5ec795f9ddb98e57efd9.png\n",
            "/Users/jjpr/dev/brainio_contrib/mkgu_packaging/dicarlo/BashivanKar2019/images_temp/naturalistic/img143.png -> /Users/jjpr/dev/brainio_contrib/mkgu_packaging/dicarlo/BashivanKar2019/images_temp/naturalistic/7bb5a2cbbd3dbad711baf3f6729102cac74d11e0.png\n",
            "/Users/jjpr/dev/brainio_contrib/mkgu_packaging/dicarlo/BashivanKar2019/images_temp/naturalistic/img144.png -> /Users/jjpr/dev/brainio_contrib/mkgu_packaging/dicarlo/BashivanKar2019/images_temp/naturalistic/7799d034f3e68d8ef24370d3370799b9893183f7.png\n",
            "/Users/jjpr/dev/brainio_contrib/mkgu_packaging/dicarlo/BashivanKar2019/images_temp/naturalistic/img145.png -> /Users/jjpr/dev/brainio_contrib/mkgu_packaging/dicarlo/BashivanKar2019/images_temp/naturalistic/0a537ca206f8ef5aa3b00c8c467a3bad8fe22f01.png\n",
            "/Users/jjpr/dev/brainio_contrib/mkgu_packaging/dicarlo/BashivanKar2019/images_temp/naturalistic/img146.png -> /Users/jjpr/dev/brainio_contrib/mkgu_packaging/dicarlo/BashivanKar2019/images_temp/naturalistic/dc01a6d83444fada485816c361467e82a7971eb9.png\n",
            "/Users/jjpr/dev/brainio_contrib/mkgu_packaging/dicarlo/BashivanKar2019/images_temp/naturalistic/img147.png -> /Users/jjpr/dev/brainio_contrib/mkgu_packaging/dicarlo/BashivanKar2019/images_temp/naturalistic/c4b15acff0ca47f5c0b9f929f9160ba7288eb2ae.png\n",
            "/Users/jjpr/dev/brainio_contrib/mkgu_packaging/dicarlo/BashivanKar2019/images_temp/naturalistic/img148.png -> /Users/jjpr/dev/brainio_contrib/mkgu_packaging/dicarlo/BashivanKar2019/images_temp/naturalistic/c2f69b245ddcca67e5d0be72cb2ee867db704e84.png\n",
            "/Users/jjpr/dev/brainio_contrib/mkgu_packaging/dicarlo/BashivanKar2019/images_temp/naturalistic/img149.png -> /Users/jjpr/dev/brainio_contrib/mkgu_packaging/dicarlo/BashivanKar2019/images_temp/naturalistic/f817513b9ed7c074552f147fe6c919424b63ce9a.png\n",
            "/Users/jjpr/dev/brainio_contrib/mkgu_packaging/dicarlo/BashivanKar2019/images_temp/naturalistic/img150.png -> /Users/jjpr/dev/brainio_contrib/mkgu_packaging/dicarlo/BashivanKar2019/images_temp/naturalistic/58bb907dc31593f1ceedaa80d580cf5a0d9bc7bf.png\n",
            "/Users/jjpr/dev/brainio_contrib/mkgu_packaging/dicarlo/BashivanKar2019/images_temp/naturalistic/img151.png -> /Users/jjpr/dev/brainio_contrib/mkgu_packaging/dicarlo/BashivanKar2019/images_temp/naturalistic/6a1b2c8c37a9a2074409b9656b5e713f5bad08c4.png\n",
            "/Users/jjpr/dev/brainio_contrib/mkgu_packaging/dicarlo/BashivanKar2019/images_temp/naturalistic/img152.png -> /Users/jjpr/dev/brainio_contrib/mkgu_packaging/dicarlo/BashivanKar2019/images_temp/naturalistic/10874c8944c82ae7c3f89ba9578a9d132ab35c56.png\n",
            "/Users/jjpr/dev/brainio_contrib/mkgu_packaging/dicarlo/BashivanKar2019/images_temp/naturalistic/img153.png -> /Users/jjpr/dev/brainio_contrib/mkgu_packaging/dicarlo/BashivanKar2019/images_temp/naturalistic/183d6cfbbc5857718c99bce65bf0e54b9f2cee9e.png\n",
            "/Users/jjpr/dev/brainio_contrib/mkgu_packaging/dicarlo/BashivanKar2019/images_temp/naturalistic/img154.png -> /Users/jjpr/dev/brainio_contrib/mkgu_packaging/dicarlo/BashivanKar2019/images_temp/naturalistic/6ef95deed6c98e0d8d6734f09126e954c7feee67.png\n",
            "/Users/jjpr/dev/brainio_contrib/mkgu_packaging/dicarlo/BashivanKar2019/images_temp/naturalistic/img155.png -> /Users/jjpr/dev/brainio_contrib/mkgu_packaging/dicarlo/BashivanKar2019/images_temp/naturalistic/6a488b4d2d04ffb92fdc9f878e2e11dcb26c6112.png\n",
            "/Users/jjpr/dev/brainio_contrib/mkgu_packaging/dicarlo/BashivanKar2019/images_temp/naturalistic/img156.png -> /Users/jjpr/dev/brainio_contrib/mkgu_packaging/dicarlo/BashivanKar2019/images_temp/naturalistic/d7172089672834b8109fe91f70c7ea44019cf79e.png\n",
            "/Users/jjpr/dev/brainio_contrib/mkgu_packaging/dicarlo/BashivanKar2019/images_temp/naturalistic/img157.png -> /Users/jjpr/dev/brainio_contrib/mkgu_packaging/dicarlo/BashivanKar2019/images_temp/naturalistic/be84736a1aad4472a36265ed4629973091e24c0a.png\n",
            "/Users/jjpr/dev/brainio_contrib/mkgu_packaging/dicarlo/BashivanKar2019/images_temp/naturalistic/img158.png -> /Users/jjpr/dev/brainio_contrib/mkgu_packaging/dicarlo/BashivanKar2019/images_temp/naturalistic/c864b0b48d54ca54f00566e0a70837a42ecaf95f.png\n",
            "/Users/jjpr/dev/brainio_contrib/mkgu_packaging/dicarlo/BashivanKar2019/images_temp/naturalistic/img159.png -> /Users/jjpr/dev/brainio_contrib/mkgu_packaging/dicarlo/BashivanKar2019/images_temp/naturalistic/5a5986ea90f6dadb9665f158b8b7cd2aff25f4ba.png\n",
            "/Users/jjpr/dev/brainio_contrib/mkgu_packaging/dicarlo/BashivanKar2019/images_temp/naturalistic/img160.png -> /Users/jjpr/dev/brainio_contrib/mkgu_packaging/dicarlo/BashivanKar2019/images_temp/naturalistic/06f3778b45c8ff7c8b37b697a9280ffe33a9157f.png\n",
            "/Users/jjpr/dev/brainio_contrib/mkgu_packaging/dicarlo/BashivanKar2019/images_temp/naturalistic/img161.png -> /Users/jjpr/dev/brainio_contrib/mkgu_packaging/dicarlo/BashivanKar2019/images_temp/naturalistic/3a743133d27875a3385b7b599d491ce1433966f7.png\n",
            "/Users/jjpr/dev/brainio_contrib/mkgu_packaging/dicarlo/BashivanKar2019/images_temp/naturalistic/img162.png -> /Users/jjpr/dev/brainio_contrib/mkgu_packaging/dicarlo/BashivanKar2019/images_temp/naturalistic/b43c5ef88252a49b6b07fefc3c6192eb15ce37fc.png\n",
            "/Users/jjpr/dev/brainio_contrib/mkgu_packaging/dicarlo/BashivanKar2019/images_temp/naturalistic/img163.png -> /Users/jjpr/dev/brainio_contrib/mkgu_packaging/dicarlo/BashivanKar2019/images_temp/naturalistic/7a8afbe1b9099631113d2f2c112f7b75bea7ab13.png\n",
            "/Users/jjpr/dev/brainio_contrib/mkgu_packaging/dicarlo/BashivanKar2019/images_temp/naturalistic/img164.png -> /Users/jjpr/dev/brainio_contrib/mkgu_packaging/dicarlo/BashivanKar2019/images_temp/naturalistic/6137819fb63e9cab01ca6a95b9e6f656be7f1fbb.png\n",
            "/Users/jjpr/dev/brainio_contrib/mkgu_packaging/dicarlo/BashivanKar2019/images_temp/naturalistic/img165.png -> /Users/jjpr/dev/brainio_contrib/mkgu_packaging/dicarlo/BashivanKar2019/images_temp/naturalistic/fe9f10255f8db8ad5e3108bbe921347a44e7f11b.png\n",
            "/Users/jjpr/dev/brainio_contrib/mkgu_packaging/dicarlo/BashivanKar2019/images_temp/naturalistic/img166.png -> /Users/jjpr/dev/brainio_contrib/mkgu_packaging/dicarlo/BashivanKar2019/images_temp/naturalistic/1c00cd2041ad12dc31c4e37af4bbd0967874b923.png\n",
            "/Users/jjpr/dev/brainio_contrib/mkgu_packaging/dicarlo/BashivanKar2019/images_temp/naturalistic/img167.png -> /Users/jjpr/dev/brainio_contrib/mkgu_packaging/dicarlo/BashivanKar2019/images_temp/naturalistic/7f10e16ac9941619c855a33c78ad5a2db5f87aef.png\n",
            "/Users/jjpr/dev/brainio_contrib/mkgu_packaging/dicarlo/BashivanKar2019/images_temp/naturalistic/img168.png -> /Users/jjpr/dev/brainio_contrib/mkgu_packaging/dicarlo/BashivanKar2019/images_temp/naturalistic/a1baf6ad190fedb4e2e9c9acb0daf4405f50326d.png\n",
            "/Users/jjpr/dev/brainio_contrib/mkgu_packaging/dicarlo/BashivanKar2019/images_temp/naturalistic/img169.png -> /Users/jjpr/dev/brainio_contrib/mkgu_packaging/dicarlo/BashivanKar2019/images_temp/naturalistic/2c51455f2ac03e272b3f550d8033565d2b8029be.png\n",
            "/Users/jjpr/dev/brainio_contrib/mkgu_packaging/dicarlo/BashivanKar2019/images_temp/naturalistic/img170.png -> /Users/jjpr/dev/brainio_contrib/mkgu_packaging/dicarlo/BashivanKar2019/images_temp/naturalistic/3cc831ea361af27ca898841e0a8f8e373d70289b.png\n",
            "/Users/jjpr/dev/brainio_contrib/mkgu_packaging/dicarlo/BashivanKar2019/images_temp/naturalistic/img171.png -> /Users/jjpr/dev/brainio_contrib/mkgu_packaging/dicarlo/BashivanKar2019/images_temp/naturalistic/e000676beead3a5b47bd115b22a4c2def8bee4e6.png\n",
            "/Users/jjpr/dev/brainio_contrib/mkgu_packaging/dicarlo/BashivanKar2019/images_temp/naturalistic/img172.png -> /Users/jjpr/dev/brainio_contrib/mkgu_packaging/dicarlo/BashivanKar2019/images_temp/naturalistic/2044fdede617ede9d077d044171bfa1d37c0524b.png\n",
            "/Users/jjpr/dev/brainio_contrib/mkgu_packaging/dicarlo/BashivanKar2019/images_temp/naturalistic/img173.png -> /Users/jjpr/dev/brainio_contrib/mkgu_packaging/dicarlo/BashivanKar2019/images_temp/naturalistic/ca771b4c35d4500da4ee8981f65328dc9d510cc5.png\n",
            "/Users/jjpr/dev/brainio_contrib/mkgu_packaging/dicarlo/BashivanKar2019/images_temp/naturalistic/img174.png -> /Users/jjpr/dev/brainio_contrib/mkgu_packaging/dicarlo/BashivanKar2019/images_temp/naturalistic/eaf70ad7cbd1e578ca88d6d1598632afbadc1ea1.png\n",
            "/Users/jjpr/dev/brainio_contrib/mkgu_packaging/dicarlo/BashivanKar2019/images_temp/naturalistic/img175.png -> /Users/jjpr/dev/brainio_contrib/mkgu_packaging/dicarlo/BashivanKar2019/images_temp/naturalistic/52629fa374e2a2ae32747234216ea0283f88690f.png\n",
            "/Users/jjpr/dev/brainio_contrib/mkgu_packaging/dicarlo/BashivanKar2019/images_temp/naturalistic/img176.png -> /Users/jjpr/dev/brainio_contrib/mkgu_packaging/dicarlo/BashivanKar2019/images_temp/naturalistic/c8ba749faf2200f76600fb45fe59b63ed58d2fe5.png\n",
            "/Users/jjpr/dev/brainio_contrib/mkgu_packaging/dicarlo/BashivanKar2019/images_temp/naturalistic/img177.png -> /Users/jjpr/dev/brainio_contrib/mkgu_packaging/dicarlo/BashivanKar2019/images_temp/naturalistic/3778a2194a26798da54afcd193c68a2f8486191b.png\n",
            "/Users/jjpr/dev/brainio_contrib/mkgu_packaging/dicarlo/BashivanKar2019/images_temp/naturalistic/img178.png -> /Users/jjpr/dev/brainio_contrib/mkgu_packaging/dicarlo/BashivanKar2019/images_temp/naturalistic/5c103e779a3c853c7e6d69103e5ff15079839218.png\n",
            "/Users/jjpr/dev/brainio_contrib/mkgu_packaging/dicarlo/BashivanKar2019/images_temp/naturalistic/img179.png -> /Users/jjpr/dev/brainio_contrib/mkgu_packaging/dicarlo/BashivanKar2019/images_temp/naturalistic/c0ac1be9ab4db93e5bf120d339166bd09a0f7090.png\n",
            "/Users/jjpr/dev/brainio_contrib/mkgu_packaging/dicarlo/BashivanKar2019/images_temp/naturalistic/img180.png -> /Users/jjpr/dev/brainio_contrib/mkgu_packaging/dicarlo/BashivanKar2019/images_temp/naturalistic/4999ecd9e643b5f9a4190724d54013749016281c.png\n",
            "/Users/jjpr/dev/brainio_contrib/mkgu_packaging/dicarlo/BashivanKar2019/images_temp/naturalistic/img181.png -> /Users/jjpr/dev/brainio_contrib/mkgu_packaging/dicarlo/BashivanKar2019/images_temp/naturalistic/0abf1645c36bf1b145f44fbcac04f58c44026739.png\n",
            "/Users/jjpr/dev/brainio_contrib/mkgu_packaging/dicarlo/BashivanKar2019/images_temp/naturalistic/img182.png -> /Users/jjpr/dev/brainio_contrib/mkgu_packaging/dicarlo/BashivanKar2019/images_temp/naturalistic/ee97e094976a62915d7593b806024322dbfe9b47.png\n",
            "/Users/jjpr/dev/brainio_contrib/mkgu_packaging/dicarlo/BashivanKar2019/images_temp/naturalistic/img183.png -> /Users/jjpr/dev/brainio_contrib/mkgu_packaging/dicarlo/BashivanKar2019/images_temp/naturalistic/7db3543ea5c9a17f0fb0c907c0a3abffe86e214d.png\n",
            "/Users/jjpr/dev/brainio_contrib/mkgu_packaging/dicarlo/BashivanKar2019/images_temp/naturalistic/img184.png -> /Users/jjpr/dev/brainio_contrib/mkgu_packaging/dicarlo/BashivanKar2019/images_temp/naturalistic/1185b23ef0bf1696cac22b292465852520b74986.png\n",
            "/Users/jjpr/dev/brainio_contrib/mkgu_packaging/dicarlo/BashivanKar2019/images_temp/naturalistic/img185.png -> /Users/jjpr/dev/brainio_contrib/mkgu_packaging/dicarlo/BashivanKar2019/images_temp/naturalistic/a5651e987129168b1a0aaeb45c29189d54ccfb2d.png\n",
            "/Users/jjpr/dev/brainio_contrib/mkgu_packaging/dicarlo/BashivanKar2019/images_temp/naturalistic/img186.png -> /Users/jjpr/dev/brainio_contrib/mkgu_packaging/dicarlo/BashivanKar2019/images_temp/naturalistic/3e5b5c980c989d806054e845f2be80ba1b152b93.png\n",
            "/Users/jjpr/dev/brainio_contrib/mkgu_packaging/dicarlo/BashivanKar2019/images_temp/naturalistic/img187.png -> /Users/jjpr/dev/brainio_contrib/mkgu_packaging/dicarlo/BashivanKar2019/images_temp/naturalistic/fcd9a55aa125c9eb1c68acf296db8adf494a1d23.png\n",
            "/Users/jjpr/dev/brainio_contrib/mkgu_packaging/dicarlo/BashivanKar2019/images_temp/naturalistic/img188.png -> /Users/jjpr/dev/brainio_contrib/mkgu_packaging/dicarlo/BashivanKar2019/images_temp/naturalistic/8dbf62d021e068b7df178066c0f794e7ee71e316.png\n",
            "/Users/jjpr/dev/brainio_contrib/mkgu_packaging/dicarlo/BashivanKar2019/images_temp/naturalistic/img189.png -> /Users/jjpr/dev/brainio_contrib/mkgu_packaging/dicarlo/BashivanKar2019/images_temp/naturalistic/5d9fe02a086dd7d0ffaac6e77657c67cb0a1fbd7.png\n",
            "/Users/jjpr/dev/brainio_contrib/mkgu_packaging/dicarlo/BashivanKar2019/images_temp/naturalistic/img190.png -> /Users/jjpr/dev/brainio_contrib/mkgu_packaging/dicarlo/BashivanKar2019/images_temp/naturalistic/87eb429d5468a8acca97bc41ce1272e771462fa5.png\n",
            "/Users/jjpr/dev/brainio_contrib/mkgu_packaging/dicarlo/BashivanKar2019/images_temp/naturalistic/img191.png -> /Users/jjpr/dev/brainio_contrib/mkgu_packaging/dicarlo/BashivanKar2019/images_temp/naturalistic/92cebbe32a44acc35f037fa7aac828ee14701a0e.png\n",
            "/Users/jjpr/dev/brainio_contrib/mkgu_packaging/dicarlo/BashivanKar2019/images_temp/naturalistic/img192.png -> /Users/jjpr/dev/brainio_contrib/mkgu_packaging/dicarlo/BashivanKar2019/images_temp/naturalistic/501f15f25e50c5d476d4644d3ce6d76519daccce.png\n",
            "/Users/jjpr/dev/brainio_contrib/mkgu_packaging/dicarlo/BashivanKar2019/images_temp/naturalistic/img193.png -> /Users/jjpr/dev/brainio_contrib/mkgu_packaging/dicarlo/BashivanKar2019/images_temp/naturalistic/5727c583c7ec2e0fa4015bfc503a314aefe822eb.png\n",
            "/Users/jjpr/dev/brainio_contrib/mkgu_packaging/dicarlo/BashivanKar2019/images_temp/naturalistic/img194.png -> /Users/jjpr/dev/brainio_contrib/mkgu_packaging/dicarlo/BashivanKar2019/images_temp/naturalistic/c1099839d61d4a50429046516a0a8ee44028d27c.png\n",
            "/Users/jjpr/dev/brainio_contrib/mkgu_packaging/dicarlo/BashivanKar2019/images_temp/naturalistic/img195.png -> /Users/jjpr/dev/brainio_contrib/mkgu_packaging/dicarlo/BashivanKar2019/images_temp/naturalistic/834fd81f813b0a0d9dcd5f211104904cb121d8ec.png\n",
            "/Users/jjpr/dev/brainio_contrib/mkgu_packaging/dicarlo/BashivanKar2019/images_temp/naturalistic/img196.png -> /Users/jjpr/dev/brainio_contrib/mkgu_packaging/dicarlo/BashivanKar2019/images_temp/naturalistic/ea28332b6fae3aa86a3a8299ba25993db05f92c6.png\n",
            "/Users/jjpr/dev/brainio_contrib/mkgu_packaging/dicarlo/BashivanKar2019/images_temp/naturalistic/img197.png -> /Users/jjpr/dev/brainio_contrib/mkgu_packaging/dicarlo/BashivanKar2019/images_temp/naturalistic/5ba914a0b4f357fddc15d2cc82ff06e3c2a855e6.png\n",
            "/Users/jjpr/dev/brainio_contrib/mkgu_packaging/dicarlo/BashivanKar2019/images_temp/naturalistic/img198.png -> /Users/jjpr/dev/brainio_contrib/mkgu_packaging/dicarlo/BashivanKar2019/images_temp/naturalistic/79edc8572dbafa6bb3a8b854e79df78dca767293.png\n",
            "/Users/jjpr/dev/brainio_contrib/mkgu_packaging/dicarlo/BashivanKar2019/images_temp/naturalistic/img199.png -> /Users/jjpr/dev/brainio_contrib/mkgu_packaging/dicarlo/BashivanKar2019/images_temp/naturalistic/7112aa57f5a5a668c8eadc2dc4fca961f7f11817.png\n",
            "/Users/jjpr/dev/brainio_contrib/mkgu_packaging/dicarlo/BashivanKar2019/images_temp/naturalistic/img200.png -> /Users/jjpr/dev/brainio_contrib/mkgu_packaging/dicarlo/BashivanKar2019/images_temp/naturalistic/25f66720e52a65c23353a366c4bb09f93634a31b.png\n",
            "/Users/jjpr/dev/brainio_contrib/mkgu_packaging/dicarlo/BashivanKar2019/images_temp/naturalistic/img201.png -> /Users/jjpr/dev/brainio_contrib/mkgu_packaging/dicarlo/BashivanKar2019/images_temp/naturalistic/1e24fa1dbfe08373cfaaddc283baf4bfb4bf8a67.png\n",
            "/Users/jjpr/dev/brainio_contrib/mkgu_packaging/dicarlo/BashivanKar2019/images_temp/naturalistic/img202.png -> /Users/jjpr/dev/brainio_contrib/mkgu_packaging/dicarlo/BashivanKar2019/images_temp/naturalistic/1f0c19954f1dc58b9f2e865cc451e1bf8e118d6a.png\n",
            "/Users/jjpr/dev/brainio_contrib/mkgu_packaging/dicarlo/BashivanKar2019/images_temp/naturalistic/img203.png -> /Users/jjpr/dev/brainio_contrib/mkgu_packaging/dicarlo/BashivanKar2019/images_temp/naturalistic/71f40fd8034985448d5558a809523a52a80db15e.png\n",
            "/Users/jjpr/dev/brainio_contrib/mkgu_packaging/dicarlo/BashivanKar2019/images_temp/naturalistic/img204.png -> /Users/jjpr/dev/brainio_contrib/mkgu_packaging/dicarlo/BashivanKar2019/images_temp/naturalistic/d13f81cb894dd9b093b0680b14fd6fc1031f3034.png\n",
            "/Users/jjpr/dev/brainio_contrib/mkgu_packaging/dicarlo/BashivanKar2019/images_temp/naturalistic/img205.png -> /Users/jjpr/dev/brainio_contrib/mkgu_packaging/dicarlo/BashivanKar2019/images_temp/naturalistic/4746c2079d96300cc2564882ce5830da58da0b17.png\n",
            "/Users/jjpr/dev/brainio_contrib/mkgu_packaging/dicarlo/BashivanKar2019/images_temp/naturalistic/img206.png -> /Users/jjpr/dev/brainio_contrib/mkgu_packaging/dicarlo/BashivanKar2019/images_temp/naturalistic/0f406134a8828b0af9df08a19ea856e71957af61.png\n",
            "/Users/jjpr/dev/brainio_contrib/mkgu_packaging/dicarlo/BashivanKar2019/images_temp/naturalistic/img207.png -> /Users/jjpr/dev/brainio_contrib/mkgu_packaging/dicarlo/BashivanKar2019/images_temp/naturalistic/86e230a7943fcf31e8124a6c87a7c926b8a8cbe6.png\n",
            "/Users/jjpr/dev/brainio_contrib/mkgu_packaging/dicarlo/BashivanKar2019/images_temp/naturalistic/img208.png -> /Users/jjpr/dev/brainio_contrib/mkgu_packaging/dicarlo/BashivanKar2019/images_temp/naturalistic/1321b8fc29a23d79d55ad21cd295d5306b715f5f.png\n",
            "/Users/jjpr/dev/brainio_contrib/mkgu_packaging/dicarlo/BashivanKar2019/images_temp/naturalistic/img209.png -> /Users/jjpr/dev/brainio_contrib/mkgu_packaging/dicarlo/BashivanKar2019/images_temp/naturalistic/3e03f83955099b1d4252e1881c92b6073d6510db.png\n",
            "/Users/jjpr/dev/brainio_contrib/mkgu_packaging/dicarlo/BashivanKar2019/images_temp/naturalistic/img210.png -> /Users/jjpr/dev/brainio_contrib/mkgu_packaging/dicarlo/BashivanKar2019/images_temp/naturalistic/22554bd7ca78b623104d27f3621463eabba31bd2.png\n",
            "/Users/jjpr/dev/brainio_contrib/mkgu_packaging/dicarlo/BashivanKar2019/images_temp/naturalistic/img211.png -> /Users/jjpr/dev/brainio_contrib/mkgu_packaging/dicarlo/BashivanKar2019/images_temp/naturalistic/0b80ba25e398cc05edcfccbde19b53b006d95371.png\n",
            "/Users/jjpr/dev/brainio_contrib/mkgu_packaging/dicarlo/BashivanKar2019/images_temp/naturalistic/img212.png -> /Users/jjpr/dev/brainio_contrib/mkgu_packaging/dicarlo/BashivanKar2019/images_temp/naturalistic/1bbb4d172dd0a5c7afd12afefed7070d4a3d5dab.png\n",
            "/Users/jjpr/dev/brainio_contrib/mkgu_packaging/dicarlo/BashivanKar2019/images_temp/naturalistic/img213.png -> /Users/jjpr/dev/brainio_contrib/mkgu_packaging/dicarlo/BashivanKar2019/images_temp/naturalistic/a8ee29c8f3290eeb07afdbe9c1f07d068ee620b6.png\n",
            "/Users/jjpr/dev/brainio_contrib/mkgu_packaging/dicarlo/BashivanKar2019/images_temp/naturalistic/img214.png -> /Users/jjpr/dev/brainio_contrib/mkgu_packaging/dicarlo/BashivanKar2019/images_temp/naturalistic/69e3b492b902da3eb65be69f9bf3351e3bfe41c1.png\n",
            "/Users/jjpr/dev/brainio_contrib/mkgu_packaging/dicarlo/BashivanKar2019/images_temp/naturalistic/img215.png -> /Users/jjpr/dev/brainio_contrib/mkgu_packaging/dicarlo/BashivanKar2019/images_temp/naturalistic/7294c1b60a9c722f5380918d82deae5fe0083b8a.png\n",
            "/Users/jjpr/dev/brainio_contrib/mkgu_packaging/dicarlo/BashivanKar2019/images_temp/naturalistic/img216.png -> /Users/jjpr/dev/brainio_contrib/mkgu_packaging/dicarlo/BashivanKar2019/images_temp/naturalistic/a2d297ad876a1e2044e56e96ee9cba246c73a08f.png\n",
            "/Users/jjpr/dev/brainio_contrib/mkgu_packaging/dicarlo/BashivanKar2019/images_temp/naturalistic/img217.png -> /Users/jjpr/dev/brainio_contrib/mkgu_packaging/dicarlo/BashivanKar2019/images_temp/naturalistic/161d913d0a48a4edc7d984bee2a48cf36ddda7d8.png\n",
            "/Users/jjpr/dev/brainio_contrib/mkgu_packaging/dicarlo/BashivanKar2019/images_temp/naturalistic/img218.png -> /Users/jjpr/dev/brainio_contrib/mkgu_packaging/dicarlo/BashivanKar2019/images_temp/naturalistic/c6c19971dc94569dc8bff2de3700aad1026625df.png\n",
            "/Users/jjpr/dev/brainio_contrib/mkgu_packaging/dicarlo/BashivanKar2019/images_temp/naturalistic/img219.png -> /Users/jjpr/dev/brainio_contrib/mkgu_packaging/dicarlo/BashivanKar2019/images_temp/naturalistic/c81551acc7fd2d6ddcb030699b2dbf8f6bad37d8.png\n",
            "/Users/jjpr/dev/brainio_contrib/mkgu_packaging/dicarlo/BashivanKar2019/images_temp/naturalistic/img220.png -> /Users/jjpr/dev/brainio_contrib/mkgu_packaging/dicarlo/BashivanKar2019/images_temp/naturalistic/a2515b8df8fe09d8bd55906fccef463b85eb8751.png\n",
            "/Users/jjpr/dev/brainio_contrib/mkgu_packaging/dicarlo/BashivanKar2019/images_temp/naturalistic/img221.png -> /Users/jjpr/dev/brainio_contrib/mkgu_packaging/dicarlo/BashivanKar2019/images_temp/naturalistic/e5ddc5cad12036e3a7f9641b44c0980b17e5e810.png\n",
            "/Users/jjpr/dev/brainio_contrib/mkgu_packaging/dicarlo/BashivanKar2019/images_temp/naturalistic/img222.png -> /Users/jjpr/dev/brainio_contrib/mkgu_packaging/dicarlo/BashivanKar2019/images_temp/naturalistic/f42c0754b171c361917cd5515adc3a16264f03f0.png\n",
            "/Users/jjpr/dev/brainio_contrib/mkgu_packaging/dicarlo/BashivanKar2019/images_temp/naturalistic/img223.png -> /Users/jjpr/dev/brainio_contrib/mkgu_packaging/dicarlo/BashivanKar2019/images_temp/naturalistic/ab64ebdd04d72668a7634fe3b7652b69f755a02e.png\n",
            "/Users/jjpr/dev/brainio_contrib/mkgu_packaging/dicarlo/BashivanKar2019/images_temp/naturalistic/img224.png -> /Users/jjpr/dev/brainio_contrib/mkgu_packaging/dicarlo/BashivanKar2019/images_temp/naturalistic/8457cbca1147983470697b4cd1d05bc87ee99169.png\n",
            "/Users/jjpr/dev/brainio_contrib/mkgu_packaging/dicarlo/BashivanKar2019/images_temp/naturalistic/img225.png -> /Users/jjpr/dev/brainio_contrib/mkgu_packaging/dicarlo/BashivanKar2019/images_temp/naturalistic/90e46b62c37f1d84be48ee75eaeb8faffd174867.png\n",
            "/Users/jjpr/dev/brainio_contrib/mkgu_packaging/dicarlo/BashivanKar2019/images_temp/naturalistic/img226.png -> /Users/jjpr/dev/brainio_contrib/mkgu_packaging/dicarlo/BashivanKar2019/images_temp/naturalistic/9765d3213051a40d90ad4b7702469392302798e7.png\n",
            "/Users/jjpr/dev/brainio_contrib/mkgu_packaging/dicarlo/BashivanKar2019/images_temp/naturalistic/img227.png -> /Users/jjpr/dev/brainio_contrib/mkgu_packaging/dicarlo/BashivanKar2019/images_temp/naturalistic/85ebd462234a6f4ef67cc3cebf0cf53be43c26b4.png\n",
            "/Users/jjpr/dev/brainio_contrib/mkgu_packaging/dicarlo/BashivanKar2019/images_temp/naturalistic/img228.png -> /Users/jjpr/dev/brainio_contrib/mkgu_packaging/dicarlo/BashivanKar2019/images_temp/naturalistic/a8db86b1e257ab17ec2c7a9b7d20449ecb6bb955.png\n",
            "/Users/jjpr/dev/brainio_contrib/mkgu_packaging/dicarlo/BashivanKar2019/images_temp/naturalistic/img229.png -> /Users/jjpr/dev/brainio_contrib/mkgu_packaging/dicarlo/BashivanKar2019/images_temp/naturalistic/01408d6d3ba1311e5efa9ed7426f57dabf1b4aab.png\n",
            "/Users/jjpr/dev/brainio_contrib/mkgu_packaging/dicarlo/BashivanKar2019/images_temp/naturalistic/img230.png -> /Users/jjpr/dev/brainio_contrib/mkgu_packaging/dicarlo/BashivanKar2019/images_temp/naturalistic/76bb39dab1248b07afba255cd9536967bfcad6b6.png\n",
            "/Users/jjpr/dev/brainio_contrib/mkgu_packaging/dicarlo/BashivanKar2019/images_temp/naturalistic/img231.png -> /Users/jjpr/dev/brainio_contrib/mkgu_packaging/dicarlo/BashivanKar2019/images_temp/naturalistic/43838fe7304208e9250cc82cce3f8ad0e70e5fbd.png\n",
            "/Users/jjpr/dev/brainio_contrib/mkgu_packaging/dicarlo/BashivanKar2019/images_temp/naturalistic/img232.png -> /Users/jjpr/dev/brainio_contrib/mkgu_packaging/dicarlo/BashivanKar2019/images_temp/naturalistic/d97598bf0f782e4c0e91971ac9f641308294ed12.png\n",
            "/Users/jjpr/dev/brainio_contrib/mkgu_packaging/dicarlo/BashivanKar2019/images_temp/naturalistic/img233.png -> /Users/jjpr/dev/brainio_contrib/mkgu_packaging/dicarlo/BashivanKar2019/images_temp/naturalistic/ee9598960e25641ad589c6db2b457bc4e34f8fa6.png\n",
            "/Users/jjpr/dev/brainio_contrib/mkgu_packaging/dicarlo/BashivanKar2019/images_temp/naturalistic/img234.png -> /Users/jjpr/dev/brainio_contrib/mkgu_packaging/dicarlo/BashivanKar2019/images_temp/naturalistic/3dbad829a45b7061661c2ab40549763e3c359c0e.png\n",
            "/Users/jjpr/dev/brainio_contrib/mkgu_packaging/dicarlo/BashivanKar2019/images_temp/naturalistic/img235.png -> /Users/jjpr/dev/brainio_contrib/mkgu_packaging/dicarlo/BashivanKar2019/images_temp/naturalistic/3deec06b60d1b99cac7174b6fbac1b82d13ce89f.png\n",
            "/Users/jjpr/dev/brainio_contrib/mkgu_packaging/dicarlo/BashivanKar2019/images_temp/naturalistic/img236.png -> /Users/jjpr/dev/brainio_contrib/mkgu_packaging/dicarlo/BashivanKar2019/images_temp/naturalistic/1038ca3270954c97c93a0dfe70d65778af497544.png\n",
            "/Users/jjpr/dev/brainio_contrib/mkgu_packaging/dicarlo/BashivanKar2019/images_temp/naturalistic/img237.png -> /Users/jjpr/dev/brainio_contrib/mkgu_packaging/dicarlo/BashivanKar2019/images_temp/naturalistic/db5696c62b2c676a7aff0267993eaeb0b01f9ca1.png\n",
            "/Users/jjpr/dev/brainio_contrib/mkgu_packaging/dicarlo/BashivanKar2019/images_temp/naturalistic/img238.png -> /Users/jjpr/dev/brainio_contrib/mkgu_packaging/dicarlo/BashivanKar2019/images_temp/naturalistic/962620e49d05ef105064f22624027f4a39fd2029.png\n",
            "/Users/jjpr/dev/brainio_contrib/mkgu_packaging/dicarlo/BashivanKar2019/images_temp/naturalistic/img239.png -> /Users/jjpr/dev/brainio_contrib/mkgu_packaging/dicarlo/BashivanKar2019/images_temp/naturalistic/8a44876b7f3bbe04557aaf871fedf1b5b315d3cf.png\n",
            "/Users/jjpr/dev/brainio_contrib/mkgu_packaging/dicarlo/BashivanKar2019/images_temp/naturalistic/img240.png -> /Users/jjpr/dev/brainio_contrib/mkgu_packaging/dicarlo/BashivanKar2019/images_temp/naturalistic/bf605532a2663cf172bc841b8685e0df0425ba51.png\n",
            "/Users/jjpr/dev/brainio_contrib/mkgu_packaging/dicarlo/BashivanKar2019/images_temp/naturalistic/img241.png -> /Users/jjpr/dev/brainio_contrib/mkgu_packaging/dicarlo/BashivanKar2019/images_temp/naturalistic/6846177edee534b01f0305e9379f57302a3097dc.png\n",
            "/Users/jjpr/dev/brainio_contrib/mkgu_packaging/dicarlo/BashivanKar2019/images_temp/naturalistic/img242.png -> /Users/jjpr/dev/brainio_contrib/mkgu_packaging/dicarlo/BashivanKar2019/images_temp/naturalistic/14ebd1abceeda676fcb7de091efc02b314137784.png\n",
            "/Users/jjpr/dev/brainio_contrib/mkgu_packaging/dicarlo/BashivanKar2019/images_temp/naturalistic/img243.png -> /Users/jjpr/dev/brainio_contrib/mkgu_packaging/dicarlo/BashivanKar2019/images_temp/naturalistic/7d62b9cb7224595516dc6c2fcf84a0b262391e1c.png\n",
            "/Users/jjpr/dev/brainio_contrib/mkgu_packaging/dicarlo/BashivanKar2019/images_temp/naturalistic/img244.png -> /Users/jjpr/dev/brainio_contrib/mkgu_packaging/dicarlo/BashivanKar2019/images_temp/naturalistic/7c8b94feebc09d5e895d2df21ccecb8dfb9b634c.png\n",
            "/Users/jjpr/dev/brainio_contrib/mkgu_packaging/dicarlo/BashivanKar2019/images_temp/naturalistic/img245.png -> /Users/jjpr/dev/brainio_contrib/mkgu_packaging/dicarlo/BashivanKar2019/images_temp/naturalistic/9aa88c3b7c95bb8716a04a3af863ff09e4cb578c.png\n",
            "/Users/jjpr/dev/brainio_contrib/mkgu_packaging/dicarlo/BashivanKar2019/images_temp/naturalistic/img246.png -> /Users/jjpr/dev/brainio_contrib/mkgu_packaging/dicarlo/BashivanKar2019/images_temp/naturalistic/3273359b56ee7fc4b5d6d0347d7925cf7e089d79.png\n",
            "/Users/jjpr/dev/brainio_contrib/mkgu_packaging/dicarlo/BashivanKar2019/images_temp/naturalistic/img247.png -> /Users/jjpr/dev/brainio_contrib/mkgu_packaging/dicarlo/BashivanKar2019/images_temp/naturalistic/1e8e544ea2acd172d088bbc99ad12573c6930331.png\n",
            "/Users/jjpr/dev/brainio_contrib/mkgu_packaging/dicarlo/BashivanKar2019/images_temp/naturalistic/img248.png -> /Users/jjpr/dev/brainio_contrib/mkgu_packaging/dicarlo/BashivanKar2019/images_temp/naturalistic/2213d9815cc19518f3b29ab40beb3253b12a5343.png\n",
            "/Users/jjpr/dev/brainio_contrib/mkgu_packaging/dicarlo/BashivanKar2019/images_temp/naturalistic/img249.png -> /Users/jjpr/dev/brainio_contrib/mkgu_packaging/dicarlo/BashivanKar2019/images_temp/naturalistic/3cc0cffd6a0bc70b32400fcd6e01ce8592984e97.png\n",
            "/Users/jjpr/dev/brainio_contrib/mkgu_packaging/dicarlo/BashivanKar2019/images_temp/naturalistic/img250.png -> /Users/jjpr/dev/brainio_contrib/mkgu_packaging/dicarlo/BashivanKar2019/images_temp/naturalistic/e9a51305d4b442738a5b45481380b777a4d526ed.png\n",
            "/Users/jjpr/dev/brainio_contrib/mkgu_packaging/dicarlo/BashivanKar2019/images_temp/naturalistic/img251.png -> /Users/jjpr/dev/brainio_contrib/mkgu_packaging/dicarlo/BashivanKar2019/images_temp/naturalistic/45f44acbc51a209acb5bd517efe0f8b3539d18ee.png\n",
            "/Users/jjpr/dev/brainio_contrib/mkgu_packaging/dicarlo/BashivanKar2019/images_temp/naturalistic/img252.png -> /Users/jjpr/dev/brainio_contrib/mkgu_packaging/dicarlo/BashivanKar2019/images_temp/naturalistic/a465ebb7ef6569eec15a3dcc58838d7671d9ca78.png\n",
            "/Users/jjpr/dev/brainio_contrib/mkgu_packaging/dicarlo/BashivanKar2019/images_temp/naturalistic/img253.png -> /Users/jjpr/dev/brainio_contrib/mkgu_packaging/dicarlo/BashivanKar2019/images_temp/naturalistic/e5ab1ae66c090b2cb1e5188d5a74cdedb4613511.png\n",
            "/Users/jjpr/dev/brainio_contrib/mkgu_packaging/dicarlo/BashivanKar2019/images_temp/naturalistic/img254.png -> /Users/jjpr/dev/brainio_contrib/mkgu_packaging/dicarlo/BashivanKar2019/images_temp/naturalistic/f8923c591cdcb16a9b53f569ec8db4831022d4b1.png\n",
            "/Users/jjpr/dev/brainio_contrib/mkgu_packaging/dicarlo/BashivanKar2019/images_temp/naturalistic/img255.png -> /Users/jjpr/dev/brainio_contrib/mkgu_packaging/dicarlo/BashivanKar2019/images_temp/naturalistic/cb5d0261ad9e49bd41b362de2aba355fd00a00b3.png\n",
            "/Users/jjpr/dev/brainio_contrib/mkgu_packaging/dicarlo/BashivanKar2019/images_temp/naturalistic/img256.png -> /Users/jjpr/dev/brainio_contrib/mkgu_packaging/dicarlo/BashivanKar2019/images_temp/naturalistic/94bb18a9495d8232cd5907f06285086668ea9195.png\n",
            "/Users/jjpr/dev/brainio_contrib/mkgu_packaging/dicarlo/BashivanKar2019/images_temp/naturalistic/img257.png -> /Users/jjpr/dev/brainio_contrib/mkgu_packaging/dicarlo/BashivanKar2019/images_temp/naturalistic/6a4ecb1c86e75c65c80a44e96922b18fad54846e.png\n",
            "/Users/jjpr/dev/brainio_contrib/mkgu_packaging/dicarlo/BashivanKar2019/images_temp/naturalistic/img258.png -> /Users/jjpr/dev/brainio_contrib/mkgu_packaging/dicarlo/BashivanKar2019/images_temp/naturalistic/a19e361bd8272d6166c27402256b3194ddb63b7c.png\n",
            "/Users/jjpr/dev/brainio_contrib/mkgu_packaging/dicarlo/BashivanKar2019/images_temp/naturalistic/img259.png -> /Users/jjpr/dev/brainio_contrib/mkgu_packaging/dicarlo/BashivanKar2019/images_temp/naturalistic/ea322cf22719da93f6fa9eede969e7af2910209a.png\n",
            "/Users/jjpr/dev/brainio_contrib/mkgu_packaging/dicarlo/BashivanKar2019/images_temp/naturalistic/img260.png -> /Users/jjpr/dev/brainio_contrib/mkgu_packaging/dicarlo/BashivanKar2019/images_temp/naturalistic/dbf2f9fd0a64fda745d9e436b3e8d4b658690bab.png\n",
            "/Users/jjpr/dev/brainio_contrib/mkgu_packaging/dicarlo/BashivanKar2019/images_temp/naturalistic/img261.png -> /Users/jjpr/dev/brainio_contrib/mkgu_packaging/dicarlo/BashivanKar2019/images_temp/naturalistic/59304b6e3c75c7c1c3e7faf2aa709c4e43f807b3.png\n",
            "/Users/jjpr/dev/brainio_contrib/mkgu_packaging/dicarlo/BashivanKar2019/images_temp/naturalistic/img262.png -> /Users/jjpr/dev/brainio_contrib/mkgu_packaging/dicarlo/BashivanKar2019/images_temp/naturalistic/b2fc1532eea487999ce4fb595759cd3370a48b52.png\n",
            "/Users/jjpr/dev/brainio_contrib/mkgu_packaging/dicarlo/BashivanKar2019/images_temp/naturalistic/img263.png -> /Users/jjpr/dev/brainio_contrib/mkgu_packaging/dicarlo/BashivanKar2019/images_temp/naturalistic/d5893f69441694e1005afc3480a2888b578ef7a8.png\n",
            "/Users/jjpr/dev/brainio_contrib/mkgu_packaging/dicarlo/BashivanKar2019/images_temp/naturalistic/img264.png -> /Users/jjpr/dev/brainio_contrib/mkgu_packaging/dicarlo/BashivanKar2019/images_temp/naturalistic/5da927946325f718c91407afe424d783c11ffb56.png\n",
            "/Users/jjpr/dev/brainio_contrib/mkgu_packaging/dicarlo/BashivanKar2019/images_temp/naturalistic/img265.png -> /Users/jjpr/dev/brainio_contrib/mkgu_packaging/dicarlo/BashivanKar2019/images_temp/naturalistic/f8fdbf3b9ac7d149ba9d995f5c6597be3081cab9.png\n",
            "/Users/jjpr/dev/brainio_contrib/mkgu_packaging/dicarlo/BashivanKar2019/images_temp/naturalistic/img266.png -> /Users/jjpr/dev/brainio_contrib/mkgu_packaging/dicarlo/BashivanKar2019/images_temp/naturalistic/7e747e6beb1626d9bba8e005493a2207e41b484a.png\n",
            "/Users/jjpr/dev/brainio_contrib/mkgu_packaging/dicarlo/BashivanKar2019/images_temp/naturalistic/img267.png -> /Users/jjpr/dev/brainio_contrib/mkgu_packaging/dicarlo/BashivanKar2019/images_temp/naturalistic/93cdde5ea4c0deea73b50b6968faa4e8b2f34ad2.png\n",
            "/Users/jjpr/dev/brainio_contrib/mkgu_packaging/dicarlo/BashivanKar2019/images_temp/naturalistic/img268.png -> /Users/jjpr/dev/brainio_contrib/mkgu_packaging/dicarlo/BashivanKar2019/images_temp/naturalistic/3926d2e596b49c303fcdcad3bc03a874005b3f19.png\n",
            "/Users/jjpr/dev/brainio_contrib/mkgu_packaging/dicarlo/BashivanKar2019/images_temp/naturalistic/img269.png -> /Users/jjpr/dev/brainio_contrib/mkgu_packaging/dicarlo/BashivanKar2019/images_temp/naturalistic/c29895e25c9e75dea56fb21a449e16ada7da3431.png\n",
            "/Users/jjpr/dev/brainio_contrib/mkgu_packaging/dicarlo/BashivanKar2019/images_temp/naturalistic/img270.png -> /Users/jjpr/dev/brainio_contrib/mkgu_packaging/dicarlo/BashivanKar2019/images_temp/naturalistic/84861c532ce9d0c6927968eccd25156948aa34eb.png\n",
            "/Users/jjpr/dev/brainio_contrib/mkgu_packaging/dicarlo/BashivanKar2019/images_temp/naturalistic/img271.png -> /Users/jjpr/dev/brainio_contrib/mkgu_packaging/dicarlo/BashivanKar2019/images_temp/naturalistic/f35ee5304e526fc0140ac2b1195c7453b24598dc.png\n",
            "/Users/jjpr/dev/brainio_contrib/mkgu_packaging/dicarlo/BashivanKar2019/images_temp/naturalistic/img272.png -> /Users/jjpr/dev/brainio_contrib/mkgu_packaging/dicarlo/BashivanKar2019/images_temp/naturalistic/bc50db11b0f2e29908764e56d662296fa009c9bf.png\n",
            "/Users/jjpr/dev/brainio_contrib/mkgu_packaging/dicarlo/BashivanKar2019/images_temp/naturalistic/img273.png -> /Users/jjpr/dev/brainio_contrib/mkgu_packaging/dicarlo/BashivanKar2019/images_temp/naturalistic/ab2a8deefa4f195386f564dc0a9e3e4a6caf2544.png\n",
            "/Users/jjpr/dev/brainio_contrib/mkgu_packaging/dicarlo/BashivanKar2019/images_temp/naturalistic/img274.png -> /Users/jjpr/dev/brainio_contrib/mkgu_packaging/dicarlo/BashivanKar2019/images_temp/naturalistic/c4aa165ae43a06cedf7ecc7add3d5c016188cd8a.png\n",
            "/Users/jjpr/dev/brainio_contrib/mkgu_packaging/dicarlo/BashivanKar2019/images_temp/naturalistic/img275.png -> /Users/jjpr/dev/brainio_contrib/mkgu_packaging/dicarlo/BashivanKar2019/images_temp/naturalistic/f61105f04e36c92dc48e5476f2f8b1e5c7cef041.png\n",
            "/Users/jjpr/dev/brainio_contrib/mkgu_packaging/dicarlo/BashivanKar2019/images_temp/naturalistic/img276.png -> /Users/jjpr/dev/brainio_contrib/mkgu_packaging/dicarlo/BashivanKar2019/images_temp/naturalistic/0b76b7302c0ce1dff4c84c41de747e97d176f6af.png\n",
            "/Users/jjpr/dev/brainio_contrib/mkgu_packaging/dicarlo/BashivanKar2019/images_temp/naturalistic/img277.png -> /Users/jjpr/dev/brainio_contrib/mkgu_packaging/dicarlo/BashivanKar2019/images_temp/naturalistic/3d73085a72be1d468a26e14d625a8a66c94b652a.png\n",
            "/Users/jjpr/dev/brainio_contrib/mkgu_packaging/dicarlo/BashivanKar2019/images_temp/naturalistic/img278.png -> /Users/jjpr/dev/brainio_contrib/mkgu_packaging/dicarlo/BashivanKar2019/images_temp/naturalistic/ce5b850aa96e3e9fb90fea68d76d702684ab50ea.png\n",
            "/Users/jjpr/dev/brainio_contrib/mkgu_packaging/dicarlo/BashivanKar2019/images_temp/naturalistic/img279.png -> /Users/jjpr/dev/brainio_contrib/mkgu_packaging/dicarlo/BashivanKar2019/images_temp/naturalistic/e626096a0d9af2d7b4ff0536e84e9c7002cbe7bc.png\n",
            "/Users/jjpr/dev/brainio_contrib/mkgu_packaging/dicarlo/BashivanKar2019/images_temp/naturalistic/img280.png -> /Users/jjpr/dev/brainio_contrib/mkgu_packaging/dicarlo/BashivanKar2019/images_temp/naturalistic/c2442fae1f672a3352cb08eb29a483f7f30206f3.png\n",
            "/Users/jjpr/dev/brainio_contrib/mkgu_packaging/dicarlo/BashivanKar2019/images_temp/naturalistic/img281.png -> /Users/jjpr/dev/brainio_contrib/mkgu_packaging/dicarlo/BashivanKar2019/images_temp/naturalistic/0ac5d8cb0460b53a5b72e619857320b9ce92e149.png\n",
            "/Users/jjpr/dev/brainio_contrib/mkgu_packaging/dicarlo/BashivanKar2019/images_temp/naturalistic/img282.png -> /Users/jjpr/dev/brainio_contrib/mkgu_packaging/dicarlo/BashivanKar2019/images_temp/naturalistic/a8038322da1bf6488d746f3d9c4f7b6f011b40d5.png\n",
            "/Users/jjpr/dev/brainio_contrib/mkgu_packaging/dicarlo/BashivanKar2019/images_temp/naturalistic/img283.png -> /Users/jjpr/dev/brainio_contrib/mkgu_packaging/dicarlo/BashivanKar2019/images_temp/naturalistic/4d395056c2439c54a1dbdc774c0ad4c2e0fd1aa5.png\n",
            "/Users/jjpr/dev/brainio_contrib/mkgu_packaging/dicarlo/BashivanKar2019/images_temp/naturalistic/img284.png -> /Users/jjpr/dev/brainio_contrib/mkgu_packaging/dicarlo/BashivanKar2019/images_temp/naturalistic/138c3ffa0175247d9cada5f5d113e4b3d9a24aaf.png\n",
            "/Users/jjpr/dev/brainio_contrib/mkgu_packaging/dicarlo/BashivanKar2019/images_temp/naturalistic/img285.png -> /Users/jjpr/dev/brainio_contrib/mkgu_packaging/dicarlo/BashivanKar2019/images_temp/naturalistic/953be188727d7ce3b3763672e823b50b1c123e6d.png\n",
            "/Users/jjpr/dev/brainio_contrib/mkgu_packaging/dicarlo/BashivanKar2019/images_temp/naturalistic/img286.png -> /Users/jjpr/dev/brainio_contrib/mkgu_packaging/dicarlo/BashivanKar2019/images_temp/naturalistic/22da6afc0889a2d7bc3f5cafb1dc3ab8d204fab2.png\n",
            "/Users/jjpr/dev/brainio_contrib/mkgu_packaging/dicarlo/BashivanKar2019/images_temp/naturalistic/img287.png -> /Users/jjpr/dev/brainio_contrib/mkgu_packaging/dicarlo/BashivanKar2019/images_temp/naturalistic/47117f4cab559a1d13068531b8a805f38ee722a5.png\n",
            "/Users/jjpr/dev/brainio_contrib/mkgu_packaging/dicarlo/BashivanKar2019/images_temp/naturalistic/img288.png -> /Users/jjpr/dev/brainio_contrib/mkgu_packaging/dicarlo/BashivanKar2019/images_temp/naturalistic/d6b93ed14876d6d14d41b9d9c363dd6a9915addb.png\n",
            "/Users/jjpr/dev/brainio_contrib/mkgu_packaging/dicarlo/BashivanKar2019/images_temp/naturalistic/img289.png -> /Users/jjpr/dev/brainio_contrib/mkgu_packaging/dicarlo/BashivanKar2019/images_temp/naturalistic/325d9a73b3e1932eb1ea5f59ec6691decb5d3f5e.png\n",
            "/Users/jjpr/dev/brainio_contrib/mkgu_packaging/dicarlo/BashivanKar2019/images_temp/naturalistic/img290.png -> /Users/jjpr/dev/brainio_contrib/mkgu_packaging/dicarlo/BashivanKar2019/images_temp/naturalistic/d01d1b8f46dc1f598498394fcb196f7364442b22.png\n",
            "/Users/jjpr/dev/brainio_contrib/mkgu_packaging/dicarlo/BashivanKar2019/images_temp/naturalistic/img291.png -> /Users/jjpr/dev/brainio_contrib/mkgu_packaging/dicarlo/BashivanKar2019/images_temp/naturalistic/2515c5c50e3967d0d25b67e7354bdb6a93297ca8.png\n",
            "/Users/jjpr/dev/brainio_contrib/mkgu_packaging/dicarlo/BashivanKar2019/images_temp/naturalistic/img292.png -> /Users/jjpr/dev/brainio_contrib/mkgu_packaging/dicarlo/BashivanKar2019/images_temp/naturalistic/996d9becb6161d665e7378c300dca90e9623e09a.png\n",
            "/Users/jjpr/dev/brainio_contrib/mkgu_packaging/dicarlo/BashivanKar2019/images_temp/naturalistic/img293.png -> /Users/jjpr/dev/brainio_contrib/mkgu_packaging/dicarlo/BashivanKar2019/images_temp/naturalistic/5d755abbf6c51aac4becb73d024a5e4a3b25e1b0.png\n",
            "/Users/jjpr/dev/brainio_contrib/mkgu_packaging/dicarlo/BashivanKar2019/images_temp/naturalistic/img294.png -> /Users/jjpr/dev/brainio_contrib/mkgu_packaging/dicarlo/BashivanKar2019/images_temp/naturalistic/b1b623ee26a1ab80d5080cefcd681780ff74e59d.png\n",
            "/Users/jjpr/dev/brainio_contrib/mkgu_packaging/dicarlo/BashivanKar2019/images_temp/naturalistic/img295.png -> /Users/jjpr/dev/brainio_contrib/mkgu_packaging/dicarlo/BashivanKar2019/images_temp/naturalistic/553215edef44642eb1ae79349423d8ecb7b1d990.png\n",
            "/Users/jjpr/dev/brainio_contrib/mkgu_packaging/dicarlo/BashivanKar2019/images_temp/naturalistic/img296.png -> /Users/jjpr/dev/brainio_contrib/mkgu_packaging/dicarlo/BashivanKar2019/images_temp/naturalistic/1e203aaed44f87ba527512dc566295654f0dffab.png\n",
            "/Users/jjpr/dev/brainio_contrib/mkgu_packaging/dicarlo/BashivanKar2019/images_temp/naturalistic/img297.png -> /Users/jjpr/dev/brainio_contrib/mkgu_packaging/dicarlo/BashivanKar2019/images_temp/naturalistic/cbb0c1abce5deca12c56371e79be189fbba1a608.png\n",
            "/Users/jjpr/dev/brainio_contrib/mkgu_packaging/dicarlo/BashivanKar2019/images_temp/naturalistic/img298.png -> /Users/jjpr/dev/brainio_contrib/mkgu_packaging/dicarlo/BashivanKar2019/images_temp/naturalistic/f1de2b43fe324c95c86e2dc7bee012fb8a016ed4.png\n",
            "/Users/jjpr/dev/brainio_contrib/mkgu_packaging/dicarlo/BashivanKar2019/images_temp/naturalistic/img299.png -> /Users/jjpr/dev/brainio_contrib/mkgu_packaging/dicarlo/BashivanKar2019/images_temp/naturalistic/e48296b0f25c77e77168b204f830b9b4109fbaed.png\n",
            "/Users/jjpr/dev/brainio_contrib/mkgu_packaging/dicarlo/BashivanKar2019/images_temp/naturalistic/img300.png -> /Users/jjpr/dev/brainio_contrib/mkgu_packaging/dicarlo/BashivanKar2019/images_temp/naturalistic/45c82e427c3bb0e846625b8827a1bf77ffd93f1a.png\n",
            "/Users/jjpr/dev/brainio_contrib/mkgu_packaging/dicarlo/BashivanKar2019/images_temp/naturalistic/img301.png -> /Users/jjpr/dev/brainio_contrib/mkgu_packaging/dicarlo/BashivanKar2019/images_temp/naturalistic/4ddcd58f8d69eebbf8b7dca2a759802260399ecd.png\n",
            "/Users/jjpr/dev/brainio_contrib/mkgu_packaging/dicarlo/BashivanKar2019/images_temp/naturalistic/img302.png -> /Users/jjpr/dev/brainio_contrib/mkgu_packaging/dicarlo/BashivanKar2019/images_temp/naturalistic/619cfeb1e5d2bb9e8cd0524a3a43f8bdd9b18573.png\n",
            "/Users/jjpr/dev/brainio_contrib/mkgu_packaging/dicarlo/BashivanKar2019/images_temp/naturalistic/img303.png -> /Users/jjpr/dev/brainio_contrib/mkgu_packaging/dicarlo/BashivanKar2019/images_temp/naturalistic/fc1983f476c82faa9a57b4057de9da9978e99b3d.png\n",
            "/Users/jjpr/dev/brainio_contrib/mkgu_packaging/dicarlo/BashivanKar2019/images_temp/naturalistic/img304.png -> /Users/jjpr/dev/brainio_contrib/mkgu_packaging/dicarlo/BashivanKar2019/images_temp/naturalistic/04faa430047715d50055abe5a05c38d88a0451d1.png\n",
            "/Users/jjpr/dev/brainio_contrib/mkgu_packaging/dicarlo/BashivanKar2019/images_temp/naturalistic/img305.png -> /Users/jjpr/dev/brainio_contrib/mkgu_packaging/dicarlo/BashivanKar2019/images_temp/naturalistic/56fbdfe418159c32b1e32a767a73f06bc3520a8e.png\n",
            "/Users/jjpr/dev/brainio_contrib/mkgu_packaging/dicarlo/BashivanKar2019/images_temp/naturalistic/img306.png -> /Users/jjpr/dev/brainio_contrib/mkgu_packaging/dicarlo/BashivanKar2019/images_temp/naturalistic/cc1e602d03327f496eb6a4139c9275086115793e.png\n",
            "/Users/jjpr/dev/brainio_contrib/mkgu_packaging/dicarlo/BashivanKar2019/images_temp/naturalistic/img307.png -> /Users/jjpr/dev/brainio_contrib/mkgu_packaging/dicarlo/BashivanKar2019/images_temp/naturalistic/5b428194ed4b1c9febe4cf1fd657675b3e8c3f38.png\n",
            "/Users/jjpr/dev/brainio_contrib/mkgu_packaging/dicarlo/BashivanKar2019/images_temp/naturalistic/img308.png -> /Users/jjpr/dev/brainio_contrib/mkgu_packaging/dicarlo/BashivanKar2019/images_temp/naturalistic/ac83dbf8e53ca51b55b7bb634d82268118e58e1d.png\n",
            "/Users/jjpr/dev/brainio_contrib/mkgu_packaging/dicarlo/BashivanKar2019/images_temp/naturalistic/img309.png -> /Users/jjpr/dev/brainio_contrib/mkgu_packaging/dicarlo/BashivanKar2019/images_temp/naturalistic/717268d2a4e2631efed4d10e7114527ef7563e45.png\n",
            "/Users/jjpr/dev/brainio_contrib/mkgu_packaging/dicarlo/BashivanKar2019/images_temp/naturalistic/img310.png -> /Users/jjpr/dev/brainio_contrib/mkgu_packaging/dicarlo/BashivanKar2019/images_temp/naturalistic/8665237e5190149face4cdddcbdec8c845dd2967.png\n",
            "/Users/jjpr/dev/brainio_contrib/mkgu_packaging/dicarlo/BashivanKar2019/images_temp/naturalistic/img311.png -> /Users/jjpr/dev/brainio_contrib/mkgu_packaging/dicarlo/BashivanKar2019/images_temp/naturalistic/6085f86c9a879c4b04bfa381d720fd4809976771.png\n",
            "/Users/jjpr/dev/brainio_contrib/mkgu_packaging/dicarlo/BashivanKar2019/images_temp/naturalistic/img312.png -> /Users/jjpr/dev/brainio_contrib/mkgu_packaging/dicarlo/BashivanKar2019/images_temp/naturalistic/c9b568a537af6629b7b443ab408618188762a6fb.png\n",
            "/Users/jjpr/dev/brainio_contrib/mkgu_packaging/dicarlo/BashivanKar2019/images_temp/naturalistic/img313.png -> /Users/jjpr/dev/brainio_contrib/mkgu_packaging/dicarlo/BashivanKar2019/images_temp/naturalistic/81aff7de22e69030219734fb5c0582fe2d8ffec6.png\n",
            "/Users/jjpr/dev/brainio_contrib/mkgu_packaging/dicarlo/BashivanKar2019/images_temp/naturalistic/img314.png -> /Users/jjpr/dev/brainio_contrib/mkgu_packaging/dicarlo/BashivanKar2019/images_temp/naturalistic/0db2143fc441fea771e668409de4ad35b39cdc0f.png\n",
            "/Users/jjpr/dev/brainio_contrib/mkgu_packaging/dicarlo/BashivanKar2019/images_temp/naturalistic/img315.png -> /Users/jjpr/dev/brainio_contrib/mkgu_packaging/dicarlo/BashivanKar2019/images_temp/naturalistic/1e8d0824cae422b1b3b7f7a65aa2f3a832d9ea16.png\n",
            "/Users/jjpr/dev/brainio_contrib/mkgu_packaging/dicarlo/BashivanKar2019/images_temp/naturalistic/img316.png -> /Users/jjpr/dev/brainio_contrib/mkgu_packaging/dicarlo/BashivanKar2019/images_temp/naturalistic/4e72ee8e8b900e17ef750f6385715aef82ea0e46.png\n",
            "/Users/jjpr/dev/brainio_contrib/mkgu_packaging/dicarlo/BashivanKar2019/images_temp/naturalistic/img317.png -> /Users/jjpr/dev/brainio_contrib/mkgu_packaging/dicarlo/BashivanKar2019/images_temp/naturalistic/9e7f60f2c7fe9a6f82ec53c33ee10e7db472dc30.png\n",
            "/Users/jjpr/dev/brainio_contrib/mkgu_packaging/dicarlo/BashivanKar2019/images_temp/naturalistic/img318.png -> /Users/jjpr/dev/brainio_contrib/mkgu_packaging/dicarlo/BashivanKar2019/images_temp/naturalistic/91eacf8a1bfd03d3e15d0ceed12299487f964856.png\n",
            "/Users/jjpr/dev/brainio_contrib/mkgu_packaging/dicarlo/BashivanKar2019/images_temp/naturalistic/img319.png -> /Users/jjpr/dev/brainio_contrib/mkgu_packaging/dicarlo/BashivanKar2019/images_temp/naturalistic/49fdb51c87b9fa0a3adc6ddece930113736960aa.png\n",
            "/Users/jjpr/dev/brainio_contrib/mkgu_packaging/dicarlo/BashivanKar2019/images_temp/naturalistic/img320.png -> /Users/jjpr/dev/brainio_contrib/mkgu_packaging/dicarlo/BashivanKar2019/images_temp/naturalistic/7947fddd72deb3ec66ff639f762a7869d5eaae59.png\n",
            "/Users/jjpr/dev/brainio_contrib/mkgu_packaging/dicarlo/BashivanKar2019/images_temp/naturalistic/img321.png -> /Users/jjpr/dev/brainio_contrib/mkgu_packaging/dicarlo/BashivanKar2019/images_temp/naturalistic/db9eccb7935d98e9c87e683b267befa12a534cff.png\n",
            "/Users/jjpr/dev/brainio_contrib/mkgu_packaging/dicarlo/BashivanKar2019/images_temp/naturalistic/img322.png -> /Users/jjpr/dev/brainio_contrib/mkgu_packaging/dicarlo/BashivanKar2019/images_temp/naturalistic/9f060578b41b3b25a19a08afeefe14768b60864e.png\n",
            "/Users/jjpr/dev/brainio_contrib/mkgu_packaging/dicarlo/BashivanKar2019/images_temp/naturalistic/img323.png -> /Users/jjpr/dev/brainio_contrib/mkgu_packaging/dicarlo/BashivanKar2019/images_temp/naturalistic/8c290e6f44c98b629de3009cfa4992d674f48846.png\n",
            "/Users/jjpr/dev/brainio_contrib/mkgu_packaging/dicarlo/BashivanKar2019/images_temp/naturalistic/img324.png -> /Users/jjpr/dev/brainio_contrib/mkgu_packaging/dicarlo/BashivanKar2019/images_temp/naturalistic/9948aad22added13dd4abcba1c29d0ecd380a94a.png\n",
            "/Users/jjpr/dev/brainio_contrib/mkgu_packaging/dicarlo/BashivanKar2019/images_temp/naturalistic/img325.png -> /Users/jjpr/dev/brainio_contrib/mkgu_packaging/dicarlo/BashivanKar2019/images_temp/naturalistic/03e8780001314b12099597eaab0b7fa09191f9b6.png\n",
            "/Users/jjpr/dev/brainio_contrib/mkgu_packaging/dicarlo/BashivanKar2019/images_temp/naturalistic/img326.png -> /Users/jjpr/dev/brainio_contrib/mkgu_packaging/dicarlo/BashivanKar2019/images_temp/naturalistic/17c6644071ca90b750f8a37b5bd8aa655576948d.png\n",
            "/Users/jjpr/dev/brainio_contrib/mkgu_packaging/dicarlo/BashivanKar2019/images_temp/naturalistic/img327.png -> /Users/jjpr/dev/brainio_contrib/mkgu_packaging/dicarlo/BashivanKar2019/images_temp/naturalistic/2d29e56232204d2518df017c94d9772751a69468.png\n",
            "/Users/jjpr/dev/brainio_contrib/mkgu_packaging/dicarlo/BashivanKar2019/images_temp/naturalistic/img328.png -> /Users/jjpr/dev/brainio_contrib/mkgu_packaging/dicarlo/BashivanKar2019/images_temp/naturalistic/e4c0a4e0629d58bfd6e101b0f03be47fa6f323f8.png\n",
            "/Users/jjpr/dev/brainio_contrib/mkgu_packaging/dicarlo/BashivanKar2019/images_temp/naturalistic/img329.png -> /Users/jjpr/dev/brainio_contrib/mkgu_packaging/dicarlo/BashivanKar2019/images_temp/naturalistic/1071aa96a8a7ac8d5245014089096d9809f8f8f9.png\n",
            "/Users/jjpr/dev/brainio_contrib/mkgu_packaging/dicarlo/BashivanKar2019/images_temp/naturalistic/img330.png -> /Users/jjpr/dev/brainio_contrib/mkgu_packaging/dicarlo/BashivanKar2019/images_temp/naturalistic/508b2d6597a7cfdf082b1b5f485ac2935617f5dc.png\n",
            "/Users/jjpr/dev/brainio_contrib/mkgu_packaging/dicarlo/BashivanKar2019/images_temp/naturalistic/img331.png -> /Users/jjpr/dev/brainio_contrib/mkgu_packaging/dicarlo/BashivanKar2019/images_temp/naturalistic/65a7f367f37dbe3589a691a55e8e355ed1eac302.png\n",
            "/Users/jjpr/dev/brainio_contrib/mkgu_packaging/dicarlo/BashivanKar2019/images_temp/naturalistic/img332.png -> /Users/jjpr/dev/brainio_contrib/mkgu_packaging/dicarlo/BashivanKar2019/images_temp/naturalistic/3b20efc8c14c95cfcc7ee9787d47a6855c5e41ac.png\n",
            "/Users/jjpr/dev/brainio_contrib/mkgu_packaging/dicarlo/BashivanKar2019/images_temp/naturalistic/img333.png -> /Users/jjpr/dev/brainio_contrib/mkgu_packaging/dicarlo/BashivanKar2019/images_temp/naturalistic/44ce7a24f91fc4592de2dbf0bb3d8d614d135168.png\n",
            "/Users/jjpr/dev/brainio_contrib/mkgu_packaging/dicarlo/BashivanKar2019/images_temp/naturalistic/img334.png -> /Users/jjpr/dev/brainio_contrib/mkgu_packaging/dicarlo/BashivanKar2019/images_temp/naturalistic/9dd30fcc39f9041bf3156376f33353141a5e63b1.png\n",
            "/Users/jjpr/dev/brainio_contrib/mkgu_packaging/dicarlo/BashivanKar2019/images_temp/naturalistic/img335.png -> /Users/jjpr/dev/brainio_contrib/mkgu_packaging/dicarlo/BashivanKar2019/images_temp/naturalistic/1ad9054c3c8de613ad5f74ea01bb8fb80063116a.png\n",
            "/Users/jjpr/dev/brainio_contrib/mkgu_packaging/dicarlo/BashivanKar2019/images_temp/naturalistic/img336.png -> /Users/jjpr/dev/brainio_contrib/mkgu_packaging/dicarlo/BashivanKar2019/images_temp/naturalistic/3692ae2044b06ea4b1c7b19557edd63aabb96135.png\n",
            "/Users/jjpr/dev/brainio_contrib/mkgu_packaging/dicarlo/BashivanKar2019/images_temp/naturalistic/img337.png -> /Users/jjpr/dev/brainio_contrib/mkgu_packaging/dicarlo/BashivanKar2019/images_temp/naturalistic/c0c1019f41ca97711f0b73b2cbabde3cc3fd1708.png\n",
            "/Users/jjpr/dev/brainio_contrib/mkgu_packaging/dicarlo/BashivanKar2019/images_temp/naturalistic/img338.png -> /Users/jjpr/dev/brainio_contrib/mkgu_packaging/dicarlo/BashivanKar2019/images_temp/naturalistic/a671ee60adb3a843f66231e193350a8943e75843.png\n",
            "/Users/jjpr/dev/brainio_contrib/mkgu_packaging/dicarlo/BashivanKar2019/images_temp/naturalistic/img339.png -> /Users/jjpr/dev/brainio_contrib/mkgu_packaging/dicarlo/BashivanKar2019/images_temp/naturalistic/57642d9861e8b3c0fb6bc5ca693760fbacd3af52.png\n",
            "/Users/jjpr/dev/brainio_contrib/mkgu_packaging/dicarlo/BashivanKar2019/images_temp/naturalistic/img340.png -> /Users/jjpr/dev/brainio_contrib/mkgu_packaging/dicarlo/BashivanKar2019/images_temp/naturalistic/03298c38e8eacbc7beb868b7e47df7cb8bbaa2e5.png\n",
            "/Users/jjpr/dev/brainio_contrib/mkgu_packaging/dicarlo/BashivanKar2019/images_temp/naturalistic/img341.png -> /Users/jjpr/dev/brainio_contrib/mkgu_packaging/dicarlo/BashivanKar2019/images_temp/naturalistic/806c88325d6102f50d735d8fc97966748d78ebf8.png\n",
            "/Users/jjpr/dev/brainio_contrib/mkgu_packaging/dicarlo/BashivanKar2019/images_temp/naturalistic/img342.png -> /Users/jjpr/dev/brainio_contrib/mkgu_packaging/dicarlo/BashivanKar2019/images_temp/naturalistic/2825eb525009396230be6470271ec2cfdd3957d0.png\n",
            "/Users/jjpr/dev/brainio_contrib/mkgu_packaging/dicarlo/BashivanKar2019/images_temp/naturalistic/img343.png -> /Users/jjpr/dev/brainio_contrib/mkgu_packaging/dicarlo/BashivanKar2019/images_temp/naturalistic/f63d496e4f831fb117ce73eeed51ae9fea000a44.png\n",
            "/Users/jjpr/dev/brainio_contrib/mkgu_packaging/dicarlo/BashivanKar2019/images_temp/naturalistic/img344.png -> /Users/jjpr/dev/brainio_contrib/mkgu_packaging/dicarlo/BashivanKar2019/images_temp/naturalistic/ac72ecd954d620d3a4038f52c058bfae3c965cc2.png\n",
            "/Users/jjpr/dev/brainio_contrib/mkgu_packaging/dicarlo/BashivanKar2019/images_temp/naturalistic/img345.png -> /Users/jjpr/dev/brainio_contrib/mkgu_packaging/dicarlo/BashivanKar2019/images_temp/naturalistic/06fcb2c42074f2d900e3fa445a2966b8199ebada.png\n",
            "/Users/jjpr/dev/brainio_contrib/mkgu_packaging/dicarlo/BashivanKar2019/images_temp/naturalistic/img346.png -> /Users/jjpr/dev/brainio_contrib/mkgu_packaging/dicarlo/BashivanKar2019/images_temp/naturalistic/da4abedb54432a386426c0f457ab97f26b65e286.png\n",
            "/Users/jjpr/dev/brainio_contrib/mkgu_packaging/dicarlo/BashivanKar2019/images_temp/naturalistic/img347.png -> /Users/jjpr/dev/brainio_contrib/mkgu_packaging/dicarlo/BashivanKar2019/images_temp/naturalistic/0077a54203a132214cd088c6e01d75e2319c210e.png\n",
            "/Users/jjpr/dev/brainio_contrib/mkgu_packaging/dicarlo/BashivanKar2019/images_temp/naturalistic/img348.png -> /Users/jjpr/dev/brainio_contrib/mkgu_packaging/dicarlo/BashivanKar2019/images_temp/naturalistic/70437f35493575fe7e745f5218549358bb28a4cf.png\n",
            "/Users/jjpr/dev/brainio_contrib/mkgu_packaging/dicarlo/BashivanKar2019/images_temp/naturalistic/img349.png -> /Users/jjpr/dev/brainio_contrib/mkgu_packaging/dicarlo/BashivanKar2019/images_temp/naturalistic/057dc5d7ab7ea97beef2615190324551d8673c51.png\n",
            "/Users/jjpr/dev/brainio_contrib/mkgu_packaging/dicarlo/BashivanKar2019/images_temp/naturalistic/img350.png -> /Users/jjpr/dev/brainio_contrib/mkgu_packaging/dicarlo/BashivanKar2019/images_temp/naturalistic/2843094c4ee6899b27c4a877c8e303f99c6d95bf.png\n",
            "/Users/jjpr/dev/brainio_contrib/mkgu_packaging/dicarlo/BashivanKar2019/images_temp/naturalistic/img351.png -> /Users/jjpr/dev/brainio_contrib/mkgu_packaging/dicarlo/BashivanKar2019/images_temp/naturalistic/c7a40e4ec4a23db5adfcdce7ed26ef238f9083b0.png\n",
            "/Users/jjpr/dev/brainio_contrib/mkgu_packaging/dicarlo/BashivanKar2019/images_temp/naturalistic/img352.png -> /Users/jjpr/dev/brainio_contrib/mkgu_packaging/dicarlo/BashivanKar2019/images_temp/naturalistic/0be7310f58f913217cf441d363260ec8086fa37d.png\n",
            "/Users/jjpr/dev/brainio_contrib/mkgu_packaging/dicarlo/BashivanKar2019/images_temp/naturalistic/img353.png -> /Users/jjpr/dev/brainio_contrib/mkgu_packaging/dicarlo/BashivanKar2019/images_temp/naturalistic/58023ae76043c7a302f40d99095635e79b958022.png\n",
            "/Users/jjpr/dev/brainio_contrib/mkgu_packaging/dicarlo/BashivanKar2019/images_temp/naturalistic/img354.png -> /Users/jjpr/dev/brainio_contrib/mkgu_packaging/dicarlo/BashivanKar2019/images_temp/naturalistic/2def55cdfdd809e4d389184c9a0bae0587356560.png\n",
            "/Users/jjpr/dev/brainio_contrib/mkgu_packaging/dicarlo/BashivanKar2019/images_temp/naturalistic/img355.png -> /Users/jjpr/dev/brainio_contrib/mkgu_packaging/dicarlo/BashivanKar2019/images_temp/naturalistic/578fa62bb807c2098d1934522b7e2e5bb4a127c6.png\n",
            "/Users/jjpr/dev/brainio_contrib/mkgu_packaging/dicarlo/BashivanKar2019/images_temp/naturalistic/img356.png -> /Users/jjpr/dev/brainio_contrib/mkgu_packaging/dicarlo/BashivanKar2019/images_temp/naturalistic/e20a0f5bf9c05c9438f1cf0c99592bd9c2720f65.png\n",
            "/Users/jjpr/dev/brainio_contrib/mkgu_packaging/dicarlo/BashivanKar2019/images_temp/naturalistic/img357.png -> /Users/jjpr/dev/brainio_contrib/mkgu_packaging/dicarlo/BashivanKar2019/images_temp/naturalistic/eabf4c7e8443e3a31ca3070153aaae51a5fad84e.png\n",
            "/Users/jjpr/dev/brainio_contrib/mkgu_packaging/dicarlo/BashivanKar2019/images_temp/naturalistic/img358.png -> /Users/jjpr/dev/brainio_contrib/mkgu_packaging/dicarlo/BashivanKar2019/images_temp/naturalistic/ef857345dd55785a283d8e4d861bbb3b0c7b5166.png\n",
            "/Users/jjpr/dev/brainio_contrib/mkgu_packaging/dicarlo/BashivanKar2019/images_temp/naturalistic/img359.png -> /Users/jjpr/dev/brainio_contrib/mkgu_packaging/dicarlo/BashivanKar2019/images_temp/naturalistic/d7ce94c6bb7e731d3dcfa6e6419b34cba574da3d.png\n",
            "/Users/jjpr/dev/brainio_contrib/mkgu_packaging/dicarlo/BashivanKar2019/images_temp/naturalistic/img360.png -> /Users/jjpr/dev/brainio_contrib/mkgu_packaging/dicarlo/BashivanKar2019/images_temp/naturalistic/498f376c5f6f75a8245dbc15cbdd7eae35a3c017.png\n",
            "/Users/jjpr/dev/brainio_contrib/mkgu_packaging/dicarlo/BashivanKar2019/images_temp/naturalistic/img361.png -> /Users/jjpr/dev/brainio_contrib/mkgu_packaging/dicarlo/BashivanKar2019/images_temp/naturalistic/c6a46d26e595a009086523b9e4348ff2165acadd.png\n",
            "/Users/jjpr/dev/brainio_contrib/mkgu_packaging/dicarlo/BashivanKar2019/images_temp/naturalistic/img362.png -> /Users/jjpr/dev/brainio_contrib/mkgu_packaging/dicarlo/BashivanKar2019/images_temp/naturalistic/064e849889fc812cbb55d2bd5c12a7cb421a5be7.png\n",
            "/Users/jjpr/dev/brainio_contrib/mkgu_packaging/dicarlo/BashivanKar2019/images_temp/naturalistic/img363.png -> /Users/jjpr/dev/brainio_contrib/mkgu_packaging/dicarlo/BashivanKar2019/images_temp/naturalistic/512cd8c1e0672dd93f0fbb6e6e738042533b1f58.png\n",
            "/Users/jjpr/dev/brainio_contrib/mkgu_packaging/dicarlo/BashivanKar2019/images_temp/naturalistic/img364.png -> /Users/jjpr/dev/brainio_contrib/mkgu_packaging/dicarlo/BashivanKar2019/images_temp/naturalistic/faaf5e6a2a58b4d582b95dc4c0993db7ed5ca87b.png\n",
            "/Users/jjpr/dev/brainio_contrib/mkgu_packaging/dicarlo/BashivanKar2019/images_temp/naturalistic/img365.png -> /Users/jjpr/dev/brainio_contrib/mkgu_packaging/dicarlo/BashivanKar2019/images_temp/naturalistic/ffa87cbd59d51d8de78f77e25c56680bdd018e6e.png\n",
            "/Users/jjpr/dev/brainio_contrib/mkgu_packaging/dicarlo/BashivanKar2019/images_temp/naturalistic/img366.png -> /Users/jjpr/dev/brainio_contrib/mkgu_packaging/dicarlo/BashivanKar2019/images_temp/naturalistic/451952384767907777d25e48a6b3a24b4ab6a18b.png\n",
            "/Users/jjpr/dev/brainio_contrib/mkgu_packaging/dicarlo/BashivanKar2019/images_temp/naturalistic/img367.png -> /Users/jjpr/dev/brainio_contrib/mkgu_packaging/dicarlo/BashivanKar2019/images_temp/naturalistic/8a5e8bbb703feb021b6eaa3ed81f146d70b4f3b5.png\n",
            "/Users/jjpr/dev/brainio_contrib/mkgu_packaging/dicarlo/BashivanKar2019/images_temp/naturalistic/img368.png -> /Users/jjpr/dev/brainio_contrib/mkgu_packaging/dicarlo/BashivanKar2019/images_temp/naturalistic/0a881093e379b581d42b085cc52325e2fc219533.png\n",
            "/Users/jjpr/dev/brainio_contrib/mkgu_packaging/dicarlo/BashivanKar2019/images_temp/naturalistic/img369.png -> /Users/jjpr/dev/brainio_contrib/mkgu_packaging/dicarlo/BashivanKar2019/images_temp/naturalistic/38d7c87935e27d8ac71e5434b4c40156b4b46227.png\n",
            "/Users/jjpr/dev/brainio_contrib/mkgu_packaging/dicarlo/BashivanKar2019/images_temp/naturalistic/img370.png -> /Users/jjpr/dev/brainio_contrib/mkgu_packaging/dicarlo/BashivanKar2019/images_temp/naturalistic/07bee2c34089c82d771b654c050fe5deab5f0362.png\n",
            "/Users/jjpr/dev/brainio_contrib/mkgu_packaging/dicarlo/BashivanKar2019/images_temp/naturalistic/img371.png -> /Users/jjpr/dev/brainio_contrib/mkgu_packaging/dicarlo/BashivanKar2019/images_temp/naturalistic/b557177af774c26eeb6134011d47e67b31808579.png\n",
            "/Users/jjpr/dev/brainio_contrib/mkgu_packaging/dicarlo/BashivanKar2019/images_temp/naturalistic/img372.png -> /Users/jjpr/dev/brainio_contrib/mkgu_packaging/dicarlo/BashivanKar2019/images_temp/naturalistic/4446c8543d83a5622167f27e162fdd4b97f0205d.png\n",
            "/Users/jjpr/dev/brainio_contrib/mkgu_packaging/dicarlo/BashivanKar2019/images_temp/naturalistic/img373.png -> /Users/jjpr/dev/brainio_contrib/mkgu_packaging/dicarlo/BashivanKar2019/images_temp/naturalistic/3af8512caa6008d86fb9407ef506485c403eedfd.png\n",
            "/Users/jjpr/dev/brainio_contrib/mkgu_packaging/dicarlo/BashivanKar2019/images_temp/naturalistic/img374.png -> /Users/jjpr/dev/brainio_contrib/mkgu_packaging/dicarlo/BashivanKar2019/images_temp/naturalistic/78876c0107bf28ba039671b8cbbef13bfc2613e5.png\n",
            "/Users/jjpr/dev/brainio_contrib/mkgu_packaging/dicarlo/BashivanKar2019/images_temp/naturalistic/img375.png -> /Users/jjpr/dev/brainio_contrib/mkgu_packaging/dicarlo/BashivanKar2019/images_temp/naturalistic/6a8b21b56022f508654aa5e9ffb969f50982b0ce.png\n",
            "/Users/jjpr/dev/brainio_contrib/mkgu_packaging/dicarlo/BashivanKar2019/images_temp/naturalistic/img376.png -> /Users/jjpr/dev/brainio_contrib/mkgu_packaging/dicarlo/BashivanKar2019/images_temp/naturalistic/6d4cbaab7fc36a27815b80580f6878e8bc1251c2.png\n",
            "/Users/jjpr/dev/brainio_contrib/mkgu_packaging/dicarlo/BashivanKar2019/images_temp/naturalistic/img377.png -> /Users/jjpr/dev/brainio_contrib/mkgu_packaging/dicarlo/BashivanKar2019/images_temp/naturalistic/74c88a1eb0c4f99a21a35664d53d3c4da5c0f6df.png\n",
            "/Users/jjpr/dev/brainio_contrib/mkgu_packaging/dicarlo/BashivanKar2019/images_temp/naturalistic/img378.png -> /Users/jjpr/dev/brainio_contrib/mkgu_packaging/dicarlo/BashivanKar2019/images_temp/naturalistic/15dfa29291d6d5a04091ef2abf748bd261e80572.png\n",
            "/Users/jjpr/dev/brainio_contrib/mkgu_packaging/dicarlo/BashivanKar2019/images_temp/naturalistic/img379.png -> /Users/jjpr/dev/brainio_contrib/mkgu_packaging/dicarlo/BashivanKar2019/images_temp/naturalistic/0196d8ca368059335da703c831f7b4d7519decb1.png\n",
            "/Users/jjpr/dev/brainio_contrib/mkgu_packaging/dicarlo/BashivanKar2019/images_temp/naturalistic/img380.png -> /Users/jjpr/dev/brainio_contrib/mkgu_packaging/dicarlo/BashivanKar2019/images_temp/naturalistic/4fa13e8b77a034f7999e6157a19f0ac9a058d4e5.png\n",
            "/Users/jjpr/dev/brainio_contrib/mkgu_packaging/dicarlo/BashivanKar2019/images_temp/naturalistic/img381.png -> /Users/jjpr/dev/brainio_contrib/mkgu_packaging/dicarlo/BashivanKar2019/images_temp/naturalistic/8cb66ce6a15c93b351ca74cbd67ba7db9e853f16.png\n",
            "/Users/jjpr/dev/brainio_contrib/mkgu_packaging/dicarlo/BashivanKar2019/images_temp/naturalistic/img382.png -> /Users/jjpr/dev/brainio_contrib/mkgu_packaging/dicarlo/BashivanKar2019/images_temp/naturalistic/526ff852e0ce129c840f2776dd531b697c936ba7.png\n",
            "/Users/jjpr/dev/brainio_contrib/mkgu_packaging/dicarlo/BashivanKar2019/images_temp/naturalistic/img383.png -> /Users/jjpr/dev/brainio_contrib/mkgu_packaging/dicarlo/BashivanKar2019/images_temp/naturalistic/d748606d60997009e7ac40ca1d6db9a75b871b4a.png\n",
            "/Users/jjpr/dev/brainio_contrib/mkgu_packaging/dicarlo/BashivanKar2019/images_temp/naturalistic/img384.png -> /Users/jjpr/dev/brainio_contrib/mkgu_packaging/dicarlo/BashivanKar2019/images_temp/naturalistic/e1334f407fd4ec1888fcabac40e892172fac2713.png\n",
            "/Users/jjpr/dev/brainio_contrib/mkgu_packaging/dicarlo/BashivanKar2019/images_temp/naturalistic/img385.png -> /Users/jjpr/dev/brainio_contrib/mkgu_packaging/dicarlo/BashivanKar2019/images_temp/naturalistic/9d9f8f742d7bf4a2d632b61e43fb72be8ff17556.png\n",
            "/Users/jjpr/dev/brainio_contrib/mkgu_packaging/dicarlo/BashivanKar2019/images_temp/naturalistic/img386.png -> /Users/jjpr/dev/brainio_contrib/mkgu_packaging/dicarlo/BashivanKar2019/images_temp/naturalistic/7d78d51f60571c19ff5108f2eb46a91ac9108c68.png\n",
            "/Users/jjpr/dev/brainio_contrib/mkgu_packaging/dicarlo/BashivanKar2019/images_temp/naturalistic/img387.png -> /Users/jjpr/dev/brainio_contrib/mkgu_packaging/dicarlo/BashivanKar2019/images_temp/naturalistic/f8fcad490812801273c04cccf9db83225048b362.png\n",
            "/Users/jjpr/dev/brainio_contrib/mkgu_packaging/dicarlo/BashivanKar2019/images_temp/naturalistic/img388.png -> /Users/jjpr/dev/brainio_contrib/mkgu_packaging/dicarlo/BashivanKar2019/images_temp/naturalistic/4a298e457d547c36fab88b2804f4ae0df2ee9610.png\n",
            "/Users/jjpr/dev/brainio_contrib/mkgu_packaging/dicarlo/BashivanKar2019/images_temp/naturalistic/img389.png -> /Users/jjpr/dev/brainio_contrib/mkgu_packaging/dicarlo/BashivanKar2019/images_temp/naturalistic/46dac94cad568117647eff655b941f4294927c6b.png\n",
            "/Users/jjpr/dev/brainio_contrib/mkgu_packaging/dicarlo/BashivanKar2019/images_temp/naturalistic/img390.png -> /Users/jjpr/dev/brainio_contrib/mkgu_packaging/dicarlo/BashivanKar2019/images_temp/naturalistic/32b154ebdae75adf46006de351a631e6a72c0202.png\n",
            "/Users/jjpr/dev/brainio_contrib/mkgu_packaging/dicarlo/BashivanKar2019/images_temp/naturalistic/img391.png -> /Users/jjpr/dev/brainio_contrib/mkgu_packaging/dicarlo/BashivanKar2019/images_temp/naturalistic/e40cfee9bb63e8b5ae530a7970b94e995c17a693.png\n",
            "/Users/jjpr/dev/brainio_contrib/mkgu_packaging/dicarlo/BashivanKar2019/images_temp/naturalistic/img392.png -> /Users/jjpr/dev/brainio_contrib/mkgu_packaging/dicarlo/BashivanKar2019/images_temp/naturalistic/fcaffae3c9226846d48c2e09fb0dff628d281e5b.png\n",
            "/Users/jjpr/dev/brainio_contrib/mkgu_packaging/dicarlo/BashivanKar2019/images_temp/naturalistic/img393.png -> /Users/jjpr/dev/brainio_contrib/mkgu_packaging/dicarlo/BashivanKar2019/images_temp/naturalistic/c7925b2ab2f4ee83f839e0aa472e8ed8122f36ba.png\n",
            "/Users/jjpr/dev/brainio_contrib/mkgu_packaging/dicarlo/BashivanKar2019/images_temp/naturalistic/img394.png -> /Users/jjpr/dev/brainio_contrib/mkgu_packaging/dicarlo/BashivanKar2019/images_temp/naturalistic/d247981bed1bf97aacd11436ef04ce0cdda3ae9b.png\n",
            "/Users/jjpr/dev/brainio_contrib/mkgu_packaging/dicarlo/BashivanKar2019/images_temp/naturalistic/img395.png -> /Users/jjpr/dev/brainio_contrib/mkgu_packaging/dicarlo/BashivanKar2019/images_temp/naturalistic/7a58dff9c016bc0407dba2a0f11adf1b5005c519.png\n",
            "/Users/jjpr/dev/brainio_contrib/mkgu_packaging/dicarlo/BashivanKar2019/images_temp/naturalistic/img396.png -> /Users/jjpr/dev/brainio_contrib/mkgu_packaging/dicarlo/BashivanKar2019/images_temp/naturalistic/bdb32f0038fb8540177782c615496345628fd392.png\n",
            "/Users/jjpr/dev/brainio_contrib/mkgu_packaging/dicarlo/BashivanKar2019/images_temp/naturalistic/img397.png -> /Users/jjpr/dev/brainio_contrib/mkgu_packaging/dicarlo/BashivanKar2019/images_temp/naturalistic/c58b86cec54f56ba8e70d0db27853509d0f31c77.png\n",
            "/Users/jjpr/dev/brainio_contrib/mkgu_packaging/dicarlo/BashivanKar2019/images_temp/naturalistic/img398.png -> /Users/jjpr/dev/brainio_contrib/mkgu_packaging/dicarlo/BashivanKar2019/images_temp/naturalistic/5f7f74cdf4dddf23b6d84efa3a918c86df8b9ab1.png\n",
            "/Users/jjpr/dev/brainio_contrib/mkgu_packaging/dicarlo/BashivanKar2019/images_temp/naturalistic/img399.png -> /Users/jjpr/dev/brainio_contrib/mkgu_packaging/dicarlo/BashivanKar2019/images_temp/naturalistic/4e2c57602a9c5f515955d72640a68ae276025930.png\n",
            "/Users/jjpr/dev/brainio_contrib/mkgu_packaging/dicarlo/BashivanKar2019/images_temp/naturalistic/img400.png -> /Users/jjpr/dev/brainio_contrib/mkgu_packaging/dicarlo/BashivanKar2019/images_temp/naturalistic/fbcaba314cc34630a266b133539226b5e68986c9.png\n",
            "/Users/jjpr/dev/brainio_contrib/mkgu_packaging/dicarlo/BashivanKar2019/images_temp/naturalistic/img401.png -> /Users/jjpr/dev/brainio_contrib/mkgu_packaging/dicarlo/BashivanKar2019/images_temp/naturalistic/32b0784dd0b2764b18704035ad9f662f995248d2.png\n",
            "/Users/jjpr/dev/brainio_contrib/mkgu_packaging/dicarlo/BashivanKar2019/images_temp/naturalistic/img402.png -> /Users/jjpr/dev/brainio_contrib/mkgu_packaging/dicarlo/BashivanKar2019/images_temp/naturalistic/2125b3791b2d108ec9564dc88ab12738e297320e.png\n",
            "/Users/jjpr/dev/brainio_contrib/mkgu_packaging/dicarlo/BashivanKar2019/images_temp/naturalistic/img403.png -> /Users/jjpr/dev/brainio_contrib/mkgu_packaging/dicarlo/BashivanKar2019/images_temp/naturalistic/4f7ba37a29599b6d8569cfec4aaaa04648d74399.png\n",
            "/Users/jjpr/dev/brainio_contrib/mkgu_packaging/dicarlo/BashivanKar2019/images_temp/naturalistic/img404.png -> /Users/jjpr/dev/brainio_contrib/mkgu_packaging/dicarlo/BashivanKar2019/images_temp/naturalistic/6b7ad73656aaed6df5e452486f211718c9743d86.png\n",
            "/Users/jjpr/dev/brainio_contrib/mkgu_packaging/dicarlo/BashivanKar2019/images_temp/naturalistic/img405.png -> /Users/jjpr/dev/brainio_contrib/mkgu_packaging/dicarlo/BashivanKar2019/images_temp/naturalistic/237dac160e3be5c66954133a16d356b07b981631.png\n",
            "/Users/jjpr/dev/brainio_contrib/mkgu_packaging/dicarlo/BashivanKar2019/images_temp/naturalistic/img406.png -> /Users/jjpr/dev/brainio_contrib/mkgu_packaging/dicarlo/BashivanKar2019/images_temp/naturalistic/11015b997f69058a989629c8bcfd7e3b97735425.png\n",
            "/Users/jjpr/dev/brainio_contrib/mkgu_packaging/dicarlo/BashivanKar2019/images_temp/naturalistic/img407.png -> /Users/jjpr/dev/brainio_contrib/mkgu_packaging/dicarlo/BashivanKar2019/images_temp/naturalistic/4ab417ed1e184b9c7c7dc838f760ec2123d89eb7.png\n",
            "/Users/jjpr/dev/brainio_contrib/mkgu_packaging/dicarlo/BashivanKar2019/images_temp/naturalistic/img408.png -> /Users/jjpr/dev/brainio_contrib/mkgu_packaging/dicarlo/BashivanKar2019/images_temp/naturalistic/d832988f9acaeac614ff6328174705d6c925e208.png\n",
            "/Users/jjpr/dev/brainio_contrib/mkgu_packaging/dicarlo/BashivanKar2019/images_temp/naturalistic/img409.png -> /Users/jjpr/dev/brainio_contrib/mkgu_packaging/dicarlo/BashivanKar2019/images_temp/naturalistic/d92509499bfd2148a7035d62fceb9cb5145bc735.png\n",
            "/Users/jjpr/dev/brainio_contrib/mkgu_packaging/dicarlo/BashivanKar2019/images_temp/naturalistic/img410.png -> /Users/jjpr/dev/brainio_contrib/mkgu_packaging/dicarlo/BashivanKar2019/images_temp/naturalistic/03f19361ef0bb505349a46461315e75526dbe2e6.png\n",
            "/Users/jjpr/dev/brainio_contrib/mkgu_packaging/dicarlo/BashivanKar2019/images_temp/naturalistic/img411.png -> /Users/jjpr/dev/brainio_contrib/mkgu_packaging/dicarlo/BashivanKar2019/images_temp/naturalistic/ffb755a7ca4f87ffb9dbaa30a020b0e9ed0156ff.png\n",
            "/Users/jjpr/dev/brainio_contrib/mkgu_packaging/dicarlo/BashivanKar2019/images_temp/naturalistic/img412.png -> /Users/jjpr/dev/brainio_contrib/mkgu_packaging/dicarlo/BashivanKar2019/images_temp/naturalistic/c43b3a67945483065edf6fb40e229f2614f97c37.png\n",
            "/Users/jjpr/dev/brainio_contrib/mkgu_packaging/dicarlo/BashivanKar2019/images_temp/naturalistic/img413.png -> /Users/jjpr/dev/brainio_contrib/mkgu_packaging/dicarlo/BashivanKar2019/images_temp/naturalistic/e9b8ee98384d423b56fca690586fb25ed68a5120.png\n",
            "/Users/jjpr/dev/brainio_contrib/mkgu_packaging/dicarlo/BashivanKar2019/images_temp/naturalistic/img414.png -> /Users/jjpr/dev/brainio_contrib/mkgu_packaging/dicarlo/BashivanKar2019/images_temp/naturalistic/0709e0eb5e0a057d6d9775e3663ecc6cb86d76b8.png\n",
            "/Users/jjpr/dev/brainio_contrib/mkgu_packaging/dicarlo/BashivanKar2019/images_temp/naturalistic/img415.png -> /Users/jjpr/dev/brainio_contrib/mkgu_packaging/dicarlo/BashivanKar2019/images_temp/naturalistic/0ec8e265a16379b14e06bbe2c70a84c58c4673e3.png\n",
            "/Users/jjpr/dev/brainio_contrib/mkgu_packaging/dicarlo/BashivanKar2019/images_temp/naturalistic/img416.png -> /Users/jjpr/dev/brainio_contrib/mkgu_packaging/dicarlo/BashivanKar2019/images_temp/naturalistic/8c0cfa1eb0ee26a9f526a0020cccb9649b340572.png\n",
            "/Users/jjpr/dev/brainio_contrib/mkgu_packaging/dicarlo/BashivanKar2019/images_temp/naturalistic/img417.png -> /Users/jjpr/dev/brainio_contrib/mkgu_packaging/dicarlo/BashivanKar2019/images_temp/naturalistic/40d2605980ca11ddb35bb0161840125c8acbbd9c.png\n",
            "/Users/jjpr/dev/brainio_contrib/mkgu_packaging/dicarlo/BashivanKar2019/images_temp/naturalistic/img418.png -> /Users/jjpr/dev/brainio_contrib/mkgu_packaging/dicarlo/BashivanKar2019/images_temp/naturalistic/845f5eb11bf71dcb8cb0015acb68b3d834ef9f77.png\n",
            "/Users/jjpr/dev/brainio_contrib/mkgu_packaging/dicarlo/BashivanKar2019/images_temp/naturalistic/img419.png -> /Users/jjpr/dev/brainio_contrib/mkgu_packaging/dicarlo/BashivanKar2019/images_temp/naturalistic/7cf302ba82ec024a329898ca01ef1db101f18466.png\n",
            "/Users/jjpr/dev/brainio_contrib/mkgu_packaging/dicarlo/BashivanKar2019/images_temp/naturalistic/img420.png -> /Users/jjpr/dev/brainio_contrib/mkgu_packaging/dicarlo/BashivanKar2019/images_temp/naturalistic/c7eb3a65b1ea1f87fcc12a83a11c16c763d6901d.png\n",
            "/Users/jjpr/dev/brainio_contrib/mkgu_packaging/dicarlo/BashivanKar2019/images_temp/naturalistic/img421.png -> /Users/jjpr/dev/brainio_contrib/mkgu_packaging/dicarlo/BashivanKar2019/images_temp/naturalistic/46bfd8f8dff14648933088cf07374fc87f93ca6b.png\n",
            "/Users/jjpr/dev/brainio_contrib/mkgu_packaging/dicarlo/BashivanKar2019/images_temp/naturalistic/img422.png -> /Users/jjpr/dev/brainio_contrib/mkgu_packaging/dicarlo/BashivanKar2019/images_temp/naturalistic/a38e05602522774848535b68b8b7d3a985530a08.png\n",
            "/Users/jjpr/dev/brainio_contrib/mkgu_packaging/dicarlo/BashivanKar2019/images_temp/naturalistic/img423.png -> /Users/jjpr/dev/brainio_contrib/mkgu_packaging/dicarlo/BashivanKar2019/images_temp/naturalistic/b7b888950329d126cfbc4b912b5cda1fb253a34a.png\n",
            "/Users/jjpr/dev/brainio_contrib/mkgu_packaging/dicarlo/BashivanKar2019/images_temp/naturalistic/img424.png -> /Users/jjpr/dev/brainio_contrib/mkgu_packaging/dicarlo/BashivanKar2019/images_temp/naturalistic/e737b23600ae9f80a3de0a919a84e7dfbc7ab9af.png\n",
            "/Users/jjpr/dev/brainio_contrib/mkgu_packaging/dicarlo/BashivanKar2019/images_temp/naturalistic/img425.png -> /Users/jjpr/dev/brainio_contrib/mkgu_packaging/dicarlo/BashivanKar2019/images_temp/naturalistic/404028b277b0cab86b087f0ca7c71615b1b54474.png\n",
            "/Users/jjpr/dev/brainio_contrib/mkgu_packaging/dicarlo/BashivanKar2019/images_temp/naturalistic/img426.png -> /Users/jjpr/dev/brainio_contrib/mkgu_packaging/dicarlo/BashivanKar2019/images_temp/naturalistic/3393c65a9a093bc34070f06004d0b651cf021635.png\n",
            "/Users/jjpr/dev/brainio_contrib/mkgu_packaging/dicarlo/BashivanKar2019/images_temp/naturalistic/img427.png -> /Users/jjpr/dev/brainio_contrib/mkgu_packaging/dicarlo/BashivanKar2019/images_temp/naturalistic/cc4bc62b7adcf8d8969ab416fef9d817600f8111.png\n",
            "/Users/jjpr/dev/brainio_contrib/mkgu_packaging/dicarlo/BashivanKar2019/images_temp/naturalistic/img428.png -> /Users/jjpr/dev/brainio_contrib/mkgu_packaging/dicarlo/BashivanKar2019/images_temp/naturalistic/4e077a87dbfa6ce750fe66a3d11fbd3290179fda.png\n",
            "/Users/jjpr/dev/brainio_contrib/mkgu_packaging/dicarlo/BashivanKar2019/images_temp/naturalistic/img429.png -> /Users/jjpr/dev/brainio_contrib/mkgu_packaging/dicarlo/BashivanKar2019/images_temp/naturalistic/a08afdedb43d8a372a9c1948ae144a22cdcd51f3.png\n",
            "/Users/jjpr/dev/brainio_contrib/mkgu_packaging/dicarlo/BashivanKar2019/images_temp/naturalistic/img430.png -> /Users/jjpr/dev/brainio_contrib/mkgu_packaging/dicarlo/BashivanKar2019/images_temp/naturalistic/3d0b0ca52886b92ffe02f1451c897d525f7beeba.png\n",
            "/Users/jjpr/dev/brainio_contrib/mkgu_packaging/dicarlo/BashivanKar2019/images_temp/naturalistic/img431.png -> /Users/jjpr/dev/brainio_contrib/mkgu_packaging/dicarlo/BashivanKar2019/images_temp/naturalistic/a78b897ef6be9554e2b47d7b1a4b07412dffbcc8.png\n",
            "/Users/jjpr/dev/brainio_contrib/mkgu_packaging/dicarlo/BashivanKar2019/images_temp/naturalistic/img432.png -> /Users/jjpr/dev/brainio_contrib/mkgu_packaging/dicarlo/BashivanKar2019/images_temp/naturalistic/06e445402f371df3414f4a343e830ef8890c27a3.png\n",
            "/Users/jjpr/dev/brainio_contrib/mkgu_packaging/dicarlo/BashivanKar2019/images_temp/naturalistic/img433.png -> /Users/jjpr/dev/brainio_contrib/mkgu_packaging/dicarlo/BashivanKar2019/images_temp/naturalistic/49b1783a471f8c3d55dad3186f594aa5dbe2a604.png\n",
            "/Users/jjpr/dev/brainio_contrib/mkgu_packaging/dicarlo/BashivanKar2019/images_temp/naturalistic/img434.png -> /Users/jjpr/dev/brainio_contrib/mkgu_packaging/dicarlo/BashivanKar2019/images_temp/naturalistic/6381f037225fe6323e002075bcbdbc226320d060.png\n",
            "/Users/jjpr/dev/brainio_contrib/mkgu_packaging/dicarlo/BashivanKar2019/images_temp/naturalistic/img435.png -> /Users/jjpr/dev/brainio_contrib/mkgu_packaging/dicarlo/BashivanKar2019/images_temp/naturalistic/78c0bc06dbc2481f5723aec4377e849494683a2d.png\n",
            "/Users/jjpr/dev/brainio_contrib/mkgu_packaging/dicarlo/BashivanKar2019/images_temp/naturalistic/img436.png -> /Users/jjpr/dev/brainio_contrib/mkgu_packaging/dicarlo/BashivanKar2019/images_temp/naturalistic/3806b3ce065fb1e05a428a528cd1f0ff216c8fb0.png\n",
            "/Users/jjpr/dev/brainio_contrib/mkgu_packaging/dicarlo/BashivanKar2019/images_temp/naturalistic/img437.png -> /Users/jjpr/dev/brainio_contrib/mkgu_packaging/dicarlo/BashivanKar2019/images_temp/naturalistic/650696c36854514f4f8527f2ff2081b7d091b186.png\n",
            "/Users/jjpr/dev/brainio_contrib/mkgu_packaging/dicarlo/BashivanKar2019/images_temp/naturalistic/img438.png -> /Users/jjpr/dev/brainio_contrib/mkgu_packaging/dicarlo/BashivanKar2019/images_temp/naturalistic/62ca7159a110545a8bf14813ee5fe9df0e6eaead.png\n",
            "/Users/jjpr/dev/brainio_contrib/mkgu_packaging/dicarlo/BashivanKar2019/images_temp/naturalistic/img439.png -> /Users/jjpr/dev/brainio_contrib/mkgu_packaging/dicarlo/BashivanKar2019/images_temp/naturalistic/6ccf1ab2d6f27fd1ad39f1701d9cc0ac93595b53.png\n",
            "/Users/jjpr/dev/brainio_contrib/mkgu_packaging/dicarlo/BashivanKar2019/images_temp/naturalistic/img440.png -> /Users/jjpr/dev/brainio_contrib/mkgu_packaging/dicarlo/BashivanKar2019/images_temp/naturalistic/8e9c8d3c30b077309b5e2e6d1aa68dca9dbcd654.png\n",
            "/Users/jjpr/dev/brainio_contrib/mkgu_packaging/dicarlo/BashivanKar2019/images_temp/naturalistic/img441.png -> /Users/jjpr/dev/brainio_contrib/mkgu_packaging/dicarlo/BashivanKar2019/images_temp/naturalistic/cf7e9a3857bae627fd32236eb7f03a2be20db30f.png\n",
            "/Users/jjpr/dev/brainio_contrib/mkgu_packaging/dicarlo/BashivanKar2019/images_temp/naturalistic/img442.png -> /Users/jjpr/dev/brainio_contrib/mkgu_packaging/dicarlo/BashivanKar2019/images_temp/naturalistic/f7e38c3c86c046d218a1ed44e376f94af6aee01d.png\n",
            "/Users/jjpr/dev/brainio_contrib/mkgu_packaging/dicarlo/BashivanKar2019/images_temp/naturalistic/img443.png -> /Users/jjpr/dev/brainio_contrib/mkgu_packaging/dicarlo/BashivanKar2019/images_temp/naturalistic/5e239e7a5dcd343625c18870b515de68bf16a2a9.png\n",
            "/Users/jjpr/dev/brainio_contrib/mkgu_packaging/dicarlo/BashivanKar2019/images_temp/naturalistic/img444.png -> /Users/jjpr/dev/brainio_contrib/mkgu_packaging/dicarlo/BashivanKar2019/images_temp/naturalistic/f10a9a4f5ec6610a9c8476a445bd628f4858182e.png\n",
            "/Users/jjpr/dev/brainio_contrib/mkgu_packaging/dicarlo/BashivanKar2019/images_temp/naturalistic/img445.png -> /Users/jjpr/dev/brainio_contrib/mkgu_packaging/dicarlo/BashivanKar2019/images_temp/naturalistic/7f28253815040bf184853288b7022161315fa965.png\n",
            "/Users/jjpr/dev/brainio_contrib/mkgu_packaging/dicarlo/BashivanKar2019/images_temp/naturalistic/img446.png -> /Users/jjpr/dev/brainio_contrib/mkgu_packaging/dicarlo/BashivanKar2019/images_temp/naturalistic/e654a888b90393732abdc9d553ac0262d2890e75.png\n",
            "/Users/jjpr/dev/brainio_contrib/mkgu_packaging/dicarlo/BashivanKar2019/images_temp/naturalistic/img447.png -> /Users/jjpr/dev/brainio_contrib/mkgu_packaging/dicarlo/BashivanKar2019/images_temp/naturalistic/d139ddd41918d615b1d5a2644368431cea5705e1.png\n",
            "/Users/jjpr/dev/brainio_contrib/mkgu_packaging/dicarlo/BashivanKar2019/images_temp/naturalistic/img448.png -> /Users/jjpr/dev/brainio_contrib/mkgu_packaging/dicarlo/BashivanKar2019/images_temp/naturalistic/c5c4e91ef792c545bfbdc2caad0f6209c8d64c14.png\n",
            "/Users/jjpr/dev/brainio_contrib/mkgu_packaging/dicarlo/BashivanKar2019/images_temp/naturalistic/img449.png -> /Users/jjpr/dev/brainio_contrib/mkgu_packaging/dicarlo/BashivanKar2019/images_temp/naturalistic/31aaf8fa9534f7109c4181a24523085bd04548dc.png\n",
            "/Users/jjpr/dev/brainio_contrib/mkgu_packaging/dicarlo/BashivanKar2019/images_temp/naturalistic/img450.png -> /Users/jjpr/dev/brainio_contrib/mkgu_packaging/dicarlo/BashivanKar2019/images_temp/naturalistic/d9c56057a5d78781710d6a2ccfecdc05e4310cbe.png\n",
            "/Users/jjpr/dev/brainio_contrib/mkgu_packaging/dicarlo/BashivanKar2019/images_temp/naturalistic/img451.png -> /Users/jjpr/dev/brainio_contrib/mkgu_packaging/dicarlo/BashivanKar2019/images_temp/naturalistic/0ba3b9b0c75e890145aa70f5f06136649d1d6464.png\n",
            "/Users/jjpr/dev/brainio_contrib/mkgu_packaging/dicarlo/BashivanKar2019/images_temp/naturalistic/img452.png -> /Users/jjpr/dev/brainio_contrib/mkgu_packaging/dicarlo/BashivanKar2019/images_temp/naturalistic/4d796ea065f1b718ba136bf8c5c5bc0a2a5f78cf.png\n",
            "/Users/jjpr/dev/brainio_contrib/mkgu_packaging/dicarlo/BashivanKar2019/images_temp/naturalistic/img453.png -> /Users/jjpr/dev/brainio_contrib/mkgu_packaging/dicarlo/BashivanKar2019/images_temp/naturalistic/1d5209174abdedf7f4ce814c8a71696dae2767c3.png\n",
            "/Users/jjpr/dev/brainio_contrib/mkgu_packaging/dicarlo/BashivanKar2019/images_temp/naturalistic/img454.png -> /Users/jjpr/dev/brainio_contrib/mkgu_packaging/dicarlo/BashivanKar2019/images_temp/naturalistic/62ef619e6de30cf827f98557ce0538267c44dbce.png\n",
            "/Users/jjpr/dev/brainio_contrib/mkgu_packaging/dicarlo/BashivanKar2019/images_temp/naturalistic/img455.png -> /Users/jjpr/dev/brainio_contrib/mkgu_packaging/dicarlo/BashivanKar2019/images_temp/naturalistic/77ab81af62ba97880406371094f20d81ce85e9b4.png\n",
            "/Users/jjpr/dev/brainio_contrib/mkgu_packaging/dicarlo/BashivanKar2019/images_temp/naturalistic/img456.png -> /Users/jjpr/dev/brainio_contrib/mkgu_packaging/dicarlo/BashivanKar2019/images_temp/naturalistic/e1fafdaf9844e017a8a238e26b035445b8c2747b.png\n",
            "/Users/jjpr/dev/brainio_contrib/mkgu_packaging/dicarlo/BashivanKar2019/images_temp/naturalistic/img457.png -> /Users/jjpr/dev/brainio_contrib/mkgu_packaging/dicarlo/BashivanKar2019/images_temp/naturalistic/30d28ed3c82f03b47e47272483aa505bf5683a80.png\n",
            "/Users/jjpr/dev/brainio_contrib/mkgu_packaging/dicarlo/BashivanKar2019/images_temp/naturalistic/img458.png -> /Users/jjpr/dev/brainio_contrib/mkgu_packaging/dicarlo/BashivanKar2019/images_temp/naturalistic/20d6988b1602390633366b4918e26be3cb269373.png\n",
            "/Users/jjpr/dev/brainio_contrib/mkgu_packaging/dicarlo/BashivanKar2019/images_temp/naturalistic/img459.png -> /Users/jjpr/dev/brainio_contrib/mkgu_packaging/dicarlo/BashivanKar2019/images_temp/naturalistic/564b6be08e51aa60adefb9c3b77f66e6353d1fd0.png\n",
            "/Users/jjpr/dev/brainio_contrib/mkgu_packaging/dicarlo/BashivanKar2019/images_temp/naturalistic/img460.png -> /Users/jjpr/dev/brainio_contrib/mkgu_packaging/dicarlo/BashivanKar2019/images_temp/naturalistic/e549730915d06b1c9491724ee48e43204d231433.png\n",
            "/Users/jjpr/dev/brainio_contrib/mkgu_packaging/dicarlo/BashivanKar2019/images_temp/naturalistic/img461.png -> /Users/jjpr/dev/brainio_contrib/mkgu_packaging/dicarlo/BashivanKar2019/images_temp/naturalistic/0607d592121a777093407692e01223807475cd30.png\n",
            "/Users/jjpr/dev/brainio_contrib/mkgu_packaging/dicarlo/BashivanKar2019/images_temp/naturalistic/img462.png -> /Users/jjpr/dev/brainio_contrib/mkgu_packaging/dicarlo/BashivanKar2019/images_temp/naturalistic/87f6b1f26ce47020534e33f459dafaeac4145e38.png\n",
            "/Users/jjpr/dev/brainio_contrib/mkgu_packaging/dicarlo/BashivanKar2019/images_temp/naturalistic/img463.png -> /Users/jjpr/dev/brainio_contrib/mkgu_packaging/dicarlo/BashivanKar2019/images_temp/naturalistic/d1587ccb182222d13780fbf7143b07bff9d49d1d.png\n",
            "/Users/jjpr/dev/brainio_contrib/mkgu_packaging/dicarlo/BashivanKar2019/images_temp/naturalistic/img464.png -> /Users/jjpr/dev/brainio_contrib/mkgu_packaging/dicarlo/BashivanKar2019/images_temp/naturalistic/74fe5c51f99f17e9b22c854dfb9fc344186e4043.png\n",
            "/Users/jjpr/dev/brainio_contrib/mkgu_packaging/dicarlo/BashivanKar2019/images_temp/naturalistic/img465.png -> /Users/jjpr/dev/brainio_contrib/mkgu_packaging/dicarlo/BashivanKar2019/images_temp/naturalistic/2600c52afd0dcceb7d7467b8e1177a3126335698.png\n",
            "/Users/jjpr/dev/brainio_contrib/mkgu_packaging/dicarlo/BashivanKar2019/images_temp/naturalistic/img466.png -> /Users/jjpr/dev/brainio_contrib/mkgu_packaging/dicarlo/BashivanKar2019/images_temp/naturalistic/9f6590835fe97b73572738910057e0517a51122d.png\n",
            "/Users/jjpr/dev/brainio_contrib/mkgu_packaging/dicarlo/BashivanKar2019/images_temp/naturalistic/img467.png -> /Users/jjpr/dev/brainio_contrib/mkgu_packaging/dicarlo/BashivanKar2019/images_temp/naturalistic/bc491120221e3bdaadd0e5109054eca434ce7f8b.png\n",
            "/Users/jjpr/dev/brainio_contrib/mkgu_packaging/dicarlo/BashivanKar2019/images_temp/naturalistic/img468.png -> /Users/jjpr/dev/brainio_contrib/mkgu_packaging/dicarlo/BashivanKar2019/images_temp/naturalistic/e18807ee710dda8d9140b5e1e8e60d81434d6eaf.png\n",
            "/Users/jjpr/dev/brainio_contrib/mkgu_packaging/dicarlo/BashivanKar2019/images_temp/naturalistic/img469.png -> /Users/jjpr/dev/brainio_contrib/mkgu_packaging/dicarlo/BashivanKar2019/images_temp/naturalistic/b0d9368fcf673c30c0786275f750678443ded8ee.png\n",
            "/Users/jjpr/dev/brainio_contrib/mkgu_packaging/dicarlo/BashivanKar2019/images_temp/naturalistic/img470.png -> /Users/jjpr/dev/brainio_contrib/mkgu_packaging/dicarlo/BashivanKar2019/images_temp/naturalistic/61bd4947ff3c81b8a8fd2e6164f32b406e241e9a.png\n",
            "/Users/jjpr/dev/brainio_contrib/mkgu_packaging/dicarlo/BashivanKar2019/images_temp/naturalistic/img471.png -> /Users/jjpr/dev/brainio_contrib/mkgu_packaging/dicarlo/BashivanKar2019/images_temp/naturalistic/de9fa66b7fcce39901618ab8ea5df8cb3f692931.png\n",
            "/Users/jjpr/dev/brainio_contrib/mkgu_packaging/dicarlo/BashivanKar2019/images_temp/naturalistic/img472.png -> /Users/jjpr/dev/brainio_contrib/mkgu_packaging/dicarlo/BashivanKar2019/images_temp/naturalistic/1c52aa09fa0935f888691a6af7e5e3c2cb801a02.png\n",
            "/Users/jjpr/dev/brainio_contrib/mkgu_packaging/dicarlo/BashivanKar2019/images_temp/naturalistic/img473.png -> /Users/jjpr/dev/brainio_contrib/mkgu_packaging/dicarlo/BashivanKar2019/images_temp/naturalistic/26f4636950c67728eaa19067355e937dc53ce5ad.png\n",
            "/Users/jjpr/dev/brainio_contrib/mkgu_packaging/dicarlo/BashivanKar2019/images_temp/naturalistic/img474.png -> /Users/jjpr/dev/brainio_contrib/mkgu_packaging/dicarlo/BashivanKar2019/images_temp/naturalistic/4c5b175c9abfcdbfaa5befcc2bf4f2b8e32cd66d.png\n",
            "/Users/jjpr/dev/brainio_contrib/mkgu_packaging/dicarlo/BashivanKar2019/images_temp/naturalistic/img475.png -> /Users/jjpr/dev/brainio_contrib/mkgu_packaging/dicarlo/BashivanKar2019/images_temp/naturalistic/1db1b5fba887944276c6d409caa444b266244c34.png\n",
            "/Users/jjpr/dev/brainio_contrib/mkgu_packaging/dicarlo/BashivanKar2019/images_temp/naturalistic/img476.png -> /Users/jjpr/dev/brainio_contrib/mkgu_packaging/dicarlo/BashivanKar2019/images_temp/naturalistic/5c7f6c88abd6f9b56aba0b210e610e9ffe851b64.png\n",
            "/Users/jjpr/dev/brainio_contrib/mkgu_packaging/dicarlo/BashivanKar2019/images_temp/naturalistic/img477.png -> /Users/jjpr/dev/brainio_contrib/mkgu_packaging/dicarlo/BashivanKar2019/images_temp/naturalistic/b0f54ee01857fcf6066c7341bcba852ec1c70de5.png\n",
            "/Users/jjpr/dev/brainio_contrib/mkgu_packaging/dicarlo/BashivanKar2019/images_temp/naturalistic/img478.png -> /Users/jjpr/dev/brainio_contrib/mkgu_packaging/dicarlo/BashivanKar2019/images_temp/naturalistic/750cf416466508631419f395275d524fc095b963.png\n",
            "/Users/jjpr/dev/brainio_contrib/mkgu_packaging/dicarlo/BashivanKar2019/images_temp/naturalistic/img479.png -> /Users/jjpr/dev/brainio_contrib/mkgu_packaging/dicarlo/BashivanKar2019/images_temp/naturalistic/c978f631d9730531b77319a4d1c2d2f7021602b0.png\n",
            "/Users/jjpr/dev/brainio_contrib/mkgu_packaging/dicarlo/BashivanKar2019/images_temp/naturalistic/img480.png -> /Users/jjpr/dev/brainio_contrib/mkgu_packaging/dicarlo/BashivanKar2019/images_temp/naturalistic/803416794d4c2cf67232d046889b59db297a1278.png\n",
            "/Users/jjpr/dev/brainio_contrib/mkgu_packaging/dicarlo/BashivanKar2019/images_temp/naturalistic/img481.png -> /Users/jjpr/dev/brainio_contrib/mkgu_packaging/dicarlo/BashivanKar2019/images_temp/naturalistic/39e61e10e7ddd2fe5102f1e00195e2bd57dc1b23.png\n",
            "/Users/jjpr/dev/brainio_contrib/mkgu_packaging/dicarlo/BashivanKar2019/images_temp/naturalistic/img482.png -> /Users/jjpr/dev/brainio_contrib/mkgu_packaging/dicarlo/BashivanKar2019/images_temp/naturalistic/6707b91205e08a4fb5f075382caed0859f455935.png\n",
            "/Users/jjpr/dev/brainio_contrib/mkgu_packaging/dicarlo/BashivanKar2019/images_temp/naturalistic/img483.png -> /Users/jjpr/dev/brainio_contrib/mkgu_packaging/dicarlo/BashivanKar2019/images_temp/naturalistic/f8548f6279f06f2ea1c8725822ac026b2aa8e391.png\n",
            "/Users/jjpr/dev/brainio_contrib/mkgu_packaging/dicarlo/BashivanKar2019/images_temp/naturalistic/img484.png -> /Users/jjpr/dev/brainio_contrib/mkgu_packaging/dicarlo/BashivanKar2019/images_temp/naturalistic/4257a16a50aeebea5e1b397892a8b4dbc8486f63.png\n",
            "/Users/jjpr/dev/brainio_contrib/mkgu_packaging/dicarlo/BashivanKar2019/images_temp/naturalistic/img485.png -> /Users/jjpr/dev/brainio_contrib/mkgu_packaging/dicarlo/BashivanKar2019/images_temp/naturalistic/93e3e8b7dd447cd27b9ccfa772ebb2f2e1fb2252.png\n",
            "/Users/jjpr/dev/brainio_contrib/mkgu_packaging/dicarlo/BashivanKar2019/images_temp/naturalistic/img486.png -> /Users/jjpr/dev/brainio_contrib/mkgu_packaging/dicarlo/BashivanKar2019/images_temp/naturalistic/e688fc7190c55c25822f301f65343d1c6f29b31e.png\n",
            "/Users/jjpr/dev/brainio_contrib/mkgu_packaging/dicarlo/BashivanKar2019/images_temp/naturalistic/img487.png -> /Users/jjpr/dev/brainio_contrib/mkgu_packaging/dicarlo/BashivanKar2019/images_temp/naturalistic/c89eb3a01f1c026eb3b708e5ab6c816358b66d1d.png\n",
            "/Users/jjpr/dev/brainio_contrib/mkgu_packaging/dicarlo/BashivanKar2019/images_temp/naturalistic/img488.png -> /Users/jjpr/dev/brainio_contrib/mkgu_packaging/dicarlo/BashivanKar2019/images_temp/naturalistic/7c19aa149d24db3142713b8e06316474902ee59e.png\n",
            "/Users/jjpr/dev/brainio_contrib/mkgu_packaging/dicarlo/BashivanKar2019/images_temp/naturalistic/img489.png -> /Users/jjpr/dev/brainio_contrib/mkgu_packaging/dicarlo/BashivanKar2019/images_temp/naturalistic/bd0848c451e4c3e8e16cdb2d28a5485482000118.png\n",
            "/Users/jjpr/dev/brainio_contrib/mkgu_packaging/dicarlo/BashivanKar2019/images_temp/naturalistic/img490.png -> /Users/jjpr/dev/brainio_contrib/mkgu_packaging/dicarlo/BashivanKar2019/images_temp/naturalistic/465b7052685d9e07ea33b53878172f230a07eea0.png\n",
            "/Users/jjpr/dev/brainio_contrib/mkgu_packaging/dicarlo/BashivanKar2019/images_temp/naturalistic/img491.png -> /Users/jjpr/dev/brainio_contrib/mkgu_packaging/dicarlo/BashivanKar2019/images_temp/naturalistic/7bed0b4d5be3d30f07e83e44012df87dfda51e95.png\n",
            "/Users/jjpr/dev/brainio_contrib/mkgu_packaging/dicarlo/BashivanKar2019/images_temp/naturalistic/img492.png -> /Users/jjpr/dev/brainio_contrib/mkgu_packaging/dicarlo/BashivanKar2019/images_temp/naturalistic/1578588916010a57eafcc57bf3e3b171b5d20660.png\n",
            "/Users/jjpr/dev/brainio_contrib/mkgu_packaging/dicarlo/BashivanKar2019/images_temp/naturalistic/img493.png -> /Users/jjpr/dev/brainio_contrib/mkgu_packaging/dicarlo/BashivanKar2019/images_temp/naturalistic/6ef0f9c140c67da01bd6197cc319b624c0523064.png\n",
            "/Users/jjpr/dev/brainio_contrib/mkgu_packaging/dicarlo/BashivanKar2019/images_temp/naturalistic/img494.png -> /Users/jjpr/dev/brainio_contrib/mkgu_packaging/dicarlo/BashivanKar2019/images_temp/naturalistic/300ceee8a0abce5b86e380fde30b1bee0a0e93be.png\n",
            "/Users/jjpr/dev/brainio_contrib/mkgu_packaging/dicarlo/BashivanKar2019/images_temp/naturalistic/img495.png -> /Users/jjpr/dev/brainio_contrib/mkgu_packaging/dicarlo/BashivanKar2019/images_temp/naturalistic/bc2ef0277b97cc401907f66719afffe671611f56.png\n",
            "/Users/jjpr/dev/brainio_contrib/mkgu_packaging/dicarlo/BashivanKar2019/images_temp/naturalistic/img496.png -> /Users/jjpr/dev/brainio_contrib/mkgu_packaging/dicarlo/BashivanKar2019/images_temp/naturalistic/900f78a28869660e29d2f2bbff0e4b833cbd70b1.png\n",
            "/Users/jjpr/dev/brainio_contrib/mkgu_packaging/dicarlo/BashivanKar2019/images_temp/naturalistic/img497.png -> /Users/jjpr/dev/brainio_contrib/mkgu_packaging/dicarlo/BashivanKar2019/images_temp/naturalistic/9e21147157aeb966af09e5c303702a01d03a581d.png\n",
            "/Users/jjpr/dev/brainio_contrib/mkgu_packaging/dicarlo/BashivanKar2019/images_temp/naturalistic/img498.png -> /Users/jjpr/dev/brainio_contrib/mkgu_packaging/dicarlo/BashivanKar2019/images_temp/naturalistic/94e6e66978072414d6213c372ac7f1bf0359f062.png\n",
            "/Users/jjpr/dev/brainio_contrib/mkgu_packaging/dicarlo/BashivanKar2019/images_temp/naturalistic/img499.png -> /Users/jjpr/dev/brainio_contrib/mkgu_packaging/dicarlo/BashivanKar2019/images_temp/naturalistic/07552192f2c237cb016a996c0dca3ead301f001c.png\n",
            "/Users/jjpr/dev/brainio_contrib/mkgu_packaging/dicarlo/BashivanKar2019/images_temp/naturalistic/img500.png -> /Users/jjpr/dev/brainio_contrib/mkgu_packaging/dicarlo/BashivanKar2019/images_temp/naturalistic/b8f524203f133cee49fc11fb2b0a8cc794568497.png\n",
            "/Users/jjpr/dev/brainio_contrib/mkgu_packaging/dicarlo/BashivanKar2019/images_temp/naturalistic/img501.png -> /Users/jjpr/dev/brainio_contrib/mkgu_packaging/dicarlo/BashivanKar2019/images_temp/naturalistic/924894462628991e4558d64c7d490e6078fbba5b.png\n",
            "/Users/jjpr/dev/brainio_contrib/mkgu_packaging/dicarlo/BashivanKar2019/images_temp/naturalistic/img502.png -> /Users/jjpr/dev/brainio_contrib/mkgu_packaging/dicarlo/BashivanKar2019/images_temp/naturalistic/37333a44957c0f8bbf8b13976ae881ceb71d7380.png\n",
            "/Users/jjpr/dev/brainio_contrib/mkgu_packaging/dicarlo/BashivanKar2019/images_temp/naturalistic/img503.png -> /Users/jjpr/dev/brainio_contrib/mkgu_packaging/dicarlo/BashivanKar2019/images_temp/naturalistic/415ae7efbee07c7c47032bd0e365417b0e2d30b7.png\n",
            "/Users/jjpr/dev/brainio_contrib/mkgu_packaging/dicarlo/BashivanKar2019/images_temp/naturalistic/img504.png -> /Users/jjpr/dev/brainio_contrib/mkgu_packaging/dicarlo/BashivanKar2019/images_temp/naturalistic/0761f57f4bfccf94f4fe2a681d57f8858a813e48.png\n",
            "/Users/jjpr/dev/brainio_contrib/mkgu_packaging/dicarlo/BashivanKar2019/images_temp/naturalistic/img505.png -> /Users/jjpr/dev/brainio_contrib/mkgu_packaging/dicarlo/BashivanKar2019/images_temp/naturalistic/50e1120488fa4a0a62e6ca4b38f0d5217e143ec9.png\n",
            "/Users/jjpr/dev/brainio_contrib/mkgu_packaging/dicarlo/BashivanKar2019/images_temp/naturalistic/img506.png -> /Users/jjpr/dev/brainio_contrib/mkgu_packaging/dicarlo/BashivanKar2019/images_temp/naturalistic/40582a9fe86b41b78d06e0745dcb60f06b27d808.png\n",
            "/Users/jjpr/dev/brainio_contrib/mkgu_packaging/dicarlo/BashivanKar2019/images_temp/naturalistic/img507.png -> /Users/jjpr/dev/brainio_contrib/mkgu_packaging/dicarlo/BashivanKar2019/images_temp/naturalistic/7b7a9f36d92493ff959d10db272c897607efb272.png\n",
            "/Users/jjpr/dev/brainio_contrib/mkgu_packaging/dicarlo/BashivanKar2019/images_temp/naturalistic/img508.png -> /Users/jjpr/dev/brainio_contrib/mkgu_packaging/dicarlo/BashivanKar2019/images_temp/naturalistic/c6f5d77eaa585a13f704b3647410157ce0b01d23.png\n",
            "/Users/jjpr/dev/brainio_contrib/mkgu_packaging/dicarlo/BashivanKar2019/images_temp/naturalistic/img509.png -> /Users/jjpr/dev/brainio_contrib/mkgu_packaging/dicarlo/BashivanKar2019/images_temp/naturalistic/5191ac7ea5788ed180e8d7d600c3c15344195002.png\n",
            "/Users/jjpr/dev/brainio_contrib/mkgu_packaging/dicarlo/BashivanKar2019/images_temp/naturalistic/img510.png -> /Users/jjpr/dev/brainio_contrib/mkgu_packaging/dicarlo/BashivanKar2019/images_temp/naturalistic/707686fc223a7f763cb79f87330319cdc092670e.png\n",
            "/Users/jjpr/dev/brainio_contrib/mkgu_packaging/dicarlo/BashivanKar2019/images_temp/naturalistic/img511.png -> /Users/jjpr/dev/brainio_contrib/mkgu_packaging/dicarlo/BashivanKar2019/images_temp/naturalistic/3dbe33108a0b973a908fc76545feb7db650828bd.png\n",
            "/Users/jjpr/dev/brainio_contrib/mkgu_packaging/dicarlo/BashivanKar2019/images_temp/naturalistic/img512.png -> /Users/jjpr/dev/brainio_contrib/mkgu_packaging/dicarlo/BashivanKar2019/images_temp/naturalistic/2573fad27bd59907752194a1edd2bb64a056e04a.png\n",
            "/Users/jjpr/dev/brainio_contrib/mkgu_packaging/dicarlo/BashivanKar2019/images_temp/naturalistic/img513.png -> /Users/jjpr/dev/brainio_contrib/mkgu_packaging/dicarlo/BashivanKar2019/images_temp/naturalistic/669fe38eca53437af5f67587ebab4874f1d4555a.png\n",
            "/Users/jjpr/dev/brainio_contrib/mkgu_packaging/dicarlo/BashivanKar2019/images_temp/naturalistic/img514.png -> /Users/jjpr/dev/brainio_contrib/mkgu_packaging/dicarlo/BashivanKar2019/images_temp/naturalistic/5248bfb930bee643e67094eac92977560e88fa12.png\n",
            "/Users/jjpr/dev/brainio_contrib/mkgu_packaging/dicarlo/BashivanKar2019/images_temp/naturalistic/img515.png -> /Users/jjpr/dev/brainio_contrib/mkgu_packaging/dicarlo/BashivanKar2019/images_temp/naturalistic/554bed6d934fbd1152ef2e21b4134aa4907b6a7e.png\n",
            "/Users/jjpr/dev/brainio_contrib/mkgu_packaging/dicarlo/BashivanKar2019/images_temp/naturalistic/img516.png -> /Users/jjpr/dev/brainio_contrib/mkgu_packaging/dicarlo/BashivanKar2019/images_temp/naturalistic/569b4c14c9a212ac198cba33f83a0ba1d1a3d9e1.png\n",
            "/Users/jjpr/dev/brainio_contrib/mkgu_packaging/dicarlo/BashivanKar2019/images_temp/naturalistic/img517.png -> /Users/jjpr/dev/brainio_contrib/mkgu_packaging/dicarlo/BashivanKar2019/images_temp/naturalistic/ab1bc3dae4507697ba104da862494d585b64a297.png\n",
            "/Users/jjpr/dev/brainio_contrib/mkgu_packaging/dicarlo/BashivanKar2019/images_temp/naturalistic/img518.png -> /Users/jjpr/dev/brainio_contrib/mkgu_packaging/dicarlo/BashivanKar2019/images_temp/naturalistic/5f97bbcd27825b5d2cecb08783f4382e2038381d.png\n",
            "/Users/jjpr/dev/brainio_contrib/mkgu_packaging/dicarlo/BashivanKar2019/images_temp/naturalistic/img519.png -> /Users/jjpr/dev/brainio_contrib/mkgu_packaging/dicarlo/BashivanKar2019/images_temp/naturalistic/1300389d1a8e5710b306e0c607555ed2f041e703.png\n",
            "/Users/jjpr/dev/brainio_contrib/mkgu_packaging/dicarlo/BashivanKar2019/images_temp/naturalistic/img520.png -> /Users/jjpr/dev/brainio_contrib/mkgu_packaging/dicarlo/BashivanKar2019/images_temp/naturalistic/e29b94baf379820c8a557dafad2a5dfe8ff75bd3.png\n",
            "/Users/jjpr/dev/brainio_contrib/mkgu_packaging/dicarlo/BashivanKar2019/images_temp/naturalistic/img521.png -> /Users/jjpr/dev/brainio_contrib/mkgu_packaging/dicarlo/BashivanKar2019/images_temp/naturalistic/9de7e7a9126956783cbc585846cdfec1bb9fd9f0.png\n",
            "/Users/jjpr/dev/brainio_contrib/mkgu_packaging/dicarlo/BashivanKar2019/images_temp/naturalistic/img522.png -> /Users/jjpr/dev/brainio_contrib/mkgu_packaging/dicarlo/BashivanKar2019/images_temp/naturalistic/0a5e53ded39c92bfbbd36ba23c183f7f7e0ae834.png\n",
            "/Users/jjpr/dev/brainio_contrib/mkgu_packaging/dicarlo/BashivanKar2019/images_temp/naturalistic/img523.png -> /Users/jjpr/dev/brainio_contrib/mkgu_packaging/dicarlo/BashivanKar2019/images_temp/naturalistic/c90de11a506b44b05c7afdcf0b7aa68dd6b7551f.png\n",
            "/Users/jjpr/dev/brainio_contrib/mkgu_packaging/dicarlo/BashivanKar2019/images_temp/naturalistic/img524.png -> /Users/jjpr/dev/brainio_contrib/mkgu_packaging/dicarlo/BashivanKar2019/images_temp/naturalistic/4c29c2690be50b08bdd9d23db7fae74dec7d4aa3.png\n",
            "/Users/jjpr/dev/brainio_contrib/mkgu_packaging/dicarlo/BashivanKar2019/images_temp/naturalistic/img525.png -> /Users/jjpr/dev/brainio_contrib/mkgu_packaging/dicarlo/BashivanKar2019/images_temp/naturalistic/15b81351633c4c0781fa607d10584fdaca72f0a4.png\n",
            "/Users/jjpr/dev/brainio_contrib/mkgu_packaging/dicarlo/BashivanKar2019/images_temp/naturalistic/img526.png -> /Users/jjpr/dev/brainio_contrib/mkgu_packaging/dicarlo/BashivanKar2019/images_temp/naturalistic/cb7138ccfdd9f3024e1249b5d5fddf7cae89f3f2.png\n",
            "/Users/jjpr/dev/brainio_contrib/mkgu_packaging/dicarlo/BashivanKar2019/images_temp/naturalistic/img527.png -> /Users/jjpr/dev/brainio_contrib/mkgu_packaging/dicarlo/BashivanKar2019/images_temp/naturalistic/f5b217b5417bd255928daa9479095e6f8bcc0e10.png\n",
            "/Users/jjpr/dev/brainio_contrib/mkgu_packaging/dicarlo/BashivanKar2019/images_temp/naturalistic/img528.png -> /Users/jjpr/dev/brainio_contrib/mkgu_packaging/dicarlo/BashivanKar2019/images_temp/naturalistic/e5d2ce1f4cb21937c8acdcf10df6192ef57123eb.png\n",
            "/Users/jjpr/dev/brainio_contrib/mkgu_packaging/dicarlo/BashivanKar2019/images_temp/naturalistic/img529.png -> /Users/jjpr/dev/brainio_contrib/mkgu_packaging/dicarlo/BashivanKar2019/images_temp/naturalistic/17656c524a80fd8edbcd8c032f5a002f59a558cb.png\n",
            "/Users/jjpr/dev/brainio_contrib/mkgu_packaging/dicarlo/BashivanKar2019/images_temp/naturalistic/img530.png -> /Users/jjpr/dev/brainio_contrib/mkgu_packaging/dicarlo/BashivanKar2019/images_temp/naturalistic/523490901e6e786f6add0c0e1fd3665305a5b548.png\n",
            "/Users/jjpr/dev/brainio_contrib/mkgu_packaging/dicarlo/BashivanKar2019/images_temp/naturalistic/img531.png -> /Users/jjpr/dev/brainio_contrib/mkgu_packaging/dicarlo/BashivanKar2019/images_temp/naturalistic/da9f814d7ffa34b46ecb9a8102cc20eaa59a1a25.png\n",
            "/Users/jjpr/dev/brainio_contrib/mkgu_packaging/dicarlo/BashivanKar2019/images_temp/naturalistic/img532.png -> /Users/jjpr/dev/brainio_contrib/mkgu_packaging/dicarlo/BashivanKar2019/images_temp/naturalistic/71482a020e66214395eb783a1e35e106ab3603d5.png\n",
            "/Users/jjpr/dev/brainio_contrib/mkgu_packaging/dicarlo/BashivanKar2019/images_temp/naturalistic/img533.png -> /Users/jjpr/dev/brainio_contrib/mkgu_packaging/dicarlo/BashivanKar2019/images_temp/naturalistic/32bfe4464ec59e230290928e6cd04e2d2b67327b.png\n",
            "/Users/jjpr/dev/brainio_contrib/mkgu_packaging/dicarlo/BashivanKar2019/images_temp/naturalistic/img534.png -> /Users/jjpr/dev/brainio_contrib/mkgu_packaging/dicarlo/BashivanKar2019/images_temp/naturalistic/372be62af0249841e2bc0c08f20b035ee7e1266f.png\n",
            "/Users/jjpr/dev/brainio_contrib/mkgu_packaging/dicarlo/BashivanKar2019/images_temp/naturalistic/img535.png -> /Users/jjpr/dev/brainio_contrib/mkgu_packaging/dicarlo/BashivanKar2019/images_temp/naturalistic/10b740b190786490ccc7e0767d678d356fa151ac.png\n",
            "/Users/jjpr/dev/brainio_contrib/mkgu_packaging/dicarlo/BashivanKar2019/images_temp/naturalistic/img536.png -> /Users/jjpr/dev/brainio_contrib/mkgu_packaging/dicarlo/BashivanKar2019/images_temp/naturalistic/3eb6d7b7053ad5a0a76d29e986a6082613498ded.png\n",
            "/Users/jjpr/dev/brainio_contrib/mkgu_packaging/dicarlo/BashivanKar2019/images_temp/naturalistic/img537.png -> /Users/jjpr/dev/brainio_contrib/mkgu_packaging/dicarlo/BashivanKar2019/images_temp/naturalistic/105bcc04a0393b1eb785add7b60acd26abd99ff3.png\n",
            "/Users/jjpr/dev/brainio_contrib/mkgu_packaging/dicarlo/BashivanKar2019/images_temp/naturalistic/img538.png -> /Users/jjpr/dev/brainio_contrib/mkgu_packaging/dicarlo/BashivanKar2019/images_temp/naturalistic/d18f1f6580c5a4599b44378ef339fd8313b49269.png\n",
            "/Users/jjpr/dev/brainio_contrib/mkgu_packaging/dicarlo/BashivanKar2019/images_temp/naturalistic/img539.png -> /Users/jjpr/dev/brainio_contrib/mkgu_packaging/dicarlo/BashivanKar2019/images_temp/naturalistic/9063b0fbe714de0e4621719afe04a2bd68ff80f3.png\n",
            "/Users/jjpr/dev/brainio_contrib/mkgu_packaging/dicarlo/BashivanKar2019/images_temp/naturalistic/img540.png -> /Users/jjpr/dev/brainio_contrib/mkgu_packaging/dicarlo/BashivanKar2019/images_temp/naturalistic/c01c00c828f8a10b127ee7173ec6e88b581c462b.png\n",
            "/Users/jjpr/dev/brainio_contrib/mkgu_packaging/dicarlo/BashivanKar2019/images_temp/naturalistic/img541.png -> /Users/jjpr/dev/brainio_contrib/mkgu_packaging/dicarlo/BashivanKar2019/images_temp/naturalistic/03791462f9827548dc1826837846ec24d0002281.png\n",
            "/Users/jjpr/dev/brainio_contrib/mkgu_packaging/dicarlo/BashivanKar2019/images_temp/naturalistic/img542.png -> /Users/jjpr/dev/brainio_contrib/mkgu_packaging/dicarlo/BashivanKar2019/images_temp/naturalistic/f2577ca1b8b26c7939321ff593ab5dba66538e03.png\n",
            "/Users/jjpr/dev/brainio_contrib/mkgu_packaging/dicarlo/BashivanKar2019/images_temp/naturalistic/img543.png -> /Users/jjpr/dev/brainio_contrib/mkgu_packaging/dicarlo/BashivanKar2019/images_temp/naturalistic/5282f17f240c9d462f28324c012a41a6dc757e2b.png\n",
            "/Users/jjpr/dev/brainio_contrib/mkgu_packaging/dicarlo/BashivanKar2019/images_temp/naturalistic/img544.png -> /Users/jjpr/dev/brainio_contrib/mkgu_packaging/dicarlo/BashivanKar2019/images_temp/naturalistic/97838fad472a2a636f494c6be49f370b98a2d773.png\n",
            "/Users/jjpr/dev/brainio_contrib/mkgu_packaging/dicarlo/BashivanKar2019/images_temp/naturalistic/img545.png -> /Users/jjpr/dev/brainio_contrib/mkgu_packaging/dicarlo/BashivanKar2019/images_temp/naturalistic/43d58a0954b3308a41fad477b9adc243010ad954.png\n",
            "/Users/jjpr/dev/brainio_contrib/mkgu_packaging/dicarlo/BashivanKar2019/images_temp/naturalistic/img546.png -> /Users/jjpr/dev/brainio_contrib/mkgu_packaging/dicarlo/BashivanKar2019/images_temp/naturalistic/c4f7048b3128f586ec3af8c9a5920b92ae4dd21a.png\n",
            "/Users/jjpr/dev/brainio_contrib/mkgu_packaging/dicarlo/BashivanKar2019/images_temp/naturalistic/img547.png -> /Users/jjpr/dev/brainio_contrib/mkgu_packaging/dicarlo/BashivanKar2019/images_temp/naturalistic/e8cdfabb2fabbf27cf646602f956f0c7036b12e7.png\n",
            "/Users/jjpr/dev/brainio_contrib/mkgu_packaging/dicarlo/BashivanKar2019/images_temp/naturalistic/img548.png -> /Users/jjpr/dev/brainio_contrib/mkgu_packaging/dicarlo/BashivanKar2019/images_temp/naturalistic/5c97171fd151366483e8d95a9ad34204486d0046.png\n",
            "/Users/jjpr/dev/brainio_contrib/mkgu_packaging/dicarlo/BashivanKar2019/images_temp/naturalistic/img549.png -> /Users/jjpr/dev/brainio_contrib/mkgu_packaging/dicarlo/BashivanKar2019/images_temp/naturalistic/24c453ea27a0b25c3258c3696e914551d2a9cd48.png\n",
            "/Users/jjpr/dev/brainio_contrib/mkgu_packaging/dicarlo/BashivanKar2019/images_temp/naturalistic/img550.png -> /Users/jjpr/dev/brainio_contrib/mkgu_packaging/dicarlo/BashivanKar2019/images_temp/naturalistic/7783690430ef5514c93b0bf2e74caa499082c82f.png\n",
            "/Users/jjpr/dev/brainio_contrib/mkgu_packaging/dicarlo/BashivanKar2019/images_temp/naturalistic/img551.png -> /Users/jjpr/dev/brainio_contrib/mkgu_packaging/dicarlo/BashivanKar2019/images_temp/naturalistic/d1a52ff585f18a3f5b3c523061070f2fa8afed01.png\n",
            "/Users/jjpr/dev/brainio_contrib/mkgu_packaging/dicarlo/BashivanKar2019/images_temp/naturalistic/img552.png -> /Users/jjpr/dev/brainio_contrib/mkgu_packaging/dicarlo/BashivanKar2019/images_temp/naturalistic/5f6769de775604f83504b1fe0f939845f4550e57.png\n",
            "/Users/jjpr/dev/brainio_contrib/mkgu_packaging/dicarlo/BashivanKar2019/images_temp/naturalistic/img553.png -> /Users/jjpr/dev/brainio_contrib/mkgu_packaging/dicarlo/BashivanKar2019/images_temp/naturalistic/35492081499eda8a62eca1b78fe059608cff90a2.png\n",
            "/Users/jjpr/dev/brainio_contrib/mkgu_packaging/dicarlo/BashivanKar2019/images_temp/naturalistic/img554.png -> /Users/jjpr/dev/brainio_contrib/mkgu_packaging/dicarlo/BashivanKar2019/images_temp/naturalistic/d372e0763c8e480a9d4309dd581da44793d4f6b1.png\n",
            "/Users/jjpr/dev/brainio_contrib/mkgu_packaging/dicarlo/BashivanKar2019/images_temp/naturalistic/img555.png -> /Users/jjpr/dev/brainio_contrib/mkgu_packaging/dicarlo/BashivanKar2019/images_temp/naturalistic/fede90c3a2091fc03f17d1f7ed96396e5896e5af.png\n",
            "/Users/jjpr/dev/brainio_contrib/mkgu_packaging/dicarlo/BashivanKar2019/images_temp/naturalistic/img556.png -> /Users/jjpr/dev/brainio_contrib/mkgu_packaging/dicarlo/BashivanKar2019/images_temp/naturalistic/bd1d7db6488afa6cb8b377fc72530543cdc46f9f.png\n",
            "/Users/jjpr/dev/brainio_contrib/mkgu_packaging/dicarlo/BashivanKar2019/images_temp/naturalistic/img557.png -> /Users/jjpr/dev/brainio_contrib/mkgu_packaging/dicarlo/BashivanKar2019/images_temp/naturalistic/f6ceaba0978db9d9aabcfae0e1bb5f82a1fcfdb8.png\n",
            "/Users/jjpr/dev/brainio_contrib/mkgu_packaging/dicarlo/BashivanKar2019/images_temp/naturalistic/img558.png -> /Users/jjpr/dev/brainio_contrib/mkgu_packaging/dicarlo/BashivanKar2019/images_temp/naturalistic/ab4beb6e08dc4f31113f3ca6a77832edd2413953.png\n",
            "/Users/jjpr/dev/brainio_contrib/mkgu_packaging/dicarlo/BashivanKar2019/images_temp/naturalistic/img559.png -> /Users/jjpr/dev/brainio_contrib/mkgu_packaging/dicarlo/BashivanKar2019/images_temp/naturalistic/a7171bdad7fe100d1bf86a300d3acdc0fac2f451.png\n",
            "/Users/jjpr/dev/brainio_contrib/mkgu_packaging/dicarlo/BashivanKar2019/images_temp/naturalistic/img560.png -> /Users/jjpr/dev/brainio_contrib/mkgu_packaging/dicarlo/BashivanKar2019/images_temp/naturalistic/145558d77e2f8b9716370634bd7e9c463475d813.png\n",
            "/Users/jjpr/dev/brainio_contrib/mkgu_packaging/dicarlo/BashivanKar2019/images_temp/naturalistic/img561.png -> /Users/jjpr/dev/brainio_contrib/mkgu_packaging/dicarlo/BashivanKar2019/images_temp/naturalistic/5a76b801971869fa86ccca6f5130ae0e33b97587.png\n",
            "/Users/jjpr/dev/brainio_contrib/mkgu_packaging/dicarlo/BashivanKar2019/images_temp/naturalistic/img562.png -> /Users/jjpr/dev/brainio_contrib/mkgu_packaging/dicarlo/BashivanKar2019/images_temp/naturalistic/5d569b0b5914cc0f6e5b83df4609e4fb60004e8a.png\n",
            "/Users/jjpr/dev/brainio_contrib/mkgu_packaging/dicarlo/BashivanKar2019/images_temp/naturalistic/img563.png -> /Users/jjpr/dev/brainio_contrib/mkgu_packaging/dicarlo/BashivanKar2019/images_temp/naturalistic/ca1af347c841a59ee5debd23413670872bb9d507.png\n",
            "/Users/jjpr/dev/brainio_contrib/mkgu_packaging/dicarlo/BashivanKar2019/images_temp/naturalistic/img564.png -> /Users/jjpr/dev/brainio_contrib/mkgu_packaging/dicarlo/BashivanKar2019/images_temp/naturalistic/8ac8466e0bd33d60a376f8e566895dd66f0583e7.png\n",
            "/Users/jjpr/dev/brainio_contrib/mkgu_packaging/dicarlo/BashivanKar2019/images_temp/naturalistic/img565.png -> /Users/jjpr/dev/brainio_contrib/mkgu_packaging/dicarlo/BashivanKar2019/images_temp/naturalistic/7c25726c52bd573470d83bb98d19112997059ed3.png\n",
            "/Users/jjpr/dev/brainio_contrib/mkgu_packaging/dicarlo/BashivanKar2019/images_temp/naturalistic/img566.png -> /Users/jjpr/dev/brainio_contrib/mkgu_packaging/dicarlo/BashivanKar2019/images_temp/naturalistic/19dcd2d555760e1b599e10f16ad5384c6421a24a.png\n",
            "/Users/jjpr/dev/brainio_contrib/mkgu_packaging/dicarlo/BashivanKar2019/images_temp/naturalistic/img567.png -> /Users/jjpr/dev/brainio_contrib/mkgu_packaging/dicarlo/BashivanKar2019/images_temp/naturalistic/24ef0eaf17cbd39cbf5c09fc7481f5ab8a41af1f.png\n",
            "/Users/jjpr/dev/brainio_contrib/mkgu_packaging/dicarlo/BashivanKar2019/images_temp/naturalistic/img568.png -> /Users/jjpr/dev/brainio_contrib/mkgu_packaging/dicarlo/BashivanKar2019/images_temp/naturalistic/34fef796c7c3f03bf8483c1a811f218f676208c5.png\n",
            "/Users/jjpr/dev/brainio_contrib/mkgu_packaging/dicarlo/BashivanKar2019/images_temp/naturalistic/img569.png -> /Users/jjpr/dev/brainio_contrib/mkgu_packaging/dicarlo/BashivanKar2019/images_temp/naturalistic/c009919294e216f3cf2d2e9f55abf81aee6267fd.png\n",
            "/Users/jjpr/dev/brainio_contrib/mkgu_packaging/dicarlo/BashivanKar2019/images_temp/naturalistic/img570.png -> /Users/jjpr/dev/brainio_contrib/mkgu_packaging/dicarlo/BashivanKar2019/images_temp/naturalistic/75bbf9b13de5257994540dc389fd312d5666c9a0.png\n",
            "/Users/jjpr/dev/brainio_contrib/mkgu_packaging/dicarlo/BashivanKar2019/images_temp/naturalistic/img571.png -> /Users/jjpr/dev/brainio_contrib/mkgu_packaging/dicarlo/BashivanKar2019/images_temp/naturalistic/78cb936d7a41ade967a10c281442fb164af49977.png\n",
            "/Users/jjpr/dev/brainio_contrib/mkgu_packaging/dicarlo/BashivanKar2019/images_temp/naturalistic/img572.png -> /Users/jjpr/dev/brainio_contrib/mkgu_packaging/dicarlo/BashivanKar2019/images_temp/naturalistic/31e203a09019016d8015955916fe888b1339d3fa.png\n",
            "/Users/jjpr/dev/brainio_contrib/mkgu_packaging/dicarlo/BashivanKar2019/images_temp/naturalistic/img573.png -> /Users/jjpr/dev/brainio_contrib/mkgu_packaging/dicarlo/BashivanKar2019/images_temp/naturalistic/1ef8a49bf3d2c0cb51b3c6246927fe9a8f1582c6.png\n",
            "/Users/jjpr/dev/brainio_contrib/mkgu_packaging/dicarlo/BashivanKar2019/images_temp/naturalistic/img574.png -> /Users/jjpr/dev/brainio_contrib/mkgu_packaging/dicarlo/BashivanKar2019/images_temp/naturalistic/5bb2fb7dcb1d71eb2f34afe4db0840dfaa783d5f.png\n",
            "/Users/jjpr/dev/brainio_contrib/mkgu_packaging/dicarlo/BashivanKar2019/images_temp/naturalistic/img575.png -> /Users/jjpr/dev/brainio_contrib/mkgu_packaging/dicarlo/BashivanKar2019/images_temp/naturalistic/8a3448d32786cd923edcc8a394052b85305e1f78.png\n",
            "/Users/jjpr/dev/brainio_contrib/mkgu_packaging/dicarlo/BashivanKar2019/images_temp/naturalistic/img576.png -> /Users/jjpr/dev/brainio_contrib/mkgu_packaging/dicarlo/BashivanKar2019/images_temp/naturalistic/41ae2f6b467c2cc8c8c57ebf2044dce167e568d3.png\n",
            "/Users/jjpr/dev/brainio_contrib/mkgu_packaging/dicarlo/BashivanKar2019/images_temp/naturalistic/img577.png -> /Users/jjpr/dev/brainio_contrib/mkgu_packaging/dicarlo/BashivanKar2019/images_temp/naturalistic/99d33f5a865e149e2b59760a55e0180cac48b729.png\n",
            "/Users/jjpr/dev/brainio_contrib/mkgu_packaging/dicarlo/BashivanKar2019/images_temp/naturalistic/img578.png -> /Users/jjpr/dev/brainio_contrib/mkgu_packaging/dicarlo/BashivanKar2019/images_temp/naturalistic/61a92c5280aa59ebcee329a62e240370f01cccc8.png\n",
            "/Users/jjpr/dev/brainio_contrib/mkgu_packaging/dicarlo/BashivanKar2019/images_temp/naturalistic/img579.png -> /Users/jjpr/dev/brainio_contrib/mkgu_packaging/dicarlo/BashivanKar2019/images_temp/naturalistic/9dacc9fd75f0e0b57b7f073ab56f9c9277a5109b.png\n",
            "/Users/jjpr/dev/brainio_contrib/mkgu_packaging/dicarlo/BashivanKar2019/images_temp/naturalistic/img580.png -> /Users/jjpr/dev/brainio_contrib/mkgu_packaging/dicarlo/BashivanKar2019/images_temp/naturalistic/29b5823b16ce8a9f8e3c72f1383205ae17e8f137.png\n",
            "/Users/jjpr/dev/brainio_contrib/mkgu_packaging/dicarlo/BashivanKar2019/images_temp/naturalistic/img581.png -> /Users/jjpr/dev/brainio_contrib/mkgu_packaging/dicarlo/BashivanKar2019/images_temp/naturalistic/8e0390d58960185df1373d496ff26602e12f70e2.png\n",
            "/Users/jjpr/dev/brainio_contrib/mkgu_packaging/dicarlo/BashivanKar2019/images_temp/naturalistic/img582.png -> /Users/jjpr/dev/brainio_contrib/mkgu_packaging/dicarlo/BashivanKar2019/images_temp/naturalistic/614e4383800046de4e2605365aaa0a8b07c56ef4.png\n",
            "/Users/jjpr/dev/brainio_contrib/mkgu_packaging/dicarlo/BashivanKar2019/images_temp/naturalistic/img583.png -> /Users/jjpr/dev/brainio_contrib/mkgu_packaging/dicarlo/BashivanKar2019/images_temp/naturalistic/b1c44faab134d066c7f041f0a989a5710cb2adfa.png\n",
            "/Users/jjpr/dev/brainio_contrib/mkgu_packaging/dicarlo/BashivanKar2019/images_temp/naturalistic/img584.png -> /Users/jjpr/dev/brainio_contrib/mkgu_packaging/dicarlo/BashivanKar2019/images_temp/naturalistic/121ac86210865e430efe3df6a127cc27a8521a0f.png\n",
            "/Users/jjpr/dev/brainio_contrib/mkgu_packaging/dicarlo/BashivanKar2019/images_temp/naturalistic/img585.png -> /Users/jjpr/dev/brainio_contrib/mkgu_packaging/dicarlo/BashivanKar2019/images_temp/naturalistic/c4fa0a5a926e74161ca704494ce4b79555dbcb3a.png\n",
            "/Users/jjpr/dev/brainio_contrib/mkgu_packaging/dicarlo/BashivanKar2019/images_temp/naturalistic/img586.png -> /Users/jjpr/dev/brainio_contrib/mkgu_packaging/dicarlo/BashivanKar2019/images_temp/naturalistic/70f24ad4ae72b2797abccd5da3b6336bbb142047.png\n",
            "/Users/jjpr/dev/brainio_contrib/mkgu_packaging/dicarlo/BashivanKar2019/images_temp/naturalistic/img587.png -> /Users/jjpr/dev/brainio_contrib/mkgu_packaging/dicarlo/BashivanKar2019/images_temp/naturalistic/64eeacff8e40c77d5f0cc5b5dfd73665221efd37.png\n",
            "/Users/jjpr/dev/brainio_contrib/mkgu_packaging/dicarlo/BashivanKar2019/images_temp/naturalistic/img588.png -> /Users/jjpr/dev/brainio_contrib/mkgu_packaging/dicarlo/BashivanKar2019/images_temp/naturalistic/d878384a8137ad4bf9407fb286a70faf7c7d350e.png\n",
            "/Users/jjpr/dev/brainio_contrib/mkgu_packaging/dicarlo/BashivanKar2019/images_temp/naturalistic/img589.png -> /Users/jjpr/dev/brainio_contrib/mkgu_packaging/dicarlo/BashivanKar2019/images_temp/naturalistic/84ce8e9e59cbdb5e4f214112d9cc68858a413dc9.png\n",
            "/Users/jjpr/dev/brainio_contrib/mkgu_packaging/dicarlo/BashivanKar2019/images_temp/naturalistic/img590.png -> /Users/jjpr/dev/brainio_contrib/mkgu_packaging/dicarlo/BashivanKar2019/images_temp/naturalistic/c9ec93b701e85677ee86e3aee7b31790b12cc470.png\n",
            "/Users/jjpr/dev/brainio_contrib/mkgu_packaging/dicarlo/BashivanKar2019/images_temp/naturalistic/img591.png -> /Users/jjpr/dev/brainio_contrib/mkgu_packaging/dicarlo/BashivanKar2019/images_temp/naturalistic/c874495e056cfeec0197dd4db44d02dcf59e7fe7.png\n",
            "/Users/jjpr/dev/brainio_contrib/mkgu_packaging/dicarlo/BashivanKar2019/images_temp/naturalistic/img592.png -> /Users/jjpr/dev/brainio_contrib/mkgu_packaging/dicarlo/BashivanKar2019/images_temp/naturalistic/cf8e2ca62a3c8f0913a9f97543db3b2596e752f5.png\n",
            "/Users/jjpr/dev/brainio_contrib/mkgu_packaging/dicarlo/BashivanKar2019/images_temp/naturalistic/img593.png -> /Users/jjpr/dev/brainio_contrib/mkgu_packaging/dicarlo/BashivanKar2019/images_temp/naturalistic/f3979b5518708c70fe079c39833584fd13e1ec96.png\n",
            "/Users/jjpr/dev/brainio_contrib/mkgu_packaging/dicarlo/BashivanKar2019/images_temp/naturalistic/img594.png -> /Users/jjpr/dev/brainio_contrib/mkgu_packaging/dicarlo/BashivanKar2019/images_temp/naturalistic/32944884eb0ffc4a2dcd262b251bde6e9eb0cdee.png\n",
            "/Users/jjpr/dev/brainio_contrib/mkgu_packaging/dicarlo/BashivanKar2019/images_temp/naturalistic/img595.png -> /Users/jjpr/dev/brainio_contrib/mkgu_packaging/dicarlo/BashivanKar2019/images_temp/naturalistic/f967aab30928a1b32a9f6a2317fa40f8779a9b6d.png\n",
            "/Users/jjpr/dev/brainio_contrib/mkgu_packaging/dicarlo/BashivanKar2019/images_temp/naturalistic/img596.png -> /Users/jjpr/dev/brainio_contrib/mkgu_packaging/dicarlo/BashivanKar2019/images_temp/naturalistic/a32688b7b96a7185d5e83a49a48d9bec4a5727c2.png\n",
            "/Users/jjpr/dev/brainio_contrib/mkgu_packaging/dicarlo/BashivanKar2019/images_temp/naturalistic/img597.png -> /Users/jjpr/dev/brainio_contrib/mkgu_packaging/dicarlo/BashivanKar2019/images_temp/naturalistic/450e706b5c67facee3d472929785691969228b8f.png\n",
            "/Users/jjpr/dev/brainio_contrib/mkgu_packaging/dicarlo/BashivanKar2019/images_temp/naturalistic/img598.png -> /Users/jjpr/dev/brainio_contrib/mkgu_packaging/dicarlo/BashivanKar2019/images_temp/naturalistic/c2d1c206e0f0250d5c79ee38ef3a2bd94ce37c48.png\n",
            "/Users/jjpr/dev/brainio_contrib/mkgu_packaging/dicarlo/BashivanKar2019/images_temp/naturalistic/img599.png -> /Users/jjpr/dev/brainio_contrib/mkgu_packaging/dicarlo/BashivanKar2019/images_temp/naturalistic/27151e9481de7a831af387c13bb7b11560ab0d52.png\n",
            "/Users/jjpr/dev/brainio_contrib/mkgu_packaging/dicarlo/BashivanKar2019/images_temp/naturalistic/img600.png -> /Users/jjpr/dev/brainio_contrib/mkgu_packaging/dicarlo/BashivanKar2019/images_temp/naturalistic/dc5e2f5bc9b15d6213bfb6620ee1fd4bf092e703.png\n",
            "/Users/jjpr/dev/brainio_contrib/mkgu_packaging/dicarlo/BashivanKar2019/images_temp/naturalistic/img601.png -> /Users/jjpr/dev/brainio_contrib/mkgu_packaging/dicarlo/BashivanKar2019/images_temp/naturalistic/06b16cbbe6a7941ed7c65b32f3814709e3b4b636.png\n",
            "/Users/jjpr/dev/brainio_contrib/mkgu_packaging/dicarlo/BashivanKar2019/images_temp/naturalistic/img602.png -> /Users/jjpr/dev/brainio_contrib/mkgu_packaging/dicarlo/BashivanKar2019/images_temp/naturalistic/ad6b040ca392090bed96de9308d454949da97d7c.png\n",
            "/Users/jjpr/dev/brainio_contrib/mkgu_packaging/dicarlo/BashivanKar2019/images_temp/naturalistic/img603.png -> /Users/jjpr/dev/brainio_contrib/mkgu_packaging/dicarlo/BashivanKar2019/images_temp/naturalistic/4f98ca1b26627b42b56840e52f33d08a760fb3a4.png\n",
            "/Users/jjpr/dev/brainio_contrib/mkgu_packaging/dicarlo/BashivanKar2019/images_temp/naturalistic/img604.png -> /Users/jjpr/dev/brainio_contrib/mkgu_packaging/dicarlo/BashivanKar2019/images_temp/naturalistic/132ea7b52c9ac44cdbd57cb4a08611acaa234616.png\n",
            "/Users/jjpr/dev/brainio_contrib/mkgu_packaging/dicarlo/BashivanKar2019/images_temp/naturalistic/img605.png -> /Users/jjpr/dev/brainio_contrib/mkgu_packaging/dicarlo/BashivanKar2019/images_temp/naturalistic/914c3bc025207a10537c0b9e3994c57440d9cf66.png\n",
            "/Users/jjpr/dev/brainio_contrib/mkgu_packaging/dicarlo/BashivanKar2019/images_temp/naturalistic/img606.png -> /Users/jjpr/dev/brainio_contrib/mkgu_packaging/dicarlo/BashivanKar2019/images_temp/naturalistic/337782e23c96528dfe6fc19a919b8221bcd1dfee.png\n",
            "/Users/jjpr/dev/brainio_contrib/mkgu_packaging/dicarlo/BashivanKar2019/images_temp/naturalistic/img607.png -> /Users/jjpr/dev/brainio_contrib/mkgu_packaging/dicarlo/BashivanKar2019/images_temp/naturalistic/8a278428d182474848ac561041e11b552e7d62d3.png\n",
            "/Users/jjpr/dev/brainio_contrib/mkgu_packaging/dicarlo/BashivanKar2019/images_temp/naturalistic/img608.png -> /Users/jjpr/dev/brainio_contrib/mkgu_packaging/dicarlo/BashivanKar2019/images_temp/naturalistic/e113080b1617755e17306a1071083466e8cca72c.png\n",
            "/Users/jjpr/dev/brainio_contrib/mkgu_packaging/dicarlo/BashivanKar2019/images_temp/naturalistic/img609.png -> /Users/jjpr/dev/brainio_contrib/mkgu_packaging/dicarlo/BashivanKar2019/images_temp/naturalistic/72abc42d449d6b9a73c57acf05538934a1349a60.png\n",
            "/Users/jjpr/dev/brainio_contrib/mkgu_packaging/dicarlo/BashivanKar2019/images_temp/naturalistic/img610.png -> /Users/jjpr/dev/brainio_contrib/mkgu_packaging/dicarlo/BashivanKar2019/images_temp/naturalistic/85c9f8ad1621dd7905e88b54603e1fb00f739ebf.png\n",
            "/Users/jjpr/dev/brainio_contrib/mkgu_packaging/dicarlo/BashivanKar2019/images_temp/naturalistic/img611.png -> /Users/jjpr/dev/brainio_contrib/mkgu_packaging/dicarlo/BashivanKar2019/images_temp/naturalistic/739779fabaa41d12a166f68a70a8a27edf0e4f16.png\n",
            "/Users/jjpr/dev/brainio_contrib/mkgu_packaging/dicarlo/BashivanKar2019/images_temp/naturalistic/img612.png -> /Users/jjpr/dev/brainio_contrib/mkgu_packaging/dicarlo/BashivanKar2019/images_temp/naturalistic/6c980467236d2bf2f4e380108ba47bc6e00e9360.png\n",
            "/Users/jjpr/dev/brainio_contrib/mkgu_packaging/dicarlo/BashivanKar2019/images_temp/naturalistic/img613.png -> /Users/jjpr/dev/brainio_contrib/mkgu_packaging/dicarlo/BashivanKar2019/images_temp/naturalistic/5149d903e4b4142d12833bb5466c4bc85de50174.png\n",
            "/Users/jjpr/dev/brainio_contrib/mkgu_packaging/dicarlo/BashivanKar2019/images_temp/naturalistic/img614.png -> /Users/jjpr/dev/brainio_contrib/mkgu_packaging/dicarlo/BashivanKar2019/images_temp/naturalistic/c18b8b4300948a5ee1c449abdee19e61fd5a7f8a.png\n",
            "/Users/jjpr/dev/brainio_contrib/mkgu_packaging/dicarlo/BashivanKar2019/images_temp/naturalistic/img615.png -> /Users/jjpr/dev/brainio_contrib/mkgu_packaging/dicarlo/BashivanKar2019/images_temp/naturalistic/a61cc59842ffef89c5a5d2ce39facd6ba2110aa9.png\n",
            "/Users/jjpr/dev/brainio_contrib/mkgu_packaging/dicarlo/BashivanKar2019/images_temp/naturalistic/img616.png -> /Users/jjpr/dev/brainio_contrib/mkgu_packaging/dicarlo/BashivanKar2019/images_temp/naturalistic/e16942eabd140933c7830d4d75f9c5c3ff7e0216.png\n",
            "/Users/jjpr/dev/brainio_contrib/mkgu_packaging/dicarlo/BashivanKar2019/images_temp/naturalistic/img617.png -> /Users/jjpr/dev/brainio_contrib/mkgu_packaging/dicarlo/BashivanKar2019/images_temp/naturalistic/75b6813975dd62be8e93c4ac60a99207657a34d1.png\n",
            "/Users/jjpr/dev/brainio_contrib/mkgu_packaging/dicarlo/BashivanKar2019/images_temp/naturalistic/img618.png -> /Users/jjpr/dev/brainio_contrib/mkgu_packaging/dicarlo/BashivanKar2019/images_temp/naturalistic/9f27b58c8db24a288233814502292c43deb6155b.png\n",
            "/Users/jjpr/dev/brainio_contrib/mkgu_packaging/dicarlo/BashivanKar2019/images_temp/naturalistic/img619.png -> /Users/jjpr/dev/brainio_contrib/mkgu_packaging/dicarlo/BashivanKar2019/images_temp/naturalistic/cf6fee84026c262bd3dad74f6a160915c16cc12d.png\n",
            "/Users/jjpr/dev/brainio_contrib/mkgu_packaging/dicarlo/BashivanKar2019/images_temp/naturalistic/img620.png -> /Users/jjpr/dev/brainio_contrib/mkgu_packaging/dicarlo/BashivanKar2019/images_temp/naturalistic/a4f036a67072f89d060b44cccafcf42a2041fd15.png\n",
            "/Users/jjpr/dev/brainio_contrib/mkgu_packaging/dicarlo/BashivanKar2019/images_temp/naturalistic/img621.png -> /Users/jjpr/dev/brainio_contrib/mkgu_packaging/dicarlo/BashivanKar2019/images_temp/naturalistic/9ac1add9586a26209dbfd6e43c8ba2efae287a04.png\n",
            "/Users/jjpr/dev/brainio_contrib/mkgu_packaging/dicarlo/BashivanKar2019/images_temp/naturalistic/img622.png -> /Users/jjpr/dev/brainio_contrib/mkgu_packaging/dicarlo/BashivanKar2019/images_temp/naturalistic/4d62fdadf9f7552198fec83a0527b08dc1252fc2.png\n",
            "/Users/jjpr/dev/brainio_contrib/mkgu_packaging/dicarlo/BashivanKar2019/images_temp/naturalistic/img623.png -> /Users/jjpr/dev/brainio_contrib/mkgu_packaging/dicarlo/BashivanKar2019/images_temp/naturalistic/fbffa96ce2d2ff49b94268159ca3e3ffcac7ccf5.png\n",
            "/Users/jjpr/dev/brainio_contrib/mkgu_packaging/dicarlo/BashivanKar2019/images_temp/naturalistic/img624.png -> /Users/jjpr/dev/brainio_contrib/mkgu_packaging/dicarlo/BashivanKar2019/images_temp/naturalistic/0cbde11889f0f8d13cac0fe87c4307a9ab4350f0.png\n",
            "/Users/jjpr/dev/brainio_contrib/mkgu_packaging/dicarlo/BashivanKar2019/images_temp/naturalistic/img625.png -> /Users/jjpr/dev/brainio_contrib/mkgu_packaging/dicarlo/BashivanKar2019/images_temp/naturalistic/557e6d7364f46f45359c02d074bb38bf3f0a61b2.png\n",
            "/Users/jjpr/dev/brainio_contrib/mkgu_packaging/dicarlo/BashivanKar2019/images_temp/naturalistic/img626.png -> /Users/jjpr/dev/brainio_contrib/mkgu_packaging/dicarlo/BashivanKar2019/images_temp/naturalistic/e13d07c4c19922198007d4cbe9a9ac2c2a6ff86a.png\n",
            "/Users/jjpr/dev/brainio_contrib/mkgu_packaging/dicarlo/BashivanKar2019/images_temp/naturalistic/img627.png -> /Users/jjpr/dev/brainio_contrib/mkgu_packaging/dicarlo/BashivanKar2019/images_temp/naturalistic/a0612bbf2fe3114720bf290aa262e24640400d34.png\n",
            "/Users/jjpr/dev/brainio_contrib/mkgu_packaging/dicarlo/BashivanKar2019/images_temp/naturalistic/img628.png -> /Users/jjpr/dev/brainio_contrib/mkgu_packaging/dicarlo/BashivanKar2019/images_temp/naturalistic/0a5a0ab82497fbd859e9f4f0713b4751ba9540b2.png\n",
            "/Users/jjpr/dev/brainio_contrib/mkgu_packaging/dicarlo/BashivanKar2019/images_temp/naturalistic/img629.png -> /Users/jjpr/dev/brainio_contrib/mkgu_packaging/dicarlo/BashivanKar2019/images_temp/naturalistic/81c5ef6edd390395cd3b9a31984e7f8a107dcddb.png\n",
            "/Users/jjpr/dev/brainio_contrib/mkgu_packaging/dicarlo/BashivanKar2019/images_temp/naturalistic/img630.png -> /Users/jjpr/dev/brainio_contrib/mkgu_packaging/dicarlo/BashivanKar2019/images_temp/naturalistic/2f82c033a71aeeb17df1e93cf94f229a0ac26815.png\n",
            "/Users/jjpr/dev/brainio_contrib/mkgu_packaging/dicarlo/BashivanKar2019/images_temp/naturalistic/img631.png -> /Users/jjpr/dev/brainio_contrib/mkgu_packaging/dicarlo/BashivanKar2019/images_temp/naturalistic/75ebaf926e4ac2e9af5a520c4ddbb6c51c50aebd.png\n",
            "/Users/jjpr/dev/brainio_contrib/mkgu_packaging/dicarlo/BashivanKar2019/images_temp/naturalistic/img632.png -> /Users/jjpr/dev/brainio_contrib/mkgu_packaging/dicarlo/BashivanKar2019/images_temp/naturalistic/de54101b8f532d1baf5c35590c5156c1e4c5082f.png\n",
            "/Users/jjpr/dev/brainio_contrib/mkgu_packaging/dicarlo/BashivanKar2019/images_temp/naturalistic/img633.png -> /Users/jjpr/dev/brainio_contrib/mkgu_packaging/dicarlo/BashivanKar2019/images_temp/naturalistic/52cf656a5268fd843c9b7d0bebb8f3dd1929ed64.png\n",
            "/Users/jjpr/dev/brainio_contrib/mkgu_packaging/dicarlo/BashivanKar2019/images_temp/naturalistic/img634.png -> /Users/jjpr/dev/brainio_contrib/mkgu_packaging/dicarlo/BashivanKar2019/images_temp/naturalistic/9a6e63193692bee0c391ad2af4302960df6ffe26.png\n",
            "/Users/jjpr/dev/brainio_contrib/mkgu_packaging/dicarlo/BashivanKar2019/images_temp/naturalistic/img635.png -> /Users/jjpr/dev/brainio_contrib/mkgu_packaging/dicarlo/BashivanKar2019/images_temp/naturalistic/3b6bcb2c4e5462d54b96b2bff622743b450e1ba7.png\n",
            "/Users/jjpr/dev/brainio_contrib/mkgu_packaging/dicarlo/BashivanKar2019/images_temp/naturalistic/img636.png -> /Users/jjpr/dev/brainio_contrib/mkgu_packaging/dicarlo/BashivanKar2019/images_temp/naturalistic/5a17149822d473e51eaad08c3abf140a70ca3b32.png\n",
            "/Users/jjpr/dev/brainio_contrib/mkgu_packaging/dicarlo/BashivanKar2019/images_temp/naturalistic/img637.png -> /Users/jjpr/dev/brainio_contrib/mkgu_packaging/dicarlo/BashivanKar2019/images_temp/naturalistic/24fa29575bd6ec26db1ef6f21f292ae30cfa2ad8.png\n",
            "/Users/jjpr/dev/brainio_contrib/mkgu_packaging/dicarlo/BashivanKar2019/images_temp/naturalistic/img638.png -> /Users/jjpr/dev/brainio_contrib/mkgu_packaging/dicarlo/BashivanKar2019/images_temp/naturalistic/7c88e08733a470f02c6e3d6fae7f5a6c6d91089e.png\n",
            "/Users/jjpr/dev/brainio_contrib/mkgu_packaging/dicarlo/BashivanKar2019/images_temp/naturalistic/img639.png -> /Users/jjpr/dev/brainio_contrib/mkgu_packaging/dicarlo/BashivanKar2019/images_temp/naturalistic/1d30891e8c7edd7b2181ffab1c569c9731bc7ceb.png\n"
          ]
        }
      ],
      "execution_count": 38,
      "metadata": {
        "collapsed": true,
        "jupyter": {
          "source_hidden": false,
          "outputs_hidden": false
        },
        "nteract": {
          "transient": {
            "deleting": false
          }
        },
        "execution": {
          "iopub.status.busy": "2020-08-23T03:07:03.593Z",
          "iopub.execute_input": "2020-08-23T03:07:03.616Z",
          "iopub.status.idle": "2020-08-23T03:07:11.090Z",
          "shell.execute_reply": "2020-08-23T03:07:11.218Z"
        }
      }
    },
    {
      "cell_type": "code",
      "source": [
        "from brainio_collection import get_stimulus_set"
      ],
      "outputs": [
        {
          "output_type": "stream",
          "name": "stdout",
          "text": [
            "Loading lookup from /Users/jjpr/dev/brainio_collection/brainio_collection/lookup.csv\n"
          ]
        },
        {
          "output_type": "stream",
          "name": "stderr",
          "text": [
            "/Users/jjpr/anaconda/envs/brainio_contrib/lib/python3.7/site-packages/xarray/core/merge.py:10: FutureWarning: The Panel class is removed from pandas. Accessing it from the top-level namespace will also be removed in the next version\n",
            "  PANDAS_TYPES = (pd.Series, pd.DataFrame, pd.Panel)\n"
          ]
        }
      ],
      "execution_count": 1,
      "metadata": {
        "collapsed": true,
        "jupyter": {
          "source_hidden": false,
          "outputs_hidden": false
        },
        "nteract": {
          "transient": {
            "deleting": false
          }
        },
        "execution": {
          "iopub.status.busy": "2020-09-02T19:25:09.801Z",
          "iopub.execute_input": "2020-09-02T19:25:09.819Z",
          "iopub.status.idle": "2020-09-02T19:25:14.025Z",
          "shell.execute_reply": "2020-09-02T19:25:14.042Z"
        }
      }
    },
    {
      "cell_type": "code",
      "source": [
        "from importlib import reload"
      ],
      "outputs": [],
      "execution_count": 46,
      "metadata": {
        "collapsed": true,
        "jupyter": {
          "source_hidden": false,
          "outputs_hidden": false
        },
        "nteract": {
          "transient": {
            "deleting": false
          }
        },
        "execution": {
          "iopub.status.busy": "2020-08-23T22:40:38.035Z",
          "iopub.execute_input": "2020-08-23T22:40:38.050Z",
          "iopub.status.idle": "2020-08-23T22:40:38.073Z",
          "shell.execute_reply": "2020-08-23T22:40:38.095Z"
        }
      }
    },
    {
      "cell_type": "code",
      "source": [
        "reload(get_stimulus_set)"
      ],
      "outputs": [
        {
          "output_type": "error",
          "ename": "TypeError",
          "evalue": "reload() argument must be a module",
          "traceback": [
            "\u001b[0;31m---------------------------------------------------------------------------\u001b[0m",
            "\u001b[0;31mTypeError\u001b[0m                                 Traceback (most recent call last)",
            "\u001b[0;32m<ipython-input-48-50d5fa4fc14e>\u001b[0m in \u001b[0;36m<module>\u001b[0;34m\u001b[0m\n\u001b[0;32m----> 1\u001b[0;31m \u001b[0mreload\u001b[0m\u001b[0;34m(\u001b[0m\u001b[0mget_stimulus_set\u001b[0m\u001b[0;34m)\u001b[0m\u001b[0;34m\u001b[0m\u001b[0;34m\u001b[0m\u001b[0m\n\u001b[0m",
            "\u001b[0;32m~/anaconda/envs/brainio_contrib/lib/python3.7/importlib/__init__.py\u001b[0m in \u001b[0;36mreload\u001b[0;34m(module)\u001b[0m\n\u001b[1;32m    138\u001b[0m     \"\"\"\n\u001b[1;32m    139\u001b[0m     \u001b[0;32mif\u001b[0m \u001b[0;32mnot\u001b[0m \u001b[0mmodule\u001b[0m \u001b[0;32mor\u001b[0m \u001b[0;32mnot\u001b[0m \u001b[0misinstance\u001b[0m\u001b[0;34m(\u001b[0m\u001b[0mmodule\u001b[0m\u001b[0;34m,\u001b[0m \u001b[0mtypes\u001b[0m\u001b[0;34m.\u001b[0m\u001b[0mModuleType\u001b[0m\u001b[0;34m)\u001b[0m\u001b[0;34m:\u001b[0m\u001b[0;34m\u001b[0m\u001b[0;34m\u001b[0m\u001b[0m\n\u001b[0;32m--> 140\u001b[0;31m         \u001b[0;32mraise\u001b[0m \u001b[0mTypeError\u001b[0m\u001b[0;34m(\u001b[0m\u001b[0;34m\"reload() argument must be a module\"\u001b[0m\u001b[0;34m)\u001b[0m\u001b[0;34m\u001b[0m\u001b[0;34m\u001b[0m\u001b[0m\n\u001b[0m\u001b[1;32m    141\u001b[0m     \u001b[0;32mtry\u001b[0m\u001b[0;34m:\u001b[0m\u001b[0;34m\u001b[0m\u001b[0;34m\u001b[0m\u001b[0m\n\u001b[1;32m    142\u001b[0m         \u001b[0mname\u001b[0m \u001b[0;34m=\u001b[0m \u001b[0mmodule\u001b[0m\u001b[0;34m.\u001b[0m\u001b[0m__spec__\u001b[0m\u001b[0;34m.\u001b[0m\u001b[0mname\u001b[0m\u001b[0;34m\u001b[0m\u001b[0;34m\u001b[0m\u001b[0m\n",
            "\u001b[0;31mTypeError\u001b[0m: reload() argument must be a module"
          ]
        }
      ],
      "execution_count": 48,
      "metadata": {
        "collapsed": true,
        "jupyter": {
          "source_hidden": false,
          "outputs_hidden": false
        },
        "nteract": {
          "transient": {
            "deleting": false
          }
        },
        "execution": {
          "iopub.status.busy": "2020-08-23T22:41:48.068Z",
          "iopub.execute_input": "2020-08-23T22:41:48.084Z",
          "iopub.status.idle": "2020-08-23T22:41:48.114Z",
          "shell.execute_reply": "2020-08-23T22:41:48.127Z"
        }
      }
    },
    {
      "cell_type": "code",
      "source": [
        "import brainio_collection"
      ],
      "outputs": [],
      "execution_count": 49,
      "metadata": {
        "collapsed": true,
        "jupyter": {
          "source_hidden": false,
          "outputs_hidden": false
        },
        "nteract": {
          "transient": {
            "deleting": false
          }
        },
        "execution": {
          "iopub.status.busy": "2020-08-23T22:42:08.055Z",
          "iopub.execute_input": "2020-08-23T22:42:08.074Z",
          "iopub.status.idle": "2020-08-23T22:42:08.097Z",
          "shell.execute_reply": "2020-08-23T22:42:08.111Z"
        }
      }
    },
    {
      "cell_type": "code",
      "source": [
        "reload(brainio_collection)"
      ],
      "outputs": [
        {
          "output_type": "execute_result",
          "execution_count": 60,
          "data": {
            "text/plain": "<module 'brainio_collection' from '/Users/jjpr/dev/brainio_collection/brainio_collection/__init__.py'>"
          },
          "metadata": {}
        }
      ],
      "execution_count": 60,
      "metadata": {
        "collapsed": true,
        "jupyter": {
          "source_hidden": false,
          "outputs_hidden": false
        },
        "nteract": {
          "transient": {
            "deleting": false
          }
        },
        "execution": {
          "iopub.status.busy": "2020-08-23T22:47:21.698Z",
          "iopub.execute_input": "2020-08-23T22:47:21.716Z",
          "iopub.status.idle": "2020-08-23T22:47:21.750Z",
          "shell.execute_reply": "2020-08-23T22:47:21.765Z"
        }
      }
    },
    {
      "cell_type": "code",
      "source": [
        "from brainio_collection import get_stimulus_set"
      ],
      "outputs": [],
      "execution_count": 61,
      "metadata": {
        "collapsed": true,
        "jupyter": {
          "source_hidden": false,
          "outputs_hidden": false
        },
        "nteract": {
          "transient": {
            "deleting": false
          }
        },
        "execution": {
          "iopub.status.busy": "2020-08-23T22:47:22.933Z",
          "iopub.execute_input": "2020-08-23T22:47:22.950Z",
          "iopub.status.idle": "2020-08-23T22:47:22.974Z",
          "shell.execute_reply": "2020-08-23T22:47:22.992Z"
        }
      }
    },
    {
      "cell_type": "code",
      "source": [
        "from brainio_collection import list_stimulus_sets"
      ],
      "outputs": [],
      "execution_count": 63,
      "metadata": {
        "collapsed": true,
        "jupyter": {
          "source_hidden": false,
          "outputs_hidden": false
        },
        "nteract": {
          "transient": {
            "deleting": false
          }
        },
        "execution": {
          "iopub.status.busy": "2020-08-23T22:47:51.849Z",
          "iopub.execute_input": "2020-08-23T22:47:51.862Z",
          "iopub.status.idle": "2020-08-23T22:47:51.884Z",
          "shell.execute_reply": "2020-08-23T22:47:51.898Z"
        }
      }
    },
    {
      "cell_type": "code",
      "source": [
        "list_stimulus_sets()"
      ],
      "outputs": [
        {
          "output_type": "execute_result",
          "execution_count": 64,
          "data": {
            "text/plain": "array(['dicarlo.hvm', 'dicarlo.hvm', 'gallant.David2004',\n       'gallant.David2004', 'tolias.Cadena2017', 'tolias.Cadena2017',\n       'movshon.FreemanZiemba2013', 'movshon.FreemanZiemba2013',\n       'dicarlo.objectome.public', 'dicarlo.objectome.public',\n       'dicarlo.objectome.private', 'dicarlo.objectome.private',\n       'dicarlo.Kar2019', 'dicarlo.Kar2019', 'dicarlo.Kar2018cocogray',\n       'dicarlo.Kar2018cocogray', 'dicarlo.hvm-public',\n       'dicarlo.hvm-public', 'dicarlo.hvm-private', 'dicarlo.hvm-private',\n       'movshon.FreemanZiemba2013-public',\n       'movshon.FreemanZiemba2013-public',\n       'movshon.FreemanZiemba2013-private',\n       'movshon.FreemanZiemba2013-private',\n       'klab.Zhang2018.search_obj_array',\n       'klab.Zhang2018.search_obj_array',\n       'movshon.FreemanZiemba2013.aperture-public',\n       'movshon.FreemanZiemba2013.aperture-public',\n       'movshon.FreemanZiemba2013.aperture-private',\n       'movshon.FreemanZiemba2013.aperture-private',\n       'movshon.FreemanZiemba2013.aperture',\n       'movshon.FreemanZiemba2013.aperture',\n       'dicarlo.Rajalingham2020orthographic_IT',\n       'dicarlo.Rajalingham2020orthographic_IT', 'aru.Kuzovkin2018',\n       'aru.Kuzovkin2018'], dtype=object)"
          },
          "metadata": {}
        }
      ],
      "execution_count": 64,
      "metadata": {
        "collapsed": true,
        "jupyter": {
          "source_hidden": false,
          "outputs_hidden": false
        },
        "nteract": {
          "transient": {
            "deleting": false
          }
        },
        "execution": {
          "iopub.status.busy": "2020-08-23T22:48:04.941Z",
          "iopub.execute_input": "2020-08-23T22:48:04.954Z",
          "iopub.status.idle": "2020-08-23T22:48:04.986Z",
          "shell.execute_reply": "2020-08-23T22:48:05.003Z"
        }
      }
    },
    {
      "cell_type": "code",
      "source": [
        "th2 = get_stimulus_set(\"dicarlo.THINGS2\")\n",
        "th2"
      ],
      "outputs": [
        {
          "output_type": "error",
          "ename": "StimulusSetLookupError",
          "evalue": "'stimulus_set dicarlo.THINGS2 not found'",
          "traceback": [
            "\u001b[0;31m---------------------------------------------------------------------------\u001b[0m",
            "\u001b[0;31mStimulusSetLookupError\u001b[0m                    Traceback (most recent call last)",
            "\u001b[0;32m<ipython-input-62-0c40e3a1d8c3>\u001b[0m in \u001b[0;36m<module>\u001b[0;34m\u001b[0m\n\u001b[0;32m----> 1\u001b[0;31m \u001b[0mth2\u001b[0m \u001b[0;34m=\u001b[0m \u001b[0mget_stimulus_set\u001b[0m\u001b[0;34m(\u001b[0m\u001b[0;34m\"dicarlo.THINGS2\"\u001b[0m\u001b[0;34m)\u001b[0m\u001b[0;34m\u001b[0m\u001b[0;34m\u001b[0m\u001b[0m\n\u001b[0m\u001b[1;32m      2\u001b[0m \u001b[0mth2\u001b[0m\u001b[0;34m\u001b[0m\u001b[0;34m\u001b[0m\u001b[0m\n",
            "\u001b[0;32m~/dev/brainio_collection/brainio_collection/fetch.py\u001b[0m in \u001b[0;36mget_stimulus_set\u001b[0;34m(identifier)\u001b[0m\n\u001b[1;32m    191\u001b[0m \u001b[0;34m\u001b[0m\u001b[0m\n\u001b[1;32m    192\u001b[0m \u001b[0;32mdef\u001b[0m \u001b[0mget_stimulus_set\u001b[0m\u001b[0;34m(\u001b[0m\u001b[0midentifier\u001b[0m\u001b[0;34m)\u001b[0m\u001b[0;34m:\u001b[0m\u001b[0;34m\u001b[0m\u001b[0;34m\u001b[0m\u001b[0m\n\u001b[0;32m--> 193\u001b[0;31m     \u001b[0mcsv_lookup\u001b[0m\u001b[0;34m,\u001b[0m \u001b[0mzip_lookup\u001b[0m \u001b[0;34m=\u001b[0m \u001b[0mlookup_stimulus_set\u001b[0m\u001b[0;34m(\u001b[0m\u001b[0midentifier\u001b[0m\u001b[0;34m)\u001b[0m\u001b[0;34m\u001b[0m\u001b[0;34m\u001b[0m\u001b[0m\n\u001b[0m\u001b[1;32m    194\u001b[0m     csv_path = fetch_file(location_type=csv_lookup['location_type'], location=csv_lookup['location'],\n\u001b[1;32m    195\u001b[0m                           sha1=csv_lookup['sha1'])\n",
            "\u001b[0;32m~/dev/brainio_collection/brainio_collection/lookup.py\u001b[0m in \u001b[0;36mlookup_stimulus_set\u001b[0;34m(identifier)\u001b[0m\n\u001b[1;32m     30\u001b[0m     \u001b[0mlookup\u001b[0m \u001b[0;34m=\u001b[0m \u001b[0mdata\u001b[0m\u001b[0;34m[\u001b[0m\u001b[0;34m(\u001b[0m\u001b[0mdata\u001b[0m\u001b[0;34m[\u001b[0m\u001b[0;34m'identifier'\u001b[0m\u001b[0;34m]\u001b[0m \u001b[0;34m==\u001b[0m \u001b[0midentifier\u001b[0m\u001b[0;34m)\u001b[0m \u001b[0;34m&\u001b[0m \u001b[0;34m(\u001b[0m\u001b[0mdata\u001b[0m\u001b[0;34m[\u001b[0m\u001b[0;34m'lookup_type'\u001b[0m\u001b[0;34m]\u001b[0m \u001b[0;34m==\u001b[0m \u001b[0mTYPE_STIMULUS_SET\u001b[0m\u001b[0;34m)\u001b[0m\u001b[0;34m]\u001b[0m\u001b[0;34m\u001b[0m\u001b[0;34m\u001b[0m\u001b[0m\n\u001b[1;32m     31\u001b[0m     \u001b[0;32mif\u001b[0m \u001b[0mlen\u001b[0m\u001b[0;34m(\u001b[0m\u001b[0mlookup\u001b[0m\u001b[0;34m)\u001b[0m \u001b[0;34m==\u001b[0m \u001b[0;36m0\u001b[0m\u001b[0;34m:\u001b[0m\u001b[0;34m\u001b[0m\u001b[0;34m\u001b[0m\u001b[0m\n\u001b[0;32m---> 32\u001b[0;31m         \u001b[0;32mraise\u001b[0m \u001b[0mStimulusSetLookupError\u001b[0m\u001b[0;34m(\u001b[0m\u001b[0;34mf\"stimulus_set {identifier} not found\"\u001b[0m\u001b[0;34m)\u001b[0m\u001b[0;34m\u001b[0m\u001b[0;34m\u001b[0m\u001b[0m\n\u001b[0m\u001b[1;32m     33\u001b[0m     \u001b[0;32mif\u001b[0m \u001b[0mlen\u001b[0m\u001b[0;34m(\u001b[0m\u001b[0mlookup\u001b[0m\u001b[0;34m)\u001b[0m \u001b[0;34m>\u001b[0m \u001b[0;36m2\u001b[0m\u001b[0;34m:\u001b[0m\u001b[0;34m\u001b[0m\u001b[0;34m\u001b[0m\u001b[0m\n\u001b[1;32m     34\u001b[0m         raise RuntimeError(\n",
            "\u001b[0;31mStimulusSetLookupError\u001b[0m: 'stimulus_set dicarlo.THINGS2 not found'"
          ]
        }
      ],
      "execution_count": 62,
      "metadata": {
        "collapsed": true,
        "jupyter": {
          "source_hidden": false,
          "outputs_hidden": false
        },
        "nteract": {
          "transient": {
            "deleting": false
          }
        },
        "execution": {
          "iopub.status.busy": "2020-08-23T22:47:23.982Z",
          "iopub.execute_input": "2020-08-23T22:47:23.998Z",
          "iopub.status.idle": "2020-08-23T22:47:24.027Z",
          "shell.execute_reply": "2020-08-23T22:47:24.043Z"
        }
      }
    },
    {
      "cell_type": "code",
      "source": [
        "brainio_collection.lookup.data"
      ],
      "outputs": [
        {
          "output_type": "execute_result",
          "execution_count": 65,
          "data": {
            "text/plain": "                                      identifier  ...                     stimulus_set_identifier\n0                                    dicarlo.hvm  ...                                         NaN\n1                                    dicarlo.hvm  ...                                         NaN\n2                              gallant.David2004  ...                                         NaN\n3                              gallant.David2004  ...                                         NaN\n4                              tolias.Cadena2017  ...                                         NaN\n5                              tolias.Cadena2017  ...                                         NaN\n6                      movshon.FreemanZiemba2013  ...                                         NaN\n7                      movshon.FreemanZiemba2013  ...                                         NaN\n8                       dicarlo.objectome.public  ...                                         NaN\n9                       dicarlo.objectome.public  ...                                         NaN\n10                     dicarlo.objectome.private  ...                                         NaN\n11                     dicarlo.objectome.private  ...                                         NaN\n12                               dicarlo.Kar2019  ...                                         NaN\n13                               dicarlo.Kar2019  ...                                         NaN\n14                       dicarlo.Kar2018cocogray  ...                                         NaN\n15                       dicarlo.Kar2018cocogray  ...                                         NaN\n16                            dicarlo.hvm-public  ...                                         NaN\n17                            dicarlo.hvm-public  ...                                         NaN\n18                           dicarlo.hvm-private  ...                                         NaN\n19                           dicarlo.hvm-private  ...                                         NaN\n20              movshon.FreemanZiemba2013-public  ...                                         NaN\n21              movshon.FreemanZiemba2013-public  ...                                         NaN\n22             movshon.FreemanZiemba2013-private  ...                                         NaN\n23             movshon.FreemanZiemba2013-private  ...                                         NaN\n24               klab.Zhang2018.search_obj_array  ...                                         NaN\n25               klab.Zhang2018.search_obj_array  ...                                         NaN\n26     movshon.FreemanZiemba2013.aperture-public  ...                                         NaN\n27     movshon.FreemanZiemba2013.aperture-public  ...                                         NaN\n28    movshon.FreemanZiemba2013.aperture-private  ...                                         NaN\n29    movshon.FreemanZiemba2013.aperture-private  ...                                         NaN\n30            movshon.FreemanZiemba2013.aperture  ...                                         NaN\n31            movshon.FreemanZiemba2013.aperture  ...                                         NaN\n32        dicarlo.Rajalingham2020orthographic_IT  ...                                         NaN\n33        dicarlo.Rajalingham2020orthographic_IT  ...                                         NaN\n34                         dicarlo.MajajHong2015  ...                                 dicarlo.hvm\n35                             gallant.David2004  ...                           gallant.David2004\n36                dicarlo.MajajHong2015.temporal  ...                                 dicarlo.hvm\n37                             tolias.Cadena2017  ...                           tolias.Cadena2017\n38          movshon.FreemanZiemba2013.noaperture  ...                   movshon.FreemanZiemba2013\n39                dicarlo.Rajalingham2018.public  ...                    dicarlo.objectome.public\n40               dicarlo.Rajalingham2018.private  ...                   dicarlo.objectome.private\n41                               dicarlo.Kar2019  ...                             dicarlo.Kar2019\n42           dicarlo.MajajHong2015.temporal-10ms  ...                                 dicarlo.hvm\n43                            dicarlo.Kar2018hvm  ...                                 dicarlo.hvm\n44                       dicarlo.Kar2018cocogray  ...                     dicarlo.Kar2018cocogray\n45                  dicarlo.MajajHong2015.public  ...                          dicarlo.hvm-public\n46                 dicarlo.MajajHong2015.private  ...                         dicarlo.hvm-private\n47         dicarlo.MajajHong2015.temporal.public  ...                          dicarlo.hvm-public\n48        dicarlo.MajajHong2015.temporal.private  ...                         dicarlo.hvm-private\n49   movshon.FreemanZiemba2013.noaperture.public  ...            movshon.FreemanZiemba2013-public\n50  movshon.FreemanZiemba2013.noaperture.private  ...           movshon.FreemanZiemba2013-private\n51                klab.Zhang2018search_obj_array  ...             klab.Zhang2018.search_obj_array\n52              movshon.FreemanZiemba2013.public  ...   movshon.FreemanZiemba2013.aperture-public\n53             movshon.FreemanZiemba2013.private  ...  movshon.FreemanZiemba2013.aperture-private\n54                     movshon.FreemanZiemba2013  ...          movshon.FreemanZiemba2013.aperture\n55        dicarlo.Rajalingham2020orthographic_IT  ...      dicarlo.Rajalingham2020orthographic_IT\n56                              aru.Kuzovkin2018  ...                                         NaN\n57                              aru.Kuzovkin2018  ...                                         NaN\n58                              aru.Kuzovkin2018  ...                            aru.Kuzovkin2018\n\n[59 rows x 7 columns]",
            "text/html": "<div>\n<style scoped>\n    .dataframe tbody tr th:only-of-type {\n        vertical-align: middle;\n    }\n\n    .dataframe tbody tr th {\n        vertical-align: top;\n    }\n\n    .dataframe thead th {\n        text-align: right;\n    }\n</style>\n<table border=\"1\" class=\"dataframe\">\n  <thead>\n    <tr style=\"text-align: right;\">\n      <th></th>\n      <th>identifier</th>\n      <th>lookup_type</th>\n      <th>class</th>\n      <th>location_type</th>\n      <th>location</th>\n      <th>sha1</th>\n      <th>stimulus_set_identifier</th>\n    </tr>\n  </thead>\n  <tbody>\n    <tr>\n      <th>0</th>\n      <td>dicarlo.hvm</td>\n      <td>stimulus_set</td>\n      <td>StimulusSet</td>\n      <td>S3</td>\n      <td>https://brainio.dicarlo.s3.amazonaws.com/image...</td>\n      <td>6c5bbadbca9ab37c7ccb7e8991c3acde0e58055a</td>\n      <td>NaN</td>\n    </tr>\n    <tr>\n      <th>1</th>\n      <td>dicarlo.hvm</td>\n      <td>stimulus_set</td>\n      <td>NaN</td>\n      <td>S3</td>\n      <td>https://brainio.dicarlo.s3.amazonaws.com/image...</td>\n      <td>355b9e5986b085ef669ea16c21b348d5b023fd9e</td>\n      <td>NaN</td>\n    </tr>\n    <tr>\n      <th>2</th>\n      <td>gallant.David2004</td>\n      <td>stimulus_set</td>\n      <td>StimulusSet</td>\n      <td>S3</td>\n      <td>https://brainio.contrib.s3.amazonaws.com/image...</td>\n      <td>8ec76338b998cadcdf1e57edd2dd992e2ab2355b</td>\n      <td>NaN</td>\n    </tr>\n    <tr>\n      <th>3</th>\n      <td>gallant.David2004</td>\n      <td>stimulus_set</td>\n      <td>NaN</td>\n      <td>S3</td>\n      <td>https://brainio.contrib.s3.amazonaws.com/image...</td>\n      <td>0200421d66a0613946d39cab64c00b561160016e</td>\n      <td>NaN</td>\n    </tr>\n    <tr>\n      <th>4</th>\n      <td>tolias.Cadena2017</td>\n      <td>stimulus_set</td>\n      <td>StimulusSet</td>\n      <td>S3</td>\n      <td>https://brainio.contrib.s3.amazonaws.com/image...</td>\n      <td>f55b174cc4540e5612cfba5e695324328064b051</td>\n      <td>NaN</td>\n    </tr>\n    <tr>\n      <th>5</th>\n      <td>tolias.Cadena2017</td>\n      <td>stimulus_set</td>\n      <td>NaN</td>\n      <td>S3</td>\n      <td>https://brainio.contrib.s3.amazonaws.com/image...</td>\n      <td>88cc2ce3ef5e197ffd1477144a2e6a68d424ef6c</td>\n      <td>NaN</td>\n    </tr>\n    <tr>\n      <th>6</th>\n      <td>movshon.FreemanZiemba2013</td>\n      <td>stimulus_set</td>\n      <td>StimulusSet</td>\n      <td>S3</td>\n      <td>https://brainio.contrib.s3.amazonaws.com/image...</td>\n      <td>0d2fae0b1be1b69644d6431183945a875ff0d2ba</td>\n      <td>NaN</td>\n    </tr>\n    <tr>\n      <th>7</th>\n      <td>movshon.FreemanZiemba2013</td>\n      <td>stimulus_set</td>\n      <td>NaN</td>\n      <td>S3</td>\n      <td>https://brainio.contrib.s3.amazonaws.com/image...</td>\n      <td>f103526e55481e692c7db64e2c59cf5020694738</td>\n      <td>NaN</td>\n    </tr>\n    <tr>\n      <th>8</th>\n      <td>dicarlo.objectome.public</td>\n      <td>stimulus_set</td>\n      <td>StimulusSet</td>\n      <td>S3</td>\n      <td>https://brainio.dicarlo.s3.amazonaws.com/image...</td>\n      <td>47884e17106a3be471d6481279cab33889b80850</td>\n      <td>NaN</td>\n    </tr>\n    <tr>\n      <th>9</th>\n      <td>dicarlo.objectome.public</td>\n      <td>stimulus_set</td>\n      <td>NaN</td>\n      <td>S3</td>\n      <td>https://brainio.dicarlo.s3.amazonaws.com/image...</td>\n      <td>064f2955f98e63867755fee2e3ead8cddf6bfab8</td>\n      <td>NaN</td>\n    </tr>\n    <tr>\n      <th>10</th>\n      <td>dicarlo.objectome.private</td>\n      <td>stimulus_set</td>\n      <td>StimulusSet</td>\n      <td>S3</td>\n      <td>https://brainio.dicarlo.s3.amazonaws.com/image...</td>\n      <td>ac38e8f7c08fa8294ed25a3bf84a6adb108bf3fc</td>\n      <td>NaN</td>\n    </tr>\n    <tr>\n      <th>11</th>\n      <td>dicarlo.objectome.private</td>\n      <td>stimulus_set</td>\n      <td>NaN</td>\n      <td>S3</td>\n      <td>https://brainio.dicarlo.s3.amazonaws.com/image...</td>\n      <td>ccd39f7f9b8b4a92da06e3960d06225e46208593</td>\n      <td>NaN</td>\n    </tr>\n    <tr>\n      <th>12</th>\n      <td>dicarlo.Kar2019</td>\n      <td>stimulus_set</td>\n      <td>StimulusSet</td>\n      <td>S3</td>\n      <td>https://brainio.dicarlo.s3.amazonaws.com/image...</td>\n      <td>7f705bdea02c0a72a76d7f5e7b6963531df818a6</td>\n      <td>NaN</td>\n    </tr>\n    <tr>\n      <th>13</th>\n      <td>dicarlo.Kar2019</td>\n      <td>stimulus_set</td>\n      <td>NaN</td>\n      <td>S3</td>\n      <td>https://brainio.dicarlo.s3.amazonaws.com/image...</td>\n      <td>75ab7b8b499fc8e86c813f717b79d268bcb986be</td>\n      <td>NaN</td>\n    </tr>\n    <tr>\n      <th>14</th>\n      <td>dicarlo.Kar2018cocogray</td>\n      <td>stimulus_set</td>\n      <td>StimulusSet</td>\n      <td>S3</td>\n      <td>https://brainio.dicarlo.s3.amazonaws.com/image...</td>\n      <td>be9bb267b80fd7ee36a88d025b73ae8a849165da</td>\n      <td>NaN</td>\n    </tr>\n    <tr>\n      <th>15</th>\n      <td>dicarlo.Kar2018cocogray</td>\n      <td>stimulus_set</td>\n      <td>NaN</td>\n      <td>S3</td>\n      <td>https://brainio.dicarlo.s3.amazonaws.com/image...</td>\n      <td>1457003ee9b27ed51c018237009fe148c6e71fd3</td>\n      <td>NaN</td>\n    </tr>\n    <tr>\n      <th>16</th>\n      <td>dicarlo.hvm-public</td>\n      <td>stimulus_set</td>\n      <td>StimulusSet</td>\n      <td>S3</td>\n      <td>https://brainio.dicarlo.s3.amazonaws.com/image...</td>\n      <td>3eff77e18169cca7cf20b74b4af47418b8ab5d51</td>\n      <td>NaN</td>\n    </tr>\n    <tr>\n      <th>17</th>\n      <td>dicarlo.hvm-public</td>\n      <td>stimulus_set</td>\n      <td>NaN</td>\n      <td>S3</td>\n      <td>https://brainio.dicarlo.s3.amazonaws.com/image...</td>\n      <td>e73d4c87db8358dd94168bda4bf608d2aedb5d33</td>\n      <td>NaN</td>\n    </tr>\n    <tr>\n      <th>18</th>\n      <td>dicarlo.hvm-private</td>\n      <td>stimulus_set</td>\n      <td>StimulusSet</td>\n      <td>S3</td>\n      <td>https://brainio.dicarlo.s3.amazonaws.com/image...</td>\n      <td>52b84facedde59f59784526d7c58c92a1120658f</td>\n      <td>NaN</td>\n    </tr>\n    <tr>\n      <th>19</th>\n      <td>dicarlo.hvm-private</td>\n      <td>stimulus_set</td>\n      <td>NaN</td>\n      <td>S3</td>\n      <td>https://brainio.dicarlo.s3.amazonaws.com/image...</td>\n      <td>a8c25f295bff3792a3453e35a9261197a4629a64</td>\n      <td>NaN</td>\n    </tr>\n    <tr>\n      <th>20</th>\n      <td>movshon.FreemanZiemba2013-public</td>\n      <td>stimulus_set</td>\n      <td>StimulusSet</td>\n      <td>S3</td>\n      <td>https://brainio.contrib.s3.amazonaws.com/image...</td>\n      <td>e9b9ec6ead4221e4badff4f6587430fa7bdfa5b0</td>\n      <td>NaN</td>\n    </tr>\n    <tr>\n      <th>21</th>\n      <td>movshon.FreemanZiemba2013-public</td>\n      <td>stimulus_set</td>\n      <td>NaN</td>\n      <td>S3</td>\n      <td>https://brainio.contrib.s3.amazonaws.com/image...</td>\n      <td>2bfb2111a5feabd54524976b4479ca83c37b05be</td>\n      <td>NaN</td>\n    </tr>\n    <tr>\n      <th>22</th>\n      <td>movshon.FreemanZiemba2013-private</td>\n      <td>stimulus_set</td>\n      <td>StimulusSet</td>\n      <td>S3</td>\n      <td>https://brainio.contrib.s3.amazonaws.com/image...</td>\n      <td>b8aeb2bd93b446bcc2ff69ccf7e508b862834ff0</td>\n      <td>NaN</td>\n    </tr>\n    <tr>\n      <th>23</th>\n      <td>movshon.FreemanZiemba2013-private</td>\n      <td>stimulus_set</td>\n      <td>NaN</td>\n      <td>S3</td>\n      <td>https://brainio.contrib.s3.amazonaws.com/image...</td>\n      <td>de043154afcdea4d1dddf2fadd6ad4437ca6414e</td>\n      <td>NaN</td>\n    </tr>\n    <tr>\n      <th>24</th>\n      <td>klab.Zhang2018.search_obj_array</td>\n      <td>stimulus_set</td>\n      <td>StimulusSet</td>\n      <td>S3</td>\n      <td>https://brainio.contrib.s3.amazonaws.com/image...</td>\n      <td>e9c2f6b35b84256242d257e8d36261aa26d3ed4a</td>\n      <td>NaN</td>\n    </tr>\n    <tr>\n      <th>25</th>\n      <td>klab.Zhang2018.search_obj_array</td>\n      <td>stimulus_set</td>\n      <td>NaN</td>\n      <td>S3</td>\n      <td>https://brainio.contrib.s3.amazonaws.com/image...</td>\n      <td>d92dfb20a87bb9a015c77c2862a215e8fa4f2cc3</td>\n      <td>NaN</td>\n    </tr>\n    <tr>\n      <th>26</th>\n      <td>movshon.FreemanZiemba2013.aperture-public</td>\n      <td>stimulus_set</td>\n      <td>StimulusSet</td>\n      <td>S3</td>\n      <td>https://brainio.contrib.s3.amazonaws.com/image...</td>\n      <td>ea161beecbb11249bf153108eb4b145b6eacec90</td>\n      <td>NaN</td>\n    </tr>\n    <tr>\n      <th>27</th>\n      <td>movshon.FreemanZiemba2013.aperture-public</td>\n      <td>stimulus_set</td>\n      <td>NaN</td>\n      <td>S3</td>\n      <td>https://brainio.contrib.s3.amazonaws.com/image...</td>\n      <td>59051aebcf1c2b507671a68f1752bfa89a444d66</td>\n      <td>NaN</td>\n    </tr>\n    <tr>\n      <th>28</th>\n      <td>movshon.FreemanZiemba2013.aperture-private</td>\n      <td>stimulus_set</td>\n      <td>StimulusSet</td>\n      <td>S3</td>\n      <td>https://brainio.contrib.s3.amazonaws.com/image...</td>\n      <td>b6dc1d208677d1c1fa0aebf75d6e86b52cd040f2</td>\n      <td>NaN</td>\n    </tr>\n    <tr>\n      <th>29</th>\n      <td>movshon.FreemanZiemba2013.aperture-private</td>\n      <td>stimulus_set</td>\n      <td>NaN</td>\n      <td>S3</td>\n      <td>https://brainio.contrib.s3.amazonaws.com/image...</td>\n      <td>7ee966bf4d3216cb832efa7a80882e772db1d5b7</td>\n      <td>NaN</td>\n    </tr>\n    <tr>\n      <th>30</th>\n      <td>movshon.FreemanZiemba2013.aperture</td>\n      <td>stimulus_set</td>\n      <td>StimulusSet</td>\n      <td>S3</td>\n      <td>https://brainio.contrib.s3.amazonaws.com/image...</td>\n      <td>8bd931dbc2a398bde127dffd634ece2cd79c4a7b</td>\n      <td>NaN</td>\n    </tr>\n    <tr>\n      <th>31</th>\n      <td>movshon.FreemanZiemba2013.aperture</td>\n      <td>stimulus_set</td>\n      <td>NaN</td>\n      <td>S3</td>\n      <td>https://brainio.contrib.s3.amazonaws.com/image...</td>\n      <td>bd27693456988d698643e01f7e4925b7f25905fa</td>\n      <td>NaN</td>\n    </tr>\n    <tr>\n      <th>32</th>\n      <td>dicarlo.Rajalingham2020orthographic_IT</td>\n      <td>stimulus_set</td>\n      <td>StimulusSet</td>\n      <td>S3</td>\n      <td>https://brainio.dicarlo.s3.amazonaws.com/image...</td>\n      <td>3ac9ab73b653ac9cf839f9bfde131354a3766ccd</td>\n      <td>NaN</td>\n    </tr>\n    <tr>\n      <th>33</th>\n      <td>dicarlo.Rajalingham2020orthographic_IT</td>\n      <td>stimulus_set</td>\n      <td>NaN</td>\n      <td>S3</td>\n      <td>https://brainio.dicarlo.s3.amazonaws.com/image...</td>\n      <td>0e025f6f8b06e803a6d8d1a17bd25a41af3e81db</td>\n      <td>NaN</td>\n    </tr>\n    <tr>\n      <th>34</th>\n      <td>dicarlo.MajajHong2015</td>\n      <td>assembly</td>\n      <td>NeuronRecordingAssembly</td>\n      <td>S3</td>\n      <td>https://brainio.dicarlo.s3.amazonaws.com/assy_...</td>\n      <td>bf8f8d01010d727e3db3f85a9bd5f95f9456b7ec</td>\n      <td>dicarlo.hvm</td>\n    </tr>\n    <tr>\n      <th>35</th>\n      <td>gallant.David2004</td>\n      <td>assembly</td>\n      <td>NeuronRecordingAssembly</td>\n      <td>S3</td>\n      <td>https://brainio.contrib.s3.amazonaws.com/assy_...</td>\n      <td>d2ed9834c054da2333f5d894285c9841a1f27313</td>\n      <td>gallant.David2004</td>\n    </tr>\n    <tr>\n      <th>36</th>\n      <td>dicarlo.MajajHong2015.temporal</td>\n      <td>assembly</td>\n      <td>NeuronRecordingAssembly</td>\n      <td>S3</td>\n      <td>https://brainio.dicarlo.s3.amazonaws.com/assy_...</td>\n      <td>4c5cfe25ad53162c5c716d64004de269162eff38</td>\n      <td>dicarlo.hvm</td>\n    </tr>\n    <tr>\n      <th>37</th>\n      <td>tolias.Cadena2017</td>\n      <td>assembly</td>\n      <td>NeuronRecordingAssembly</td>\n      <td>S3</td>\n      <td>https://brainio.contrib.s3.amazonaws.com/assy_...</td>\n      <td>69bcaaa9370dceb0027beaa06235ef418c3d7063</td>\n      <td>tolias.Cadena2017</td>\n    </tr>\n    <tr>\n      <th>38</th>\n      <td>movshon.FreemanZiemba2013.noaperture</td>\n      <td>assembly</td>\n      <td>NeuronRecordingAssembly</td>\n      <td>S3</td>\n      <td>https://brainio.contrib.s3.amazonaws.com/assy_...</td>\n      <td>6176fd435ab840d284c2c426742c8211622739b5</td>\n      <td>movshon.FreemanZiemba2013</td>\n    </tr>\n    <tr>\n      <th>39</th>\n      <td>dicarlo.Rajalingham2018.public</td>\n      <td>assembly</td>\n      <td>BehavioralAssembly</td>\n      <td>S3</td>\n      <td>https://brainio.dicarlo.s3.amazonaws.com/assy_...</td>\n      <td>34c6a8b6f7c523589c1861e4123232e5f7c7df4c</td>\n      <td>dicarlo.objectome.public</td>\n    </tr>\n    <tr>\n      <th>40</th>\n      <td>dicarlo.Rajalingham2018.private</td>\n      <td>assembly</td>\n      <td>BehavioralAssembly</td>\n      <td>S3</td>\n      <td>https://brainio.dicarlo.s3.amazonaws.com/assy_...</td>\n      <td>516f13793d1c5b72bb445bb4008448ce97a02d23</td>\n      <td>dicarlo.objectome.private</td>\n    </tr>\n    <tr>\n      <th>41</th>\n      <td>dicarlo.Kar2019</td>\n      <td>assembly</td>\n      <td>DataAssembly</td>\n      <td>S3</td>\n      <td>https://brainio.dicarlo.s3.amazonaws.com/assy_...</td>\n      <td>147717ce397e11d56164d472063a84a83bbcbb94</td>\n      <td>dicarlo.Kar2019</td>\n    </tr>\n    <tr>\n      <th>42</th>\n      <td>dicarlo.MajajHong2015.temporal-10ms</td>\n      <td>assembly</td>\n      <td>NeuronRecordingAssembly</td>\n      <td>S3</td>\n      <td>https://brainio.dicarlo.s3.amazonaws.com/assy_...</td>\n      <td>3a43db05db722b456d156f53b7215413c994e5b5</td>\n      <td>dicarlo.hvm</td>\n    </tr>\n    <tr>\n      <th>43</th>\n      <td>dicarlo.Kar2018hvm</td>\n      <td>assembly</td>\n      <td>NeuronRecordingAssembly</td>\n      <td>S3</td>\n      <td>https://brainio.dicarlo.s3.amazonaws.com/assy_...</td>\n      <td>96ccacc76c5fa30ee68bdc8736d1d43ace93f3e7</td>\n      <td>dicarlo.hvm</td>\n    </tr>\n    <tr>\n      <th>44</th>\n      <td>dicarlo.Kar2018cocogray</td>\n      <td>assembly</td>\n      <td>NeuronRecordingAssembly</td>\n      <td>S3</td>\n      <td>https://brainio.dicarlo.s3.amazonaws.com/assy_...</td>\n      <td>4202cb3992a5d71f71a7ca9e28ba3f8b27937b43</td>\n      <td>dicarlo.Kar2018cocogray</td>\n    </tr>\n    <tr>\n      <th>45</th>\n      <td>dicarlo.MajajHong2015.public</td>\n      <td>assembly</td>\n      <td>NeuronRecordingAssembly</td>\n      <td>S3</td>\n      <td>https://brainio.dicarlo.s3.amazonaws.com/assy_...</td>\n      <td>13d28ca0ce88ee550b54db3004374ae19096e9b9</td>\n      <td>dicarlo.hvm-public</td>\n    </tr>\n    <tr>\n      <th>46</th>\n      <td>dicarlo.MajajHong2015.private</td>\n      <td>assembly</td>\n      <td>NeuronRecordingAssembly</td>\n      <td>S3</td>\n      <td>https://brainio.dicarlo.s3.amazonaws.com/assy_...</td>\n      <td>7a40d16148d6f82939155f0bd976d310857fb156</td>\n      <td>dicarlo.hvm-private</td>\n    </tr>\n    <tr>\n      <th>47</th>\n      <td>dicarlo.MajajHong2015.temporal.public</td>\n      <td>assembly</td>\n      <td>NeuronRecordingAssembly</td>\n      <td>S3</td>\n      <td>https://brainio.dicarlo.s3.amazonaws.com/assy_...</td>\n      <td>093ac35b3e8464c676d24cf38238415d4d6a9448</td>\n      <td>dicarlo.hvm-public</td>\n    </tr>\n    <tr>\n      <th>48</th>\n      <td>dicarlo.MajajHong2015.temporal.private</td>\n      <td>assembly</td>\n      <td>NeuronRecordingAssembly</td>\n      <td>S3</td>\n      <td>https://brainio.dicarlo.s3.amazonaws.com/assy_...</td>\n      <td>804ea9e7c08ae9ab7a7d705c9c7e68582750e2ea</td>\n      <td>dicarlo.hvm-private</td>\n    </tr>\n    <tr>\n      <th>49</th>\n      <td>movshon.FreemanZiemba2013.noaperture.public</td>\n      <td>assembly</td>\n      <td>NeuronRecordingAssembly</td>\n      <td>S3</td>\n      <td>https://brainio.contrib.s3.amazonaws.com/assy_...</td>\n      <td>68dd9e1da7207dc2ae17dbbb1adf628e922d15fa</td>\n      <td>movshon.FreemanZiemba2013-public</td>\n    </tr>\n    <tr>\n      <th>50</th>\n      <td>movshon.FreemanZiemba2013.noaperture.private</td>\n      <td>assembly</td>\n      <td>NeuronRecordingAssembly</td>\n      <td>S3</td>\n      <td>https://brainio.contrib.s3.amazonaws.com/assy_...</td>\n      <td>9ffa772ce61754f6f5b7b391436680ebc25bb8dd</td>\n      <td>movshon.FreemanZiemba2013-private</td>\n    </tr>\n    <tr>\n      <th>51</th>\n      <td>klab.Zhang2018search_obj_array</td>\n      <td>assembly</td>\n      <td>BehavioralAssembly</td>\n      <td>S3</td>\n      <td>https://brainio.contrib.s3.amazonaws.com/assy_...</td>\n      <td>84400dc814b79df8d8eca99a557df5f741cce4b9</td>\n      <td>klab.Zhang2018.search_obj_array</td>\n    </tr>\n    <tr>\n      <th>52</th>\n      <td>movshon.FreemanZiemba2013.public</td>\n      <td>assembly</td>\n      <td>NeuronRecordingAssembly</td>\n      <td>S3</td>\n      <td>https://brainio.contrib.s3.amazonaws.com/assy_...</td>\n      <td>761c08f796db4e342555cdb60eef23a4f19ead43</td>\n      <td>movshon.FreemanZiemba2013.aperture-public</td>\n    </tr>\n    <tr>\n      <th>53</th>\n      <td>movshon.FreemanZiemba2013.private</td>\n      <td>assembly</td>\n      <td>NeuronRecordingAssembly</td>\n      <td>S3</td>\n      <td>https://brainio.contrib.s3.amazonaws.com/assy_...</td>\n      <td>63f636fa2e2b51b47a676768a69b06ce95efdd8f</td>\n      <td>movshon.FreemanZiemba2013.aperture-private</td>\n    </tr>\n    <tr>\n      <th>54</th>\n      <td>movshon.FreemanZiemba2013</td>\n      <td>assembly</td>\n      <td>NeuronRecordingAssembly</td>\n      <td>S3</td>\n      <td>https://brainio.contrib.s3.amazonaws.com/assy_...</td>\n      <td>f03f1630f0ab1e2dbd51816b47fbf2916876134e</td>\n      <td>movshon.FreemanZiemba2013.aperture</td>\n    </tr>\n    <tr>\n      <th>55</th>\n      <td>dicarlo.Rajalingham2020orthographic_IT</td>\n      <td>assembly</td>\n      <td>NeuronRecordingAssembly</td>\n      <td>S3</td>\n      <td>https://brainio.dicarlo.s3.amazonaws.com/assy_...</td>\n      <td>2a14beba8120968166c2c1d017e5c3db3e757940</td>\n      <td>dicarlo.Rajalingham2020orthographic_IT</td>\n    </tr>\n    <tr>\n      <th>56</th>\n      <td>aru.Kuzovkin2018</td>\n      <td>stimulus_set</td>\n      <td>StimulusSet</td>\n      <td>S3</td>\n      <td>https://brainio.contrib.s3.amazonaws.com/image...</td>\n      <td>6923dbe74b78a104ab2c1b158c147b93110e8295</td>\n      <td>NaN</td>\n    </tr>\n    <tr>\n      <th>57</th>\n      <td>aru.Kuzovkin2018</td>\n      <td>stimulus_set</td>\n      <td>NaN</td>\n      <td>S3</td>\n      <td>https://brainio.contrib.s3.amazonaws.com/image...</td>\n      <td>f918fc1e5092ef05e711f4f96083193bfc9264e8</td>\n      <td>NaN</td>\n    </tr>\n    <tr>\n      <th>58</th>\n      <td>aru.Kuzovkin2018</td>\n      <td>assembly</td>\n      <td>NeuronRecordingAssembly</td>\n      <td>S3</td>\n      <td>https://brainio.contrib.s3.amazonaws.com/assy_...</td>\n      <td>a1ad7aa05271916a991ed1fab85130beeaba225e</td>\n      <td>aru.Kuzovkin2018</td>\n    </tr>\n  </tbody>\n</table>\n</div>"
          },
          "metadata": {}
        }
      ],
      "execution_count": 65,
      "metadata": {
        "collapsed": true,
        "jupyter": {
          "source_hidden": false,
          "outputs_hidden": false
        },
        "nteract": {
          "transient": {
            "deleting": false
          }
        },
        "execution": {
          "iopub.status.busy": "2020-08-23T22:52:00.793Z",
          "iopub.execute_input": "2020-08-23T22:52:00.811Z",
          "iopub.status.idle": "2020-08-23T22:52:00.858Z",
          "shell.execute_reply": "2020-08-23T22:52:00.875Z"
        }
      }
    },
    {
      "cell_type": "code",
      "source": [
        "brainio_collection.lookup.path"
      ],
      "outputs": [
        {
          "output_type": "execute_result",
          "execution_count": 66,
          "data": {
            "text/plain": "PosixPath('/Users/jjpr/dev/brainio_collection/brainio_collection/lookup.csv')"
          },
          "metadata": {}
        }
      ],
      "execution_count": 66,
      "metadata": {
        "collapsed": true,
        "jupyter": {
          "source_hidden": false,
          "outputs_hidden": false
        },
        "nteract": {
          "transient": {
            "deleting": false
          }
        },
        "execution": {
          "iopub.status.busy": "2020-08-23T22:52:59.216Z",
          "iopub.execute_input": "2020-08-23T22:52:59.240Z",
          "iopub.status.idle": "2020-08-23T22:52:59.337Z",
          "shell.execute_reply": "2020-08-23T22:52:59.355Z"
        }
      }
    },
    {
      "cell_type": "code",
      "source": [
        "import pandas as pd"
      ],
      "outputs": [],
      "execution_count": 67,
      "metadata": {
        "collapsed": true,
        "jupyter": {
          "source_hidden": false,
          "outputs_hidden": false
        },
        "nteract": {
          "transient": {
            "deleting": false
          }
        },
        "execution": {
          "iopub.status.busy": "2020-08-23T22:53:23.823Z",
          "iopub.execute_input": "2020-08-23T22:53:23.840Z",
          "iopub.status.idle": "2020-08-23T22:53:23.872Z",
          "shell.execute_reply": "2020-08-23T22:53:23.886Z"
        }
      }
    },
    {
      "cell_type": "code",
      "source": [
        "brainio_collection.lookup.data = pd.read_csv(brainio_collection.lookup.path)"
      ],
      "outputs": [],
      "execution_count": 68,
      "metadata": {
        "collapsed": true,
        "jupyter": {
          "source_hidden": false,
          "outputs_hidden": false
        },
        "nteract": {
          "transient": {
            "deleting": false
          }
        },
        "execution": {
          "iopub.status.busy": "2020-08-23T22:54:08.692Z",
          "iopub.execute_input": "2020-08-23T22:54:08.709Z",
          "iopub.status.idle": "2020-08-23T22:54:08.738Z",
          "shell.execute_reply": "2020-08-23T22:54:08.754Z"
        }
      }
    },
    {
      "cell_type": "code",
      "source": [
        "th2 = get_stimulus_set(\"dicarlo.THINGS2\")\n",
        "th2"
      ],
      "outputs": [
        {
          "output_type": "stream",
          "name": "stderr",
          "text": [
            "brainio.dicarlo/image_dicarlo_THINGS2.csv: 100%|██████████| 283k/283k [00:00<00:00, 877kB/s]\n",
            "brainio.dicarlo/image_dicarlo_THINGS2.zip: 100%|██████████| 230M/230M [01:21<00:00, 2.81MB/s] \n"
          ]
        },
        {
          "output_type": "execute_result",
          "execution_count": 69,
          "data": {
            "text/plain": "       image_file_name  image_id  category  filename\n0     aardvark_04s.jpg         1  aardvark     1.jpg\n1     aardvark_06s.jpg         2  aardvark     2.jpg\n2     aardvark_10s.jpg         3  aardvark     3.jpg\n3     aardvark_14s.jpg         4  aardvark     4.jpg\n4       abacus_03s.jpg         5    abacus     5.jpg\n...                ...       ...       ...       ...\n7411    zipper_08s.jpg      7412    zipper  7412.jpg\n7412  zucchini_01b.jpg      7413  zucchini  7413.jpg\n7413  zucchini_08n.jpg      7414  zucchini  7414.jpg\n7414  zucchini_11s.jpg      7415  zucchini  7415.jpg\n7415  zucchini_12s.jpg      7416  zucchini  7416.jpg\n\n[7416 rows x 4 columns]",
            "text/html": "<div>\n<style scoped>\n    .dataframe tbody tr th:only-of-type {\n        vertical-align: middle;\n    }\n\n    .dataframe tbody tr th {\n        vertical-align: top;\n    }\n\n    .dataframe thead th {\n        text-align: right;\n    }\n</style>\n<table border=\"1\" class=\"dataframe\">\n  <thead>\n    <tr style=\"text-align: right;\">\n      <th></th>\n      <th>image_file_name</th>\n      <th>image_id</th>\n      <th>category</th>\n      <th>filename</th>\n    </tr>\n  </thead>\n  <tbody>\n    <tr>\n      <th>0</th>\n      <td>aardvark_04s.jpg</td>\n      <td>1</td>\n      <td>aardvark</td>\n      <td>1.jpg</td>\n    </tr>\n    <tr>\n      <th>1</th>\n      <td>aardvark_06s.jpg</td>\n      <td>2</td>\n      <td>aardvark</td>\n      <td>2.jpg</td>\n    </tr>\n    <tr>\n      <th>2</th>\n      <td>aardvark_10s.jpg</td>\n      <td>3</td>\n      <td>aardvark</td>\n      <td>3.jpg</td>\n    </tr>\n    <tr>\n      <th>3</th>\n      <td>aardvark_14s.jpg</td>\n      <td>4</td>\n      <td>aardvark</td>\n      <td>4.jpg</td>\n    </tr>\n    <tr>\n      <th>4</th>\n      <td>abacus_03s.jpg</td>\n      <td>5</td>\n      <td>abacus</td>\n      <td>5.jpg</td>\n    </tr>\n    <tr>\n      <th>...</th>\n      <td>...</td>\n      <td>...</td>\n      <td>...</td>\n      <td>...</td>\n    </tr>\n    <tr>\n      <th>7411</th>\n      <td>zipper_08s.jpg</td>\n      <td>7412</td>\n      <td>zipper</td>\n      <td>7412.jpg</td>\n    </tr>\n    <tr>\n      <th>7412</th>\n      <td>zucchini_01b.jpg</td>\n      <td>7413</td>\n      <td>zucchini</td>\n      <td>7413.jpg</td>\n    </tr>\n    <tr>\n      <th>7413</th>\n      <td>zucchini_08n.jpg</td>\n      <td>7414</td>\n      <td>zucchini</td>\n      <td>7414.jpg</td>\n    </tr>\n    <tr>\n      <th>7414</th>\n      <td>zucchini_11s.jpg</td>\n      <td>7415</td>\n      <td>zucchini</td>\n      <td>7415.jpg</td>\n    </tr>\n    <tr>\n      <th>7415</th>\n      <td>zucchini_12s.jpg</td>\n      <td>7416</td>\n      <td>zucchini</td>\n      <td>7416.jpg</td>\n    </tr>\n  </tbody>\n</table>\n<p>7416 rows × 4 columns</p>\n</div>"
          },
          "metadata": {}
        }
      ],
      "execution_count": 69,
      "metadata": {
        "collapsed": true,
        "jupyter": {
          "source_hidden": false,
          "outputs_hidden": false
        },
        "nteract": {
          "transient": {
            "deleting": false
          }
        },
        "execution": {
          "iopub.status.busy": "2020-08-23T22:55:09.621Z",
          "iopub.execute_input": "2020-08-23T22:55:09.642Z",
          "iopub.status.idle": "2020-08-23T22:56:37.410Z",
          "shell.execute_reply": "2020-08-23T22:56:37.456Z"
        }
      }
    },
    {
      "cell_type": "code",
      "source": [
        "h5.root.target_inds[\"monkey_m\"][\"stretch\"][\"session_1\"]"
      ],
      "outputs": [
        {
          "output_type": "execute_result",
          "execution_count": 71,
          "data": {
            "text/plain": "/target_inds/monkey_m/stretch/session_1 (Array(5,)) ''\n  atom := Int64Atom(shape=(), dflt=0)\n  maindim := 0\n  flavor := 'numpy'\n  byteorder := 'little'\n  chunkshape := None"
          },
          "metadata": {}
        }
      ],
      "execution_count": 71,
      "metadata": {
        "collapsed": true,
        "jupyter": {
          "source_hidden": false,
          "outputs_hidden": false
        },
        "nteract": {
          "transient": {
            "deleting": false
          }
        },
        "execution": {
          "iopub.status.busy": "2020-08-24T00:43:00.084Z",
          "iopub.execute_input": "2020-08-24T00:43:00.131Z",
          "iopub.status.idle": "2020-08-24T00:43:00.165Z",
          "shell.execute_reply": "2020-08-24T00:43:00.196Z"
        }
      }
    },
    {
      "cell_type": "code",
      "source": [
        "h5.root.target_inds[\"monkey_m\"][\"stretch\"][\"session_1\"][:]"
      ],
      "outputs": [
        {
          "output_type": "execute_result",
          "execution_count": 73,
          "data": {
            "text/plain": "array([53, 31, 17, 20, 16])"
          },
          "metadata": {}
        }
      ],
      "execution_count": 73,
      "metadata": {
        "collapsed": true,
        "jupyter": {
          "source_hidden": false,
          "outputs_hidden": false
        },
        "nteract": {
          "transient": {
            "deleting": false
          }
        },
        "execution": {
          "iopub.status.busy": "2020-08-24T00:43:43.476Z",
          "iopub.execute_input": "2020-08-24T00:43:43.493Z",
          "iopub.status.idle": "2020-08-24T00:43:43.531Z",
          "shell.execute_reply": "2020-08-24T00:43:43.550Z"
        }
      }
    },
    {
      "cell_type": "code",
      "source": [
        "(\n",
        "  (53 in h5.root.target_inds[\"monkey_m\"][\"stretch\"][\"session_1\"]),\n",
        "  (54 in h5.root.target_inds[\"monkey_m\"][\"stretch\"][\"session_1\"])  \n",
        ")"
      ],
      "outputs": [
        {
          "output_type": "execute_result",
          "execution_count": 79,
          "data": {
            "text/plain": "(True, False)"
          },
          "metadata": {}
        }
      ],
      "execution_count": 79,
      "metadata": {
        "collapsed": true,
        "jupyter": {
          "source_hidden": false,
          "outputs_hidden": false
        },
        "nteract": {
          "transient": {
            "deleting": false
          }
        },
        "execution": {
          "iopub.status.busy": "2020-08-24T00:46:13.654Z",
          "iopub.execute_input": "2020-08-24T00:46:13.672Z",
          "iopub.status.idle": "2020-08-24T00:46:13.709Z",
          "shell.execute_reply": "2020-08-24T00:46:13.727Z"
        }
      }
    },
    {
      "cell_type": "code",
      "source": [
        "(int(True), int(False))"
      ],
      "outputs": [
        {
          "output_type": "execute_result",
          "execution_count": 82,
          "data": {
            "text/plain": "(1, 0)"
          },
          "metadata": {}
        }
      ],
      "execution_count": 82,
      "metadata": {
        "collapsed": true,
        "jupyter": {
          "source_hidden": false,
          "outputs_hidden": false
        },
        "nteract": {
          "transient": {
            "deleting": false
          }
        },
        "execution": {
          "iopub.status.busy": "2020-08-24T04:35:00.350Z",
          "iopub.execute_input": "2020-08-24T04:35:00.369Z",
          "iopub.status.idle": "2020-08-24T04:35:00.412Z",
          "shell.execute_reply": "2020-08-24T04:35:00.432Z"
        }
      }
    },
    {
      "cell_type": "code",
      "source": [
        "brainio_collection.lookup.data = pd.read_csv(brainio_collection.lookup.path)"
      ],
      "outputs": [],
      "execution_count": 97,
      "metadata": {
        "collapsed": true,
        "jupyter": {
          "source_hidden": false,
          "outputs_hidden": false
        },
        "nteract": {
          "transient": {
            "deleting": false
          }
        },
        "execution": {
          "iopub.status.busy": "2020-08-24T05:50:38.004Z",
          "iopub.execute_input": "2020-08-24T05:50:38.027Z",
          "iopub.status.idle": "2020-08-24T05:50:38.070Z",
          "shell.execute_reply": "2020-08-24T05:50:38.152Z"
        }
      }
    },
    {
      "cell_type": "code",
      "source": [
        "list_stimulus_sets()[::2]"
      ],
      "outputs": [
        {
          "output_type": "execute_result",
          "execution_count": 99,
          "data": {
            "text/plain": "array(['dicarlo.hvm', 'gallant.David2004', 'tolias.Cadena2017',\n       'movshon.FreemanZiemba2013', 'dicarlo.objectome.public',\n       'dicarlo.objectome.private', 'dicarlo.Kar2019',\n       'dicarlo.Kar2018cocogray', 'dicarlo.hvm-public',\n       'dicarlo.hvm-private', 'movshon.FreemanZiemba2013-public',\n       'movshon.FreemanZiemba2013-private',\n       'klab.Zhang2018.search_obj_array',\n       'movshon.FreemanZiemba2013.aperture-public',\n       'movshon.FreemanZiemba2013.aperture-private',\n       'movshon.FreemanZiemba2013.aperture',\n       'dicarlo.Rajalingham2020orthographic_IT', 'aru.Kuzovkin2018',\n       'dicarlo.Rajalingham2020', 'dicarlo.Rust2012', 'dicarlo.BOLD5000',\n       'dicarlo.THINGS1', 'dicarlo.THINGS2',\n       'dicarlo.BashivanKar2019.naturalistic',\n       'dicarlo.BashivanKar2019.synthetic'], dtype=object)"
          },
          "metadata": {}
        }
      ],
      "execution_count": 99,
      "metadata": {
        "collapsed": true,
        "jupyter": {
          "source_hidden": false,
          "outputs_hidden": false
        },
        "nteract": {
          "transient": {
            "deleting": false
          }
        },
        "execution": {
          "iopub.status.busy": "2020-08-24T05:52:45.508Z",
          "iopub.execute_input": "2020-08-24T05:52:45.530Z",
          "iopub.status.idle": "2020-08-24T05:52:45.575Z",
          "shell.execute_reply": "2020-08-24T05:52:45.596Z"
        }
      }
    },
    {
      "cell_type": "code",
      "source": [
        "from brainio_collection import list_assemblies"
      ],
      "outputs": [],
      "execution_count": 5,
      "metadata": {
        "collapsed": true,
        "jupyter": {
          "source_hidden": false,
          "outputs_hidden": false
        },
        "nteract": {
          "transient": {
            "deleting": false
          }
        },
        "execution": {
          "iopub.status.busy": "2021-01-19T22:57:21.819Z",
          "iopub.execute_input": "2021-01-19T22:57:21.844Z",
          "iopub.status.idle": "2021-01-19T22:57:21.880Z",
          "shell.execute_reply": "2021-01-19T22:57:21.903Z"
        }
      }
    },
    {
      "cell_type": "code",
      "source": [
        "list_assemblies()"
      ],
      "outputs": [
        {
          "output_type": "execute_result",
          "execution_count": 6,
          "data": {
            "text/plain": "array(['dicarlo.MajajHong2015', 'gallant.David2004',\n       'dicarlo.MajajHong2015.temporal', 'tolias.Cadena2017',\n       'movshon.FreemanZiemba2013.noaperture',\n       'dicarlo.Rajalingham2018.public',\n       'dicarlo.Rajalingham2018.private', 'dicarlo.Kar2019',\n       'dicarlo.MajajHong2015.temporal-10ms', 'dicarlo.Kar2018hvm',\n       'dicarlo.Kar2018cocogray', 'dicarlo.MajajHong2015.public',\n       'dicarlo.MajajHong2015.private',\n       'dicarlo.MajajHong2015.temporal.public',\n       'dicarlo.MajajHong2015.temporal.private',\n       'movshon.FreemanZiemba2013.noaperture.public',\n       'movshon.FreemanZiemba2013.noaperture.private',\n       'klab.Zhang2018search_obj_array',\n       'movshon.FreemanZiemba2013.public',\n       'movshon.FreemanZiemba2013.private', 'movshon.FreemanZiemba2013',\n       'aru.Kuzovkin2018', 'dicarlo.Rajalingham2020',\n       'dicarlo.SanghaviMurty2020', 'dicarlo.SanghaviJozwik2020',\n       'dicarlo.Sanghavi2020', 'dicarlo.SanghaviMurty2020THINGS1',\n       'dicarlo.SanghaviMurty2020THINGS2',\n       'dicarlo.BashivanKar2019.m_ohp_session_1_nat',\n       'dicarlo.BashivanKar2019.m_ohp_session_2_nat',\n       'dicarlo.BashivanKar2019.m_stretch_session_1_nat',\n       'dicarlo.BashivanKar2019.m_stretch_session_2_nat',\n       'dicarlo.BashivanKar2019.n_stretch_session_1_nat',\n       'dicarlo.BashivanKar2019.n_stretch_session_2_nat',\n       'dicarlo.BashivanKar2019.s_ohp_session_1_nat',\n       'dicarlo.BashivanKar2019.s_stretch_session_1_nat',\n       'dicarlo.BashivanKar2019.m_ohp_session_1_synth',\n       'dicarlo.BashivanKar2019.m_ohp_session_2_synth',\n       'dicarlo.BashivanKar2019.m_stretch_session_1_synth',\n       'dicarlo.BashivanKar2019.m_stretch_session_2_synth',\n       'dicarlo.BashivanKar2019.n_stretch_session_1_synth',\n       'dicarlo.BashivanKar2019.n_stretch_session_2_synth',\n       'dicarlo.BashivanKar2019.s_ohp_session_1_synth',\n       'dicarlo.BashivanKar2019.s_stretch_session_1_synth'], dtype=object)"
          },
          "metadata": {}
        }
      ],
      "execution_count": 6,
      "metadata": {
        "collapsed": true,
        "jupyter": {
          "source_hidden": false,
          "outputs_hidden": false
        },
        "nteract": {
          "transient": {
            "deleting": false
          }
        },
        "execution": {
          "iopub.status.busy": "2021-01-19T22:57:23.566Z",
          "iopub.execute_input": "2021-01-19T22:57:23.589Z",
          "iopub.status.idle": "2021-01-19T22:57:23.637Z",
          "shell.execute_reply": "2021-01-19T22:57:23.661Z"
        }
      }
    },
    {
      "cell_type": "code",
      "source": [
        "for stage in [(\"naturalistic\", \"nat\"), (\"synthetic\", \"synth\")]:\n",
        "  for monkey in h5.root.neural[stage[0]]:\n",
        "    for setting in monkey:\n",
        "      for session in setting: \n",
        "          print(f\"pytest.param('dicarlo.BashivanKar2019.{monkey._v_name[-1]}_{setting._v_name}_{session._v_name}_{stage[1]}', ({session.shape[0]*session.shape[1]}, {session.shape[2]}, 1), marks=[pytest.mark.private_access]),\")"
      ],
      "outputs": [
        {
          "output_type": "stream",
          "name": "stdout",
          "text": [
            "pytest.param('dicarlo.BashivanKar2019.m_ohp_session_1_nat', (24320, 39, 1), marks=[pytest.mark.private_access]),\n",
            "pytest.param('dicarlo.BashivanKar2019.m_ohp_session_2_nat', (23040, 38, 1), marks=[pytest.mark.private_access]),\n",
            "pytest.param('dicarlo.BashivanKar2019.m_stretch_session_1_nat', (24320, 39, 1), marks=[pytest.mark.private_access]),\n",
            "pytest.param('dicarlo.BashivanKar2019.m_stretch_session_2_nat', (23040, 52, 1), marks=[pytest.mark.private_access]),\n",
            "pytest.param('dicarlo.BashivanKar2019.n_stretch_session_1_nat', (21760, 20, 1), marks=[pytest.mark.private_access]),\n",
            "pytest.param('dicarlo.BashivanKar2019.n_stretch_session_2_nat', (21760, 1, 1), marks=[pytest.mark.private_access]),\n",
            "pytest.param('dicarlo.BashivanKar2019.s_ohp_session_1_nat', (21120, 22, 1), marks=[pytest.mark.private_access]),\n",
            "pytest.param('dicarlo.BashivanKar2019.s_stretch_session_1_nat', (21120, 22, 1), marks=[pytest.mark.private_access]),\n",
            "pytest.param('dicarlo.BashivanKar2019.m_ohp_session_1_synth', (2550, 39, 1), marks=[pytest.mark.private_access]),\n",
            "pytest.param('dicarlo.BashivanKar2019.m_ohp_session_2_synth', (1800, 38, 1), marks=[pytest.mark.private_access]),\n",
            "pytest.param('dicarlo.BashivanKar2019.m_stretch_session_1_synth', (2550, 39, 1), marks=[pytest.mark.private_access]),\n",
            "pytest.param('dicarlo.BashivanKar2019.m_stretch_session_2_synth', (2640, 52, 1), marks=[pytest.mark.private_access]),\n",
            "pytest.param('dicarlo.BashivanKar2019.n_stretch_session_1_synth', (2790, 20, 1), marks=[pytest.mark.private_access]),\n",
            "pytest.param('dicarlo.BashivanKar2019.n_stretch_session_2_synth', (100, 1, 1), marks=[pytest.mark.private_access]),\n",
            "pytest.param('dicarlo.BashivanKar2019.s_ohp_session_1_synth', (4465, 22, 1), marks=[pytest.mark.private_access]),\n",
            "pytest.param('dicarlo.BashivanKar2019.s_stretch_session_1_synth', (4465, 22, 1), marks=[pytest.mark.private_access]),\n"
          ]
        }
      ],
      "execution_count": 95,
      "metadata": {
        "collapsed": true,
        "jupyter": {
          "source_hidden": false,
          "outputs_hidden": false
        },
        "nteract": {
          "transient": {
            "deleting": false
          }
        },
        "execution": {
          "iopub.status.busy": "2020-08-24T05:45:46.641Z",
          "iopub.execute_input": "2020-08-24T05:45:46.662Z",
          "iopub.status.idle": "2020-08-24T05:45:46.707Z",
          "shell.execute_reply": "2020-08-24T05:45:46.728Z"
        }
      }
    },
    {
      "cell_type": "code",
      "source": [
        "from brainio_collection import get_assembly"
      ],
      "outputs": [
        {
          "output_type": "stream",
          "name": "stdout",
          "text": [
            "Loading lookup from /Users/jjpr/dev/brainio_collection/brainio_collection/lookup.csv\n"
          ]
        }
      ],
      "execution_count": 1,
      "metadata": {
        "collapsed": true,
        "jupyter": {
          "source_hidden": false,
          "outputs_hidden": false
        },
        "nteract": {
          "transient": {
            "deleting": false
          }
        },
        "execution": {
          "iopub.status.busy": "2021-01-19T20:54:08.374Z",
          "iopub.execute_input": "2021-01-19T20:54:08.397Z",
          "iopub.status.idle": "2021-01-19T20:54:11.862Z",
          "shell.execute_reply": "2021-01-19T20:54:11.896Z"
        }
      }
    },
    {
      "cell_type": "code",
      "source": [
        "mo1n = get_assembly(\"dicarlo.BashivanKar2019.m_ohp_session_1_nat\")\n",
        "mo1n"
      ],
      "outputs": [
        {
          "output_type": "stream",
          "name": "stderr",
          "text": [
            "/Users/jjpr/anaconda/envs/brainio_contrib/lib/python3.7/site-packages/xarray/core/dataarray.py:217: FutureWarning: The Panel class is removed from pandas. Accessing it from the top-level namespace will also be removed in the next version\n",
            "  elif isinstance(data, pd.Panel):\n",
            "/Users/jjpr/dev/brainio_base/brainio_base/assemblies.py:213: FutureWarning: The inplace argument has been deprecated and will be removed in xarray 0.12.0.\n",
            "  xr_data.set_index(append=True, inplace=True, **coords_d)\n",
            "/Users/jjpr/anaconda/envs/brainio_contrib/lib/python3.7/site-packages/xarray/core/dataset.py:167: FutureWarning: the 'labels' keyword is deprecated, use 'codes' instead\n",
            "  idx = pd.MultiIndex(labels=labels, levels=levels, names=names)\n"
          ]
        },
        {
          "output_type": "execute_result",
          "execution_count": 92,
          "data": {
            "text/plain": "<xarray.NeuronRecordingAssembly 'dicarlo.BashivanKar2019.m_ohp_session_1_nat' (presentation: 24320, neuroid: 39, time_bin: 1)>\narray([[[-0.117862],\n        [ 0.049042],\n        ...,\n        [-0.05465 ],\n        [-0.874225]],\n\n       [[ 0.855779],\n        [-0.43881 ],\n        ...,\n        [-0.644619],\n        [ 0.115542]],\n\n       ...,\n\n       [[-0.117862],\n        [ 0.902783],\n        ...,\n        [-0.447962],\n        [ 0.214519]],\n\n       [[ 0.125548],\n        [ 1.024746],\n        ...,\n        [-0.447962],\n        [-0.676272]]])\nCoordinates:\n  * presentation      (presentation) MultiIndex\n  - repetition_index  (presentation) int64 0 1 2 3 4 5 6 ... 24 25 26 27 28 29\n  - image_id          (presentation) object 'a5ca287ed63a8a1712acd20685744cdb6e96cba5' ... 'a5ca287ed63a8a1712acd20685744cdb6e96cba5'\n  - repetition        (presentation) int64 0 1 2 3 4 5 6 ... 24 25 26 27 28 29\n  - image_index       (presentation) int64 0 0 0 0 0 0 0 0 0 ... 0 0 0 0 0 0 0 0\n  - filename          (presentation) object 'a5ca287ed63a8a1712acd20685744cdb6e96cba5.png' ... 'a5ca287ed63a8a1712acd20685744cdb6e96cba5.png'\n  * neuroid           (neuroid) MultiIndex\n  - neuroid_id        (neuroid) object 'm_ohp_1_0' 'm_ohp_1_1' ... 'm_ohp_1_29'\n  - animal            (neuroid) object 'monkey_m' 'monkey_m' ... 'monkey_m'\n  - setting           (neuroid) object 'ohp' 'ohp' 'ohp' ... 'ohp' 'ohp' 'ohp'\n  - session           (neuroid) object 'session_1' 'session_1' ... 'session_1'\n  - neuroid_index     (neuroid) int64 0 1 2 3 4 5 6 7 ... 23 24 25 26 27 28 29\n  - is_target         (neuroid) int64 0 0 0 0 0 0 0 0 0 0 ... 0 0 0 0 0 0 0 0 0\n  * time_bin          (time_bin) MultiIndex\n  - time_bin_start    (time_bin) int64 70\n  - time_bin_end      (time_bin) int64 170\nAttributes:\n    stimulus_set_identifier:  dicarlo.BashivanKar2019.naturalistic\n    stimulus_set:                                                  image_id  ...\n    identifier:               dicarlo.BashivanKar2019.m_ohp_session_1_nat"
          },
          "metadata": {}
        }
      ],
      "execution_count": 92,
      "metadata": {
        "collapsed": true,
        "jupyter": {
          "source_hidden": false,
          "outputs_hidden": false
        },
        "nteract": {
          "transient": {
            "deleting": false
          }
        },
        "execution": {
          "iopub.status.busy": "2020-08-24T05:38:09.335Z",
          "iopub.execute_input": "2020-08-24T05:38:09.354Z",
          "iopub.status.idle": "2020-08-24T05:38:10.235Z",
          "shell.execute_reply": "2020-08-24T05:38:10.294Z"
        }
      }
    },
    {
      "cell_type": "code",
      "source": [
        "bk19syn = get_stimulus_set(\"dicarlo.BashivanKar2019.synthetic\")\n",
        "bk19syn"
      ],
      "outputs": [
        {
          "output_type": "execute_result",
          "execution_count": 2,
          "data": {
            "text/plain": "                                     image_id  image_index  \\\n0    33ca8ceef160d93d204121f09ea4b49c582a4abe            0   \n1    073f80dd7f30c32888460eaaa287c12284fb30f9            1   \n2    310feef7c4da3e638b3fa8a3bb016bc9f05d2e74            2   \n3    c3f3a5a10ed15fb7b8a7442f060dbcb48e3411e7            3   \n4    f5d83ad68c681be1cd967baa3c01257165f06b43            4   \n..                                        ...          ...   \n505  f90a1b30631f80825fb69225ebb27f3b4808de31           90   \n506  200bcdd8934ed30db6cc8b3fa99ad3274285ed7b           91   \n507  eaf63cdbd2b0c5aa82e01e4aca1e104c93077040           92   \n508  365a65f83be86f359021837cbd25502596047da5           93   \n509  041d4bd57e069b74d060d82292002aae967a56ee           94   \n\n                                         filename  setting    animal  \\\n0    33ca8ceef160d93d204121f09ea4b49c582a4abe.png      ohp  monkey_m   \n1    073f80dd7f30c32888460eaaa287c12284fb30f9.png      ohp  monkey_m   \n2    310feef7c4da3e638b3fa8a3bb016bc9f05d2e74.png      ohp  monkey_m   \n3    c3f3a5a10ed15fb7b8a7442f060dbcb48e3411e7.png      ohp  monkey_m   \n4    f5d83ad68c681be1cd967baa3c01257165f06b43.png      ohp  monkey_m   \n..                                            ...      ...       ...   \n505  f90a1b30631f80825fb69225ebb27f3b4808de31.png  stretch  monkey_s   \n506  200bcdd8934ed30db6cc8b3fa99ad3274285ed7b.png  stretch  monkey_s   \n507  eaf63cdbd2b0c5aa82e01e4aca1e104c93077040.png  stretch  monkey_s   \n508  365a65f83be86f359021837cbd25502596047da5.png  stretch  monkey_s   \n509  041d4bd57e069b74d060d82292002aae967a56ee.png  stretch  monkey_s   \n\n       session  \n0    session_1  \n1    session_1  \n2    session_1  \n3    session_1  \n4    session_1  \n..         ...  \n505  session_1  \n506  session_1  \n507  session_1  \n508  session_1  \n509  session_1  \n\n[510 rows x 6 columns]",
            "text/html": "<div>\n<style scoped>\n    .dataframe tbody tr th:only-of-type {\n        vertical-align: middle;\n    }\n\n    .dataframe tbody tr th {\n        vertical-align: top;\n    }\n\n    .dataframe thead th {\n        text-align: right;\n    }\n</style>\n<table border=\"1\" class=\"dataframe\">\n  <thead>\n    <tr style=\"text-align: right;\">\n      <th></th>\n      <th>image_id</th>\n      <th>image_index</th>\n      <th>filename</th>\n      <th>setting</th>\n      <th>animal</th>\n      <th>session</th>\n    </tr>\n  </thead>\n  <tbody>\n    <tr>\n      <th>0</th>\n      <td>33ca8ceef160d93d204121f09ea4b49c582a4abe</td>\n      <td>0</td>\n      <td>33ca8ceef160d93d204121f09ea4b49c582a4abe.png</td>\n      <td>ohp</td>\n      <td>monkey_m</td>\n      <td>session_1</td>\n    </tr>\n    <tr>\n      <th>1</th>\n      <td>073f80dd7f30c32888460eaaa287c12284fb30f9</td>\n      <td>1</td>\n      <td>073f80dd7f30c32888460eaaa287c12284fb30f9.png</td>\n      <td>ohp</td>\n      <td>monkey_m</td>\n      <td>session_1</td>\n    </tr>\n    <tr>\n      <th>2</th>\n      <td>310feef7c4da3e638b3fa8a3bb016bc9f05d2e74</td>\n      <td>2</td>\n      <td>310feef7c4da3e638b3fa8a3bb016bc9f05d2e74.png</td>\n      <td>ohp</td>\n      <td>monkey_m</td>\n      <td>session_1</td>\n    </tr>\n    <tr>\n      <th>3</th>\n      <td>c3f3a5a10ed15fb7b8a7442f060dbcb48e3411e7</td>\n      <td>3</td>\n      <td>c3f3a5a10ed15fb7b8a7442f060dbcb48e3411e7.png</td>\n      <td>ohp</td>\n      <td>monkey_m</td>\n      <td>session_1</td>\n    </tr>\n    <tr>\n      <th>4</th>\n      <td>f5d83ad68c681be1cd967baa3c01257165f06b43</td>\n      <td>4</td>\n      <td>f5d83ad68c681be1cd967baa3c01257165f06b43.png</td>\n      <td>ohp</td>\n      <td>monkey_m</td>\n      <td>session_1</td>\n    </tr>\n    <tr>\n      <th>...</th>\n      <td>...</td>\n      <td>...</td>\n      <td>...</td>\n      <td>...</td>\n      <td>...</td>\n      <td>...</td>\n    </tr>\n    <tr>\n      <th>505</th>\n      <td>f90a1b30631f80825fb69225ebb27f3b4808de31</td>\n      <td>90</td>\n      <td>f90a1b30631f80825fb69225ebb27f3b4808de31.png</td>\n      <td>stretch</td>\n      <td>monkey_s</td>\n      <td>session_1</td>\n    </tr>\n    <tr>\n      <th>506</th>\n      <td>200bcdd8934ed30db6cc8b3fa99ad3274285ed7b</td>\n      <td>91</td>\n      <td>200bcdd8934ed30db6cc8b3fa99ad3274285ed7b.png</td>\n      <td>stretch</td>\n      <td>monkey_s</td>\n      <td>session_1</td>\n    </tr>\n    <tr>\n      <th>507</th>\n      <td>eaf63cdbd2b0c5aa82e01e4aca1e104c93077040</td>\n      <td>92</td>\n      <td>eaf63cdbd2b0c5aa82e01e4aca1e104c93077040.png</td>\n      <td>stretch</td>\n      <td>monkey_s</td>\n      <td>session_1</td>\n    </tr>\n    <tr>\n      <th>508</th>\n      <td>365a65f83be86f359021837cbd25502596047da5</td>\n      <td>93</td>\n      <td>365a65f83be86f359021837cbd25502596047da5.png</td>\n      <td>stretch</td>\n      <td>monkey_s</td>\n      <td>session_1</td>\n    </tr>\n    <tr>\n      <th>509</th>\n      <td>041d4bd57e069b74d060d82292002aae967a56ee</td>\n      <td>94</td>\n      <td>041d4bd57e069b74d060d82292002aae967a56ee.png</td>\n      <td>stretch</td>\n      <td>monkey_s</td>\n      <td>session_1</td>\n    </tr>\n  </tbody>\n</table>\n<p>510 rows × 6 columns</p>\n</div>"
          },
          "metadata": {}
        }
      ],
      "execution_count": 2,
      "metadata": {
        "collapsed": true,
        "jupyter": {
          "source_hidden": false,
          "outputs_hidden": false
        },
        "nteract": {
          "transient": {
            "deleting": false
          }
        },
        "execution": {
          "iopub.status.busy": "2020-09-02T19:26:45.623Z",
          "iopub.execute_input": "2020-09-02T19:26:45.643Z",
          "iopub.status.idle": "2020-09-02T19:26:45.682Z",
          "shell.execute_reply": "2020-09-02T19:26:45.729Z"
        }
      }
    },
    {
      "cell_type": "code",
      "source": [
        "bk19nat = get_stimulus_set(\"dicarlo.BashivanKar2019.naturalistic\")\n",
        "bk19nat"
      ],
      "outputs": [
        {
          "output_type": "execute_result",
          "execution_count": 3,
          "data": {
            "text/plain": "                                     image_id  image_index  \\\n0    a5ca287ed63a8a1712acd20685744cdb6e96cba5            0   \n1    06fc797aecd8c4baa55f7240bd2f81fc99c34676            1   \n2    79791f716c4cdd42f8e82a91f56b579d07b83485            2   \n3    400071b6ede4e8d15a851b9880714454909fda39            3   \n4    e47fd0be98d9177bd9f392d3a5fd6d4325641095            4   \n..                                        ...          ...   \n635  3b6bcb2c4e5462d54b96b2bff622743b450e1ba7          635   \n636  5a17149822d473e51eaad08c3abf140a70ca3b32          636   \n637  24fa29575bd6ec26db1ef6f21f292ae30cfa2ad8          637   \n638  7c88e08733a470f02c6e3d6fae7f5a6c6d91089e          638   \n639  1d30891e8c7edd7b2181ffab1c569c9731bc7ceb          639   \n\n                                         filename  \n0    a5ca287ed63a8a1712acd20685744cdb6e96cba5.png  \n1    06fc797aecd8c4baa55f7240bd2f81fc99c34676.png  \n2    79791f716c4cdd42f8e82a91f56b579d07b83485.png  \n3    400071b6ede4e8d15a851b9880714454909fda39.png  \n4    e47fd0be98d9177bd9f392d3a5fd6d4325641095.png  \n..                                            ...  \n635  3b6bcb2c4e5462d54b96b2bff622743b450e1ba7.png  \n636  5a17149822d473e51eaad08c3abf140a70ca3b32.png  \n637  24fa29575bd6ec26db1ef6f21f292ae30cfa2ad8.png  \n638  7c88e08733a470f02c6e3d6fae7f5a6c6d91089e.png  \n639  1d30891e8c7edd7b2181ffab1c569c9731bc7ceb.png  \n\n[640 rows x 3 columns]",
            "text/html": "<div>\n<style scoped>\n    .dataframe tbody tr th:only-of-type {\n        vertical-align: middle;\n    }\n\n    .dataframe tbody tr th {\n        vertical-align: top;\n    }\n\n    .dataframe thead th {\n        text-align: right;\n    }\n</style>\n<table border=\"1\" class=\"dataframe\">\n  <thead>\n    <tr style=\"text-align: right;\">\n      <th></th>\n      <th>image_id</th>\n      <th>image_index</th>\n      <th>filename</th>\n    </tr>\n  </thead>\n  <tbody>\n    <tr>\n      <th>0</th>\n      <td>a5ca287ed63a8a1712acd20685744cdb6e96cba5</td>\n      <td>0</td>\n      <td>a5ca287ed63a8a1712acd20685744cdb6e96cba5.png</td>\n    </tr>\n    <tr>\n      <th>1</th>\n      <td>06fc797aecd8c4baa55f7240bd2f81fc99c34676</td>\n      <td>1</td>\n      <td>06fc797aecd8c4baa55f7240bd2f81fc99c34676.png</td>\n    </tr>\n    <tr>\n      <th>2</th>\n      <td>79791f716c4cdd42f8e82a91f56b579d07b83485</td>\n      <td>2</td>\n      <td>79791f716c4cdd42f8e82a91f56b579d07b83485.png</td>\n    </tr>\n    <tr>\n      <th>3</th>\n      <td>400071b6ede4e8d15a851b9880714454909fda39</td>\n      <td>3</td>\n      <td>400071b6ede4e8d15a851b9880714454909fda39.png</td>\n    </tr>\n    <tr>\n      <th>4</th>\n      <td>e47fd0be98d9177bd9f392d3a5fd6d4325641095</td>\n      <td>4</td>\n      <td>e47fd0be98d9177bd9f392d3a5fd6d4325641095.png</td>\n    </tr>\n    <tr>\n      <th>...</th>\n      <td>...</td>\n      <td>...</td>\n      <td>...</td>\n    </tr>\n    <tr>\n      <th>635</th>\n      <td>3b6bcb2c4e5462d54b96b2bff622743b450e1ba7</td>\n      <td>635</td>\n      <td>3b6bcb2c4e5462d54b96b2bff622743b450e1ba7.png</td>\n    </tr>\n    <tr>\n      <th>636</th>\n      <td>5a17149822d473e51eaad08c3abf140a70ca3b32</td>\n      <td>636</td>\n      <td>5a17149822d473e51eaad08c3abf140a70ca3b32.png</td>\n    </tr>\n    <tr>\n      <th>637</th>\n      <td>24fa29575bd6ec26db1ef6f21f292ae30cfa2ad8</td>\n      <td>637</td>\n      <td>24fa29575bd6ec26db1ef6f21f292ae30cfa2ad8.png</td>\n    </tr>\n    <tr>\n      <th>638</th>\n      <td>7c88e08733a470f02c6e3d6fae7f5a6c6d91089e</td>\n      <td>638</td>\n      <td>7c88e08733a470f02c6e3d6fae7f5a6c6d91089e.png</td>\n    </tr>\n    <tr>\n      <th>639</th>\n      <td>1d30891e8c7edd7b2181ffab1c569c9731bc7ceb</td>\n      <td>639</td>\n      <td>1d30891e8c7edd7b2181ffab1c569c9731bc7ceb.png</td>\n    </tr>\n  </tbody>\n</table>\n<p>640 rows × 3 columns</p>\n</div>"
          },
          "metadata": {}
        }
      ],
      "execution_count": 3,
      "metadata": {
        "collapsed": true,
        "jupyter": {
          "source_hidden": false,
          "outputs_hidden": false
        },
        "nteract": {
          "transient": {
            "deleting": false
          }
        },
        "execution": {
          "iopub.status.busy": "2020-09-02T19:28:04.731Z",
          "iopub.execute_input": "2020-09-02T19:28:04.751Z",
          "iopub.status.idle": "2020-09-02T19:28:04.825Z",
          "shell.execute_reply": "2020-09-02T19:28:04.872Z"
        }
      }
    },
    {
      "cell_type": "code",
      "source": [
        "bk19_assy_names = [name for name in list_assemblies() if \"BashivanKar2019\" in name]\n",
        "bk19_assy_names"
      ],
      "outputs": [
        {
          "output_type": "execute_result",
          "execution_count": 3,
          "data": {
            "text/plain": "['dicarlo.BashivanKar2019.m_ohp_session_1_nat',\n 'dicarlo.BashivanKar2019.m_ohp_session_2_nat',\n 'dicarlo.BashivanKar2019.m_stretch_session_1_nat',\n 'dicarlo.BashivanKar2019.m_stretch_session_2_nat',\n 'dicarlo.BashivanKar2019.n_stretch_session_1_nat',\n 'dicarlo.BashivanKar2019.n_stretch_session_2_nat',\n 'dicarlo.BashivanKar2019.s_ohp_session_1_nat',\n 'dicarlo.BashivanKar2019.s_stretch_session_1_nat',\n 'dicarlo.BashivanKar2019.m_ohp_session_1_synth',\n 'dicarlo.BashivanKar2019.m_ohp_session_2_synth',\n 'dicarlo.BashivanKar2019.m_stretch_session_1_synth',\n 'dicarlo.BashivanKar2019.m_stretch_session_2_synth',\n 'dicarlo.BashivanKar2019.n_stretch_session_1_synth',\n 'dicarlo.BashivanKar2019.n_stretch_session_2_synth',\n 'dicarlo.BashivanKar2019.s_ohp_session_1_synth',\n 'dicarlo.BashivanKar2019.s_stretch_session_1_synth']"
          },
          "metadata": {}
        }
      ],
      "execution_count": 3,
      "metadata": {
        "collapsed": true,
        "jupyter": {
          "source_hidden": false,
          "outputs_hidden": false
        },
        "nteract": {
          "transient": {
            "deleting": false
          }
        },
        "execution": {
          "iopub.status.busy": "2021-01-19T20:54:54.037Z",
          "iopub.execute_input": "2021-01-19T20:54:54.063Z",
          "iopub.status.idle": "2021-01-19T20:54:54.113Z",
          "shell.execute_reply": "2021-01-19T20:54:54.136Z"
        }
      }
    },
    {
      "cell_type": "code",
      "source": [
        "bk19_assys = {name: get_assembly(name) for name in bk19_assy_names}\n",
        "bk19_assys"
      ],
      "outputs": [
        {
          "output_type": "stream",
          "name": "stderr",
          "text": [
            "brainio.dicarlo/assy_dicarlo_BashivanKar2019_m_ohp_session_1_nat.nc: 100%|██████████| 9.76M/9.76M [00:03<00:00, 3.09MB/s]\n",
            "brainio.dicarlo/image_dicarlo_BashivanKar2019_naturalistic.csv: 100%|██████████| 57.5k/57.5k [00:00<00:00, 439kB/s]\n",
            "brainio.dicarlo/image_dicarlo_BashivanKar2019_naturalistic.zip: 100%|██████████| 20.0M/20.0M [00:10<00:00, 1.91MB/s]\n",
            "brainio.dicarlo/assy_dicarlo_BashivanKar2019_m_ohp_session_2_nat.nc: 100%|██████████| 9.07M/9.07M [00:02<00:00, 3.11MB/s]\n",
            "brainio.dicarlo/assy_dicarlo_BashivanKar2019_m_stretch_session_1_nat.nc: 100%|██████████| 9.76M/9.76M [00:03<00:00, 3.00MB/s]\n",
            "brainio.dicarlo/assy_dicarlo_BashivanKar2019_m_stretch_session_2_nat.nc: 100%|██████████| 11.7M/11.7M [00:03<00:00, 2.99MB/s]\n",
            "brainio.dicarlo/assy_dicarlo_BashivanKar2019_n_stretch_session_1_nat.nc: 100%|██████████| 5.44M/5.44M [00:01<00:00, 3.05MB/s]\n",
            "brainio.dicarlo/assy_dicarlo_BashivanKar2019_n_stretch_session_2_nat.nc: 100%|██████████| 2.13M/2.13M [00:00<00:00, 2.76MB/s]\n",
            "brainio.dicarlo/assy_dicarlo_BashivanKar2019_s_ohp_session_1_nat.nc: 100%|██████████| 5.59M/5.59M [00:01<00:00, 2.94MB/s]\n",
            "brainio.dicarlo/assy_dicarlo_BashivanKar2019_s_stretch_session_1_nat.nc: 100%|██████████| 5.59M/5.59M [00:01<00:00, 3.02MB/s]\n",
            "brainio.dicarlo/assy_dicarlo_BashivanKar2019_m_ohp_session_1_synth.nc: 100%|██████████| 1.04M/1.04M [00:00<00:00, 2.12MB/s]\n",
            "brainio.dicarlo/image_dicarlo_BashivanKar2019_synthetic.csv: 100%|██████████| 58.4k/58.4k [00:00<00:00, 419kB/s]\n",
            "brainio.dicarlo/image_dicarlo_BashivanKar2019_synthetic.zip: 100%|██████████| 7.28M/7.28M [00:02<00:00, 2.95MB/s]\n",
            "brainio.dicarlo/assy_dicarlo_BashivanKar2019_m_ohp_session_2_synth.nc: 100%|██████████| 724k/724k [00:00<00:00, 1.19MB/s]\n",
            "brainio.dicarlo/assy_dicarlo_BashivanKar2019_m_stretch_session_1_synth.nc: 100%|██████████| 1.04M/1.04M [00:00<00:00, 1.43MB/s]\n",
            "brainio.dicarlo/assy_dicarlo_BashivanKar2019_m_stretch_session_2_synth.nc: 100%|██████████| 1.35M/1.35M [00:00<00:00, 2.34MB/s]\n",
            "brainio.dicarlo/assy_dicarlo_BashivanKar2019_n_stretch_session_1_synth.nc: 100%|██████████| 714k/714k [00:00<00:00, 1.18MB/s]\n",
            "brainio.dicarlo/assy_dicarlo_BashivanKar2019_n_stretch_session_2_synth.nc: 100%|██████████| 21.4k/21.4k [00:00<00:00, 184kB/s]\n",
            "brainio.dicarlo/assy_dicarlo_BashivanKar2019_s_ohp_session_1_synth.nc: 100%|██████████| 1.21M/1.21M [00:00<00:00, 1.52MB/s]\n",
            "brainio.dicarlo/assy_dicarlo_BashivanKar2019_s_stretch_session_1_synth.nc: 100%|██████████| 1.21M/1.21M [00:00<00:00, 1.66MB/s]\n"
          ]
        },
        {
          "output_type": "execute_result",
          "execution_count": 4,
          "data": {
            "text/plain": "{'dicarlo.BashivanKar2019.m_ohp_session_1_nat': <xarray.NeuronRecordingAssembly 'dicarlo.BashivanKar2019.m_ohp_session_1_nat' (presentation: 24320, neuroid: 39, time_bin: 1)>\n array([[[-0.11786183],\n         [ 0.04904198],\n         [ 0.56265136],\n         ...,\n         [ 0.2156809 ],\n         [-0.05464976],\n         [-0.87422499]],\n \n        [[ 0.85577937],\n         [-0.43881017],\n         [-0.58192849],\n         ...,\n         [-0.89875423],\n         [-0.6446187 ],\n         [ 0.11554231]],\n \n        [[ 1.09918967],\n         [-0.80469927],\n         [-0.12409655],\n         ...,\n ...\n         ...,\n         [-0.89875423],\n         [-0.05464976],\n         [-0.5772948 ]],\n \n        [[-0.11786183],\n         [ 0.90278323],\n         [-0.12409655],\n         ...,\n         [-0.42113917],\n         [-0.44796239],\n         [ 0.21451904]],\n \n        [[ 0.12554847],\n         [ 1.02474627],\n         [-0.35301252],\n         ...,\n         [-0.89875423],\n         [-0.44796239],\n         [-0.67627153]]])\n Coordinates:\n   * presentation      (presentation) MultiIndex\n   - repetition_index  (presentation) int64 0 1 2 3 4 5 6 ... 32 33 34 35 36 37\n   - image_id          (presentation) object 'a5ca287ed63a8a1712acd20685744cdb...\n   - repetition        (presentation) int64 0 1 2 3 4 5 6 ... 32 33 34 35 36 37\n   - image_index       (presentation) int64 0 0 0 0 0 0 ... 639 639 639 639 639\n   - filename          (presentation) object 'a5ca287ed63a8a1712acd20685744cdb...\n   * neuroid           (neuroid) MultiIndex\n   - neuroid_id        (neuroid) object 'm_ohp_1_0' 'm_ohp_1_1' ... 'm_ohp_1_38'\n   - animal            (neuroid) object 'monkey_m' 'monkey_m' ... 'monkey_m'\n   - setting           (neuroid) object 'ohp' 'ohp' 'ohp' ... 'ohp' 'ohp' 'ohp'\n   - session           (neuroid) object 'session_1' 'session_1' ... 'session_1'\n   - neuroid_index     (neuroid) int64 0 1 2 3 4 5 6 7 ... 32 33 34 35 36 37 38\n   - is_target         (neuroid) int64 0 0 0 0 0 0 0 0 0 0 ... 0 1 0 0 0 0 0 0 0\n   * time_bin          (time_bin) MultiIndex\n   - time_bin_start    (time_bin) int64 70\n   - time_bin_end      (time_bin) int64 170\n Attributes:\n     stimulus_set_identifier:  dicarlo.BashivanKar2019.naturalistic\n     stimulus_set:                                                  image_id  ...\n     identifier:               dicarlo.BashivanKar2019.m_ohp_session_1_nat,\n 'dicarlo.BashivanKar2019.m_ohp_session_2_nat': <xarray.NeuronRecordingAssembly 'dicarlo.BashivanKar2019.m_ohp_session_2_nat' (presentation: 23040, neuroid: 38, time_bin: 1)>\n array([[[-1.01752473],\n         [ 0.32806625],\n         [ 2.64124085],\n         ...,\n         [-1.4961274 ],\n         [ 2.70566705],\n         [-0.35466163]],\n \n        [[-1.76668835],\n         [-0.51871242],\n         [ 0.08506273],\n         ...,\n         [ 0.48113348],\n         [-1.06824941],\n         [ 0.22002157]],\n \n        [[-1.20481563],\n         [-0.68806815],\n         [ 1.13760667],\n         ...,\n ...\n         ...,\n         [ 1.28343654],\n         [-0.88749534],\n         [ 0.39134357]],\n \n        [[ 0.75537673],\n         [ 0.51212095],\n         [-0.31239004],\n         ...,\n         [-0.74571214],\n         [ 1.74341969],\n         [ 0.39134357]],\n \n        [[ 1.92262555],\n         [ 2.00045133],\n         [ 0.33171314],\n         ...,\n         [ 1.11434082],\n         [ 1.74341969],\n         [-0.68083059]]])\n Coordinates:\n   * presentation      (presentation) MultiIndex\n   - repetition_index  (presentation) int64 0 1 2 3 4 5 6 ... 30 31 32 33 34 35\n   - image_id          (presentation) object 'a5ca287ed63a8a1712acd20685744cdb...\n   - repetition        (presentation) int64 0 1 2 3 4 5 6 ... 30 31 32 33 34 35\n   - image_index       (presentation) int64 0 0 0 0 0 0 ... 639 639 639 639 639\n   - filename          (presentation) object 'a5ca287ed63a8a1712acd20685744cdb...\n   * neuroid           (neuroid) MultiIndex\n   - neuroid_id        (neuroid) object 'm_ohp_2_0' 'm_ohp_2_1' ... 'm_ohp_2_37'\n   - animal            (neuroid) object 'monkey_m' 'monkey_m' ... 'monkey_m'\n   - setting           (neuroid) object 'ohp' 'ohp' 'ohp' ... 'ohp' 'ohp' 'ohp'\n   - session           (neuroid) object 'session_2' 'session_2' ... 'session_2'\n   - neuroid_index     (neuroid) int64 0 1 2 3 4 5 6 7 ... 31 32 33 34 35 36 37\n   - is_target         (neuroid) int64 1 0 1 0 0 1 1 1 0 0 ... 0 0 0 0 0 0 0 0 0\n   * time_bin          (time_bin) MultiIndex\n   - time_bin_start    (time_bin) int64 70\n   - time_bin_end      (time_bin) int64 170\n Attributes:\n     stimulus_set_identifier:  dicarlo.BashivanKar2019.naturalistic\n     stimulus_set:                                                  image_id  ...\n     identifier:               dicarlo.BashivanKar2019.m_ohp_session_2_nat,\n 'dicarlo.BashivanKar2019.m_stretch_session_1_nat': <xarray.NeuronRecordingAssembly 'dicarlo.BashivanKar2019.m_stretch_session_1_nat' (presentation: 24320, neuroid: 39, time_bin: 1)>\n array([[[-0.11786183],\n         [ 0.04904198],\n         [ 0.56265136],\n         ...,\n         [ 0.2156809 ],\n         [-0.05464976],\n         [-0.87422499]],\n \n        [[ 0.85577937],\n         [-0.43881017],\n         [-0.58192849],\n         ...,\n         [-0.89875423],\n         [-0.6446187 ],\n         [ 0.11554231]],\n \n        [[ 1.09918967],\n         [-0.80469927],\n         [-0.12409655],\n         ...,\n ...\n         ...,\n         [-0.89875423],\n         [-0.05464976],\n         [-0.5772948 ]],\n \n        [[-0.11786183],\n         [ 0.90278323],\n         [-0.12409655],\n         ...,\n         [-0.42113917],\n         [-0.44796239],\n         [ 0.21451904]],\n \n        [[ 0.12554847],\n         [ 1.02474627],\n         [-0.35301252],\n         ...,\n         [-0.89875423],\n         [-0.44796239],\n         [-0.67627153]]])\n Coordinates:\n   * presentation      (presentation) MultiIndex\n   - repetition_index  (presentation) int64 0 1 2 3 4 5 6 ... 32 33 34 35 36 37\n   - image_id          (presentation) object 'a5ca287ed63a8a1712acd20685744cdb...\n   - repetition        (presentation) int64 0 1 2 3 4 5 6 ... 32 33 34 35 36 37\n   - image_index       (presentation) int64 0 0 0 0 0 0 ... 639 639 639 639 639\n   - filename          (presentation) object 'a5ca287ed63a8a1712acd20685744cdb...\n   * neuroid           (neuroid) MultiIndex\n   - neuroid_id        (neuroid) object 'm_stretch_1_0' ... 'm_stretch_1_38'\n   - animal            (neuroid) object 'monkey_m' 'monkey_m' ... 'monkey_m'\n   - setting           (neuroid) object 'stretch' 'stretch' ... 'stretch'\n   - session           (neuroid) object 'session_1' 'session_1' ... 'session_1'\n   - neuroid_index     (neuroid) int64 0 1 2 3 4 5 6 7 ... 32 33 34 35 36 37 38\n   - is_target         (neuroid) int64 0 0 0 0 0 0 0 0 0 0 ... 0 1 0 0 0 0 0 0 0\n   * time_bin          (time_bin) MultiIndex\n   - time_bin_start    (time_bin) int64 70\n   - time_bin_end      (time_bin) int64 170\n Attributes:\n     stimulus_set_identifier:  dicarlo.BashivanKar2019.naturalistic\n     stimulus_set:                                                  image_id  ...\n     identifier:               dicarlo.BashivanKar2019.m_stretch_session_1_nat,\n 'dicarlo.BashivanKar2019.m_stretch_session_2_nat': <xarray.NeuronRecordingAssembly 'dicarlo.BashivanKar2019.m_stretch_session_2_nat' (presentation: 23040, neuroid: 52, time_bin: 1)>\n array([[[-1.01752473],\n         [ 2.81185662],\n         [ 0.32806625],\n         ...,\n         [-1.87369821],\n         [-0.39759216],\n         [-0.35466163]],\n \n        [[-1.76668835],\n         [ 1.07134628],\n         [-0.51871242],\n         ...,\n         [-2.56950126],\n         [-1.57689092],\n         [ 0.22002157]],\n \n        [[-1.20481563],\n         [-0.45160027],\n         [-0.68806815],\n         ...,\n ...\n         ...,\n         [ 4.43664328],\n         [-2.45046215],\n         [ 0.39134357]],\n \n        [[ 0.75537673],\n         [ 0.10277588],\n         [ 0.51212095],\n         ...,\n         [-1.59477901],\n         [-1.06992009],\n         [ 0.39134357]],\n \n        [[ 1.92262555],\n         [ 1.49972966],\n         [ 2.00045133],\n         ...,\n         [-0.88519992],\n         [ 0.31062196],\n         [-0.68083059]]])\n Coordinates:\n   * presentation      (presentation) MultiIndex\n   - repetition_index  (presentation) int64 0 1 2 3 4 5 6 ... 30 31 32 33 34 35\n   - image_id          (presentation) object 'a5ca287ed63a8a1712acd20685744cdb...\n   - repetition        (presentation) int64 0 1 2 3 4 5 6 ... 30 31 32 33 34 35\n   - image_index       (presentation) int64 0 0 0 0 0 0 ... 639 639 639 639 639\n   - filename          (presentation) object 'a5ca287ed63a8a1712acd20685744cdb...\n   * neuroid           (neuroid) MultiIndex\n   - neuroid_id        (neuroid) object 'm_stretch_2_0' ... 'm_stretch_2_51'\n   - animal            (neuroid) object 'monkey_m' 'monkey_m' ... 'monkey_m'\n   - setting           (neuroid) object 'stretch' 'stretch' ... 'stretch'\n   - session           (neuroid) object 'session_2' 'session_2' ... 'session_2'\n   - neuroid_index     (neuroid) int64 0 1 2 3 4 5 6 7 ... 45 46 47 48 49 50 51\n   - is_target         (neuroid) int64 1 0 1 0 0 1 1 1 0 0 ... 0 0 0 0 0 1 0 0 0\n   * time_bin          (time_bin) MultiIndex\n   - time_bin_start    (time_bin) int64 70\n   - time_bin_end      (time_bin) int64 170\n Attributes:\n     stimulus_set_identifier:  dicarlo.BashivanKar2019.naturalistic\n     stimulus_set:                                                  image_id  ...\n     identifier:               dicarlo.BashivanKar2019.m_stretch_session_2_nat,\n 'dicarlo.BashivanKar2019.n_stretch_session_1_nat': <xarray.NeuronRecordingAssembly 'dicarlo.BashivanKar2019.n_stretch_session_1_nat' (presentation: 21760, neuroid: 20, time_bin: 1)>\n array([[[-1.92662651],\n         [-1.77608875],\n         [-1.33246072],\n         ...,\n         [-2.26649039],\n         [-1.14696755],\n         [-2.56690244]],\n \n        [[ 0.24859697],\n         [-0.53580331],\n         [-1.77484475],\n         ...,\n         [ 1.85818881],\n         [ 0.44781492],\n         [-0.05956818]],\n \n        [[ 0.55934318],\n         [-1.77608875],\n         [-2.43842081],\n         ...,\n ...\n         ...,\n         [ 0.33569991],\n         [ 0.71580249],\n         [ 5.82924744]],\n \n        [[ 0.32948304],\n         [-1.99391701],\n         [-1.87154198],\n         ...,\n         [-0.91740388],\n         [ 3.05076305],\n         [-2.65253799]],\n \n        [[-3.37476417],\n         [-2.42977094],\n         [-2.46380209],\n         ...,\n         [-2.17050767],\n         [-1.08032103],\n         [-1.83172005]]])\n Coordinates:\n   * presentation      (presentation) MultiIndex\n   - repetition_index  (presentation) int64 0 1 2 3 4 5 6 ... 28 29 30 31 32 33\n   - image_id          (presentation) object 'a5ca287ed63a8a1712acd20685744cdb...\n   - repetition        (presentation) int64 0 1 2 3 4 5 6 ... 28 29 30 31 32 33\n   - image_index       (presentation) int64 0 0 0 0 0 0 ... 639 639 639 639 639\n   - filename          (presentation) object 'a5ca287ed63a8a1712acd20685744cdb...\n   * neuroid           (neuroid) MultiIndex\n   - neuroid_id        (neuroid) object 'n_stretch_1_0' ... 'n_stretch_1_19'\n   - animal            (neuroid) object 'monkey_n' 'monkey_n' ... 'monkey_n'\n   - setting           (neuroid) object 'stretch' 'stretch' ... 'stretch'\n   - session           (neuroid) object 'session_1' 'session_1' ... 'session_1'\n   - neuroid_index     (neuroid) int64 0 1 2 3 4 5 6 7 ... 13 14 15 16 17 18 19\n   - is_target         (neuroid) int64 1 1 1 1 1 1 1 0 1 1 0 1 1 1 1 1 1 1 1 1\n   * time_bin          (time_bin) MultiIndex\n   - time_bin_start    (time_bin) int64 70\n   - time_bin_end      (time_bin) int64 170\n Attributes:\n     stimulus_set_identifier:  dicarlo.BashivanKar2019.naturalistic\n     stimulus_set:                                                  image_id  ...\n     identifier:               dicarlo.BashivanKar2019.n_stretch_session_1_nat,\n 'dicarlo.BashivanKar2019.n_stretch_session_2_nat': <xarray.NeuronRecordingAssembly 'dicarlo.BashivanKar2019.n_stretch_session_2_nat' (presentation: 21760, neuroid: 1, time_bin: 1)>\n array([[[-1.57223025]],\n \n        [[ 0.11833991]],\n \n        [[-0.72694517]],\n \n        ...,\n \n        [[ 1.29984119]],\n \n        [[-0.90306113]],\n \n        [[-0.29114382]]])\n Coordinates:\n   * presentation      (presentation) MultiIndex\n   - repetition_index  (presentation) int64 0 1 2 3 4 5 6 ... 28 29 30 31 32 33\n   - image_id          (presentation) object 'a5ca287ed63a8a1712acd20685744cdb...\n   - repetition        (presentation) int64 0 1 2 3 4 5 6 ... 28 29 30 31 32 33\n   - image_index       (presentation) int64 0 0 0 0 0 0 ... 639 639 639 639 639\n   - filename          (presentation) object 'a5ca287ed63a8a1712acd20685744cdb...\n   * neuroid           (neuroid) MultiIndex\n   - neuroid_id        (neuroid) object 'n_stretch_2_0'\n   - animal            (neuroid) object 'monkey_n'\n   - setting           (neuroid) object 'stretch'\n   - session           (neuroid) object 'session_2'\n   - neuroid_index     (neuroid) int64 0\n   - is_target         (neuroid) int64 0\n   * time_bin          (time_bin) MultiIndex\n   - time_bin_start    (time_bin) int64 70\n   - time_bin_end      (time_bin) int64 170\n Attributes:\n     stimulus_set_identifier:  dicarlo.BashivanKar2019.naturalistic\n     stimulus_set:                                                  image_id  ...\n     identifier:               dicarlo.BashivanKar2019.n_stretch_session_2_nat,\n 'dicarlo.BashivanKar2019.s_ohp_session_1_nat': <xarray.NeuronRecordingAssembly 'dicarlo.BashivanKar2019.s_ohp_session_1_nat' (presentation: 21120, neuroid: 22, time_bin: 1)>\n array([[[ 5.42008837e-02],\n         [ 5.89201169e-01],\n         [-2.11065999e-02],\n         ...,\n         [ 7.55221741e-01],\n         [-3.38734767e-01],\n         [ 2.14938436e+00]],\n \n        [[ 5.42008837e-02],\n         [ 8.33583567e-01],\n         [ 1.21231033e+00],\n         ...,\n         [ 6.73362715e-01],\n         [ 1.08880878e+00],\n         [ 1.79143438e+00]],\n \n        [[ 5.42008837e-02],\n         [ 6.70661969e-01],\n         [ 5.39537459e-01],\n         ...,\n ...\n         ...,\n         [-8.26469854e-01],\n         [-1.23746844e+00],\n         [ 7.52028679e-01]],\n \n        [[ 2.31266923e-01],\n         [ 1.40231997e+00],\n         [ 9.60398094e-01],\n         ...,\n         [-1.91777643e+00],\n         [ 3.91672677e-01],\n         [-6.42846768e-02]],\n \n        [[-1.13775503e+00],\n         [ 1.21662463e-01],\n         [-2.75171687e-01],\n         ...,\n         [-1.37212314e+00],\n         [-1.14696060e+00],\n         [-4.72441355e-01]]])\n Coordinates:\n   * presentation      (presentation) MultiIndex\n   - repetition_index  (presentation) int64 0 1 2 3 4 5 6 ... 27 28 29 30 31 32\n   - image_id          (presentation) object 'a5ca287ed63a8a1712acd20685744cdb...\n   - repetition        (presentation) int64 0 1 2 3 4 5 6 ... 27 28 29 30 31 32\n   - image_index       (presentation) int64 0 0 0 0 0 0 ... 639 639 639 639 639\n   - filename          (presentation) object 'a5ca287ed63a8a1712acd20685744cdb...\n   * neuroid           (neuroid) MultiIndex\n   - neuroid_id        (neuroid) object 's_ohp_1_0' 's_ohp_1_1' ... 's_ohp_1_21'\n   - animal            (neuroid) object 'monkey_s' 'monkey_s' ... 'monkey_s'\n   - setting           (neuroid) object 'ohp' 'ohp' 'ohp' ... 'ohp' 'ohp' 'ohp'\n   - session           (neuroid) object 'session_1' 'session_1' ... 'session_1'\n   - neuroid_index     (neuroid) int64 0 1 2 3 4 5 6 7 ... 15 16 17 18 19 20 21\n   - is_target         (neuroid) int64 1 0 1 1 1 1 0 1 1 0 ... 1 1 1 1 1 1 1 1 1\n   * time_bin          (time_bin) MultiIndex\n   - time_bin_start    (time_bin) int64 70\n   - time_bin_end      (time_bin) int64 170\n Attributes:\n     stimulus_set_identifier:  dicarlo.BashivanKar2019.naturalistic\n     stimulus_set:                                                  image_id  ...\n     identifier:               dicarlo.BashivanKar2019.s_ohp_session_1_nat,\n 'dicarlo.BashivanKar2019.s_stretch_session_1_nat': <xarray.NeuronRecordingAssembly 'dicarlo.BashivanKar2019.s_stretch_session_1_nat' (presentation: 21120, neuroid: 22, time_bin: 1)>\n array([[[ 5.42008837e-02],\n         [ 5.89201169e-01],\n         [-2.11065999e-02],\n         ...,\n         [ 7.55221741e-01],\n         [-3.38734767e-01],\n         [ 2.14938436e+00]],\n \n        [[ 5.42008837e-02],\n         [ 8.33583567e-01],\n         [ 1.21231033e+00],\n         ...,\n         [ 6.73362715e-01],\n         [ 1.08880878e+00],\n         [ 1.79143438e+00]],\n \n        [[ 5.42008837e-02],\n         [ 6.70661969e-01],\n         [ 5.39537459e-01],\n         ...,\n ...\n         ...,\n         [-8.26469854e-01],\n         [-1.23746844e+00],\n         [ 7.52028679e-01]],\n \n        [[ 2.31266923e-01],\n         [ 1.40231997e+00],\n         [ 9.60398094e-01],\n         ...,\n         [-1.91777643e+00],\n         [ 3.91672677e-01],\n         [-6.42846768e-02]],\n \n        [[-1.13775503e+00],\n         [ 1.21662463e-01],\n         [-2.75171687e-01],\n         ...,\n         [-1.37212314e+00],\n         [-1.14696060e+00],\n         [-4.72441355e-01]]])\n Coordinates:\n   * presentation      (presentation) MultiIndex\n   - repetition_index  (presentation) int64 0 1 2 3 4 5 6 ... 27 28 29 30 31 32\n   - image_id          (presentation) object 'a5ca287ed63a8a1712acd20685744cdb...\n   - repetition        (presentation) int64 0 1 2 3 4 5 6 ... 27 28 29 30 31 32\n   - image_index       (presentation) int64 0 0 0 0 0 0 ... 639 639 639 639 639\n   - filename          (presentation) object 'a5ca287ed63a8a1712acd20685744cdb...\n   * neuroid           (neuroid) MultiIndex\n   - neuroid_id        (neuroid) object 's_stretch_1_0' ... 's_stretch_1_21'\n   - animal            (neuroid) object 'monkey_s' 'monkey_s' ... 'monkey_s'\n   - setting           (neuroid) object 'stretch' 'stretch' ... 'stretch'\n   - session           (neuroid) object 'session_1' 'session_1' ... 'session_1'\n   - neuroid_index     (neuroid) int64 0 1 2 3 4 5 6 7 ... 15 16 17 18 19 20 21\n   - is_target         (neuroid) int64 1 0 1 1 1 1 0 1 1 0 ... 1 1 1 1 1 1 1 1 1\n   * time_bin          (time_bin) MultiIndex\n   - time_bin_start    (time_bin) int64 70\n   - time_bin_end      (time_bin) int64 170\n Attributes:\n     stimulus_set_identifier:  dicarlo.BashivanKar2019.naturalistic\n     stimulus_set:                                                  image_id  ...\n     identifier:               dicarlo.BashivanKar2019.s_stretch_session_1_nat,\n 'dicarlo.BashivanKar2019.m_ohp_session_1_synth': <xarray.NeuronRecordingAssembly 'dicarlo.BashivanKar2019.m_ohp_session_1_synth' (presentation: 2550, neuroid: 39, time_bin: 1)>\n array([[[-1.50660476],\n         [-1.16108872],\n         [-2.39110662],\n         ...,\n         [-1.18531338],\n         [-1.32623403],\n         [-0.68220458]],\n \n        [[ 2.33677472],\n         [ 0.07708221],\n         [19.6892106 ],\n         ...,\n         [ 1.34698313],\n         [-1.60212707],\n         [ 1.8731719 ]],\n \n        [[-1.50660476],\n         [ 0.23185358],\n         [-0.81394111],\n         ...,\n ...\n         ...,\n         [-0.84767384],\n         [-1.8780201 ],\n         [ 1.67660448]],\n \n        [[-3.04395655],\n         [-0.54200326],\n         [ 1.81466809],\n         ...,\n         [ 1.34698313],\n         [-1.60212707],\n         [ 2.06973932]],\n \n        [[ 1.56809883],\n         [-0.54200326],\n         [-1.33966294],\n         ...,\n         [ 1.17816336],\n         [-0.49855494],\n         [-1.46847427]]])\n Coordinates:\n   * presentation      (presentation) MultiIndex\n   - repetition_index  (presentation) int64 0 1 2 3 4 5 6 ... 45 46 47 48 49 50\n   - image_id          (presentation) object '33ca8ceef160d93d204121f09ea4b49c...\n   - repetition        (presentation) int64 0 1 2 3 4 5 6 ... 45 46 47 48 49 50\n   - animal            (presentation) object 'monkey_m' 'monkey_m' ... 'monkey_m'\n   - setting           (presentation) object 'ohp' 'ohp' 'ohp' ... 'ohp' 'ohp'\n   - session           (presentation) object 'session_1' ... 'session_1'\n   - image_index       (presentation) int64 0 0 0 0 0 0 0 ... 49 49 49 49 49 49\n   - filename          (presentation) object '33ca8ceef160d93d204121f09ea4b49c...\n   * neuroid           (neuroid) MultiIndex\n   - neuroid_id        (neuroid) object 'm_ohp_1_0' 'm_ohp_1_1' ... 'm_ohp_1_38'\n   - neuroid_index     (neuroid) int64 0 1 2 3 4 5 6 7 ... 32 33 34 35 36 37 38\n   - is_target         (neuroid) int64 0 0 0 0 0 0 0 0 0 0 ... 0 1 0 0 0 0 0 0 0\n   * time_bin          (time_bin) MultiIndex\n   - time_bin_start    (time_bin) int64 70\n   - time_bin_end      (time_bin) int64 170\n Attributes:\n     stimulus_set_identifier:  dicarlo.BashivanKar2019.synthetic\n     stimulus_set:                                                  image_id  ...\n     identifier:               dicarlo.BashivanKar2019.m_ohp_session_1_synth,\n 'dicarlo.BashivanKar2019.m_ohp_session_2_synth': <xarray.NeuronRecordingAssembly 'dicarlo.BashivanKar2019.m_ohp_session_2_synth' (presentation: 1800, neuroid: 38, time_bin: 1)>\n array([[[ 2.70631835],\n         [-1.34692801],\n         [-1.75853424],\n         ...,\n         [-1.88534211],\n         [-0.2667739 ],\n         [-3.12331504]],\n \n        [[ 1.50007911],\n         [ 1.09718418],\n         [-0.80410589],\n         ...,\n         [-1.64535457],\n         [ 1.98977225],\n         [-2.32634769]],\n \n        [[ 4.15380543],\n         [ 2.87472032],\n         [ 2.53639335],\n         ...,\n ...\n         ...,\n         [ 0.75452082],\n         [ 4.74777309],\n         [ 3.25242375]],\n \n        [[-0.42990366],\n         [-0.45815994],\n         [ 3.4908217 ],\n         ...,\n         [ 0.51453328],\n         [ 2.49122694],\n         [-0.73241299]],\n \n        [[-1.39489505],\n         [ 0.43060813],\n         [ 1.10475082],\n         ...,\n         [ 1.47448344],\n         [ 1.98977225],\n         [ 5.64332579]]])\n Coordinates:\n   * presentation      (presentation) MultiIndex\n   - repetition_index  (presentation) int64 0 1 2 3 4 5 6 ... 34 35 36 37 38 39\n   - image_id          (presentation) object '91851b3b2ac6181661f24584008a3b07...\n   - repetition        (presentation) int64 0 1 2 3 4 5 6 ... 34 35 36 37 38 39\n   - animal            (presentation) object 'monkey_m' 'monkey_m' ... 'monkey_m'\n   - setting           (presentation) object 'ohp' 'ohp' 'ohp' ... 'ohp' 'ohp'\n   - session           (presentation) object 'session_2' ... 'session_2'\n   - image_index       (presentation) int64 0 0 0 0 0 0 0 ... 44 44 44 44 44 44\n   - filename          (presentation) object '91851b3b2ac6181661f24584008a3b07...\n   * neuroid           (neuroid) MultiIndex\n   - neuroid_id        (neuroid) object 'm_ohp_2_0' 'm_ohp_2_1' ... 'm_ohp_2_37'\n   - neuroid_index     (neuroid) int64 0 1 2 3 4 5 6 7 ... 31 32 33 34 35 36 37\n   - is_target         (neuroid) int64 1 0 1 0 0 1 1 1 0 0 ... 0 0 0 0 0 0 0 0 0\n   * time_bin          (time_bin) MultiIndex\n   - time_bin_start    (time_bin) int64 70\n   - time_bin_end      (time_bin) int64 170\n Attributes:\n     stimulus_set_identifier:  dicarlo.BashivanKar2019.synthetic\n     stimulus_set:                                                  image_id  ...\n     identifier:               dicarlo.BashivanKar2019.m_ohp_session_2_synth,\n 'dicarlo.BashivanKar2019.m_stretch_session_1_synth': <xarray.NeuronRecordingAssembly 'dicarlo.BashivanKar2019.m_stretch_session_1_synth' (presentation: 2550, neuroid: 39, time_bin: 1)>\n array([[[ 6.1801542 ],\n         [ 1.31525314],\n         [ 2.34038993],\n         ...,\n         [ 4.0480994 ],\n         [ 0.88091022],\n         [ 3.05257643]],\n \n        [[ 3.10545062],\n         [ 2.86296681],\n         [-1.33966294],\n         ...,\n         [ 4.0480994 ],\n         [ 0.88091022],\n         [ 2.46287417]],\n \n        [[ 0.79942293],\n         [ 1.00571041],\n         [ 1.28894625],\n         ...,\n ...\n         ...,\n         [ 1.5158029 ],\n         [-0.77444797],\n         [ 1.48003706]],\n \n        [[-0.73792886],\n         [-0.23246052],\n         [ 3.3918336 ],\n         ...,\n         [ 1.0093436 ],\n         [-0.49855494],\n         [ 0.49719995]],\n \n        [[-0.73792886],\n         [-0.85154599],\n         [-1.33966294],\n         ...,\n         [ 2.19108197],\n         [-0.49855494],\n         [ 1.28346964]]])\n Coordinates:\n   * presentation      (presentation) MultiIndex\n   - repetition_index  (presentation) int64 0 1 2 3 4 5 6 ... 45 46 47 48 49 50\n   - image_id          (presentation) object 'e3fce400c9c72d28460bcd87dccd739d...\n   - repetition        (presentation) int64 0 1 2 3 4 5 6 ... 45 46 47 48 49 50\n   - animal            (presentation) object 'monkey_m' 'monkey_m' ... 'monkey_m'\n   - setting           (presentation) object 'stretch' 'stretch' ... 'stretch'\n   - session           (presentation) object 'session_1' ... 'session_1'\n   - image_index       (presentation) int64 0 0 0 0 0 0 0 ... 49 49 49 49 49 49\n   - filename          (presentation) object 'e3fce400c9c72d28460bcd87dccd739d...\n   * neuroid           (neuroid) MultiIndex\n   - neuroid_id        (neuroid) object 'm_stretch_1_0' ... 'm_stretch_1_38'\n   - neuroid_index     (neuroid) int64 0 1 2 3 4 5 6 7 ... 32 33 34 35 36 37 38\n   - is_target         (neuroid) int64 0 0 0 0 0 0 0 0 0 0 ... 0 1 0 0 0 0 0 0 0\n   * time_bin          (time_bin) MultiIndex\n   - time_bin_start    (time_bin) int64 70\n   - time_bin_end      (time_bin) int64 170\n Attributes:\n     stimulus_set_identifier:  dicarlo.BashivanKar2019.synthetic\n     stimulus_set:                                                  image_id  ...\n     identifier:               dicarlo.BashivanKar2019.m_stretch_session_1_synth,\n 'dicarlo.BashivanKar2019.m_stretch_session_2_synth': <xarray.NeuronRecordingAssembly 'dicarlo.BashivanKar2019.m_stretch_session_2_synth' (presentation: 2640, neuroid: 52, time_bin: 1)>\n array([[[ 4.84227555],\n         [ 0.54491884],\n         [ 0.09665379],\n         ...,\n         [ 0.43138056],\n         [ 0.23336831],\n         [-1.87534102]],\n \n        [[ 1.29726062],\n         [ 6.03849985],\n         [ 2.97613118],\n         ...,\n         [ 5.90659541],\n         [ 9.3531561 ],\n         [14.06298772]],\n \n        [[ 2.0062636 ],\n         [ 0.54491884],\n         [ 1.42564335],\n         ...,\n ...\n         ...,\n         [ 1.80018428],\n         [ 1.24667806],\n         [-1.87534102]],\n \n        [[ 2.3607651 ],\n         [ 1.46051568],\n         [ 2.97613118],\n         ...,\n         [ 1.34391637],\n         [-0.77994145],\n         [-0.73688897]],\n \n        [[-0.12074536],\n         [ 1.46051568],\n         [ 0.31815205],\n         ...,\n         [-0.48115524],\n         [ 1.75333294],\n         [-3.01379307]]])\n Coordinates:\n   * presentation      (presentation) MultiIndex\n   - repetition_index  (presentation) int64 0 1 2 3 4 5 6 ... 27 28 29 30 31 32\n   - image_id          (presentation) object '6a0f2219aa8d3973a541b86b3f442455...\n   - repetition        (presentation) int64 0 1 2 3 4 5 6 ... 27 28 29 30 31 32\n   - animal            (presentation) object 'monkey_m' 'monkey_m' ... 'monkey_m'\n   - setting           (presentation) object 'stretch' 'stretch' ... 'stretch'\n   - session           (presentation) object 'session_2' ... 'session_2'\n   - image_index       (presentation) int64 0 0 0 0 0 0 0 ... 79 79 79 79 79 79\n   - filename          (presentation) object '6a0f2219aa8d3973a541b86b3f442455...\n   * neuroid           (neuroid) MultiIndex\n   - neuroid_id        (neuroid) object 'm_stretch_2_0' ... 'm_stretch_2_51'\n   - neuroid_index     (neuroid) int64 0 1 2 3 4 5 6 7 ... 45 46 47 48 49 50 51\n   - is_target         (neuroid) int64 1 0 1 0 0 1 1 1 0 0 ... 0 0 0 0 0 1 0 0 0\n   * time_bin          (time_bin) MultiIndex\n   - time_bin_start    (time_bin) int64 70\n   - time_bin_end      (time_bin) int64 170\n Attributes:\n     stimulus_set_identifier:  dicarlo.BashivanKar2019.synthetic\n     stimulus_set:                                                  image_id  ...\n     identifier:               dicarlo.BashivanKar2019.m_stretch_session_2_synth,\n 'dicarlo.BashivanKar2019.n_stretch_session_1_synth': <xarray.NeuronRecordingAssembly 'dicarlo.BashivanKar2019.n_stretch_session_1_synth' (presentation: 2790, neuroid: 20, time_bin: 1)>\n array([[[ 0.44182522],\n         [-1.69101687],\n         [ 0.69164297],\n         ...,\n         [-0.47815931],\n         [ 1.26603026],\n         [-2.19709344]],\n \n        [[ 0.71358279],\n         [-0.12936521],\n         [-0.01894912],\n         ...,\n         [ 2.03771485],\n         [ 0.68864298],\n         [ 0.57724043]],\n \n        [[ 2.07237066],\n         [-1.37868654],\n         [ 1.40223507],\n         ...,\n ...\n         ...,\n         [ 3.66563342],\n         [ 3.96050424],\n         [ 8.20665858]],\n \n        [[ 3.43115853],\n         [ 3.30626845],\n         [ 2.11282716],\n         ...,\n         [ 2.33370004],\n         [ 9.92683947],\n         [ 7.51307512]],\n \n        [[ 0.17006764],\n         [ 2.36927745],\n         [ 2.11282716],\n         ...,\n         [ 1.88972225],\n         [ 2.42080482],\n         [ 4.73874124]]])\n Coordinates:\n   * presentation      (presentation) MultiIndex\n   - repetition_index  (presentation) int64 0 1 2 3 4 5 6 ... 25 26 27 28 29 30\n   - image_id          (presentation) object '511202f8d5ac2c35a3baea9bba5cda40...\n   - repetition        (presentation) int64 0 1 2 3 4 5 6 ... 25 26 27 28 29 30\n   - animal            (presentation) object 'monkey_n' 'monkey_n' ... 'monkey_n'\n   - setting           (presentation) object 'stretch' 'stretch' ... 'stretch'\n   - session           (presentation) object 'session_1' ... 'session_1'\n   - image_index       (presentation) int64 0 0 0 0 0 0 0 ... 89 89 89 89 89 89\n   - filename          (presentation) object '511202f8d5ac2c35a3baea9bba5cda40...\n   * neuroid           (neuroid) MultiIndex\n   - neuroid_id        (neuroid) object 'n_stretch_1_0' ... 'n_stretch_1_19'\n   - neuroid_index     (neuroid) int64 0 1 2 3 4 5 6 7 ... 13 14 15 16 17 18 19\n   - is_target         (neuroid) int64 0 1 1 1 1 1 1 0 1 1 0 1 1 1 1 1 1 1 1 1\n   * time_bin          (time_bin) MultiIndex\n   - time_bin_start    (time_bin) int64 70\n   - time_bin_end      (time_bin) int64 170\n Attributes:\n     stimulus_set_identifier:  dicarlo.BashivanKar2019.synthetic\n     stimulus_set:                                                  image_id  ...\n     identifier:               dicarlo.BashivanKar2019.n_stretch_session_1_synth,\n 'dicarlo.BashivanKar2019.n_stretch_session_2_synth': <xarray.NeuronRecordingAssembly 'dicarlo.BashivanKar2019.n_stretch_session_2_synth' (presentation: 100, neuroid: 1, time_bin: 1)>\n array([[[ 3.99474644]],\n \n        [[-1.53814337]],\n \n        [[-4.30458827]],\n \n        [[-1.53814337]],\n \n        [[-4.30458827]],\n \n        [[-4.30458827]],\n \n        [[-4.30458827]],\n \n        [[-4.30458827]],\n \n        [[-4.30458827]],\n \n        [[-4.30458827]],\n \n ...\n \n        [[-1.53814337]],\n \n        [[ 1.22830154]],\n \n        [[-1.53814337]],\n \n        [[-1.53814337]],\n \n        [[-4.30458827]],\n \n        [[-1.53814337]],\n \n        [[ 1.22830154]],\n \n        [[-4.30458827]],\n \n        [[-4.30458827]],\n \n        [[ 1.22830154]]])\n Coordinates:\n   * presentation      (presentation) MultiIndex\n   - repetition_index  (presentation) int64 0 1 2 3 4 5 6 ... 14 15 16 17 18 19\n   - image_id          (presentation) object '8fafb30db6e9c886ca0c6aa0bcfd22fe...\n   - repetition        (presentation) int64 0 1 2 3 4 5 6 ... 14 15 16 17 18 19\n   - animal            (presentation) object 'monkey_n' 'monkey_n' ... 'monkey_n'\n   - setting           (presentation) object 'stretch' 'stretch' ... 'stretch'\n   - session           (presentation) object 'session_2' ... 'session_2'\n   - image_index       (presentation) int64 0 0 0 0 0 0 0 0 0 ... 4 4 4 4 4 4 4 4\n   - filename          (presentation) object '8fafb30db6e9c886ca0c6aa0bcfd22fe...\n   * neuroid           (neuroid) MultiIndex\n   - neuroid_id        (neuroid) object 'n_stretch_2_0'\n   - neuroid_index     (neuroid) int64 0\n   - is_target         (neuroid) int64 0\n   * time_bin          (time_bin) MultiIndex\n   - time_bin_start    (time_bin) int64 70\n   - time_bin_end      (time_bin) int64 170\n Attributes:\n     stimulus_set_identifier:  dicarlo.BashivanKar2019.synthetic\n     stimulus_set:                                                  image_id  ...\n     identifier:               dicarlo.BashivanKar2019.n_stretch_session_2_synth,\n 'dicarlo.BashivanKar2019.s_ohp_session_1_synth': <xarray.NeuronRecordingAssembly 'dicarlo.BashivanKar2019.s_ohp_session_1_synth' (presentation: 4465, neuroid: 22, time_bin: 1)>\n array([[[ 5.44182115],\n         [ 3.60232573],\n         [ 0.40124912],\n         ...,\n         [ 1.61945172],\n         [ 0.20158402],\n         [-0.93319192]],\n \n        [[ 4.9820884 ],\n         [ 0.87590797],\n         [ 1.07926973],\n         ...,\n         [ 1.86960467],\n         [ 2.46071528],\n         [ 1.12125261]],\n \n        [[ 6.36128664],\n         [-2.33164234],\n         [-0.72878523],\n         ...,\n ...\n         ...,\n         [ 0.65057007],\n         [ 0.53900233],\n         [ 0.71915028]],\n \n        [[-0.92314502],\n         [-2.96424962],\n         [ 1.19460171],\n         ...,\n         [-0.6140015 ],\n         [-0.62311769],\n         [ 0.29156942]],\n \n        [[-0.25649972],\n         [-2.66159869],\n         [ 2.01264419],\n         ...,\n         [ 0.30568691],\n         [ 1.70112235],\n         [ 3.28463544]]])\n Coordinates:\n   * presentation      (presentation) MultiIndex\n   - repetition_index  (presentation) int64 0 1 2 3 4 5 6 ... 41 42 43 44 45 46\n   - image_id          (presentation) object '479ebc91a6735fad6f764f522ae4e2cd...\n   - repetition        (presentation) int64 0 1 2 3 4 5 6 ... 41 42 43 44 45 46\n   - animal            (presentation) object 'monkey_s' 'monkey_s' ... 'monkey_s'\n   - setting           (presentation) object 'ohp' 'ohp' 'ohp' ... 'ohp' 'ohp'\n   - session           (presentation) object 'session_1' ... 'session_1'\n   - image_index       (presentation) int64 0 0 0 0 0 0 0 ... 94 94 94 94 94 94\n   - filename          (presentation) object '479ebc91a6735fad6f764f522ae4e2cd...\n   * neuroid           (neuroid) MultiIndex\n   - neuroid_id        (neuroid) object 's_ohp_1_0' 's_ohp_1_1' ... 's_ohp_1_21'\n   - neuroid_index     (neuroid) int64 0 1 2 3 4 5 6 7 ... 15 16 17 18 19 20 21\n   - is_target         (neuroid) int64 1 0 1 1 1 1 0 1 1 0 ... 1 1 1 1 1 1 1 1 1\n   * time_bin          (time_bin) MultiIndex\n   - time_bin_start    (time_bin) int64 70\n   - time_bin_end      (time_bin) int64 170\n Attributes:\n     stimulus_set_identifier:  dicarlo.BashivanKar2019.synthetic\n     stimulus_set:                                                  image_id  ...\n     identifier:               dicarlo.BashivanKar2019.s_ohp_session_1_synth,\n 'dicarlo.BashivanKar2019.s_stretch_session_1_synth': <xarray.NeuronRecordingAssembly 'dicarlo.BashivanKar2019.s_stretch_session_1_synth' (presentation: 4465, neuroid: 22, time_bin: 1)>\n array([[[ 4.9820884 ],\n         [ 1.99855058],\n         [-0.27677149],\n         ...,\n         [ 3.87082828],\n         [ 3.13845466],\n         [ 1.63486374]],\n \n        [[-0.53470455],\n         [ 4.40421331],\n         [ 2.20930407],\n         ...,\n         [ 2.36991057],\n         [-0.25024223],\n         [-1.44680305]],\n \n        [[ 1.76395918],\n         [11.62120151],\n         [-0.05076462],\n         ...,\n ...\n         ...,\n         [-3.2581057 ],\n         [-1.97892437],\n         [-1.84633487]],\n \n        [[-1.14536012],\n         [ 0.66756147],\n         [-1.94122778],\n         ...,\n         [-2.22345623],\n         [-0.81680436],\n         [-0.56359229]],\n \n        [[-1.81200542],\n         [-2.05629685],\n         [-0.16880242],\n         ...,\n         [-1.99353413],\n         [-0.62311769],\n         [ 0.71915028]]])\n Coordinates:\n   * presentation      (presentation) MultiIndex\n   - repetition_index  (presentation) int64 0 1 2 3 4 5 6 ... 41 42 43 44 45 46\n   - image_id          (presentation) object '25d81a4f8bfae95cd02c07bc38141052...\n   - repetition        (presentation) int64 0 1 2 3 4 5 6 ... 41 42 43 44 45 46\n   - animal            (presentation) object 'monkey_s' 'monkey_s' ... 'monkey_s'\n   - setting           (presentation) object 'stretch' 'stretch' ... 'stretch'\n   - session           (presentation) object 'session_1' ... 'session_1'\n   - image_index       (presentation) int64 0 0 0 0 0 0 0 ... 94 94 94 94 94 94\n   - filename          (presentation) object '25d81a4f8bfae95cd02c07bc38141052...\n   * neuroid           (neuroid) MultiIndex\n   - neuroid_id        (neuroid) object 's_stretch_1_0' ... 's_stretch_1_21'\n   - neuroid_index     (neuroid) int64 0 1 2 3 4 5 6 7 ... 15 16 17 18 19 20 21\n   - is_target         (neuroid) int64 1 0 1 1 1 1 0 1 1 0 ... 1 1 1 1 1 1 1 1 1\n   * time_bin          (time_bin) MultiIndex\n   - time_bin_start    (time_bin) int64 70\n   - time_bin_end      (time_bin) int64 170\n Attributes:\n     stimulus_set_identifier:  dicarlo.BashivanKar2019.synthetic\n     stimulus_set:                                                  image_id  ...\n     identifier:               dicarlo.BashivanKar2019.s_stretch_session_1_synth}"
          },
          "metadata": {}
        }
      ],
      "execution_count": 4,
      "metadata": {
        "collapsed": true,
        "jupyter": {
          "source_hidden": false,
          "outputs_hidden": false
        },
        "nteract": {
          "transient": {
            "deleting": false
          }
        },
        "execution": {
          "iopub.status.busy": "2021-01-19T20:56:47.088Z",
          "iopub.execute_input": "2021-01-19T20:56:47.114Z",
          "iopub.status.idle": "2021-01-19T20:57:30.362Z",
          "shell.execute_reply": "2021-01-19T20:57:30.431Z"
        }
      }
    },
    {
      "cell_type": "code",
      "source": [
        "[assy.shape[1] for assy in bk19_assys.values()]"
      ],
      "outputs": [
        {
          "output_type": "execute_result",
          "execution_count": 10,
          "data": {
            "text/plain": "[39, 38, 39, 52, 20, 1, 22, 22, 39, 38, 39, 52, 20, 1, 22, 22]"
          },
          "metadata": {}
        }
      ],
      "execution_count": 10,
      "metadata": {
        "collapsed": true,
        "jupyter": {
          "source_hidden": false,
          "outputs_hidden": false
        },
        "nteract": {
          "transient": {
            "deleting": false
          }
        },
        "execution": {
          "iopub.status.busy": "2020-09-02T19:43:13.142Z",
          "iopub.execute_input": "2020-09-02T19:43:13.164Z",
          "iopub.status.idle": "2020-09-02T19:43:13.207Z",
          "shell.execute_reply": "2020-09-02T19:43:13.229Z"
        }
      }
    },
    {
      "cell_type": "code",
      "source": [
        "sum([assy.shape[1] for assy in bk19_assys.values()]) / 2"
      ],
      "outputs": [
        {
          "output_type": "execute_result",
          "execution_count": 12,
          "data": {
            "text/plain": "233.0"
          },
          "metadata": {}
        }
      ],
      "execution_count": 12,
      "metadata": {
        "collapsed": true,
        "jupyter": {
          "source_hidden": false,
          "outputs_hidden": false
        },
        "nteract": {
          "transient": {
            "deleting": false
          }
        },
        "execution": {
          "iopub.status.busy": "2020-09-02T19:44:12.269Z",
          "iopub.execute_input": "2020-09-02T19:44:12.291Z",
          "iopub.status.idle": "2020-09-02T19:44:12.338Z",
          "shell.execute_reply": "2020-09-02T19:44:12.360Z"
        }
      }
    },
    {
      "cell_type": "code",
      "source": [
        "darren = get_assembly(\"\")"
      ],
      "outputs": [
        {
          "output_type": "stream",
          "name": "stdout",
          "text": [
            "# packages in environment at /Users/jjpr/anaconda:\r\n",
            "#\r\n",
            "# Name                    Version                   Build  Channel\r\n"
          ]
        }
      ],
      "execution_count": 2,
      "metadata": {
        "collapsed": true,
        "jupyter": {
          "source_hidden": false,
          "outputs_hidden": false
        },
        "nteract": {
          "transient": {
            "deleting": false
          }
        },
        "execution": {
          "iopub.status.busy": "2021-01-19T19:58:16.019Z",
          "iopub.execute_input": "2021-01-19T19:58:16.049Z",
          "shell.execute_reply": "2021-01-19T19:58:18.742Z",
          "iopub.status.idle": "2021-01-19T19:58:18.765Z"
        }
      }
    },
    {
      "cell_type": "code",
      "source": [
        "import xarray as xr"
      ],
      "outputs": [],
      "execution_count": 7,
      "metadata": {
        "collapsed": true,
        "jupyter": {
          "source_hidden": false,
          "outputs_hidden": false
        },
        "nteract": {
          "transient": {
            "deleting": false
          }
        },
        "execution": {
          "iopub.status.busy": "2021-01-20T00:59:59.814Z",
          "iopub.execute_input": "2021-01-20T00:59:59.838Z",
          "iopub.status.idle": "2021-01-20T00:59:59.875Z",
          "shell.execute_reply": "2021-01-20T00:59:59.899Z"
        }
      }
    },
    {
      "cell_type": "code",
      "source": [
        "concatted = xr.concat([bk19_assys[k] for k in bk19_assys if \"synth\" in k], dim=\"presentation\")\n",
        "concatted"
      ],
      "outputs": [
        {
          "output_type": "execute_result",
          "execution_count": 9,
          "data": {
            "text/plain": "<xarray.NeuronRecordingAssembly 'dicarlo.BashivanKar2019.m_ohp_session_1_synth' (presentation: 21360, neuroid: 233, time_bin: 1)>\narray([[[-1.50660476],\n        [-1.16108872],\n        [-0.19559382],\n        ...,\n        [        nan],\n        [        nan],\n        [        nan]],\n\n       [[ 2.33677472],\n        [ 0.07708221],\n        [-0.19559382],\n        ...,\n        [        nan],\n        [        nan],\n        [        nan]],\n\n       [[-1.50660476],\n        [ 0.23185358],\n        [ 1.97294636],\n        ...,\n...\n        ...,\n        [-1.43410283],\n        [-1.46334066],\n        [ 0.40909557]],\n\n       [[        nan],\n        [        nan],\n        [        nan],\n        ...,\n        [-1.43410283],\n        [-1.26413053],\n        [ 1.30027885]],\n\n       [[        nan],\n        [        nan],\n        [        nan],\n        ...,\n        [-1.04455219],\n        [-1.06492041],\n        [-0.48208772]]])\nCoordinates:\n  * neuroid           (neuroid) MultiIndex\n  - neuroid_id        (neuroid) object 'm_ohp_1_0' ... 's_stretch_1_9'\n  - neuroid_index     (neuroid) int64 0 1 10 11 12 13 14 15 ... 21 3 4 5 6 7 8 9\n  - is_target         (neuroid) int64 0 0 0 0 0 0 0 0 1 0 ... 1 1 1 1 1 0 1 1 0\n  * presentation      (presentation) MultiIndex\n  - repetition_index  (presentation) int64 0 1 2 3 4 5 6 ... 41 42 43 44 45 46\n  - image_id          (presentation) object '33ca8ceef160d93d204121f09ea4b49c...\n  - repetition        (presentation) int64 0 1 2 3 4 5 6 ... 41 42 43 44 45 46\n  - animal            (presentation) object 'monkey_m' 'monkey_m' ... 'monkey_s'\n  - setting           (presentation) object 'ohp' 'ohp' ... 'stretch' 'stretch'\n  - session           (presentation) object 'session_1' ... 'session_1'\n  - image_index       (presentation) int64 0 0 0 0 0 0 0 ... 94 94 94 94 94 94\n  - filename          (presentation) object '33ca8ceef160d93d204121f09ea4b49c...\n  * time_bin          (time_bin) MultiIndex\n  - time_bin_start    (time_bin) int64 70\n  - time_bin_end      (time_bin) int64 170\nAttributes:\n    stimulus_set_identifier:  dicarlo.BashivanKar2019.synthetic\n    stimulus_set:                                                  image_id  ...\n    identifier:               dicarlo.BashivanKar2019.m_ohp_session_1_synth",
            "text/html": "<div><svg style=\"position: absolute; width: 0; height: 0; overflow: hidden\">\n<defs>\n<symbol id=\"icon-database\" viewBox=\"0 0 32 32\">\n<path d=\"M16 0c-8.837 0-16 2.239-16 5v4c0 2.761 7.163 5 16 5s16-2.239 16-5v-4c0-2.761-7.163-5-16-5z\"></path>\n<path d=\"M16 17c-8.837 0-16-2.239-16-5v6c0 2.761 7.163 5 16 5s16-2.239 16-5v-6c0 2.761-7.163 5-16 5z\"></path>\n<path d=\"M16 26c-8.837 0-16-2.239-16-5v6c0 2.761 7.163 5 16 5s16-2.239 16-5v-6c0 2.761-7.163 5-16 5z\"></path>\n</symbol>\n<symbol id=\"icon-file-text2\" viewBox=\"0 0 32 32\">\n<path d=\"M28.681 7.159c-0.694-0.947-1.662-2.053-2.724-3.116s-2.169-2.030-3.116-2.724c-1.612-1.182-2.393-1.319-2.841-1.319h-15.5c-1.378 0-2.5 1.121-2.5 2.5v27c0 1.378 1.122 2.5 2.5 2.5h23c1.378 0 2.5-1.122 2.5-2.5v-19.5c0-0.448-0.137-1.23-1.319-2.841zM24.543 5.457c0.959 0.959 1.712 1.825 2.268 2.543h-4.811v-4.811c0.718 0.556 1.584 1.309 2.543 2.268zM28 29.5c0 0.271-0.229 0.5-0.5 0.5h-23c-0.271 0-0.5-0.229-0.5-0.5v-27c0-0.271 0.229-0.5 0.5-0.5 0 0 15.499-0 15.5 0v7c0 0.552 0.448 1 1 1h7v19.5z\"></path>\n<path d=\"M23 26h-14c-0.552 0-1-0.448-1-1s0.448-1 1-1h14c0.552 0 1 0.448 1 1s-0.448 1-1 1z\"></path>\n<path d=\"M23 22h-14c-0.552 0-1-0.448-1-1s0.448-1 1-1h14c0.552 0 1 0.448 1 1s-0.448 1-1 1z\"></path>\n<path d=\"M23 18h-14c-0.552 0-1-0.448-1-1s0.448-1 1-1h14c0.552 0 1 0.448 1 1s-0.448 1-1 1z\"></path>\n</symbol>\n</defs>\n</svg>\n<style>/* CSS stylesheet for displaying xarray objects in jupyterlab.\n *\n */\n\n:root {\n  --xr-font-color0: var(--jp-content-font-color0, rgba(0, 0, 0, 1));\n  --xr-font-color2: var(--jp-content-font-color2, rgba(0, 0, 0, 0.54));\n  --xr-font-color3: var(--jp-content-font-color3, rgba(0, 0, 0, 0.38));\n  --xr-border-color: var(--jp-border-color2, #e0e0e0);\n  --xr-disabled-color: var(--jp-layout-color3, #bdbdbd);\n  --xr-background-color: var(--jp-layout-color0, white);\n  --xr-background-color-row-even: var(--jp-layout-color1, white);\n  --xr-background-color-row-odd: var(--jp-layout-color2, #eeeeee);\n}\n\nhtml[theme=dark],\nbody.vscode-dark {\n  --xr-font-color0: rgba(255, 255, 255, 1);\n  --xr-font-color2: rgba(255, 255, 255, 0.54);\n  --xr-font-color3: rgba(255, 255, 255, 0.38);\n  --xr-border-color: #1F1F1F;\n  --xr-disabled-color: #515151;\n  --xr-background-color: #111111;\n  --xr-background-color-row-even: #111111;\n  --xr-background-color-row-odd: #313131;\n}\n\n.xr-wrap {\n  display: block;\n  min-width: 300px;\n  max-width: 700px;\n}\n\n.xr-text-repr-fallback {\n  /* fallback to plain text repr when CSS is not injected (untrusted notebook) */\n  display: none;\n}\n\n.xr-header {\n  padding-top: 6px;\n  padding-bottom: 6px;\n  margin-bottom: 4px;\n  border-bottom: solid 1px var(--xr-border-color);\n}\n\n.xr-header > div,\n.xr-header > ul {\n  display: inline;\n  margin-top: 0;\n  margin-bottom: 0;\n}\n\n.xr-obj-type,\n.xr-array-name {\n  margin-left: 2px;\n  margin-right: 10px;\n}\n\n.xr-obj-type {\n  color: var(--xr-font-color2);\n}\n\n.xr-sections {\n  padding-left: 0 !important;\n  display: grid;\n  grid-template-columns: 150px auto auto 1fr 20px 20px;\n}\n\n.xr-section-item {\n  display: contents;\n}\n\n.xr-section-item input {\n  display: none;\n}\n\n.xr-section-item input + label {\n  color: var(--xr-disabled-color);\n}\n\n.xr-section-item input:enabled + label {\n  cursor: pointer;\n  color: var(--xr-font-color2);\n}\n\n.xr-section-item input:enabled + label:hover {\n  color: var(--xr-font-color0);\n}\n\n.xr-section-summary {\n  grid-column: 1;\n  color: var(--xr-font-color2);\n  font-weight: 500;\n}\n\n.xr-section-summary > span {\n  display: inline-block;\n  padding-left: 0.5em;\n}\n\n.xr-section-summary-in:disabled + label {\n  color: var(--xr-font-color2);\n}\n\n.xr-section-summary-in + label:before {\n  display: inline-block;\n  content: '►';\n  font-size: 11px;\n  width: 15px;\n  text-align: center;\n}\n\n.xr-section-summary-in:disabled + label:before {\n  color: var(--xr-disabled-color);\n}\n\n.xr-section-summary-in:checked + label:before {\n  content: '▼';\n}\n\n.xr-section-summary-in:checked + label > span {\n  display: none;\n}\n\n.xr-section-summary,\n.xr-section-inline-details {\n  padding-top: 4px;\n  padding-bottom: 4px;\n}\n\n.xr-section-inline-details {\n  grid-column: 2 / -1;\n}\n\n.xr-section-details {\n  display: none;\n  grid-column: 1 / -1;\n  margin-bottom: 5px;\n}\n\n.xr-section-summary-in:checked ~ .xr-section-details {\n  display: contents;\n}\n\n.xr-array-wrap {\n  grid-column: 1 / -1;\n  display: grid;\n  grid-template-columns: 20px auto;\n}\n\n.xr-array-wrap > label {\n  grid-column: 1;\n  vertical-align: top;\n}\n\n.xr-preview {\n  color: var(--xr-font-color3);\n}\n\n.xr-array-preview,\n.xr-array-data {\n  padding: 0 5px !important;\n  grid-column: 2;\n}\n\n.xr-array-data,\n.xr-array-in:checked ~ .xr-array-preview {\n  display: none;\n}\n\n.xr-array-in:checked ~ .xr-array-data,\n.xr-array-preview {\n  display: inline-block;\n}\n\n.xr-dim-list {\n  display: inline-block !important;\n  list-style: none;\n  padding: 0 !important;\n  margin: 0;\n}\n\n.xr-dim-list li {\n  display: inline-block;\n  padding: 0;\n  margin: 0;\n}\n\n.xr-dim-list:before {\n  content: '(';\n}\n\n.xr-dim-list:after {\n  content: ')';\n}\n\n.xr-dim-list li:not(:last-child):after {\n  content: ',';\n  padding-right: 5px;\n}\n\n.xr-has-index {\n  font-weight: bold;\n}\n\n.xr-var-list,\n.xr-var-item {\n  display: contents;\n}\n\n.xr-var-item > div,\n.xr-var-item label,\n.xr-var-item > .xr-var-name span {\n  background-color: var(--xr-background-color-row-even);\n  margin-bottom: 0;\n}\n\n.xr-var-item > .xr-var-name:hover span {\n  padding-right: 5px;\n}\n\n.xr-var-list > li:nth-child(odd) > div,\n.xr-var-list > li:nth-child(odd) > label,\n.xr-var-list > li:nth-child(odd) > .xr-var-name span {\n  background-color: var(--xr-background-color-row-odd);\n}\n\n.xr-var-name {\n  grid-column: 1;\n}\n\n.xr-var-dims {\n  grid-column: 2;\n}\n\n.xr-var-dtype {\n  grid-column: 3;\n  text-align: right;\n  color: var(--xr-font-color2);\n}\n\n.xr-var-preview {\n  grid-column: 4;\n}\n\n.xr-var-name,\n.xr-var-dims,\n.xr-var-dtype,\n.xr-preview,\n.xr-attrs dt {\n  white-space: nowrap;\n  overflow: hidden;\n  text-overflow: ellipsis;\n  padding-right: 10px;\n}\n\n.xr-var-name:hover,\n.xr-var-dims:hover,\n.xr-var-dtype:hover,\n.xr-attrs dt:hover {\n  overflow: visible;\n  width: auto;\n  z-index: 1;\n}\n\n.xr-var-attrs,\n.xr-var-data {\n  display: none;\n  background-color: var(--xr-background-color) !important;\n  padding-bottom: 5px !important;\n}\n\n.xr-var-attrs-in:checked ~ .xr-var-attrs,\n.xr-var-data-in:checked ~ .xr-var-data {\n  display: block;\n}\n\n.xr-var-data > table {\n  float: right;\n}\n\n.xr-var-name span,\n.xr-var-data,\n.xr-attrs {\n  padding-left: 25px !important;\n}\n\n.xr-attrs,\n.xr-var-attrs,\n.xr-var-data {\n  grid-column: 1 / -1;\n}\n\ndl.xr-attrs {\n  padding: 0;\n  margin: 0;\n  display: grid;\n  grid-template-columns: 125px auto;\n}\n\n.xr-attrs dt, dd {\n  padding: 0;\n  margin: 0;\n  float: left;\n  padding-right: 10px;\n  width: auto;\n}\n\n.xr-attrs dt {\n  font-weight: normal;\n  grid-column: 1;\n}\n\n.xr-attrs dt:hover span {\n  display: inline-block;\n  background: var(--xr-background-color);\n  padding-right: 10px;\n}\n\n.xr-attrs dd {\n  grid-column: 2;\n  white-space: pre-wrap;\n  word-break: break-all;\n}\n\n.xr-icon-database,\n.xr-icon-file-text2 {\n  display: inline-block;\n  vertical-align: middle;\n  width: 1em;\n  height: 1.5em !important;\n  stroke-width: 0;\n  stroke: currentColor;\n  fill: currentColor;\n}\n</style><pre class='xr-text-repr-fallback'>&lt;xarray.NeuronRecordingAssembly &#x27;dicarlo.BashivanKar2019.m_ohp_session_1_synth&#x27; (presentation: 21360, neuroid: 233, time_bin: 1)&gt;\narray([[[-1.50660476],\n        [-1.16108872],\n        [-0.19559382],\n        ...,\n        [        nan],\n        [        nan],\n        [        nan]],\n\n       [[ 2.33677472],\n        [ 0.07708221],\n        [-0.19559382],\n        ...,\n        [        nan],\n        [        nan],\n        [        nan]],\n\n       [[-1.50660476],\n        [ 0.23185358],\n        [ 1.97294636],\n        ...,\n...\n        ...,\n        [-1.43410283],\n        [-1.46334066],\n        [ 0.40909557]],\n\n       [[        nan],\n        [        nan],\n        [        nan],\n        ...,\n        [-1.43410283],\n        [-1.26413053],\n        [ 1.30027885]],\n\n       [[        nan],\n        [        nan],\n        [        nan],\n        ...,\n        [-1.04455219],\n        [-1.06492041],\n        [-0.48208772]]])\nCoordinates:\n  * neuroid           (neuroid) MultiIndex\n  - neuroid_id        (neuroid) object &#x27;m_ohp_1_0&#x27; ... &#x27;s_stretch_1_9&#x27;\n  - neuroid_index     (neuroid) int64 0 1 10 11 12 13 14 15 ... 21 3 4 5 6 7 8 9\n  - is_target         (neuroid) int64 0 0 0 0 0 0 0 0 1 0 ... 1 1 1 1 1 0 1 1 0\n  * presentation      (presentation) MultiIndex\n  - repetition_index  (presentation) int64 0 1 2 3 4 5 6 ... 41 42 43 44 45 46\n  - image_id          (presentation) object &#x27;33ca8ceef160d93d204121f09ea4b49c...\n  - repetition        (presentation) int64 0 1 2 3 4 5 6 ... 41 42 43 44 45 46\n  - animal            (presentation) object &#x27;monkey_m&#x27; &#x27;monkey_m&#x27; ... &#x27;monkey_s&#x27;\n  - setting           (presentation) object &#x27;ohp&#x27; &#x27;ohp&#x27; ... &#x27;stretch&#x27; &#x27;stretch&#x27;\n  - session           (presentation) object &#x27;session_1&#x27; ... &#x27;session_1&#x27;\n  - image_index       (presentation) int64 0 0 0 0 0 0 0 ... 94 94 94 94 94 94\n  - filename          (presentation) object &#x27;33ca8ceef160d93d204121f09ea4b49c...\n  * time_bin          (time_bin) MultiIndex\n  - time_bin_start    (time_bin) int64 70\n  - time_bin_end      (time_bin) int64 170\nAttributes:\n    stimulus_set_identifier:  dicarlo.BashivanKar2019.synthetic\n    stimulus_set:                                                  image_id  ...\n    identifier:               dicarlo.BashivanKar2019.m_ohp_session_1_synth</pre><div class='xr-wrap' hidden><div class='xr-header'><div class='xr-obj-type'>xarray.NeuronRecordingAssembly</div><div class='xr-array-name'>'dicarlo.BashivanKar2019.m_ohp_session_1_synth'</div><ul class='xr-dim-list'><li><span class='xr-has-index'>presentation</span>: 21360</li><li><span class='xr-has-index'>neuroid</span>: 233</li><li><span class='xr-has-index'>time_bin</span>: 1</li></ul></div><ul class='xr-sections'><li class='xr-section-item'><div class='xr-array-wrap'><input id='section-d3b889cc-9f9f-4796-b564-9dfa1fa926cb' class='xr-array-in' type='checkbox' checked><label for='section-d3b889cc-9f9f-4796-b564-9dfa1fa926cb' title='Show/hide data repr'><svg class='icon xr-icon-database'><use xlink:href='#icon-database'></use></svg></label><div class='xr-array-preview xr-preview'><span>-1.507 -1.161 -0.1956 -0.9623 -0.2725 ... 19.2 -1.045 -1.065 -0.4821</span></div><div class='xr-array-data'><pre>array([[[-1.50660476],\n        [-1.16108872],\n        [-0.19559382],\n        ...,\n        [        nan],\n        [        nan],\n        [        nan]],\n\n       [[ 2.33677472],\n        [ 0.07708221],\n        [-0.19559382],\n        ...,\n        [        nan],\n        [        nan],\n        [        nan]],\n\n       [[-1.50660476],\n        [ 0.23185358],\n        [ 1.97294636],\n        ...,\n...\n        ...,\n        [-1.43410283],\n        [-1.46334066],\n        [ 0.40909557]],\n\n       [[        nan],\n        [        nan],\n        [        nan],\n        ...,\n        [-1.43410283],\n        [-1.26413053],\n        [ 1.30027885]],\n\n       [[        nan],\n        [        nan],\n        [        nan],\n        ...,\n        [-1.04455219],\n        [-1.06492041],\n        [-0.48208772]]])</pre></div></div></li><li class='xr-section-item'><input id='section-fee9215b-10c6-4d6e-a402-5e37fb492092' class='xr-section-summary-in' type='checkbox'  checked><label for='section-fee9215b-10c6-4d6e-a402-5e37fb492092' class='xr-section-summary' >Coordinates: <span>(3)</span></label><div class='xr-section-inline-details'></div><div class='xr-section-details'><ul class='xr-var-list'><li class='xr-var-item'><div class='xr-var-name'><span class='xr-has-index'>neuroid</span></div><div class='xr-var-dims'>(neuroid)</div><div class='xr-var-dtype'>MultiIndex</div><div class='xr-var-preview xr-preview'>(neuroid_id, neuroid_index, is_target)</div><input id='attrs-4d04a7e0-8ccc-4243-8463-20a5cbbf4c8c' class='xr-var-attrs-in' type='checkbox' disabled><label for='attrs-4d04a7e0-8ccc-4243-8463-20a5cbbf4c8c' title='Show/Hide attributes'><svg class='icon xr-icon-file-text2'><use xlink:href='#icon-file-text2'></use></svg></label><input id='data-18cd0143-21d0-48b7-aed0-f2faccfce9da' class='xr-var-data-in' type='checkbox'><label for='data-18cd0143-21d0-48b7-aed0-f2faccfce9da' title='Show/Hide data repr'><svg class='icon xr-icon-database'><use xlink:href='#icon-database'></use></svg></label><div class='xr-var-attrs'><dl class='xr-attrs'></dl></div><div class='xr-var-data'><pre>array([(&#x27;m_ohp_1_0&#x27;, 0, 0), (&#x27;m_ohp_1_1&#x27;, 1, 0), (&#x27;m_ohp_1_10&#x27;, 10, 0), ...,\n       (&#x27;s_stretch_1_7&#x27;, 7, 1), (&#x27;s_stretch_1_8&#x27;, 8, 1),\n       (&#x27;s_stretch_1_9&#x27;, 9, 0)], dtype=object)</pre></div></li><li class='xr-var-item'><div class='xr-var-name'><span>neuroid_id</span></div><div class='xr-var-dims'>(neuroid)</div><div class='xr-var-dtype'>object</div><div class='xr-var-preview xr-preview'>&#x27;m_ohp_1_0&#x27; ... &#x27;s_stretch_1_9&#x27;</div><input id='attrs-7590acdf-6b69-491e-82a8-954b1e8c3db1' class='xr-var-attrs-in' type='checkbox' disabled><label for='attrs-7590acdf-6b69-491e-82a8-954b1e8c3db1' title='Show/Hide attributes'><svg class='icon xr-icon-file-text2'><use xlink:href='#icon-file-text2'></use></svg></label><input id='data-14967cb3-b535-4779-a58a-b1eedce81dd6' class='xr-var-data-in' type='checkbox'><label for='data-14967cb3-b535-4779-a58a-b1eedce81dd6' title='Show/Hide data repr'><svg class='icon xr-icon-database'><use xlink:href='#icon-database'></use></svg></label><div class='xr-var-attrs'><dl class='xr-attrs'></dl></div><div class='xr-var-data'><pre>array([&#x27;m_ohp_1_0&#x27;, &#x27;m_ohp_1_1&#x27;, &#x27;m_ohp_1_10&#x27;, ..., &#x27;s_stretch_1_7&#x27;,\n       &#x27;s_stretch_1_8&#x27;, &#x27;s_stretch_1_9&#x27;], dtype=object)</pre></div></li><li class='xr-var-item'><div class='xr-var-name'><span>neuroid_index</span></div><div class='xr-var-dims'>(neuroid)</div><div class='xr-var-dtype'>int64</div><div class='xr-var-preview xr-preview'>0 1 10 11 12 13 14 ... 4 5 6 7 8 9</div><input id='attrs-57e76a79-75fb-4df4-b261-486ca4db2b53' class='xr-var-attrs-in' type='checkbox' disabled><label for='attrs-57e76a79-75fb-4df4-b261-486ca4db2b53' title='Show/Hide attributes'><svg class='icon xr-icon-file-text2'><use xlink:href='#icon-file-text2'></use></svg></label><input id='data-c8375dff-df33-417b-88c3-0bea8d68d0bc' class='xr-var-data-in' type='checkbox'><label for='data-c8375dff-df33-417b-88c3-0bea8d68d0bc' title='Show/Hide data repr'><svg class='icon xr-icon-database'><use xlink:href='#icon-database'></use></svg></label><div class='xr-var-attrs'><dl class='xr-attrs'></dl></div><div class='xr-var-data'><pre>array([ 0,  1, 10, ...,  7,  8,  9])</pre></div></li><li class='xr-var-item'><div class='xr-var-name'><span>is_target</span></div><div class='xr-var-dims'>(neuroid)</div><div class='xr-var-dtype'>int64</div><div class='xr-var-preview xr-preview'>0 0 0 0 0 0 0 0 ... 1 1 1 1 0 1 1 0</div><input id='attrs-ee08d95e-e7d0-4763-b38d-287c50f929d1' class='xr-var-attrs-in' type='checkbox' disabled><label for='attrs-ee08d95e-e7d0-4763-b38d-287c50f929d1' title='Show/Hide attributes'><svg class='icon xr-icon-file-text2'><use xlink:href='#icon-file-text2'></use></svg></label><input id='data-9a1d363c-f8cf-4a30-b6c6-fc7a3696a715' class='xr-var-data-in' type='checkbox'><label for='data-9a1d363c-f8cf-4a30-b6c6-fc7a3696a715' title='Show/Hide data repr'><svg class='icon xr-icon-database'><use xlink:href='#icon-database'></use></svg></label><div class='xr-var-attrs'><dl class='xr-attrs'></dl></div><div class='xr-var-data'><pre>array([0, 0, 0, ..., 1, 1, 0])</pre></div></li><li class='xr-var-item'><div class='xr-var-name'><span class='xr-has-index'>presentation</span></div><div class='xr-var-dims'>(presentation)</div><div class='xr-var-dtype'>MultiIndex</div><div class='xr-var-preview xr-preview'>(repetition_index, image_id, repetition, animal, setting, session, image_index, filename)</div><input id='attrs-f81f2b6c-5dd0-4b37-8233-b54cf36a482a' class='xr-var-attrs-in' type='checkbox' disabled><label for='attrs-f81f2b6c-5dd0-4b37-8233-b54cf36a482a' title='Show/Hide attributes'><svg class='icon xr-icon-file-text2'><use xlink:href='#icon-file-text2'></use></svg></label><input id='data-82b41ac2-59ee-44e1-95a7-3682debfec01' class='xr-var-data-in' type='checkbox'><label for='data-82b41ac2-59ee-44e1-95a7-3682debfec01' title='Show/Hide data repr'><svg class='icon xr-icon-database'><use xlink:href='#icon-database'></use></svg></label><div class='xr-var-attrs'><dl class='xr-attrs'></dl></div><div class='xr-var-data'><pre>array([(0, &#x27;33ca8ceef160d93d204121f09ea4b49c582a4abe&#x27;, 0, &#x27;monkey_m&#x27;, &#x27;ohp&#x27;, &#x27;session_1&#x27;, 0, &#x27;33ca8ceef160d93d204121f09ea4b49c582a4abe.png&#x27;),\n       (1, &#x27;33ca8ceef160d93d204121f09ea4b49c582a4abe&#x27;, 1, &#x27;monkey_m&#x27;, &#x27;ohp&#x27;, &#x27;session_1&#x27;, 0, &#x27;33ca8ceef160d93d204121f09ea4b49c582a4abe.png&#x27;),\n       (2, &#x27;33ca8ceef160d93d204121f09ea4b49c582a4abe&#x27;, 2, &#x27;monkey_m&#x27;, &#x27;ohp&#x27;, &#x27;session_1&#x27;, 0, &#x27;33ca8ceef160d93d204121f09ea4b49c582a4abe.png&#x27;),\n       ...,\n       (44, &#x27;041d4bd57e069b74d060d82292002aae967a56ee&#x27;, 44, &#x27;monkey_s&#x27;, &#x27;stretch&#x27;, &#x27;session_1&#x27;, 94, &#x27;041d4bd57e069b74d060d82292002aae967a56ee.png&#x27;),\n       (45, &#x27;041d4bd57e069b74d060d82292002aae967a56ee&#x27;, 45, &#x27;monkey_s&#x27;, &#x27;stretch&#x27;, &#x27;session_1&#x27;, 94, &#x27;041d4bd57e069b74d060d82292002aae967a56ee.png&#x27;),\n       (46, &#x27;041d4bd57e069b74d060d82292002aae967a56ee&#x27;, 46, &#x27;monkey_s&#x27;, &#x27;stretch&#x27;, &#x27;session_1&#x27;, 94, &#x27;041d4bd57e069b74d060d82292002aae967a56ee.png&#x27;)],\n      dtype=object)</pre></div></li><li class='xr-var-item'><div class='xr-var-name'><span>repetition_index</span></div><div class='xr-var-dims'>(presentation)</div><div class='xr-var-dtype'>int64</div><div class='xr-var-preview xr-preview'>0 1 2 3 4 5 6 ... 41 42 43 44 45 46</div><input id='attrs-b632730a-07a8-47bb-bfa7-60098a999abd' class='xr-var-attrs-in' type='checkbox' disabled><label for='attrs-b632730a-07a8-47bb-bfa7-60098a999abd' title='Show/Hide attributes'><svg class='icon xr-icon-file-text2'><use xlink:href='#icon-file-text2'></use></svg></label><input id='data-28ec3dc9-1dcc-4037-bcab-9b25583ae8a8' class='xr-var-data-in' type='checkbox'><label for='data-28ec3dc9-1dcc-4037-bcab-9b25583ae8a8' title='Show/Hide data repr'><svg class='icon xr-icon-database'><use xlink:href='#icon-database'></use></svg></label><div class='xr-var-attrs'><dl class='xr-attrs'></dl></div><div class='xr-var-data'><pre>array([ 0,  1,  2, ..., 44, 45, 46])</pre></div></li><li class='xr-var-item'><div class='xr-var-name'><span>image_id</span></div><div class='xr-var-dims'>(presentation)</div><div class='xr-var-dtype'>object</div><div class='xr-var-preview xr-preview'>&#x27;33ca8ceef160d93d204121f09ea4b49...</div><input id='attrs-e7623799-baa8-4dcf-830d-3ab87e2cab01' class='xr-var-attrs-in' type='checkbox' disabled><label for='attrs-e7623799-baa8-4dcf-830d-3ab87e2cab01' title='Show/Hide attributes'><svg class='icon xr-icon-file-text2'><use xlink:href='#icon-file-text2'></use></svg></label><input id='data-05d1625c-23f5-4a71-96e5-86d44c1e14fd' class='xr-var-data-in' type='checkbox'><label for='data-05d1625c-23f5-4a71-96e5-86d44c1e14fd' title='Show/Hide data repr'><svg class='icon xr-icon-database'><use xlink:href='#icon-database'></use></svg></label><div class='xr-var-attrs'><dl class='xr-attrs'></dl></div><div class='xr-var-data'><pre>array([&#x27;33ca8ceef160d93d204121f09ea4b49c582a4abe&#x27;,\n       &#x27;33ca8ceef160d93d204121f09ea4b49c582a4abe&#x27;,\n       &#x27;33ca8ceef160d93d204121f09ea4b49c582a4abe&#x27;, ...,\n       &#x27;041d4bd57e069b74d060d82292002aae967a56ee&#x27;,\n       &#x27;041d4bd57e069b74d060d82292002aae967a56ee&#x27;,\n       &#x27;041d4bd57e069b74d060d82292002aae967a56ee&#x27;], dtype=object)</pre></div></li><li class='xr-var-item'><div class='xr-var-name'><span>repetition</span></div><div class='xr-var-dims'>(presentation)</div><div class='xr-var-dtype'>int64</div><div class='xr-var-preview xr-preview'>0 1 2 3 4 5 6 ... 41 42 43 44 45 46</div><input id='attrs-91eac529-1c5c-46e3-8586-ef1fd22e3e4c' class='xr-var-attrs-in' type='checkbox' disabled><label for='attrs-91eac529-1c5c-46e3-8586-ef1fd22e3e4c' title='Show/Hide attributes'><svg class='icon xr-icon-file-text2'><use xlink:href='#icon-file-text2'></use></svg></label><input id='data-3222cc68-fb0c-45bc-a98d-2c1f205dedcf' class='xr-var-data-in' type='checkbox'><label for='data-3222cc68-fb0c-45bc-a98d-2c1f205dedcf' title='Show/Hide data repr'><svg class='icon xr-icon-database'><use xlink:href='#icon-database'></use></svg></label><div class='xr-var-attrs'><dl class='xr-attrs'></dl></div><div class='xr-var-data'><pre>array([ 0,  1,  2, ..., 44, 45, 46])</pre></div></li><li class='xr-var-item'><div class='xr-var-name'><span>animal</span></div><div class='xr-var-dims'>(presentation)</div><div class='xr-var-dtype'>object</div><div class='xr-var-preview xr-preview'>&#x27;monkey_m&#x27; ... &#x27;monkey_s&#x27;</div><input id='attrs-2ee27261-d9c1-4b85-91e1-23b632a641af' class='xr-var-attrs-in' type='checkbox' disabled><label for='attrs-2ee27261-d9c1-4b85-91e1-23b632a641af' title='Show/Hide attributes'><svg class='icon xr-icon-file-text2'><use xlink:href='#icon-file-text2'></use></svg></label><input id='data-4b6fc382-17fb-4c93-b5d3-6efce09928ae' class='xr-var-data-in' type='checkbox'><label for='data-4b6fc382-17fb-4c93-b5d3-6efce09928ae' title='Show/Hide data repr'><svg class='icon xr-icon-database'><use xlink:href='#icon-database'></use></svg></label><div class='xr-var-attrs'><dl class='xr-attrs'></dl></div><div class='xr-var-data'><pre>array([&#x27;monkey_m&#x27;, &#x27;monkey_m&#x27;, &#x27;monkey_m&#x27;, ..., &#x27;monkey_s&#x27;, &#x27;monkey_s&#x27;,\n       &#x27;monkey_s&#x27;], dtype=object)</pre></div></li><li class='xr-var-item'><div class='xr-var-name'><span>setting</span></div><div class='xr-var-dims'>(presentation)</div><div class='xr-var-dtype'>object</div><div class='xr-var-preview xr-preview'>&#x27;ohp&#x27; &#x27;ohp&#x27; ... &#x27;stretch&#x27; &#x27;stretch&#x27;</div><input id='attrs-7a914c79-de25-4cc0-8c76-3bcfbf5c67f8' class='xr-var-attrs-in' type='checkbox' disabled><label for='attrs-7a914c79-de25-4cc0-8c76-3bcfbf5c67f8' title='Show/Hide attributes'><svg class='icon xr-icon-file-text2'><use xlink:href='#icon-file-text2'></use></svg></label><input id='data-aef280fe-a024-41da-a94d-30b8eb3601cb' class='xr-var-data-in' type='checkbox'><label for='data-aef280fe-a024-41da-a94d-30b8eb3601cb' title='Show/Hide data repr'><svg class='icon xr-icon-database'><use xlink:href='#icon-database'></use></svg></label><div class='xr-var-attrs'><dl class='xr-attrs'></dl></div><div class='xr-var-data'><pre>array([&#x27;ohp&#x27;, &#x27;ohp&#x27;, &#x27;ohp&#x27;, ..., &#x27;stretch&#x27;, &#x27;stretch&#x27;, &#x27;stretch&#x27;], dtype=object)</pre></div></li><li class='xr-var-item'><div class='xr-var-name'><span>session</span></div><div class='xr-var-dims'>(presentation)</div><div class='xr-var-dtype'>object</div><div class='xr-var-preview xr-preview'>&#x27;session_1&#x27; ... &#x27;session_1&#x27;</div><input id='attrs-576cd6bc-9b5d-4a2c-ac9c-7df3d24d17b7' class='xr-var-attrs-in' type='checkbox' disabled><label for='attrs-576cd6bc-9b5d-4a2c-ac9c-7df3d24d17b7' title='Show/Hide attributes'><svg class='icon xr-icon-file-text2'><use xlink:href='#icon-file-text2'></use></svg></label><input id='data-06e7ec7a-0d14-4bba-a412-25b29e7ff4c1' class='xr-var-data-in' type='checkbox'><label for='data-06e7ec7a-0d14-4bba-a412-25b29e7ff4c1' title='Show/Hide data repr'><svg class='icon xr-icon-database'><use xlink:href='#icon-database'></use></svg></label><div class='xr-var-attrs'><dl class='xr-attrs'></dl></div><div class='xr-var-data'><pre>array([&#x27;session_1&#x27;, &#x27;session_1&#x27;, &#x27;session_1&#x27;, ..., &#x27;session_1&#x27;, &#x27;session_1&#x27;,\n       &#x27;session_1&#x27;], dtype=object)</pre></div></li><li class='xr-var-item'><div class='xr-var-name'><span>image_index</span></div><div class='xr-var-dims'>(presentation)</div><div class='xr-var-dtype'>int64</div><div class='xr-var-preview xr-preview'>0 0 0 0 0 0 0 ... 94 94 94 94 94 94</div><input id='attrs-9eeba509-1a01-4bc8-a45b-73da6f70e7ff' class='xr-var-attrs-in' type='checkbox' disabled><label for='attrs-9eeba509-1a01-4bc8-a45b-73da6f70e7ff' title='Show/Hide attributes'><svg class='icon xr-icon-file-text2'><use xlink:href='#icon-file-text2'></use></svg></label><input id='data-3b362dbf-0c40-44ca-9c2b-8f8bd256ca1b' class='xr-var-data-in' type='checkbox'><label for='data-3b362dbf-0c40-44ca-9c2b-8f8bd256ca1b' title='Show/Hide data repr'><svg class='icon xr-icon-database'><use xlink:href='#icon-database'></use></svg></label><div class='xr-var-attrs'><dl class='xr-attrs'></dl></div><div class='xr-var-data'><pre>array([ 0,  0,  0, ..., 94, 94, 94])</pre></div></li><li class='xr-var-item'><div class='xr-var-name'><span>filename</span></div><div class='xr-var-dims'>(presentation)</div><div class='xr-var-dtype'>object</div><div class='xr-var-preview xr-preview'>&#x27;33ca8ceef160d93d204121f09ea4b49...</div><input id='attrs-54660100-4066-4565-8ce2-b803fa092bd4' class='xr-var-attrs-in' type='checkbox' disabled><label for='attrs-54660100-4066-4565-8ce2-b803fa092bd4' title='Show/Hide attributes'><svg class='icon xr-icon-file-text2'><use xlink:href='#icon-file-text2'></use></svg></label><input id='data-b2a5bcfc-5052-4ba9-9bdd-afe81793a2c5' class='xr-var-data-in' type='checkbox'><label for='data-b2a5bcfc-5052-4ba9-9bdd-afe81793a2c5' title='Show/Hide data repr'><svg class='icon xr-icon-database'><use xlink:href='#icon-database'></use></svg></label><div class='xr-var-attrs'><dl class='xr-attrs'></dl></div><div class='xr-var-data'><pre>array([&#x27;33ca8ceef160d93d204121f09ea4b49c582a4abe.png&#x27;,\n       &#x27;33ca8ceef160d93d204121f09ea4b49c582a4abe.png&#x27;,\n       &#x27;33ca8ceef160d93d204121f09ea4b49c582a4abe.png&#x27;, ...,\n       &#x27;041d4bd57e069b74d060d82292002aae967a56ee.png&#x27;,\n       &#x27;041d4bd57e069b74d060d82292002aae967a56ee.png&#x27;,\n       &#x27;041d4bd57e069b74d060d82292002aae967a56ee.png&#x27;], dtype=object)</pre></div></li><li class='xr-var-item'><div class='xr-var-name'><span class='xr-has-index'>time_bin</span></div><div class='xr-var-dims'>(time_bin)</div><div class='xr-var-dtype'>MultiIndex</div><div class='xr-var-preview xr-preview'>(time_bin_start, time_bin_end)</div><input id='attrs-cfd64eab-4641-4b7a-a6db-269764a37a66' class='xr-var-attrs-in' type='checkbox' disabled><label for='attrs-cfd64eab-4641-4b7a-a6db-269764a37a66' title='Show/Hide attributes'><svg class='icon xr-icon-file-text2'><use xlink:href='#icon-file-text2'></use></svg></label><input id='data-20fc29f9-6b2e-45d7-bb8b-bc38f59b84cb' class='xr-var-data-in' type='checkbox'><label for='data-20fc29f9-6b2e-45d7-bb8b-bc38f59b84cb' title='Show/Hide data repr'><svg class='icon xr-icon-database'><use xlink:href='#icon-database'></use></svg></label><div class='xr-var-attrs'><dl class='xr-attrs'></dl></div><div class='xr-var-data'><pre>array([(70, 170)], dtype=object)</pre></div></li><li class='xr-var-item'><div class='xr-var-name'><span>time_bin_start</span></div><div class='xr-var-dims'>(time_bin)</div><div class='xr-var-dtype'>int64</div><div class='xr-var-preview xr-preview'>70</div><input id='attrs-40c6b3f9-d00a-4cda-ba04-522ea5dbdd48' class='xr-var-attrs-in' type='checkbox' disabled><label for='attrs-40c6b3f9-d00a-4cda-ba04-522ea5dbdd48' title='Show/Hide attributes'><svg class='icon xr-icon-file-text2'><use xlink:href='#icon-file-text2'></use></svg></label><input id='data-53a8fb7b-cffb-46eb-984f-d726b91d3c0f' class='xr-var-data-in' type='checkbox'><label for='data-53a8fb7b-cffb-46eb-984f-d726b91d3c0f' title='Show/Hide data repr'><svg class='icon xr-icon-database'><use xlink:href='#icon-database'></use></svg></label><div class='xr-var-attrs'><dl class='xr-attrs'></dl></div><div class='xr-var-data'><pre>array([70])</pre></div></li><li class='xr-var-item'><div class='xr-var-name'><span>time_bin_end</span></div><div class='xr-var-dims'>(time_bin)</div><div class='xr-var-dtype'>int64</div><div class='xr-var-preview xr-preview'>170</div><input id='attrs-7b960b48-afb5-4a2e-b1ca-56721147729c' class='xr-var-attrs-in' type='checkbox' disabled><label for='attrs-7b960b48-afb5-4a2e-b1ca-56721147729c' title='Show/Hide attributes'><svg class='icon xr-icon-file-text2'><use xlink:href='#icon-file-text2'></use></svg></label><input id='data-65bc4bf7-5309-4f77-9e25-e9d65d1d81e9' class='xr-var-data-in' type='checkbox'><label for='data-65bc4bf7-5309-4f77-9e25-e9d65d1d81e9' title='Show/Hide data repr'><svg class='icon xr-icon-database'><use xlink:href='#icon-database'></use></svg></label><div class='xr-var-attrs'><dl class='xr-attrs'></dl></div><div class='xr-var-data'><pre>array([170])</pre></div></li></ul></div></li><li class='xr-section-item'><input id='section-64cb3ead-9ad6-4c63-9b70-86d02703e680' class='xr-section-summary-in' type='checkbox'  checked><label for='section-64cb3ead-9ad6-4c63-9b70-86d02703e680' class='xr-section-summary' >Attributes: <span>(3)</span></label><div class='xr-section-inline-details'></div><div class='xr-section-details'><dl class='xr-attrs'><dt><span>stimulus_set_identifier :</span></dt><dd>dicarlo.BashivanKar2019.synthetic</dd><dt><span>stimulus_set :</span></dt><dd>                                     image_id  image_index  \\\n0    33ca8ceef160d93d204121f09ea4b49c582a4abe            0   \n1    073f80dd7f30c32888460eaaa287c12284fb30f9            1   \n2    310feef7c4da3e638b3fa8a3bb016bc9f05d2e74            2   \n3    c3f3a5a10ed15fb7b8a7442f060dbcb48e3411e7            3   \n4    f5d83ad68c681be1cd967baa3c01257165f06b43            4   \n..                                        ...          ...   \n505  f90a1b30631f80825fb69225ebb27f3b4808de31           90   \n506  200bcdd8934ed30db6cc8b3fa99ad3274285ed7b           91   \n507  eaf63cdbd2b0c5aa82e01e4aca1e104c93077040           92   \n508  365a65f83be86f359021837cbd25502596047da5           93   \n509  041d4bd57e069b74d060d82292002aae967a56ee           94   \n\n                                         filename  setting    animal  \\\n0    33ca8ceef160d93d204121f09ea4b49c582a4abe.png      ohp  monkey_m   \n1    073f80dd7f30c32888460eaaa287c12284fb30f9.png      ohp  monkey_m   \n2    310feef7c4da3e638b3fa8a3bb016bc9f05d2e74.png      ohp  monkey_m   \n3    c3f3a5a10ed15fb7b8a7442f060dbcb48e3411e7.png      ohp  monkey_m   \n4    f5d83ad68c681be1cd967baa3c01257165f06b43.png      ohp  monkey_m   \n..                                            ...      ...       ...   \n505  f90a1b30631f80825fb69225ebb27f3b4808de31.png  stretch  monkey_s   \n506  200bcdd8934ed30db6cc8b3fa99ad3274285ed7b.png  stretch  monkey_s   \n507  eaf63cdbd2b0c5aa82e01e4aca1e104c93077040.png  stretch  monkey_s   \n508  365a65f83be86f359021837cbd25502596047da5.png  stretch  monkey_s   \n509  041d4bd57e069b74d060d82292002aae967a56ee.png  stretch  monkey_s   \n\n       session  \n0    session_1  \n1    session_1  \n2    session_1  \n3    session_1  \n4    session_1  \n..         ...  \n505  session_1  \n506  session_1  \n507  session_1  \n508  session_1  \n509  session_1  \n\n[510 rows x 6 columns]</dd><dt><span>identifier :</span></dt><dd>dicarlo.BashivanKar2019.m_ohp_session_1_synth</dd></dl></div></li></ul></div></div>"
          },
          "metadata": {}
        }
      ],
      "execution_count": 9,
      "metadata": {
        "collapsed": true,
        "jupyter": {
          "source_hidden": false,
          "outputs_hidden": false
        },
        "nteract": {
          "transient": {
            "deleting": false
          }
        },
        "execution": {
          "iopub.status.busy": "2021-01-20T01:07:53.524Z",
          "iopub.execute_input": "2021-01-20T01:07:53.549Z",
          "iopub.status.idle": "2021-01-20T01:07:53.985Z",
          "shell.execute_reply": "2021-01-20T01:07:54.407Z"
        }
      }
    },
    {
      "cell_type": "code",
      "source": [
        "synth_names = [k for k in bk19_assys if \"synth\" in k]\n",
        "synth_names"
      ],
      "outputs": [
        {
          "output_type": "execute_result",
          "execution_count": 11,
          "data": {
            "text/plain": "['dicarlo.BashivanKar2019.m_ohp_session_1_synth',\n 'dicarlo.BashivanKar2019.m_ohp_session_2_synth',\n 'dicarlo.BashivanKar2019.m_stretch_session_1_synth',\n 'dicarlo.BashivanKar2019.m_stretch_session_2_synth',\n 'dicarlo.BashivanKar2019.n_stretch_session_1_synth',\n 'dicarlo.BashivanKar2019.n_stretch_session_2_synth',\n 'dicarlo.BashivanKar2019.s_ohp_session_1_synth',\n 'dicarlo.BashivanKar2019.s_stretch_session_1_synth']"
          },
          "metadata": {}
        }
      ],
      "execution_count": 11,
      "metadata": {
        "collapsed": true,
        "jupyter": {
          "source_hidden": false,
          "outputs_hidden": false
        },
        "nteract": {
          "transient": {
            "deleting": false
          }
        },
        "execution": {
          "iopub.status.busy": "2021-01-20T01:09:30.134Z",
          "iopub.execute_input": "2021-01-20T01:09:30.161Z",
          "iopub.status.idle": "2021-01-20T01:09:30.209Z",
          "shell.execute_reply": "2021-01-20T01:09:30.229Z"
        }
      }
    },
    {
      "cell_type": "code",
      "source": [
        "{k: bk19_assys[k].shape for k in synth_names}"
      ],
      "outputs": [
        {
          "output_type": "execute_result",
          "execution_count": 12,
          "data": {
            "text/plain": "{'dicarlo.BashivanKar2019.m_ohp_session_1_synth': (2550, 39, 1),\n 'dicarlo.BashivanKar2019.m_ohp_session_2_synth': (1800, 38, 1),\n 'dicarlo.BashivanKar2019.m_stretch_session_1_synth': (2550, 39, 1),\n 'dicarlo.BashivanKar2019.m_stretch_session_2_synth': (2640, 52, 1),\n 'dicarlo.BashivanKar2019.n_stretch_session_1_synth': (2790, 20, 1),\n 'dicarlo.BashivanKar2019.n_stretch_session_2_synth': (100, 1, 1),\n 'dicarlo.BashivanKar2019.s_ohp_session_1_synth': (4465, 22, 1),\n 'dicarlo.BashivanKar2019.s_stretch_session_1_synth': (4465, 22, 1)}"
          },
          "metadata": {}
        }
      ],
      "execution_count": 12,
      "metadata": {
        "collapsed": true,
        "jupyter": {
          "source_hidden": false,
          "outputs_hidden": false
        },
        "nteract": {
          "transient": {
            "deleting": false
          }
        },
        "execution": {
          "iopub.status.busy": "2021-01-20T01:11:19.955Z",
          "iopub.execute_input": "2021-01-20T01:11:19.979Z",
          "iopub.status.idle": "2021-01-20T01:11:20.033Z",
          "shell.execute_reply": "2021-01-20T01:11:20.056Z"
        }
      }
    },
    {
      "cell_type": "code",
      "source": [
        "[sum(x) for x in zip(*[bk19_assys[k].shape for k in synth_names])]"
      ],
      "outputs": [
        {
          "output_type": "execute_result",
          "execution_count": 16,
          "data": {
            "text/plain": "[21360, 233, 8]"
          },
          "metadata": {}
        }
      ],
      "execution_count": 16,
      "metadata": {
        "collapsed": true,
        "jupyter": {
          "source_hidden": false,
          "outputs_hidden": false
        },
        "nteract": {
          "transient": {
            "deleting": false
          }
        },
        "execution": {
          "iopub.status.busy": "2021-01-20T01:13:36.093Z",
          "iopub.execute_input": "2021-01-20T01:13:36.115Z",
          "iopub.status.idle": "2021-01-20T01:13:36.164Z",
          "shell.execute_reply": "2021-01-20T01:13:36.187Z"
        }
      }
    },
    {
      "cell_type": "code",
      "source": [
        "concatted.shape"
      ],
      "outputs": [
        {
          "output_type": "execute_result",
          "execution_count": 17,
          "data": {
            "text/plain": "(21360, 233, 1)"
          },
          "metadata": {}
        }
      ],
      "execution_count": 17,
      "metadata": {
        "collapsed": true,
        "jupyter": {
          "source_hidden": false,
          "outputs_hidden": false
        },
        "nteract": {
          "transient": {
            "deleting": false
          }
        },
        "execution": {
          "iopub.status.busy": "2021-01-20T01:14:18.569Z",
          "iopub.execute_input": "2021-01-20T01:14:18.589Z",
          "iopub.status.idle": "2021-01-20T01:14:18.631Z",
          "shell.execute_reply": "2021-01-20T01:14:18.651Z"
        }
      }
    },
    {
      "cell_type": "code",
      "source": [
        "%matplotlib inline\n",
        "from matplotlib import pyplot as plt\n",
        "fig, ax = plt.subplots()\n",
        "fig.set_size_inches(15,25)\n",
        "ax.imshow(concatted[concatted[\"repetition\"]==1].squeeze()[:2500])\n",
        "ax.images[-1].set_cmap(plt.get_cmap().set_bad(color=\"black\"))\n",
        "fig.show()"
      ],
      "outputs": [
        {
          "output_type": "stream",
          "name": "stderr",
          "text": [
            "/Users/jjpr/anaconda/envs/brainio_contrib/lib/python3.7/site-packages/ipykernel_launcher.py:7: UserWarning: Matplotlib is currently using module://ipykernel.pylab.backend_inline, which is a non-GUI backend, so cannot show the figure.\n",
            "  import sys\n"
          ]
        },
        {
          "output_type": "display_data",
          "data": {
            "text/plain": "<Figure size 1080x1800 with 1 Axes>",
            "image/png": "[encoded data removed]"
          },
          "metadata": {
            "needs_background": "light"
          }
        }
      ],
      "execution_count": 26,
      "metadata": {
        "collapsed": false,
        "jupyter": {
          "source_hidden": false,
          "outputs_hidden": false
        },
        "nteract": {
          "transient": {
            "deleting": false
          }
        },
        "execution": {
          "iopub.status.busy": "2021-01-20T01:32:00.155Z",
          "iopub.execute_input": "2021-01-20T01:32:00.178Z",
          "shell.execute_reply": "2021-01-20T01:32:00.969Z",
          "iopub.status.idle": "2021-01-20T01:32:00.932Z"
        }
      }
    },
    {
      "cell_type": "code",
      "source": [],
      "outputs": [],
      "execution_count": null,
      "metadata": {
        "collapsed": true,
        "jupyter": {
          "source_hidden": false,
          "outputs_hidden": false
        },
        "nteract": {
          "transient": {
            "deleting": false
          }
        }
      }
    }
  ],
  "metadata": {
    "kernel_info": {
      "name": "python3"
    },
    "language_info": {
      "name": "python",
      "version": "3.7.2",
      "mimetype": "text/x-python",
      "codemirror_mode": {
        "name": "ipython",
        "version": 3
      },
      "pygments_lexer": "ipython3",
      "nbconvert_exporter": "python",
      "file_extension": ".py"
    },
    "kernelspec": {
      "argv": [
        "/Users/jjpr/anaconda/bin/python",
        "-m",
        "ipykernel_launcher",
        "-f",
        "{connection_file}"
      ],
      "display_name": "Python 3",
      "language": "python",
      "name": "python3"
    },
    "nteract": {
      "version": "0.27.0"
    }
  },
  "nbformat": 4,
  "nbformat_minor": 0
}