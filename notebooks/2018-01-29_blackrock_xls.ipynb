{
  "cells": [
    {
      "cell_type": "code",
      "source": [
        "import os\n",
        "import datetime\n",
        "import xlrd\n",
        "import dataset"
      ],
      "outputs": [],
      "execution_count": 33,
      "metadata": {
        "collapsed": false,
        "outputHidden": false,
        "inputHidden": false
      }
    },
    {
      "cell_type": "code",
      "source": [
        "test_wbk_file = \"/Users/jjpr/dev/scratch/mkgu_scratch/data/2132-8-SN0657.xls\""
      ],
      "outputs": [],
      "execution_count": 2,
      "metadata": {
        "collapsed": false,
        "outputHidden": false,
        "inputHidden": false
      }
    },
    {
      "cell_type": "code",
      "source": [
        "wbk = xlrd.open_workbook(test_wbk_file)"
      ],
      "outputs": [],
      "execution_count": 3,
      "metadata": {
        "collapsed": false,
        "outputHidden": false,
        "inputHidden": false
      }
    },
    {
      "cell_type": "code",
      "source": [
        "wbk.sheet_names()"
      ],
      "outputs": [
        {
          "output_type": "execute_result",
          "execution_count": 6,
          "data": {
            "text/plain": [
              "['Impedance Values from Automated',\n",
              " 'Array Map with Automated Tester',\n",
              " 'Cerebus mapping']"
            ]
          },
          "metadata": {}
        }
      ],
      "execution_count": 6,
      "metadata": {
        "collapsed": false,
        "outputHidden": false,
        "inputHidden": false
      }
    },
    {
      "cell_type": "code",
      "source": [
        "sht = wbk.sheet_by_name(\"Cerebus mapping\")"
      ],
      "outputs": [],
      "execution_count": 7,
      "metadata": {
        "collapsed": false,
        "outputHidden": false,
        "inputHidden": false
      }
    },
    {
      "cell_type": "code",
      "source": [
        "sht"
      ],
      "outputs": [
        {
          "output_type": "execute_result",
          "execution_count": 8,
          "data": {
            "text/plain": [
              "<xlrd.sheet.Sheet at 0x10386c1d0>"
            ]
          },
          "metadata": {}
        }
      ],
      "execution_count": 8,
      "metadata": {
        "collapsed": false,
        "outputHidden": false,
        "inputHidden": false
      }
    },
    {
      "cell_type": "code",
      "source": [
        "[x for x in sht.get_rows()]"
      ],
      "outputs": [
        {
          "output_type": "execute_result",
          "execution_count": 9,
          "data": {
            "text/plain": [
              "[[text:'// Auto generated mapfile',\n",
              "  empty:'',\n",
              "  empty:'',\n",
              "  empty:'',\n",
              "  empty:'',\n",
              "  text:'R14',\n",
              "  number:18.0,\n",
              "  number:14.0],\n",
              " [text:'//',\n",
              "  empty:'',\n",
              "  empty:'',\n",
              "  empty:'',\n",
              "  empty:'',\n",
              "  text:'Array Map with Automated Tester',\n",
              "  empty:'',\n",
              "  empty:''],\n",
              " [text:\"// Data is as follows 'c r b e l'\",\n",
              "  empty:'',\n",
              "  empty:'',\n",
              "  empty:'',\n",
              "  empty:'',\n",
              "  empty:'',\n",
              "  empty:'',\n",
              "  empty:''],\n",
              " [text:'//   c - 0 based column from left to right',\n",
              "  empty:'',\n",
              "  empty:'',\n",
              "  empty:'',\n",
              "  empty:'',\n",
              "  empty:'',\n",
              "  empty:'',\n",
              "  empty:''],\n",
              " [text:'//   r - 0 based row from bottom to top',\n",
              "  empty:'',\n",
              "  empty:'',\n",
              "  empty:'',\n",
              "  empty:'',\n",
              "  empty:'',\n",
              "  empty:'',\n",
              "  empty:''],\n",
              " [text:'//   b - bank name - values can be A, B, C, or D',\n",
              "  empty:'',\n",
              "  empty:'',\n",
              "  empty:'',\n",
              "  empty:'',\n",
              "  empty:'',\n",
              "  empty:'',\n",
              "  empty:''],\n",
              " [text:'//   e - 1 based electrode number within the bank - values can be 1-32',\n",
              "  empty:'',\n",
              "  empty:'',\n",
              "  empty:'',\n",
              "  empty:'',\n",
              "  empty:'',\n",
              "  empty:'',\n",
              "  empty:''],\n",
              " [text:'//   l - label used to rename channels in Central',\n",
              "  empty:'',\n",
              "  empty:'',\n",
              "  empty:'',\n",
              "  empty:'',\n",
              "  empty:'',\n",
              "  empty:'',\n",
              "  empty:''],\n",
              " [text:'//',\n",
              "  empty:'',\n",
              "  empty:'',\n",
              "  empty:'',\n",
              "  empty:'',\n",
              "  empty:'',\n",
              "  empty:'',\n",
              "  empty:''],\n",
              " [text:'// Comments begin with //',\n",
              "  empty:'',\n",
              "  empty:'',\n",
              "  empty:'',\n",
              "  empty:'',\n",
              "  empty:'',\n",
              "  empty:'',\n",
              "  empty:''],\n",
              " [text:'// First non-comment line is the Mapfile description',\n",
              "  empty:'',\n",
              "  empty:'',\n",
              "  empty:'',\n",
              "  empty:'',\n",
              "  empty:'',\n",
              "  empty:'',\n",
              "  empty:''],\n",
              " [text:'//',\n",
              "  empty:'',\n",
              "  empty:'',\n",
              "  empty:'',\n",
              "  empty:'',\n",
              "  empty:'',\n",
              "  empty:'',\n",
              "  empty:''],\n",
              " [text:'Cerebus mapping for array 2132-8/SN0657',\n",
              "  empty:'',\n",
              "  empty:'',\n",
              "  empty:'',\n",
              "  empty:'',\n",
              "  empty:'',\n",
              "  text:'elec',\n",
              "  empty:''],\n",
              " [number:8.0,\n",
              "  number:9.0,\n",
              "  text:'A',\n",
              "  text:'14',\n",
              "  text:'elec99',\n",
              "  text:'A 1',\n",
              "  number:93.0,\n",
              "  number:99.0],\n",
              " [number:7.0,\n",
              "  number:9.0,\n",
              "  text:'A',\n",
              "  text:'10',\n",
              "  text:'elec98',\n",
              "  text:'A 2',\n",
              "  number:92.0,\n",
              "  number:98.0],\n",
              " [number:6.0,\n",
              "  number:9.0,\n",
              "  text:'A',\n",
              "  text:'8',\n",
              "  text:'elec97',\n",
              "  text:'A 3',\n",
              "  number:94.0,\n",
              "  number:97.0],\n",
              " [number:5.0,\n",
              "  number:9.0,\n",
              "  text:'A',\n",
              "  text:'6',\n",
              "  text:'elec96',\n",
              "  text:'A 4',\n",
              "  number:95.0,\n",
              "  number:96.0],\n",
              " [number:4.0,\n",
              "  number:9.0,\n",
              "  text:'A',\n",
              "  text:'4',\n",
              "  text:'elec95',\n",
              "  text:'A 5',\n",
              "  number:75.0,\n",
              "  number:95.0],\n",
              " [number:3.0,\n",
              "  number:9.0,\n",
              "  text:'A',\n",
              "  text:'3',\n",
              "  text:'elec94',\n",
              "  text:'A 6',\n",
              "  number:96.0,\n",
              "  number:94.0],\n",
              " [number:2.0,\n",
              "  number:9.0,\n",
              "  text:'A',\n",
              "  text:'1',\n",
              "  text:'elec93',\n",
              "  text:'A 7',\n",
              "  number:85.0,\n",
              "  number:93.0],\n",
              " [number:1.0,\n",
              "  number:9.0,\n",
              "  text:'A',\n",
              "  text:'2',\n",
              "  text:'elec92',\n",
              "  text:'A 8',\n",
              "  number:97.0,\n",
              "  number:92.0],\n",
              " [number:0.0,\n",
              "  number:9.0,\n",
              "  text:'C',\n",
              "  text:'3',\n",
              "  text:'elec91',\n",
              "  text:'A 9',\n",
              "  number:86.0,\n",
              "  number:91.0],\n",
              " [number:9.0,\n",
              "  number:8.0,\n",
              "  text:'A',\n",
              "  text:'18',\n",
              "  text:'elec90',\n",
              "  text:'A 10',\n",
              "  number:98.0,\n",
              "  number:90.0],\n",
              " [number:8.0,\n",
              "  number:8.0,\n",
              "  text:'A',\n",
              "  text:'16',\n",
              "  text:'elec89',\n",
              "  text:'A 11',\n",
              "  number:87.0,\n",
              "  number:89.0],\n",
              " [number:7.0,\n",
              "  number:8.0,\n",
              "  text:'A',\n",
              "  text:'12',\n",
              "  text:'elec88',\n",
              "  text:'A 12',\n",
              "  number:88.0,\n",
              "  number:88.0],\n",
              " [number:6.0,\n",
              "  number:8.0,\n",
              "  text:'A',\n",
              "  text:'11',\n",
              "  text:'elec87',\n",
              "  text:'A 13',\n",
              "  number:77.0,\n",
              "  number:87.0],\n",
              " [number:5.0,\n",
              "  number:8.0,\n",
              "  text:'A',\n",
              "  text:'9',\n",
              "  text:'elec86',\n",
              "  text:'A 14',\n",
              "  number:99.0,\n",
              "  number:86.0],\n",
              " [number:4.0,\n",
              "  number:8.0,\n",
              "  text:'A',\n",
              "  text:'7',\n",
              "  text:'elec85',\n",
              "  text:'A 15',\n",
              "  number:66.0,\n",
              "  number:85.0],\n",
              " [number:3.0,\n",
              "  number:8.0,\n",
              "  text:'B',\n",
              "  text:'2',\n",
              "  text:'elec84',\n",
              "  text:'A 16',\n",
              "  number:89.0,\n",
              "  number:84.0],\n",
              " [number:2.0,\n",
              "  number:8.0,\n",
              "  text:'B',\n",
              "  text:'1',\n",
              "  text:'elec83',\n",
              "  text:'A 17',\n",
              "  number:76.0,\n",
              "  number:83.0],\n",
              " [number:1.0,\n",
              "  number:8.0,\n",
              "  text:'C',\n",
              "  text:'2',\n",
              "  text:'elec82',\n",
              "  text:'A 18',\n",
              "  number:90.0,\n",
              "  number:82.0],\n",
              " [number:0.0,\n",
              "  number:8.0,\n",
              "  text:'C',\n",
              "  text:'1',\n",
              "  text:'elec81',\n",
              "  text:'A 19',\n",
              "  number:67.0,\n",
              "  number:81.0],\n",
              " [number:9.0,\n",
              "  number:7.0,\n",
              "  text:'A',\n",
              "  text:'22',\n",
              "  text:'elec80',\n",
              "  text:'A 20',\n",
              "  number:79.0,\n",
              "  number:80.0],\n",
              " [number:8.0,\n",
              "  number:7.0,\n",
              "  text:'A',\n",
              "  text:'20',\n",
              "  text:'elec79',\n",
              "  text:'A 21',\n",
              "  number:58.0,\n",
              "  number:79.0],\n",
              " [number:7.0,\n",
              "  number:7.0,\n",
              "  text:'A',\n",
              "  text:'23',\n",
              "  text:'elec78',\n",
              "  text:'A 22',\n",
              "  number:80.0,\n",
              "  number:78.0],\n",
              " [number:6.0,\n",
              "  number:7.0,\n",
              "  text:'A',\n",
              "  text:'13',\n",
              "  text:'elec77',\n",
              "  text:'A 23',\n",
              "  number:78.0,\n",
              "  number:77.0],\n",
              " [number:5.0,\n",
              "  number:7.0,\n",
              "  text:'A',\n",
              "  text:'17',\n",
              "  text:'elec76',\n",
              "  text:'A 24',\n",
              "  number:70.0,\n",
              "  number:76.0],\n",
              " [number:4.0,\n",
              "  number:7.0,\n",
              "  text:'A',\n",
              "  text:'5',\n",
              "  text:'elec75',\n",
              "  text:'A 25',\n",
              "  number:68.0,\n",
              "  number:75.0],\n",
              " [number:3.0,\n",
              "  number:7.0,\n",
              "  text:'B',\n",
              "  text:'4',\n",
              "  text:'elec74',\n",
              "  text:'A 26',\n",
              "  number:60.0,\n",
              "  number:74.0],\n",
              " [number:2.0,\n",
              "  number:7.0,\n",
              "  text:'B',\n",
              "  text:'3',\n",
              "  text:'elec73',\n",
              "  text:'A 27',\n",
              "  number:69.0,\n",
              "  number:73.0],\n",
              " [number:1.0,\n",
              "  number:7.0,\n",
              "  text:'C',\n",
              "  text:'4',\n",
              "  text:'elec72',\n",
              "  text:'A 28',\n",
              "  number:50.0,\n",
              "  number:72.0],\n",
              " [number:9.0,\n",
              "  number:6.0,\n",
              "  text:'A',\n",
              "  text:'24',\n",
              "  text:'elec70',\n",
              "  text:'A 29',\n",
              "  number:59.0,\n",
              "  number:70.0],\n",
              " [number:8.0,\n",
              "  number:6.0,\n",
              "  text:'A',\n",
              "  text:'27',\n",
              "  text:'elec69',\n",
              "  text:'A 30',\n",
              "  number:40.0,\n",
              "  number:69.0],\n",
              " [number:7.0,\n",
              "  number:6.0,\n",
              "  text:'A',\n",
              "  text:'25',\n",
              "  text:'elec68',\n",
              "  text:'A 31',\n",
              "  number:49.0,\n",
              "  number:68.0],\n",
              " [number:6.0,\n",
              "  number:6.0,\n",
              "  text:'A',\n",
              "  text:'19',\n",
              "  text:'elec67',\n",
              "  text:'A 32',\n",
              "  number:30.0,\n",
              "  number:67.0],\n",
              " [number:5.0,\n",
              "  number:6.0,\n",
              "  text:'A',\n",
              "  text:'15',\n",
              "  text:'elec66',\n",
              "  text:'A 33',\n",
              "  number:0.0,\n",
              "  number:66.0],\n",
              " [number:4.0,\n",
              "  number:6.0,\n",
              "  text:'B',\n",
              "  text:'16',\n",
              "  text:'elec65',\n",
              "  text:'A 34',\n",
              "  number:0.0,\n",
              "  number:65.0],\n",
              " [number:3.0,\n",
              "  number:6.0,\n",
              "  text:'B',\n",
              "  text:'6',\n",
              "  text:'elec64',\n",
              "  text:'A 35',\n",
              "  number:0.0,\n",
              "  number:64.0],\n",
              " [number:2.0,\n",
              "  number:6.0,\n",
              "  text:'B',\n",
              "  text:'5',\n",
              "  text:'elec63',\n",
              "  text:'A 36',\n",
              "  number:0.0,\n",
              "  number:63.0],\n",
              " [number:1.0,\n",
              "  number:6.0,\n",
              "  text:'C',\n",
              "  text:'6',\n",
              "  text:'elec62',\n",
              "  text:'B 1',\n",
              "  number:83.0,\n",
              "  number:62.0],\n",
              " [number:0.0,\n",
              "  number:6.0,\n",
              "  text:'C',\n",
              "  text:'5',\n",
              "  text:'elec61',\n",
              "  text:'B 2',\n",
              "  number:84.0,\n",
              "  number:61.0],\n",
              " [number:9.0,\n",
              "  number:5.0,\n",
              "  text:'A',\n",
              "  text:'26',\n",
              "  text:'elec60',\n",
              "  text:'B 3',\n",
              "  number:73.0,\n",
              "  number:60.0],\n",
              " [number:8.0,\n",
              "  number:5.0,\n",
              "  text:'A',\n",
              "  text:'29',\n",
              "  text:'elec59',\n",
              "  text:'B 4',\n",
              "  number:74.0,\n",
              "  number:59.0],\n",
              " [number:7.0,\n",
              "  number:5.0,\n",
              "  text:'A',\n",
              "  text:'21',\n",
              "  text:'elec58',\n",
              "  text:'B 5',\n",
              "  number:63.0,\n",
              "  number:58.0],\n",
              " [number:6.0,\n",
              "  number:5.0,\n",
              "  text:'B',\n",
              "  text:'22',\n",
              "  text:'elec57',\n",
              "  text:'B 6',\n",
              "  number:64.0,\n",
              "  number:57.0],\n",
              " [number:5.0,\n",
              "  number:5.0,\n",
              "  text:'B',\n",
              "  text:'18',\n",
              "  text:'elec56',\n",
              "  text:'B 7',\n",
              "  number:53.0,\n",
              "  number:56.0],\n",
              " [number:4.0,\n",
              "  number:5.0,\n",
              "  text:'B',\n",
              "  text:'10',\n",
              "  text:'elec55',\n",
              "  text:'B 8',\n",
              "  number:54.0,\n",
              "  number:55.0],\n",
              " [number:3.0,\n",
              "  number:5.0,\n",
              "  text:'B',\n",
              "  text:'8',\n",
              "  text:'elec54',\n",
              "  text:'B 9',\n",
              "  number:43.0,\n",
              "  number:54.0],\n",
              " [number:2.0,\n",
              "  number:5.0,\n",
              "  text:'B',\n",
              "  text:'7',\n",
              "  text:'elec53',\n",
              "  text:'B 10',\n",
              "  number:55.0,\n",
              "  number:53.0],\n",
              " [number:1.0,\n",
              "  number:5.0,\n",
              "  text:'C',\n",
              "  text:'8',\n",
              "  text:'elec52',\n",
              "  text:'B 11',\n",
              "  number:44.0,\n",
              "  number:52.0],\n",
              " [number:0.0,\n",
              "  number:5.0,\n",
              "  text:'C',\n",
              "  text:'7',\n",
              "  text:'elec51',\n",
              "  text:'B 12',\n",
              "  number:45.0,\n",
              "  number:51.0],\n",
              " [number:9.0,\n",
              "  number:4.0,\n",
              "  text:'A',\n",
              "  text:'28',\n",
              "  text:'elec50',\n",
              "  text:'B 13',\n",
              "  number:33.0,\n",
              "  number:50.0],\n",
              " [number:8.0,\n",
              "  number:4.0,\n",
              "  text:'A',\n",
              "  text:'31',\n",
              "  text:'elec49',\n",
              "  text:'B 14',\n",
              "  number:46.0,\n",
              "  number:49.0],\n",
              " [number:7.0,\n",
              "  number:4.0,\n",
              "  text:'B',\n",
              "  text:'30',\n",
              "  text:'elec48',\n",
              "  text:'B 15',\n",
              "  number:34.0,\n",
              "  number:48.0],\n",
              " [number:6.0,\n",
              "  number:4.0,\n",
              "  text:'B',\n",
              "  text:'20',\n",
              "  text:'elec47',\n",
              "  text:'B 16',\n",
              "  number:65.0,\n",
              "  number:47.0],\n",
              " [number:5.0,\n",
              "  number:4.0,\n",
              "  text:'B',\n",
              "  text:'14',\n",
              "  text:'elec46',\n",
              "  text:'B 17',\n",
              "  number:24.0,\n",
              "  number:46.0],\n",
              " [number:4.0,\n",
              "  number:4.0,\n",
              "  text:'B',\n",
              "  text:'12',\n",
              "  text:'elec45',\n",
              "  text:'B 18',\n",
              "  number:56.0,\n",
              "  number:45.0],\n",
              " [number:3.0,\n",
              "  number:4.0,\n",
              "  text:'B',\n",
              "  text:'11',\n",
              "  text:'elec44',\n",
              "  text:'B 19',\n",
              "  number:35.0,\n",
              "  number:44.0],\n",
              " [number:2.0,\n",
              "  number:4.0,\n",
              "  text:'B',\n",
              "  text:'9',\n",
              "  text:'elec43',\n",
              "  text:'B 20',\n",
              "  number:47.0,\n",
              "  number:43.0],\n",
              " [number:1.0,\n",
              "  number:4.0,\n",
              "  text:'C',\n",
              "  text:'10',\n",
              "  text:'elec42',\n",
              "  text:'B 21',\n",
              "  number:25.0,\n",
              "  number:42.0],\n",
              " [number:0.0,\n",
              "  number:4.0,\n",
              "  text:'C',\n",
              "  text:'9',\n",
              "  text:'elec41',\n",
              "  text:'B 22',\n",
              "  number:57.0,\n",
              "  number:41.0],\n",
              " [number:9.0,\n",
              "  number:3.0,\n",
              "  text:'A',\n",
              "  text:'30',\n",
              "  text:'elec40',\n",
              "  text:'B 23',\n",
              "  number:26.0,\n",
              "  number:40.0],\n",
              " [number:8.0,\n",
              "  number:3.0,\n",
              "  text:'B',\n",
              "  text:'32',\n",
              "  text:'elec39',\n",
              "  text:'B 24',\n",
              "  number:36.0,\n",
              "  number:39.0],\n",
              " [number:7.0,\n",
              "  number:3.0,\n",
              "  text:'B',\n",
              "  text:'28',\n",
              "  text:'elec38',\n",
              "  text:'B 25',\n",
              "  number:27.0,\n",
              "  number:38.0],\n",
              " [number:6.0,\n",
              "  number:3.0,\n",
              "  text:'B',\n",
              "  text:'26',\n",
              "  text:'elec37',\n",
              "  text:'B 26',\n",
              "  number:37.0,\n",
              "  number:37.0],\n",
              " [number:5.0,\n",
              "  number:3.0,\n",
              "  text:'B',\n",
              "  text:'24',\n",
              "  text:'elec36',\n",
              "  text:'B 27',\n",
              "  number:28.0,\n",
              "  number:36.0],\n",
              " [number:4.0,\n",
              "  number:3.0,\n",
              "  text:'B',\n",
              "  text:'19',\n",
              "  text:'elec35',\n",
              "  text:'B 28',\n",
              "  number:38.0,\n",
              "  number:35.0],\n",
              " [number:3.0,\n",
              "  number:3.0,\n",
              "  text:'B',\n",
              "  text:'15',\n",
              "  text:'elec34',\n",
              "  text:'B 29',\n",
              "  number:29.0,\n",
              "  number:34.0],\n",
              " [number:2.0,\n",
              "  number:3.0,\n",
              "  text:'B',\n",
              "  text:'13',\n",
              "  text:'elec33',\n",
              "  text:'B 30',\n",
              "  number:48.0,\n",
              "  number:33.0],\n",
              " [number:1.0,\n",
              "  number:3.0,\n",
              "  text:'C',\n",
              "  text:'12',\n",
              "  text:'elec32',\n",
              "  text:'B 31',\n",
              "  number:19.0,\n",
              "  number:32.0],\n",
              " [number:0.0,\n",
              "  number:3.0,\n",
              "  text:'C',\n",
              "  text:'11',\n",
              "  text:'elec31',\n",
              "  text:'B 32',\n",
              "  number:39.0,\n",
              "  number:31.0],\n",
              " [number:9.0,\n",
              "  number:2.0,\n",
              "  text:'A',\n",
              "  text:'32',\n",
              "  text:'elec30',\n",
              "  text:'B 33',\n",
              "  number:0.0,\n",
              "  number:30.0],\n",
              " [number:8.0,\n",
              "  number:2.0,\n",
              "  text:'B',\n",
              "  text:'29',\n",
              "  text:'elec29',\n",
              "  text:'B 34',\n",
              "  number:0.0,\n",
              "  number:29.0],\n",
              " [number:7.0,\n",
              "  number:2.0,\n",
              "  text:'B',\n",
              "  text:'27',\n",
              "  text:'elec28',\n",
              "  text:'B 35',\n",
              "  number:0.0,\n",
              "  number:28.0],\n",
              " [number:6.0,\n",
              "  number:2.0,\n",
              "  text:'B',\n",
              "  text:'25',\n",
              "  text:'elec27',\n",
              "  text:'B 36',\n",
              "  number:0.0,\n",
              "  number:27.0],\n",
              " [number:5.0,\n",
              "  number:2.0,\n",
              "  text:'B',\n",
              "  text:'23',\n",
              "  text:'elec26',\n",
              "  text:'C 1',\n",
              "  number:81.0,\n",
              "  number:26.0],\n",
              " [number:4.0,\n",
              "  number:2.0,\n",
              "  text:'B',\n",
              "  text:'21',\n",
              "  text:'elec25',\n",
              "  text:'C 2',\n",
              "  number:82.0,\n",
              "  number:25.0],\n",
              " [number:3.0,\n",
              "  number:2.0,\n",
              "  text:'B',\n",
              "  text:'17',\n",
              "  text:'elec24',\n",
              "  text:'C 3',\n",
              "  number:91.0,\n",
              "  number:24.0],\n",
              " [number:2.0,\n",
              "  number:2.0,\n",
              "  text:'C',\n",
              "  text:'18',\n",
              "  text:'elec23',\n",
              "  text:'C 4',\n",
              "  number:72.0,\n",
              "  number:23.0],\n",
              " [number:1.0,\n",
              "  number:2.0,\n",
              "  text:'C',\n",
              "  text:'14',\n",
              "  text:'elec22',\n",
              "  text:'C 5',\n",
              "  number:61.0,\n",
              "  number:22.0],\n",
              " [number:0.0,\n",
              "  number:2.0,\n",
              "  text:'C',\n",
              "  text:'13',\n",
              "  text:'elec21',\n",
              "  text:'C 6',\n",
              "  number:62.0,\n",
              "  number:21.0],\n",
              " [number:9.0,\n",
              "  number:1.0,\n",
              "  text:'C',\n",
              "  text:'31',\n",
              "  text:'elec20',\n",
              "  text:'C 7',\n",
              "  number:51.0,\n",
              "  number:20.0],\n",
              " [number:8.0,\n",
              "  number:1.0,\n",
              "  text:'B',\n",
              "  text:'31',\n",
              "  text:'elec19',\n",
              "  text:'C 8',\n",
              "  number:52.0,\n",
              "  number:19.0],\n",
              " [number:7.0,\n",
              "  number:1.0,\n",
              "  text:'C',\n",
              "  text:'30',\n",
              "  text:'elec18',\n",
              "  text:'C 9',\n",
              "  number:41.0,\n",
              "  number:18.0],\n",
              " [number:6.0,\n",
              "  number:1.0,\n",
              "  text:'C',\n",
              "  text:'27',\n",
              "  text:'elec17',\n",
              "  text:'C 10',\n",
              "  number:42.0,\n",
              "  number:17.0],\n",
              " [number:5.0,\n",
              "  number:1.0,\n",
              "  text:'C',\n",
              "  text:'25',\n",
              "  text:'elec16',\n",
              "  text:'C 11',\n",
              "  number:31.0,\n",
              "  number:16.0],\n",
              " [number:4.0,\n",
              "  number:1.0,\n",
              "  text:'C',\n",
              "  text:'23',\n",
              "  text:'elec15',\n",
              "  text:'C 12',\n",
              "  number:32.0,\n",
              "  number:15.0],\n",
              " [number:3.0,\n",
              "  number:1.0,\n",
              "  text:'C',\n",
              "  text:'22',\n",
              "  text:'elec14',\n",
              "  text:'C 13',\n",
              "  number:21.0,\n",
              "  number:14.0],\n",
              " [number:2.0,\n",
              "  number:1.0,\n",
              "  text:'C',\n",
              "  text:'20',\n",
              "  text:'elec13',\n",
              "  text:'C 14',\n",
              "  number:22.0,\n",
              "  number:13.0],\n",
              " [number:1.0,\n",
              "  number:1.0,\n",
              "  text:'C',\n",
              "  text:'16',\n",
              "  text:'elec12',\n",
              "  text:'C 15',\n",
              "  number:11.0,\n",
              "  number:12.0],\n",
              " [number:0.0,\n",
              "  number:1.0,\n",
              "  text:'C',\n",
              "  text:'15',\n",
              "  text:'elec11',\n",
              "  text:'C 16',\n",
              "  number:12.0,\n",
              "  number:11.0],\n",
              " [number:8.0,\n",
              "  number:0.0,\n",
              "  text:'C',\n",
              "  text:'32',\n",
              "  text:'elec9',\n",
              "  text:'C 17',\n",
              "  number:1.0,\n",
              "  number:9.0],\n",
              " [number:7.0,\n",
              "  number:0.0,\n",
              "  text:'C',\n",
              "  text:'29',\n",
              "  text:'elec8',\n",
              "  text:'C 18',\n",
              "  number:23.0,\n",
              "  number:8.0],\n",
              " [number:6.0,\n",
              "  number:0.0,\n",
              "  text:'C',\n",
              "  text:'28',\n",
              "  text:'elec7',\n",
              "  text:'C 19',\n",
              "  number:3.0,\n",
              "  number:7.0],\n",
              " [number:5.0,\n",
              "  number:0.0,\n",
              "  text:'C',\n",
              "  text:'26',\n",
              "  text:'elec6',\n",
              "  text:'C 20',\n",
              "  number:13.0,\n",
              "  number:6.0],\n",
              " [number:4.0,\n",
              "  number:0.0,\n",
              "  text:'C',\n",
              "  text:'24',\n",
              "  text:'elec5',\n",
              "  text:'C 21',\n",
              "  number:4.0,\n",
              "  number:5.0],\n",
              " [number:3.0,\n",
              "  number:0.0,\n",
              "  text:'C',\n",
              "  text:'21',\n",
              "  text:'elec4',\n",
              "  text:'C 22',\n",
              "  number:14.0,\n",
              "  number:4.0],\n",
              " [number:2.0,\n",
              "  number:0.0,\n",
              "  text:'C',\n",
              "  text:'19',\n",
              "  text:'elec3',\n",
              "  text:'C 23',\n",
              "  number:15.0,\n",
              "  number:3.0],\n",
              " [number:0.0,\n",
              "  number:0.0,\n",
              "  text:'C',\n",
              "  text:'17',\n",
              "  text:'elec1',\n",
              "  text:'C 24',\n",
              "  number:5.0,\n",
              "  number:1.0],\n",
              " [text:'',\n",
              "  text:'',\n",
              "  text:'',\n",
              "  text:'',\n",
              "  text:'',\n",
              "  text:'C 25',\n",
              "  number:16.0,\n",
              "  number:0.0],\n",
              " [text:'',\n",
              "  text:'',\n",
              "  text:'',\n",
              "  text:'',\n",
              "  text:'',\n",
              "  text:'C 26',\n",
              "  number:6.0,\n",
              "  number:0.0],\n",
              " [text:'',\n",
              "  text:'',\n",
              "  text:'',\n",
              "  text:'',\n",
              "  text:'',\n",
              "  text:'C 27',\n",
              "  number:17.0,\n",
              "  number:0.0],\n",
              " [text:'',\n",
              "  text:'',\n",
              "  text:'',\n",
              "  text:'',\n",
              "  text:'',\n",
              "  text:'C 28',\n",
              "  number:7.0,\n",
              "  number:0.0],\n",
              " [text:'',\n",
              "  text:'',\n",
              "  text:'',\n",
              "  text:'',\n",
              "  text:'',\n",
              "  text:'C 29',\n",
              "  number:8.0,\n",
              "  number:0.0],\n",
              " [text:'',\n",
              "  text:'',\n",
              "  text:'',\n",
              "  text:'',\n",
              "  text:'',\n",
              "  text:'C 30',\n",
              "  number:18.0,\n",
              "  number:0.0],\n",
              " [text:'',\n",
              "  text:'',\n",
              "  text:'',\n",
              "  text:'',\n",
              "  text:'',\n",
              "  text:'C 31',\n",
              "  number:20.0,\n",
              "  number:0.0],\n",
              " [text:'',\n",
              "  text:'',\n",
              "  text:'',\n",
              "  text:'',\n",
              "  text:'',\n",
              "  text:'C 32',\n",
              "  number:9.0,\n",
              "  number:0.0],\n",
              " [text:'',\n",
              "  text:'',\n",
              "  text:'',\n",
              "  text:'',\n",
              "  text:'',\n",
              "  text:'C 33',\n",
              "  number:0.0,\n",
              "  number:0.0],\n",
              " [text:'',\n",
              "  text:'',\n",
              "  text:'',\n",
              "  text:'',\n",
              "  text:'',\n",
              "  text:'C 34',\n",
              "  number:0.0,\n",
              "  number:0.0],\n",
              " [text:'',\n",
              "  text:'',\n",
              "  text:'',\n",
              "  text:'',\n",
              "  text:'',\n",
              "  text:'C 35',\n",
              "  number:0.0,\n",
              "  number:0.0],\n",
              " [text:'',\n",
              "  text:'',\n",
              "  text:'',\n",
              "  text:'',\n",
              "  text:'',\n",
              "  text:'C 36',\n",
              "  number:0.0,\n",
              "  number:0.0]]"
            ]
          },
          "metadata": {}
        }
      ],
      "execution_count": 9,
      "metadata": {
        "collapsed": false,
        "outputHidden": true,
        "inputHidden": false
      }
    },
    {
      "cell_type": "code",
      "source": [
        "id_row = sht.row(12)\n",
        "id_row"
      ],
      "outputs": [
        {
          "output_type": "execute_result",
          "execution_count": 12,
          "data": {
            "text/plain": [
              "[text:'Cerebus mapping for array 2132-8/SN0657',\n",
              " empty:'',\n",
              " empty:'',\n",
              " empty:'',\n",
              " empty:'',\n",
              " empty:'',\n",
              " text:'elec',\n",
              " empty:'']"
            ]
          },
          "metadata": {}
        }
      ],
      "execution_count": 12,
      "metadata": {
        "collapsed": false,
        "outputHidden": false,
        "inputHidden": false
      }
    },
    {
      "cell_type": "code",
      "source": [
        "type(id_row)"
      ],
      "outputs": [
        {
          "output_type": "execute_result",
          "execution_count": 13,
          "data": {
            "text/plain": [
              "list"
            ]
          },
          "metadata": {}
        }
      ],
      "execution_count": 13,
      "metadata": {
        "collapsed": false,
        "outputHidden": false,
        "inputHidden": false
      }
    },
    {
      "cell_type": "code",
      "source": [
        "type(id_row[0])"
      ],
      "outputs": [
        {
          "output_type": "execute_result",
          "execution_count": 15,
          "data": {
            "text/plain": [
              "xlrd.sheet.Cell"
            ]
          },
          "metadata": {}
        }
      ],
      "execution_count": 15,
      "metadata": {
        "collapsed": false,
        "outputHidden": false,
        "inputHidden": false
      }
    },
    {
      "cell_type": "code",
      "source": [
        "id_cell = id_row[0]\n",
        "id_cell"
      ],
      "outputs": [
        {
          "output_type": "execute_result",
          "execution_count": 16,
          "data": {
            "text/plain": [
              "text:'Cerebus mapping for array 2132-8/SN0657'"
            ]
          },
          "metadata": {}
        }
      ],
      "execution_count": 16,
      "metadata": {
        "collapsed": false,
        "outputHidden": false,
        "inputHidden": false
      }
    },
    {
      "cell_type": "code",
      "source": [
        "id_cell.dump()"
      ],
      "outputs": [
        {
          "output_type": "stream",
          "name": "stderr",
          "text": [
            "ctype: 1\n",
            "value: 'Cerebus mapping for array 2132-8/SN0657'\n",
            "xf_index: None\n"
          ]
        }
      ],
      "execution_count": 20,
      "metadata": {
        "collapsed": false,
        "outputHidden": false,
        "inputHidden": false
      }
    },
    {
      "cell_type": "code",
      "source": [
        "[x for x in sht.row(12)]"
      ],
      "outputs": [
        {
          "output_type": "execute_result",
          "execution_count": 11,
          "data": {
            "text/plain": [
              "[text:'Cerebus mapping for array 2132-8/SN0657',\n",
              " empty:'',\n",
              " empty:'',\n",
              " empty:'',\n",
              " empty:'',\n",
              " empty:'',\n",
              " text:'elec',\n",
              " empty:'']"
            ]
          },
          "metadata": {}
        }
      ],
      "execution_count": 11,
      "metadata": {
        "collapsed": false,
        "outputHidden": false,
        "inputHidden": false
      }
    },
    {
      "cell_type": "code",
      "source": [
        "[x.dump() for x in sht.row(13)]"
      ],
      "outputs": [
        {
          "output_type": "stream",
          "name": "stderr",
          "text": [
            "ctype: 2\n",
            "value: 8.0\n",
            "xf_index: None\n",
            "ctype: 2\n",
            "value: 9.0\n",
            "xf_index: None\n",
            "ctype: 1\n",
            "value: 'A'\n",
            "xf_index: None\n",
            "ctype: 1\n",
            "value: '14'\n",
            "xf_index: None\n",
            "ctype: 1\n",
            "value: 'elec99'\n",
            "xf_index: None\n",
            "ctype: 1\n",
            "value: 'A 1'\n",
            "xf_index: None\n",
            "ctype: 2\n",
            "value: 93.0\n",
            "xf_index: None\n",
            "ctype: 2\n",
            "value: 99.0\n",
            "xf_index: None\n"
          ]
        },
        {
          "output_type": "execute_result",
          "execution_count": 22,
          "data": {
            "text/plain": [
              "[None, None, None, None, None, None, None, None]"
            ]
          },
          "metadata": {}
        }
      ],
      "execution_count": 22,
      "metadata": {
        "collapsed": false,
        "outputHidden": false,
        "inputHidden": false
      }
    },
    {
      "cell_type": "code",
      "source": [
        "def dated_file_name(extension, prefix):\n",
        "    filename = prefix + \"_\" + datetime.datetime.now().isoformat() + \".\" + extension\n",
        "    return filename"
      ],
      "outputs": [],
      "execution_count": 31,
      "metadata": {
        "collapsed": false,
        "outputHidden": false,
        "inputHidden": false
      }
    },
    {
      "cell_type": "code",
      "source": [
        "data_dir = \"/Users/jjpr/dev/scratch/mkgu_scratch/data\""
      ],
      "outputs": [],
      "execution_count": 25,
      "metadata": {
        "collapsed": false,
        "outputHidden": false,
        "inputHidden": false
      }
    },
    {
      "cell_type": "code",
      "source": [
        "os.path.join(data_dir, dated_file_name(\"db\", \"array_meta\"))"
      ],
      "outputs": [
        {
          "output_type": "execute_result",
          "execution_count": 32,
          "data": {
            "text/plain": [
              "'/Users/jjpr/dev/scratch/mkgu_scratch/data/array_meta_2018-01-29T15:32:19.911275.db'"
            ]
          },
          "metadata": {}
        }
      ],
      "execution_count": 32,
      "metadata": {
        "collapsed": false,
        "outputHidden": false,
        "inputHidden": false
      }
    },
    {
      "cell_type": "code",
      "source": [
        "class MappingFile(object):\n",
        "    def __repr__(self):\n",
        "        return self.__class__.__name__ + str(vars(self))"
      ],
      "outputs": [],
      "execution_count": 55,
      "metadata": {
        "collapsed": false,
        "outputHidden": false,
        "inputHidden": false
      }
    },
    {
      "cell_type": "code",
      "source": [
        "mf = MappingFile()\n",
        "mf.xls_path = test_wbk_file\n",
        "mf"
      ],
      "outputs": [
        {
          "output_type": "execute_result",
          "execution_count": 56,
          "data": {
            "text/plain": [
              "MappingFile{'xls_path': '/Users/jjpr/dev/scratch/mkgu_scratch/data/2132-8-SN0657.xls'}"
            ]
          },
          "metadata": {}
        }
      ],
      "execution_count": 56,
      "metadata": {
        "collapsed": false,
        "outputHidden": false,
        "inputHidden": false
      }
    },
    {
      "cell_type": "code",
      "source": [
        "mf_paths = [os.path.join(data_dir, x) for x in os.listdir(data_dir) if x.endswith(\".xls\")]\n",
        "mf_paths"
      ],
      "outputs": [
        {
          "output_type": "execute_result",
          "execution_count": 38,
          "data": {
            "text/plain": [
              "['/Users/jjpr/dev/scratch/mkgu_scratch/data/090609B-4F.xls',\n",
              " '/Users/jjpr/dev/scratch/mkgu_scratch/data/090609B-5E.xls',\n",
              " '/Users/jjpr/dev/scratch/mkgu_scratch/data/090609B-5F.xls',\n",
              " '/Users/jjpr/dev/scratch/mkgu_scratch/data/090609B-5H.xls',\n",
              " '/Users/jjpr/dev/scratch/mkgu_scratch/data/090609B-8E.xls',\n",
              " '/Users/jjpr/dev/scratch/mkgu_scratch/data/2132-5-SN0656.xls',\n",
              " '/Users/jjpr/dev/scratch/mkgu_scratch/data/2132-8-SN0657.xls',\n",
              " '/Users/jjpr/dev/scratch/mkgu_scratch/data/2466-1-SN0658.xls',\n",
              " '/Users/jjpr/dev/scratch/mkgu_scratch/data/2467-6_SN0649.xls',\n",
              " '/Users/jjpr/dev/scratch/mkgu_scratch/data/5602-2 SN1025-000936.xls']"
            ]
          },
          "metadata": {}
        }
      ],
      "execution_count": 38,
      "metadata": {
        "collapsed": false,
        "outputHidden": false,
        "inputHidden": false
      }
    },
    {
      "cell_type": "code",
      "source": [
        "def is_comment_row(row):\n",
        "    return str(row[0].value).lstrip().startswith(\"//\")"
      ],
      "outputs": [],
      "execution_count": 70,
      "metadata": {
        "collapsed": false,
        "outputHidden": false,
        "inputHidden": false
      }
    },
    {
      "cell_type": "code",
      "source": [
        "for mf in mfs:\n",
        "    sheet = mf.mapping_worksheet\n",
        "    mf.comment_lines = {i for i in range(sheet.nrows) if is_comment_row(sheet.row(i))}"
      ],
      "outputs": [],
      "execution_count": 71,
      "metadata": {
        "collapsed": false,
        "outputHidden": false,
        "inputHidden": false
      }
    },
    {
      "cell_type": "code",
      "source": [
        "def get_mapping(i, row):\n",
        "    return {\n",
        "        \"column\": row[0].value, \n",
        "        \"row\": row[1].value, \n",
        "        \"bank_name\": row[2].value,\n",
        "        \"electrode_number_in_bank\": row[3].value,\n",
        "        \"electrode_label\": row[4].value,\n",
        "        \"index_in_mapping_sheet\": i\n",
        "    }"
      ],
      "outputs": [],
      "execution_count": 81,
      "metadata": {
        "collapsed": false,
        "outputHidden": false,
        "inputHidden": false
      }
    },
    {
      "cell_type": "code",
      "source": [
        "def get_mapping_file(path):\n",
        "    mf = MappingFile()\n",
        "    mf.xls_path = path\n",
        "    mf.workbook = xlrd.open_workbook(path)\n",
        "    mf.mapping_worksheet = mf.workbook.sheet_by_name(\"Cerebus mapping\")\n",
        "    mf.comment_lines = set()\n",
        "    mf.description_row = None\n",
        "    mf.mappings = []\n",
        "    for i, row in enumerate(mf.mapping_worksheet.get_rows()):\n",
        "        if is_comment_row(row):\n",
        "            mf.comment_lines.add(i)\n",
        "        elif mf.description_row is None:\n",
        "            mf.description_row = row\n",
        "        else:\n",
        "            mf.mappings.append(get_mapping(i, row))\n",
        "    return mf"
      ],
      "outputs": [],
      "execution_count": 84,
      "metadata": {
        "collapsed": false,
        "outputHidden": false,
        "inputHidden": false,
        "outputExpanded": false
      }
    },
    {
      "cell_type": "code",
      "source": [
        "mfs = []\n",
        "\n",
        "for path in mf_paths:\n",
        "    mf = get_mapping_file(path)\n",
        "    mfs.append(mf)\n",
        "\nmfs"
      ],
      "outputs": [
        {
          "output_type": "execute_result",
          "execution_count": 85,
          "data": {
            "text/plain": [
              "[MappingFile{'xls_path': '/Users/jjpr/dev/scratch/mkgu_scratch/data/090609B-4F.xls', 'workbook': <xlrd.book.Book object at 0x104ec3b70>, 'mapping_worksheet': <xlrd.sheet.Sheet object at 0x104fc7a20>, 'comment_lines': {0, 1, 2, 3, 4, 5, 6, 7, 8, 9, 10, 11}, 'description_row': [text:'Cerebus mapping for array 090609B-4F/SN0559', empty:'', empty:'', empty:'', empty:'', empty:'', text:'elec', empty:''], 'mappings': [{'column': 8.0, 'row': 9.0, 'bank_name': 'A', 'electrode_number_in_bank': '14', 'electrode_label': 'elec99', 'index_in_mapping_sheet': 13}, {'column': 7.0, 'row': 9.0, 'bank_name': 'A', 'electrode_number_in_bank': '10', 'electrode_label': 'elec98', 'index_in_mapping_sheet': 14}, {'column': 6.0, 'row': 9.0, 'bank_name': 'A', 'electrode_number_in_bank': '8', 'electrode_label': 'elec97', 'index_in_mapping_sheet': 15}, {'column': 5.0, 'row': 9.0, 'bank_name': 'A', 'electrode_number_in_bank': '6', 'electrode_label': 'elec96', 'index_in_mapping_sheet': 16}, {'column': 4.0, 'row': 9.0, 'bank_name': 'A', 'electrode_number_in_bank': '4', 'electrode_label': 'elec95', 'index_in_mapping_sheet': 17}, {'column': 3.0, 'row': 9.0, 'bank_name': 'A', 'electrode_number_in_bank': '3', 'electrode_label': 'elec94', 'index_in_mapping_sheet': 18}, {'column': 2.0, 'row': 9.0, 'bank_name': 'A', 'electrode_number_in_bank': '1', 'electrode_label': 'elec93', 'index_in_mapping_sheet': 19}, {'column': 1.0, 'row': 9.0, 'bank_name': 'A', 'electrode_number_in_bank': '2', 'electrode_label': 'elec92', 'index_in_mapping_sheet': 20}, {'column': 9.0, 'row': 8.0, 'bank_name': 'A', 'electrode_number_in_bank': '18', 'electrode_label': 'elec90', 'index_in_mapping_sheet': 21}, {'column': 8.0, 'row': 8.0, 'bank_name': 'A', 'electrode_number_in_bank': '16', 'electrode_label': 'elec89', 'index_in_mapping_sheet': 22}, {'column': 7.0, 'row': 8.0, 'bank_name': 'A', 'electrode_number_in_bank': '12', 'electrode_label': 'elec88', 'index_in_mapping_sheet': 23}, {'column': 6.0, 'row': 8.0, 'bank_name': 'A', 'electrode_number_in_bank': '11', 'electrode_label': 'elec87', 'index_in_mapping_sheet': 24}, {'column': 5.0, 'row': 8.0, 'bank_name': 'A', 'electrode_number_in_bank': '9', 'electrode_label': 'elec86', 'index_in_mapping_sheet': 25}, {'column': 4.0, 'row': 8.0, 'bank_name': 'A', 'electrode_number_in_bank': '7', 'electrode_label': 'elec85', 'index_in_mapping_sheet': 26}, {'column': 3.0, 'row': 8.0, 'bank_name': 'B', 'electrode_number_in_bank': '2', 'electrode_label': 'elec84', 'index_in_mapping_sheet': 27}, {'column': 2.0, 'row': 8.0, 'bank_name': 'B', 'electrode_number_in_bank': '1', 'electrode_label': 'elec83', 'index_in_mapping_sheet': 28}, {'column': 1.0, 'row': 8.0, 'bank_name': 'C', 'electrode_number_in_bank': '2', 'electrode_label': 'elec82', 'index_in_mapping_sheet': 29}, {'column': 0.0, 'row': 8.0, 'bank_name': 'C', 'electrode_number_in_bank': '1', 'electrode_label': 'elec81', 'index_in_mapping_sheet': 30}, {'column': 9.0, 'row': 7.0, 'bank_name': 'A', 'electrode_number_in_bank': '22', 'electrode_label': 'elec80', 'index_in_mapping_sheet': 31}, {'column': 8.0, 'row': 7.0, 'bank_name': 'A', 'electrode_number_in_bank': '20', 'electrode_label': 'elec79', 'index_in_mapping_sheet': 32}, {'column': 7.0, 'row': 7.0, 'bank_name': 'A', 'electrode_number_in_bank': '23', 'electrode_label': 'elec78', 'index_in_mapping_sheet': 33}, {'column': 6.0, 'row': 7.0, 'bank_name': 'A', 'electrode_number_in_bank': '13', 'electrode_label': 'elec77', 'index_in_mapping_sheet': 34}, {'column': 5.0, 'row': 7.0, 'bank_name': 'A', 'electrode_number_in_bank': '17', 'electrode_label': 'elec76', 'index_in_mapping_sheet': 35}, {'column': 4.0, 'row': 7.0, 'bank_name': 'A', 'electrode_number_in_bank': '5', 'electrode_label': 'elec75', 'index_in_mapping_sheet': 36}, {'column': 3.0, 'row': 7.0, 'bank_name': 'B', 'electrode_number_in_bank': '4', 'electrode_label': 'elec74', 'index_in_mapping_sheet': 37}, {'column': 2.0, 'row': 7.0, 'bank_name': 'B', 'electrode_number_in_bank': '3', 'electrode_label': 'elec73', 'index_in_mapping_sheet': 38}, {'column': 1.0, 'row': 7.0, 'bank_name': 'C', 'electrode_number_in_bank': '4', 'electrode_label': 'elec72', 'index_in_mapping_sheet': 39}, {'column': 0.0, 'row': 7.0, 'bank_name': 'C', 'electrode_number_in_bank': '3', 'electrode_label': 'elec71', 'index_in_mapping_sheet': 40}, {'column': 9.0, 'row': 6.0, 'bank_name': 'A', 'electrode_number_in_bank': '24', 'electrode_label': 'elec70', 'index_in_mapping_sheet': 41}, {'column': 8.0, 'row': 6.0, 'bank_name': 'A', 'electrode_number_in_bank': '27', 'electrode_label': 'elec69', 'index_in_mapping_sheet': 42}, {'column': 7.0, 'row': 6.0, 'bank_name': 'A', 'electrode_number_in_bank': '25', 'electrode_label': 'elec68', 'index_in_mapping_sheet': 43}, {'column': 6.0, 'row': 6.0, 'bank_name': 'A', 'electrode_number_in_bank': '19', 'electrode_label': 'elec67', 'index_in_mapping_sheet': 44}, {'column': 5.0, 'row': 6.0, 'bank_name': 'A', 'electrode_number_in_bank': '15', 'electrode_label': 'elec66', 'index_in_mapping_sheet': 45}, {'column': 4.0, 'row': 6.0, 'bank_name': 'B', 'electrode_number_in_bank': '16', 'electrode_label': 'elec65', 'index_in_mapping_sheet': 46}, {'column': 3.0, 'row': 6.0, 'bank_name': 'B', 'electrode_number_in_bank': '6', 'electrode_label': 'elec64', 'index_in_mapping_sheet': 47}, {'column': 2.0, 'row': 6.0, 'bank_name': 'B', 'electrode_number_in_bank': '5', 'electrode_label': 'elec63', 'index_in_mapping_sheet': 48}, {'column': 1.0, 'row': 6.0, 'bank_name': 'C', 'electrode_number_in_bank': '6', 'electrode_label': 'elec62', 'index_in_mapping_sheet': 49}, {'column': 0.0, 'row': 6.0, 'bank_name': 'C', 'electrode_number_in_bank': '5', 'electrode_label': 'elec61', 'index_in_mapping_sheet': 50}, {'column': 9.0, 'row': 5.0, 'bank_name': 'A', 'electrode_number_in_bank': '26', 'electrode_label': 'elec60', 'index_in_mapping_sheet': 51}, {'column': 8.0, 'row': 5.0, 'bank_name': 'A', 'electrode_number_in_bank': '29', 'electrode_label': 'elec59', 'index_in_mapping_sheet': 52}, {'column': 7.0, 'row': 5.0, 'bank_name': 'A', 'electrode_number_in_bank': '21', 'electrode_label': 'elec58', 'index_in_mapping_sheet': 53}, {'column': 6.0, 'row': 5.0, 'bank_name': 'B', 'electrode_number_in_bank': '22', 'electrode_label': 'elec57', 'index_in_mapping_sheet': 54}, {'column': 5.0, 'row': 5.0, 'bank_name': 'B', 'electrode_number_in_bank': '18', 'electrode_label': 'elec56', 'index_in_mapping_sheet': 55}, {'column': 4.0, 'row': 5.0, 'bank_name': 'B', 'electrode_number_in_bank': '10', 'electrode_label': 'elec55', 'index_in_mapping_sheet': 56}, {'column': 3.0, 'row': 5.0, 'bank_name': 'B', 'electrode_number_in_bank': '8', 'electrode_label': 'elec54', 'index_in_mapping_sheet': 57}, {'column': 2.0, 'row': 5.0, 'bank_name': 'B', 'electrode_number_in_bank': '7', 'electrode_label': 'elec53', 'index_in_mapping_sheet': 58}, {'column': 1.0, 'row': 5.0, 'bank_name': 'C', 'electrode_number_in_bank': '8', 'electrode_label': 'elec52', 'index_in_mapping_sheet': 59}, {'column': 0.0, 'row': 5.0, 'bank_name': 'C', 'electrode_number_in_bank': '7', 'electrode_label': 'elec51', 'index_in_mapping_sheet': 60}, {'column': 9.0, 'row': 4.0, 'bank_name': 'A', 'electrode_number_in_bank': '28', 'electrode_label': 'elec50', 'index_in_mapping_sheet': 61}, {'column': 8.0, 'row': 4.0, 'bank_name': 'A', 'electrode_number_in_bank': '31', 'electrode_label': 'elec49', 'index_in_mapping_sheet': 62}, {'column': 7.0, 'row': 4.0, 'bank_name': 'B', 'electrode_number_in_bank': '30', 'electrode_label': 'elec48', 'index_in_mapping_sheet': 63}, {'column': 6.0, 'row': 4.0, 'bank_name': 'B', 'electrode_number_in_bank': '20', 'electrode_label': 'elec47', 'index_in_mapping_sheet': 64}, {'column': 5.0, 'row': 4.0, 'bank_name': 'B', 'electrode_number_in_bank': '14', 'electrode_label': 'elec46', 'index_in_mapping_sheet': 65}, {'column': 4.0, 'row': 4.0, 'bank_name': 'B', 'electrode_number_in_bank': '12', 'electrode_label': 'elec45', 'index_in_mapping_sheet': 66}, {'column': 3.0, 'row': 4.0, 'bank_name': 'B', 'electrode_number_in_bank': '11', 'electrode_label': 'elec44', 'index_in_mapping_sheet': 67}, {'column': 2.0, 'row': 4.0, 'bank_name': 'B', 'electrode_number_in_bank': '9', 'electrode_label': 'elec43', 'index_in_mapping_sheet': 68}, {'column': 1.0, 'row': 4.0, 'bank_name': 'C', 'electrode_number_in_bank': '10', 'electrode_label': 'elec42', 'index_in_mapping_sheet': 69}, {'column': 0.0, 'row': 4.0, 'bank_name': 'C', 'electrode_number_in_bank': '9', 'electrode_label': 'elec41', 'index_in_mapping_sheet': 70}, {'column': 9.0, 'row': 3.0, 'bank_name': 'A', 'electrode_number_in_bank': '30', 'electrode_label': 'elec40', 'index_in_mapping_sheet': 71}, {'column': 8.0, 'row': 3.0, 'bank_name': 'B', 'electrode_number_in_bank': '32', 'electrode_label': 'elec39', 'index_in_mapping_sheet': 72}, {'column': 7.0, 'row': 3.0, 'bank_name': 'B', 'electrode_number_in_bank': '28', 'electrode_label': 'elec38', 'index_in_mapping_sheet': 73}, {'column': 6.0, 'row': 3.0, 'bank_name': 'B', 'electrode_number_in_bank': '26', 'electrode_label': 'elec37', 'index_in_mapping_sheet': 74}, {'column': 5.0, 'row': 3.0, 'bank_name': 'B', 'electrode_number_in_bank': '24', 'electrode_label': 'elec36', 'index_in_mapping_sheet': 75}, {'column': 4.0, 'row': 3.0, 'bank_name': 'B', 'electrode_number_in_bank': '19', 'electrode_label': 'elec35', 'index_in_mapping_sheet': 76}, {'column': 3.0, 'row': 3.0, 'bank_name': 'B', 'electrode_number_in_bank': '15', 'electrode_label': 'elec34', 'index_in_mapping_sheet': 77}, {'column': 2.0, 'row': 3.0, 'bank_name': 'B', 'electrode_number_in_bank': '13', 'electrode_label': 'elec33', 'index_in_mapping_sheet': 78}, {'column': 1.0, 'row': 3.0, 'bank_name': 'C', 'electrode_number_in_bank': '12', 'electrode_label': 'elec32', 'index_in_mapping_sheet': 79}, {'column': 0.0, 'row': 3.0, 'bank_name': 'C', 'electrode_number_in_bank': '11', 'electrode_label': 'elec31', 'index_in_mapping_sheet': 80}, {'column': 9.0, 'row': 2.0, 'bank_name': 'A', 'electrode_number_in_bank': '32', 'electrode_label': 'elec30', 'index_in_mapping_sheet': 81}, {'column': 8.0, 'row': 2.0, 'bank_name': 'B', 'electrode_number_in_bank': '29', 'electrode_label': 'elec29', 'index_in_mapping_sheet': 82}, {'column': 7.0, 'row': 2.0, 'bank_name': 'B', 'electrode_number_in_bank': '27', 'electrode_label': 'elec28', 'index_in_mapping_sheet': 83}, {'column': 6.0, 'row': 2.0, 'bank_name': 'B', 'electrode_number_in_bank': '25', 'electrode_label': 'elec27', 'index_in_mapping_sheet': 84}, {'column': 5.0, 'row': 2.0, 'bank_name': 'B', 'electrode_number_in_bank': '23', 'electrode_label': 'elec26', 'index_in_mapping_sheet': 85}, {'column': 4.0, 'row': 2.0, 'bank_name': 'B', 'electrode_number_in_bank': '21', 'electrode_label': 'elec25', 'index_in_mapping_sheet': 86}, {'column': 3.0, 'row': 2.0, 'bank_name': 'B', 'electrode_number_in_bank': '17', 'electrode_label': 'elec24', 'index_in_mapping_sheet': 87}, {'column': 2.0, 'row': 2.0, 'bank_name': 'C', 'electrode_number_in_bank': '18', 'electrode_label': 'elec23', 'index_in_mapping_sheet': 88}, {'column': 1.0, 'row': 2.0, 'bank_name': 'C', 'electrode_number_in_bank': '14', 'electrode_label': 'elec22', 'index_in_mapping_sheet': 89}, {'column': 0.0, 'row': 2.0, 'bank_name': 'C', 'electrode_number_in_bank': '13', 'electrode_label': 'elec21', 'index_in_mapping_sheet': 90}, {'column': 9.0, 'row': 1.0, 'bank_name': 'C', 'electrode_number_in_bank': '31', 'electrode_label': 'elec20', 'index_in_mapping_sheet': 91}, {'column': 8.0, 'row': 1.0, 'bank_name': 'B', 'electrode_number_in_bank': '31', 'electrode_label': 'elec19', 'index_in_mapping_sheet': 92}, {'column': 7.0, 'row': 1.0, 'bank_name': 'C', 'electrode_number_in_bank': '30', 'electrode_label': 'elec18', 'index_in_mapping_sheet': 93}, {'column': 6.0, 'row': 1.0, 'bank_name': 'C', 'electrode_number_in_bank': '27', 'electrode_label': 'elec17', 'index_in_mapping_sheet': 94}, {'column': 5.0, 'row': 1.0, 'bank_name': 'C', 'electrode_number_in_bank': '25', 'electrode_label': 'elec16', 'index_in_mapping_sheet': 95}, {'column': 4.0, 'row': 1.0, 'bank_name': 'C', 'electrode_number_in_bank': '23', 'electrode_label': 'elec15', 'index_in_mapping_sheet': 96}, {'column': 3.0, 'row': 1.0, 'bank_name': 'C', 'electrode_number_in_bank': '22', 'electrode_label': 'elec14', 'index_in_mapping_sheet': 97}, {'column': 2.0, 'row': 1.0, 'bank_name': 'C', 'electrode_number_in_bank': '20', 'electrode_label': 'elec13', 'index_in_mapping_sheet': 98}, {'column': 1.0, 'row': 1.0, 'bank_name': 'C', 'electrode_number_in_bank': '16', 'electrode_label': 'elec12', 'index_in_mapping_sheet': 99}, {'column': 0.0, 'row': 1.0, 'bank_name': 'C', 'electrode_number_in_bank': '15', 'electrode_label': 'elec11', 'index_in_mapping_sheet': 100}, {'column': 8.0, 'row': 0.0, 'bank_name': 'C', 'electrode_number_in_bank': '32', 'electrode_label': 'elec9', 'index_in_mapping_sheet': 101}, {'column': 7.0, 'row': 0.0, 'bank_name': 'C', 'electrode_number_in_bank': '29', 'electrode_label': 'elec8', 'index_in_mapping_sheet': 102}, {'column': 6.0, 'row': 0.0, 'bank_name': 'C', 'electrode_number_in_bank': '28', 'electrode_label': 'elec7', 'index_in_mapping_sheet': 103}, {'column': 5.0, 'row': 0.0, 'bank_name': 'C', 'electrode_number_in_bank': '26', 'electrode_label': 'elec6', 'index_in_mapping_sheet': 104}, {'column': 4.0, 'row': 0.0, 'bank_name': 'C', 'electrode_number_in_bank': '24', 'electrode_label': 'elec5', 'index_in_mapping_sheet': 105}, {'column': 3.0, 'row': 0.0, 'bank_name': 'C', 'electrode_number_in_bank': '21', 'electrode_label': 'elec4', 'index_in_mapping_sheet': 106}, {'column': 2.0, 'row': 0.0, 'bank_name': 'C', 'electrode_number_in_bank': '19', 'electrode_label': 'elec3', 'index_in_mapping_sheet': 107}, {'column': 1.0, 'row': 0.0, 'bank_name': 'C', 'electrode_number_in_bank': '17', 'electrode_label': 'elec2', 'index_in_mapping_sheet': 108}, {'column': '', 'row': '', 'bank_name': '', 'electrode_number_in_bank': '', 'electrode_label': '', 'index_in_mapping_sheet': 109}, {'column': '', 'row': '', 'bank_name': '', 'electrode_number_in_bank': '', 'electrode_label': '', 'index_in_mapping_sheet': 110}, {'column': '', 'row': '', 'bank_name': '', 'electrode_number_in_bank': '', 'electrode_label': '', 'index_in_mapping_sheet': 111}, {'column': '', 'row': '', 'bank_name': '', 'electrode_number_in_bank': '', 'electrode_label': '', 'index_in_mapping_sheet': 112}, {'column': '', 'row': '', 'bank_name': '', 'electrode_number_in_bank': '', 'electrode_label': '', 'index_in_mapping_sheet': 113}, {'column': '', 'row': '', 'bank_name': '', 'electrode_number_in_bank': '', 'electrode_label': '', 'index_in_mapping_sheet': 114}, {'column': '', 'row': '', 'bank_name': '', 'electrode_number_in_bank': '', 'electrode_label': '', 'index_in_mapping_sheet': 115}, {'column': '', 'row': '', 'bank_name': '', 'electrode_number_in_bank': '', 'electrode_label': '', 'index_in_mapping_sheet': 116}, {'column': '', 'row': '', 'bank_name': '', 'electrode_number_in_bank': '', 'electrode_label': '', 'index_in_mapping_sheet': 117}, {'column': '', 'row': '', 'bank_name': '', 'electrode_number_in_bank': '', 'electrode_label': '', 'index_in_mapping_sheet': 118}, {'column': '', 'row': '', 'bank_name': '', 'electrode_number_in_bank': '', 'electrode_label': '', 'index_in_mapping_sheet': 119}, {'column': '', 'row': '', 'bank_name': '', 'electrode_number_in_bank': '', 'electrode_label': '', 'index_in_mapping_sheet': 120}]},\n",
              " MappingFile{'xls_path': '/Users/jjpr/dev/scratch/mkgu_scratch/data/090609B-5E.xls', 'workbook': <xlrd.book.Book object at 0x104fc6e48>, 'mapping_worksheet': <xlrd.sheet.Sheet object at 0x1050305f8>, 'comment_lines': {0, 1, 2, 3, 4, 5, 6, 7, 8, 9, 10, 11}, 'description_row': [text:'Cerebus mapping for array 090609B-5E/SN00547', empty:'', empty:'', empty:'', empty:'', empty:'', text:'elec', empty:''], 'mappings': [{'column': 8.0, 'row': 9.0, 'bank_name': 'A', 'electrode_number_in_bank': '14', 'electrode_label': 'elec99', 'index_in_mapping_sheet': 13}, {'column': 7.0, 'row': 9.0, 'bank_name': 'A', 'electrode_number_in_bank': '10', 'electrode_label': 'elec98', 'index_in_mapping_sheet': 14}, {'column': 6.0, 'row': 9.0, 'bank_name': 'A', 'electrode_number_in_bank': '8', 'electrode_label': 'elec97', 'index_in_mapping_sheet': 15}, {'column': 5.0, 'row': 9.0, 'bank_name': 'A', 'electrode_number_in_bank': '6', 'electrode_label': 'elec96', 'index_in_mapping_sheet': 16}, {'column': 4.0, 'row': 9.0, 'bank_name': 'A', 'electrode_number_in_bank': '4', 'electrode_label': 'elec95', 'index_in_mapping_sheet': 17}, {'column': 3.0, 'row': 9.0, 'bank_name': 'A', 'electrode_number_in_bank': '3', 'electrode_label': 'elec94', 'index_in_mapping_sheet': 18}, {'column': 2.0, 'row': 9.0, 'bank_name': 'A', 'electrode_number_in_bank': '1', 'electrode_label': 'elec93', 'index_in_mapping_sheet': 19}, {'column': 1.0, 'row': 9.0, 'bank_name': 'A', 'electrode_number_in_bank': '2', 'electrode_label': 'elec92', 'index_in_mapping_sheet': 20}, {'column': 9.0, 'row': 8.0, 'bank_name': 'A', 'electrode_number_in_bank': '18', 'electrode_label': 'elec90', 'index_in_mapping_sheet': 21}, {'column': 8.0, 'row': 8.0, 'bank_name': 'A', 'electrode_number_in_bank': '16', 'electrode_label': 'elec89', 'index_in_mapping_sheet': 22}, {'column': 7.0, 'row': 8.0, 'bank_name': 'A', 'electrode_number_in_bank': '12', 'electrode_label': 'elec88', 'index_in_mapping_sheet': 23}, {'column': 6.0, 'row': 8.0, 'bank_name': 'A', 'electrode_number_in_bank': '11', 'electrode_label': 'elec87', 'index_in_mapping_sheet': 24}, {'column': 5.0, 'row': 8.0, 'bank_name': 'A', 'electrode_number_in_bank': '9', 'electrode_label': 'elec86', 'index_in_mapping_sheet': 25}, {'column': 4.0, 'row': 8.0, 'bank_name': 'A', 'electrode_number_in_bank': '7', 'electrode_label': 'elec85', 'index_in_mapping_sheet': 26}, {'column': 3.0, 'row': 8.0, 'bank_name': 'B', 'electrode_number_in_bank': '2', 'electrode_label': 'elec84', 'index_in_mapping_sheet': 27}, {'column': 2.0, 'row': 8.0, 'bank_name': 'B', 'electrode_number_in_bank': '1', 'electrode_label': 'elec83', 'index_in_mapping_sheet': 28}, {'column': 1.0, 'row': 8.0, 'bank_name': 'C', 'electrode_number_in_bank': '2', 'electrode_label': 'elec82', 'index_in_mapping_sheet': 29}, {'column': 0.0, 'row': 8.0, 'bank_name': 'C', 'electrode_number_in_bank': '1', 'electrode_label': 'elec81', 'index_in_mapping_sheet': 30}, {'column': 9.0, 'row': 7.0, 'bank_name': 'A', 'electrode_number_in_bank': '22', 'electrode_label': 'elec80', 'index_in_mapping_sheet': 31}, {'column': 8.0, 'row': 7.0, 'bank_name': 'A', 'electrode_number_in_bank': '20', 'electrode_label': 'elec79', 'index_in_mapping_sheet': 32}, {'column': 7.0, 'row': 7.0, 'bank_name': 'A', 'electrode_number_in_bank': '23', 'electrode_label': 'elec78', 'index_in_mapping_sheet': 33}, {'column': 6.0, 'row': 7.0, 'bank_name': 'A', 'electrode_number_in_bank': '13', 'electrode_label': 'elec77', 'index_in_mapping_sheet': 34}, {'column': 5.0, 'row': 7.0, 'bank_name': 'A', 'electrode_number_in_bank': '17', 'electrode_label': 'elec76', 'index_in_mapping_sheet': 35}, {'column': 4.0, 'row': 7.0, 'bank_name': 'A', 'electrode_number_in_bank': '5', 'electrode_label': 'elec75', 'index_in_mapping_sheet': 36}, {'column': 3.0, 'row': 7.0, 'bank_name': 'B', 'electrode_number_in_bank': '4', 'electrode_label': 'elec74', 'index_in_mapping_sheet': 37}, {'column': 2.0, 'row': 7.0, 'bank_name': 'B', 'electrode_number_in_bank': '3', 'electrode_label': 'elec73', 'index_in_mapping_sheet': 38}, {'column': 1.0, 'row': 7.0, 'bank_name': 'C', 'electrode_number_in_bank': '4', 'electrode_label': 'elec72', 'index_in_mapping_sheet': 39}, {'column': 0.0, 'row': 7.0, 'bank_name': 'C', 'electrode_number_in_bank': '3', 'electrode_label': 'elec71', 'index_in_mapping_sheet': 40}, {'column': 9.0, 'row': 6.0, 'bank_name': 'A', 'electrode_number_in_bank': '24', 'electrode_label': 'elec70', 'index_in_mapping_sheet': 41}, {'column': 8.0, 'row': 6.0, 'bank_name': 'A', 'electrode_number_in_bank': '27', 'electrode_label': 'elec69', 'index_in_mapping_sheet': 42}, {'column': 7.0, 'row': 6.0, 'bank_name': 'A', 'electrode_number_in_bank': '25', 'electrode_label': 'elec68', 'index_in_mapping_sheet': 43}, {'column': 6.0, 'row': 6.0, 'bank_name': 'A', 'electrode_number_in_bank': '19', 'electrode_label': 'elec67', 'index_in_mapping_sheet': 44}, {'column': 5.0, 'row': 6.0, 'bank_name': 'A', 'electrode_number_in_bank': '15', 'electrode_label': 'elec66', 'index_in_mapping_sheet': 45}, {'column': 4.0, 'row': 6.0, 'bank_name': 'B', 'electrode_number_in_bank': '16', 'electrode_label': 'elec65', 'index_in_mapping_sheet': 46}, {'column': 3.0, 'row': 6.0, 'bank_name': 'B', 'electrode_number_in_bank': '6', 'electrode_label': 'elec64', 'index_in_mapping_sheet': 47}, {'column': 2.0, 'row': 6.0, 'bank_name': 'B', 'electrode_number_in_bank': '5', 'electrode_label': 'elec63', 'index_in_mapping_sheet': 48}, {'column': 1.0, 'row': 6.0, 'bank_name': 'C', 'electrode_number_in_bank': '6', 'electrode_label': 'elec62', 'index_in_mapping_sheet': 49}, {'column': 0.0, 'row': 6.0, 'bank_name': 'C', 'electrode_number_in_bank': '5', 'electrode_label': 'elec61', 'index_in_mapping_sheet': 50}, {'column': 9.0, 'row': 5.0, 'bank_name': 'A', 'electrode_number_in_bank': '26', 'electrode_label': 'elec60', 'index_in_mapping_sheet': 51}, {'column': 8.0, 'row': 5.0, 'bank_name': 'A', 'electrode_number_in_bank': '29', 'electrode_label': 'elec59', 'index_in_mapping_sheet': 52}, {'column': 7.0, 'row': 5.0, 'bank_name': 'A', 'electrode_number_in_bank': '21', 'electrode_label': 'elec58', 'index_in_mapping_sheet': 53}, {'column': 6.0, 'row': 5.0, 'bank_name': 'B', 'electrode_number_in_bank': '22', 'electrode_label': 'elec57', 'index_in_mapping_sheet': 54}, {'column': 5.0, 'row': 5.0, 'bank_name': 'B', 'electrode_number_in_bank': '18', 'electrode_label': 'elec56', 'index_in_mapping_sheet': 55}, {'column': 4.0, 'row': 5.0, 'bank_name': 'B', 'electrode_number_in_bank': '10', 'electrode_label': 'elec55', 'index_in_mapping_sheet': 56}, {'column': 3.0, 'row': 5.0, 'bank_name': 'B', 'electrode_number_in_bank': '8', 'electrode_label': 'elec54', 'index_in_mapping_sheet': 57}, {'column': 2.0, 'row': 5.0, 'bank_name': 'B', 'electrode_number_in_bank': '7', 'electrode_label': 'elec53', 'index_in_mapping_sheet': 58}, {'column': 1.0, 'row': 5.0, 'bank_name': 'C', 'electrode_number_in_bank': '8', 'electrode_label': 'elec52', 'index_in_mapping_sheet': 59}, {'column': 0.0, 'row': 5.0, 'bank_name': 'C', 'electrode_number_in_bank': '7', 'electrode_label': 'elec51', 'index_in_mapping_sheet': 60}, {'column': 9.0, 'row': 4.0, 'bank_name': 'A', 'electrode_number_in_bank': '28', 'electrode_label': 'elec50', 'index_in_mapping_sheet': 61}, {'column': 8.0, 'row': 4.0, 'bank_name': 'A', 'electrode_number_in_bank': '31', 'electrode_label': 'elec49', 'index_in_mapping_sheet': 62}, {'column': 7.0, 'row': 4.0, 'bank_name': 'B', 'electrode_number_in_bank': '30', 'electrode_label': 'elec48', 'index_in_mapping_sheet': 63}, {'column': 6.0, 'row': 4.0, 'bank_name': 'B', 'electrode_number_in_bank': '20', 'electrode_label': 'elec47', 'index_in_mapping_sheet': 64}, {'column': 5.0, 'row': 4.0, 'bank_name': 'B', 'electrode_number_in_bank': '14', 'electrode_label': 'elec46', 'index_in_mapping_sheet': 65}, {'column': 4.0, 'row': 4.0, 'bank_name': 'B', 'electrode_number_in_bank': '12', 'electrode_label': 'elec45', 'index_in_mapping_sheet': 66}, {'column': 3.0, 'row': 4.0, 'bank_name': 'B', 'electrode_number_in_bank': '11', 'electrode_label': 'elec44', 'index_in_mapping_sheet': 67}, {'column': 2.0, 'row': 4.0, 'bank_name': 'B', 'electrode_number_in_bank': '9', 'electrode_label': 'elec43', 'index_in_mapping_sheet': 68}, {'column': 1.0, 'row': 4.0, 'bank_name': 'C', 'electrode_number_in_bank': '10', 'electrode_label': 'elec42', 'index_in_mapping_sheet': 69}, {'column': 0.0, 'row': 4.0, 'bank_name': 'C', 'electrode_number_in_bank': '9', 'electrode_label': 'elec41', 'index_in_mapping_sheet': 70}, {'column': 9.0, 'row': 3.0, 'bank_name': 'A', 'electrode_number_in_bank': '30', 'electrode_label': 'elec40', 'index_in_mapping_sheet': 71}, {'column': 8.0, 'row': 3.0, 'bank_name': 'B', 'electrode_number_in_bank': '32', 'electrode_label': 'elec39', 'index_in_mapping_sheet': 72}, {'column': 7.0, 'row': 3.0, 'bank_name': 'B', 'electrode_number_in_bank': '28', 'electrode_label': 'elec38', 'index_in_mapping_sheet': 73}, {'column': 6.0, 'row': 3.0, 'bank_name': 'B', 'electrode_number_in_bank': '26', 'electrode_label': 'elec37', 'index_in_mapping_sheet': 74}, {'column': 5.0, 'row': 3.0, 'bank_name': 'B', 'electrode_number_in_bank': '24', 'electrode_label': 'elec36', 'index_in_mapping_sheet': 75}, {'column': 4.0, 'row': 3.0, 'bank_name': 'B', 'electrode_number_in_bank': '19', 'electrode_label': 'elec35', 'index_in_mapping_sheet': 76}, {'column': 3.0, 'row': 3.0, 'bank_name': 'B', 'electrode_number_in_bank': '15', 'electrode_label': 'elec34', 'index_in_mapping_sheet': 77}, {'column': 2.0, 'row': 3.0, 'bank_name': 'B', 'electrode_number_in_bank': '13', 'electrode_label': 'elec33', 'index_in_mapping_sheet': 78}, {'column': 1.0, 'row': 3.0, 'bank_name': 'C', 'electrode_number_in_bank': '12', 'electrode_label': 'elec32', 'index_in_mapping_sheet': 79}, {'column': 0.0, 'row': 3.0, 'bank_name': 'C', 'electrode_number_in_bank': '11', 'electrode_label': 'elec31', 'index_in_mapping_sheet': 80}, {'column': 9.0, 'row': 2.0, 'bank_name': 'A', 'electrode_number_in_bank': '32', 'electrode_label': 'elec30', 'index_in_mapping_sheet': 81}, {'column': 8.0, 'row': 2.0, 'bank_name': 'B', 'electrode_number_in_bank': '29', 'electrode_label': 'elec29', 'index_in_mapping_sheet': 82}, {'column': 7.0, 'row': 2.0, 'bank_name': 'B', 'electrode_number_in_bank': '27', 'electrode_label': 'elec28', 'index_in_mapping_sheet': 83}, {'column': 6.0, 'row': 2.0, 'bank_name': 'B', 'electrode_number_in_bank': '25', 'electrode_label': 'elec27', 'index_in_mapping_sheet': 84}, {'column': 5.0, 'row': 2.0, 'bank_name': 'B', 'electrode_number_in_bank': '23', 'electrode_label': 'elec26', 'index_in_mapping_sheet': 85}, {'column': 4.0, 'row': 2.0, 'bank_name': 'B', 'electrode_number_in_bank': '21', 'electrode_label': 'elec25', 'index_in_mapping_sheet': 86}, {'column': 3.0, 'row': 2.0, 'bank_name': 'B', 'electrode_number_in_bank': '17', 'electrode_label': 'elec24', 'index_in_mapping_sheet': 87}, {'column': 2.0, 'row': 2.0, 'bank_name': 'C', 'electrode_number_in_bank': '18', 'electrode_label': 'elec23', 'index_in_mapping_sheet': 88}, {'column': 1.0, 'row': 2.0, 'bank_name': 'C', 'electrode_number_in_bank': '14', 'electrode_label': 'elec22', 'index_in_mapping_sheet': 89}, {'column': 0.0, 'row': 2.0, 'bank_name': 'C', 'electrode_number_in_bank': '13', 'electrode_label': 'elec21', 'index_in_mapping_sheet': 90}, {'column': 9.0, 'row': 1.0, 'bank_name': 'C', 'electrode_number_in_bank': '31', 'electrode_label': 'elec20', 'index_in_mapping_sheet': 91}, {'column': 8.0, 'row': 1.0, 'bank_name': 'B', 'electrode_number_in_bank': '31', 'electrode_label': 'elec19', 'index_in_mapping_sheet': 92}, {'column': 7.0, 'row': 1.0, 'bank_name': 'C', 'electrode_number_in_bank': '30', 'electrode_label': 'elec18', 'index_in_mapping_sheet': 93}, {'column': 6.0, 'row': 1.0, 'bank_name': 'C', 'electrode_number_in_bank': '27', 'electrode_label': 'elec17', 'index_in_mapping_sheet': 94}, {'column': 5.0, 'row': 1.0, 'bank_name': 'C', 'electrode_number_in_bank': '25', 'electrode_label': 'elec16', 'index_in_mapping_sheet': 95}, {'column': 4.0, 'row': 1.0, 'bank_name': 'C', 'electrode_number_in_bank': '23', 'electrode_label': 'elec15', 'index_in_mapping_sheet': 96}, {'column': 3.0, 'row': 1.0, 'bank_name': 'C', 'electrode_number_in_bank': '22', 'electrode_label': 'elec14', 'index_in_mapping_sheet': 97}, {'column': 2.0, 'row': 1.0, 'bank_name': 'C', 'electrode_number_in_bank': '20', 'electrode_label': 'elec13', 'index_in_mapping_sheet': 98}, {'column': 1.0, 'row': 1.0, 'bank_name': 'C', 'electrode_number_in_bank': '16', 'electrode_label': 'elec12', 'index_in_mapping_sheet': 99}, {'column': 0.0, 'row': 1.0, 'bank_name': 'C', 'electrode_number_in_bank': '15', 'electrode_label': 'elec11', 'index_in_mapping_sheet': 100}, {'column': 8.0, 'row': 0.0, 'bank_name': 'C', 'electrode_number_in_bank': '32', 'electrode_label': 'elec9', 'index_in_mapping_sheet': 101}, {'column': 7.0, 'row': 0.0, 'bank_name': 'C', 'electrode_number_in_bank': '29', 'electrode_label': 'elec8', 'index_in_mapping_sheet': 102}, {'column': 6.0, 'row': 0.0, 'bank_name': 'C', 'electrode_number_in_bank': '28', 'electrode_label': 'elec7', 'index_in_mapping_sheet': 103}, {'column': 5.0, 'row': 0.0, 'bank_name': 'C', 'electrode_number_in_bank': '26', 'electrode_label': 'elec6', 'index_in_mapping_sheet': 104}, {'column': 4.0, 'row': 0.0, 'bank_name': 'C', 'electrode_number_in_bank': '24', 'electrode_label': 'elec5', 'index_in_mapping_sheet': 105}, {'column': 3.0, 'row': 0.0, 'bank_name': 'C', 'electrode_number_in_bank': '21', 'electrode_label': 'elec4', 'index_in_mapping_sheet': 106}, {'column': 2.0, 'row': 0.0, 'bank_name': 'C', 'electrode_number_in_bank': '19', 'electrode_label': 'elec3', 'index_in_mapping_sheet': 107}, {'column': 1.0, 'row': 0.0, 'bank_name': 'C', 'electrode_number_in_bank': '17', 'electrode_label': 'elec2', 'index_in_mapping_sheet': 108}, {'column': '', 'row': '', 'bank_name': '', 'electrode_number_in_bank': '', 'electrode_label': '', 'index_in_mapping_sheet': 109}, {'column': '', 'row': '', 'bank_name': '', 'electrode_number_in_bank': '', 'electrode_label': '', 'index_in_mapping_sheet': 110}, {'column': '', 'row': '', 'bank_name': '', 'electrode_number_in_bank': '', 'electrode_label': '', 'index_in_mapping_sheet': 111}, {'column': '', 'row': '', 'bank_name': '', 'electrode_number_in_bank': '', 'electrode_label': '', 'index_in_mapping_sheet': 112}, {'column': '', 'row': '', 'bank_name': '', 'electrode_number_in_bank': '', 'electrode_label': '', 'index_in_mapping_sheet': 113}, {'column': '', 'row': '', 'bank_name': '', 'electrode_number_in_bank': '', 'electrode_label': '', 'index_in_mapping_sheet': 114}, {'column': '', 'row': '', 'bank_name': '', 'electrode_number_in_bank': '', 'electrode_label': '', 'index_in_mapping_sheet': 115}, {'column': '', 'row': '', 'bank_name': '', 'electrode_number_in_bank': '', 'electrode_label': '', 'index_in_mapping_sheet': 116}, {'column': '', 'row': '', 'bank_name': '', 'electrode_number_in_bank': '', 'electrode_label': '', 'index_in_mapping_sheet': 117}, {'column': '', 'row': '', 'bank_name': '', 'electrode_number_in_bank': '', 'electrode_label': '', 'index_in_mapping_sheet': 118}, {'column': '', 'row': '', 'bank_name': '', 'electrode_number_in_bank': '', 'electrode_label': '', 'index_in_mapping_sheet': 119}, {'column': '', 'row': '', 'bank_name': '', 'electrode_number_in_bank': '', 'electrode_label': '', 'index_in_mapping_sheet': 120}]},\n",
              " MappingFile{'xls_path': '/Users/jjpr/dev/scratch/mkgu_scratch/data/090609B-5F.xls', 'workbook': <xlrd.book.Book object at 0x105048240>, 'mapping_worksheet': <xlrd.sheet.Sheet object at 0x10508f390>, 'comment_lines': {0, 1, 2, 3, 4, 5, 6, 7, 8, 9, 10, 11}, 'description_row': [text:'Cerebus mapping for array 090609B-5F/SN0548', empty:'', empty:'', empty:'', empty:'', empty:'', text:'elec', empty:''], 'mappings': [{'column': 8.0, 'row': 9.0, 'bank_name': 'A', 'electrode_number_in_bank': '14', 'electrode_label': 'elec99', 'index_in_mapping_sheet': 13}, {'column': 7.0, 'row': 9.0, 'bank_name': 'A', 'electrode_number_in_bank': '10', 'electrode_label': 'elec98', 'index_in_mapping_sheet': 14}, {'column': 6.0, 'row': 9.0, 'bank_name': 'A', 'electrode_number_in_bank': '8', 'electrode_label': 'elec97', 'index_in_mapping_sheet': 15}, {'column': 5.0, 'row': 9.0, 'bank_name': 'A', 'electrode_number_in_bank': '6', 'electrode_label': 'elec96', 'index_in_mapping_sheet': 16}, {'column': 4.0, 'row': 9.0, 'bank_name': 'A', 'electrode_number_in_bank': '4', 'electrode_label': 'elec95', 'index_in_mapping_sheet': 17}, {'column': 3.0, 'row': 9.0, 'bank_name': 'A', 'electrode_number_in_bank': '3', 'electrode_label': 'elec94', 'index_in_mapping_sheet': 18}, {'column': 2.0, 'row': 9.0, 'bank_name': 'A', 'electrode_number_in_bank': '1', 'electrode_label': 'elec93', 'index_in_mapping_sheet': 19}, {'column': 1.0, 'row': 9.0, 'bank_name': 'A', 'electrode_number_in_bank': '2', 'electrode_label': 'elec92', 'index_in_mapping_sheet': 20}, {'column': 9.0, 'row': 8.0, 'bank_name': 'A', 'electrode_number_in_bank': '18', 'electrode_label': 'elec90', 'index_in_mapping_sheet': 21}, {'column': 8.0, 'row': 8.0, 'bank_name': 'A', 'electrode_number_in_bank': '16', 'electrode_label': 'elec89', 'index_in_mapping_sheet': 22}, {'column': 7.0, 'row': 8.0, 'bank_name': 'A', 'electrode_number_in_bank': '12', 'electrode_label': 'elec88', 'index_in_mapping_sheet': 23}, {'column': 6.0, 'row': 8.0, 'bank_name': 'A', 'electrode_number_in_bank': '11', 'electrode_label': 'elec87', 'index_in_mapping_sheet': 24}, {'column': 5.0, 'row': 8.0, 'bank_name': 'A', 'electrode_number_in_bank': '9', 'electrode_label': 'elec86', 'index_in_mapping_sheet': 25}, {'column': 4.0, 'row': 8.0, 'bank_name': 'A', 'electrode_number_in_bank': '7', 'electrode_label': 'elec85', 'index_in_mapping_sheet': 26}, {'column': 3.0, 'row': 8.0, 'bank_name': 'B', 'electrode_number_in_bank': '2', 'electrode_label': 'elec84', 'index_in_mapping_sheet': 27}, {'column': 2.0, 'row': 8.0, 'bank_name': 'B', 'electrode_number_in_bank': '1', 'electrode_label': 'elec83', 'index_in_mapping_sheet': 28}, {'column': 1.0, 'row': 8.0, 'bank_name': 'C', 'electrode_number_in_bank': '2', 'electrode_label': 'elec82', 'index_in_mapping_sheet': 29}, {'column': 0.0, 'row': 8.0, 'bank_name': 'C', 'electrode_number_in_bank': '1', 'electrode_label': 'elec81', 'index_in_mapping_sheet': 30}, {'column': 9.0, 'row': 7.0, 'bank_name': 'A', 'electrode_number_in_bank': '22', 'electrode_label': 'elec80', 'index_in_mapping_sheet': 31}, {'column': 8.0, 'row': 7.0, 'bank_name': 'A', 'electrode_number_in_bank': '20', 'electrode_label': 'elec79', 'index_in_mapping_sheet': 32}, {'column': 7.0, 'row': 7.0, 'bank_name': 'A', 'electrode_number_in_bank': '23', 'electrode_label': 'elec78', 'index_in_mapping_sheet': 33}, {'column': 6.0, 'row': 7.0, 'bank_name': 'A', 'electrode_number_in_bank': '13', 'electrode_label': 'elec77', 'index_in_mapping_sheet': 34}, {'column': 5.0, 'row': 7.0, 'bank_name': 'A', 'electrode_number_in_bank': '17', 'electrode_label': 'elec76', 'index_in_mapping_sheet': 35}, {'column': 4.0, 'row': 7.0, 'bank_name': 'A', 'electrode_number_in_bank': '5', 'electrode_label': 'elec75', 'index_in_mapping_sheet': 36}, {'column': 3.0, 'row': 7.0, 'bank_name': 'B', 'electrode_number_in_bank': '4', 'electrode_label': 'elec74', 'index_in_mapping_sheet': 37}, {'column': 2.0, 'row': 7.0, 'bank_name': 'B', 'electrode_number_in_bank': '3', 'electrode_label': 'elec73', 'index_in_mapping_sheet': 38}, {'column': 1.0, 'row': 7.0, 'bank_name': 'C', 'electrode_number_in_bank': '4', 'electrode_label': 'elec72', 'index_in_mapping_sheet': 39}, {'column': 0.0, 'row': 7.0, 'bank_name': 'C', 'electrode_number_in_bank': '3', 'electrode_label': 'elec71', 'index_in_mapping_sheet': 40}, {'column': 9.0, 'row': 6.0, 'bank_name': 'A', 'electrode_number_in_bank': '24', 'electrode_label': 'elec70', 'index_in_mapping_sheet': 41}, {'column': 8.0, 'row': 6.0, 'bank_name': 'A', 'electrode_number_in_bank': '27', 'electrode_label': 'elec69', 'index_in_mapping_sheet': 42}, {'column': 7.0, 'row': 6.0, 'bank_name': 'A', 'electrode_number_in_bank': '25', 'electrode_label': 'elec68', 'index_in_mapping_sheet': 43}, {'column': 6.0, 'row': 6.0, 'bank_name': 'A', 'electrode_number_in_bank': '19', 'electrode_label': 'elec67', 'index_in_mapping_sheet': 44}, {'column': 5.0, 'row': 6.0, 'bank_name': 'A', 'electrode_number_in_bank': '15', 'electrode_label': 'elec66', 'index_in_mapping_sheet': 45}, {'column': 4.0, 'row': 6.0, 'bank_name': 'B', 'electrode_number_in_bank': '16', 'electrode_label': 'elec65', 'index_in_mapping_sheet': 46}, {'column': 3.0, 'row': 6.0, 'bank_name': 'B', 'electrode_number_in_bank': '6', 'electrode_label': 'elec64', 'index_in_mapping_sheet': 47}, {'column': 2.0, 'row': 6.0, 'bank_name': 'B', 'electrode_number_in_bank': '5', 'electrode_label': 'elec63', 'index_in_mapping_sheet': 48}, {'column': 1.0, 'row': 6.0, 'bank_name': 'C', 'electrode_number_in_bank': '6', 'electrode_label': 'elec62', 'index_in_mapping_sheet': 49}, {'column': 0.0, 'row': 6.0, 'bank_name': 'C', 'electrode_number_in_bank': '5', 'electrode_label': 'elec61', 'index_in_mapping_sheet': 50}, {'column': 9.0, 'row': 5.0, 'bank_name': 'A', 'electrode_number_in_bank': '26', 'electrode_label': 'elec60', 'index_in_mapping_sheet': 51}, {'column': 8.0, 'row': 5.0, 'bank_name': 'A', 'electrode_number_in_bank': '29', 'electrode_label': 'elec59', 'index_in_mapping_sheet': 52}, {'column': 7.0, 'row': 5.0, 'bank_name': 'A', 'electrode_number_in_bank': '21', 'electrode_label': 'elec58', 'index_in_mapping_sheet': 53}, {'column': 6.0, 'row': 5.0, 'bank_name': 'B', 'electrode_number_in_bank': '22', 'electrode_label': 'elec57', 'index_in_mapping_sheet': 54}, {'column': 5.0, 'row': 5.0, 'bank_name': 'B', 'electrode_number_in_bank': '18', 'electrode_label': 'elec56', 'index_in_mapping_sheet': 55}, {'column': 4.0, 'row': 5.0, 'bank_name': 'B', 'electrode_number_in_bank': '10', 'electrode_label': 'elec55', 'index_in_mapping_sheet': 56}, {'column': 3.0, 'row': 5.0, 'bank_name': 'B', 'electrode_number_in_bank': '8', 'electrode_label': 'elec54', 'index_in_mapping_sheet': 57}, {'column': 2.0, 'row': 5.0, 'bank_name': 'B', 'electrode_number_in_bank': '7', 'electrode_label': 'elec53', 'index_in_mapping_sheet': 58}, {'column': 1.0, 'row': 5.0, 'bank_name': 'C', 'electrode_number_in_bank': '8', 'electrode_label': 'elec52', 'index_in_mapping_sheet': 59}, {'column': 0.0, 'row': 5.0, 'bank_name': 'C', 'electrode_number_in_bank': '7', 'electrode_label': 'elec51', 'index_in_mapping_sheet': 60}, {'column': 9.0, 'row': 4.0, 'bank_name': 'A', 'electrode_number_in_bank': '28', 'electrode_label': 'elec50', 'index_in_mapping_sheet': 61}, {'column': 8.0, 'row': 4.0, 'bank_name': 'A', 'electrode_number_in_bank': '31', 'electrode_label': 'elec49', 'index_in_mapping_sheet': 62}, {'column': 7.0, 'row': 4.0, 'bank_name': 'B', 'electrode_number_in_bank': '30', 'electrode_label': 'elec48', 'index_in_mapping_sheet': 63}, {'column': 6.0, 'row': 4.0, 'bank_name': 'B', 'electrode_number_in_bank': '20', 'electrode_label': 'elec47', 'index_in_mapping_sheet': 64}, {'column': 5.0, 'row': 4.0, 'bank_name': 'B', 'electrode_number_in_bank': '14', 'electrode_label': 'elec46', 'index_in_mapping_sheet': 65}, {'column': 4.0, 'row': 4.0, 'bank_name': 'B', 'electrode_number_in_bank': '12', 'electrode_label': 'elec45', 'index_in_mapping_sheet': 66}, {'column': 3.0, 'row': 4.0, 'bank_name': 'B', 'electrode_number_in_bank': '11', 'electrode_label': 'elec44', 'index_in_mapping_sheet': 67}, {'column': 2.0, 'row': 4.0, 'bank_name': 'B', 'electrode_number_in_bank': '9', 'electrode_label': 'elec43', 'index_in_mapping_sheet': 68}, {'column': 1.0, 'row': 4.0, 'bank_name': 'C', 'electrode_number_in_bank': '10', 'electrode_label': 'elec42', 'index_in_mapping_sheet': 69}, {'column': 0.0, 'row': 4.0, 'bank_name': 'C', 'electrode_number_in_bank': '9', 'electrode_label': 'elec41', 'index_in_mapping_sheet': 70}, {'column': 9.0, 'row': 3.0, 'bank_name': 'A', 'electrode_number_in_bank': '30', 'electrode_label': 'elec40', 'index_in_mapping_sheet': 71}, {'column': 8.0, 'row': 3.0, 'bank_name': 'B', 'electrode_number_in_bank': '32', 'electrode_label': 'elec39', 'index_in_mapping_sheet': 72}, {'column': 7.0, 'row': 3.0, 'bank_name': 'B', 'electrode_number_in_bank': '28', 'electrode_label': 'elec38', 'index_in_mapping_sheet': 73}, {'column': 6.0, 'row': 3.0, 'bank_name': 'B', 'electrode_number_in_bank': '26', 'electrode_label': 'elec37', 'index_in_mapping_sheet': 74}, {'column': 5.0, 'row': 3.0, 'bank_name': 'B', 'electrode_number_in_bank': '24', 'electrode_label': 'elec36', 'index_in_mapping_sheet': 75}, {'column': 4.0, 'row': 3.0, 'bank_name': 'B', 'electrode_number_in_bank': '19', 'electrode_label': 'elec35', 'index_in_mapping_sheet': 76}, {'column': 3.0, 'row': 3.0, 'bank_name': 'B', 'electrode_number_in_bank': '15', 'electrode_label': 'elec34', 'index_in_mapping_sheet': 77}, {'column': 2.0, 'row': 3.0, 'bank_name': 'B', 'electrode_number_in_bank': '13', 'electrode_label': 'elec33', 'index_in_mapping_sheet': 78}, {'column': 1.0, 'row': 3.0, 'bank_name': 'C', 'electrode_number_in_bank': '12', 'electrode_label': 'elec32', 'index_in_mapping_sheet': 79}, {'column': 0.0, 'row': 3.0, 'bank_name': 'C', 'electrode_number_in_bank': '11', 'electrode_label': 'elec31', 'index_in_mapping_sheet': 80}, {'column': 9.0, 'row': 2.0, 'bank_name': 'A', 'electrode_number_in_bank': '32', 'electrode_label': 'elec30', 'index_in_mapping_sheet': 81}, {'column': 8.0, 'row': 2.0, 'bank_name': 'B', 'electrode_number_in_bank': '29', 'electrode_label': 'elec29', 'index_in_mapping_sheet': 82}, {'column': 7.0, 'row': 2.0, 'bank_name': 'B', 'electrode_number_in_bank': '27', 'electrode_label': 'elec28', 'index_in_mapping_sheet': 83}, {'column': 6.0, 'row': 2.0, 'bank_name': 'B', 'electrode_number_in_bank': '25', 'electrode_label': 'elec27', 'index_in_mapping_sheet': 84}, {'column': 5.0, 'row': 2.0, 'bank_name': 'B', 'electrode_number_in_bank': '23', 'electrode_label': 'elec26', 'index_in_mapping_sheet': 85}, {'column': 4.0, 'row': 2.0, 'bank_name': 'B', 'electrode_number_in_bank': '21', 'electrode_label': 'elec25', 'index_in_mapping_sheet': 86}, {'column': 3.0, 'row': 2.0, 'bank_name': 'B', 'electrode_number_in_bank': '17', 'electrode_label': 'elec24', 'index_in_mapping_sheet': 87}, {'column': 2.0, 'row': 2.0, 'bank_name': 'C', 'electrode_number_in_bank': '18', 'electrode_label': 'elec23', 'index_in_mapping_sheet': 88}, {'column': 1.0, 'row': 2.0, 'bank_name': 'C', 'electrode_number_in_bank': '14', 'electrode_label': 'elec22', 'index_in_mapping_sheet': 89}, {'column': 0.0, 'row': 2.0, 'bank_name': 'C', 'electrode_number_in_bank': '13', 'electrode_label': 'elec21', 'index_in_mapping_sheet': 90}, {'column': 9.0, 'row': 1.0, 'bank_name': 'C', 'electrode_number_in_bank': '31', 'electrode_label': 'elec20', 'index_in_mapping_sheet': 91}, {'column': 8.0, 'row': 1.0, 'bank_name': 'B', 'electrode_number_in_bank': '31', 'electrode_label': 'elec19', 'index_in_mapping_sheet': 92}, {'column': 7.0, 'row': 1.0, 'bank_name': 'C', 'electrode_number_in_bank': '30', 'electrode_label': 'elec18', 'index_in_mapping_sheet': 93}, {'column': 6.0, 'row': 1.0, 'bank_name': 'C', 'electrode_number_in_bank': '27', 'electrode_label': 'elec17', 'index_in_mapping_sheet': 94}, {'column': 5.0, 'row': 1.0, 'bank_name': 'C', 'electrode_number_in_bank': '25', 'electrode_label': 'elec16', 'index_in_mapping_sheet': 95}, {'column': 4.0, 'row': 1.0, 'bank_name': 'C', 'electrode_number_in_bank': '23', 'electrode_label': 'elec15', 'index_in_mapping_sheet': 96}, {'column': 3.0, 'row': 1.0, 'bank_name': 'C', 'electrode_number_in_bank': '22', 'electrode_label': 'elec14', 'index_in_mapping_sheet': 97}, {'column': 2.0, 'row': 1.0, 'bank_name': 'C', 'electrode_number_in_bank': '20', 'electrode_label': 'elec13', 'index_in_mapping_sheet': 98}, {'column': 1.0, 'row': 1.0, 'bank_name': 'C', 'electrode_number_in_bank': '16', 'electrode_label': 'elec12', 'index_in_mapping_sheet': 99}, {'column': 0.0, 'row': 1.0, 'bank_name': 'C', 'electrode_number_in_bank': '15', 'electrode_label': 'elec11', 'index_in_mapping_sheet': 100}, {'column': 8.0, 'row': 0.0, 'bank_name': 'C', 'electrode_number_in_bank': '32', 'electrode_label': 'elec9', 'index_in_mapping_sheet': 101}, {'column': 7.0, 'row': 0.0, 'bank_name': 'C', 'electrode_number_in_bank': '29', 'electrode_label': 'elec8', 'index_in_mapping_sheet': 102}, {'column': 6.0, 'row': 0.0, 'bank_name': 'C', 'electrode_number_in_bank': '28', 'electrode_label': 'elec7', 'index_in_mapping_sheet': 103}, {'column': 5.0, 'row': 0.0, 'bank_name': 'C', 'electrode_number_in_bank': '26', 'electrode_label': 'elec6', 'index_in_mapping_sheet': 104}, {'column': 4.0, 'row': 0.0, 'bank_name': 'C', 'electrode_number_in_bank': '24', 'electrode_label': 'elec5', 'index_in_mapping_sheet': 105}, {'column': 3.0, 'row': 0.0, 'bank_name': 'C', 'electrode_number_in_bank': '21', 'electrode_label': 'elec4', 'index_in_mapping_sheet': 106}, {'column': 2.0, 'row': 0.0, 'bank_name': 'C', 'electrode_number_in_bank': '19', 'electrode_label': 'elec3', 'index_in_mapping_sheet': 107}, {'column': 1.0, 'row': 0.0, 'bank_name': 'C', 'electrode_number_in_bank': '17', 'electrode_label': 'elec2', 'index_in_mapping_sheet': 108}, {'column': '', 'row': '', 'bank_name': '', 'electrode_number_in_bank': '', 'electrode_label': '', 'index_in_mapping_sheet': 109}, {'column': '', 'row': '', 'bank_name': '', 'electrode_number_in_bank': '', 'electrode_label': '', 'index_in_mapping_sheet': 110}, {'column': '', 'row': '', 'bank_name': '', 'electrode_number_in_bank': '', 'electrode_label': '', 'index_in_mapping_sheet': 111}, {'column': '', 'row': '', 'bank_name': '', 'electrode_number_in_bank': '', 'electrode_label': '', 'index_in_mapping_sheet': 112}, {'column': '', 'row': '', 'bank_name': '', 'electrode_number_in_bank': '', 'electrode_label': '', 'index_in_mapping_sheet': 113}, {'column': '', 'row': '', 'bank_name': '', 'electrode_number_in_bank': '', 'electrode_label': '', 'index_in_mapping_sheet': 114}, {'column': '', 'row': '', 'bank_name': '', 'electrode_number_in_bank': '', 'electrode_label': '', 'index_in_mapping_sheet': 115}, {'column': '', 'row': '', 'bank_name': '', 'electrode_number_in_bank': '', 'electrode_label': '', 'index_in_mapping_sheet': 116}, {'column': '', 'row': '', 'bank_name': '', 'electrode_number_in_bank': '', 'electrode_label': '', 'index_in_mapping_sheet': 117}, {'column': '', 'row': '', 'bank_name': '', 'electrode_number_in_bank': '', 'electrode_label': '', 'index_in_mapping_sheet': 118}, {'column': '', 'row': '', 'bank_name': '', 'electrode_number_in_bank': '', 'electrode_label': '', 'index_in_mapping_sheet': 119}, {'column': '', 'row': '', 'bank_name': '', 'electrode_number_in_bank': '', 'electrode_label': '', 'index_in_mapping_sheet': 120}]},\n",
              " MappingFile{'xls_path': '/Users/jjpr/dev/scratch/mkgu_scratch/data/090609B-5H.xls', 'workbook': <xlrd.book.Book object at 0x1050a9f98>, 'mapping_worksheet': <xlrd.sheet.Sheet object at 0x1050f2208>, 'comment_lines': {0, 1, 2, 3, 4, 5, 6, 7, 8, 9, 10, 11}, 'description_row': [text:'Cerebus mapping for array 090609B-5H/SN0549', empty:'', empty:'', empty:'', empty:'', empty:'', text:'elec', empty:''], 'mappings': [{'column': 8.0, 'row': 9.0, 'bank_name': 'A', 'electrode_number_in_bank': '14', 'electrode_label': 'elec99', 'index_in_mapping_sheet': 13}, {'column': 7.0, 'row': 9.0, 'bank_name': 'A', 'electrode_number_in_bank': '10', 'electrode_label': 'elec98', 'index_in_mapping_sheet': 14}, {'column': 6.0, 'row': 9.0, 'bank_name': 'A', 'electrode_number_in_bank': '8', 'electrode_label': 'elec97', 'index_in_mapping_sheet': 15}, {'column': 5.0, 'row': 9.0, 'bank_name': 'A', 'electrode_number_in_bank': '6', 'electrode_label': 'elec96', 'index_in_mapping_sheet': 16}, {'column': 4.0, 'row': 9.0, 'bank_name': 'A', 'electrode_number_in_bank': '4', 'electrode_label': 'elec95', 'index_in_mapping_sheet': 17}, {'column': 3.0, 'row': 9.0, 'bank_name': 'A', 'electrode_number_in_bank': '3', 'electrode_label': 'elec94', 'index_in_mapping_sheet': 18}, {'column': 2.0, 'row': 9.0, 'bank_name': 'A', 'electrode_number_in_bank': '1', 'electrode_label': 'elec93', 'index_in_mapping_sheet': 19}, {'column': 1.0, 'row': 9.0, 'bank_name': 'A', 'electrode_number_in_bank': '2', 'electrode_label': 'elec92', 'index_in_mapping_sheet': 20}, {'column': 0.0, 'row': 9.0, 'bank_name': 'C', 'electrode_number_in_bank': '1', 'electrode_label': 'elec91', 'index_in_mapping_sheet': 21}, {'column': 9.0, 'row': 8.0, 'bank_name': 'A', 'electrode_number_in_bank': '18', 'electrode_label': 'elec90', 'index_in_mapping_sheet': 22}, {'column': 8.0, 'row': 8.0, 'bank_name': 'A', 'electrode_number_in_bank': '16', 'electrode_label': 'elec89', 'index_in_mapping_sheet': 23}, {'column': 7.0, 'row': 8.0, 'bank_name': 'A', 'electrode_number_in_bank': '12', 'electrode_label': 'elec88', 'index_in_mapping_sheet': 24}, {'column': 6.0, 'row': 8.0, 'bank_name': 'A', 'electrode_number_in_bank': '11', 'electrode_label': 'elec87', 'index_in_mapping_sheet': 25}, {'column': 5.0, 'row': 8.0, 'bank_name': 'A', 'electrode_number_in_bank': '9', 'electrode_label': 'elec86', 'index_in_mapping_sheet': 26}, {'column': 4.0, 'row': 8.0, 'bank_name': 'A', 'electrode_number_in_bank': '7', 'electrode_label': 'elec85', 'index_in_mapping_sheet': 27}, {'column': 3.0, 'row': 8.0, 'bank_name': 'B', 'electrode_number_in_bank': '2', 'electrode_label': 'elec84', 'index_in_mapping_sheet': 28}, {'column': 2.0, 'row': 8.0, 'bank_name': 'B', 'electrode_number_in_bank': '1', 'electrode_label': 'elec83', 'index_in_mapping_sheet': 29}, {'column': 1.0, 'row': 8.0, 'bank_name': 'C', 'electrode_number_in_bank': '2', 'electrode_label': 'elec82', 'index_in_mapping_sheet': 30}, {'column': 0.0, 'row': 8.0, 'bank_name': 'C', 'electrode_number_in_bank': '3', 'electrode_label': 'elec81', 'index_in_mapping_sheet': 31}, {'column': 9.0, 'row': 7.0, 'bank_name': 'A', 'electrode_number_in_bank': '22', 'electrode_label': 'elec80', 'index_in_mapping_sheet': 32}, {'column': 8.0, 'row': 7.0, 'bank_name': 'A', 'electrode_number_in_bank': '20', 'electrode_label': 'elec79', 'index_in_mapping_sheet': 33}, {'column': 7.0, 'row': 7.0, 'bank_name': 'A', 'electrode_number_in_bank': '23', 'electrode_label': 'elec78', 'index_in_mapping_sheet': 34}, {'column': 6.0, 'row': 7.0, 'bank_name': 'A', 'electrode_number_in_bank': '13', 'electrode_label': 'elec77', 'index_in_mapping_sheet': 35}, {'column': 5.0, 'row': 7.0, 'bank_name': 'A', 'electrode_number_in_bank': '17', 'electrode_label': 'elec76', 'index_in_mapping_sheet': 36}, {'column': 4.0, 'row': 7.0, 'bank_name': 'A', 'electrode_number_in_bank': '5', 'electrode_label': 'elec75', 'index_in_mapping_sheet': 37}, {'column': 3.0, 'row': 7.0, 'bank_name': 'B', 'electrode_number_in_bank': '4', 'electrode_label': 'elec74', 'index_in_mapping_sheet': 38}, {'column': 2.0, 'row': 7.0, 'bank_name': 'B', 'electrode_number_in_bank': '3', 'electrode_label': 'elec73', 'index_in_mapping_sheet': 39}, {'column': 1.0, 'row': 7.0, 'bank_name': 'C', 'electrode_number_in_bank': '4', 'electrode_label': 'elec72', 'index_in_mapping_sheet': 40}, {'column': 0.0, 'row': 7.0, 'bank_name': 'C', 'electrode_number_in_bank': '5', 'electrode_label': 'elec71', 'index_in_mapping_sheet': 41}, {'column': 9.0, 'row': 6.0, 'bank_name': 'A', 'electrode_number_in_bank': '24', 'electrode_label': 'elec70', 'index_in_mapping_sheet': 42}, {'column': 8.0, 'row': 6.0, 'bank_name': 'A', 'electrode_number_in_bank': '27', 'electrode_label': 'elec69', 'index_in_mapping_sheet': 43}, {'column': 7.0, 'row': 6.0, 'bank_name': 'A', 'electrode_number_in_bank': '25', 'electrode_label': 'elec68', 'index_in_mapping_sheet': 44}, {'column': 6.0, 'row': 6.0, 'bank_name': 'A', 'electrode_number_in_bank': '19', 'electrode_label': 'elec67', 'index_in_mapping_sheet': 45}, {'column': 5.0, 'row': 6.0, 'bank_name': 'A', 'electrode_number_in_bank': '15', 'electrode_label': 'elec66', 'index_in_mapping_sheet': 46}, {'column': 4.0, 'row': 6.0, 'bank_name': 'B', 'electrode_number_in_bank': '16', 'electrode_label': 'elec65', 'index_in_mapping_sheet': 47}, {'column': 3.0, 'row': 6.0, 'bank_name': 'B', 'electrode_number_in_bank': '6', 'electrode_label': 'elec64', 'index_in_mapping_sheet': 48}, {'column': 2.0, 'row': 6.0, 'bank_name': 'B', 'electrode_number_in_bank': '5', 'electrode_label': 'elec63', 'index_in_mapping_sheet': 49}, {'column': 1.0, 'row': 6.0, 'bank_name': 'C', 'electrode_number_in_bank': '6', 'electrode_label': 'elec62', 'index_in_mapping_sheet': 50}, {'column': 0.0, 'row': 6.0, 'bank_name': 'C', 'electrode_number_in_bank': '7', 'electrode_label': 'elec61', 'index_in_mapping_sheet': 51}, {'column': 9.0, 'row': 5.0, 'bank_name': 'A', 'electrode_number_in_bank': '26', 'electrode_label': 'elec60', 'index_in_mapping_sheet': 52}, {'column': 8.0, 'row': 5.0, 'bank_name': 'A', 'electrode_number_in_bank': '29', 'electrode_label': 'elec59', 'index_in_mapping_sheet': 53}, {'column': 7.0, 'row': 5.0, 'bank_name': 'A', 'electrode_number_in_bank': '21', 'electrode_label': 'elec58', 'index_in_mapping_sheet': 54}, {'column': 6.0, 'row': 5.0, 'bank_name': 'B', 'electrode_number_in_bank': '22', 'electrode_label': 'elec57', 'index_in_mapping_sheet': 55}, {'column': 5.0, 'row': 5.0, 'bank_name': 'B', 'electrode_number_in_bank': '18', 'electrode_label': 'elec56', 'index_in_mapping_sheet': 56}, {'column': 4.0, 'row': 5.0, 'bank_name': 'B', 'electrode_number_in_bank': '10', 'electrode_label': 'elec55', 'index_in_mapping_sheet': 57}, {'column': 3.0, 'row': 5.0, 'bank_name': 'B', 'electrode_number_in_bank': '8', 'electrode_label': 'elec54', 'index_in_mapping_sheet': 58}, {'column': 2.0, 'row': 5.0, 'bank_name': 'B', 'electrode_number_in_bank': '7', 'electrode_label': 'elec53', 'index_in_mapping_sheet': 59}, {'column': 1.0, 'row': 5.0, 'bank_name': 'C', 'electrode_number_in_bank': '8', 'electrode_label': 'elec52', 'index_in_mapping_sheet': 60}, {'column': 0.0, 'row': 5.0, 'bank_name': 'C', 'electrode_number_in_bank': '9', 'electrode_label': 'elec51', 'index_in_mapping_sheet': 61}, {'column': 9.0, 'row': 4.0, 'bank_name': 'A', 'electrode_number_in_bank': '28', 'electrode_label': 'elec50', 'index_in_mapping_sheet': 62}, {'column': 8.0, 'row': 4.0, 'bank_name': 'A', 'electrode_number_in_bank': '31', 'electrode_label': 'elec49', 'index_in_mapping_sheet': 63}, {'column': 7.0, 'row': 4.0, 'bank_name': 'B', 'electrode_number_in_bank': '30', 'electrode_label': 'elec48', 'index_in_mapping_sheet': 64}, {'column': 6.0, 'row': 4.0, 'bank_name': 'B', 'electrode_number_in_bank': '20', 'electrode_label': 'elec47', 'index_in_mapping_sheet': 65}, {'column': 5.0, 'row': 4.0, 'bank_name': 'B', 'electrode_number_in_bank': '14', 'electrode_label': 'elec46', 'index_in_mapping_sheet': 66}, {'column': 4.0, 'row': 4.0, 'bank_name': 'B', 'electrode_number_in_bank': '12', 'electrode_label': 'elec45', 'index_in_mapping_sheet': 67}, {'column': 3.0, 'row': 4.0, 'bank_name': 'B', 'electrode_number_in_bank': '11', 'electrode_label': 'elec44', 'index_in_mapping_sheet': 68}, {'column': 2.0, 'row': 4.0, 'bank_name': 'B', 'electrode_number_in_bank': '9', 'electrode_label': 'elec43', 'index_in_mapping_sheet': 69}, {'column': 1.0, 'row': 4.0, 'bank_name': 'C', 'electrode_number_in_bank': '10', 'electrode_label': 'elec42', 'index_in_mapping_sheet': 70}, {'column': 0.0, 'row': 4.0, 'bank_name': 'C', 'electrode_number_in_bank': '11', 'electrode_label': 'elec41', 'index_in_mapping_sheet': 71}, {'column': 9.0, 'row': 3.0, 'bank_name': 'A', 'electrode_number_in_bank': '30', 'electrode_label': 'elec40', 'index_in_mapping_sheet': 72}, {'column': 8.0, 'row': 3.0, 'bank_name': 'B', 'electrode_number_in_bank': '32', 'electrode_label': 'elec39', 'index_in_mapping_sheet': 73}, {'column': 7.0, 'row': 3.0, 'bank_name': 'B', 'electrode_number_in_bank': '28', 'electrode_label': 'elec38', 'index_in_mapping_sheet': 74}, {'column': 6.0, 'row': 3.0, 'bank_name': 'B', 'electrode_number_in_bank': '26', 'electrode_label': 'elec37', 'index_in_mapping_sheet': 75}, {'column': 5.0, 'row': 3.0, 'bank_name': 'B', 'electrode_number_in_bank': '24', 'electrode_label': 'elec36', 'index_in_mapping_sheet': 76}, {'column': 4.0, 'row': 3.0, 'bank_name': 'B', 'electrode_number_in_bank': '19', 'electrode_label': 'elec35', 'index_in_mapping_sheet': 77}, {'column': 3.0, 'row': 3.0, 'bank_name': 'B', 'electrode_number_in_bank': '15', 'electrode_label': 'elec34', 'index_in_mapping_sheet': 78}, {'column': 2.0, 'row': 3.0, 'bank_name': 'B', 'electrode_number_in_bank': '13', 'electrode_label': 'elec33', 'index_in_mapping_sheet': 79}, {'column': 1.0, 'row': 3.0, 'bank_name': 'C', 'electrode_number_in_bank': '12', 'electrode_label': 'elec32', 'index_in_mapping_sheet': 80}, {'column': 0.0, 'row': 3.0, 'bank_name': 'C', 'electrode_number_in_bank': '13', 'electrode_label': 'elec31', 'index_in_mapping_sheet': 81}, {'column': 9.0, 'row': 2.0, 'bank_name': 'A', 'electrode_number_in_bank': '32', 'electrode_label': 'elec30', 'index_in_mapping_sheet': 82}, {'column': 8.0, 'row': 2.0, 'bank_name': 'B', 'electrode_number_in_bank': '29', 'electrode_label': 'elec29', 'index_in_mapping_sheet': 83}, {'column': 7.0, 'row': 2.0, 'bank_name': 'B', 'electrode_number_in_bank': '27', 'electrode_label': 'elec28', 'index_in_mapping_sheet': 84}, {'column': 6.0, 'row': 2.0, 'bank_name': 'B', 'electrode_number_in_bank': '25', 'electrode_label': 'elec27', 'index_in_mapping_sheet': 85}, {'column': 5.0, 'row': 2.0, 'bank_name': 'B', 'electrode_number_in_bank': '23', 'electrode_label': 'elec26', 'index_in_mapping_sheet': 86}, {'column': 4.0, 'row': 2.0, 'bank_name': 'B', 'electrode_number_in_bank': '21', 'electrode_label': 'elec25', 'index_in_mapping_sheet': 87}, {'column': 3.0, 'row': 2.0, 'bank_name': 'B', 'electrode_number_in_bank': '17', 'electrode_label': 'elec24', 'index_in_mapping_sheet': 88}, {'column': 2.0, 'row': 2.0, 'bank_name': 'C', 'electrode_number_in_bank': '18', 'electrode_label': 'elec23', 'index_in_mapping_sheet': 89}, {'column': 1.0, 'row': 2.0, 'bank_name': 'C', 'electrode_number_in_bank': '14', 'electrode_label': 'elec22', 'index_in_mapping_sheet': 90}, {'column': 0.0, 'row': 2.0, 'bank_name': 'C', 'electrode_number_in_bank': '15', 'electrode_label': 'elec21', 'index_in_mapping_sheet': 91}, {'column': 9.0, 'row': 1.0, 'bank_name': 'C', 'electrode_number_in_bank': '31', 'electrode_label': 'elec20', 'index_in_mapping_sheet': 92}, {'column': 8.0, 'row': 1.0, 'bank_name': 'B', 'electrode_number_in_bank': '31', 'electrode_label': 'elec19', 'index_in_mapping_sheet': 93}, {'column': 7.0, 'row': 1.0, 'bank_name': 'C', 'electrode_number_in_bank': '30', 'electrode_label': 'elec18', 'index_in_mapping_sheet': 94}, {'column': 6.0, 'row': 1.0, 'bank_name': 'C', 'electrode_number_in_bank': '27', 'electrode_label': 'elec17', 'index_in_mapping_sheet': 95}, {'column': 5.0, 'row': 1.0, 'bank_name': 'C', 'electrode_number_in_bank': '25', 'electrode_label': 'elec16', 'index_in_mapping_sheet': 96}, {'column': 4.0, 'row': 1.0, 'bank_name': 'C', 'electrode_number_in_bank': '23', 'electrode_label': 'elec15', 'index_in_mapping_sheet': 97}, {'column': 3.0, 'row': 1.0, 'bank_name': 'C', 'electrode_number_in_bank': '22', 'electrode_label': 'elec14', 'index_in_mapping_sheet': 98}, {'column': 2.0, 'row': 1.0, 'bank_name': 'C', 'electrode_number_in_bank': '20', 'electrode_label': 'elec13', 'index_in_mapping_sheet': 99}, {'column': 1.0, 'row': 1.0, 'bank_name': 'C', 'electrode_number_in_bank': '16', 'electrode_label': 'elec12', 'index_in_mapping_sheet': 100}, {'column': 8.0, 'row': 0.0, 'bank_name': 'C', 'electrode_number_in_bank': '32', 'electrode_label': 'elec9', 'index_in_mapping_sheet': 101}, {'column': 7.0, 'row': 0.0, 'bank_name': 'C', 'electrode_number_in_bank': '29', 'electrode_label': 'elec8', 'index_in_mapping_sheet': 102}, {'column': 6.0, 'row': 0.0, 'bank_name': 'C', 'electrode_number_in_bank': '28', 'electrode_label': 'elec7', 'index_in_mapping_sheet': 103}, {'column': 5.0, 'row': 0.0, 'bank_name': 'C', 'electrode_number_in_bank': '26', 'electrode_label': 'elec6', 'index_in_mapping_sheet': 104}, {'column': 4.0, 'row': 0.0, 'bank_name': 'C', 'electrode_number_in_bank': '24', 'electrode_label': 'elec5', 'index_in_mapping_sheet': 105}, {'column': 3.0, 'row': 0.0, 'bank_name': 'C', 'electrode_number_in_bank': '21', 'electrode_label': 'elec4', 'index_in_mapping_sheet': 106}, {'column': 2.0, 'row': 0.0, 'bank_name': 'C', 'electrode_number_in_bank': '19', 'electrode_label': 'elec3', 'index_in_mapping_sheet': 107}, {'column': 1.0, 'row': 0.0, 'bank_name': 'C', 'electrode_number_in_bank': '17', 'electrode_label': 'elec2', 'index_in_mapping_sheet': 108}, {'column': '', 'row': '', 'bank_name': '', 'electrode_number_in_bank': '', 'electrode_label': '', 'index_in_mapping_sheet': 109}, {'column': '', 'row': '', 'bank_name': '', 'electrode_number_in_bank': '', 'electrode_label': '', 'index_in_mapping_sheet': 110}, {'column': '', 'row': '', 'bank_name': '', 'electrode_number_in_bank': '', 'electrode_label': '', 'index_in_mapping_sheet': 111}, {'column': '', 'row': '', 'bank_name': '', 'electrode_number_in_bank': '', 'electrode_label': '', 'index_in_mapping_sheet': 112}, {'column': '', 'row': '', 'bank_name': '', 'electrode_number_in_bank': '', 'electrode_label': '', 'index_in_mapping_sheet': 113}, {'column': '', 'row': '', 'bank_name': '', 'electrode_number_in_bank': '', 'electrode_label': '', 'index_in_mapping_sheet': 114}, {'column': '', 'row': '', 'bank_name': '', 'electrode_number_in_bank': '', 'electrode_label': '', 'index_in_mapping_sheet': 115}, {'column': '', 'row': '', 'bank_name': '', 'electrode_number_in_bank': '', 'electrode_label': '', 'index_in_mapping_sheet': 116}, {'column': '', 'row': '', 'bank_name': '', 'electrode_number_in_bank': '', 'electrode_label': '', 'index_in_mapping_sheet': 117}, {'column': '', 'row': '', 'bank_name': '', 'electrode_number_in_bank': '', 'electrode_label': '', 'index_in_mapping_sheet': 118}, {'column': '', 'row': '', 'bank_name': '', 'electrode_number_in_bank': '', 'electrode_label': '', 'index_in_mapping_sheet': 119}, {'column': '', 'row': '', 'bank_name': '', 'electrode_number_in_bank': '', 'electrode_label': '', 'index_in_mapping_sheet': 120}]},\n",
              " MappingFile{'xls_path': '/Users/jjpr/dev/scratch/mkgu_scratch/data/090609B-8E.xls', 'workbook': <xlrd.book.Book object at 0x10510de10>, 'mapping_worksheet': <xlrd.sheet.Sheet object at 0x105168048>, 'comment_lines': {0, 1, 2, 3, 4, 5, 6, 7, 8, 9, 10, 11}, 'description_row': [text:'Cerebus mapping for array 090609B-8E/SN0552', empty:'', empty:'', empty:'', empty:'', empty:'', text:'elec', empty:''], 'mappings': [{'column': 8.0, 'row': 9.0, 'bank_name': 'A', 'electrode_number_in_bank': '14', 'electrode_label': 'elec99', 'index_in_mapping_sheet': 13}, {'column': 7.0, 'row': 9.0, 'bank_name': 'A', 'electrode_number_in_bank': '10', 'electrode_label': 'elec98', 'index_in_mapping_sheet': 14}, {'column': 6.0, 'row': 9.0, 'bank_name': 'A', 'electrode_number_in_bank': '8', 'electrode_label': 'elec97', 'index_in_mapping_sheet': 15}, {'column': 5.0, 'row': 9.0, 'bank_name': 'A', 'electrode_number_in_bank': '6', 'electrode_label': 'elec96', 'index_in_mapping_sheet': 16}, {'column': 4.0, 'row': 9.0, 'bank_name': 'A', 'electrode_number_in_bank': '4', 'electrode_label': 'elec95', 'index_in_mapping_sheet': 17}, {'column': 3.0, 'row': 9.0, 'bank_name': 'A', 'electrode_number_in_bank': '3', 'electrode_label': 'elec94', 'index_in_mapping_sheet': 18}, {'column': 2.0, 'row': 9.0, 'bank_name': 'A', 'electrode_number_in_bank': '1', 'electrode_label': 'elec93', 'index_in_mapping_sheet': 19}, {'column': 1.0, 'row': 9.0, 'bank_name': 'A', 'electrode_number_in_bank': '2', 'electrode_label': 'elec92', 'index_in_mapping_sheet': 20}, {'column': 9.0, 'row': 8.0, 'bank_name': 'A', 'electrode_number_in_bank': '18', 'electrode_label': 'elec90', 'index_in_mapping_sheet': 21}, {'column': 8.0, 'row': 8.0, 'bank_name': 'A', 'electrode_number_in_bank': '16', 'electrode_label': 'elec89', 'index_in_mapping_sheet': 22}, {'column': 7.0, 'row': 8.0, 'bank_name': 'A', 'electrode_number_in_bank': '12', 'electrode_label': 'elec88', 'index_in_mapping_sheet': 23}, {'column': 6.0, 'row': 8.0, 'bank_name': 'A', 'electrode_number_in_bank': '11', 'electrode_label': 'elec87', 'index_in_mapping_sheet': 24}, {'column': 5.0, 'row': 8.0, 'bank_name': 'A', 'electrode_number_in_bank': '9', 'electrode_label': 'elec86', 'index_in_mapping_sheet': 25}, {'column': 4.0, 'row': 8.0, 'bank_name': 'A', 'electrode_number_in_bank': '7', 'electrode_label': 'elec85', 'index_in_mapping_sheet': 26}, {'column': 3.0, 'row': 8.0, 'bank_name': 'B', 'electrode_number_in_bank': '2', 'electrode_label': 'elec84', 'index_in_mapping_sheet': 27}, {'column': 2.0, 'row': 8.0, 'bank_name': 'B', 'electrode_number_in_bank': '1', 'electrode_label': 'elec83', 'index_in_mapping_sheet': 28}, {'column': 1.0, 'row': 8.0, 'bank_name': 'C', 'electrode_number_in_bank': '2', 'electrode_label': 'elec82', 'index_in_mapping_sheet': 29}, {'column': 0.0, 'row': 8.0, 'bank_name': 'C', 'electrode_number_in_bank': '1', 'electrode_label': 'elec81', 'index_in_mapping_sheet': 30}, {'column': 9.0, 'row': 7.0, 'bank_name': 'A', 'electrode_number_in_bank': '22', 'electrode_label': 'elec80', 'index_in_mapping_sheet': 31}, {'column': 8.0, 'row': 7.0, 'bank_name': 'A', 'electrode_number_in_bank': '20', 'electrode_label': 'elec79', 'index_in_mapping_sheet': 32}, {'column': 7.0, 'row': 7.0, 'bank_name': 'A', 'electrode_number_in_bank': '23', 'electrode_label': 'elec78', 'index_in_mapping_sheet': 33}, {'column': 6.0, 'row': 7.0, 'bank_name': 'A', 'electrode_number_in_bank': '13', 'electrode_label': 'elec77', 'index_in_mapping_sheet': 34}, {'column': 5.0, 'row': 7.0, 'bank_name': 'A', 'electrode_number_in_bank': '17', 'electrode_label': 'elec76', 'index_in_mapping_sheet': 35}, {'column': 4.0, 'row': 7.0, 'bank_name': 'A', 'electrode_number_in_bank': '5', 'electrode_label': 'elec75', 'index_in_mapping_sheet': 36}, {'column': 3.0, 'row': 7.0, 'bank_name': 'B', 'electrode_number_in_bank': '4', 'electrode_label': 'elec74', 'index_in_mapping_sheet': 37}, {'column': 2.0, 'row': 7.0, 'bank_name': 'B', 'electrode_number_in_bank': '3', 'electrode_label': 'elec73', 'index_in_mapping_sheet': 38}, {'column': 1.0, 'row': 7.0, 'bank_name': 'C', 'electrode_number_in_bank': '4', 'electrode_label': 'elec72', 'index_in_mapping_sheet': 39}, {'column': 0.0, 'row': 7.0, 'bank_name': 'C', 'electrode_number_in_bank': '3', 'electrode_label': 'elec71', 'index_in_mapping_sheet': 40}, {'column': 9.0, 'row': 6.0, 'bank_name': 'A', 'electrode_number_in_bank': '24', 'electrode_label': 'elec70', 'index_in_mapping_sheet': 41}, {'column': 8.0, 'row': 6.0, 'bank_name': 'A', 'electrode_number_in_bank': '27', 'electrode_label': 'elec69', 'index_in_mapping_sheet': 42}, {'column': 7.0, 'row': 6.0, 'bank_name': 'A', 'electrode_number_in_bank': '25', 'electrode_label': 'elec68', 'index_in_mapping_sheet': 43}, {'column': 6.0, 'row': 6.0, 'bank_name': 'A', 'electrode_number_in_bank': '19', 'electrode_label': 'elec67', 'index_in_mapping_sheet': 44}, {'column': 5.0, 'row': 6.0, 'bank_name': 'A', 'electrode_number_in_bank': '15', 'electrode_label': 'elec66', 'index_in_mapping_sheet': 45}, {'column': 4.0, 'row': 6.0, 'bank_name': 'B', 'electrode_number_in_bank': '16', 'electrode_label': 'elec65', 'index_in_mapping_sheet': 46}, {'column': 3.0, 'row': 6.0, 'bank_name': 'B', 'electrode_number_in_bank': '6', 'electrode_label': 'elec64', 'index_in_mapping_sheet': 47}, {'column': 2.0, 'row': 6.0, 'bank_name': 'B', 'electrode_number_in_bank': '5', 'electrode_label': 'elec63', 'index_in_mapping_sheet': 48}, {'column': 1.0, 'row': 6.0, 'bank_name': 'C', 'electrode_number_in_bank': '6', 'electrode_label': 'elec62', 'index_in_mapping_sheet': 49}, {'column': 0.0, 'row': 6.0, 'bank_name': 'C', 'electrode_number_in_bank': '5', 'electrode_label': 'elec61', 'index_in_mapping_sheet': 50}, {'column': 9.0, 'row': 5.0, 'bank_name': 'A', 'electrode_number_in_bank': '26', 'electrode_label': 'elec60', 'index_in_mapping_sheet': 51}, {'column': 8.0, 'row': 5.0, 'bank_name': 'A', 'electrode_number_in_bank': '29', 'electrode_label': 'elec59', 'index_in_mapping_sheet': 52}, {'column': 7.0, 'row': 5.0, 'bank_name': 'A', 'electrode_number_in_bank': '21', 'electrode_label': 'elec58', 'index_in_mapping_sheet': 53}, {'column': 6.0, 'row': 5.0, 'bank_name': 'B', 'electrode_number_in_bank': '22', 'electrode_label': 'elec57', 'index_in_mapping_sheet': 54}, {'column': 5.0, 'row': 5.0, 'bank_name': 'B', 'electrode_number_in_bank': '18', 'electrode_label': 'elec56', 'index_in_mapping_sheet': 55}, {'column': 4.0, 'row': 5.0, 'bank_name': 'B', 'electrode_number_in_bank': '10', 'electrode_label': 'elec55', 'index_in_mapping_sheet': 56}, {'column': 3.0, 'row': 5.0, 'bank_name': 'B', 'electrode_number_in_bank': '8', 'electrode_label': 'elec54', 'index_in_mapping_sheet': 57}, {'column': 2.0, 'row': 5.0, 'bank_name': 'B', 'electrode_number_in_bank': '7', 'electrode_label': 'elec53', 'index_in_mapping_sheet': 58}, {'column': 1.0, 'row': 5.0, 'bank_name': 'C', 'electrode_number_in_bank': '8', 'electrode_label': 'elec52', 'index_in_mapping_sheet': 59}, {'column': 0.0, 'row': 5.0, 'bank_name': 'C', 'electrode_number_in_bank': '7', 'electrode_label': 'elec51', 'index_in_mapping_sheet': 60}, {'column': 9.0, 'row': 4.0, 'bank_name': 'A', 'electrode_number_in_bank': '28', 'electrode_label': 'elec50', 'index_in_mapping_sheet': 61}, {'column': 8.0, 'row': 4.0, 'bank_name': 'A', 'electrode_number_in_bank': '31', 'electrode_label': 'elec49', 'index_in_mapping_sheet': 62}, {'column': 7.0, 'row': 4.0, 'bank_name': 'B', 'electrode_number_in_bank': '30', 'electrode_label': 'elec48', 'index_in_mapping_sheet': 63}, {'column': 6.0, 'row': 4.0, 'bank_name': 'B', 'electrode_number_in_bank': '20', 'electrode_label': 'elec47', 'index_in_mapping_sheet': 64}, {'column': 5.0, 'row': 4.0, 'bank_name': 'B', 'electrode_number_in_bank': '14', 'electrode_label': 'elec46', 'index_in_mapping_sheet': 65}, {'column': 4.0, 'row': 4.0, 'bank_name': 'B', 'electrode_number_in_bank': '12', 'electrode_label': 'elec45', 'index_in_mapping_sheet': 66}, {'column': 3.0, 'row': 4.0, 'bank_name': 'B', 'electrode_number_in_bank': '11', 'electrode_label': 'elec44', 'index_in_mapping_sheet': 67}, {'column': 2.0, 'row': 4.0, 'bank_name': 'B', 'electrode_number_in_bank': '9', 'electrode_label': 'elec43', 'index_in_mapping_sheet': 68}, {'column': 1.0, 'row': 4.0, 'bank_name': 'C', 'electrode_number_in_bank': '10', 'electrode_label': 'elec42', 'index_in_mapping_sheet': 69}, {'column': 0.0, 'row': 4.0, 'bank_name': 'C', 'electrode_number_in_bank': '9', 'electrode_label': 'elec41', 'index_in_mapping_sheet': 70}, {'column': 9.0, 'row': 3.0, 'bank_name': 'A', 'electrode_number_in_bank': '30', 'electrode_label': 'elec40', 'index_in_mapping_sheet': 71}, {'column': 8.0, 'row': 3.0, 'bank_name': 'B', 'electrode_number_in_bank': '32', 'electrode_label': 'elec39', 'index_in_mapping_sheet': 72}, {'column': 7.0, 'row': 3.0, 'bank_name': 'B', 'electrode_number_in_bank': '28', 'electrode_label': 'elec38', 'index_in_mapping_sheet': 73}, {'column': 6.0, 'row': 3.0, 'bank_name': 'B', 'electrode_number_in_bank': '26', 'electrode_label': 'elec37', 'index_in_mapping_sheet': 74}, {'column': 5.0, 'row': 3.0, 'bank_name': 'B', 'electrode_number_in_bank': '24', 'electrode_label': 'elec36', 'index_in_mapping_sheet': 75}, {'column': 4.0, 'row': 3.0, 'bank_name': 'B', 'electrode_number_in_bank': '19', 'electrode_label': 'elec35', 'index_in_mapping_sheet': 76}, {'column': 3.0, 'row': 3.0, 'bank_name': 'B', 'electrode_number_in_bank': '15', 'electrode_label': 'elec34', 'index_in_mapping_sheet': 77}, {'column': 2.0, 'row': 3.0, 'bank_name': 'B', 'electrode_number_in_bank': '13', 'electrode_label': 'elec33', 'index_in_mapping_sheet': 78}, {'column': 1.0, 'row': 3.0, 'bank_name': 'C', 'electrode_number_in_bank': '12', 'electrode_label': 'elec32', 'index_in_mapping_sheet': 79}, {'column': 0.0, 'row': 3.0, 'bank_name': 'C', 'electrode_number_in_bank': '11', 'electrode_label': 'elec31', 'index_in_mapping_sheet': 80}, {'column': 9.0, 'row': 2.0, 'bank_name': 'A', 'electrode_number_in_bank': '32', 'electrode_label': 'elec30', 'index_in_mapping_sheet': 81}, {'column': 8.0, 'row': 2.0, 'bank_name': 'B', 'electrode_number_in_bank': '29', 'electrode_label': 'elec29', 'index_in_mapping_sheet': 82}, {'column': 7.0, 'row': 2.0, 'bank_name': 'B', 'electrode_number_in_bank': '27', 'electrode_label': 'elec28', 'index_in_mapping_sheet': 83}, {'column': 6.0, 'row': 2.0, 'bank_name': 'B', 'electrode_number_in_bank': '25', 'electrode_label': 'elec27', 'index_in_mapping_sheet': 84}, {'column': 5.0, 'row': 2.0, 'bank_name': 'B', 'electrode_number_in_bank': '23', 'electrode_label': 'elec26', 'index_in_mapping_sheet': 85}, {'column': 4.0, 'row': 2.0, 'bank_name': 'B', 'electrode_number_in_bank': '21', 'electrode_label': 'elec25', 'index_in_mapping_sheet': 86}, {'column': 3.0, 'row': 2.0, 'bank_name': 'B', 'electrode_number_in_bank': '17', 'electrode_label': 'elec24', 'index_in_mapping_sheet': 87}, {'column': 2.0, 'row': 2.0, 'bank_name': 'C', 'electrode_number_in_bank': '18', 'electrode_label': 'elec23', 'index_in_mapping_sheet': 88}, {'column': 1.0, 'row': 2.0, 'bank_name': 'C', 'electrode_number_in_bank': '14', 'electrode_label': 'elec22', 'index_in_mapping_sheet': 89}, {'column': 0.0, 'row': 2.0, 'bank_name': 'C', 'electrode_number_in_bank': '13', 'electrode_label': 'elec21', 'index_in_mapping_sheet': 90}, {'column': 9.0, 'row': 1.0, 'bank_name': 'C', 'electrode_number_in_bank': '31', 'electrode_label': 'elec20', 'index_in_mapping_sheet': 91}, {'column': 8.0, 'row': 1.0, 'bank_name': 'B', 'electrode_number_in_bank': '31', 'electrode_label': 'elec19', 'index_in_mapping_sheet': 92}, {'column': 7.0, 'row': 1.0, 'bank_name': 'C', 'electrode_number_in_bank': '30', 'electrode_label': 'elec18', 'index_in_mapping_sheet': 93}, {'column': 6.0, 'row': 1.0, 'bank_name': 'C', 'electrode_number_in_bank': '27', 'electrode_label': 'elec17', 'index_in_mapping_sheet': 94}, {'column': 5.0, 'row': 1.0, 'bank_name': 'C', 'electrode_number_in_bank': '25', 'electrode_label': 'elec16', 'index_in_mapping_sheet': 95}, {'column': 4.0, 'row': 1.0, 'bank_name': 'C', 'electrode_number_in_bank': '23', 'electrode_label': 'elec15', 'index_in_mapping_sheet': 96}, {'column': 3.0, 'row': 1.0, 'bank_name': 'C', 'electrode_number_in_bank': '22', 'electrode_label': 'elec14', 'index_in_mapping_sheet': 97}, {'column': 2.0, 'row': 1.0, 'bank_name': 'C', 'electrode_number_in_bank': '20', 'electrode_label': 'elec13', 'index_in_mapping_sheet': 98}, {'column': 1.0, 'row': 1.0, 'bank_name': 'C', 'electrode_number_in_bank': '16', 'electrode_label': 'elec12', 'index_in_mapping_sheet': 99}, {'column': 0.0, 'row': 1.0, 'bank_name': 'C', 'electrode_number_in_bank': '15', 'electrode_label': 'elec11', 'index_in_mapping_sheet': 100}, {'column': 8.0, 'row': 0.0, 'bank_name': 'C', 'electrode_number_in_bank': '32', 'electrode_label': 'elec9', 'index_in_mapping_sheet': 101}, {'column': 7.0, 'row': 0.0, 'bank_name': 'C', 'electrode_number_in_bank': '29', 'electrode_label': 'elec8', 'index_in_mapping_sheet': 102}, {'column': 6.0, 'row': 0.0, 'bank_name': 'C', 'electrode_number_in_bank': '28', 'electrode_label': 'elec7', 'index_in_mapping_sheet': 103}, {'column': 5.0, 'row': 0.0, 'bank_name': 'C', 'electrode_number_in_bank': '26', 'electrode_label': 'elec6', 'index_in_mapping_sheet': 104}, {'column': 4.0, 'row': 0.0, 'bank_name': 'C', 'electrode_number_in_bank': '24', 'electrode_label': 'elec5', 'index_in_mapping_sheet': 105}, {'column': 3.0, 'row': 0.0, 'bank_name': 'C', 'electrode_number_in_bank': '21', 'electrode_label': 'elec4', 'index_in_mapping_sheet': 106}, {'column': 2.0, 'row': 0.0, 'bank_name': 'C', 'electrode_number_in_bank': '19', 'electrode_label': 'elec3', 'index_in_mapping_sheet': 107}, {'column': 1.0, 'row': 0.0, 'bank_name': 'C', 'electrode_number_in_bank': '17', 'electrode_label': 'elec2', 'index_in_mapping_sheet': 108}, {'column': '', 'row': '', 'bank_name': '', 'electrode_number_in_bank': '', 'electrode_label': '', 'index_in_mapping_sheet': 109}, {'column': '', 'row': '', 'bank_name': '', 'electrode_number_in_bank': '', 'electrode_label': '', 'index_in_mapping_sheet': 110}, {'column': '', 'row': '', 'bank_name': '', 'electrode_number_in_bank': '', 'electrode_label': '', 'index_in_mapping_sheet': 111}, {'column': '', 'row': '', 'bank_name': '', 'electrode_number_in_bank': '', 'electrode_label': '', 'index_in_mapping_sheet': 112}, {'column': '', 'row': '', 'bank_name': '', 'electrode_number_in_bank': '', 'electrode_label': '', 'index_in_mapping_sheet': 113}, {'column': '', 'row': '', 'bank_name': '', 'electrode_number_in_bank': '', 'electrode_label': '', 'index_in_mapping_sheet': 114}, {'column': '', 'row': '', 'bank_name': '', 'electrode_number_in_bank': '', 'electrode_label': '', 'index_in_mapping_sheet': 115}, {'column': '', 'row': '', 'bank_name': '', 'electrode_number_in_bank': '', 'electrode_label': '', 'index_in_mapping_sheet': 116}, {'column': '', 'row': '', 'bank_name': '', 'electrode_number_in_bank': '', 'electrode_label': '', 'index_in_mapping_sheet': 117}, {'column': '', 'row': '', 'bank_name': '', 'electrode_number_in_bank': '', 'electrode_label': '', 'index_in_mapping_sheet': 118}, {'column': '', 'row': '', 'bank_name': '', 'electrode_number_in_bank': '', 'electrode_label': '', 'index_in_mapping_sheet': 119}, {'column': '', 'row': '', 'bank_name': '', 'electrode_number_in_bank': '', 'electrode_label': '', 'index_in_mapping_sheet': 120}]},\n",
              " MappingFile{'xls_path': '/Users/jjpr/dev/scratch/mkgu_scratch/data/2132-5-SN0656.xls', 'workbook': <xlrd.book.Book object at 0x105172c88>, 'mapping_worksheet': <xlrd.sheet.Sheet object at 0x1051bbeb8>, 'comment_lines': {0, 1, 2, 3, 4, 5, 6, 7, 8, 9, 10, 11}, 'description_row': [text:'Cerebus mapping for array 2132-5/SN0656', empty:'', empty:'', empty:'', empty:'', empty:'', text:'elec', empty:''], 'mappings': [{'column': 9.0, 'row': 9.0, 'bank_name': 'A', 'electrode_number_in_bank': '16', 'electrode_label': 'elec100', 'index_in_mapping_sheet': 13}, {'column': 8.0, 'row': 9.0, 'bank_name': 'A', 'electrode_number_in_bank': '14', 'electrode_label': 'elec99', 'index_in_mapping_sheet': 14}, {'column': 7.0, 'row': 9.0, 'bank_name': 'A', 'electrode_number_in_bank': '10', 'electrode_label': 'elec98', 'index_in_mapping_sheet': 15}, {'column': 6.0, 'row': 9.0, 'bank_name': 'A', 'electrode_number_in_bank': '8', 'electrode_label': 'elec97', 'index_in_mapping_sheet': 16}, {'column': 5.0, 'row': 9.0, 'bank_name': 'A', 'electrode_number_in_bank': '6', 'electrode_label': 'elec96', 'index_in_mapping_sheet': 17}, {'column': 4.0, 'row': 9.0, 'bank_name': 'A', 'electrode_number_in_bank': '4', 'electrode_label': 'elec95', 'index_in_mapping_sheet': 18}, {'column': 3.0, 'row': 9.0, 'bank_name': 'A', 'electrode_number_in_bank': '3', 'electrode_label': 'elec94', 'index_in_mapping_sheet': 19}, {'column': 2.0, 'row': 9.0, 'bank_name': 'A', 'electrode_number_in_bank': '1', 'electrode_label': 'elec93', 'index_in_mapping_sheet': 20}, {'column': 1.0, 'row': 9.0, 'bank_name': 'A', 'electrode_number_in_bank': '2', 'electrode_label': 'elec92', 'index_in_mapping_sheet': 21}, {'column': 9.0, 'row': 8.0, 'bank_name': 'A', 'electrode_number_in_bank': '18', 'electrode_label': 'elec90', 'index_in_mapping_sheet': 22}, {'column': 7.0, 'row': 8.0, 'bank_name': 'A', 'electrode_number_in_bank': '12', 'electrode_label': 'elec88', 'index_in_mapping_sheet': 23}, {'column': 6.0, 'row': 8.0, 'bank_name': 'A', 'electrode_number_in_bank': '11', 'electrode_label': 'elec87', 'index_in_mapping_sheet': 24}, {'column': 5.0, 'row': 8.0, 'bank_name': 'A', 'electrode_number_in_bank': '9', 'electrode_label': 'elec86', 'index_in_mapping_sheet': 25}, {'column': 4.0, 'row': 8.0, 'bank_name': 'A', 'electrode_number_in_bank': '7', 'electrode_label': 'elec85', 'index_in_mapping_sheet': 26}, {'column': 3.0, 'row': 8.0, 'bank_name': 'B', 'electrode_number_in_bank': '2', 'electrode_label': 'elec84', 'index_in_mapping_sheet': 27}, {'column': 2.0, 'row': 8.0, 'bank_name': 'B', 'electrode_number_in_bank': '1', 'electrode_label': 'elec83', 'index_in_mapping_sheet': 28}, {'column': 1.0, 'row': 8.0, 'bank_name': 'C', 'electrode_number_in_bank': '2', 'electrode_label': 'elec82', 'index_in_mapping_sheet': 29}, {'column': 0.0, 'row': 8.0, 'bank_name': 'C', 'electrode_number_in_bank': '1', 'electrode_label': 'elec81', 'index_in_mapping_sheet': 30}, {'column': 9.0, 'row': 7.0, 'bank_name': 'A', 'electrode_number_in_bank': '22', 'electrode_label': 'elec80', 'index_in_mapping_sheet': 31}, {'column': 8.0, 'row': 7.0, 'bank_name': 'A', 'electrode_number_in_bank': '20', 'electrode_label': 'elec79', 'index_in_mapping_sheet': 32}, {'column': 7.0, 'row': 7.0, 'bank_name': 'A', 'electrode_number_in_bank': '23', 'electrode_label': 'elec78', 'index_in_mapping_sheet': 33}, {'column': 6.0, 'row': 7.0, 'bank_name': 'A', 'electrode_number_in_bank': '13', 'electrode_label': 'elec77', 'index_in_mapping_sheet': 34}, {'column': 5.0, 'row': 7.0, 'bank_name': 'A', 'electrode_number_in_bank': '17', 'electrode_label': 'elec76', 'index_in_mapping_sheet': 35}, {'column': 4.0, 'row': 7.0, 'bank_name': 'A', 'electrode_number_in_bank': '5', 'electrode_label': 'elec75', 'index_in_mapping_sheet': 36}, {'column': 3.0, 'row': 7.0, 'bank_name': 'B', 'electrode_number_in_bank': '4', 'electrode_label': 'elec74', 'index_in_mapping_sheet': 37}, {'column': 2.0, 'row': 7.0, 'bank_name': 'B', 'electrode_number_in_bank': '3', 'electrode_label': 'elec73', 'index_in_mapping_sheet': 38}, {'column': 1.0, 'row': 7.0, 'bank_name': 'C', 'electrode_number_in_bank': '4', 'electrode_label': 'elec72', 'index_in_mapping_sheet': 39}, {'column': 0.0, 'row': 7.0, 'bank_name': 'C', 'electrode_number_in_bank': '3', 'electrode_label': 'elec71', 'index_in_mapping_sheet': 40}, {'column': 9.0, 'row': 6.0, 'bank_name': 'A', 'electrode_number_in_bank': '24', 'electrode_label': 'elec70', 'index_in_mapping_sheet': 41}, {'column': 8.0, 'row': 6.0, 'bank_name': 'A', 'electrode_number_in_bank': '27', 'electrode_label': 'elec69', 'index_in_mapping_sheet': 42}, {'column': 7.0, 'row': 6.0, 'bank_name': 'A', 'electrode_number_in_bank': '25', 'electrode_label': 'elec68', 'index_in_mapping_sheet': 43}, {'column': 6.0, 'row': 6.0, 'bank_name': 'A', 'electrode_number_in_bank': '19', 'electrode_label': 'elec67', 'index_in_mapping_sheet': 44}, {'column': 5.0, 'row': 6.0, 'bank_name': 'A', 'electrode_number_in_bank': '15', 'electrode_label': 'elec66', 'index_in_mapping_sheet': 45}, {'column': 4.0, 'row': 6.0, 'bank_name': 'B', 'electrode_number_in_bank': '16', 'electrode_label': 'elec65', 'index_in_mapping_sheet': 46}, {'column': 3.0, 'row': 6.0, 'bank_name': 'B', 'electrode_number_in_bank': '6', 'electrode_label': 'elec64', 'index_in_mapping_sheet': 47}, {'column': 2.0, 'row': 6.0, 'bank_name': 'B', 'electrode_number_in_bank': '5', 'electrode_label': 'elec63', 'index_in_mapping_sheet': 48}, {'column': 1.0, 'row': 6.0, 'bank_name': 'C', 'electrode_number_in_bank': '6', 'electrode_label': 'elec62', 'index_in_mapping_sheet': 49}, {'column': 0.0, 'row': 6.0, 'bank_name': 'C', 'electrode_number_in_bank': '5', 'electrode_label': 'elec61', 'index_in_mapping_sheet': 50}, {'column': 9.0, 'row': 5.0, 'bank_name': 'A', 'electrode_number_in_bank': '26', 'electrode_label': 'elec60', 'index_in_mapping_sheet': 51}, {'column': 8.0, 'row': 5.0, 'bank_name': 'A', 'electrode_number_in_bank': '29', 'electrode_label': 'elec59', 'index_in_mapping_sheet': 52}, {'column': 7.0, 'row': 5.0, 'bank_name': 'A', 'electrode_number_in_bank': '21', 'electrode_label': 'elec58', 'index_in_mapping_sheet': 53}, {'column': 6.0, 'row': 5.0, 'bank_name': 'B', 'electrode_number_in_bank': '22', 'electrode_label': 'elec57', 'index_in_mapping_sheet': 54}, {'column': 5.0, 'row': 5.0, 'bank_name': 'B', 'electrode_number_in_bank': '18', 'electrode_label': 'elec56', 'index_in_mapping_sheet': 55}, {'column': 4.0, 'row': 5.0, 'bank_name': 'B', 'electrode_number_in_bank': '10', 'electrode_label': 'elec55', 'index_in_mapping_sheet': 56}, {'column': 3.0, 'row': 5.0, 'bank_name': 'B', 'electrode_number_in_bank': '8', 'electrode_label': 'elec54', 'index_in_mapping_sheet': 57}, {'column': 2.0, 'row': 5.0, 'bank_name': 'B', 'electrode_number_in_bank': '7', 'electrode_label': 'elec53', 'index_in_mapping_sheet': 58}, {'column': 1.0, 'row': 5.0, 'bank_name': 'C', 'electrode_number_in_bank': '8', 'electrode_label': 'elec52', 'index_in_mapping_sheet': 59}, {'column': 0.0, 'row': 5.0, 'bank_name': 'C', 'electrode_number_in_bank': '7', 'electrode_label': 'elec51', 'index_in_mapping_sheet': 60}, {'column': 8.0, 'row': 4.0, 'bank_name': 'A', 'electrode_number_in_bank': '31', 'electrode_label': 'elec49', 'index_in_mapping_sheet': 61}, {'column': 7.0, 'row': 4.0, 'bank_name': 'B', 'electrode_number_in_bank': '30', 'electrode_label': 'elec48', 'index_in_mapping_sheet': 62}, {'column': 6.0, 'row': 4.0, 'bank_name': 'B', 'electrode_number_in_bank': '20', 'electrode_label': 'elec47', 'index_in_mapping_sheet': 63}, {'column': 5.0, 'row': 4.0, 'bank_name': 'B', 'electrode_number_in_bank': '14', 'electrode_label': 'elec46', 'index_in_mapping_sheet': 64}, {'column': 4.0, 'row': 4.0, 'bank_name': 'B', 'electrode_number_in_bank': '12', 'electrode_label': 'elec45', 'index_in_mapping_sheet': 65}, {'column': 3.0, 'row': 4.0, 'bank_name': 'B', 'electrode_number_in_bank': '11', 'electrode_label': 'elec44', 'index_in_mapping_sheet': 66}, {'column': 2.0, 'row': 4.0, 'bank_name': 'B', 'electrode_number_in_bank': '9', 'electrode_label': 'elec43', 'index_in_mapping_sheet': 67}, {'column': 1.0, 'row': 4.0, 'bank_name': 'C', 'electrode_number_in_bank': '10', 'electrode_label': 'elec42', 'index_in_mapping_sheet': 68}, {'column': 0.0, 'row': 4.0, 'bank_name': 'C', 'electrode_number_in_bank': '9', 'electrode_label': 'elec41', 'index_in_mapping_sheet': 69}, {'column': 9.0, 'row': 3.0, 'bank_name': 'A', 'electrode_number_in_bank': '30', 'electrode_label': 'elec40', 'index_in_mapping_sheet': 70}, {'column': 8.0, 'row': 3.0, 'bank_name': 'B', 'electrode_number_in_bank': '32', 'electrode_label': 'elec39', 'index_in_mapping_sheet': 71}, {'column': 7.0, 'row': 3.0, 'bank_name': 'B', 'electrode_number_in_bank': '28', 'electrode_label': 'elec38', 'index_in_mapping_sheet': 72}, {'column': 6.0, 'row': 3.0, 'bank_name': 'B', 'electrode_number_in_bank': '26', 'electrode_label': 'elec37', 'index_in_mapping_sheet': 73}, {'column': 5.0, 'row': 3.0, 'bank_name': 'B', 'electrode_number_in_bank': '24', 'electrode_label': 'elec36', 'index_in_mapping_sheet': 74}, {'column': 4.0, 'row': 3.0, 'bank_name': 'B', 'electrode_number_in_bank': '19', 'electrode_label': 'elec35', 'index_in_mapping_sheet': 75}, {'column': 3.0, 'row': 3.0, 'bank_name': 'B', 'electrode_number_in_bank': '15', 'electrode_label': 'elec34', 'index_in_mapping_sheet': 76}, {'column': 2.0, 'row': 3.0, 'bank_name': 'B', 'electrode_number_in_bank': '13', 'electrode_label': 'elec33', 'index_in_mapping_sheet': 77}, {'column': 1.0, 'row': 3.0, 'bank_name': 'C', 'electrode_number_in_bank': '12', 'electrode_label': 'elec32', 'index_in_mapping_sheet': 78}, {'column': 0.0, 'row': 3.0, 'bank_name': 'C', 'electrode_number_in_bank': '11', 'electrode_label': 'elec31', 'index_in_mapping_sheet': 79}, {'column': 9.0, 'row': 2.0, 'bank_name': 'A', 'electrode_number_in_bank': '32', 'electrode_label': 'elec30', 'index_in_mapping_sheet': 80}, {'column': 8.0, 'row': 2.0, 'bank_name': 'B', 'electrode_number_in_bank': '29', 'electrode_label': 'elec29', 'index_in_mapping_sheet': 81}, {'column': 7.0, 'row': 2.0, 'bank_name': 'B', 'electrode_number_in_bank': '27', 'electrode_label': 'elec28', 'index_in_mapping_sheet': 82}, {'column': 6.0, 'row': 2.0, 'bank_name': 'B', 'electrode_number_in_bank': '25', 'electrode_label': 'elec27', 'index_in_mapping_sheet': 83}, {'column': 5.0, 'row': 2.0, 'bank_name': 'B', 'electrode_number_in_bank': '23', 'electrode_label': 'elec26', 'index_in_mapping_sheet': 84}, {'column': 4.0, 'row': 2.0, 'bank_name': 'B', 'electrode_number_in_bank': '21', 'electrode_label': 'elec25', 'index_in_mapping_sheet': 85}, {'column': 3.0, 'row': 2.0, 'bank_name': 'B', 'electrode_number_in_bank': '17', 'electrode_label': 'elec24', 'index_in_mapping_sheet': 86}, {'column': 2.0, 'row': 2.0, 'bank_name': 'C', 'electrode_number_in_bank': '18', 'electrode_label': 'elec23', 'index_in_mapping_sheet': 87}, {'column': 1.0, 'row': 2.0, 'bank_name': 'C', 'electrode_number_in_bank': '14', 'electrode_label': 'elec22', 'index_in_mapping_sheet': 88}, {'column': 0.0, 'row': 2.0, 'bank_name': 'C', 'electrode_number_in_bank': '13', 'electrode_label': 'elec21', 'index_in_mapping_sheet': 89}, {'column': 9.0, 'row': 1.0, 'bank_name': 'C', 'electrode_number_in_bank': '31', 'electrode_label': 'elec20', 'index_in_mapping_sheet': 90}, {'column': 8.0, 'row': 1.0, 'bank_name': 'B', 'electrode_number_in_bank': '31', 'electrode_label': 'elec19', 'index_in_mapping_sheet': 91}, {'column': 7.0, 'row': 1.0, 'bank_name': 'C', 'electrode_number_in_bank': '30', 'electrode_label': 'elec18', 'index_in_mapping_sheet': 92}, {'column': 6.0, 'row': 1.0, 'bank_name': 'C', 'electrode_number_in_bank': '27', 'electrode_label': 'elec17', 'index_in_mapping_sheet': 93}, {'column': 5.0, 'row': 1.0, 'bank_name': 'C', 'electrode_number_in_bank': '25', 'electrode_label': 'elec16', 'index_in_mapping_sheet': 94}, {'column': 4.0, 'row': 1.0, 'bank_name': 'C', 'electrode_number_in_bank': '23', 'electrode_label': 'elec15', 'index_in_mapping_sheet': 95}, {'column': 3.0, 'row': 1.0, 'bank_name': 'C', 'electrode_number_in_bank': '22', 'electrode_label': 'elec14', 'index_in_mapping_sheet': 96}, {'column': 2.0, 'row': 1.0, 'bank_name': 'C', 'electrode_number_in_bank': '20', 'electrode_label': 'elec13', 'index_in_mapping_sheet': 97}, {'column': 1.0, 'row': 1.0, 'bank_name': 'C', 'electrode_number_in_bank': '16', 'electrode_label': 'elec12', 'index_in_mapping_sheet': 98}, {'column': 0.0, 'row': 1.0, 'bank_name': 'C', 'electrode_number_in_bank': '15', 'electrode_label': 'elec11', 'index_in_mapping_sheet': 99}, {'column': 9.0, 'row': 0.0, 'bank_name': 'A', 'electrode_number_in_bank': '28', 'electrode_label': 'elec10', 'index_in_mapping_sheet': 100}, {'column': 8.0, 'row': 0.0, 'bank_name': 'C', 'electrode_number_in_bank': '32', 'electrode_label': 'elec9', 'index_in_mapping_sheet': 101}, {'column': 7.0, 'row': 0.0, 'bank_name': 'C', 'electrode_number_in_bank': '29', 'electrode_label': 'elec8', 'index_in_mapping_sheet': 102}, {'column': 6.0, 'row': 0.0, 'bank_name': 'C', 'electrode_number_in_bank': '28', 'electrode_label': 'elec7', 'index_in_mapping_sheet': 103}, {'column': 5.0, 'row': 0.0, 'bank_name': 'C', 'electrode_number_in_bank': '26', 'electrode_label': 'elec6', 'index_in_mapping_sheet': 104}, {'column': 4.0, 'row': 0.0, 'bank_name': 'C', 'electrode_number_in_bank': '24', 'electrode_label': 'elec5', 'index_in_mapping_sheet': 105}, {'column': 3.0, 'row': 0.0, 'bank_name': 'C', 'electrode_number_in_bank': '21', 'electrode_label': 'elec4', 'index_in_mapping_sheet': 106}, {'column': 2.0, 'row': 0.0, 'bank_name': 'C', 'electrode_number_in_bank': '19', 'electrode_label': 'elec3', 'index_in_mapping_sheet': 107}, {'column': 1.0, 'row': 0.0, 'bank_name': 'C', 'electrode_number_in_bank': '17', 'electrode_label': 'elec2', 'index_in_mapping_sheet': 108}, {'column': '', 'row': '', 'bank_name': '', 'electrode_number_in_bank': '', 'electrode_label': '', 'index_in_mapping_sheet': 109}, {'column': '', 'row': '', 'bank_name': '', 'electrode_number_in_bank': '', 'electrode_label': '', 'index_in_mapping_sheet': 110}, {'column': '', 'row': '', 'bank_name': '', 'electrode_number_in_bank': '', 'electrode_label': '', 'index_in_mapping_sheet': 111}, {'column': '', 'row': '', 'bank_name': '', 'electrode_number_in_bank': '', 'electrode_label': '', 'index_in_mapping_sheet': 112}, {'column': '', 'row': '', 'bank_name': '', 'electrode_number_in_bank': '', 'electrode_label': '', 'index_in_mapping_sheet': 113}, {'column': '', 'row': '', 'bank_name': '', 'electrode_number_in_bank': '', 'electrode_label': '', 'index_in_mapping_sheet': 114}, {'column': '', 'row': '', 'bank_name': '', 'electrode_number_in_bank': '', 'electrode_label': '', 'index_in_mapping_sheet': 115}, {'column': '', 'row': '', 'bank_name': '', 'electrode_number_in_bank': '', 'electrode_label': '', 'index_in_mapping_sheet': 116}, {'column': '', 'row': '', 'bank_name': '', 'electrode_number_in_bank': '', 'electrode_label': '', 'index_in_mapping_sheet': 117}, {'column': '', 'row': '', 'bank_name': '', 'electrode_number_in_bank': '', 'electrode_label': '', 'index_in_mapping_sheet': 118}, {'column': '', 'row': '', 'bank_name': '', 'electrode_number_in_bank': '', 'electrode_label': '', 'index_in_mapping_sheet': 119}, {'column': '', 'row': '', 'bank_name': '', 'electrode_number_in_bank': '', 'electrode_label': '', 'index_in_mapping_sheet': 120}]},\n",
              " MappingFile{'xls_path': '/Users/jjpr/dev/scratch/mkgu_scratch/data/2132-8-SN0657.xls', 'workbook': <xlrd.book.Book object at 0x1051d8b00>, 'mapping_worksheet': <xlrd.sheet.Sheet object at 0x105222d30>, 'comment_lines': {0, 1, 2, 3, 4, 5, 6, 7, 8, 9, 10, 11}, 'description_row': [text:'Cerebus mapping for array 2132-8/SN0657', empty:'', empty:'', empty:'', empty:'', empty:'', text:'elec', empty:''], 'mappings': [{'column': 8.0, 'row': 9.0, 'bank_name': 'A', 'electrode_number_in_bank': '14', 'electrode_label': 'elec99', 'index_in_mapping_sheet': 13}, {'column': 7.0, 'row': 9.0, 'bank_name': 'A', 'electrode_number_in_bank': '10', 'electrode_label': 'elec98', 'index_in_mapping_sheet': 14}, {'column': 6.0, 'row': 9.0, 'bank_name': 'A', 'electrode_number_in_bank': '8', 'electrode_label': 'elec97', 'index_in_mapping_sheet': 15}, {'column': 5.0, 'row': 9.0, 'bank_name': 'A', 'electrode_number_in_bank': '6', 'electrode_label': 'elec96', 'index_in_mapping_sheet': 16}, {'column': 4.0, 'row': 9.0, 'bank_name': 'A', 'electrode_number_in_bank': '4', 'electrode_label': 'elec95', 'index_in_mapping_sheet': 17}, {'column': 3.0, 'row': 9.0, 'bank_name': 'A', 'electrode_number_in_bank': '3', 'electrode_label': 'elec94', 'index_in_mapping_sheet': 18}, {'column': 2.0, 'row': 9.0, 'bank_name': 'A', 'electrode_number_in_bank': '1', 'electrode_label': 'elec93', 'index_in_mapping_sheet': 19}, {'column': 1.0, 'row': 9.0, 'bank_name': 'A', 'electrode_number_in_bank': '2', 'electrode_label': 'elec92', 'index_in_mapping_sheet': 20}, {'column': 0.0, 'row': 9.0, 'bank_name': 'C', 'electrode_number_in_bank': '3', 'electrode_label': 'elec91', 'index_in_mapping_sheet': 21}, {'column': 9.0, 'row': 8.0, 'bank_name': 'A', 'electrode_number_in_bank': '18', 'electrode_label': 'elec90', 'index_in_mapping_sheet': 22}, {'column': 8.0, 'row': 8.0, 'bank_name': 'A', 'electrode_number_in_bank': '16', 'electrode_label': 'elec89', 'index_in_mapping_sheet': 23}, {'column': 7.0, 'row': 8.0, 'bank_name': 'A', 'electrode_number_in_bank': '12', 'electrode_label': 'elec88', 'index_in_mapping_sheet': 24}, {'column': 6.0, 'row': 8.0, 'bank_name': 'A', 'electrode_number_in_bank': '11', 'electrode_label': 'elec87', 'index_in_mapping_sheet': 25}, {'column': 5.0, 'row': 8.0, 'bank_name': 'A', 'electrode_number_in_bank': '9', 'electrode_label': 'elec86', 'index_in_mapping_sheet': 26}, {'column': 4.0, 'row': 8.0, 'bank_name': 'A', 'electrode_number_in_bank': '7', 'electrode_label': 'elec85', 'index_in_mapping_sheet': 27}, {'column': 3.0, 'row': 8.0, 'bank_name': 'B', 'electrode_number_in_bank': '2', 'electrode_label': 'elec84', 'index_in_mapping_sheet': 28}, {'column': 2.0, 'row': 8.0, 'bank_name': 'B', 'electrode_number_in_bank': '1', 'electrode_label': 'elec83', 'index_in_mapping_sheet': 29}, {'column': 1.0, 'row': 8.0, 'bank_name': 'C', 'electrode_number_in_bank': '2', 'electrode_label': 'elec82', 'index_in_mapping_sheet': 30}, {'column': 0.0, 'row': 8.0, 'bank_name': 'C', 'electrode_number_in_bank': '1', 'electrode_label': 'elec81', 'index_in_mapping_sheet': 31}, {'column': 9.0, 'row': 7.0, 'bank_name': 'A', 'electrode_number_in_bank': '22', 'electrode_label': 'elec80', 'index_in_mapping_sheet': 32}, {'column': 8.0, 'row': 7.0, 'bank_name': 'A', 'electrode_number_in_bank': '20', 'electrode_label': 'elec79', 'index_in_mapping_sheet': 33}, {'column': 7.0, 'row': 7.0, 'bank_name': 'A', 'electrode_number_in_bank': '23', 'electrode_label': 'elec78', 'index_in_mapping_sheet': 34}, {'column': 6.0, 'row': 7.0, 'bank_name': 'A', 'electrode_number_in_bank': '13', 'electrode_label': 'elec77', 'index_in_mapping_sheet': 35}, {'column': 5.0, 'row': 7.0, 'bank_name': 'A', 'electrode_number_in_bank': '17', 'electrode_label': 'elec76', 'index_in_mapping_sheet': 36}, {'column': 4.0, 'row': 7.0, 'bank_name': 'A', 'electrode_number_in_bank': '5', 'electrode_label': 'elec75', 'index_in_mapping_sheet': 37}, {'column': 3.0, 'row': 7.0, 'bank_name': 'B', 'electrode_number_in_bank': '4', 'electrode_label': 'elec74', 'index_in_mapping_sheet': 38}, {'column': 2.0, 'row': 7.0, 'bank_name': 'B', 'electrode_number_in_bank': '3', 'electrode_label': 'elec73', 'index_in_mapping_sheet': 39}, {'column': 1.0, 'row': 7.0, 'bank_name': 'C', 'electrode_number_in_bank': '4', 'electrode_label': 'elec72', 'index_in_mapping_sheet': 40}, {'column': 9.0, 'row': 6.0, 'bank_name': 'A', 'electrode_number_in_bank': '24', 'electrode_label': 'elec70', 'index_in_mapping_sheet': 41}, {'column': 8.0, 'row': 6.0, 'bank_name': 'A', 'electrode_number_in_bank': '27', 'electrode_label': 'elec69', 'index_in_mapping_sheet': 42}, {'column': 7.0, 'row': 6.0, 'bank_name': 'A', 'electrode_number_in_bank': '25', 'electrode_label': 'elec68', 'index_in_mapping_sheet': 43}, {'column': 6.0, 'row': 6.0, 'bank_name': 'A', 'electrode_number_in_bank': '19', 'electrode_label': 'elec67', 'index_in_mapping_sheet': 44}, {'column': 5.0, 'row': 6.0, 'bank_name': 'A', 'electrode_number_in_bank': '15', 'electrode_label': 'elec66', 'index_in_mapping_sheet': 45}, {'column': 4.0, 'row': 6.0, 'bank_name': 'B', 'electrode_number_in_bank': '16', 'electrode_label': 'elec65', 'index_in_mapping_sheet': 46}, {'column': 3.0, 'row': 6.0, 'bank_name': 'B', 'electrode_number_in_bank': '6', 'electrode_label': 'elec64', 'index_in_mapping_sheet': 47}, {'column': 2.0, 'row': 6.0, 'bank_name': 'B', 'electrode_number_in_bank': '5', 'electrode_label': 'elec63', 'index_in_mapping_sheet': 48}, {'column': 1.0, 'row': 6.0, 'bank_name': 'C', 'electrode_number_in_bank': '6', 'electrode_label': 'elec62', 'index_in_mapping_sheet': 49}, {'column': 0.0, 'row': 6.0, 'bank_name': 'C', 'electrode_number_in_bank': '5', 'electrode_label': 'elec61', 'index_in_mapping_sheet': 50}, {'column': 9.0, 'row': 5.0, 'bank_name': 'A', 'electrode_number_in_bank': '26', 'electrode_label': 'elec60', 'index_in_mapping_sheet': 51}, {'column': 8.0, 'row': 5.0, 'bank_name': 'A', 'electrode_number_in_bank': '29', 'electrode_label': 'elec59', 'index_in_mapping_sheet': 52}, {'column': 7.0, 'row': 5.0, 'bank_name': 'A', 'electrode_number_in_bank': '21', 'electrode_label': 'elec58', 'index_in_mapping_sheet': 53}, {'column': 6.0, 'row': 5.0, 'bank_name': 'B', 'electrode_number_in_bank': '22', 'electrode_label': 'elec57', 'index_in_mapping_sheet': 54}, {'column': 5.0, 'row': 5.0, 'bank_name': 'B', 'electrode_number_in_bank': '18', 'electrode_label': 'elec56', 'index_in_mapping_sheet': 55}, {'column': 4.0, 'row': 5.0, 'bank_name': 'B', 'electrode_number_in_bank': '10', 'electrode_label': 'elec55', 'index_in_mapping_sheet': 56}, {'column': 3.0, 'row': 5.0, 'bank_name': 'B', 'electrode_number_in_bank': '8', 'electrode_label': 'elec54', 'index_in_mapping_sheet': 57}, {'column': 2.0, 'row': 5.0, 'bank_name': 'B', 'electrode_number_in_bank': '7', 'electrode_label': 'elec53', 'index_in_mapping_sheet': 58}, {'column': 1.0, 'row': 5.0, 'bank_name': 'C', 'electrode_number_in_bank': '8', 'electrode_label': 'elec52', 'index_in_mapping_sheet': 59}, {'column': 0.0, 'row': 5.0, 'bank_name': 'C', 'electrode_number_in_bank': '7', 'electrode_label': 'elec51', 'index_in_mapping_sheet': 60}, {'column': 9.0, 'row': 4.0, 'bank_name': 'A', 'electrode_number_in_bank': '28', 'electrode_label': 'elec50', 'index_in_mapping_sheet': 61}, {'column': 8.0, 'row': 4.0, 'bank_name': 'A', 'electrode_number_in_bank': '31', 'electrode_label': 'elec49', 'index_in_mapping_sheet': 62}, {'column': 7.0, 'row': 4.0, 'bank_name': 'B', 'electrode_number_in_bank': '30', 'electrode_label': 'elec48', 'index_in_mapping_sheet': 63}, {'column': 6.0, 'row': 4.0, 'bank_name': 'B', 'electrode_number_in_bank': '20', 'electrode_label': 'elec47', 'index_in_mapping_sheet': 64}, {'column': 5.0, 'row': 4.0, 'bank_name': 'B', 'electrode_number_in_bank': '14', 'electrode_label': 'elec46', 'index_in_mapping_sheet': 65}, {'column': 4.0, 'row': 4.0, 'bank_name': 'B', 'electrode_number_in_bank': '12', 'electrode_label': 'elec45', 'index_in_mapping_sheet': 66}, {'column': 3.0, 'row': 4.0, 'bank_name': 'B', 'electrode_number_in_bank': '11', 'electrode_label': 'elec44', 'index_in_mapping_sheet': 67}, {'column': 2.0, 'row': 4.0, 'bank_name': 'B', 'electrode_number_in_bank': '9', 'electrode_label': 'elec43', 'index_in_mapping_sheet': 68}, {'column': 1.0, 'row': 4.0, 'bank_name': 'C', 'electrode_number_in_bank': '10', 'electrode_label': 'elec42', 'index_in_mapping_sheet': 69}, {'column': 0.0, 'row': 4.0, 'bank_name': 'C', 'electrode_number_in_bank': '9', 'electrode_label': 'elec41', 'index_in_mapping_sheet': 70}, {'column': 9.0, 'row': 3.0, 'bank_name': 'A', 'electrode_number_in_bank': '30', 'electrode_label': 'elec40', 'index_in_mapping_sheet': 71}, {'column': 8.0, 'row': 3.0, 'bank_name': 'B', 'electrode_number_in_bank': '32', 'electrode_label': 'elec39', 'index_in_mapping_sheet': 72}, {'column': 7.0, 'row': 3.0, 'bank_name': 'B', 'electrode_number_in_bank': '28', 'electrode_label': 'elec38', 'index_in_mapping_sheet': 73}, {'column': 6.0, 'row': 3.0, 'bank_name': 'B', 'electrode_number_in_bank': '26', 'electrode_label': 'elec37', 'index_in_mapping_sheet': 74}, {'column': 5.0, 'row': 3.0, 'bank_name': 'B', 'electrode_number_in_bank': '24', 'electrode_label': 'elec36', 'index_in_mapping_sheet': 75}, {'column': 4.0, 'row': 3.0, 'bank_name': 'B', 'electrode_number_in_bank': '19', 'electrode_label': 'elec35', 'index_in_mapping_sheet': 76}, {'column': 3.0, 'row': 3.0, 'bank_name': 'B', 'electrode_number_in_bank': '15', 'electrode_label': 'elec34', 'index_in_mapping_sheet': 77}, {'column': 2.0, 'row': 3.0, 'bank_name': 'B', 'electrode_number_in_bank': '13', 'electrode_label': 'elec33', 'index_in_mapping_sheet': 78}, {'column': 1.0, 'row': 3.0, 'bank_name': 'C', 'electrode_number_in_bank': '12', 'electrode_label': 'elec32', 'index_in_mapping_sheet': 79}, {'column': 0.0, 'row': 3.0, 'bank_name': 'C', 'electrode_number_in_bank': '11', 'electrode_label': 'elec31', 'index_in_mapping_sheet': 80}, {'column': 9.0, 'row': 2.0, 'bank_name': 'A', 'electrode_number_in_bank': '32', 'electrode_label': 'elec30', 'index_in_mapping_sheet': 81}, {'column': 8.0, 'row': 2.0, 'bank_name': 'B', 'electrode_number_in_bank': '29', 'electrode_label': 'elec29', 'index_in_mapping_sheet': 82}, {'column': 7.0, 'row': 2.0, 'bank_name': 'B', 'electrode_number_in_bank': '27', 'electrode_label': 'elec28', 'index_in_mapping_sheet': 83}, {'column': 6.0, 'row': 2.0, 'bank_name': 'B', 'electrode_number_in_bank': '25', 'electrode_label': 'elec27', 'index_in_mapping_sheet': 84}, {'column': 5.0, 'row': 2.0, 'bank_name': 'B', 'electrode_number_in_bank': '23', 'electrode_label': 'elec26', 'index_in_mapping_sheet': 85}, {'column': 4.0, 'row': 2.0, 'bank_name': 'B', 'electrode_number_in_bank': '21', 'electrode_label': 'elec25', 'index_in_mapping_sheet': 86}, {'column': 3.0, 'row': 2.0, 'bank_name': 'B', 'electrode_number_in_bank': '17', 'electrode_label': 'elec24', 'index_in_mapping_sheet': 87}, {'column': 2.0, 'row': 2.0, 'bank_name': 'C', 'electrode_number_in_bank': '18', 'electrode_label': 'elec23', 'index_in_mapping_sheet': 88}, {'column': 1.0, 'row': 2.0, 'bank_name': 'C', 'electrode_number_in_bank': '14', 'electrode_label': 'elec22', 'index_in_mapping_sheet': 89}, {'column': 0.0, 'row': 2.0, 'bank_name': 'C', 'electrode_number_in_bank': '13', 'electrode_label': 'elec21', 'index_in_mapping_sheet': 90}, {'column': 9.0, 'row': 1.0, 'bank_name': 'C', 'electrode_number_in_bank': '31', 'electrode_label': 'elec20', 'index_in_mapping_sheet': 91}, {'column': 8.0, 'row': 1.0, 'bank_name': 'B', 'electrode_number_in_bank': '31', 'electrode_label': 'elec19', 'index_in_mapping_sheet': 92}, {'column': 7.0, 'row': 1.0, 'bank_name': 'C', 'electrode_number_in_bank': '30', 'electrode_label': 'elec18', 'index_in_mapping_sheet': 93}, {'column': 6.0, 'row': 1.0, 'bank_name': 'C', 'electrode_number_in_bank': '27', 'electrode_label': 'elec17', 'index_in_mapping_sheet': 94}, {'column': 5.0, 'row': 1.0, 'bank_name': 'C', 'electrode_number_in_bank': '25', 'electrode_label': 'elec16', 'index_in_mapping_sheet': 95}, {'column': 4.0, 'row': 1.0, 'bank_name': 'C', 'electrode_number_in_bank': '23', 'electrode_label': 'elec15', 'index_in_mapping_sheet': 96}, {'column': 3.0, 'row': 1.0, 'bank_name': 'C', 'electrode_number_in_bank': '22', 'electrode_label': 'elec14', 'index_in_mapping_sheet': 97}, {'column': 2.0, 'row': 1.0, 'bank_name': 'C', 'electrode_number_in_bank': '20', 'electrode_label': 'elec13', 'index_in_mapping_sheet': 98}, {'column': 1.0, 'row': 1.0, 'bank_name': 'C', 'electrode_number_in_bank': '16', 'electrode_label': 'elec12', 'index_in_mapping_sheet': 99}, {'column': 0.0, 'row': 1.0, 'bank_name': 'C', 'electrode_number_in_bank': '15', 'electrode_label': 'elec11', 'index_in_mapping_sheet': 100}, {'column': 8.0, 'row': 0.0, 'bank_name': 'C', 'electrode_number_in_bank': '32', 'electrode_label': 'elec9', 'index_in_mapping_sheet': 101}, {'column': 7.0, 'row': 0.0, 'bank_name': 'C', 'electrode_number_in_bank': '29', 'electrode_label': 'elec8', 'index_in_mapping_sheet': 102}, {'column': 6.0, 'row': 0.0, 'bank_name': 'C', 'electrode_number_in_bank': '28', 'electrode_label': 'elec7', 'index_in_mapping_sheet': 103}, {'column': 5.0, 'row': 0.0, 'bank_name': 'C', 'electrode_number_in_bank': '26', 'electrode_label': 'elec6', 'index_in_mapping_sheet': 104}, {'column': 4.0, 'row': 0.0, 'bank_name': 'C', 'electrode_number_in_bank': '24', 'electrode_label': 'elec5', 'index_in_mapping_sheet': 105}, {'column': 3.0, 'row': 0.0, 'bank_name': 'C', 'electrode_number_in_bank': '21', 'electrode_label': 'elec4', 'index_in_mapping_sheet': 106}, {'column': 2.0, 'row': 0.0, 'bank_name': 'C', 'electrode_number_in_bank': '19', 'electrode_label': 'elec3', 'index_in_mapping_sheet': 107}, {'column': 0.0, 'row': 0.0, 'bank_name': 'C', 'electrode_number_in_bank': '17', 'electrode_label': 'elec1', 'index_in_mapping_sheet': 108}, {'column': '', 'row': '', 'bank_name': '', 'electrode_number_in_bank': '', 'electrode_label': '', 'index_in_mapping_sheet': 109}, {'column': '', 'row': '', 'bank_name': '', 'electrode_number_in_bank': '', 'electrode_label': '', 'index_in_mapping_sheet': 110}, {'column': '', 'row': '', 'bank_name': '', 'electrode_number_in_bank': '', 'electrode_label': '', 'index_in_mapping_sheet': 111}, {'column': '', 'row': '', 'bank_name': '', 'electrode_number_in_bank': '', 'electrode_label': '', 'index_in_mapping_sheet': 112}, {'column': '', 'row': '', 'bank_name': '', 'electrode_number_in_bank': '', 'electrode_label': '', 'index_in_mapping_sheet': 113}, {'column': '', 'row': '', 'bank_name': '', 'electrode_number_in_bank': '', 'electrode_label': '', 'index_in_mapping_sheet': 114}, {'column': '', 'row': '', 'bank_name': '', 'electrode_number_in_bank': '', 'electrode_label': '', 'index_in_mapping_sheet': 115}, {'column': '', 'row': '', 'bank_name': '', 'electrode_number_in_bank': '', 'electrode_label': '', 'index_in_mapping_sheet': 116}, {'column': '', 'row': '', 'bank_name': '', 'electrode_number_in_bank': '', 'electrode_label': '', 'index_in_mapping_sheet': 117}, {'column': '', 'row': '', 'bank_name': '', 'electrode_number_in_bank': '', 'electrode_label': '', 'index_in_mapping_sheet': 118}, {'column': '', 'row': '', 'bank_name': '', 'electrode_number_in_bank': '', 'electrode_label': '', 'index_in_mapping_sheet': 119}, {'column': '', 'row': '', 'bank_name': '', 'electrode_number_in_bank': '', 'electrode_label': '', 'index_in_mapping_sheet': 120}]},\n",
              " MappingFile{'xls_path': '/Users/jjpr/dev/scratch/mkgu_scratch/data/2466-1-SN0658.xls', 'workbook': <xlrd.book.Book object at 0x10523e978>, 'mapping_worksheet': <xlrd.sheet.Sheet object at 0x104f8b9e8>, 'comment_lines': {0, 1, 2, 3, 4, 5, 6, 7, 8, 9, 10, 11}, 'description_row': [text:'Cerebus mapping for array 2466-1/SN0658', empty:'', empty:'', empty:'', empty:'', empty:'', text:'elec', empty:''], 'mappings': [{'column': 9.0, 'row': 9.0, 'bank_name': 'A', 'electrode_number_in_bank': '6', 'electrode_label': 'elec100', 'index_in_mapping_sheet': 13}, {'column': 8.0, 'row': 9.0, 'bank_name': 'A', 'electrode_number_in_bank': '14', 'electrode_label': 'elec99', 'index_in_mapping_sheet': 14}, {'column': 7.0, 'row': 9.0, 'bank_name': 'A', 'electrode_number_in_bank': '10', 'electrode_label': 'elec98', 'index_in_mapping_sheet': 15}, {'column': 6.0, 'row': 9.0, 'bank_name': 'A', 'electrode_number_in_bank': '8', 'electrode_label': 'elec97', 'index_in_mapping_sheet': 16}, {'column': 4.0, 'row': 9.0, 'bank_name': 'A', 'electrode_number_in_bank': '4', 'electrode_label': 'elec95', 'index_in_mapping_sheet': 17}, {'column': 3.0, 'row': 9.0, 'bank_name': 'A', 'electrode_number_in_bank': '3', 'electrode_label': 'elec94', 'index_in_mapping_sheet': 18}, {'column': 2.0, 'row': 9.0, 'bank_name': 'A', 'electrode_number_in_bank': '1', 'electrode_label': 'elec93', 'index_in_mapping_sheet': 19}, {'column': 1.0, 'row': 9.0, 'bank_name': 'A', 'electrode_number_in_bank': '2', 'electrode_label': 'elec92', 'index_in_mapping_sheet': 20}, {'column': 0.0, 'row': 9.0, 'bank_name': 'C', 'electrode_number_in_bank': '13', 'electrode_label': 'elec91', 'index_in_mapping_sheet': 21}, {'column': 9.0, 'row': 8.0, 'bank_name': 'A', 'electrode_number_in_bank': '18', 'electrode_label': 'elec90', 'index_in_mapping_sheet': 22}, {'column': 8.0, 'row': 8.0, 'bank_name': 'A', 'electrode_number_in_bank': '16', 'electrode_label': 'elec89', 'index_in_mapping_sheet': 23}, {'column': 7.0, 'row': 8.0, 'bank_name': 'A', 'electrode_number_in_bank': '12', 'electrode_label': 'elec88', 'index_in_mapping_sheet': 24}, {'column': 6.0, 'row': 8.0, 'bank_name': 'A', 'electrode_number_in_bank': '11', 'electrode_label': 'elec87', 'index_in_mapping_sheet': 25}, {'column': 5.0, 'row': 8.0, 'bank_name': 'A', 'electrode_number_in_bank': '9', 'electrode_label': 'elec86', 'index_in_mapping_sheet': 26}, {'column': 4.0, 'row': 8.0, 'bank_name': 'A', 'electrode_number_in_bank': '7', 'electrode_label': 'elec85', 'index_in_mapping_sheet': 27}, {'column': 3.0, 'row': 8.0, 'bank_name': 'B', 'electrode_number_in_bank': '2', 'electrode_label': 'elec84', 'index_in_mapping_sheet': 28}, {'column': 2.0, 'row': 8.0, 'bank_name': 'B', 'electrode_number_in_bank': '1', 'electrode_label': 'elec83', 'index_in_mapping_sheet': 29}, {'column': 1.0, 'row': 8.0, 'bank_name': 'C', 'electrode_number_in_bank': '2', 'electrode_label': 'elec82', 'index_in_mapping_sheet': 30}, {'column': 0.0, 'row': 8.0, 'bank_name': 'C', 'electrode_number_in_bank': '1', 'electrode_label': 'elec81', 'index_in_mapping_sheet': 31}, {'column': 9.0, 'row': 7.0, 'bank_name': 'A', 'electrode_number_in_bank': '22', 'electrode_label': 'elec80', 'index_in_mapping_sheet': 32}, {'column': 8.0, 'row': 7.0, 'bank_name': 'A', 'electrode_number_in_bank': '20', 'electrode_label': 'elec79', 'index_in_mapping_sheet': 33}, {'column': 7.0, 'row': 7.0, 'bank_name': 'A', 'electrode_number_in_bank': '23', 'electrode_label': 'elec78', 'index_in_mapping_sheet': 34}, {'column': 6.0, 'row': 7.0, 'bank_name': 'A', 'electrode_number_in_bank': '13', 'electrode_label': 'elec77', 'index_in_mapping_sheet': 35}, {'column': 5.0, 'row': 7.0, 'bank_name': 'A', 'electrode_number_in_bank': '17', 'electrode_label': 'elec76', 'index_in_mapping_sheet': 36}, {'column': 4.0, 'row': 7.0, 'bank_name': 'A', 'electrode_number_in_bank': '5', 'electrode_label': 'elec75', 'index_in_mapping_sheet': 37}, {'column': 3.0, 'row': 7.0, 'bank_name': 'B', 'electrode_number_in_bank': '4', 'electrode_label': 'elec74', 'index_in_mapping_sheet': 38}, {'column': 2.0, 'row': 7.0, 'bank_name': 'B', 'electrode_number_in_bank': '3', 'electrode_label': 'elec73', 'index_in_mapping_sheet': 39}, {'column': 1.0, 'row': 7.0, 'bank_name': 'C', 'electrode_number_in_bank': '4', 'electrode_label': 'elec72', 'index_in_mapping_sheet': 40}, {'column': 0.0, 'row': 7.0, 'bank_name': 'C', 'electrode_number_in_bank': '3', 'electrode_label': 'elec71', 'index_in_mapping_sheet': 41}, {'column': 9.0, 'row': 6.0, 'bank_name': 'A', 'electrode_number_in_bank': '24', 'electrode_label': 'elec70', 'index_in_mapping_sheet': 42}, {'column': 8.0, 'row': 6.0, 'bank_name': 'A', 'electrode_number_in_bank': '27', 'electrode_label': 'elec69', 'index_in_mapping_sheet': 43}, {'column': 7.0, 'row': 6.0, 'bank_name': 'A', 'electrode_number_in_bank': '25', 'electrode_label': 'elec68', 'index_in_mapping_sheet': 44}, {'column': 6.0, 'row': 6.0, 'bank_name': 'A', 'electrode_number_in_bank': '19', 'electrode_label': 'elec67', 'index_in_mapping_sheet': 45}, {'column': 5.0, 'row': 6.0, 'bank_name': 'A', 'electrode_number_in_bank': '15', 'electrode_label': 'elec66', 'index_in_mapping_sheet': 46}, {'column': 4.0, 'row': 6.0, 'bank_name': 'B', 'electrode_number_in_bank': '16', 'electrode_label': 'elec65', 'index_in_mapping_sheet': 47}, {'column': 3.0, 'row': 6.0, 'bank_name': 'B', 'electrode_number_in_bank': '6', 'electrode_label': 'elec64', 'index_in_mapping_sheet': 48}, {'column': 2.0, 'row': 6.0, 'bank_name': 'B', 'electrode_number_in_bank': '5', 'electrode_label': 'elec63', 'index_in_mapping_sheet': 49}, {'column': 1.0, 'row': 6.0, 'bank_name': 'C', 'electrode_number_in_bank': '6', 'electrode_label': 'elec62', 'index_in_mapping_sheet': 50}, {'column': 0.0, 'row': 6.0, 'bank_name': 'C', 'electrode_number_in_bank': '5', 'electrode_label': 'elec61', 'index_in_mapping_sheet': 51}, {'column': 9.0, 'row': 5.0, 'bank_name': 'A', 'electrode_number_in_bank': '26', 'electrode_label': 'elec60', 'index_in_mapping_sheet': 52}, {'column': 8.0, 'row': 5.0, 'bank_name': 'A', 'electrode_number_in_bank': '29', 'electrode_label': 'elec59', 'index_in_mapping_sheet': 53}, {'column': 7.0, 'row': 5.0, 'bank_name': 'A', 'electrode_number_in_bank': '21', 'electrode_label': 'elec58', 'index_in_mapping_sheet': 54}, {'column': 5.0, 'row': 5.0, 'bank_name': 'B', 'electrode_number_in_bank': '18', 'electrode_label': 'elec56', 'index_in_mapping_sheet': 55}, {'column': 4.0, 'row': 5.0, 'bank_name': 'B', 'electrode_number_in_bank': '10', 'electrode_label': 'elec55', 'index_in_mapping_sheet': 56}, {'column': 3.0, 'row': 5.0, 'bank_name': 'B', 'electrode_number_in_bank': '8', 'electrode_label': 'elec54', 'index_in_mapping_sheet': 57}, {'column': 2.0, 'row': 5.0, 'bank_name': 'B', 'electrode_number_in_bank': '7', 'electrode_label': 'elec53', 'index_in_mapping_sheet': 58}, {'column': 1.0, 'row': 5.0, 'bank_name': 'C', 'electrode_number_in_bank': '8', 'electrode_label': 'elec52', 'index_in_mapping_sheet': 59}, {'column': 0.0, 'row': 5.0, 'bank_name': 'C', 'electrode_number_in_bank': '7', 'electrode_label': 'elec51', 'index_in_mapping_sheet': 60}, {'column': 9.0, 'row': 4.0, 'bank_name': 'A', 'electrode_number_in_bank': '28', 'electrode_label': 'elec50', 'index_in_mapping_sheet': 61}, {'column': 8.0, 'row': 4.0, 'bank_name': 'A', 'electrode_number_in_bank': '31', 'electrode_label': 'elec49', 'index_in_mapping_sheet': 62}, {'column': 7.0, 'row': 4.0, 'bank_name': 'B', 'electrode_number_in_bank': '30', 'electrode_label': 'elec48', 'index_in_mapping_sheet': 63}, {'column': 6.0, 'row': 4.0, 'bank_name': 'B', 'electrode_number_in_bank': '20', 'electrode_label': 'elec47', 'index_in_mapping_sheet': 64}, {'column': 5.0, 'row': 4.0, 'bank_name': 'B', 'electrode_number_in_bank': '14', 'electrode_label': 'elec46', 'index_in_mapping_sheet': 65}, {'column': 4.0, 'row': 4.0, 'bank_name': 'B', 'electrode_number_in_bank': '12', 'electrode_label': 'elec45', 'index_in_mapping_sheet': 66}, {'column': 3.0, 'row': 4.0, 'bank_name': 'B', 'electrode_number_in_bank': '11', 'electrode_label': 'elec44', 'index_in_mapping_sheet': 67}, {'column': 2.0, 'row': 4.0, 'bank_name': 'B', 'electrode_number_in_bank': '9', 'electrode_label': 'elec43', 'index_in_mapping_sheet': 68}, {'column': 1.0, 'row': 4.0, 'bank_name': 'C', 'electrode_number_in_bank': '10', 'electrode_label': 'elec42', 'index_in_mapping_sheet': 69}, {'column': 0.0, 'row': 4.0, 'bank_name': 'C', 'electrode_number_in_bank': '9', 'electrode_label': 'elec41', 'index_in_mapping_sheet': 70}, {'column': 9.0, 'row': 3.0, 'bank_name': 'A', 'electrode_number_in_bank': '30', 'electrode_label': 'elec40', 'index_in_mapping_sheet': 71}, {'column': 8.0, 'row': 3.0, 'bank_name': 'B', 'electrode_number_in_bank': '32', 'electrode_label': 'elec39', 'index_in_mapping_sheet': 72}, {'column': 7.0, 'row': 3.0, 'bank_name': 'B', 'electrode_number_in_bank': '28', 'electrode_label': 'elec38', 'index_in_mapping_sheet': 73}, {'column': 6.0, 'row': 3.0, 'bank_name': 'B', 'electrode_number_in_bank': '26', 'electrode_label': 'elec37', 'index_in_mapping_sheet': 74}, {'column': 5.0, 'row': 3.0, 'bank_name': 'B', 'electrode_number_in_bank': '24', 'electrode_label': 'elec36', 'index_in_mapping_sheet': 75}, {'column': 4.0, 'row': 3.0, 'bank_name': 'B', 'electrode_number_in_bank': '19', 'electrode_label': 'elec35', 'index_in_mapping_sheet': 76}, {'column': 3.0, 'row': 3.0, 'bank_name': 'B', 'electrode_number_in_bank': '15', 'electrode_label': 'elec34', 'index_in_mapping_sheet': 77}, {'column': 2.0, 'row': 3.0, 'bank_name': 'B', 'electrode_number_in_bank': '13', 'electrode_label': 'elec33', 'index_in_mapping_sheet': 78}, {'column': 1.0, 'row': 3.0, 'bank_name': 'C', 'electrode_number_in_bank': '12', 'electrode_label': 'elec32', 'index_in_mapping_sheet': 79}, {'column': 0.0, 'row': 3.0, 'bank_name': 'C', 'electrode_number_in_bank': '11', 'electrode_label': 'elec31', 'index_in_mapping_sheet': 80}, {'column': 9.0, 'row': 2.0, 'bank_name': 'A', 'electrode_number_in_bank': '32', 'electrode_label': 'elec30', 'index_in_mapping_sheet': 81}, {'column': 8.0, 'row': 2.0, 'bank_name': 'B', 'electrode_number_in_bank': '29', 'electrode_label': 'elec29', 'index_in_mapping_sheet': 82}, {'column': 7.0, 'row': 2.0, 'bank_name': 'B', 'electrode_number_in_bank': '27', 'electrode_label': 'elec28', 'index_in_mapping_sheet': 83}, {'column': 6.0, 'row': 2.0, 'bank_name': 'B', 'electrode_number_in_bank': '25', 'electrode_label': 'elec27', 'index_in_mapping_sheet': 84}, {'column': 5.0, 'row': 2.0, 'bank_name': 'B', 'electrode_number_in_bank': '23', 'electrode_label': 'elec26', 'index_in_mapping_sheet': 85}, {'column': 4.0, 'row': 2.0, 'bank_name': 'B', 'electrode_number_in_bank': '21', 'electrode_label': 'elec25', 'index_in_mapping_sheet': 86}, {'column': 3.0, 'row': 2.0, 'bank_name': 'B', 'electrode_number_in_bank': '17', 'electrode_label': 'elec24', 'index_in_mapping_sheet': 87}, {'column': 2.0, 'row': 2.0, 'bank_name': 'C', 'electrode_number_in_bank': '18', 'electrode_label': 'elec23', 'index_in_mapping_sheet': 88}, {'column': 1.0, 'row': 2.0, 'bank_name': 'C', 'electrode_number_in_bank': '14', 'electrode_label': 'elec22', 'index_in_mapping_sheet': 89}, {'column': 9.0, 'row': 1.0, 'bank_name': 'C', 'electrode_number_in_bank': '31', 'electrode_label': 'elec20', 'index_in_mapping_sheet': 90}, {'column': 8.0, 'row': 1.0, 'bank_name': 'B', 'electrode_number_in_bank': '31', 'electrode_label': 'elec19', 'index_in_mapping_sheet': 91}, {'column': 7.0, 'row': 1.0, 'bank_name': 'C', 'electrode_number_in_bank': '30', 'electrode_label': 'elec18', 'index_in_mapping_sheet': 92}, {'column': 6.0, 'row': 1.0, 'bank_name': 'C', 'electrode_number_in_bank': '27', 'electrode_label': 'elec17', 'index_in_mapping_sheet': 93}, {'column': 5.0, 'row': 1.0, 'bank_name': 'C', 'electrode_number_in_bank': '25', 'electrode_label': 'elec16', 'index_in_mapping_sheet': 94}, {'column': 4.0, 'row': 1.0, 'bank_name': 'C', 'electrode_number_in_bank': '23', 'electrode_label': 'elec15', 'index_in_mapping_sheet': 95}, {'column': 3.0, 'row': 1.0, 'bank_name': 'C', 'electrode_number_in_bank': '22', 'electrode_label': 'elec14', 'index_in_mapping_sheet': 96}, {'column': 2.0, 'row': 1.0, 'bank_name': 'C', 'electrode_number_in_bank': '20', 'electrode_label': 'elec13', 'index_in_mapping_sheet': 97}, {'column': 0.0, 'row': 1.0, 'bank_name': 'C', 'electrode_number_in_bank': '15', 'electrode_label': 'elec11', 'index_in_mapping_sheet': 98}, {'column': 9.0, 'row': 0.0, 'bank_name': 'B', 'electrode_number_in_bank': '22', 'electrode_label': 'elec10', 'index_in_mapping_sheet': 99}, {'column': 8.0, 'row': 0.0, 'bank_name': 'C', 'electrode_number_in_bank': '32', 'electrode_label': 'elec9', 'index_in_mapping_sheet': 100}, {'column': 7.0, 'row': 0.0, 'bank_name': 'C', 'electrode_number_in_bank': '29', 'electrode_label': 'elec8', 'index_in_mapping_sheet': 101}, {'column': 6.0, 'row': 0.0, 'bank_name': 'C', 'electrode_number_in_bank': '28', 'electrode_label': 'elec7', 'index_in_mapping_sheet': 102}, {'column': 5.0, 'row': 0.0, 'bank_name': 'C', 'electrode_number_in_bank': '26', 'electrode_label': 'elec6', 'index_in_mapping_sheet': 103}, {'column': 4.0, 'row': 0.0, 'bank_name': 'C', 'electrode_number_in_bank': '24', 'electrode_label': 'elec5', 'index_in_mapping_sheet': 104}, {'column': 3.0, 'row': 0.0, 'bank_name': 'C', 'electrode_number_in_bank': '21', 'electrode_label': 'elec4', 'index_in_mapping_sheet': 105}, {'column': 2.0, 'row': 0.0, 'bank_name': 'C', 'electrode_number_in_bank': '19', 'electrode_label': 'elec3', 'index_in_mapping_sheet': 106}, {'column': 1.0, 'row': 0.0, 'bank_name': 'C', 'electrode_number_in_bank': '17', 'electrode_label': 'elec2', 'index_in_mapping_sheet': 107}, {'column': 0.0, 'row': 0.0, 'bank_name': 'C', 'electrode_number_in_bank': '16', 'electrode_label': 'elec1', 'index_in_mapping_sheet': 108}, {'column': '', 'row': '', 'bank_name': '', 'electrode_number_in_bank': '', 'electrode_label': '', 'index_in_mapping_sheet': 109}, {'column': '', 'row': '', 'bank_name': '', 'electrode_number_in_bank': '', 'electrode_label': '', 'index_in_mapping_sheet': 110}, {'column': '', 'row': '', 'bank_name': '', 'electrode_number_in_bank': '', 'electrode_label': '', 'index_in_mapping_sheet': 111}, {'column': '', 'row': '', 'bank_name': '', 'electrode_number_in_bank': '', 'electrode_label': '', 'index_in_mapping_sheet': 112}, {'column': '', 'row': '', 'bank_name': '', 'electrode_number_in_bank': '', 'electrode_label': '', 'index_in_mapping_sheet': 113}, {'column': '', 'row': '', 'bank_name': '', 'electrode_number_in_bank': '', 'electrode_label': '', 'index_in_mapping_sheet': 114}, {'column': '', 'row': '', 'bank_name': '', 'electrode_number_in_bank': '', 'electrode_label': '', 'index_in_mapping_sheet': 115}, {'column': '', 'row': '', 'bank_name': '', 'electrode_number_in_bank': '', 'electrode_label': '', 'index_in_mapping_sheet': 116}, {'column': '', 'row': '', 'bank_name': '', 'electrode_number_in_bank': '', 'electrode_label': '', 'index_in_mapping_sheet': 117}, {'column': '', 'row': '', 'bank_name': '', 'electrode_number_in_bank': '', 'electrode_label': '', 'index_in_mapping_sheet': 118}, {'column': '', 'row': '', 'bank_name': '', 'electrode_number_in_bank': '', 'electrode_label': '', 'index_in_mapping_sheet': 119}, {'column': '', 'row': '', 'bank_name': '', 'electrode_number_in_bank': '', 'electrode_label': '', 'index_in_mapping_sheet': 120}]},\n",
              " MappingFile{'xls_path': '/Users/jjpr/dev/scratch/mkgu_scratch/data/2467-6_SN0649.xls', 'workbook': <xlrd.book.Book object at 0x104f8c748>, 'mapping_worksheet': <xlrd.sheet.Sheet object at 0x104e619e8>, 'comment_lines': {0, 1, 2, 3, 4, 5, 6, 7, 8, 9, 10, 11}, 'description_row': [text:'Cerebus mapping for array 2467-6 / SN 0649', empty:'', empty:'', empty:'', empty:'', empty:'', text:'elec', empty:''], 'mappings': [{'column': 8.0, 'row': 9.0, 'bank_name': 'A', 'electrode_number_in_bank': '14', 'electrode_label': 'elec99', 'index_in_mapping_sheet': 13}, {'column': 7.0, 'row': 9.0, 'bank_name': 'A', 'electrode_number_in_bank': '10', 'electrode_label': 'elec98', 'index_in_mapping_sheet': 14}, {'column': 6.0, 'row': 9.0, 'bank_name': 'A', 'electrode_number_in_bank': '8', 'electrode_label': 'elec97', 'index_in_mapping_sheet': 15}, {'column': 5.0, 'row': 9.0, 'bank_name': 'A', 'electrode_number_in_bank': '6', 'electrode_label': 'elec96', 'index_in_mapping_sheet': 16}, {'column': 4.0, 'row': 9.0, 'bank_name': 'A', 'electrode_number_in_bank': '4', 'electrode_label': 'elec95', 'index_in_mapping_sheet': 17}, {'column': 3.0, 'row': 9.0, 'bank_name': 'A', 'electrode_number_in_bank': '3', 'electrode_label': 'elec94', 'index_in_mapping_sheet': 18}, {'column': 2.0, 'row': 9.0, 'bank_name': 'A', 'electrode_number_in_bank': '1', 'electrode_label': 'elec93', 'index_in_mapping_sheet': 19}, {'column': 1.0, 'row': 9.0, 'bank_name': 'A', 'electrode_number_in_bank': '2', 'electrode_label': 'elec92', 'index_in_mapping_sheet': 20}, {'column': 9.0, 'row': 8.0, 'bank_name': 'A', 'electrode_number_in_bank': '18', 'electrode_label': 'elec90', 'index_in_mapping_sheet': 21}, {'column': 8.0, 'row': 8.0, 'bank_name': 'A', 'electrode_number_in_bank': '16', 'electrode_label': 'elec89', 'index_in_mapping_sheet': 22}, {'column': 7.0, 'row': 8.0, 'bank_name': 'A', 'electrode_number_in_bank': '12', 'electrode_label': 'elec88', 'index_in_mapping_sheet': 23}, {'column': 6.0, 'row': 8.0, 'bank_name': 'A', 'electrode_number_in_bank': '11', 'electrode_label': 'elec87', 'index_in_mapping_sheet': 24}, {'column': 5.0, 'row': 8.0, 'bank_name': 'A', 'electrode_number_in_bank': '9', 'electrode_label': 'elec86', 'index_in_mapping_sheet': 25}, {'column': 4.0, 'row': 8.0, 'bank_name': 'A', 'electrode_number_in_bank': '7', 'electrode_label': 'elec85', 'index_in_mapping_sheet': 26}, {'column': 3.0, 'row': 8.0, 'bank_name': 'B', 'electrode_number_in_bank': '2', 'electrode_label': 'elec84', 'index_in_mapping_sheet': 27}, {'column': 2.0, 'row': 8.0, 'bank_name': 'B', 'electrode_number_in_bank': '1', 'electrode_label': 'elec83', 'index_in_mapping_sheet': 28}, {'column': 1.0, 'row': 8.0, 'bank_name': 'C', 'electrode_number_in_bank': '2', 'electrode_label': 'elec82', 'index_in_mapping_sheet': 29}, {'column': 0.0, 'row': 8.0, 'bank_name': 'C', 'electrode_number_in_bank': '1', 'electrode_label': 'elec81', 'index_in_mapping_sheet': 30}, {'column': 9.0, 'row': 7.0, 'bank_name': 'A', 'electrode_number_in_bank': '22', 'electrode_label': 'elec80', 'index_in_mapping_sheet': 31}, {'column': 8.0, 'row': 7.0, 'bank_name': 'A', 'electrode_number_in_bank': '20', 'electrode_label': 'elec79', 'index_in_mapping_sheet': 32}, {'column': 7.0, 'row': 7.0, 'bank_name': 'A', 'electrode_number_in_bank': '23', 'electrode_label': 'elec78', 'index_in_mapping_sheet': 33}, {'column': 6.0, 'row': 7.0, 'bank_name': 'A', 'electrode_number_in_bank': '13', 'electrode_label': 'elec77', 'index_in_mapping_sheet': 34}, {'column': 5.0, 'row': 7.0, 'bank_name': 'A', 'electrode_number_in_bank': '17', 'electrode_label': 'elec76', 'index_in_mapping_sheet': 35}, {'column': 4.0, 'row': 7.0, 'bank_name': 'A', 'electrode_number_in_bank': '5', 'electrode_label': 'elec75', 'index_in_mapping_sheet': 36}, {'column': 3.0, 'row': 7.0, 'bank_name': 'B', 'electrode_number_in_bank': '4', 'electrode_label': 'elec74', 'index_in_mapping_sheet': 37}, {'column': 2.0, 'row': 7.0, 'bank_name': 'B', 'electrode_number_in_bank': '3', 'electrode_label': 'elec73', 'index_in_mapping_sheet': 38}, {'column': 1.0, 'row': 7.0, 'bank_name': 'C', 'electrode_number_in_bank': '4', 'electrode_label': 'elec72', 'index_in_mapping_sheet': 39}, {'column': 0.0, 'row': 7.0, 'bank_name': 'C', 'electrode_number_in_bank': '3', 'electrode_label': 'elec71', 'index_in_mapping_sheet': 40}, {'column': 9.0, 'row': 6.0, 'bank_name': 'A', 'electrode_number_in_bank': '24', 'electrode_label': 'elec70', 'index_in_mapping_sheet': 41}, {'column': 8.0, 'row': 6.0, 'bank_name': 'A', 'electrode_number_in_bank': '27', 'electrode_label': 'elec69', 'index_in_mapping_sheet': 42}, {'column': 7.0, 'row': 6.0, 'bank_name': 'A', 'electrode_number_in_bank': '25', 'electrode_label': 'elec68', 'index_in_mapping_sheet': 43}, {'column': 6.0, 'row': 6.0, 'bank_name': 'A', 'electrode_number_in_bank': '19', 'electrode_label': 'elec67', 'index_in_mapping_sheet': 44}, {'column': 5.0, 'row': 6.0, 'bank_name': 'A', 'electrode_number_in_bank': '15', 'electrode_label': 'elec66', 'index_in_mapping_sheet': 45}, {'column': 4.0, 'row': 6.0, 'bank_name': 'B', 'electrode_number_in_bank': '16', 'electrode_label': 'elec65', 'index_in_mapping_sheet': 46}, {'column': 3.0, 'row': 6.0, 'bank_name': 'B', 'electrode_number_in_bank': '6', 'electrode_label': 'elec64', 'index_in_mapping_sheet': 47}, {'column': 2.0, 'row': 6.0, 'bank_name': 'B', 'electrode_number_in_bank': '5', 'electrode_label': 'elec63', 'index_in_mapping_sheet': 48}, {'column': 1.0, 'row': 6.0, 'bank_name': 'C', 'electrode_number_in_bank': '6', 'electrode_label': 'elec62', 'index_in_mapping_sheet': 49}, {'column': 0.0, 'row': 6.0, 'bank_name': 'C', 'electrode_number_in_bank': '5', 'electrode_label': 'elec61', 'index_in_mapping_sheet': 50}, {'column': 9.0, 'row': 5.0, 'bank_name': 'A', 'electrode_number_in_bank': '26', 'electrode_label': 'elec60', 'index_in_mapping_sheet': 51}, {'column': 8.0, 'row': 5.0, 'bank_name': 'A', 'electrode_number_in_bank': '29', 'electrode_label': 'elec59', 'index_in_mapping_sheet': 52}, {'column': 7.0, 'row': 5.0, 'bank_name': 'A', 'electrode_number_in_bank': '21', 'electrode_label': 'elec58', 'index_in_mapping_sheet': 53}, {'column': 6.0, 'row': 5.0, 'bank_name': 'B', 'electrode_number_in_bank': '22', 'electrode_label': 'elec57', 'index_in_mapping_sheet': 54}, {'column': 5.0, 'row': 5.0, 'bank_name': 'B', 'electrode_number_in_bank': '18', 'electrode_label': 'elec56', 'index_in_mapping_sheet': 55}, {'column': 4.0, 'row': 5.0, 'bank_name': 'B', 'electrode_number_in_bank': '10', 'electrode_label': 'elec55', 'index_in_mapping_sheet': 56}, {'column': 3.0, 'row': 5.0, 'bank_name': 'B', 'electrode_number_in_bank': '8', 'electrode_label': 'elec54', 'index_in_mapping_sheet': 57}, {'column': 2.0, 'row': 5.0, 'bank_name': 'B', 'electrode_number_in_bank': '7', 'electrode_label': 'elec53', 'index_in_mapping_sheet': 58}, {'column': 1.0, 'row': 5.0, 'bank_name': 'C', 'electrode_number_in_bank': '8', 'electrode_label': 'elec52', 'index_in_mapping_sheet': 59}, {'column': 0.0, 'row': 5.0, 'bank_name': 'C', 'electrode_number_in_bank': '7', 'electrode_label': 'elec51', 'index_in_mapping_sheet': 60}, {'column': 9.0, 'row': 4.0, 'bank_name': 'A', 'electrode_number_in_bank': '28', 'electrode_label': 'elec50', 'index_in_mapping_sheet': 61}, {'column': 8.0, 'row': 4.0, 'bank_name': 'A', 'electrode_number_in_bank': '31', 'electrode_label': 'elec49', 'index_in_mapping_sheet': 62}, {'column': 7.0, 'row': 4.0, 'bank_name': 'B', 'electrode_number_in_bank': '30', 'electrode_label': 'elec48', 'index_in_mapping_sheet': 63}, {'column': 6.0, 'row': 4.0, 'bank_name': 'B', 'electrode_number_in_bank': '20', 'electrode_label': 'elec47', 'index_in_mapping_sheet': 64}, {'column': 5.0, 'row': 4.0, 'bank_name': 'B', 'electrode_number_in_bank': '14', 'electrode_label': 'elec46', 'index_in_mapping_sheet': 65}, {'column': 4.0, 'row': 4.0, 'bank_name': 'B', 'electrode_number_in_bank': '12', 'electrode_label': 'elec45', 'index_in_mapping_sheet': 66}, {'column': 3.0, 'row': 4.0, 'bank_name': 'B', 'electrode_number_in_bank': '11', 'electrode_label': 'elec44', 'index_in_mapping_sheet': 67}, {'column': 2.0, 'row': 4.0, 'bank_name': 'B', 'electrode_number_in_bank': '9', 'electrode_label': 'elec43', 'index_in_mapping_sheet': 68}, {'column': 1.0, 'row': 4.0, 'bank_name': 'C', 'electrode_number_in_bank': '10', 'electrode_label': 'elec42', 'index_in_mapping_sheet': 69}, {'column': 0.0, 'row': 4.0, 'bank_name': 'C', 'electrode_number_in_bank': '9', 'electrode_label': 'elec41', 'index_in_mapping_sheet': 70}, {'column': 9.0, 'row': 3.0, 'bank_name': 'A', 'electrode_number_in_bank': '30', 'electrode_label': 'elec40', 'index_in_mapping_sheet': 71}, {'column': 8.0, 'row': 3.0, 'bank_name': 'B', 'electrode_number_in_bank': '32', 'electrode_label': 'elec39', 'index_in_mapping_sheet': 72}, {'column': 7.0, 'row': 3.0, 'bank_name': 'B', 'electrode_number_in_bank': '28', 'electrode_label': 'elec38', 'index_in_mapping_sheet': 73}, {'column': 6.0, 'row': 3.0, 'bank_name': 'B', 'electrode_number_in_bank': '26', 'electrode_label': 'elec37', 'index_in_mapping_sheet': 74}, {'column': 5.0, 'row': 3.0, 'bank_name': 'B', 'electrode_number_in_bank': '24', 'electrode_label': 'elec36', 'index_in_mapping_sheet': 75}, {'column': 4.0, 'row': 3.0, 'bank_name': 'B', 'electrode_number_in_bank': '19', 'electrode_label': 'elec35', 'index_in_mapping_sheet': 76}, {'column': 3.0, 'row': 3.0, 'bank_name': 'B', 'electrode_number_in_bank': '15', 'electrode_label': 'elec34', 'index_in_mapping_sheet': 77}, {'column': 2.0, 'row': 3.0, 'bank_name': 'B', 'electrode_number_in_bank': '13', 'electrode_label': 'elec33', 'index_in_mapping_sheet': 78}, {'column': 1.0, 'row': 3.0, 'bank_name': 'C', 'electrode_number_in_bank': '12', 'electrode_label': 'elec32', 'index_in_mapping_sheet': 79}, {'column': 0.0, 'row': 3.0, 'bank_name': 'C', 'electrode_number_in_bank': '11', 'electrode_label': 'elec31', 'index_in_mapping_sheet': 80}, {'column': 9.0, 'row': 2.0, 'bank_name': 'A', 'electrode_number_in_bank': '32', 'electrode_label': 'elec30', 'index_in_mapping_sheet': 81}, {'column': 8.0, 'row': 2.0, 'bank_name': 'B', 'electrode_number_in_bank': '29', 'electrode_label': 'elec29', 'index_in_mapping_sheet': 82}, {'column': 7.0, 'row': 2.0, 'bank_name': 'B', 'electrode_number_in_bank': '27', 'electrode_label': 'elec28', 'index_in_mapping_sheet': 83}, {'column': 6.0, 'row': 2.0, 'bank_name': 'B', 'electrode_number_in_bank': '25', 'electrode_label': 'elec27', 'index_in_mapping_sheet': 84}, {'column': 5.0, 'row': 2.0, 'bank_name': 'B', 'electrode_number_in_bank': '23', 'electrode_label': 'elec26', 'index_in_mapping_sheet': 85}, {'column': 4.0, 'row': 2.0, 'bank_name': 'B', 'electrode_number_in_bank': '21', 'electrode_label': 'elec25', 'index_in_mapping_sheet': 86}, {'column': 3.0, 'row': 2.0, 'bank_name': 'B', 'electrode_number_in_bank': '17', 'electrode_label': 'elec24', 'index_in_mapping_sheet': 87}, {'column': 2.0, 'row': 2.0, 'bank_name': 'C', 'electrode_number_in_bank': '18', 'electrode_label': 'elec23', 'index_in_mapping_sheet': 88}, {'column': 1.0, 'row': 2.0, 'bank_name': 'C', 'electrode_number_in_bank': '14', 'electrode_label': 'elec22', 'index_in_mapping_sheet': 89}, {'column': 0.0, 'row': 2.0, 'bank_name': 'C', 'electrode_number_in_bank': '13', 'electrode_label': 'elec21', 'index_in_mapping_sheet': 90}, {'column': 9.0, 'row': 1.0, 'bank_name': 'C', 'electrode_number_in_bank': '31', 'electrode_label': 'elec20', 'index_in_mapping_sheet': 91}, {'column': 8.0, 'row': 1.0, 'bank_name': 'B', 'electrode_number_in_bank': '31', 'electrode_label': 'elec19', 'index_in_mapping_sheet': 92}, {'column': 7.0, 'row': 1.0, 'bank_name': 'C', 'electrode_number_in_bank': '30', 'electrode_label': 'elec18', 'index_in_mapping_sheet': 93}, {'column': 6.0, 'row': 1.0, 'bank_name': 'C', 'electrode_number_in_bank': '27', 'electrode_label': 'elec17', 'index_in_mapping_sheet': 94}, {'column': 5.0, 'row': 1.0, 'bank_name': 'C', 'electrode_number_in_bank': '25', 'electrode_label': 'elec16', 'index_in_mapping_sheet': 95}, {'column': 4.0, 'row': 1.0, 'bank_name': 'C', 'electrode_number_in_bank': '23', 'electrode_label': 'elec15', 'index_in_mapping_sheet': 96}, {'column': 3.0, 'row': 1.0, 'bank_name': 'C', 'electrode_number_in_bank': '22', 'electrode_label': 'elec14', 'index_in_mapping_sheet': 97}, {'column': 2.0, 'row': 1.0, 'bank_name': 'C', 'electrode_number_in_bank': '20', 'electrode_label': 'elec13', 'index_in_mapping_sheet': 98}, {'column': 1.0, 'row': 1.0, 'bank_name': 'C', 'electrode_number_in_bank': '16', 'electrode_label': 'elec12', 'index_in_mapping_sheet': 99}, {'column': 0.0, 'row': 1.0, 'bank_name': 'C', 'electrode_number_in_bank': '15', 'electrode_label': 'elec11', 'index_in_mapping_sheet': 100}, {'column': 8.0, 'row': 0.0, 'bank_name': 'C', 'electrode_number_in_bank': '32', 'electrode_label': 'elec9', 'index_in_mapping_sheet': 101}, {'column': 7.0, 'row': 0.0, 'bank_name': 'C', 'electrode_number_in_bank': '29', 'electrode_label': 'elec8', 'index_in_mapping_sheet': 102}, {'column': 6.0, 'row': 0.0, 'bank_name': 'C', 'electrode_number_in_bank': '28', 'electrode_label': 'elec7', 'index_in_mapping_sheet': 103}, {'column': 5.0, 'row': 0.0, 'bank_name': 'C', 'electrode_number_in_bank': '26', 'electrode_label': 'elec6', 'index_in_mapping_sheet': 104}, {'column': 4.0, 'row': 0.0, 'bank_name': 'C', 'electrode_number_in_bank': '24', 'electrode_label': 'elec5', 'index_in_mapping_sheet': 105}, {'column': 3.0, 'row': 0.0, 'bank_name': 'C', 'electrode_number_in_bank': '21', 'electrode_label': 'elec4', 'index_in_mapping_sheet': 106}, {'column': 2.0, 'row': 0.0, 'bank_name': 'C', 'electrode_number_in_bank': '19', 'electrode_label': 'elec3', 'index_in_mapping_sheet': 107}, {'column': 1.0, 'row': 0.0, 'bank_name': 'C', 'electrode_number_in_bank': '17', 'electrode_label': 'elec2', 'index_in_mapping_sheet': 108}, {'column': '', 'row': '', 'bank_name': '', 'electrode_number_in_bank': '', 'electrode_label': '', 'index_in_mapping_sheet': 109}, {'column': '', 'row': '', 'bank_name': '', 'electrode_number_in_bank': '', 'electrode_label': '', 'index_in_mapping_sheet': 110}, {'column': '', 'row': '', 'bank_name': '', 'electrode_number_in_bank': '', 'electrode_label': '', 'index_in_mapping_sheet': 111}, {'column': '', 'row': '', 'bank_name': '', 'electrode_number_in_bank': '', 'electrode_label': '', 'index_in_mapping_sheet': 112}, {'column': '', 'row': '', 'bank_name': '', 'electrode_number_in_bank': '', 'electrode_label': '', 'index_in_mapping_sheet': 113}, {'column': '', 'row': '', 'bank_name': '', 'electrode_number_in_bank': '', 'electrode_label': '', 'index_in_mapping_sheet': 114}, {'column': '', 'row': '', 'bank_name': '', 'electrode_number_in_bank': '', 'electrode_label': '', 'index_in_mapping_sheet': 115}, {'column': '', 'row': '', 'bank_name': '', 'electrode_number_in_bank': '', 'electrode_label': '', 'index_in_mapping_sheet': 116}, {'column': '', 'row': '', 'bank_name': '', 'electrode_number_in_bank': '', 'electrode_label': '', 'index_in_mapping_sheet': 117}, {'column': '', 'row': '', 'bank_name': '', 'electrode_number_in_bank': '', 'electrode_label': '', 'index_in_mapping_sheet': 118}, {'column': '', 'row': '', 'bank_name': '', 'electrode_number_in_bank': '', 'electrode_label': '', 'index_in_mapping_sheet': 119}, {'column': '', 'row': '', 'bank_name': '', 'electrode_number_in_bank': '', 'electrode_label': '', 'index_in_mapping_sheet': 120}]},\n",
              " MappingFile{'xls_path': '/Users/jjpr/dev/scratch/mkgu_scratch/data/5602-2 SN1025-000936.xls', 'workbook': <xlrd.book.Book object at 0x104ee1160>, 'mapping_worksheet': <xlrd.sheet.Sheet object at 0x104e78828>, 'comment_lines': {0, 1, 2, 3, 4, 5, 6, 7, 8, 9, 10, 11}, 'description_row': [text:'Cerebus mapping for array 5602-2/SN1025-000936', empty:'', empty:'', empty:'', empty:'', empty:'', text:'elec', empty:''], 'mappings': [{'column': 8.0, 'row': 9.0, 'bank_name': 'A', 'electrode_number_in_bank': '14', 'electrode_label': 'elec99', 'index_in_mapping_sheet': 13}, {'column': 7.0, 'row': 9.0, 'bank_name': 'A', 'electrode_number_in_bank': '10', 'electrode_label': 'elec98', 'index_in_mapping_sheet': 14}, {'column': 6.0, 'row': 9.0, 'bank_name': 'A', 'electrode_number_in_bank': '8', 'electrode_label': 'elec97', 'index_in_mapping_sheet': 15}, {'column': 5.0, 'row': 9.0, 'bank_name': 'A', 'electrode_number_in_bank': '6', 'electrode_label': 'elec96', 'index_in_mapping_sheet': 16}, {'column': 4.0, 'row': 9.0, 'bank_name': 'A', 'electrode_number_in_bank': '4', 'electrode_label': 'elec95', 'index_in_mapping_sheet': 17}, {'column': 3.0, 'row': 9.0, 'bank_name': 'A', 'electrode_number_in_bank': '3', 'electrode_label': 'elec94', 'index_in_mapping_sheet': 18}, {'column': 2.0, 'row': 9.0, 'bank_name': 'A', 'electrode_number_in_bank': '1', 'electrode_label': 'elec93', 'index_in_mapping_sheet': 19}, {'column': 1.0, 'row': 9.0, 'bank_name': 'A', 'electrode_number_in_bank': '2', 'electrode_label': 'elec92', 'index_in_mapping_sheet': 20}, {'column': 0.0, 'row': 9.0, 'bank_name': 'C', 'electrode_number_in_bank': '13', 'electrode_label': 'elec91', 'index_in_mapping_sheet': 21}, {'column': 9.0, 'row': 8.0, 'bank_name': 'A', 'electrode_number_in_bank': '18', 'electrode_label': 'elec90', 'index_in_mapping_sheet': 22}, {'column': 8.0, 'row': 8.0, 'bank_name': 'A', 'electrode_number_in_bank': '16', 'electrode_label': 'elec89', 'index_in_mapping_sheet': 23}, {'column': 7.0, 'row': 8.0, 'bank_name': 'A', 'electrode_number_in_bank': '12', 'electrode_label': 'elec88', 'index_in_mapping_sheet': 24}, {'column': 6.0, 'row': 8.0, 'bank_name': 'A', 'electrode_number_in_bank': '11', 'electrode_label': 'elec87', 'index_in_mapping_sheet': 25}, {'column': 5.0, 'row': 8.0, 'bank_name': 'A', 'electrode_number_in_bank': '9', 'electrode_label': 'elec86', 'index_in_mapping_sheet': 26}, {'column': 4.0, 'row': 8.0, 'bank_name': 'A', 'electrode_number_in_bank': '7', 'electrode_label': 'elec85', 'index_in_mapping_sheet': 27}, {'column': 3.0, 'row': 8.0, 'bank_name': 'B', 'electrode_number_in_bank': '2', 'electrode_label': 'elec84', 'index_in_mapping_sheet': 28}, {'column': 2.0, 'row': 8.0, 'bank_name': 'B', 'electrode_number_in_bank': '1', 'electrode_label': 'elec83', 'index_in_mapping_sheet': 29}, {'column': 1.0, 'row': 8.0, 'bank_name': 'C', 'electrode_number_in_bank': '2', 'electrode_label': 'elec82', 'index_in_mapping_sheet': 30}, {'column': 0.0, 'row': 8.0, 'bank_name': 'C', 'electrode_number_in_bank': '1', 'electrode_label': 'elec81', 'index_in_mapping_sheet': 31}, {'column': 9.0, 'row': 7.0, 'bank_name': 'A', 'electrode_number_in_bank': '22', 'electrode_label': 'elec80', 'index_in_mapping_sheet': 32}, {'column': 8.0, 'row': 7.0, 'bank_name': 'A', 'electrode_number_in_bank': '20', 'electrode_label': 'elec79', 'index_in_mapping_sheet': 33}, {'column': 7.0, 'row': 7.0, 'bank_name': 'A', 'electrode_number_in_bank': '23', 'electrode_label': 'elec78', 'index_in_mapping_sheet': 34}, {'column': 6.0, 'row': 7.0, 'bank_name': 'A', 'electrode_number_in_bank': '13', 'electrode_label': 'elec77', 'index_in_mapping_sheet': 35}, {'column': 5.0, 'row': 7.0, 'bank_name': 'A', 'electrode_number_in_bank': '17', 'electrode_label': 'elec76', 'index_in_mapping_sheet': 36}, {'column': 4.0, 'row': 7.0, 'bank_name': 'A', 'electrode_number_in_bank': '5', 'electrode_label': 'elec75', 'index_in_mapping_sheet': 37}, {'column': 3.0, 'row': 7.0, 'bank_name': 'B', 'electrode_number_in_bank': '4', 'electrode_label': 'elec74', 'index_in_mapping_sheet': 38}, {'column': 2.0, 'row': 7.0, 'bank_name': 'B', 'electrode_number_in_bank': '3', 'electrode_label': 'elec73', 'index_in_mapping_sheet': 39}, {'column': 1.0, 'row': 7.0, 'bank_name': 'C', 'electrode_number_in_bank': '4', 'electrode_label': 'elec72', 'index_in_mapping_sheet': 40}, {'column': 0.0, 'row': 7.0, 'bank_name': 'C', 'electrode_number_in_bank': '3', 'electrode_label': 'elec71', 'index_in_mapping_sheet': 41}, {'column': 9.0, 'row': 6.0, 'bank_name': 'A', 'electrode_number_in_bank': '24', 'electrode_label': 'elec70', 'index_in_mapping_sheet': 42}, {'column': 8.0, 'row': 6.0, 'bank_name': 'A', 'electrode_number_in_bank': '27', 'electrode_label': 'elec69', 'index_in_mapping_sheet': 43}, {'column': 7.0, 'row': 6.0, 'bank_name': 'A', 'electrode_number_in_bank': '25', 'electrode_label': 'elec68', 'index_in_mapping_sheet': 44}, {'column': 6.0, 'row': 6.0, 'bank_name': 'A', 'electrode_number_in_bank': '19', 'electrode_label': 'elec67', 'index_in_mapping_sheet': 45}, {'column': 5.0, 'row': 6.0, 'bank_name': 'A', 'electrode_number_in_bank': '15', 'electrode_label': 'elec66', 'index_in_mapping_sheet': 46}, {'column': 4.0, 'row': 6.0, 'bank_name': 'B', 'electrode_number_in_bank': '16', 'electrode_label': 'elec65', 'index_in_mapping_sheet': 47}, {'column': 3.0, 'row': 6.0, 'bank_name': 'B', 'electrode_number_in_bank': '6', 'electrode_label': 'elec64', 'index_in_mapping_sheet': 48}, {'column': 2.0, 'row': 6.0, 'bank_name': 'B', 'electrode_number_in_bank': '5', 'electrode_label': 'elec63', 'index_in_mapping_sheet': 49}, {'column': 1.0, 'row': 6.0, 'bank_name': 'C', 'electrode_number_in_bank': '6', 'electrode_label': 'elec62', 'index_in_mapping_sheet': 50}, {'column': 0.0, 'row': 6.0, 'bank_name': 'C', 'electrode_number_in_bank': '5', 'electrode_label': 'elec61', 'index_in_mapping_sheet': 51}, {'column': 9.0, 'row': 5.0, 'bank_name': 'A', 'electrode_number_in_bank': '26', 'electrode_label': 'elec60', 'index_in_mapping_sheet': 52}, {'column': 8.0, 'row': 5.0, 'bank_name': 'A', 'electrode_number_in_bank': '29', 'electrode_label': 'elec59', 'index_in_mapping_sheet': 53}, {'column': 7.0, 'row': 5.0, 'bank_name': 'A', 'electrode_number_in_bank': '21', 'electrode_label': 'elec58', 'index_in_mapping_sheet': 54}, {'column': 6.0, 'row': 5.0, 'bank_name': 'B', 'electrode_number_in_bank': '22', 'electrode_label': 'elec57', 'index_in_mapping_sheet': 55}, {'column': 5.0, 'row': 5.0, 'bank_name': 'B', 'electrode_number_in_bank': '18', 'electrode_label': 'elec56', 'index_in_mapping_sheet': 56}, {'column': 4.0, 'row': 5.0, 'bank_name': 'B', 'electrode_number_in_bank': '10', 'electrode_label': 'elec55', 'index_in_mapping_sheet': 57}, {'column': 3.0, 'row': 5.0, 'bank_name': 'B', 'electrode_number_in_bank': '8', 'electrode_label': 'elec54', 'index_in_mapping_sheet': 58}, {'column': 2.0, 'row': 5.0, 'bank_name': 'B', 'electrode_number_in_bank': '7', 'electrode_label': 'elec53', 'index_in_mapping_sheet': 59}, {'column': 0.0, 'row': 5.0, 'bank_name': 'C', 'electrode_number_in_bank': '7', 'electrode_label': 'elec51', 'index_in_mapping_sheet': 60}, {'column': 9.0, 'row': 4.0, 'bank_name': 'A', 'electrode_number_in_bank': '28', 'electrode_label': 'elec50', 'index_in_mapping_sheet': 61}, {'column': 8.0, 'row': 4.0, 'bank_name': 'A', 'electrode_number_in_bank': '31', 'electrode_label': 'elec49', 'index_in_mapping_sheet': 62}, {'column': 7.0, 'row': 4.0, 'bank_name': 'B', 'electrode_number_in_bank': '30', 'electrode_label': 'elec48', 'index_in_mapping_sheet': 63}, {'column': 6.0, 'row': 4.0, 'bank_name': 'B', 'electrode_number_in_bank': '20', 'electrode_label': 'elec47', 'index_in_mapping_sheet': 64}, {'column': 5.0, 'row': 4.0, 'bank_name': 'B', 'electrode_number_in_bank': '14', 'electrode_label': 'elec46', 'index_in_mapping_sheet': 65}, {'column': 4.0, 'row': 4.0, 'bank_name': 'B', 'electrode_number_in_bank': '12', 'electrode_label': 'elec45', 'index_in_mapping_sheet': 66}, {'column': 3.0, 'row': 4.0, 'bank_name': 'B', 'electrode_number_in_bank': '11', 'electrode_label': 'elec44', 'index_in_mapping_sheet': 67}, {'column': 2.0, 'row': 4.0, 'bank_name': 'B', 'electrode_number_in_bank': '9', 'electrode_label': 'elec43', 'index_in_mapping_sheet': 68}, {'column': 1.0, 'row': 4.0, 'bank_name': 'C', 'electrode_number_in_bank': '10', 'electrode_label': 'elec42', 'index_in_mapping_sheet': 69}, {'column': 0.0, 'row': 4.0, 'bank_name': 'C', 'electrode_number_in_bank': '9', 'electrode_label': 'elec41', 'index_in_mapping_sheet': 70}, {'column': 9.0, 'row': 3.0, 'bank_name': 'A', 'electrode_number_in_bank': '30', 'electrode_label': 'elec40', 'index_in_mapping_sheet': 71}, {'column': 8.0, 'row': 3.0, 'bank_name': 'B', 'electrode_number_in_bank': '32', 'electrode_label': 'elec39', 'index_in_mapping_sheet': 72}, {'column': 7.0, 'row': 3.0, 'bank_name': 'B', 'electrode_number_in_bank': '28', 'electrode_label': 'elec38', 'index_in_mapping_sheet': 73}, {'column': 6.0, 'row': 3.0, 'bank_name': 'B', 'electrode_number_in_bank': '26', 'electrode_label': 'elec37', 'index_in_mapping_sheet': 74}, {'column': 5.0, 'row': 3.0, 'bank_name': 'B', 'electrode_number_in_bank': '24', 'electrode_label': 'elec36', 'index_in_mapping_sheet': 75}, {'column': 4.0, 'row': 3.0, 'bank_name': 'B', 'electrode_number_in_bank': '19', 'electrode_label': 'elec35', 'index_in_mapping_sheet': 76}, {'column': 3.0, 'row': 3.0, 'bank_name': 'B', 'electrode_number_in_bank': '15', 'electrode_label': 'elec34', 'index_in_mapping_sheet': 77}, {'column': 2.0, 'row': 3.0, 'bank_name': 'B', 'electrode_number_in_bank': '13', 'electrode_label': 'elec33', 'index_in_mapping_sheet': 78}, {'column': 1.0, 'row': 3.0, 'bank_name': 'C', 'electrode_number_in_bank': '12', 'electrode_label': 'elec32', 'index_in_mapping_sheet': 79}, {'column': 0.0, 'row': 3.0, 'bank_name': 'C', 'electrode_number_in_bank': '11', 'electrode_label': 'elec31', 'index_in_mapping_sheet': 80}, {'column': 9.0, 'row': 2.0, 'bank_name': 'A', 'electrode_number_in_bank': '32', 'electrode_label': 'elec30', 'index_in_mapping_sheet': 81}, {'column': 8.0, 'row': 2.0, 'bank_name': 'B', 'electrode_number_in_bank': '29', 'electrode_label': 'elec29', 'index_in_mapping_sheet': 82}, {'column': 7.0, 'row': 2.0, 'bank_name': 'B', 'electrode_number_in_bank': '27', 'electrode_label': 'elec28', 'index_in_mapping_sheet': 83}, {'column': 6.0, 'row': 2.0, 'bank_name': 'B', 'electrode_number_in_bank': '25', 'electrode_label': 'elec27', 'index_in_mapping_sheet': 84}, {'column': 5.0, 'row': 2.0, 'bank_name': 'B', 'electrode_number_in_bank': '23', 'electrode_label': 'elec26', 'index_in_mapping_sheet': 85}, {'column': 4.0, 'row': 2.0, 'bank_name': 'B', 'electrode_number_in_bank': '21', 'electrode_label': 'elec25', 'index_in_mapping_sheet': 86}, {'column': 3.0, 'row': 2.0, 'bank_name': 'B', 'electrode_number_in_bank': '17', 'electrode_label': 'elec24', 'index_in_mapping_sheet': 87}, {'column': 2.0, 'row': 2.0, 'bank_name': 'C', 'electrode_number_in_bank': '18', 'electrode_label': 'elec23', 'index_in_mapping_sheet': 88}, {'column': 1.0, 'row': 2.0, 'bank_name': 'C', 'electrode_number_in_bank': '14', 'electrode_label': 'elec22', 'index_in_mapping_sheet': 89}, {'column': 9.0, 'row': 1.0, 'bank_name': 'C', 'electrode_number_in_bank': '31', 'electrode_label': 'elec20', 'index_in_mapping_sheet': 90}, {'column': 8.0, 'row': 1.0, 'bank_name': 'B', 'electrode_number_in_bank': '31', 'electrode_label': 'elec19', 'index_in_mapping_sheet': 91}, {'column': 7.0, 'row': 1.0, 'bank_name': 'C', 'electrode_number_in_bank': '30', 'electrode_label': 'elec18', 'index_in_mapping_sheet': 92}, {'column': 6.0, 'row': 1.0, 'bank_name': 'C', 'electrode_number_in_bank': '27', 'electrode_label': 'elec17', 'index_in_mapping_sheet': 93}, {'column': 5.0, 'row': 1.0, 'bank_name': 'C', 'electrode_number_in_bank': '25', 'electrode_label': 'elec16', 'index_in_mapping_sheet': 94}, {'column': 4.0, 'row': 1.0, 'bank_name': 'C', 'electrode_number_in_bank': '23', 'electrode_label': 'elec15', 'index_in_mapping_sheet': 95}, {'column': 3.0, 'row': 1.0, 'bank_name': 'C', 'electrode_number_in_bank': '22', 'electrode_label': 'elec14', 'index_in_mapping_sheet': 96}, {'column': 2.0, 'row': 1.0, 'bank_name': 'C', 'electrode_number_in_bank': '20', 'electrode_label': 'elec13', 'index_in_mapping_sheet': 97}, {'column': 1.0, 'row': 1.0, 'bank_name': 'C', 'electrode_number_in_bank': '16', 'electrode_label': 'elec12', 'index_in_mapping_sheet': 98}, {'column': 0.0, 'row': 1.0, 'bank_name': 'C', 'electrode_number_in_bank': '15', 'electrode_label': 'elec11', 'index_in_mapping_sheet': 99}, {'column': 9.0, 'row': 0.0, 'bank_name': 'C', 'electrode_number_in_bank': '8', 'electrode_label': 'elec10', 'index_in_mapping_sheet': 100}, {'column': 8.0, 'row': 0.0, 'bank_name': 'C', 'electrode_number_in_bank': '32', 'electrode_label': 'elec9', 'index_in_mapping_sheet': 101}, {'column': 7.0, 'row': 0.0, 'bank_name': 'C', 'electrode_number_in_bank': '29', 'electrode_label': 'elec8', 'index_in_mapping_sheet': 102}, {'column': 6.0, 'row': 0.0, 'bank_name': 'C', 'electrode_number_in_bank': '28', 'electrode_label': 'elec7', 'index_in_mapping_sheet': 103}, {'column': 5.0, 'row': 0.0, 'bank_name': 'C', 'electrode_number_in_bank': '26', 'electrode_label': 'elec6', 'index_in_mapping_sheet': 104}, {'column': 4.0, 'row': 0.0, 'bank_name': 'C', 'electrode_number_in_bank': '24', 'electrode_label': 'elec5', 'index_in_mapping_sheet': 105}, {'column': 3.0, 'row': 0.0, 'bank_name': 'C', 'electrode_number_in_bank': '21', 'electrode_label': 'elec4', 'index_in_mapping_sheet': 106}, {'column': 2.0, 'row': 0.0, 'bank_name': 'C', 'electrode_number_in_bank': '19', 'electrode_label': 'elec3', 'index_in_mapping_sheet': 107}, {'column': 1.0, 'row': 0.0, 'bank_name': 'C', 'electrode_number_in_bank': '17', 'electrode_label': 'elec2', 'index_in_mapping_sheet': 108}, {'column': '', 'row': '', 'bank_name': '', 'electrode_number_in_bank': '', 'electrode_label': '', 'index_in_mapping_sheet': 109}, {'column': '', 'row': '', 'bank_name': '', 'electrode_number_in_bank': '', 'electrode_label': '', 'index_in_mapping_sheet': 110}, {'column': '', 'row': '', 'bank_name': '', 'electrode_number_in_bank': '', 'electrode_label': '', 'index_in_mapping_sheet': 111}, {'column': '', 'row': '', 'bank_name': '', 'electrode_number_in_bank': '', 'electrode_label': '', 'index_in_mapping_sheet': 112}, {'column': '', 'row': '', 'bank_name': '', 'electrode_number_in_bank': '', 'electrode_label': '', 'index_in_mapping_sheet': 113}, {'column': '', 'row': '', 'bank_name': '', 'electrode_number_in_bank': '', 'electrode_label': '', 'index_in_mapping_sheet': 114}, {'column': '', 'row': '', 'bank_name': '', 'electrode_number_in_bank': '', 'electrode_label': '', 'index_in_mapping_sheet': 115}, {'column': '', 'row': '', 'bank_name': '', 'electrode_number_in_bank': '', 'electrode_label': '', 'index_in_mapping_sheet': 116}, {'column': '', 'row': '', 'bank_name': '', 'electrode_number_in_bank': '', 'electrode_label': '', 'index_in_mapping_sheet': 117}, {'column': '', 'row': '', 'bank_name': '', 'electrode_number_in_bank': '', 'electrode_label': '', 'index_in_mapping_sheet': 118}, {'column': '', 'row': '', 'bank_name': '', 'electrode_number_in_bank': '', 'electrode_label': '', 'index_in_mapping_sheet': 119}, {'column': '', 'row': '', 'bank_name': '', 'electrode_number_in_bank': '', 'electrode_label': '', 'index_in_mapping_sheet': 120}]}]"
            ]
          },
          "metadata": {}
        }
      ],
      "execution_count": 85,
      "metadata": {
        "collapsed": false,
        "outputHidden": false,
        "inputHidden": false
      }
    },
    {
      "cell_type": "code",
      "source": [
        "[x.description_row[0].value for x in mfs]"
      ],
      "outputs": [
        {
          "output_type": "execute_result",
          "execution_count": 87,
          "data": {
            "text/plain": [
              "['Cerebus mapping for array 090609B-4F/SN0559',\n",
              " 'Cerebus mapping for array 090609B-5E/SN00547',\n",
              " 'Cerebus mapping for array 090609B-5F/SN0548',\n",
              " 'Cerebus mapping for array 090609B-5H/SN0549',\n",
              " 'Cerebus mapping for array 090609B-8E/SN0552',\n",
              " 'Cerebus mapping for array 2132-5/SN0656',\n",
              " 'Cerebus mapping for array 2132-8/SN0657',\n",
              " 'Cerebus mapping for array 2466-1/SN0658',\n",
              " 'Cerebus mapping for array 2467-6 / SN 0649',\n",
              " 'Cerebus mapping for array 5602-2/SN1025-000936']"
            ]
          },
          "metadata": {}
        }
      ],
      "execution_count": 87,
      "metadata": {
        "collapsed": false,
        "outputHidden": false,
        "inputHidden": false
      }
    },
    {
      "cell_type": "code",
      "source": [
        "next((i for i in range (mf.mapping_worksheet.nrows) if not is_comment_row(mf.mapping_worksheet.row(i))), -1)"
      ],
      "outputs": [
        {
          "output_type": "execute_result",
          "execution_count": 75,
          "data": {
            "text/plain": [
              "12"
            ]
          },
          "metadata": {}
        }
      ],
      "execution_count": 75,
      "metadata": {
        "collapsed": false,
        "outputHidden": false,
        "inputHidden": false
      }
    },
    {
      "cell_type": "code",
      "source": [
        "mf.mapping_worksheet.row(12)[0].value"
      ],
      "outputs": [
        {
          "output_type": "execute_result",
          "execution_count": 74,
          "data": {
            "text/plain": [
              "'Cerebus mapping for array 2132-8/SN0657'"
            ]
          },
          "metadata": {}
        }
      ],
      "execution_count": 74,
      "metadata": {
        "collapsed": false,
        "outputHidden": false,
        "inputHidden": false
      }
    },
    {
      "cell_type": "code",
      "source": [
        "mf.mapping_worksheet.nrows"
      ],
      "outputs": [
        {
          "output_type": "execute_result",
          "execution_count": 46,
          "data": {
            "text/plain": [
              "121"
            ]
          },
          "metadata": {}
        }
      ],
      "execution_count": 46,
      "metadata": {
        "collapsed": false,
        "outputHidden": false,
        "inputHidden": false
      }
    },
    {
      "cell_type": "code",
      "source": [
        "mf.__class__.__name__"
      ],
      "outputs": [
        {
          "output_type": "execute_result",
          "execution_count": 51,
          "data": {
            "text/plain": [
              "'MappingFile'"
            ]
          },
          "metadata": {}
        }
      ],
      "execution_count": 51,
      "metadata": {
        "collapsed": false,
        "outputHidden": false,
        "inputHidden": false
      }
    },
    {
      "cell_type": "code",
      "source": [
        "dir(mf)"
      ],
      "outputs": [
        {
          "output_type": "execute_result",
          "execution_count": 47,
          "data": {
            "text/plain": [
              "['__class__',\n",
              " '__delattr__',\n",
              " '__dict__',\n",
              " '__dir__',\n",
              " '__doc__',\n",
              " '__eq__',\n",
              " '__format__',\n",
              " '__ge__',\n",
              " '__getattribute__',\n",
              " '__gt__',\n",
              " '__hash__',\n",
              " '__init__',\n",
              " '__init_subclass__',\n",
              " '__le__',\n",
              " '__lt__',\n",
              " '__module__',\n",
              " '__ne__',\n",
              " '__new__',\n",
              " '__reduce__',\n",
              " '__reduce_ex__',\n",
              " '__repr__',\n",
              " '__setattr__',\n",
              " '__sizeof__',\n",
              " '__str__',\n",
              " '__subclasshook__',\n",
              " '__weakref__',\n",
              " 'mapping_worksheet',\n",
              " 'workbook',\n",
              " 'xls_path']"
            ]
          },
          "metadata": {}
        }
      ],
      "execution_count": 47,
      "metadata": {
        "collapsed": false,
        "outputHidden": false,
        "inputHidden": false
      }
    },
    {
      "cell_type": "code",
      "source": [
        "vars(mf)"
      ],
      "outputs": [
        {
          "output_type": "execute_result",
          "execution_count": 52,
          "data": {
            "text/plain": [
              "{'mapping_worksheet': <xlrd.sheet.Sheet at 0x1046b5c18>,\n",
              " 'workbook': <xlrd.book.Book at 0x10475b940>,\n",
              " 'xls_path': '/Users/jjpr/dev/scratch/mkgu_scratch/data/5602-2 SN1025-000936.xls'}"
            ]
          },
          "metadata": {}
        }
      ],
      "execution_count": 52,
      "metadata": {
        "collapsed": false,
        "outputHidden": false,
        "inputHidden": false
      }
    },
    {
      "cell_type": "code",
      "source": [
        "try: \n",
        "    db\n",
        "except NameError:\n",
        "    db_file = os.path.join(data_dir, dated_file_name(\"db\", \"array_meta\"))\n",
        "    db_url = \"sqlite://\" + db_file\n",
        "    db = dataset.connect(db_url)"
      ],
      "outputs": [],
      "execution_count": 34,
      "metadata": {
        "collapsed": false,
        "outputHidden": false,
        "inputHidden": false
      }
    },
    {
      "cell_type": "code",
      "source": [
        "db"
      ],
      "outputs": [
        {
          "output_type": "execute_result",
          "execution_count": 35,
          "data": {
            "text/plain": [
              "<Database(sqlite:///Users/jjpr/dev/scratch/mkgu_scratch/data/array_meta_2018-01-29T15:44:59.853746.db)>"
            ]
          },
          "metadata": {}
        }
      ],
      "execution_count": 35,
      "metadata": {
        "collapsed": false,
        "outputHidden": false,
        "inputHidden": false
      }
    },
    {
      "cell_type": "code",
      "source": [
        "for x in sht.get_rows():\n",
        "    "
      ],
      "outputs": [],
      "execution_count": null,
      "metadata": {
        "collapsed": false,
        "outputHidden": false,
        "inputHidden": false
      }
    }
  ],
  "metadata": {
    "kernelspec": {
      "name": "mkgu_packaging",
      "language": "python",
      "display_name": "mkgu_packaging"
    },
    "kernel_info": {
      "name": "mkgu_packaging"
    },
    "language_info": {
      "name": "python",
      "version": "3.6.3",
      "mimetype": "text/x-python",
      "codemirror_mode": {
        "name": "ipython",
        "version": 3
      },
      "pygments_lexer": "ipython3",
      "nbconvert_exporter": "python",
      "file_extension": ".py"
    },
    "nteract": {
      "version": "0.6.2"
    }
  },
  "nbformat": 4,
  "nbformat_minor": 4
}