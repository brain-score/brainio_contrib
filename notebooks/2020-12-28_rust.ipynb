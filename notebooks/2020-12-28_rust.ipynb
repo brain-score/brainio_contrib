{
 "cells": [
  {
   "cell_type": "code",
   "execution_count": 1,
   "metadata": {},
   "outputs": [],
   "source": [
    "from dldata.stimulus_sets.rust_datasets import Rust305ImageSet"
   ]
  },
  {
   "cell_type": "code",
   "execution_count": 2,
   "metadata": {},
   "outputs": [
    {
     "data": {
      "text/plain": [
       "<dldata.stimulus_sets.rust_datasets.Rust305ImageSet at 0x7fdfc0041750>"
      ]
     },
     "execution_count": 2,
     "metadata": {},
     "output_type": "execute_result"
    }
   ],
   "source": [
    "rust_dldata = Rust305ImageSet()\n",
    "rust_dldata"
   ]
  },
  {
   "cell_type": "code",
   "execution_count": 3,
   "metadata": {},
   "outputs": [
    {
     "data": {
      "text/plain": [
       "<bound method Rust305ImageSet.get_images of <dldata.stimulus_sets.rust_datasets.Rust305ImageSet object at 0x7fdfc0041750>>"
      ]
     },
     "execution_count": 3,
     "metadata": {},
     "output_type": "execute_result"
    }
   ],
   "source": [
    "rust_dldata.get_images"
   ]
  },
  {
   "cell_type": "code",
   "execution_count": 4,
   "metadata": {},
   "outputs": [
    {
     "data": {
      "text/plain": [
       "array([[ 3.4,  1.4,  2.6, ...,  0.6,  3.4,  1.2],\n",
       "       [ 2.4,  0.8,  0.4, ...,  0.2,  4.4,  0.6],\n",
       "       [ 3. ,  4.6,  2. , ...,  0.2,  3.6,  0. ],\n",
       "       ..., \n",
       "       [ 0. ,  0. ,  0. , ...,  0. ,  0. ,  0. ],\n",
       "       [ 0. ,  0. ,  0. , ...,  0. ,  0. ,  0. ],\n",
       "       [ 0. ,  0. ,  0. , ...,  0. ,  0. ,  0. ]])"
      ]
     },
     "execution_count": 4,
     "metadata": {},
     "output_type": "execute_result"
    }
   ],
   "source": [
    "rust_dldata.neuronal_features_Rust"
   ]
  },
  {
   "cell_type": "code",
   "execution_count": 5,
   "metadata": {},
   "outputs": [
    {
     "data": {
      "text/plain": [
       "(305, 285)"
      ]
     },
     "execution_count": 5,
     "metadata": {},
     "output_type": "execute_result"
    }
   ],
   "source": [
    "rust_dldata.neuronal_features_Rust.shape"
   ]
  },
  {
   "cell_type": "code",
   "execution_count": 7,
   "metadata": {},
   "outputs": [
    {
     "data": {
      "text/plain": [
       "array([[[ 5.,  0.,  3., ...,  2.,  3.,  0.],\n",
       "        [ 4.,  4.,  0., ...,  1.,  7.,  0.],\n",
       "        [ 3.,  2.,  1., ...,  1.,  2.,  0.],\n",
       "        ..., \n",
       "        [ 0.,  0.,  0., ...,  0.,  0.,  0.],\n",
       "        [ 0.,  0.,  0., ...,  0.,  0.,  0.],\n",
       "        [ 0.,  0.,  0., ...,  0.,  0.,  0.]],\n",
       "\n",
       "       [[ 0.,  1.,  1., ...,  1.,  3.,  4.],\n",
       "        [ 3.,  0.,  0., ...,  0.,  4.,  1.],\n",
       "        [ 0.,  9.,  4., ...,  0.,  4.,  0.],\n",
       "        ..., \n",
       "        [ 0.,  0.,  0., ...,  0.,  0.,  0.],\n",
       "        [ 0.,  0.,  0., ...,  0.,  0.,  0.],\n",
       "        [ 0.,  0.,  0., ...,  0.,  0.,  0.]],\n",
       "\n",
       "       [[ 3.,  3.,  0., ...,  0.,  4.,  0.],\n",
       "        [ 1.,  0.,  0., ...,  0.,  4.,  1.],\n",
       "        [ 4.,  0.,  0., ...,  0.,  6.,  0.],\n",
       "        ..., \n",
       "        [ 0.,  0.,  0., ...,  0.,  0.,  0.],\n",
       "        [ 0.,  0.,  0., ...,  0.,  0.,  0.],\n",
       "        [ 0.,  0.,  0., ...,  0.,  0.,  0.]],\n",
       "\n",
       "       [[ 7.,  3.,  2., ...,  0.,  3.,  2.],\n",
       "        [ 2.,  0.,  2., ...,  0.,  5.,  1.],\n",
       "        [ 5.,  6.,  1., ...,  0.,  2.,  0.],\n",
       "        ..., \n",
       "        [ 0.,  0.,  0., ...,  0.,  0.,  0.],\n",
       "        [ 0.,  0.,  0., ...,  0.,  0.,  0.],\n",
       "        [ 0.,  0.,  0., ...,  0.,  0.,  0.]],\n",
       "\n",
       "       [[ 2.,  0.,  7., ...,  0.,  4.,  0.],\n",
       "        [ 2.,  0.,  0., ...,  0.,  2.,  0.],\n",
       "        [ 3.,  6.,  4., ...,  0.,  4.,  0.],\n",
       "        ..., \n",
       "        [ 0.,  0.,  0., ...,  0.,  0.,  0.],\n",
       "        [ 0.,  0.,  0., ...,  0.,  0.,  0.],\n",
       "        [ 0.,  0.,  0., ...,  0.,  0.,  0.]]])"
      ]
     },
     "execution_count": 7,
     "metadata": {},
     "output_type": "execute_result"
    }
   ],
   "source": [
    "rust_dldata.neuronal_features_reps_Rust"
   ]
  },
  {
   "cell_type": "code",
   "execution_count": 6,
   "metadata": {},
   "outputs": [
    {
     "data": {
      "text/plain": [
       "(5, 305, 285)"
      ]
     },
     "execution_count": 6,
     "metadata": {},
     "output_type": "execute_result"
    }
   ],
   "source": [
    "rust_dldata.neuronal_features_reps_Rust.shape"
   ]
  },
  {
   "cell_type": "code",
   "execution_count": 8,
   "metadata": {
    "scrolled": true
   },
   "outputs": [
    {
     "data": {
      "text/plain": [
       "tabarray([(0, '/braintree/home/jjpr/.skdata/Rust305/imgs/Nat300_1.png'),\n",
       "          (0, '/braintree/home/jjpr/.skdata/Rust305/imgs/Nat300_2.png'),\n",
       "          (0, '/braintree/home/jjpr/.skdata/Rust305/imgs/Nat300_3.png'),\n",
       "          (0, '/braintree/home/jjpr/.skdata/Rust305/imgs/Nat300_4.png'),\n",
       "          (0, '/braintree/home/jjpr/.skdata/Rust305/imgs/Nat300_5.png'),\n",
       "          (0, '/braintree/home/jjpr/.skdata/Rust305/imgs/Nat300_6.png'),\n",
       "          (0, '/braintree/home/jjpr/.skdata/Rust305/imgs/Nat300_7.png'),\n",
       "          (0, '/braintree/home/jjpr/.skdata/Rust305/imgs/Nat300_8.png'),\n",
       "          (0, '/braintree/home/jjpr/.skdata/Rust305/imgs/Nat300_9.png'),\n",
       "          (0, '/braintree/home/jjpr/.skdata/Rust305/imgs/Nat300_10.png'),\n",
       "          (0, '/braintree/home/jjpr/.skdata/Rust305/imgs/Nat300_11.png'),\n",
       "          (0, '/braintree/home/jjpr/.skdata/Rust305/imgs/Nat300_12.png'),\n",
       "          (0, '/braintree/home/jjpr/.skdata/Rust305/imgs/Nat300_13.png'),\n",
       "          (0, '/braintree/home/jjpr/.skdata/Rust305/imgs/Nat300_14.png'),\n",
       "          (0, '/braintree/home/jjpr/.skdata/Rust305/imgs/Nat300_15.png'),\n",
       "          (0, '/braintree/home/jjpr/.skdata/Rust305/imgs/Nat300_16.png'),\n",
       "          (0, '/braintree/home/jjpr/.skdata/Rust305/imgs/Nat300_17.png'),\n",
       "          (0, '/braintree/home/jjpr/.skdata/Rust305/imgs/Nat300_18.png'),\n",
       "          (0, '/braintree/home/jjpr/.skdata/Rust305/imgs/Nat300_19.png'),\n",
       "          (0, '/braintree/home/jjpr/.skdata/Rust305/imgs/Nat300_20.png'),\n",
       "          (0, '/braintree/home/jjpr/.skdata/Rust305/imgs/Nat300_21.png'),\n",
       "          (0, '/braintree/home/jjpr/.skdata/Rust305/imgs/Nat300_22.png'),\n",
       "          (0, '/braintree/home/jjpr/.skdata/Rust305/imgs/Nat300_23.png'),\n",
       "          (0, '/braintree/home/jjpr/.skdata/Rust305/imgs/Nat300_24.png'),\n",
       "          (0, '/braintree/home/jjpr/.skdata/Rust305/imgs/Nat300_25.png'),\n",
       "          (0, '/braintree/home/jjpr/.skdata/Rust305/imgs/Nat300_26.png'),\n",
       "          (0, '/braintree/home/jjpr/.skdata/Rust305/imgs/Nat300_27.png'),\n",
       "          (0, '/braintree/home/jjpr/.skdata/Rust305/imgs/Nat300_28.png'),\n",
       "          (0, '/braintree/home/jjpr/.skdata/Rust305/imgs/Nat300_29.png'),\n",
       "          (0, '/braintree/home/jjpr/.skdata/Rust305/imgs/Nat300_30.png'),\n",
       "          (0, '/braintree/home/jjpr/.skdata/Rust305/imgs/Nat300_31.png'),\n",
       "          (0, '/braintree/home/jjpr/.skdata/Rust305/imgs/Nat300_32.png'),\n",
       "          (0, '/braintree/home/jjpr/.skdata/Rust305/imgs/Nat300_33.png'),\n",
       "          (0, '/braintree/home/jjpr/.skdata/Rust305/imgs/Nat300_34.png'),\n",
       "          (0, '/braintree/home/jjpr/.skdata/Rust305/imgs/Nat300_35.png'),\n",
       "          (0, '/braintree/home/jjpr/.skdata/Rust305/imgs/Nat300_36.png'),\n",
       "          (0, '/braintree/home/jjpr/.skdata/Rust305/imgs/Nat300_37.png'),\n",
       "          (0, '/braintree/home/jjpr/.skdata/Rust305/imgs/Nat300_38.png'),\n",
       "          (0, '/braintree/home/jjpr/.skdata/Rust305/imgs/Nat300_39.png'),\n",
       "          (0, '/braintree/home/jjpr/.skdata/Rust305/imgs/Nat300_40.png'),\n",
       "          (0, '/braintree/home/jjpr/.skdata/Rust305/imgs/Nat300_41.png'),\n",
       "          (0, '/braintree/home/jjpr/.skdata/Rust305/imgs/Nat300_42.png'),\n",
       "          (0, '/braintree/home/jjpr/.skdata/Rust305/imgs/Nat300_43.png'),\n",
       "          (0, '/braintree/home/jjpr/.skdata/Rust305/imgs/Nat300_44.png'),\n",
       "          (0, '/braintree/home/jjpr/.skdata/Rust305/imgs/Nat300_45.png'),\n",
       "          (0, '/braintree/home/jjpr/.skdata/Rust305/imgs/Nat300_46.png'),\n",
       "          (0, '/braintree/home/jjpr/.skdata/Rust305/imgs/Nat300_47.png'),\n",
       "          (0, '/braintree/home/jjpr/.skdata/Rust305/imgs/Nat300_48.png'),\n",
       "          (0, '/braintree/home/jjpr/.skdata/Rust305/imgs/Nat300_49.png'),\n",
       "          (0, '/braintree/home/jjpr/.skdata/Rust305/imgs/Nat300_50.png'),\n",
       "          (0, '/braintree/home/jjpr/.skdata/Rust305/imgs/Nat300_51.png'),\n",
       "          (0, '/braintree/home/jjpr/.skdata/Rust305/imgs/Nat300_52.png'),\n",
       "          (0, '/braintree/home/jjpr/.skdata/Rust305/imgs/Nat300_53.png'),\n",
       "          (0, '/braintree/home/jjpr/.skdata/Rust305/imgs/Nat300_54.png'),\n",
       "          (0, '/braintree/home/jjpr/.skdata/Rust305/imgs/Nat300_55.png'),\n",
       "          (0, '/braintree/home/jjpr/.skdata/Rust305/imgs/Nat300_56.png'),\n",
       "          (0, '/braintree/home/jjpr/.skdata/Rust305/imgs/Nat300_57.png'),\n",
       "          (0, '/braintree/home/jjpr/.skdata/Rust305/imgs/Nat300_58.png'),\n",
       "          (0, '/braintree/home/jjpr/.skdata/Rust305/imgs/Nat300_59.png'),\n",
       "          (0, '/braintree/home/jjpr/.skdata/Rust305/imgs/Nat300_60.png'),\n",
       "          (0, '/braintree/home/jjpr/.skdata/Rust305/imgs/Nat300_61.png'),\n",
       "          (0, '/braintree/home/jjpr/.skdata/Rust305/imgs/Nat300_62.png'),\n",
       "          (0, '/braintree/home/jjpr/.skdata/Rust305/imgs/Nat300_63.png'),\n",
       "          (0, '/braintree/home/jjpr/.skdata/Rust305/imgs/Nat300_64.png'),\n",
       "          (0, '/braintree/home/jjpr/.skdata/Rust305/imgs/Nat300_65.png'),\n",
       "          (0, '/braintree/home/jjpr/.skdata/Rust305/imgs/Nat300_66.png'),\n",
       "          (0, '/braintree/home/jjpr/.skdata/Rust305/imgs/Nat300_67.png'),\n",
       "          (0, '/braintree/home/jjpr/.skdata/Rust305/imgs/Nat300_68.png'),\n",
       "          (0, '/braintree/home/jjpr/.skdata/Rust305/imgs/Nat300_69.png'),\n",
       "          (0, '/braintree/home/jjpr/.skdata/Rust305/imgs/Nat300_70.png'),\n",
       "          (0, '/braintree/home/jjpr/.skdata/Rust305/imgs/Nat300_71.png'),\n",
       "          (0, '/braintree/home/jjpr/.skdata/Rust305/imgs/Nat300_72.png'),\n",
       "          (0, '/braintree/home/jjpr/.skdata/Rust305/imgs/Nat300_73.png'),\n",
       "          (0, '/braintree/home/jjpr/.skdata/Rust305/imgs/Nat300_74.png'),\n",
       "          (0, '/braintree/home/jjpr/.skdata/Rust305/imgs/Nat300_75.png'),\n",
       "          (0, '/braintree/home/jjpr/.skdata/Rust305/imgs/Nat300_76.png'),\n",
       "          (0, '/braintree/home/jjpr/.skdata/Rust305/imgs/Nat300_77.png'),\n",
       "          (0, '/braintree/home/jjpr/.skdata/Rust305/imgs/Nat300_78.png'),\n",
       "          (0, '/braintree/home/jjpr/.skdata/Rust305/imgs/Nat300_79.png'),\n",
       "          (0, '/braintree/home/jjpr/.skdata/Rust305/imgs/Nat300_80.png'),\n",
       "          (0, '/braintree/home/jjpr/.skdata/Rust305/imgs/Nat300_81.png'),\n",
       "          (0, '/braintree/home/jjpr/.skdata/Rust305/imgs/Nat300_82.png'),\n",
       "          (0, '/braintree/home/jjpr/.skdata/Rust305/imgs/Nat300_83.png'),\n",
       "          (0, '/braintree/home/jjpr/.skdata/Rust305/imgs/Nat300_84.png'),\n",
       "          (0, '/braintree/home/jjpr/.skdata/Rust305/imgs/Nat300_85.png'),\n",
       "          (0, '/braintree/home/jjpr/.skdata/Rust305/imgs/Nat300_86.png'),\n",
       "          (0, '/braintree/home/jjpr/.skdata/Rust305/imgs/Nat300_87.png'),\n",
       "          (0, '/braintree/home/jjpr/.skdata/Rust305/imgs/Nat300_88.png'),\n",
       "          (0, '/braintree/home/jjpr/.skdata/Rust305/imgs/Nat300_89.png'),\n",
       "          (0, '/braintree/home/jjpr/.skdata/Rust305/imgs/Nat300_90.png'),\n",
       "          (0, '/braintree/home/jjpr/.skdata/Rust305/imgs/Nat300_91.png'),\n",
       "          (0, '/braintree/home/jjpr/.skdata/Rust305/imgs/Nat300_92.png'),\n",
       "          (0, '/braintree/home/jjpr/.skdata/Rust305/imgs/Nat300_93.png'),\n",
       "          (0, '/braintree/home/jjpr/.skdata/Rust305/imgs/Nat300_94.png'),\n",
       "          (0, '/braintree/home/jjpr/.skdata/Rust305/imgs/Nat300_95.png'),\n",
       "          (0, '/braintree/home/jjpr/.skdata/Rust305/imgs/Nat300_96.png'),\n",
       "          (0, '/braintree/home/jjpr/.skdata/Rust305/imgs/Nat300_97.png'),\n",
       "          (0, '/braintree/home/jjpr/.skdata/Rust305/imgs/Nat300_98.png'),\n",
       "          (0, '/braintree/home/jjpr/.skdata/Rust305/imgs/Nat300_99.png'),\n",
       "          (0, '/braintree/home/jjpr/.skdata/Rust305/imgs/Nat300_100.png'),\n",
       "          (0, '/braintree/home/jjpr/.skdata/Rust305/imgs/Nat300_101.png'),\n",
       "          (0, '/braintree/home/jjpr/.skdata/Rust305/imgs/Nat300_102.png'),\n",
       "          (0, '/braintree/home/jjpr/.skdata/Rust305/imgs/Nat300_103.png'),\n",
       "          (0, '/braintree/home/jjpr/.skdata/Rust305/imgs/Nat300_104.png'),\n",
       "          (0, '/braintree/home/jjpr/.skdata/Rust305/imgs/Nat300_105.png'),\n",
       "          (0, '/braintree/home/jjpr/.skdata/Rust305/imgs/Nat300_106.png'),\n",
       "          (0, '/braintree/home/jjpr/.skdata/Rust305/imgs/Nat300_107.png'),\n",
       "          (0, '/braintree/home/jjpr/.skdata/Rust305/imgs/Nat300_108.png'),\n",
       "          (0, '/braintree/home/jjpr/.skdata/Rust305/imgs/Nat300_109.png'),\n",
       "          (0, '/braintree/home/jjpr/.skdata/Rust305/imgs/Nat300_110.png'),\n",
       "          (0, '/braintree/home/jjpr/.skdata/Rust305/imgs/Nat300_111.png'),\n",
       "          (0, '/braintree/home/jjpr/.skdata/Rust305/imgs/Nat300_112.png'),\n",
       "          (0, '/braintree/home/jjpr/.skdata/Rust305/imgs/Nat300_113.png'),\n",
       "          (0, '/braintree/home/jjpr/.skdata/Rust305/imgs/Nat300_114.png'),\n",
       "          (0, '/braintree/home/jjpr/.skdata/Rust305/imgs/Nat300_115.png'),\n",
       "          (0, '/braintree/home/jjpr/.skdata/Rust305/imgs/Nat300_116.png'),\n",
       "          (0, '/braintree/home/jjpr/.skdata/Rust305/imgs/Nat300_117.png'),\n",
       "          (0, '/braintree/home/jjpr/.skdata/Rust305/imgs/Nat300_118.png'),\n",
       "          (0, '/braintree/home/jjpr/.skdata/Rust305/imgs/Nat300_119.png'),\n",
       "          (0, '/braintree/home/jjpr/.skdata/Rust305/imgs/Nat300_120.png'),\n",
       "          (0, '/braintree/home/jjpr/.skdata/Rust305/imgs/Nat300_121.png'),\n",
       "          (0, '/braintree/home/jjpr/.skdata/Rust305/imgs/Nat300_122.png'),\n",
       "          (0, '/braintree/home/jjpr/.skdata/Rust305/imgs/Nat300_123.png'),\n",
       "          (0, '/braintree/home/jjpr/.skdata/Rust305/imgs/Nat300_124.png'),\n",
       "          (0, '/braintree/home/jjpr/.skdata/Rust305/imgs/Nat300_125.png'),\n",
       "          (0, '/braintree/home/jjpr/.skdata/Rust305/imgs/Nat300_126.png'),\n",
       "          (0, '/braintree/home/jjpr/.skdata/Rust305/imgs/Nat300_127.png'),\n",
       "          (0, '/braintree/home/jjpr/.skdata/Rust305/imgs/Nat300_128.png'),\n",
       "          (0, '/braintree/home/jjpr/.skdata/Rust305/imgs/Nat300_129.png'),\n",
       "          (0, '/braintree/home/jjpr/.skdata/Rust305/imgs/Nat300_130.png'),\n",
       "          (0, '/braintree/home/jjpr/.skdata/Rust305/imgs/Nat300_131.png'),\n",
       "          (0, '/braintree/home/jjpr/.skdata/Rust305/imgs/Nat300_132.png'),\n",
       "          (0, '/braintree/home/jjpr/.skdata/Rust305/imgs/Nat300_133.png'),\n",
       "          (0, '/braintree/home/jjpr/.skdata/Rust305/imgs/Nat300_134.png'),\n",
       "          (0, '/braintree/home/jjpr/.skdata/Rust305/imgs/Nat300_135.png'),\n",
       "          (0, '/braintree/home/jjpr/.skdata/Rust305/imgs/Nat300_136.png'),\n",
       "          (0, '/braintree/home/jjpr/.skdata/Rust305/imgs/Nat300_137.png'),\n",
       "          (0, '/braintree/home/jjpr/.skdata/Rust305/imgs/Nat300_138.png'),\n",
       "          (0, '/braintree/home/jjpr/.skdata/Rust305/imgs/Nat300_139.png'),\n",
       "          (0, '/braintree/home/jjpr/.skdata/Rust305/imgs/Nat300_140.png'),\n",
       "          (0, '/braintree/home/jjpr/.skdata/Rust305/imgs/Nat300_141.png'),\n",
       "          (0, '/braintree/home/jjpr/.skdata/Rust305/imgs/Nat300_142.png'),\n",
       "          (0, '/braintree/home/jjpr/.skdata/Rust305/imgs/Nat300_143.png'),\n",
       "          (0, '/braintree/home/jjpr/.skdata/Rust305/imgs/Nat300_144.png'),\n",
       "          (0, '/braintree/home/jjpr/.skdata/Rust305/imgs/Nat300_145.png'),\n",
       "          (0, '/braintree/home/jjpr/.skdata/Rust305/imgs/Nat300_146.png'),\n",
       "          (0, '/braintree/home/jjpr/.skdata/Rust305/imgs/Nat300_147.png'),\n",
       "          (0, '/braintree/home/jjpr/.skdata/Rust305/imgs/Nat300_148.png'),\n",
       "          (0, '/braintree/home/jjpr/.skdata/Rust305/imgs/Nat300_149.png'),\n",
       "          (0, '/braintree/home/jjpr/.skdata/Rust305/imgs/Nat300_150.png'),\n",
       "          (0, '/braintree/home/jjpr/.skdata/Rust305/imgs/Nat300_151.png'),\n",
       "          (0, '/braintree/home/jjpr/.skdata/Rust305/imgs/Nat300_152.png'),\n",
       "          (0, '/braintree/home/jjpr/.skdata/Rust305/imgs/Nat300_153.png'),\n",
       "          (0, '/braintree/home/jjpr/.skdata/Rust305/imgs/Nat300_154.png'),\n",
       "          (0, '/braintree/home/jjpr/.skdata/Rust305/imgs/Nat300_155.png'),\n",
       "          (0, '/braintree/home/jjpr/.skdata/Rust305/imgs/Nat300_156.png'),\n",
       "          (0, '/braintree/home/jjpr/.skdata/Rust305/imgs/Nat300_157.png'),\n",
       "          (0, '/braintree/home/jjpr/.skdata/Rust305/imgs/Nat300_158.png'),\n",
       "          (0, '/braintree/home/jjpr/.skdata/Rust305/imgs/Nat300_159.png'),\n",
       "          (0, '/braintree/home/jjpr/.skdata/Rust305/imgs/Nat300_160.png'),\n",
       "          (0, '/braintree/home/jjpr/.skdata/Rust305/imgs/Nat300_161.png'),\n",
       "          (0, '/braintree/home/jjpr/.skdata/Rust305/imgs/Nat300_162.png'),\n",
       "          (0, '/braintree/home/jjpr/.skdata/Rust305/imgs/Nat300_163.png'),\n",
       "          (0, '/braintree/home/jjpr/.skdata/Rust305/imgs/Nat300_164.png'),\n",
       "          (0, '/braintree/home/jjpr/.skdata/Rust305/imgs/Nat300_165.png'),\n",
       "          (0, '/braintree/home/jjpr/.skdata/Rust305/imgs/Nat300_166.png'),\n",
       "          (0, '/braintree/home/jjpr/.skdata/Rust305/imgs/Nat300_167.png'),\n",
       "          (0, '/braintree/home/jjpr/.skdata/Rust305/imgs/Nat300_168.png'),\n",
       "          (0, '/braintree/home/jjpr/.skdata/Rust305/imgs/Nat300_169.png'),\n",
       "          (0, '/braintree/home/jjpr/.skdata/Rust305/imgs/Nat300_170.png'),\n",
       "          (0, '/braintree/home/jjpr/.skdata/Rust305/imgs/Nat300_171.png'),\n",
       "          (0, '/braintree/home/jjpr/.skdata/Rust305/imgs/Nat300_172.png'),\n",
       "          (0, '/braintree/home/jjpr/.skdata/Rust305/imgs/Nat300_173.png'),\n",
       "          (0, '/braintree/home/jjpr/.skdata/Rust305/imgs/Nat300_174.png'),\n",
       "          (0, '/braintree/home/jjpr/.skdata/Rust305/imgs/Nat300_175.png'),\n",
       "          (0, '/braintree/home/jjpr/.skdata/Rust305/imgs/Nat300_176.png'),\n",
       "          (0, '/braintree/home/jjpr/.skdata/Rust305/imgs/Nat300_177.png'),\n",
       "          (0, '/braintree/home/jjpr/.skdata/Rust305/imgs/Nat300_178.png'),\n",
       "          (0, '/braintree/home/jjpr/.skdata/Rust305/imgs/Nat300_179.png'),\n",
       "          (0, '/braintree/home/jjpr/.skdata/Rust305/imgs/Nat300_180.png'),\n",
       "          (0, '/braintree/home/jjpr/.skdata/Rust305/imgs/Nat300_181.png'),\n",
       "          (0, '/braintree/home/jjpr/.skdata/Rust305/imgs/Nat300_182.png'),\n",
       "          (0, '/braintree/home/jjpr/.skdata/Rust305/imgs/Nat300_183.png'),\n",
       "          (0, '/braintree/home/jjpr/.skdata/Rust305/imgs/Nat300_184.png'),\n",
       "          (0, '/braintree/home/jjpr/.skdata/Rust305/imgs/Nat300_185.png'),\n",
       "          (0, '/braintree/home/jjpr/.skdata/Rust305/imgs/Nat300_186.png'),\n",
       "          (0, '/braintree/home/jjpr/.skdata/Rust305/imgs/Nat300_187.png'),\n",
       "          (0, '/braintree/home/jjpr/.skdata/Rust305/imgs/Nat300_188.png'),\n",
       "          (0, '/braintree/home/jjpr/.skdata/Rust305/imgs/Nat300_189.png'),\n",
       "          (0, '/braintree/home/jjpr/.skdata/Rust305/imgs/Nat300_190.png'),\n",
       "          (0, '/braintree/home/jjpr/.skdata/Rust305/imgs/Nat300_191.png'),\n",
       "          (0, '/braintree/home/jjpr/.skdata/Rust305/imgs/Nat300_192.png'),\n",
       "          (0, '/braintree/home/jjpr/.skdata/Rust305/imgs/Nat300_193.png'),\n",
       "          (0, '/braintree/home/jjpr/.skdata/Rust305/imgs/Nat300_194.png'),\n",
       "          (0, '/braintree/home/jjpr/.skdata/Rust305/imgs/Nat300_195.png'),\n",
       "          (0, '/braintree/home/jjpr/.skdata/Rust305/imgs/Nat300_196.png'),\n",
       "          (0, '/braintree/home/jjpr/.skdata/Rust305/imgs/Nat300_197.png'),\n",
       "          (0, '/braintree/home/jjpr/.skdata/Rust305/imgs/Nat300_198.png'),\n",
       "          (0, '/braintree/home/jjpr/.skdata/Rust305/imgs/Nat300_199.png'),\n",
       "          (0, '/braintree/home/jjpr/.skdata/Rust305/imgs/Nat300_200.png'),\n",
       "          (0, '/braintree/home/jjpr/.skdata/Rust305/imgs/Nat300_201.png'),\n",
       "          (0, '/braintree/home/jjpr/.skdata/Rust305/imgs/Nat300_202.png'),\n",
       "          (0, '/braintree/home/jjpr/.skdata/Rust305/imgs/Nat300_203.png'),\n",
       "          (0, '/braintree/home/jjpr/.skdata/Rust305/imgs/Nat300_204.png'),\n",
       "          (0, '/braintree/home/jjpr/.skdata/Rust305/imgs/Nat300_205.png'),\n",
       "          (0, '/braintree/home/jjpr/.skdata/Rust305/imgs/Nat300_206.png'),\n",
       "          (0, '/braintree/home/jjpr/.skdata/Rust305/imgs/Nat300_207.png'),\n",
       "          (0, '/braintree/home/jjpr/.skdata/Rust305/imgs/Nat300_208.png'),\n",
       "          (0, '/braintree/home/jjpr/.skdata/Rust305/imgs/Nat300_209.png'),\n",
       "          (0, '/braintree/home/jjpr/.skdata/Rust305/imgs/Nat300_210.png'),\n",
       "          (0, '/braintree/home/jjpr/.skdata/Rust305/imgs/Nat300_211.png'),\n",
       "          (0, '/braintree/home/jjpr/.skdata/Rust305/imgs/Nat300_212.png'),\n",
       "          (0, '/braintree/home/jjpr/.skdata/Rust305/imgs/Nat300_213.png'),\n",
       "          (0, '/braintree/home/jjpr/.skdata/Rust305/imgs/Nat300_214.png'),\n",
       "          (0, '/braintree/home/jjpr/.skdata/Rust305/imgs/Nat300_215.png'),\n",
       "          (0, '/braintree/home/jjpr/.skdata/Rust305/imgs/Nat300_216.png'),\n",
       "          (0, '/braintree/home/jjpr/.skdata/Rust305/imgs/Nat300_217.png'),\n",
       "          (0, '/braintree/home/jjpr/.skdata/Rust305/imgs/Nat300_218.png'),\n",
       "          (0, '/braintree/home/jjpr/.skdata/Rust305/imgs/Nat300_219.png'),\n",
       "          (0, '/braintree/home/jjpr/.skdata/Rust305/imgs/Nat300_220.png'),\n",
       "          (0, '/braintree/home/jjpr/.skdata/Rust305/imgs/Nat300_221.png'),\n",
       "          (0, '/braintree/home/jjpr/.skdata/Rust305/imgs/Nat300_222.png'),\n",
       "          (0, '/braintree/home/jjpr/.skdata/Rust305/imgs/Nat300_223.png'),\n",
       "          (0, '/braintree/home/jjpr/.skdata/Rust305/imgs/Nat300_224.png'),\n",
       "          (0, '/braintree/home/jjpr/.skdata/Rust305/imgs/Nat300_225.png'),\n",
       "          (0, '/braintree/home/jjpr/.skdata/Rust305/imgs/Nat300_226.png'),\n",
       "          (0, '/braintree/home/jjpr/.skdata/Rust305/imgs/Nat300_227.png'),\n",
       "          (0, '/braintree/home/jjpr/.skdata/Rust305/imgs/Nat300_228.png'),\n",
       "          (0, '/braintree/home/jjpr/.skdata/Rust305/imgs/Nat300_229.png'),\n",
       "          (0, '/braintree/home/jjpr/.skdata/Rust305/imgs/Nat300_230.png'),\n",
       "          (0, '/braintree/home/jjpr/.skdata/Rust305/imgs/Nat300_231.png'),\n",
       "          (0, '/braintree/home/jjpr/.skdata/Rust305/imgs/Nat300_232.png'),\n",
       "          (0, '/braintree/home/jjpr/.skdata/Rust305/imgs/Nat300_233.png'),\n",
       "          (0, '/braintree/home/jjpr/.skdata/Rust305/imgs/Nat300_234.png'),\n",
       "          (0, '/braintree/home/jjpr/.skdata/Rust305/imgs/Nat300_235.png'),\n",
       "          (0, '/braintree/home/jjpr/.skdata/Rust305/imgs/Nat300_236.png'),\n",
       "          (0, '/braintree/home/jjpr/.skdata/Rust305/imgs/Nat300_237.png'),\n",
       "          (0, '/braintree/home/jjpr/.skdata/Rust305/imgs/Nat300_238.png'),\n",
       "          (0, '/braintree/home/jjpr/.skdata/Rust305/imgs/Nat300_239.png'),\n",
       "          (0, '/braintree/home/jjpr/.skdata/Rust305/imgs/Nat300_240.png'),\n",
       "          (0, '/braintree/home/jjpr/.skdata/Rust305/imgs/Nat300_241.png'),\n",
       "          (0, '/braintree/home/jjpr/.skdata/Rust305/imgs/Nat300_242.png'),\n",
       "          (0, '/braintree/home/jjpr/.skdata/Rust305/imgs/Nat300_243.png'),\n",
       "          (0, '/braintree/home/jjpr/.skdata/Rust305/imgs/Nat300_244.png'),\n",
       "          (0, '/braintree/home/jjpr/.skdata/Rust305/imgs/Nat300_245.png'),\n",
       "          (0, '/braintree/home/jjpr/.skdata/Rust305/imgs/Nat300_246.png'),\n",
       "          (0, '/braintree/home/jjpr/.skdata/Rust305/imgs/Nat300_247.png'),\n",
       "          (0, '/braintree/home/jjpr/.skdata/Rust305/imgs/Nat300_248.png'),\n",
       "          (0, '/braintree/home/jjpr/.skdata/Rust305/imgs/Nat300_249.png'),\n",
       "          (0, '/braintree/home/jjpr/.skdata/Rust305/imgs/Nat300_250.png'),\n",
       "          (0, '/braintree/home/jjpr/.skdata/Rust305/imgs/Nat300_251.png'),\n",
       "          (0, '/braintree/home/jjpr/.skdata/Rust305/imgs/Nat300_252.png'),\n",
       "          (0, '/braintree/home/jjpr/.skdata/Rust305/imgs/Nat300_253.png'),\n",
       "          (0, '/braintree/home/jjpr/.skdata/Rust305/imgs/Nat300_254.png'),\n",
       "          (0, '/braintree/home/jjpr/.skdata/Rust305/imgs/Nat300_255.png'),\n",
       "          (0, '/braintree/home/jjpr/.skdata/Rust305/imgs/Nat300_256.png'),\n",
       "          (0, '/braintree/home/jjpr/.skdata/Rust305/imgs/Nat300_257.png'),\n",
       "          (0, '/braintree/home/jjpr/.skdata/Rust305/imgs/Nat300_258.png'),\n",
       "          (0, '/braintree/home/jjpr/.skdata/Rust305/imgs/Nat300_259.png'),\n",
       "          (0, '/braintree/home/jjpr/.skdata/Rust305/imgs/Nat300_260.png'),\n",
       "          (0, '/braintree/home/jjpr/.skdata/Rust305/imgs/Nat300_261.png'),\n",
       "          (0, '/braintree/home/jjpr/.skdata/Rust305/imgs/Nat300_262.png'),\n",
       "          (0, '/braintree/home/jjpr/.skdata/Rust305/imgs/Nat300_263.png'),\n",
       "          (0, '/braintree/home/jjpr/.skdata/Rust305/imgs/Nat300_264.png'),\n",
       "          (0, '/braintree/home/jjpr/.skdata/Rust305/imgs/Nat300_265.png'),\n",
       "          (0, '/braintree/home/jjpr/.skdata/Rust305/imgs/Nat300_266.png'),\n",
       "          (0, '/braintree/home/jjpr/.skdata/Rust305/imgs/Nat300_267.png'),\n",
       "          (0, '/braintree/home/jjpr/.skdata/Rust305/imgs/Nat300_268.png'),\n",
       "          (0, '/braintree/home/jjpr/.skdata/Rust305/imgs/Nat300_269.png'),\n",
       "          (0, '/braintree/home/jjpr/.skdata/Rust305/imgs/Nat300_270.png'),\n",
       "          (0, '/braintree/home/jjpr/.skdata/Rust305/imgs/Nat300_271.png'),\n",
       "          (0, '/braintree/home/jjpr/.skdata/Rust305/imgs/Nat300_272.png'),\n",
       "          (0, '/braintree/home/jjpr/.skdata/Rust305/imgs/Nat300_273.png'),\n",
       "          (0, '/braintree/home/jjpr/.skdata/Rust305/imgs/Nat300_274.png'),\n",
       "          (0, '/braintree/home/jjpr/.skdata/Rust305/imgs/Nat300_275.png'),\n",
       "          (0, '/braintree/home/jjpr/.skdata/Rust305/imgs/Nat300_276.png'),\n",
       "          (0, '/braintree/home/jjpr/.skdata/Rust305/imgs/Nat300_277.png'),\n",
       "          (0, '/braintree/home/jjpr/.skdata/Rust305/imgs/Nat300_278.png'),\n",
       "          (0, '/braintree/home/jjpr/.skdata/Rust305/imgs/Nat300_279.png'),\n",
       "          (0, '/braintree/home/jjpr/.skdata/Rust305/imgs/Nat300_280.png'),\n",
       "          (0, '/braintree/home/jjpr/.skdata/Rust305/imgs/Nat300_281.png'),\n",
       "          (0, '/braintree/home/jjpr/.skdata/Rust305/imgs/Nat300_282.png'),\n",
       "          (0, '/braintree/home/jjpr/.skdata/Rust305/imgs/Nat300_283.png'),\n",
       "          (0, '/braintree/home/jjpr/.skdata/Rust305/imgs/Nat300_284.png'),\n",
       "          (0, '/braintree/home/jjpr/.skdata/Rust305/imgs/Nat300_285.png'),\n",
       "          (0, '/braintree/home/jjpr/.skdata/Rust305/imgs/Nat300_286.png'),\n",
       "          (0, '/braintree/home/jjpr/.skdata/Rust305/imgs/Nat300_287.png'),\n",
       "          (0, '/braintree/home/jjpr/.skdata/Rust305/imgs/Nat300_288.png'),\n",
       "          (0, '/braintree/home/jjpr/.skdata/Rust305/imgs/Nat300_289.png'),\n",
       "          (0, '/braintree/home/jjpr/.skdata/Rust305/imgs/Nat300_290.png'),\n",
       "          (0, '/braintree/home/jjpr/.skdata/Rust305/imgs/Nat300_291.png'),\n",
       "          (0, '/braintree/home/jjpr/.skdata/Rust305/imgs/Nat300_292.png'),\n",
       "          (0, '/braintree/home/jjpr/.skdata/Rust305/imgs/Nat300_293.png'),\n",
       "          (0, '/braintree/home/jjpr/.skdata/Rust305/imgs/Nat300_294.png'),\n",
       "          (0, '/braintree/home/jjpr/.skdata/Rust305/imgs/Nat300_295.png'),\n",
       "          (0, '/braintree/home/jjpr/.skdata/Rust305/imgs/Nat300_296.png'),\n",
       "          (0, '/braintree/home/jjpr/.skdata/Rust305/imgs/Nat300_297.png'),\n",
       "          (0, '/braintree/home/jjpr/.skdata/Rust305/imgs/Nat300_298.png'),\n",
       "          (0, '/braintree/home/jjpr/.skdata/Rust305/imgs/Nat300_299.png'),\n",
       "          (0, '/braintree/home/jjpr/.skdata/Rust305/imgs/Nat300_300.png'),\n",
       "          (1, '/braintree/home/jjpr/.skdata/Rust305/imgs/Nat300_301.png'),\n",
       "          (1, '/braintree/home/jjpr/.skdata/Rust305/imgs/Nat300_302.png'),\n",
       "          (1, '/braintree/home/jjpr/.skdata/Rust305/imgs/Nat300_303.png'),\n",
       "          (1, '/braintree/home/jjpr/.skdata/Rust305/imgs/Nat300_304.png'),\n",
       "          (1, '/braintree/home/jjpr/.skdata/Rust305/imgs/Nat300_305.png')],\n",
       "         dtype=(numpy.record, [('blank', '<i8'), ('filename', 'S56')]))"
      ]
     },
     "execution_count": 8,
     "metadata": {},
     "output_type": "execute_result"
    }
   ],
   "source": [
    "rust_dldata.meta"
   ]
  },
  {
   "cell_type": "code",
   "execution_count": 10,
   "metadata": {},
   "outputs": [
    {
     "data": {
      "text/plain": [
       "(305,)"
      ]
     },
     "execution_count": 10,
     "metadata": {},
     "output_type": "execute_result"
    }
   ],
   "source": [
    "rust_dldata.meta.shape"
   ]
  },
  {
   "cell_type": "code",
   "execution_count": 9,
   "metadata": {},
   "outputs": [
    {
     "ename": "ValueError",
     "evalue": "no field of name category",
     "output_type": "error",
     "traceback": [
      "\u001b[0;31m---------------------------------------------------------------------------\u001b[0m",
      "\u001b[0;31mValueError\u001b[0m                                Traceback (most recent call last)",
      "\u001b[0;32m<ipython-input-9-91aeb5c66d30>\u001b[0m in \u001b[0;36m<module>\u001b[0;34m()\u001b[0m\n\u001b[0;32m----> 1\u001b[0;31m \u001b[0mrust_dldata\u001b[0m\u001b[0;34m.\u001b[0m\u001b[0mcategories\u001b[0m\u001b[0;34m\u001b[0m\u001b[0m\n\u001b[0m",
      "\u001b[0;32m/braintree/home/jjpr/dev/dldata/dldata/stimulus_sets/rust_datasets.pyc\u001b[0m in \u001b[0;36mcategories\u001b[0;34m(self)\u001b[0m\n\u001b[1;32m     79\u001b[0m     \u001b[0;34m@\u001b[0m\u001b[0mproperty\u001b[0m\u001b[0;34m\u001b[0m\u001b[0m\n\u001b[1;32m     80\u001b[0m     \u001b[0;32mdef\u001b[0m \u001b[0mcategories\u001b[0m\u001b[0;34m(\u001b[0m\u001b[0mself\u001b[0m\u001b[0;34m)\u001b[0m\u001b[0;34m:\u001b[0m\u001b[0;34m\u001b[0m\u001b[0m\n\u001b[0;32m---> 81\u001b[0;31m         \u001b[0;32mreturn\u001b[0m \u001b[0mnp\u001b[0m\u001b[0;34m.\u001b[0m\u001b[0munique\u001b[0m\u001b[0;34m(\u001b[0m\u001b[0mself\u001b[0m\u001b[0;34m.\u001b[0m\u001b[0mmeta\u001b[0m\u001b[0;34m[\u001b[0m\u001b[0;34m'category'\u001b[0m\u001b[0;34m]\u001b[0m\u001b[0;34m)\u001b[0m\u001b[0;34m\u001b[0m\u001b[0m\n\u001b[0m\u001b[1;32m     82\u001b[0m \u001b[0;34m\u001b[0m\u001b[0m\n\u001b[1;32m     83\u001b[0m \u001b[0;34m\u001b[0m\u001b[0m\n",
      "\u001b[0;32m/braintree/home/jjpr/dev/tabular/tabular/tab.pyc\u001b[0m in \u001b[0;36m__getitem__\u001b[0;34m(self, ind)\u001b[0m\n\u001b[1;32m    598\u001b[0m             \u001b[0;32mreturn\u001b[0m \u001b[0mself\u001b[0m\u001b[0;34m[\u001b[0m\u001b[0mns\u001b[0m\u001b[0;34m]\u001b[0m\u001b[0;34m\u001b[0m\u001b[0m\n\u001b[1;32m    599\u001b[0m         \u001b[0;32melse\u001b[0m\u001b[0;34m:\u001b[0m\u001b[0;34m\u001b[0m\u001b[0m\n\u001b[0;32m--> 600\u001b[0;31m             \u001b[0mD\u001b[0m \u001b[0;34m=\u001b[0m \u001b[0mnp\u001b[0m\u001b[0;34m.\u001b[0m\u001b[0mndarray\u001b[0m\u001b[0;34m.\u001b[0m\u001b[0m__getitem__\u001b[0m\u001b[0;34m(\u001b[0m\u001b[0mself\u001b[0m\u001b[0;34m,\u001b[0m \u001b[0mind\u001b[0m\u001b[0;34m)\u001b[0m\u001b[0;34m\u001b[0m\u001b[0m\n\u001b[0m\u001b[1;32m    601\u001b[0m             \u001b[0;32mif\u001b[0m \u001b[0misinstance\u001b[0m\u001b[0;34m(\u001b[0m\u001b[0mD\u001b[0m\u001b[0;34m,\u001b[0m \u001b[0mnp\u001b[0m\u001b[0;34m.\u001b[0m\u001b[0mndarray\u001b[0m\u001b[0;34m)\u001b[0m \u001b[0;32mand\u001b[0m \u001b[0;32mnot\u001b[0m \u001b[0;34m(\u001b[0m\u001b[0mD\u001b[0m\u001b[0;34m.\u001b[0m\u001b[0mdtype\u001b[0m\u001b[0;34m.\u001b[0m\u001b[0mnames\u001b[0m \u001b[0;32mis\u001b[0m \u001b[0mNone\u001b[0m\u001b[0;34m)\u001b[0m\u001b[0;34m:\u001b[0m\u001b[0;34m\u001b[0m\u001b[0m\n\u001b[1;32m    602\u001b[0m                 \u001b[0mD\u001b[0m \u001b[0;34m=\u001b[0m \u001b[0mD\u001b[0m\u001b[0;34m.\u001b[0m\u001b[0mview\u001b[0m\u001b[0;34m(\u001b[0m\u001b[0mtabarray\u001b[0m\u001b[0;34m)\u001b[0m\u001b[0;34m\u001b[0m\u001b[0m\n",
      "\u001b[0;31mValueError\u001b[0m: no field of name category"
     ]
    }
   ],
   "source": [
    "rust_dldata.categories"
   ]
  },
  {
   "cell_type": "code",
   "execution_count": 11,
   "metadata": {},
   "outputs": [
    {
     "data": {
      "text/plain": [
       "285"
      ]
     },
     "execution_count": 11,
     "metadata": {},
     "output_type": "execute_result"
    }
   ],
   "source": [
    "len(rust_dldata.V4_NEURONS_Rust) + len(rust_dldata.IT_NEURONS_Rust)"
   ]
  },
  {
   "cell_type": "code",
   "execution_count": 12,
   "metadata": {},
   "outputs": [
    {
     "ename": "AttributeError",
     "evalue": "'module' object has no attribute 'openFile'",
     "output_type": "error",
     "traceback": [
      "\u001b[0;31m---------------------------------------------------------------------------\u001b[0m",
      "\u001b[0;31mAttributeError\u001b[0m                            Traceback (most recent call last)",
      "\u001b[0;32m<ipython-input-12-e49b0bd9d6a4>\u001b[0m in \u001b[0;36m<module>\u001b[0;34m()\u001b[0m\n\u001b[0;32m----> 1\u001b[0;31m \u001b[0mrust_dldata\u001b[0m\u001b[0;34m.\u001b[0m\u001b[0mneuronal_features_HongMajaj\u001b[0m\u001b[0;34m\u001b[0m\u001b[0m\n\u001b[0m",
      "\u001b[0;32m/braintree/home/jjpr/dev/dldata/dldata/stimulus_sets/rust_datasets.pyc\u001b[0m in \u001b[0;36mneuronal_features_HongMajaj\u001b[0;34m(self)\u001b[0m\n\u001b[1;32m    119\u001b[0m         \u001b[0;32mif\u001b[0m \u001b[0;32mnot\u001b[0m \u001b[0mhasattr\u001b[0m\u001b[0;34m(\u001b[0m\u001b[0mself\u001b[0m\u001b[0;34m,\u001b[0m \u001b[0;34m'_neuronal_features_HongMajaj'\u001b[0m\u001b[0;34m)\u001b[0m\u001b[0;34m:\u001b[0m\u001b[0;34m\u001b[0m\u001b[0m\n\u001b[1;32m    120\u001b[0m             \u001b[0mself\u001b[0m\u001b[0;34m.\u001b[0m\u001b[0mfetch\u001b[0m\u001b[0;34m(\u001b[0m\u001b[0;34m)\u001b[0m\u001b[0;34m\u001b[0m\u001b[0m\n\u001b[0;32m--> 121\u001b[0;31m             \u001b[0mself\u001b[0m\u001b[0;34m.\u001b[0m\u001b[0m_neuronal_features_HongMajaj\u001b[0m \u001b[0;34m=\u001b[0m \u001b[0mself\u001b[0m\u001b[0;34m.\u001b[0m\u001b[0mneuronal_features_reps_HongMajaj\u001b[0m\u001b[0;34m.\u001b[0m\u001b[0mmean\u001b[0m\u001b[0;34m(\u001b[0m\u001b[0;36m1\u001b[0m\u001b[0;34m)\u001b[0m\u001b[0;34m\u001b[0m\u001b[0m\n\u001b[0m\u001b[1;32m    122\u001b[0m         \u001b[0;32mreturn\u001b[0m \u001b[0mself\u001b[0m\u001b[0;34m.\u001b[0m\u001b[0m_neuronal_features_HongMajaj\u001b[0m\u001b[0;34m\u001b[0m\u001b[0m\n\u001b[1;32m    123\u001b[0m \u001b[0;34m\u001b[0m\u001b[0m\n",
      "\u001b[0;32m/braintree/home/jjpr/dev/dldata/dldata/stimulus_sets/rust_datasets.pyc\u001b[0m in \u001b[0;36mneuronal_features_reps_HongMajaj\u001b[0;34m(self)\u001b[0m\n\u001b[1;32m    129\u001b[0m         \u001b[0;32mif\u001b[0m \u001b[0;32mnot\u001b[0m \u001b[0mhasattr\u001b[0m\u001b[0;34m(\u001b[0m\u001b[0mself\u001b[0m\u001b[0;34m,\u001b[0m \u001b[0;34m'_neuronal_features_reps_HongMajaj'\u001b[0m\u001b[0;34m)\u001b[0m\u001b[0;34m:\u001b[0m\u001b[0;34m\u001b[0m\u001b[0m\n\u001b[1;32m    130\u001b[0m             \u001b[0mself\u001b[0m\u001b[0;34m.\u001b[0m\u001b[0mfetch\u001b[0m\u001b[0;34m(\u001b[0m\u001b[0;34m)\u001b[0m\u001b[0;34m\u001b[0m\u001b[0m\n\u001b[0;32m--> 131\u001b[0;31m             \u001b[0mself\u001b[0m\u001b[0;34m.\u001b[0m\u001b[0m_neuronal_features_reps_HongMajaj\u001b[0m \u001b[0;34m=\u001b[0m \u001b[0mself\u001b[0m\u001b[0;34m.\u001b[0m\u001b[0m_get_neuronal_features_reps_HongMajaj\u001b[0m\u001b[0;34m(\u001b[0m\u001b[0;34m)\u001b[0m\u001b[0;34m\u001b[0m\u001b[0m\n\u001b[0m\u001b[1;32m    132\u001b[0m         \u001b[0;32mreturn\u001b[0m \u001b[0mself\u001b[0m\u001b[0;34m.\u001b[0m\u001b[0m_neuronal_features_reps_HongMajaj\u001b[0m\u001b[0;34m\u001b[0m\u001b[0m\n\u001b[1;32m    133\u001b[0m \u001b[0;34m\u001b[0m\u001b[0m\n",
      "\u001b[0;32m/braintree/home/jjpr/dev/dldata/dldata/stimulus_sets/rust_datasets.pyc\u001b[0m in \u001b[0;36m_get_neuronal_features_reps_HongMajaj\u001b[0;34m(self)\u001b[0m\n\u001b[1;32m    134\u001b[0m     \u001b[0;32mdef\u001b[0m \u001b[0m_get_neuronal_features_reps_HongMajaj\u001b[0m\u001b[0;34m(\u001b[0m\u001b[0mself\u001b[0m\u001b[0;34m)\u001b[0m\u001b[0;34m:\u001b[0m\u001b[0;34m\u001b[0m\u001b[0m\n\u001b[1;32m    135\u001b[0m         \u001b[0mpath\u001b[0m \u001b[0;34m=\u001b[0m \u001b[0mself\u001b[0m\u001b[0;34m.\u001b[0m\u001b[0mhome\u001b[0m\u001b[0;34m(\u001b[0m\u001b[0;34m'Chabo_Tito_20130419_Nicole305_pooled_P58.trim.wh.evoked.repr.h5'\u001b[0m\u001b[0;34m)\u001b[0m\u001b[0;34m\u001b[0m\u001b[0m\n\u001b[0;32m--> 136\u001b[0;31m         \u001b[0mV\u001b[0m \u001b[0;34m=\u001b[0m \u001b[0mtbl\u001b[0m\u001b[0;34m.\u001b[0m\u001b[0mopenFile\u001b[0m\u001b[0;34m(\u001b[0m\u001b[0mpath\u001b[0m\u001b[0;34m)\u001b[0m\u001b[0;34m\u001b[0m\u001b[0m\n\u001b[0m\u001b[1;32m    137\u001b[0m         \u001b[0mfn\u001b[0m \u001b[0;34m=\u001b[0m \u001b[0mV\u001b[0m\u001b[0;34m.\u001b[0m\u001b[0mroot\u001b[0m\u001b[0;34m.\u001b[0m\u001b[0mmeta\u001b[0m\u001b[0;34m.\u001b[0m\u001b[0midx2iid\u001b[0m\u001b[0;34m.\u001b[0m\u001b[0mread\u001b[0m\u001b[0;34m(\u001b[0m\u001b[0;34m)\u001b[0m\u001b[0;34m\u001b[0m\u001b[0m\n\u001b[1;32m    138\u001b[0m         \u001b[0mfeat\u001b[0m \u001b[0;34m=\u001b[0m \u001b[0mV\u001b[0m\u001b[0;34m.\u001b[0m\u001b[0mroot\u001b[0m\u001b[0;34m.\u001b[0m\u001b[0mspk\u001b[0m\u001b[0;34m.\u001b[0m\u001b[0mread\u001b[0m\u001b[0;34m(\u001b[0m\u001b[0;34m)\u001b[0m\u001b[0;34m\u001b[0m\u001b[0m\n",
      "\u001b[0;31mAttributeError\u001b[0m: 'module' object has no attribute 'openFile'"
     ]
    }
   ],
   "source": [
    "rust_dldata.neuronal_features_HongMajaj"
   ]
  },
  {
   "cell_type": "code",
   "execution_count": 13,
   "metadata": {},
   "outputs": [
    {
     "data": {
      "text/plain": [
       "array([[[ 5.,  0.,  3., ...,  2.,  3.,  0.],\n",
       "        [ 4.,  4.,  0., ...,  1.,  7.,  0.],\n",
       "        [ 3.,  2.,  1., ...,  1.,  2.,  0.],\n",
       "        ..., \n",
       "        [ 0.,  0.,  0., ...,  0.,  0.,  0.],\n",
       "        [ 0.,  0.,  0., ...,  0.,  0.,  0.],\n",
       "        [ 0.,  0.,  0., ...,  0.,  0.,  0.]],\n",
       "\n",
       "       [[ 0.,  1.,  1., ...,  1.,  3.,  4.],\n",
       "        [ 3.,  0.,  0., ...,  0.,  4.,  1.],\n",
       "        [ 0.,  9.,  4., ...,  0.,  4.,  0.],\n",
       "        ..., \n",
       "        [ 0.,  0.,  0., ...,  0.,  0.,  0.],\n",
       "        [ 0.,  0.,  0., ...,  0.,  0.,  0.],\n",
       "        [ 0.,  0.,  0., ...,  0.,  0.,  0.]],\n",
       "\n",
       "       [[ 3.,  3.,  0., ...,  0.,  4.,  0.],\n",
       "        [ 1.,  0.,  0., ...,  0.,  4.,  1.],\n",
       "        [ 4.,  0.,  0., ...,  0.,  6.,  0.],\n",
       "        ..., \n",
       "        [ 0.,  0.,  0., ...,  0.,  0.,  0.],\n",
       "        [ 0.,  0.,  0., ...,  0.,  0.,  0.],\n",
       "        [ 0.,  0.,  0., ...,  0.,  0.,  0.]],\n",
       "\n",
       "       [[ 7.,  3.,  2., ...,  0.,  3.,  2.],\n",
       "        [ 2.,  0.,  2., ...,  0.,  5.,  1.],\n",
       "        [ 5.,  6.,  1., ...,  0.,  2.,  0.],\n",
       "        ..., \n",
       "        [ 0.,  0.,  0., ...,  0.,  0.,  0.],\n",
       "        [ 0.,  0.,  0., ...,  0.,  0.,  0.],\n",
       "        [ 0.,  0.,  0., ...,  0.,  0.,  0.]],\n",
       "\n",
       "       [[ 2.,  0.,  7., ...,  0.,  4.,  0.],\n",
       "        [ 2.,  0.,  0., ...,  0.,  2.,  0.],\n",
       "        [ 3.,  6.,  4., ...,  0.,  4.,  0.],\n",
       "        ..., \n",
       "        [ 0.,  0.,  0., ...,  0.,  0.,  0.],\n",
       "        [ 0.,  0.,  0., ...,  0.,  0.,  0.],\n",
       "        [ 0.,  0.,  0., ...,  0.,  0.,  0.]]])"
      ]
     },
     "execution_count": 13,
     "metadata": {},
     "output_type": "execute_result"
    }
   ],
   "source": [
    "rust_dldata.neuronal_features_reps_Rust"
   ]
  },
  {
   "cell_type": "code",
   "execution_count": 14,
   "metadata": {},
   "outputs": [
    {
     "data": {
      "text/plain": [
       "(5, 305, 285)"
      ]
     },
     "execution_count": 14,
     "metadata": {},
     "output_type": "execute_result"
    }
   ],
   "source": [
    "rust_dldata.neuronal_features_reps_Rust.shape"
   ]
  },
  {
   "cell_type": "code",
   "execution_count": 15,
   "metadata": {},
   "outputs": [
    {
     "data": {
      "text/plain": [
       "numpy.ndarray"
      ]
     },
     "execution_count": 15,
     "metadata": {},
     "output_type": "execute_result"
    }
   ],
   "source": [
    "type(rust_dldata.neuronal_features_reps_Rust)"
   ]
  },
  {
   "cell_type": "code",
   "execution_count": null,
   "metadata": {},
   "outputs": [],
   "source": []
  }
 ],
 "metadata": {
  "kernelspec": {
   "display_name": "dldata",
   "language": "python",
   "name": "dldata"
  },
  "language_info": {
   "codemirror_mode": {
    "name": "ipython",
    "version": 2
   },
   "file_extension": ".py",
   "mimetype": "text/x-python",
   "name": "python",
   "nbconvert_exporter": "python",
   "pygments_lexer": "ipython2",
   "version": "2.7.13"
  }
 },
 "nbformat": 4,
 "nbformat_minor": 4
}
