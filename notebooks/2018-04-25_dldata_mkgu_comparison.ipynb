{
 "cells": [
  {
   "cell_type": "code",
   "execution_count": 1,
   "metadata": {},
   "outputs": [
    {
     "name": "stdout",
     "output_type": "stream",
     "text": [
      "Can't import h5py\n",
      "Can't import separate mcc package\n",
      "Can't import asgd.\n"
     ]
    },
    {
     "name": "stderr",
     "output_type": "stream",
     "text": [
      "/Users/jjpr/anaconda/envs/dldata/lib/python2.7/site-packages/sklearn/cross_validation.py:44: DeprecationWarning: This module was deprecated in version 0.18 in favor of the model_selection module into which all the refactored classes and functions are moved. Also note that the interface of the new CV iterators are different from that of this module. This module will be removed in 0.20.\n",
      "  \"This module will be removed in 0.20.\", DeprecationWarning)\n",
      "/Users/jjpr/anaconda/envs/dldata/lib/python2.7/site-packages/sklearn/grid_search.py:43: DeprecationWarning: This module was deprecated in version 0.18 in favor of the model_selection module into which all the refactored classes and functions are moved. This module will be removed in 0.20.\n",
      "  DeprecationWarning)\n",
      "/Users/jjpr/anaconda/envs/dldata/lib/python2.7/site-packages/sklearn/lda.py:6: DeprecationWarning: lda.LDA has been moved to discriminant_analysis.LinearDiscriminantAnalysis in 0.17 and will be removed in 0.19\n",
      "  \"in 0.17 and will be removed in 0.19\", DeprecationWarning)\n",
      "/Users/jjpr/anaconda/envs/dldata/lib/python2.7/site-packages/sklearn/qda.py:6: DeprecationWarning: qda.QDA has been moved to discriminant_analysis.QuadraticDiscriminantAnalysis in 0.17 and will be removed in 0.19.\n",
      "  \"in 0.17 and will be removed in 0.19.\", DeprecationWarning)\n"
     ]
    }
   ],
   "source": [
    "import dldata.stimulus_sets.hvm as hvm"
   ]
  },
  {
   "cell_type": "code",
   "execution_count": 3,
   "metadata": {},
   "outputs": [],
   "source": [
    "import xarray as xr"
   ]
  },
  {
   "cell_type": "code",
   "execution_count": 7,
   "metadata": {},
   "outputs": [],
   "source": [
    "import random"
   ]
  },
  {
   "cell_type": "code",
   "execution_count": 40,
   "metadata": {},
   "outputs": [],
   "source": [
    "from collections import OrderedDict"
   ]
  },
  {
   "cell_type": "code",
   "execution_count": 45,
   "metadata": {},
   "outputs": [],
   "source": [
    "from pytest import approx"
   ]
  },
  {
   "cell_type": "code",
   "execution_count": 4,
   "metadata": {},
   "outputs": [],
   "source": [
    "dl_hvm = hvm.HvMWithDiscfade()"
   ]
  },
  {
   "cell_type": "code",
   "execution_count": 12,
   "metadata": {},
   "outputs": [],
   "source": [
    "dl_hvm_neu = dl_hvm.get_neuronal_feature_reps(sort_by_meta=True)"
   ]
  },
  {
   "cell_type": "code",
   "execution_count": 6,
   "metadata": {},
   "outputs": [],
   "source": [
    "dl_meta = dl_hvm.meta"
   ]
  },
  {
   "cell_type": "code",
   "execution_count": 10,
   "metadata": {},
   "outputs": [],
   "source": [
    "dl_meta_neu = dl_hvm.meta_neu"
   ]
  },
  {
   "cell_type": "code",
   "execution_count": 8,
   "metadata": {},
   "outputs": [],
   "source": [
    "xr_hvm = xr.open_dataarray(\"/Users/jjpr/.mkgu/data/dicarlo.Hong2011/hvm_neuronal_features.nc\")"
   ]
  },
  {
   "cell_type": "code",
   "execution_count": 9,
   "metadata": {},
   "outputs": [
    {
     "data": {
      "text/plain": [
       "<xarray.DataArray (neuroid: 296, presentation: 268800, time_bin: 1)>\n",
       "[79564800 values with dtype=float32]\n",
       "Coordinates:\n",
       "    neuroid_id      (neuroid) object u'Chabo_L_M_5_9' u'Chabo_L_M_6_9' ...\n",
       "    arr             (neuroid) object u'M' u'M' u'M' u'M' u'M' u'M' u'M' u'M' ...\n",
       "    time_bin_start  (time_bin) int64 70\n",
       "    col             (neuroid) int64 9 9 8 9 8 8 7 7 5 6 4 9 9 9 9 9 8 7 9 6 ...\n",
       "    hemisphere      (neuroid) object u'L' u'L' u'L' u'L' u'L' u'L' u'L' u'L' ...\n",
       "    subregion       (neuroid) object u'cIT' u'cIT' u'cIT' u'cIT' u'cIT' ...\n",
       "    animal          (neuroid) object u'Chabo' u'Chabo' u'Chabo' u'Chabo' ...\n",
       "    y               (neuroid) float64 0.2 0.6 0.2 1.0 0.6 1.0 1.8 1.0 1.8 ...\n",
       "    x               (neuroid) float64 1.8 1.8 1.4 1.8 1.4 1.4 1.0 1.0 0.2 ...\n",
       "    time_bin_end    (time_bin) int64 170\n",
       "    region          (neuroid) object u'IT' u'IT' u'IT' u'IT' u'IT' u'IT' ...\n",
       "    row             (neuroid) int64 5 6 5 7 6 7 9 7 9 8 9 2 1 3 6 7 6 6 8 5 ...\n",
       "    image_id        (presentation) object u'8a72e2bfdb8c267b57232bf96f069374d5b21832' ...\n",
       "    repetition      (presentation) int64 0 0 0 0 0 0 0 0 0 0 0 0 0 0 0 0 0 0 ...\n",
       "    stimulus        (presentation) int64 0 1 2 3 4 5 6 7 8 9 10 11 12 13 14 ...\n",
       "Dimensions without coordinates: neuroid, presentation, time_bin"
      ]
     },
     "execution_count": 9,
     "metadata": {},
     "output_type": "execute_result"
    }
   ],
   "source": [
    "xr_hvm"
   ]
  },
  {
   "cell_type": "code",
   "execution_count": 13,
   "metadata": {},
   "outputs": [
    {
     "data": {
      "text/plain": [
       "[(28, 640, 296), (51, 2560, 296), (47, 2560, 296)]"
      ]
     },
     "execution_count": 13,
     "metadata": {},
     "output_type": "execute_result"
    }
   ],
   "source": [
    "[s.shape for s in dl_hvm_neu.values()]"
   ]
  },
  {
   "cell_type": "code",
   "execution_count": 14,
   "metadata": {},
   "outputs": [],
   "source": [
    "dl_axes = [\"repetition\", \"image\", \"neuroid\"]"
   ]
  },
  {
   "cell_type": "code",
   "execution_count": 15,
   "metadata": {},
   "outputs": [
    {
     "data": {
      "text/plain": [
       "['V0', 'V3', 'V6']"
      ]
     },
     "execution_count": 15,
     "metadata": {},
     "output_type": "execute_result"
    }
   ],
   "source": [
    "dl_hvm_neu.keys()"
   ]
  },
  {
   "cell_type": "code",
   "execution_count": 24,
   "metadata": {},
   "outputs": [
    {
     "data": {
      "text/plain": [
       "dtype((numpy.record, [('obj', 'S24'), ('rxz', '<f8'), ('rxy', '<f8'), ('ryz', '<f8'), ('ty', '<f8'), ('tz', '<f8'), ('s', '<f8'), ('bg_id', 'S40'), ('size', '<i8'), ('var', 'S2'), ('_id', 'S43'), ('filename', 'S236'), ('id', 'S40'), ('category', 'S7'), ('rxz_semantic', '<f8'), ('rxy_semantic', '<f8'), ('ryz_semantic', '<f8')]))"
      ]
     },
     "execution_count": 24,
     "metadata": {},
     "output_type": "execute_result"
    }
   ],
   "source": [
    "dl_meta.dtype"
   ]
  },
  {
   "cell_type": "code",
   "execution_count": 26,
   "metadata": {},
   "outputs": [
    {
     "data": {
      "text/plain": [
       "'768108628bf1edd1a2db3effb28032235d6407a2'"
      ]
     },
     "execution_count": 26,
     "metadata": {},
     "output_type": "execute_result"
    }
   ],
   "source": [
    "dl_meta[\"id\"][28]"
   ]
  },
  {
   "cell_type": "code",
   "execution_count": 27,
   "metadata": {},
   "outputs": [
    {
     "data": {
      "text/plain": [
       "dtype((numpy.record, [('animal', 'S5'), ('region', 'S2'), ('arr', 'S1'), ('row', '<i8'), ('col', '<i8'), ('y', '<f8'), ('x', '<f8')]))"
      ]
     },
     "execution_count": 27,
     "metadata": {},
     "output_type": "execute_result"
    }
   ],
   "source": [
    "dl_meta_neu.dtype"
   ]
  },
  {
   "cell_type": "code",
   "execution_count": 28,
   "metadata": {},
   "outputs": [
    {
     "data": {
      "text/plain": [
       "'Tito'"
      ]
     },
     "execution_count": 28,
     "metadata": {},
     "output_type": "execute_result"
    }
   ],
   "source": [
    "dl_meta_neu[\"animal\"][151]"
   ]
  },
  {
   "cell_type": "code",
   "execution_count": 34,
   "metadata": {},
   "outputs": [
    {
     "data": {
      "text/plain": [
       "{'dl_image_id': '129b3dcb5eee92cc062a594fe3776bc098c957d7',\n",
       " 'dl_image_idx': 441,\n",
       " 'dl_neuroid_animal': 'Tito',\n",
       " 'dl_neuroid_arr': 'A',\n",
       " 'dl_neuroid_col': 9,\n",
       " 'dl_neuroid_hemisphere': 'L',\n",
       " 'dl_neuroid_idx': 173,\n",
       " 'dl_neuroid_row': 5,\n",
       " 'dl_repetition_idx': 2,\n",
       " 'dl_value': -1.0457006,\n",
       " 'dl_variation': 'V0'}"
      ]
     },
     "execution_count": 34,
     "metadata": {},
     "output_type": "execute_result"
    }
   ],
   "source": [
    "def get_dl_sample(dl_hvm_neu, dl_meta, dl_meta_neu):\n",
    "    sample = {}\n",
    "    var = random.choice(dl_hvm_neu.keys())\n",
    "    sample[\"dl_variation\"] = var\n",
    "    neu = dl_hvm_neu[var]\n",
    "    \n",
    "    rep = sample[\"dl_repetition_idx\"] = random.randrange(neu.shape[0])\n",
    "    \n",
    "    im = sample[\"dl_image_idx\"] = random.randrange(neu.shape[1])\n",
    "    sample[\"dl_image_id\"] = dl_meta[\"id\"][im]\n",
    "    \n",
    "    n = sample[\"dl_neuroid_idx\"] = random.randrange(neu.shape[2])\n",
    "    sample[\"dl_neuroid_animal\"] = dl_meta_neu[\"animal\"][n]\n",
    "    sample[\"dl_neuroid_hemisphere\"] = \"L\"\n",
    "    sample[\"dl_neuroid_arr\"] = dl_meta_neu[\"arr\"][n]\n",
    "    sample[\"dl_neuroid_row\"] = dl_meta_neu[\"row\"][n]\n",
    "    sample[\"dl_neuroid_col\"] = dl_meta_neu[\"col\"][n]\n",
    "    \n",
    "    val = sample[\"dl_value\"] = neu[rep, im, n]\n",
    "    return sample\n",
    "sample = get_dl_sample(dl_hvm_neu, dl_meta, dl_meta_neu)\n",
    "sample"
   ]
  },
  {
   "cell_type": "code",
   "execution_count": 38,
   "metadata": {},
   "outputs": [],
   "source": [
    "def coords_for_dim(xr_data, dim, exclude_indexes=True):\n",
    "    result = OrderedDict()\n",
    "    for key, value in xr_data.coords.variables.items():\n",
    "        only_this_dim = value.dims == (dim,)\n",
    "        exclude_because_index = exclude_indexes and isinstance(value, xr.IndexVariable)\n",
    "        if only_this_dim and not exclude_because_index:\n",
    "            result[key] = value\n",
    "    return result"
   ]
  },
  {
   "cell_type": "code",
   "execution_count": 36,
   "metadata": {},
   "outputs": [],
   "source": [
    "def gather_indexes(xr_data):\n",
    "    \"\"\"This is only necessary as long as xarray cannot persist MultiIndex to netCDF.  \"\"\"\n",
    "    coords_d = {}\n",
    "    for dim in xr_data.dims:\n",
    "        coords = coords_for_dim(xr_data, dim)\n",
    "        if coords:\n",
    "            coords_d[dim] = coords.keys()\n",
    "    if coords_d:\n",
    "        xr_data.set_index(append=True, inplace=True, **coords_d)\n",
    "    return xr_data"
   ]
  },
  {
   "cell_type": "code",
   "execution_count": 41,
   "metadata": {},
   "outputs": [],
   "source": [
    "xr_hvm = gather_indexes(xr_hvm)"
   ]
  },
  {
   "cell_type": "code",
   "execution_count": 43,
   "metadata": {},
   "outputs": [
    {
     "data": {
      "text/plain": [
       "<xarray.DataArray (neuroid: 1, stimulus: 1, time_bin: 1)>\n",
       "array([[[-1.045701]]], dtype=float32)\n",
       "Coordinates:\n",
       "  * stimulus        (stimulus) int64 417\n",
       "  * neuroid         (neuroid) MultiIndex\n",
       "  - neuroid_id      (neuroid) object u'Tito_L_A_5_9'\n",
       "  - subregion       (neuroid) object u'cIT'\n",
       "  - y               (neuroid) float64 0.2\n",
       "  - x               (neuroid) float64 1.8\n",
       "  - region          (neuroid) object u'IT'\n",
       "  * time_bin        (time_bin) MultiIndex\n",
       "  - time_bin_start  (time_bin) int64 70\n",
       "  - time_bin_end    (time_bin) int64 170"
      ]
     },
     "execution_count": 43,
     "metadata": {},
     "output_type": "execute_result"
    }
   ],
   "source": [
    "xr_sample = xr_hvm.sel(image_id=sample[\"dl_image_id\"], \n",
    "                      repetition=sample[\"dl_repetition_idx\"],\n",
    "                      animal=sample[\"dl_neuroid_animal\"],\n",
    "                      hemisphere=sample[\"dl_neuroid_hemisphere\"],\n",
    "                      arr=sample[\"dl_neuroid_arr\"],\n",
    "                      row=sample[\"dl_neuroid_row\"],\n",
    "                      col=sample[\"dl_neuroid_col\"])\n",
    "xr_sample"
   ]
  },
  {
   "cell_type": "code",
   "execution_count": 57,
   "metadata": {},
   "outputs": [
    {
     "data": {
      "text/plain": [
       "True"
      ]
     },
     "execution_count": 57,
     "metadata": {},
     "output_type": "execute_result"
    }
   ],
   "source": [
    "xr_sample.values[0, 0, 0] == approx(sample[\"dl_value\"], abs=1e-6)"
   ]
  },
  {
   "cell_type": "code",
   "execution_count": null,
   "metadata": {},
   "outputs": [],
   "source": [
    "samples = []\n",
    "for i in range(1000):\n",
    "    sample = {}\n",
    "    sample[\"\"]"
   ]
  }
 ],
 "metadata": {
  "kernelspec": {
   "display_name": "dldata",
   "language": "python",
   "name": "dldata"
  },
  "language_info": {
   "codemirror_mode": {
    "name": "ipython",
    "version": 2
   },
   "file_extension": ".py",
   "mimetype": "text/x-python",
   "name": "python",
   "nbconvert_exporter": "python",
   "pygments_lexer": "ipython2",
   "version": "2.7.13"
  }
 },
 "nbformat": 4,
 "nbformat_minor": 2
}
