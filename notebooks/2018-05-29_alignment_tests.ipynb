{
 "cells": [
  {
   "cell_type": "code",
   "execution_count": 2,
   "metadata": {},
   "outputs": [],
   "source": [
    "import numpy as np\n",
    "import xarray as xr"
   ]
  },
  {
   "cell_type": "code",
   "execution_count": 3,
   "metadata": {},
   "outputs": [
    {
     "data": {
      "text/plain": [
       "<xarray.DataArray (x: 2, y: 3)>\n",
       "array([[-0.677337, -0.777142,  0.916852],\n",
       "       [-0.31313 ,  0.341775, -0.416006]])\n",
       "Coordinates:\n",
       "  * x        (x) <U1 'a' 'b'\n",
       "  * y        (y) int64 10 20 30"
      ]
     },
     "execution_count": 3,
     "metadata": {},
     "output_type": "execute_result"
    }
   ],
   "source": [
    "da1 = xr.DataArray(np.random.randn(2, 3), [('x', ['a', 'b']), ('y', [10, 20, 30])])\n",
    "da1"
   ]
  },
  {
   "cell_type": "code",
   "execution_count": 4,
   "metadata": {},
   "outputs": [
    {
     "data": {
      "text/plain": [
       "<xarray.DataArray (x: 2, y: 3)>\n",
       "array([[-0.665198,  0.634057, -0.003932],\n",
       "       [ 0.383107,  0.828298,  0.971749]])\n",
       "Coordinates:\n",
       "  * x        (x) <U1 'c' 'd'\n",
       "  * y        (y) int64 40 50 60"
      ]
     },
     "execution_count": 4,
     "metadata": {},
     "output_type": "execute_result"
    }
   ],
   "source": [
    "da2 = xr.DataArray(np.random.randn(2, 3), [('x', ['c', 'd']), ('y', [40, 50, 60])])\n",
    "da2"
   ]
  },
  {
   "cell_type": "code",
   "execution_count": 5,
   "metadata": {},
   "outputs": [
    {
     "data": {
      "text/plain": [
       "<xarray.DataArray (x: 2, y: 2)>\n",
       "array([[ 0.648664, -1.197077],\n",
       "       [-1.234978, -0.125411]])\n",
       "Coordinates:\n",
       "  * x        (x) <U1 'b' 'c'\n",
       "  * y        (y) int64 30 40"
      ]
     },
     "execution_count": 5,
     "metadata": {},
     "output_type": "execute_result"
    }
   ],
   "source": [
    "da3 = xr.DataArray(np.random.randn(2, 2), [('x', ['b', 'c']), ('y', [30, 40])])\n",
    "da3"
   ]
  },
  {
   "cell_type": "code",
   "execution_count": 6,
   "metadata": {},
   "outputs": [
    {
     "name": "stderr",
     "output_type": "stream",
     "text": [
      "/braintree/home/jjpr/anaconda3/envs/mkgu_packaging/lib/python3.6/site-packages/xarray/core/dtypes.py:23: FutureWarning: Conversion of the second argument of issubdtype from `float` to `np.floating` is deprecated. In future, it will be treated as `np.float64 == np.dtype(float).type`.\n",
      "  if np.issubdtype(dtype, float):\n"
     ]
    },
    {
     "data": {
      "text/plain": [
       "(<xarray.DataArray (x: 4, y: 6)>\n",
       " array([[-0.677337, -0.777142,  0.916852,       nan,       nan,       nan],\n",
       "        [-0.31313 ,  0.341775, -0.416006,       nan,       nan,       nan],\n",
       "        [      nan,       nan,       nan,       nan,       nan,       nan],\n",
       "        [      nan,       nan,       nan,       nan,       nan,       nan]])\n",
       " Coordinates:\n",
       "   * x        (x) object 'a' 'b' 'c' 'd'\n",
       "   * y        (y) int64 10 20 30 40 50 60, <xarray.DataArray (x: 4, y: 6)>\n",
       " array([[      nan,       nan,       nan,       nan,       nan,       nan],\n",
       "        [      nan,       nan,       nan,       nan,       nan,       nan],\n",
       "        [      nan,       nan,       nan, -0.665198,  0.634057, -0.003932],\n",
       "        [      nan,       nan,       nan,  0.383107,  0.828298,  0.971749]])\n",
       " Coordinates:\n",
       "   * x        (x) object 'a' 'b' 'c' 'd'\n",
       "   * y        (y) int64 10 20 30 40 50 60)"
      ]
     },
     "execution_count": 6,
     "metadata": {},
     "output_type": "execute_result"
    }
   ],
   "source": [
    "xr.align(da1, da2, join=\"outer\")"
   ]
  },
  {
   "cell_type": "code",
   "execution_count": 7,
   "metadata": {},
   "outputs": [
    {
     "name": "stderr",
     "output_type": "stream",
     "text": [
      "/braintree/home/jjpr/anaconda3/envs/mkgu_packaging/lib/python3.6/site-packages/xarray/core/dtypes.py:23: FutureWarning: Conversion of the second argument of issubdtype from `float` to `np.floating` is deprecated. In future, it will be treated as `np.float64 == np.dtype(float).type`.\n",
      "  if np.issubdtype(dtype, float):\n"
     ]
    },
    {
     "data": {
      "text/plain": [
       "(<xarray.DataArray (x: 4, y: 6)>\n",
       " array([[-0.677337, -0.777142,  0.916852,       nan,       nan,       nan],\n",
       "        [-0.31313 ,  0.341775, -0.416006,       nan,       nan,       nan],\n",
       "        [      nan,       nan,       nan,       nan,       nan,       nan],\n",
       "        [      nan,       nan,       nan,       nan,       nan,       nan]])\n",
       " Coordinates:\n",
       "   * x        (x) object 'a' 'b' 'c' 'd'\n",
       "   * y        (y) int64 10 20 30 40 50 60, <xarray.DataArray (x: 4, y: 6)>\n",
       " array([[      nan,       nan,       nan,       nan,       nan,       nan],\n",
       "        [      nan,       nan,       nan,       nan,       nan,       nan],\n",
       "        [      nan,       nan,       nan, -0.665198,  0.634057, -0.003932],\n",
       "        [      nan,       nan,       nan,  0.383107,  0.828298,  0.971749]])\n",
       " Coordinates:\n",
       "   * x        (x) object 'a' 'b' 'c' 'd'\n",
       "   * y        (y) int64 10 20 30 40 50 60, <xarray.DataArray (x: 4, y: 6)>\n",
       " array([[      nan,       nan,       nan,       nan,       nan,       nan],\n",
       "        [      nan,       nan,  0.648664, -1.197077,       nan,       nan],\n",
       "        [      nan,       nan, -1.234978, -0.125411,       nan,       nan],\n",
       "        [      nan,       nan,       nan,       nan,       nan,       nan]])\n",
       " Coordinates:\n",
       "   * x        (x) object 'a' 'b' 'c' 'd'\n",
       "   * y        (y) int64 10 20 30 40 50 60)"
      ]
     },
     "execution_count": 7,
     "metadata": {},
     "output_type": "execute_result"
    }
   ],
   "source": [
    "xr.align(da1, da2, da3, join=\"outer\")"
   ]
  },
  {
   "cell_type": "code",
   "execution_count": 9,
   "metadata": {},
   "outputs": [
    {
     "name": "stderr",
     "output_type": "stream",
     "text": [
      "/braintree/home/jjpr/anaconda3/envs/mkgu_packaging/lib/python3.6/site-packages/xarray/core/dtypes.py:23: FutureWarning: Conversion of the second argument of issubdtype from `float` to `np.floating` is deprecated. In future, it will be treated as `np.float64 == np.dtype(float).type`.\n",
      "  if np.issubdtype(dtype, float):\n"
     ]
    },
    {
     "data": {
      "text/plain": [
       "<xarray.DataArray (x: 4, y: 18)>\n",
       "array([[-0.677337, -0.777142,  0.916852,       nan,       nan,       nan,\n",
       "              nan,       nan,       nan,       nan,       nan,       nan,\n",
       "              nan,       nan,       nan,       nan,       nan,       nan],\n",
       "       [-0.31313 ,  0.341775, -0.416006,       nan,       nan,       nan,\n",
       "              nan,       nan,       nan,       nan,       nan,       nan,\n",
       "              nan,       nan,  0.648664, -1.197077,       nan,       nan],\n",
       "       [      nan,       nan,       nan,       nan,       nan,       nan,\n",
       "              nan,       nan,       nan, -0.665198,  0.634057, -0.003932,\n",
       "              nan,       nan, -1.234978, -0.125411,       nan,       nan],\n",
       "       [      nan,       nan,       nan,       nan,       nan,       nan,\n",
       "              nan,       nan,       nan,  0.383107,  0.828298,  0.971749,\n",
       "              nan,       nan,       nan,       nan,       nan,       nan]])\n",
       "Coordinates:\n",
       "  * x        (x) object 'a' 'b' 'c' 'd'\n",
       "  * y        (y) int64 10 20 30 40 50 60 10 20 30 40 50 60 10 20 30 40 50 60"
      ]
     },
     "execution_count": 9,
     "metadata": {},
     "output_type": "execute_result"
    }
   ],
   "source": [
    "xr.concat(xr.align(da1, da2, da3, join=\"outer\"), dim=\"y\")"
   ]
  },
  {
   "cell_type": "code",
   "execution_count": null,
   "metadata": {},
   "outputs": [],
   "source": []
  }
 ],
 "metadata": {
  "kernelspec": {
   "display_name": "mkgu_packaging",
   "language": "python",
   "name": "mkgu_packaging"
  },
  "language_info": {
   "codemirror_mode": {
    "name": "ipython",
    "version": 3
   },
   "file_extension": ".py",
   "mimetype": "text/x-python",
   "name": "python",
   "nbconvert_exporter": "python",
   "pygments_lexer": "ipython3",
   "version": "3.6.4"
  }
 },
 "nbformat": 4,
 "nbformat_minor": 2
}
