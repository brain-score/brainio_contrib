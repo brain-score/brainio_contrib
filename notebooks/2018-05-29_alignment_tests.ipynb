{
 "cells": [
  {
   "cell_type": "code",
   "execution_count": 2,
   "metadata": {},
   "outputs": [],
   "source": [
    "import numpy as np\n",
    "import xarray as xr"
   ]
  },
  {
   "cell_type": "code",
   "execution_count": 3,
   "metadata": {},
   "outputs": [
    {
     "data": {
      "text/plain": [
       "<xarray.DataArray (x: 2, y: 3)>\n",
       "array([[-0.677337, -0.777142,  0.916852],\n",
       "       [-0.31313 ,  0.341775, -0.416006]])\n",
       "Coordinates:\n",
       "  * x        (x) <U1 'a' 'b'\n",
       "  * y        (y) int64 10 20 30"
      ]
     },
     "execution_count": 3,
     "metadata": {},
     "output_type": "execute_result"
    }
   ],
   "source": [
    "da1 = xr.DataArray(np.random.randn(2, 3), [('x', ['a', 'b']), ('y', [10, 20, 30])])\n",
    "da1"
   ]
  },
  {
   "cell_type": "code",
   "execution_count": 4,
   "metadata": {},
   "outputs": [
    {
     "data": {
      "text/plain": [
       "<xarray.DataArray (x: 2, y: 3)>\n",
       "array([[-0.665198,  0.634057, -0.003932],\n",
       "       [ 0.383107,  0.828298,  0.971749]])\n",
       "Coordinates:\n",
       "  * x        (x) <U1 'c' 'd'\n",
       "  * y        (y) int64 40 50 60"
      ]
     },
     "execution_count": 4,
     "metadata": {},
     "output_type": "execute_result"
    }
   ],
   "source": [
    "da2 = xr.DataArray(np.random.randn(2, 3), [('x', ['c', 'd']), ('y', [40, 50, 60])])\n",
    "da2"
   ]
  },
  {
   "cell_type": "code",
   "execution_count": 5,
   "metadata": {},
   "outputs": [
    {
     "data": {
      "text/plain": [
       "<xarray.DataArray (x: 2, y: 2)>\n",
       "array([[ 0.648664, -1.197077],\n",
       "       [-1.234978, -0.125411]])\n",
       "Coordinates:\n",
       "  * x        (x) <U1 'b' 'c'\n",
       "  * y        (y) int64 30 40"
      ]
     },
     "execution_count": 5,
     "metadata": {},
     "output_type": "execute_result"
    }
   ],
   "source": [
    "da3 = xr.DataArray(np.random.randn(2, 2), [('x', ['b', 'c']), ('y', [30, 40])])\n",
    "da3"
   ]
  },
  {
   "cell_type": "code",
   "execution_count": 6,
   "metadata": {},
   "outputs": [
    {
     "name": "stderr",
     "output_type": "stream",
     "text": [
      "/braintree/home/jjpr/anaconda3/envs/mkgu_packaging/lib/python3.6/site-packages/xarray/core/dtypes.py:23: FutureWarning: Conversion of the second argument of issubdtype from `float` to `np.floating` is deprecated. In future, it will be treated as `np.float64 == np.dtype(float).type`.\n",
      "  if np.issubdtype(dtype, float):\n"
     ]
    },
    {
     "data": {
      "text/plain": [
       "(<xarray.DataArray (x: 4, y: 6)>\n",
       " array([[-0.677337, -0.777142,  0.916852,       nan,       nan,       nan],\n",
       "        [-0.31313 ,  0.341775, -0.416006,       nan,       nan,       nan],\n",
       "        [      nan,       nan,       nan,       nan,       nan,       nan],\n",
       "        [      nan,       nan,       nan,       nan,       nan,       nan]])\n",
       " Coordinates:\n",
       "   * x        (x) object 'a' 'b' 'c' 'd'\n",
       "   * y        (y) int64 10 20 30 40 50 60, <xarray.DataArray (x: 4, y: 6)>\n",
       " array([[      nan,       nan,       nan,       nan,       nan,       nan],\n",
       "        [      nan,       nan,       nan,       nan,       nan,       nan],\n",
       "        [      nan,       nan,       nan, -0.665198,  0.634057, -0.003932],\n",
       "        [      nan,       nan,       nan,  0.383107,  0.828298,  0.971749]])\n",
       " Coordinates:\n",
       "   * x        (x) object 'a' 'b' 'c' 'd'\n",
       "   * y        (y) int64 10 20 30 40 50 60)"
      ]
     },
     "execution_count": 6,
     "metadata": {},
     "output_type": "execute_result"
    }
   ],
   "source": [
    "xr.align(da1, da2, join=\"outer\")"
   ]
  },
  {
   "cell_type": "code",
   "execution_count": 7,
   "metadata": {},
   "outputs": [
    {
     "name": "stderr",
     "output_type": "stream",
     "text": [
      "/braintree/home/jjpr/anaconda3/envs/mkgu_packaging/lib/python3.6/site-packages/xarray/core/dtypes.py:23: FutureWarning: Conversion of the second argument of issubdtype from `float` to `np.floating` is deprecated. In future, it will be treated as `np.float64 == np.dtype(float).type`.\n",
      "  if np.issubdtype(dtype, float):\n"
     ]
    },
    {
     "data": {
      "text/plain": [
       "(<xarray.DataArray (x: 4, y: 6)>\n",
       " array([[-0.677337, -0.777142,  0.916852,       nan,       nan,       nan],\n",
       "        [-0.31313 ,  0.341775, -0.416006,       nan,       nan,       nan],\n",
       "        [      nan,       nan,       nan,       nan,       nan,       nan],\n",
       "        [      nan,       nan,       nan,       nan,       nan,       nan]])\n",
       " Coordinates:\n",
       "   * x        (x) object 'a' 'b' 'c' 'd'\n",
       "   * y        (y) int64 10 20 30 40 50 60, <xarray.DataArray (x: 4, y: 6)>\n",
       " array([[      nan,       nan,       nan,       nan,       nan,       nan],\n",
       "        [      nan,       nan,       nan,       nan,       nan,       nan],\n",
       "        [      nan,       nan,       nan, -0.665198,  0.634057, -0.003932],\n",
       "        [      nan,       nan,       nan,  0.383107,  0.828298,  0.971749]])\n",
       " Coordinates:\n",
       "   * x        (x) object 'a' 'b' 'c' 'd'\n",
       "   * y        (y) int64 10 20 30 40 50 60, <xarray.DataArray (x: 4, y: 6)>\n",
       " array([[      nan,       nan,       nan,       nan,       nan,       nan],\n",
       "        [      nan,       nan,  0.648664, -1.197077,       nan,       nan],\n",
       "        [      nan,       nan, -1.234978, -0.125411,       nan,       nan],\n",
       "        [      nan,       nan,       nan,       nan,       nan,       nan]])\n",
       " Coordinates:\n",
       "   * x        (x) object 'a' 'b' 'c' 'd'\n",
       "   * y        (y) int64 10 20 30 40 50 60)"
      ]
     },
     "execution_count": 7,
     "metadata": {},
     "output_type": "execute_result"
    }
   ],
   "source": [
    "xr.align(da1, da2, da3, join=\"outer\")"
   ]
  },
  {
   "cell_type": "code",
   "execution_count": 9,
   "metadata": {},
   "outputs": [
    {
     "name": "stderr",
     "output_type": "stream",
     "text": [
      "/braintree/home/jjpr/anaconda3/envs/mkgu_packaging/lib/python3.6/site-packages/xarray/core/dtypes.py:23: FutureWarning: Conversion of the second argument of issubdtype from `float` to `np.floating` is deprecated. In future, it will be treated as `np.float64 == np.dtype(float).type`.\n",
      "  if np.issubdtype(dtype, float):\n"
     ]
    },
    {
     "data": {
      "text/plain": [
       "<xarray.DataArray (x: 4, y: 18)>\n",
       "array([[-0.677337, -0.777142,  0.916852,       nan,       nan,       nan,\n",
       "              nan,       nan,       nan,       nan,       nan,       nan,\n",
       "              nan,       nan,       nan,       nan,       nan,       nan],\n",
       "       [-0.31313 ,  0.341775, -0.416006,       nan,       nan,       nan,\n",
       "              nan,       nan,       nan,       nan,       nan,       nan,\n",
       "              nan,       nan,  0.648664, -1.197077,       nan,       nan],\n",
       "       [      nan,       nan,       nan,       nan,       nan,       nan,\n",
       "              nan,       nan,       nan, -0.665198,  0.634057, -0.003932,\n",
       "              nan,       nan, -1.234978, -0.125411,       nan,       nan],\n",
       "       [      nan,       nan,       nan,       nan,       nan,       nan,\n",
       "              nan,       nan,       nan,  0.383107,  0.828298,  0.971749,\n",
       "              nan,       nan,       nan,       nan,       nan,       nan]])\n",
       "Coordinates:\n",
       "  * x        (x) object 'a' 'b' 'c' 'd'\n",
       "  * y        (y) int64 10 20 30 40 50 60 10 20 30 40 50 60 10 20 30 40 50 60"
      ]
     },
     "execution_count": 9,
     "metadata": {},
     "output_type": "execute_result"
    }
   ],
   "source": [
    "xr.concat(xr.align(da1, da2, da3, join=\"outer\"), dim=\"y\")"
   ]
  },
  {
   "cell_type": "code",
   "execution_count": 10,
   "metadata": {},
   "outputs": [
    {
     "ename": "ValueError",
     "evalue": "unable to convert unnamed DataArray to a Dataset without providing an explicit name",
     "output_type": "error",
     "traceback": [
      "\u001b[0;31m---------------------------------------------------------------------------\u001b[0m",
      "\u001b[0;31mValueError\u001b[0m                                Traceback (most recent call last)",
      "\u001b[0;32m<ipython-input-10-ff3ba28de56d>\u001b[0m in \u001b[0;36m<module>\u001b[0;34m()\u001b[0m\n\u001b[0;32m----> 1\u001b[0;31m \u001b[0mxr\u001b[0m\u001b[0;34m.\u001b[0m\u001b[0mmerge\u001b[0m\u001b[0;34m(\u001b[0m\u001b[0;34m[\u001b[0m\u001b[0mda1\u001b[0m\u001b[0;34m,\u001b[0m \u001b[0mda2\u001b[0m\u001b[0;34m,\u001b[0m \u001b[0mda3\u001b[0m\u001b[0;34m]\u001b[0m\u001b[0;34m)\u001b[0m\u001b[0;34m\u001b[0m\u001b[0m\n\u001b[0m",
      "\u001b[0;32m~/anaconda3/envs/mkgu_packaging/lib/python3.6/site-packages/xarray/core/merge.py\u001b[0m in \u001b[0;36mmerge\u001b[0;34m(objects, compat, join)\u001b[0m\n\u001b[1;32m    509\u001b[0m \u001b[0;34m\u001b[0m\u001b[0m\n\u001b[1;32m    510\u001b[0m     dict_like_objects = [obj.to_dataset() if isinstance(obj, DataArray) else obj\n\u001b[0;32m--> 511\u001b[0;31m                          for obj in objects]\n\u001b[0m\u001b[1;32m    512\u001b[0m \u001b[0;34m\u001b[0m\u001b[0m\n\u001b[1;32m    513\u001b[0m     \u001b[0mvariables\u001b[0m\u001b[0;34m,\u001b[0m \u001b[0mcoord_names\u001b[0m\u001b[0;34m,\u001b[0m \u001b[0mdims\u001b[0m \u001b[0;34m=\u001b[0m \u001b[0mmerge_core\u001b[0m\u001b[0;34m(\u001b[0m\u001b[0mdict_like_objects\u001b[0m\u001b[0;34m,\u001b[0m \u001b[0mcompat\u001b[0m\u001b[0;34m,\u001b[0m \u001b[0mjoin\u001b[0m\u001b[0;34m)\u001b[0m\u001b[0;34m\u001b[0m\u001b[0m\n",
      "\u001b[0;32m~/anaconda3/envs/mkgu_packaging/lib/python3.6/site-packages/xarray/core/merge.py\u001b[0m in \u001b[0;36m<listcomp>\u001b[0;34m(.0)\u001b[0m\n\u001b[1;32m    509\u001b[0m \u001b[0;34m\u001b[0m\u001b[0m\n\u001b[1;32m    510\u001b[0m     dict_like_objects = [obj.to_dataset() if isinstance(obj, DataArray) else obj\n\u001b[0;32m--> 511\u001b[0;31m                          for obj in objects]\n\u001b[0m\u001b[1;32m    512\u001b[0m \u001b[0;34m\u001b[0m\u001b[0m\n\u001b[1;32m    513\u001b[0m     \u001b[0mvariables\u001b[0m\u001b[0;34m,\u001b[0m \u001b[0mcoord_names\u001b[0m\u001b[0;34m,\u001b[0m \u001b[0mdims\u001b[0m \u001b[0;34m=\u001b[0m \u001b[0mmerge_core\u001b[0m\u001b[0;34m(\u001b[0m\u001b[0mdict_like_objects\u001b[0m\u001b[0;34m,\u001b[0m \u001b[0mcompat\u001b[0m\u001b[0;34m,\u001b[0m \u001b[0mjoin\u001b[0m\u001b[0;34m)\u001b[0m\u001b[0;34m\u001b[0m\u001b[0m\n",
      "\u001b[0;32m~/anaconda3/envs/mkgu_packaging/lib/python3.6/site-packages/xarray/core/dataarray.py\u001b[0m in \u001b[0;36mto_dataset\u001b[0;34m(self, dim, name)\u001b[0m\n\u001b[1;32m    359\u001b[0m             \u001b[0;32mreturn\u001b[0m \u001b[0mself\u001b[0m\u001b[0;34m.\u001b[0m\u001b[0m_to_dataset_split\u001b[0m\u001b[0;34m(\u001b[0m\u001b[0mdim\u001b[0m\u001b[0;34m)\u001b[0m\u001b[0;34m\u001b[0m\u001b[0m\n\u001b[1;32m    360\u001b[0m         \u001b[0;32melse\u001b[0m\u001b[0;34m:\u001b[0m\u001b[0;34m\u001b[0m\u001b[0m\n\u001b[0;32m--> 361\u001b[0;31m             \u001b[0;32mreturn\u001b[0m \u001b[0mself\u001b[0m\u001b[0;34m.\u001b[0m\u001b[0m_to_dataset_whole\u001b[0m\u001b[0;34m(\u001b[0m\u001b[0mname\u001b[0m\u001b[0;34m)\u001b[0m\u001b[0;34m\u001b[0m\u001b[0m\n\u001b[0m\u001b[1;32m    362\u001b[0m \u001b[0;34m\u001b[0m\u001b[0m\n\u001b[1;32m    363\u001b[0m     \u001b[0;34m@\u001b[0m\u001b[0mproperty\u001b[0m\u001b[0;34m\u001b[0m\u001b[0m\n",
      "\u001b[0;32m~/anaconda3/envs/mkgu_packaging/lib/python3.6/site-packages/xarray/core/dataarray.py\u001b[0m in \u001b[0;36m_to_dataset_whole\u001b[0;34m(self, name, shallow_copy)\u001b[0m\n\u001b[1;32m    313\u001b[0m             \u001b[0mname\u001b[0m \u001b[0;34m=\u001b[0m \u001b[0mself\u001b[0m\u001b[0;34m.\u001b[0m\u001b[0mname\u001b[0m\u001b[0;34m\u001b[0m\u001b[0m\n\u001b[1;32m    314\u001b[0m         \u001b[0;32mif\u001b[0m \u001b[0mname\u001b[0m \u001b[0;32mis\u001b[0m \u001b[0;32mNone\u001b[0m\u001b[0;34m:\u001b[0m\u001b[0;34m\u001b[0m\u001b[0m\n\u001b[0;32m--> 315\u001b[0;31m             raise ValueError('unable to convert unnamed DataArray to a '\n\u001b[0m\u001b[1;32m    316\u001b[0m                              'Dataset without providing an explicit name')\n\u001b[1;32m    317\u001b[0m         \u001b[0;32mif\u001b[0m \u001b[0mname\u001b[0m \u001b[0;32min\u001b[0m \u001b[0mself\u001b[0m\u001b[0;34m.\u001b[0m\u001b[0mcoords\u001b[0m\u001b[0;34m:\u001b[0m\u001b[0;34m\u001b[0m\u001b[0m\n",
      "\u001b[0;31mValueError\u001b[0m: unable to convert unnamed DataArray to a Dataset without providing an explicit name"
     ]
    }
   ],
   "source": [
    "xr.merge([da1, da2, da3])"
   ]
  },
  {
   "cell_type": "code",
   "execution_count": 13,
   "metadata": {},
   "outputs": [
    {
     "name": "stderr",
     "output_type": "stream",
     "text": [
      "/braintree/home/jjpr/anaconda3/envs/mkgu_packaging/lib/python3.6/site-packages/xarray/core/dtypes.py:23: FutureWarning: Conversion of the second argument of issubdtype from `float` to `np.floating` is deprecated. In future, it will be treated as `np.float64 == np.dtype(float).type`.\n",
      "  if np.issubdtype(dtype, float):\n"
     ]
    },
    {
     "ename": "ValueError",
     "evalue": "unable to convert unnamed DataArray to a Dataset without providing an explicit name",
     "output_type": "error",
     "traceback": [
      "\u001b[0;31m---------------------------------------------------------------------------\u001b[0m",
      "\u001b[0;31mValueError\u001b[0m                                Traceback (most recent call last)",
      "\u001b[0;32m<ipython-input-13-d424008877bf>\u001b[0m in \u001b[0;36m<module>\u001b[0;34m()\u001b[0m\n\u001b[0;32m----> 1\u001b[0;31m \u001b[0mxr\u001b[0m\u001b[0;34m.\u001b[0m\u001b[0mmerge\u001b[0m\u001b[0;34m(\u001b[0m\u001b[0mxr\u001b[0m\u001b[0;34m.\u001b[0m\u001b[0malign\u001b[0m\u001b[0;34m(\u001b[0m\u001b[0mda1\u001b[0m\u001b[0;34m,\u001b[0m \u001b[0mda2\u001b[0m\u001b[0;34m,\u001b[0m \u001b[0mda3\u001b[0m\u001b[0;34m,\u001b[0m \u001b[0mjoin\u001b[0m\u001b[0;34m=\u001b[0m\u001b[0;34m\"outer\"\u001b[0m\u001b[0;34m)\u001b[0m\u001b[0;34m)\u001b[0m\u001b[0;34m\u001b[0m\u001b[0m\n\u001b[0m",
      "\u001b[0;32m~/anaconda3/envs/mkgu_packaging/lib/python3.6/site-packages/xarray/core/merge.py\u001b[0m in \u001b[0;36mmerge\u001b[0;34m(objects, compat, join)\u001b[0m\n\u001b[1;32m    509\u001b[0m \u001b[0;34m\u001b[0m\u001b[0m\n\u001b[1;32m    510\u001b[0m     dict_like_objects = [obj.to_dataset() if isinstance(obj, DataArray) else obj\n\u001b[0;32m--> 511\u001b[0;31m                          for obj in objects]\n\u001b[0m\u001b[1;32m    512\u001b[0m \u001b[0;34m\u001b[0m\u001b[0m\n\u001b[1;32m    513\u001b[0m     \u001b[0mvariables\u001b[0m\u001b[0;34m,\u001b[0m \u001b[0mcoord_names\u001b[0m\u001b[0;34m,\u001b[0m \u001b[0mdims\u001b[0m \u001b[0;34m=\u001b[0m \u001b[0mmerge_core\u001b[0m\u001b[0;34m(\u001b[0m\u001b[0mdict_like_objects\u001b[0m\u001b[0;34m,\u001b[0m \u001b[0mcompat\u001b[0m\u001b[0;34m,\u001b[0m \u001b[0mjoin\u001b[0m\u001b[0;34m)\u001b[0m\u001b[0;34m\u001b[0m\u001b[0m\n",
      "\u001b[0;32m~/anaconda3/envs/mkgu_packaging/lib/python3.6/site-packages/xarray/core/merge.py\u001b[0m in \u001b[0;36m<listcomp>\u001b[0;34m(.0)\u001b[0m\n\u001b[1;32m    509\u001b[0m \u001b[0;34m\u001b[0m\u001b[0m\n\u001b[1;32m    510\u001b[0m     dict_like_objects = [obj.to_dataset() if isinstance(obj, DataArray) else obj\n\u001b[0;32m--> 511\u001b[0;31m                          for obj in objects]\n\u001b[0m\u001b[1;32m    512\u001b[0m \u001b[0;34m\u001b[0m\u001b[0m\n\u001b[1;32m    513\u001b[0m     \u001b[0mvariables\u001b[0m\u001b[0;34m,\u001b[0m \u001b[0mcoord_names\u001b[0m\u001b[0;34m,\u001b[0m \u001b[0mdims\u001b[0m \u001b[0;34m=\u001b[0m \u001b[0mmerge_core\u001b[0m\u001b[0;34m(\u001b[0m\u001b[0mdict_like_objects\u001b[0m\u001b[0;34m,\u001b[0m \u001b[0mcompat\u001b[0m\u001b[0;34m,\u001b[0m \u001b[0mjoin\u001b[0m\u001b[0;34m)\u001b[0m\u001b[0;34m\u001b[0m\u001b[0m\n",
      "\u001b[0;32m~/anaconda3/envs/mkgu_packaging/lib/python3.6/site-packages/xarray/core/dataarray.py\u001b[0m in \u001b[0;36mto_dataset\u001b[0;34m(self, dim, name)\u001b[0m\n\u001b[1;32m    359\u001b[0m             \u001b[0;32mreturn\u001b[0m \u001b[0mself\u001b[0m\u001b[0;34m.\u001b[0m\u001b[0m_to_dataset_split\u001b[0m\u001b[0;34m(\u001b[0m\u001b[0mdim\u001b[0m\u001b[0;34m)\u001b[0m\u001b[0;34m\u001b[0m\u001b[0m\n\u001b[1;32m    360\u001b[0m         \u001b[0;32melse\u001b[0m\u001b[0;34m:\u001b[0m\u001b[0;34m\u001b[0m\u001b[0m\n\u001b[0;32m--> 361\u001b[0;31m             \u001b[0;32mreturn\u001b[0m \u001b[0mself\u001b[0m\u001b[0;34m.\u001b[0m\u001b[0m_to_dataset_whole\u001b[0m\u001b[0;34m(\u001b[0m\u001b[0mname\u001b[0m\u001b[0;34m)\u001b[0m\u001b[0;34m\u001b[0m\u001b[0m\n\u001b[0m\u001b[1;32m    362\u001b[0m \u001b[0;34m\u001b[0m\u001b[0m\n\u001b[1;32m    363\u001b[0m     \u001b[0;34m@\u001b[0m\u001b[0mproperty\u001b[0m\u001b[0;34m\u001b[0m\u001b[0m\n",
      "\u001b[0;32m~/anaconda3/envs/mkgu_packaging/lib/python3.6/site-packages/xarray/core/dataarray.py\u001b[0m in \u001b[0;36m_to_dataset_whole\u001b[0;34m(self, name, shallow_copy)\u001b[0m\n\u001b[1;32m    313\u001b[0m             \u001b[0mname\u001b[0m \u001b[0;34m=\u001b[0m \u001b[0mself\u001b[0m\u001b[0;34m.\u001b[0m\u001b[0mname\u001b[0m\u001b[0;34m\u001b[0m\u001b[0m\n\u001b[1;32m    314\u001b[0m         \u001b[0;32mif\u001b[0m \u001b[0mname\u001b[0m \u001b[0;32mis\u001b[0m \u001b[0;32mNone\u001b[0m\u001b[0;34m:\u001b[0m\u001b[0;34m\u001b[0m\u001b[0m\n\u001b[0;32m--> 315\u001b[0;31m             raise ValueError('unable to convert unnamed DataArray to a '\n\u001b[0m\u001b[1;32m    316\u001b[0m                              'Dataset without providing an explicit name')\n\u001b[1;32m    317\u001b[0m         \u001b[0;32mif\u001b[0m \u001b[0mname\u001b[0m \u001b[0;32min\u001b[0m \u001b[0mself\u001b[0m\u001b[0;34m.\u001b[0m\u001b[0mcoords\u001b[0m\u001b[0;34m:\u001b[0m\u001b[0;34m\u001b[0m\u001b[0m\n",
      "\u001b[0;31mValueError\u001b[0m: unable to convert unnamed DataArray to a Dataset without providing an explicit name"
     ]
    }
   ],
   "source": [
    "xr.merge(xr.align(da1, da2, da3, join=\"outer\"))"
   ]
  },
  {
   "cell_type": "code",
   "execution_count": 11,
   "metadata": {},
   "outputs": [
    {
     "name": "stderr",
     "output_type": "stream",
     "text": [
      "/braintree/home/jjpr/anaconda3/envs/mkgu_packaging/lib/python3.6/site-packages/xarray/core/dtypes.py:23: FutureWarning: Conversion of the second argument of issubdtype from `float` to `np.floating` is deprecated. In future, it will be treated as `np.float64 == np.dtype(float).type`.\n",
      "  if np.issubdtype(dtype, float):\n"
     ]
    },
    {
     "data": {
      "text/plain": [
       "<xarray.DataArray (x: 4, y: 6)>\n",
       "array([[-0.677337, -0.777142,  0.916852,       nan,       nan,       nan],\n",
       "       [-0.31313 ,  0.341775, -0.416006,       nan,       nan,       nan],\n",
       "       [      nan,       nan,       nan, -0.665198,  0.634057, -0.003932],\n",
       "       [      nan,       nan,       nan,  0.383107,  0.828298,  0.971749]])\n",
       "Coordinates:\n",
       "  * x        (x) object 'a' 'b' 'c' 'd'\n",
       "  * y        (y) int64 10 20 30 40 50 60"
      ]
     },
     "execution_count": 11,
     "metadata": {},
     "output_type": "execute_result"
    }
   ],
   "source": [
    "da1.combine_first(da2)"
   ]
  },
  {
   "cell_type": "code",
   "execution_count": 12,
   "metadata": {},
   "outputs": [
    {
     "name": "stderr",
     "output_type": "stream",
     "text": [
      "/braintree/home/jjpr/anaconda3/envs/mkgu_packaging/lib/python3.6/site-packages/xarray/core/dtypes.py:23: FutureWarning: Conversion of the second argument of issubdtype from `float` to `np.floating` is deprecated. In future, it will be treated as `np.float64 == np.dtype(float).type`.\n",
      "  if np.issubdtype(dtype, float):\n"
     ]
    },
    {
     "data": {
      "text/plain": [
       "<xarray.DataArray (x: 3, y: 4)>\n",
       "array([[-0.677337, -0.777142,  0.916852,       nan],\n",
       "       [-0.31313 ,  0.341775, -0.416006, -1.197077],\n",
       "       [      nan,       nan, -1.234978, -0.125411]])\n",
       "Coordinates:\n",
       "  * x        (x) object 'a' 'b' 'c'\n",
       "  * y        (y) int64 10 20 30 40"
      ]
     },
     "execution_count": 12,
     "metadata": {},
     "output_type": "execute_result"
    }
   ],
   "source": [
    "da1.combine_first(da3)"
   ]
  },
  {
   "cell_type": "code",
   "execution_count": 14,
   "metadata": {},
   "outputs": [],
   "source": [
    "da1.name = \"da1\"\n",
    "da2.name = \"da2\"\n",
    "da3.name = \"da3\""
   ]
  },
  {
   "cell_type": "code",
   "execution_count": 15,
   "metadata": {},
   "outputs": [
    {
     "name": "stderr",
     "output_type": "stream",
     "text": [
      "/braintree/home/jjpr/anaconda3/envs/mkgu_packaging/lib/python3.6/site-packages/xarray/core/dtypes.py:23: FutureWarning: Conversion of the second argument of issubdtype from `float` to `np.floating` is deprecated. In future, it will be treated as `np.float64 == np.dtype(float).type`.\n",
      "  if np.issubdtype(dtype, float):\n"
     ]
    },
    {
     "data": {
      "text/plain": [
       "<xarray.Dataset>\n",
       "Dimensions:  (x: 4, y: 6)\n",
       "Coordinates:\n",
       "  * x        (x) object 'a' 'b' 'c' 'd'\n",
       "  * y        (y) int64 10 20 30 40 50 60\n",
       "Data variables:\n",
       "    da1      (x, y) float64 -0.6773 -0.7771 0.9169 nan nan nan -0.3131 ...\n",
       "    da2      (x, y) float64 nan nan nan nan nan nan nan nan nan nan nan nan ...\n",
       "    da3      (x, y) float64 nan nan nan nan nan nan nan nan 0.6487 -1.197 ..."
      ]
     },
     "execution_count": 15,
     "metadata": {},
     "output_type": "execute_result"
    }
   ],
   "source": [
    "xr.merge([da1, da2, da3])"
   ]
  },
  {
   "cell_type": "code",
   "execution_count": null,
   "metadata": {},
   "outputs": [],
   "source": []
  }
 ],
 "metadata": {
  "kernelspec": {
   "display_name": "mkgu_packaging",
   "language": "python",
   "name": "mkgu_packaging"
  },
  "language_info": {
   "codemirror_mode": {
    "name": "ipython",
    "version": 3
   },
   "file_extension": ".py",
   "mimetype": "text/x-python",
   "name": "python",
   "nbconvert_exporter": "python",
   "pygments_lexer": "ipython3",
   "version": "3.6.4"
  }
 },
 "nbformat": 4,
 "nbformat_minor": 2
}
