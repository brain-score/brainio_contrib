{
 "cells": [
  {
   "cell_type": "code",
   "execution_count": 2,
   "metadata": {},
   "outputs": [],
   "source": [
    "import numpy as np\n",
    "import xarray as xr"
   ]
  },
  {
   "cell_type": "code",
   "execution_count": 3,
   "metadata": {},
   "outputs": [
    {
     "data": {
      "text/plain": [
       "<xarray.DataArray (x: 2, y: 3)>\n",
       "array([[-0.677337, -0.777142,  0.916852],\n",
       "       [-0.31313 ,  0.341775, -0.416006]])\n",
       "Coordinates:\n",
       "  * x        (x) <U1 'a' 'b'\n",
       "  * y        (y) int64 10 20 30"
      ]
     },
     "execution_count": 3,
     "metadata": {},
     "output_type": "execute_result"
    }
   ],
   "source": [
    "da1 = xr.DataArray(np.random.randn(2, 3), [('x', ['a', 'b']), ('y', [10, 20, 30])])\n",
    "da1"
   ]
  },
  {
   "cell_type": "code",
   "execution_count": 4,
   "metadata": {},
   "outputs": [
    {
     "data": {
      "text/plain": [
       "<xarray.DataArray (x: 2, y: 3)>\n",
       "array([[-0.665198,  0.634057, -0.003932],\n",
       "       [ 0.383107,  0.828298,  0.971749]])\n",
       "Coordinates:\n",
       "  * x        (x) <U1 'c' 'd'\n",
       "  * y        (y) int64 40 50 60"
      ]
     },
     "execution_count": 4,
     "metadata": {},
     "output_type": "execute_result"
    }
   ],
   "source": [
    "da2 = xr.DataArray(np.random.randn(2, 3), [('x', ['c', 'd']), ('y', [40, 50, 60])])\n",
    "da2"
   ]
  },
  {
   "cell_type": "code",
   "execution_count": 5,
   "metadata": {},
   "outputs": [
    {
     "data": {
      "text/plain": [
       "<xarray.DataArray (x: 2, y: 2)>\n",
       "array([[ 0.648664, -1.197077],\n",
       "       [-1.234978, -0.125411]])\n",
       "Coordinates:\n",
       "  * x        (x) <U1 'b' 'c'\n",
       "  * y        (y) int64 30 40"
      ]
     },
     "execution_count": 5,
     "metadata": {},
     "output_type": "execute_result"
    }
   ],
   "source": [
    "da3 = xr.DataArray(np.random.randn(2, 2), [('x', ['b', 'c']), ('y', [30, 40])])\n",
    "da3"
   ]
  },
  {
   "cell_type": "code",
   "execution_count": 6,
   "metadata": {},
   "outputs": [
    {
     "name": "stderr",
     "output_type": "stream",
     "text": [
      "/braintree/home/jjpr/anaconda3/envs/mkgu_packaging/lib/python3.6/site-packages/xarray/core/dtypes.py:23: FutureWarning: Conversion of the second argument of issubdtype from `float` to `np.floating` is deprecated. In future, it will be treated as `np.float64 == np.dtype(float).type`.\n",
      "  if np.issubdtype(dtype, float):\n"
     ]
    },
    {
     "data": {
      "text/plain": [
       "(<xarray.DataArray (x: 4, y: 6)>\n",
       " array([[-0.677337, -0.777142,  0.916852,       nan,       nan,       nan],\n",
       "        [-0.31313 ,  0.341775, -0.416006,       nan,       nan,       nan],\n",
       "        [      nan,       nan,       nan,       nan,       nan,       nan],\n",
       "        [      nan,       nan,       nan,       nan,       nan,       nan]])\n",
       " Coordinates:\n",
       "   * x        (x) object 'a' 'b' 'c' 'd'\n",
       "   * y        (y) int64 10 20 30 40 50 60, <xarray.DataArray (x: 4, y: 6)>\n",
       " array([[      nan,       nan,       nan,       nan,       nan,       nan],\n",
       "        [      nan,       nan,       nan,       nan,       nan,       nan],\n",
       "        [      nan,       nan,       nan, -0.665198,  0.634057, -0.003932],\n",
       "        [      nan,       nan,       nan,  0.383107,  0.828298,  0.971749]])\n",
       " Coordinates:\n",
       "   * x        (x) object 'a' 'b' 'c' 'd'\n",
       "   * y        (y) int64 10 20 30 40 50 60)"
      ]
     },
     "execution_count": 6,
     "metadata": {},
     "output_type": "execute_result"
    }
   ],
   "source": [
    "xr.align(da1, da2, join=\"outer\")"
   ]
  },
  {
   "cell_type": "code",
   "execution_count": 7,
   "metadata": {},
   "outputs": [
    {
     "name": "stderr",
     "output_type": "stream",
     "text": [
      "/braintree/home/jjpr/anaconda3/envs/mkgu_packaging/lib/python3.6/site-packages/xarray/core/dtypes.py:23: FutureWarning: Conversion of the second argument of issubdtype from `float` to `np.floating` is deprecated. In future, it will be treated as `np.float64 == np.dtype(float).type`.\n",
      "  if np.issubdtype(dtype, float):\n"
     ]
    },
    {
     "data": {
      "text/plain": [
       "(<xarray.DataArray (x: 4, y: 6)>\n",
       " array([[-0.677337, -0.777142,  0.916852,       nan,       nan,       nan],\n",
       "        [-0.31313 ,  0.341775, -0.416006,       nan,       nan,       nan],\n",
       "        [      nan,       nan,       nan,       nan,       nan,       nan],\n",
       "        [      nan,       nan,       nan,       nan,       nan,       nan]])\n",
       " Coordinates:\n",
       "   * x        (x) object 'a' 'b' 'c' 'd'\n",
       "   * y        (y) int64 10 20 30 40 50 60, <xarray.DataArray (x: 4, y: 6)>\n",
       " array([[      nan,       nan,       nan,       nan,       nan,       nan],\n",
       "        [      nan,       nan,       nan,       nan,       nan,       nan],\n",
       "        [      nan,       nan,       nan, -0.665198,  0.634057, -0.003932],\n",
       "        [      nan,       nan,       nan,  0.383107,  0.828298,  0.971749]])\n",
       " Coordinates:\n",
       "   * x        (x) object 'a' 'b' 'c' 'd'\n",
       "   * y        (y) int64 10 20 30 40 50 60, <xarray.DataArray (x: 4, y: 6)>\n",
       " array([[      nan,       nan,       nan,       nan,       nan,       nan],\n",
       "        [      nan,       nan,  0.648664, -1.197077,       nan,       nan],\n",
       "        [      nan,       nan, -1.234978, -0.125411,       nan,       nan],\n",
       "        [      nan,       nan,       nan,       nan,       nan,       nan]])\n",
       " Coordinates:\n",
       "   * x        (x) object 'a' 'b' 'c' 'd'\n",
       "   * y        (y) int64 10 20 30 40 50 60)"
      ]
     },
     "execution_count": 7,
     "metadata": {},
     "output_type": "execute_result"
    }
   ],
   "source": [
    "xr.align(da1, da2, da3, join=\"outer\")"
   ]
  },
  {
   "cell_type": "code",
   "execution_count": 9,
   "metadata": {},
   "outputs": [
    {
     "name": "stderr",
     "output_type": "stream",
     "text": [
      "/braintree/home/jjpr/anaconda3/envs/mkgu_packaging/lib/python3.6/site-packages/xarray/core/dtypes.py:23: FutureWarning: Conversion of the second argument of issubdtype from `float` to `np.floating` is deprecated. In future, it will be treated as `np.float64 == np.dtype(float).type`.\n",
      "  if np.issubdtype(dtype, float):\n"
     ]
    },
    {
     "data": {
      "text/plain": [
       "<xarray.DataArray (x: 4, y: 18)>\n",
       "array([[-0.677337, -0.777142,  0.916852,       nan,       nan,       nan,\n",
       "              nan,       nan,       nan,       nan,       nan,       nan,\n",
       "              nan,       nan,       nan,       nan,       nan,       nan],\n",
       "       [-0.31313 ,  0.341775, -0.416006,       nan,       nan,       nan,\n",
       "              nan,       nan,       nan,       nan,       nan,       nan,\n",
       "              nan,       nan,  0.648664, -1.197077,       nan,       nan],\n",
       "       [      nan,       nan,       nan,       nan,       nan,       nan,\n",
       "              nan,       nan,       nan, -0.665198,  0.634057, -0.003932,\n",
       "              nan,       nan, -1.234978, -0.125411,       nan,       nan],\n",
       "       [      nan,       nan,       nan,       nan,       nan,       nan,\n",
       "              nan,       nan,       nan,  0.383107,  0.828298,  0.971749,\n",
       "              nan,       nan,       nan,       nan,       nan,       nan]])\n",
       "Coordinates:\n",
       "  * x        (x) object 'a' 'b' 'c' 'd'\n",
       "  * y        (y) int64 10 20 30 40 50 60 10 20 30 40 50 60 10 20 30 40 50 60"
      ]
     },
     "execution_count": 9,
     "metadata": {},
     "output_type": "execute_result"
    }
   ],
   "source": [
    "xr.concat(xr.align(da1, da2, da3, join=\"outer\"), dim=\"y\")"
   ]
  },
  {
   "cell_type": "code",
   "execution_count": 10,
   "metadata": {},
   "outputs": [
    {
     "ename": "ValueError",
     "evalue": "unable to convert unnamed DataArray to a Dataset without providing an explicit name",
     "output_type": "error",
     "traceback": [
      "\u001b[0;31m---------------------------------------------------------------------------\u001b[0m",
      "\u001b[0;31mValueError\u001b[0m                                Traceback (most recent call last)",
      "\u001b[0;32m<ipython-input-10-ff3ba28de56d>\u001b[0m in \u001b[0;36m<module>\u001b[0;34m()\u001b[0m\n\u001b[0;32m----> 1\u001b[0;31m \u001b[0mxr\u001b[0m\u001b[0;34m.\u001b[0m\u001b[0mmerge\u001b[0m\u001b[0;34m(\u001b[0m\u001b[0;34m[\u001b[0m\u001b[0mda1\u001b[0m\u001b[0;34m,\u001b[0m \u001b[0mda2\u001b[0m\u001b[0;34m,\u001b[0m \u001b[0mda3\u001b[0m\u001b[0;34m]\u001b[0m\u001b[0;34m)\u001b[0m\u001b[0;34m\u001b[0m\u001b[0m\n\u001b[0m",
      "\u001b[0;32m~/anaconda3/envs/mkgu_packaging/lib/python3.6/site-packages/xarray/core/merge.py\u001b[0m in \u001b[0;36mmerge\u001b[0;34m(objects, compat, join)\u001b[0m\n\u001b[1;32m    509\u001b[0m \u001b[0;34m\u001b[0m\u001b[0m\n\u001b[1;32m    510\u001b[0m     dict_like_objects = [obj.to_dataset() if isinstance(obj, DataArray) else obj\n\u001b[0;32m--> 511\u001b[0;31m                          for obj in objects]\n\u001b[0m\u001b[1;32m    512\u001b[0m \u001b[0;34m\u001b[0m\u001b[0m\n\u001b[1;32m    513\u001b[0m     \u001b[0mvariables\u001b[0m\u001b[0;34m,\u001b[0m \u001b[0mcoord_names\u001b[0m\u001b[0;34m,\u001b[0m \u001b[0mdims\u001b[0m \u001b[0;34m=\u001b[0m \u001b[0mmerge_core\u001b[0m\u001b[0;34m(\u001b[0m\u001b[0mdict_like_objects\u001b[0m\u001b[0;34m,\u001b[0m \u001b[0mcompat\u001b[0m\u001b[0;34m,\u001b[0m \u001b[0mjoin\u001b[0m\u001b[0;34m)\u001b[0m\u001b[0;34m\u001b[0m\u001b[0m\n",
      "\u001b[0;32m~/anaconda3/envs/mkgu_packaging/lib/python3.6/site-packages/xarray/core/merge.py\u001b[0m in \u001b[0;36m<listcomp>\u001b[0;34m(.0)\u001b[0m\n\u001b[1;32m    509\u001b[0m \u001b[0;34m\u001b[0m\u001b[0m\n\u001b[1;32m    510\u001b[0m     dict_like_objects = [obj.to_dataset() if isinstance(obj, DataArray) else obj\n\u001b[0;32m--> 511\u001b[0;31m                          for obj in objects]\n\u001b[0m\u001b[1;32m    512\u001b[0m \u001b[0;34m\u001b[0m\u001b[0m\n\u001b[1;32m    513\u001b[0m     \u001b[0mvariables\u001b[0m\u001b[0;34m,\u001b[0m \u001b[0mcoord_names\u001b[0m\u001b[0;34m,\u001b[0m \u001b[0mdims\u001b[0m \u001b[0;34m=\u001b[0m \u001b[0mmerge_core\u001b[0m\u001b[0;34m(\u001b[0m\u001b[0mdict_like_objects\u001b[0m\u001b[0;34m,\u001b[0m \u001b[0mcompat\u001b[0m\u001b[0;34m,\u001b[0m \u001b[0mjoin\u001b[0m\u001b[0;34m)\u001b[0m\u001b[0;34m\u001b[0m\u001b[0m\n",
      "\u001b[0;32m~/anaconda3/envs/mkgu_packaging/lib/python3.6/site-packages/xarray/core/dataarray.py\u001b[0m in \u001b[0;36mto_dataset\u001b[0;34m(self, dim, name)\u001b[0m\n\u001b[1;32m    359\u001b[0m             \u001b[0;32mreturn\u001b[0m \u001b[0mself\u001b[0m\u001b[0;34m.\u001b[0m\u001b[0m_to_dataset_split\u001b[0m\u001b[0;34m(\u001b[0m\u001b[0mdim\u001b[0m\u001b[0;34m)\u001b[0m\u001b[0;34m\u001b[0m\u001b[0m\n\u001b[1;32m    360\u001b[0m         \u001b[0;32melse\u001b[0m\u001b[0;34m:\u001b[0m\u001b[0;34m\u001b[0m\u001b[0m\n\u001b[0;32m--> 361\u001b[0;31m             \u001b[0;32mreturn\u001b[0m \u001b[0mself\u001b[0m\u001b[0;34m.\u001b[0m\u001b[0m_to_dataset_whole\u001b[0m\u001b[0;34m(\u001b[0m\u001b[0mname\u001b[0m\u001b[0;34m)\u001b[0m\u001b[0;34m\u001b[0m\u001b[0m\n\u001b[0m\u001b[1;32m    362\u001b[0m \u001b[0;34m\u001b[0m\u001b[0m\n\u001b[1;32m    363\u001b[0m     \u001b[0;34m@\u001b[0m\u001b[0mproperty\u001b[0m\u001b[0;34m\u001b[0m\u001b[0m\n",
      "\u001b[0;32m~/anaconda3/envs/mkgu_packaging/lib/python3.6/site-packages/xarray/core/dataarray.py\u001b[0m in \u001b[0;36m_to_dataset_whole\u001b[0;34m(self, name, shallow_copy)\u001b[0m\n\u001b[1;32m    313\u001b[0m             \u001b[0mname\u001b[0m \u001b[0;34m=\u001b[0m \u001b[0mself\u001b[0m\u001b[0;34m.\u001b[0m\u001b[0mname\u001b[0m\u001b[0;34m\u001b[0m\u001b[0m\n\u001b[1;32m    314\u001b[0m         \u001b[0;32mif\u001b[0m \u001b[0mname\u001b[0m \u001b[0;32mis\u001b[0m \u001b[0;32mNone\u001b[0m\u001b[0;34m:\u001b[0m\u001b[0;34m\u001b[0m\u001b[0m\n\u001b[0;32m--> 315\u001b[0;31m             raise ValueError('unable to convert unnamed DataArray to a '\n\u001b[0m\u001b[1;32m    316\u001b[0m                              'Dataset without providing an explicit name')\n\u001b[1;32m    317\u001b[0m         \u001b[0;32mif\u001b[0m \u001b[0mname\u001b[0m \u001b[0;32min\u001b[0m \u001b[0mself\u001b[0m\u001b[0;34m.\u001b[0m\u001b[0mcoords\u001b[0m\u001b[0;34m:\u001b[0m\u001b[0;34m\u001b[0m\u001b[0m\n",
      "\u001b[0;31mValueError\u001b[0m: unable to convert unnamed DataArray to a Dataset without providing an explicit name"
     ]
    }
   ],
   "source": [
    "xr.merge([da1, da2, da3])"
   ]
  },
  {
   "cell_type": "code",
   "execution_count": 13,
   "metadata": {},
   "outputs": [
    {
     "name": "stderr",
     "output_type": "stream",
     "text": [
      "/braintree/home/jjpr/anaconda3/envs/mkgu_packaging/lib/python3.6/site-packages/xarray/core/dtypes.py:23: FutureWarning: Conversion of the second argument of issubdtype from `float` to `np.floating` is deprecated. In future, it will be treated as `np.float64 == np.dtype(float).type`.\n",
      "  if np.issubdtype(dtype, float):\n"
     ]
    },
    {
     "ename": "ValueError",
     "evalue": "unable to convert unnamed DataArray to a Dataset without providing an explicit name",
     "output_type": "error",
     "traceback": [
      "\u001b[0;31m---------------------------------------------------------------------------\u001b[0m",
      "\u001b[0;31mValueError\u001b[0m                                Traceback (most recent call last)",
      "\u001b[0;32m<ipython-input-13-d424008877bf>\u001b[0m in \u001b[0;36m<module>\u001b[0;34m()\u001b[0m\n\u001b[0;32m----> 1\u001b[0;31m \u001b[0mxr\u001b[0m\u001b[0;34m.\u001b[0m\u001b[0mmerge\u001b[0m\u001b[0;34m(\u001b[0m\u001b[0mxr\u001b[0m\u001b[0;34m.\u001b[0m\u001b[0malign\u001b[0m\u001b[0;34m(\u001b[0m\u001b[0mda1\u001b[0m\u001b[0;34m,\u001b[0m \u001b[0mda2\u001b[0m\u001b[0;34m,\u001b[0m \u001b[0mda3\u001b[0m\u001b[0;34m,\u001b[0m \u001b[0mjoin\u001b[0m\u001b[0;34m=\u001b[0m\u001b[0;34m\"outer\"\u001b[0m\u001b[0;34m)\u001b[0m\u001b[0;34m)\u001b[0m\u001b[0;34m\u001b[0m\u001b[0m\n\u001b[0m",
      "\u001b[0;32m~/anaconda3/envs/mkgu_packaging/lib/python3.6/site-packages/xarray/core/merge.py\u001b[0m in \u001b[0;36mmerge\u001b[0;34m(objects, compat, join)\u001b[0m\n\u001b[1;32m    509\u001b[0m \u001b[0;34m\u001b[0m\u001b[0m\n\u001b[1;32m    510\u001b[0m     dict_like_objects = [obj.to_dataset() if isinstance(obj, DataArray) else obj\n\u001b[0;32m--> 511\u001b[0;31m                          for obj in objects]\n\u001b[0m\u001b[1;32m    512\u001b[0m \u001b[0;34m\u001b[0m\u001b[0m\n\u001b[1;32m    513\u001b[0m     \u001b[0mvariables\u001b[0m\u001b[0;34m,\u001b[0m \u001b[0mcoord_names\u001b[0m\u001b[0;34m,\u001b[0m \u001b[0mdims\u001b[0m \u001b[0;34m=\u001b[0m \u001b[0mmerge_core\u001b[0m\u001b[0;34m(\u001b[0m\u001b[0mdict_like_objects\u001b[0m\u001b[0;34m,\u001b[0m \u001b[0mcompat\u001b[0m\u001b[0;34m,\u001b[0m \u001b[0mjoin\u001b[0m\u001b[0;34m)\u001b[0m\u001b[0;34m\u001b[0m\u001b[0m\n",
      "\u001b[0;32m~/anaconda3/envs/mkgu_packaging/lib/python3.6/site-packages/xarray/core/merge.py\u001b[0m in \u001b[0;36m<listcomp>\u001b[0;34m(.0)\u001b[0m\n\u001b[1;32m    509\u001b[0m \u001b[0;34m\u001b[0m\u001b[0m\n\u001b[1;32m    510\u001b[0m     dict_like_objects = [obj.to_dataset() if isinstance(obj, DataArray) else obj\n\u001b[0;32m--> 511\u001b[0;31m                          for obj in objects]\n\u001b[0m\u001b[1;32m    512\u001b[0m \u001b[0;34m\u001b[0m\u001b[0m\n\u001b[1;32m    513\u001b[0m     \u001b[0mvariables\u001b[0m\u001b[0;34m,\u001b[0m \u001b[0mcoord_names\u001b[0m\u001b[0;34m,\u001b[0m \u001b[0mdims\u001b[0m \u001b[0;34m=\u001b[0m \u001b[0mmerge_core\u001b[0m\u001b[0;34m(\u001b[0m\u001b[0mdict_like_objects\u001b[0m\u001b[0;34m,\u001b[0m \u001b[0mcompat\u001b[0m\u001b[0;34m,\u001b[0m \u001b[0mjoin\u001b[0m\u001b[0;34m)\u001b[0m\u001b[0;34m\u001b[0m\u001b[0m\n",
      "\u001b[0;32m~/anaconda3/envs/mkgu_packaging/lib/python3.6/site-packages/xarray/core/dataarray.py\u001b[0m in \u001b[0;36mto_dataset\u001b[0;34m(self, dim, name)\u001b[0m\n\u001b[1;32m    359\u001b[0m             \u001b[0;32mreturn\u001b[0m \u001b[0mself\u001b[0m\u001b[0;34m.\u001b[0m\u001b[0m_to_dataset_split\u001b[0m\u001b[0;34m(\u001b[0m\u001b[0mdim\u001b[0m\u001b[0;34m)\u001b[0m\u001b[0;34m\u001b[0m\u001b[0m\n\u001b[1;32m    360\u001b[0m         \u001b[0;32melse\u001b[0m\u001b[0;34m:\u001b[0m\u001b[0;34m\u001b[0m\u001b[0m\n\u001b[0;32m--> 361\u001b[0;31m             \u001b[0;32mreturn\u001b[0m \u001b[0mself\u001b[0m\u001b[0;34m.\u001b[0m\u001b[0m_to_dataset_whole\u001b[0m\u001b[0;34m(\u001b[0m\u001b[0mname\u001b[0m\u001b[0;34m)\u001b[0m\u001b[0;34m\u001b[0m\u001b[0m\n\u001b[0m\u001b[1;32m    362\u001b[0m \u001b[0;34m\u001b[0m\u001b[0m\n\u001b[1;32m    363\u001b[0m     \u001b[0;34m@\u001b[0m\u001b[0mproperty\u001b[0m\u001b[0;34m\u001b[0m\u001b[0m\n",
      "\u001b[0;32m~/anaconda3/envs/mkgu_packaging/lib/python3.6/site-packages/xarray/core/dataarray.py\u001b[0m in \u001b[0;36m_to_dataset_whole\u001b[0;34m(self, name, shallow_copy)\u001b[0m\n\u001b[1;32m    313\u001b[0m             \u001b[0mname\u001b[0m \u001b[0;34m=\u001b[0m \u001b[0mself\u001b[0m\u001b[0;34m.\u001b[0m\u001b[0mname\u001b[0m\u001b[0;34m\u001b[0m\u001b[0m\n\u001b[1;32m    314\u001b[0m         \u001b[0;32mif\u001b[0m \u001b[0mname\u001b[0m \u001b[0;32mis\u001b[0m \u001b[0;32mNone\u001b[0m\u001b[0;34m:\u001b[0m\u001b[0;34m\u001b[0m\u001b[0m\n\u001b[0;32m--> 315\u001b[0;31m             raise ValueError('unable to convert unnamed DataArray to a '\n\u001b[0m\u001b[1;32m    316\u001b[0m                              'Dataset without providing an explicit name')\n\u001b[1;32m    317\u001b[0m         \u001b[0;32mif\u001b[0m \u001b[0mname\u001b[0m \u001b[0;32min\u001b[0m \u001b[0mself\u001b[0m\u001b[0;34m.\u001b[0m\u001b[0mcoords\u001b[0m\u001b[0;34m:\u001b[0m\u001b[0;34m\u001b[0m\u001b[0m\n",
      "\u001b[0;31mValueError\u001b[0m: unable to convert unnamed DataArray to a Dataset without providing an explicit name"
     ]
    }
   ],
   "source": [
    "xr.merge(xr.align(da1, da2, da3, join=\"outer\"))"
   ]
  },
  {
   "cell_type": "code",
   "execution_count": 11,
   "metadata": {},
   "outputs": [
    {
     "name": "stderr",
     "output_type": "stream",
     "text": [
      "/braintree/home/jjpr/anaconda3/envs/mkgu_packaging/lib/python3.6/site-packages/xarray/core/dtypes.py:23: FutureWarning: Conversion of the second argument of issubdtype from `float` to `np.floating` is deprecated. In future, it will be treated as `np.float64 == np.dtype(float).type`.\n",
      "  if np.issubdtype(dtype, float):\n"
     ]
    },
    {
     "data": {
      "text/plain": [
       "<xarray.DataArray (x: 4, y: 6)>\n",
       "array([[-0.677337, -0.777142,  0.916852,       nan,       nan,       nan],\n",
       "       [-0.31313 ,  0.341775, -0.416006,       nan,       nan,       nan],\n",
       "       [      nan,       nan,       nan, -0.665198,  0.634057, -0.003932],\n",
       "       [      nan,       nan,       nan,  0.383107,  0.828298,  0.971749]])\n",
       "Coordinates:\n",
       "  * x        (x) object 'a' 'b' 'c' 'd'\n",
       "  * y        (y) int64 10 20 30 40 50 60"
      ]
     },
     "execution_count": 11,
     "metadata": {},
     "output_type": "execute_result"
    }
   ],
   "source": [
    "da1.combine_first(da2)"
   ]
  },
  {
   "cell_type": "code",
   "execution_count": 12,
   "metadata": {},
   "outputs": [
    {
     "name": "stderr",
     "output_type": "stream",
     "text": [
      "/braintree/home/jjpr/anaconda3/envs/mkgu_packaging/lib/python3.6/site-packages/xarray/core/dtypes.py:23: FutureWarning: Conversion of the second argument of issubdtype from `float` to `np.floating` is deprecated. In future, it will be treated as `np.float64 == np.dtype(float).type`.\n",
      "  if np.issubdtype(dtype, float):\n"
     ]
    },
    {
     "data": {
      "text/plain": [
       "<xarray.DataArray (x: 3, y: 4)>\n",
       "array([[-0.677337, -0.777142,  0.916852,       nan],\n",
       "       [-0.31313 ,  0.341775, -0.416006, -1.197077],\n",
       "       [      nan,       nan, -1.234978, -0.125411]])\n",
       "Coordinates:\n",
       "  * x        (x) object 'a' 'b' 'c'\n",
       "  * y        (y) int64 10 20 30 40"
      ]
     },
     "execution_count": 12,
     "metadata": {},
     "output_type": "execute_result"
    }
   ],
   "source": [
    "da1.combine_first(da3)"
   ]
  },
  {
   "cell_type": "code",
   "execution_count": 14,
   "metadata": {},
   "outputs": [],
   "source": [
    "da1.name = \"da1\"\n",
    "da2.name = \"da2\"\n",
    "da3.name = \"da3\""
   ]
  },
  {
   "cell_type": "code",
   "execution_count": 15,
   "metadata": {},
   "outputs": [
    {
     "name": "stderr",
     "output_type": "stream",
     "text": [
      "/braintree/home/jjpr/anaconda3/envs/mkgu_packaging/lib/python3.6/site-packages/xarray/core/dtypes.py:23: FutureWarning: Conversion of the second argument of issubdtype from `float` to `np.floating` is deprecated. In future, it will be treated as `np.float64 == np.dtype(float).type`.\n",
      "  if np.issubdtype(dtype, float):\n"
     ]
    },
    {
     "data": {
      "text/plain": [
       "<xarray.Dataset>\n",
       "Dimensions:  (x: 4, y: 6)\n",
       "Coordinates:\n",
       "  * x        (x) object 'a' 'b' 'c' 'd'\n",
       "  * y        (y) int64 10 20 30 40 50 60\n",
       "Data variables:\n",
       "    da1      (x, y) float64 -0.6773 -0.7771 0.9169 nan nan nan -0.3131 ...\n",
       "    da2      (x, y) float64 nan nan nan nan nan nan nan nan nan nan nan nan ...\n",
       "    da3      (x, y) float64 nan nan nan nan nan nan nan nan 0.6487 -1.197 ..."
      ]
     },
     "execution_count": 15,
     "metadata": {},
     "output_type": "execute_result"
    }
   ],
   "source": [
    "xr.merge([da1, da2, da3])"
   ]
  },
  {
   "cell_type": "code",
   "execution_count": 16,
   "metadata": {},
   "outputs": [
    {
     "data": {
      "text/plain": [
       "<xarray.DataArray (x: 0, y: 0)>\n",
       "array([], shape=(0, 0), dtype=bool)\n",
       "Coordinates:\n",
       "  * x        (x) object \n",
       "  * y        (y) int64 "
      ]
     },
     "execution_count": 16,
     "metadata": {},
     "output_type": "execute_result"
    }
   ],
   "source": [
    "da1 != da2"
   ]
  },
  {
   "cell_type": "code",
   "execution_count": 17,
   "metadata": {},
   "outputs": [
    {
     "data": {
      "text/plain": [
       "<xarray.DataArray (x: 1, y: 1)>\n",
       "array([[ True]])\n",
       "Coordinates:\n",
       "  * x        (x) object 'b'\n",
       "  * y        (y) int64 30"
      ]
     },
     "execution_count": 17,
     "metadata": {},
     "output_type": "execute_result"
    }
   ],
   "source": [
    "da1 != da3"
   ]
  },
  {
   "cell_type": "code",
   "execution_count": 18,
   "metadata": {},
   "outputs": [
    {
     "name": "stderr",
     "output_type": "stream",
     "text": [
      "/braintree/home/jjpr/anaconda3/envs/mkgu_packaging/lib/python3.6/site-packages/xarray/core/dtypes.py:23: FutureWarning: Conversion of the second argument of issubdtype from `float` to `np.floating` is deprecated. In future, it will be treated as `np.float64 == np.dtype(float).type`.\n",
      "  if np.issubdtype(dtype, float):\n"
     ]
    }
   ],
   "source": [
    "aligned = xr.align(da1, da2, da3, join=\"outer\")"
   ]
  },
  {
   "cell_type": "code",
   "execution_count": 19,
   "metadata": {},
   "outputs": [
    {
     "data": {
      "text/plain": [
       "<xarray.DataArray (x: 4, y: 6)>\n",
       "array([[ True,  True,  True,  True,  True,  True],\n",
       "       [ True,  True,  True,  True,  True,  True],\n",
       "       [ True,  True,  True,  True,  True,  True],\n",
       "       [ True,  True,  True,  True,  True,  True]])\n",
       "Coordinates:\n",
       "  * x        (x) object 'a' 'b' 'c' 'd'\n",
       "  * y        (y) int64 10 20 30 40 50 60"
      ]
     },
     "execution_count": 19,
     "metadata": {},
     "output_type": "execute_result"
    }
   ],
   "source": [
    "aligned[0] != aligned[1]"
   ]
  },
  {
   "cell_type": "code",
   "execution_count": 20,
   "metadata": {},
   "outputs": [
    {
     "data": {
      "text/plain": [
       "<xarray.DataArray (x: 4, y: 6)>\n",
       "array([[ True,  True,  True,  True,  True,  True],\n",
       "       [ True,  True,  True,  True,  True,  True],\n",
       "       [ True,  True,  True,  True,  True,  True],\n",
       "       [ True,  True,  True,  True,  True,  True]])\n",
       "Coordinates:\n",
       "  * x        (x) object 'a' 'b' 'c' 'd'\n",
       "  * y        (y) int64 10 20 30 40 50 60"
      ]
     },
     "execution_count": 20,
     "metadata": {},
     "output_type": "execute_result"
    }
   ],
   "source": [
    "aligned[0] != aligned[2]"
   ]
  },
  {
   "cell_type": "code",
   "execution_count": 22,
   "metadata": {},
   "outputs": [
    {
     "data": {
      "text/plain": [
       "(array([0, 1]),)"
      ]
     },
     "execution_count": 22,
     "metadata": {},
     "output_type": "execute_result"
    }
   ],
   "source": [
    "np.nonzero(np.array([True, True, False]))"
   ]
  },
  {
   "cell_type": "code",
   "execution_count": 23,
   "metadata": {},
   "outputs": [
    {
     "data": {
      "text/plain": [
       "<xarray.DataArray (x: 3, y: 3)>\n",
       "array([[ 0., nan, nan],\n",
       "       [nan,  1., nan],\n",
       "       [nan, nan,  2.]])\n",
       "Coordinates:\n",
       "  * x        (x) <U1 'a' 'b' 'c'\n",
       "  * y        (y) int64 10 20 30"
      ]
     },
     "execution_count": 23,
     "metadata": {},
     "output_type": "execute_result"
    }
   ],
   "source": [
    "da4 = xr.DataArray([[0.0, np.nan, np.nan], [np.nan, 1.0, np.nan], [np.nan, np.nan, 2.0]], [('x', ['a', 'b', 'c']), ('y', [10, 20, 30])])\n",
    "da4"
   ]
  },
  {
   "cell_type": "code",
   "execution_count": 24,
   "metadata": {},
   "outputs": [
    {
     "data": {
      "text/plain": [
       "<xarray.DataArray (x: 3, y: 3)>\n",
       "array([[0.1, nan, nan],\n",
       "       [nan, 0.2, nan],\n",
       "       [nan, nan, 0.3]])\n",
       "Coordinates:\n",
       "  * x        (x) <U1 'c' 'd' 'e'\n",
       "  * y        (y) int64 40 50 60"
      ]
     },
     "execution_count": 24,
     "metadata": {},
     "output_type": "execute_result"
    }
   ],
   "source": [
    "da5 = xr.DataArray([[0.1, np.nan, np.nan], [np.nan, 0.2, np.nan], [np.nan, np.nan, 0.3]], [('x', ['c', 'd', 'e']), ('y', [40, 50, 60])])\n",
    "da5"
   ]
  },
  {
   "cell_type": "code",
   "execution_count": 25,
   "metadata": {},
   "outputs": [
    {
     "name": "stderr",
     "output_type": "stream",
     "text": [
      "/braintree/home/jjpr/anaconda3/envs/mkgu_packaging/lib/python3.6/site-packages/xarray/core/dtypes.py:23: FutureWarning: Conversion of the second argument of issubdtype from `float` to `np.floating` is deprecated. In future, it will be treated as `np.float64 == np.dtype(float).type`.\n",
      "  if np.issubdtype(dtype, float):\n"
     ]
    },
    {
     "data": {
      "text/plain": [
       "(<xarray.DataArray (x: 5, y: 6)>\n",
       " array([[ 0., nan, nan, nan, nan, nan],\n",
       "        [nan,  1., nan, nan, nan, nan],\n",
       "        [nan, nan,  2., nan, nan, nan],\n",
       "        [nan, nan, nan, nan, nan, nan],\n",
       "        [nan, nan, nan, nan, nan, nan]])\n",
       " Coordinates:\n",
       "   * x        (x) object 'a' 'b' 'c' 'd' 'e'\n",
       "   * y        (y) int64 10 20 30 40 50 60, <xarray.DataArray (x: 5, y: 6)>\n",
       " array([[nan, nan, nan, nan, nan, nan],\n",
       "        [nan, nan, nan, nan, nan, nan],\n",
       "        [nan, nan, nan, 0.1, nan, nan],\n",
       "        [nan, nan, nan, nan, 0.2, nan],\n",
       "        [nan, nan, nan, nan, nan, 0.3]])\n",
       " Coordinates:\n",
       "   * x        (x) object 'a' 'b' 'c' 'd' 'e'\n",
       "   * y        (y) int64 10 20 30 40 50 60)"
      ]
     },
     "execution_count": 25,
     "metadata": {},
     "output_type": "execute_result"
    }
   ],
   "source": [
    "xr.align(da4, da5, join=\"outer\")"
   ]
  },
  {
   "cell_type": "code",
   "execution_count": 37,
   "metadata": {},
   "outputs": [
    {
     "data": {
      "text/plain": [
       "(<xarray.DataArray (x: 3, y: 3)>\n",
       " array([[ 1., nan, nan],\n",
       "        [nan,  2., nan],\n",
       "        [nan, nan,  3.]])\n",
       " Coordinates:\n",
       "     lower        (x) <U1 'a' 'b' 'c'\n",
       "     upper        (x) <U1 'A' 'B' 'C'\n",
       "     linear       (y) int64 10 20 30\n",
       "     exponential  (y) int64 10 100 1000\n",
       " Dimensions without coordinates: x, y, <xarray.DataArray (x: 3, y: 3)>\n",
       " array([[0.1, nan, nan],\n",
       "        [nan, 0.2, nan],\n",
       "        [nan, nan, 0.3]])\n",
       " Coordinates:\n",
       "     lower        (x) <U1 'c' 'd' 'e'\n",
       "     upper        (x) <U1 'C' 'D' 'E'\n",
       "     linear       (y) int64 40 50 60\n",
       "     exponential  (y) int64 10000 100000 1000000\n",
       " Dimensions without coordinates: x, y)"
      ]
     },
     "execution_count": 37,
     "metadata": {},
     "output_type": "execute_result"
    }
   ],
   "source": [
    "dims = (\"x\", \"y\")\n",
    "coords_d = {\"x\": (\"lower\",  \"upper\"), \"y\": (\"linear\", \"exponential\")}\n",
    "\n",
    "data6 = [[1.0, np.nan, np.nan], [np.nan, 2.0, np.nan], [np.nan, np.nan, 3.0]]\n",
    "coords6 = {\n",
    "    \"lower\": (\"x\", [\"a\", \"b\", \"c\"]), \n",
    "    \"upper\": (\"x\", [\"A\", \"B\", \"C\"]), \n",
    "    \"linear\": (\"y\", [10, 20, 30]), \n",
    "    \"exponential\": (\"y\", [10, 100, 1000])\n",
    "}\n",
    "da6 = xr.DataArray(data=data6, dims=dims, coords=coords6)\n",
    "\n",
    "data7 = [[0.1, np.nan, np.nan], [np.nan, 0.2, np.nan], [np.nan, np.nan, 0.3]]\n",
    "coords7 = {\n",
    "    \"lower\": (\"x\", [\"c\", \"d\", \"e\"]), \n",
    "    \"upper\": (\"x\", [\"C\", \"D\", \"E\"]), \n",
    "    \"linear\": (\"y\", [40, 50, 60]), \n",
    "    \"exponential\": (\"y\", [10000, 100000, 1000000])\n",
    "}\n",
    "da7 = xr.DataArray(data=data7, dims=dims, coords=coords7)\n",
    "\n",
    "# for da in (da6, da7):\n",
    "#     da.set_index(append=True, inplace=True, **coords_d)\n",
    "\n",
    "(da6, da7)"
   ]
  },
  {
   "cell_type": "code",
   "execution_count": 38,
   "metadata": {},
   "outputs": [
    {
     "data": {
      "text/plain": [
       "(<xarray.DataArray (x: 3, y: 3)>\n",
       " array([[ 1., nan, nan],\n",
       "        [nan,  2., nan],\n",
       "        [nan, nan,  3.]])\n",
       " Coordinates:\n",
       "     lower        (x) <U1 'a' 'b' 'c'\n",
       "     upper        (x) <U1 'A' 'B' 'C'\n",
       "     linear       (y) int64 10 20 30\n",
       "     exponential  (y) int64 10 100 1000\n",
       " Dimensions without coordinates: x, y, <xarray.DataArray (x: 3, y: 3)>\n",
       " array([[0.1, nan, nan],\n",
       "        [nan, 0.2, nan],\n",
       "        [nan, nan, 0.3]])\n",
       " Coordinates:\n",
       "     lower        (x) <U1 'c' 'd' 'e'\n",
       "     upper        (x) <U1 'C' 'D' 'E'\n",
       "     linear       (y) int64 40 50 60\n",
       "     exponential  (y) int64 10000 100000 1000000\n",
       " Dimensions without coordinates: x, y)"
      ]
     },
     "execution_count": 38,
     "metadata": {},
     "output_type": "execute_result"
    }
   ],
   "source": [
    "xr.align(da6, da7, join=\"outer\")"
   ]
  },
  {
   "cell_type": "code",
   "execution_count": 42,
   "metadata": {},
   "outputs": [
    {
     "ename": "PermissionError",
     "evalue": "[Errno 13] Permission denied: b'/braintree/home/jjpr/dev/mkgu_packaging/notebooks/xarray_align_debug_da6.nc'",
     "output_type": "error",
     "traceback": [
      "\u001b[0;31m---------------------------------------------------------------------------\u001b[0m",
      "\u001b[0;31mPermissionError\u001b[0m                           Traceback (most recent call last)",
      "\u001b[0;32m<ipython-input-42-02b5adfabcf4>\u001b[0m in \u001b[0;36m<module>\u001b[0;34m()\u001b[0m\n\u001b[1;32m      1\u001b[0m \u001b[0mda6_file\u001b[0m \u001b[0;34m=\u001b[0m \u001b[0;34m\"xarray_align_debug_da6.nc\"\u001b[0m\u001b[0;34m\u001b[0m\u001b[0m\n\u001b[0;32m----> 2\u001b[0;31m \u001b[0mda6\u001b[0m\u001b[0;34m.\u001b[0m\u001b[0mto_netcdf\u001b[0m\u001b[0;34m(\u001b[0m\u001b[0mda6_file\u001b[0m\u001b[0;34m)\u001b[0m\u001b[0;34m\u001b[0m\u001b[0m\n\u001b[0m\u001b[1;32m      3\u001b[0m \u001b[0mda6_reloaded\u001b[0m \u001b[0;34m=\u001b[0m \u001b[0mxr\u001b[0m\u001b[0;34m.\u001b[0m\u001b[0mopen_dataarray\u001b[0m\u001b[0;34m(\u001b[0m\u001b[0mda6_file\u001b[0m\u001b[0;34m)\u001b[0m\u001b[0;34m\u001b[0m\u001b[0m\n\u001b[1;32m      4\u001b[0m \u001b[0;34m\u001b[0m\u001b[0m\n\u001b[1;32m      5\u001b[0m \u001b[0mda7_file\u001b[0m \u001b[0;34m=\u001b[0m \u001b[0;34m\"xarray_align_debug_da7.nc\"\u001b[0m\u001b[0;34m\u001b[0m\u001b[0m\n",
      "\u001b[0;32m~/anaconda3/envs/mkgu_packaging/lib/python3.6/site-packages/xarray/core/dataarray.py\u001b[0m in \u001b[0;36mto_netcdf\u001b[0;34m(self, *args, **kwargs)\u001b[0m\n\u001b[1;32m   1424\u001b[0m         \u001b[0;31m# been able to debug (possibly a pandas bug?).\u001b[0m\u001b[0;34m\u001b[0m\u001b[0;34m\u001b[0m\u001b[0m\n\u001b[1;32m   1425\u001b[0m         \u001b[0munique_name\u001b[0m \u001b[0;34m=\u001b[0m \u001b[0;34m'__unique_name_identifier_z98xfz98xugfg73ho__'\u001b[0m\u001b[0;34m\u001b[0m\u001b[0m\n\u001b[0;32m-> 1426\u001b[0;31m         \u001b[0mds\u001b[0m \u001b[0;34m=\u001b[0m \u001b[0mself\u001b[0m\u001b[0;34m.\u001b[0m\u001b[0m_to_dataset_whole\u001b[0m\u001b[0;34m(\u001b[0m\u001b[0mname\u001b[0m\u001b[0;34m=\u001b[0m\u001b[0munique_name\u001b[0m\u001b[0;34m)\u001b[0m\u001b[0;34m\u001b[0m\u001b[0m\n\u001b[0m\u001b[1;32m   1427\u001b[0m         \u001b[0mdf\u001b[0m \u001b[0;34m=\u001b[0m \u001b[0mds\u001b[0m\u001b[0;34m.\u001b[0m\u001b[0m_to_dataframe\u001b[0m\u001b[0;34m(\u001b[0m\u001b[0mdims\u001b[0m\u001b[0;34m)\u001b[0m\u001b[0;34m\u001b[0m\u001b[0m\n\u001b[1;32m   1428\u001b[0m         df.columns = [name if c == unique_name else c\n",
      "\u001b[0;32m~/anaconda3/envs/mkgu_packaging/lib/python3.6/site-packages/xarray/core/dataset.py\u001b[0m in \u001b[0;36mto_netcdf\u001b[0;34m(self, path, mode, format, group, engine, encoding, unlimited_dims)\u001b[0m\n\u001b[1;32m   1130\u001b[0m             \u001b[0mencoding\u001b[0m \u001b[0mparameters\u001b[0m\u001b[0;31m \u001b[0m\u001b[0;31m`\u001b[0m\u001b[0;31m`\u001b[0m\u001b[0;34m{\u001b[0m\u001b[0;34m'zlib'\u001b[0m\u001b[0;34m:\u001b[0m \u001b[0;32mTrue\u001b[0m\u001b[0;34m,\u001b[0m \u001b[0;34m'complevel'\u001b[0m\u001b[0;34m:\u001b[0m \u001b[0;36m9\u001b[0m\u001b[0;34m}\u001b[0m\u001b[0;31m`\u001b[0m\u001b[0;31m`\u001b[0m \u001b[0;32mand\u001b[0m \u001b[0mthe\u001b[0m \u001b[0mh5py\u001b[0m\u001b[0;34m\u001b[0m\u001b[0m\n\u001b[1;32m   1131\u001b[0m             \u001b[0mones\u001b[0m\u001b[0;31m \u001b[0m\u001b[0;31m`\u001b[0m\u001b[0;31m`\u001b[0m\u001b[0;34m{\u001b[0m\u001b[0;34m'compression'\u001b[0m\u001b[0;34m:\u001b[0m \u001b[0;34m'gzip'\u001b[0m\u001b[0;34m,\u001b[0m \u001b[0;34m'compression_opts'\u001b[0m\u001b[0;34m:\u001b[0m \u001b[0;36m9\u001b[0m\u001b[0;34m}\u001b[0m\u001b[0;31m`\u001b[0m\u001b[0;31m`\u001b[0m\u001b[0;34m.\u001b[0m\u001b[0;34m\u001b[0m\u001b[0m\n\u001b[0;32m-> 1132\u001b[0;31m             \u001b[0mThis\u001b[0m \u001b[0mallows\u001b[0m \u001b[0musing\u001b[0m \u001b[0many\u001b[0m \u001b[0mcompression\u001b[0m \u001b[0mplugin\u001b[0m \u001b[0minstalled\u001b[0m \u001b[0;32min\u001b[0m \u001b[0mthe\u001b[0m \u001b[0mHDF5\u001b[0m\u001b[0;34m\u001b[0m\u001b[0m\n\u001b[0m\u001b[1;32m   1133\u001b[0m             \u001b[0mlibrary\u001b[0m\u001b[0;34m,\u001b[0m \u001b[0me\u001b[0m\u001b[0;34m.\u001b[0m\u001b[0mg\u001b[0m\u001b[0;34m.\u001b[0m \u001b[0mLZF\u001b[0m\u001b[0;34m.\u001b[0m\u001b[0;34m\u001b[0m\u001b[0m\n\u001b[1;32m   1134\u001b[0m \u001b[0;34m\u001b[0m\u001b[0m\n",
      "\u001b[0;32m~/anaconda3/envs/mkgu_packaging/lib/python3.6/site-packages/xarray/backends/api.py\u001b[0m in \u001b[0;36mto_netcdf\u001b[0;34m(dataset, path_or_file, mode, format, group, engine, writer, encoding, unlimited_dims)\u001b[0m\n\u001b[1;32m    610\u001b[0m         \u001b[0;32melse\u001b[0m\u001b[0;34m:\u001b[0m\u001b[0;34m\u001b[0m\u001b[0m\n\u001b[1;32m    611\u001b[0m             combined = auto_combine(datasets, concat_dim=concat_dim,\n\u001b[0;32m--> 612\u001b[0;31m                                     \u001b[0mcompat\u001b[0m\u001b[0;34m=\u001b[0m\u001b[0mcompat\u001b[0m\u001b[0;34m,\u001b[0m\u001b[0;34m\u001b[0m\u001b[0m\n\u001b[0m\u001b[1;32m    613\u001b[0m                                     data_vars=data_vars, coords=coords)\n\u001b[1;32m    614\u001b[0m     \u001b[0;32mexcept\u001b[0m \u001b[0mValueError\u001b[0m\u001b[0;34m:\u001b[0m\u001b[0;34m\u001b[0m\u001b[0m\n",
      "\u001b[0;32m~/anaconda3/envs/mkgu_packaging/lib/python3.6/site-packages/xarray/backends/netCDF4_.py\u001b[0m in \u001b[0;36mopen\u001b[0;34m(cls, filename, mode, format, group, writer, clobber, diskless, persist, autoclose)\u001b[0m\n\u001b[1;32m    250\u001b[0m             \u001b[0mobj\u001b[0m\u001b[0;34m.\u001b[0m\u001b[0msetncattr_string\u001b[0m\u001b[0;34m(\u001b[0m\u001b[0mkey\u001b[0m\u001b[0;34m,\u001b[0m \u001b[0mvalue\u001b[0m\u001b[0;34m)\u001b[0m\u001b[0;34m\u001b[0m\u001b[0m\n\u001b[1;32m    251\u001b[0m         \u001b[0;32mexcept\u001b[0m \u001b[0mAttributeError\u001b[0m\u001b[0;34m:\u001b[0m\u001b[0;34m\u001b[0m\u001b[0m\n\u001b[0;32m--> 252\u001b[0;31m             \u001b[0;31m# Inform users with old netCDF that does not support\u001b[0m\u001b[0;34m\u001b[0m\u001b[0;34m\u001b[0m\u001b[0m\n\u001b[0m\u001b[1;32m    253\u001b[0m             \u001b[0;31m# NC_STRING that we can't serialize lists of strings\u001b[0m\u001b[0;34m\u001b[0m\u001b[0;34m\u001b[0m\u001b[0m\n\u001b[1;32m    254\u001b[0m             \u001b[0;31m# as attrs\u001b[0m\u001b[0;34m\u001b[0m\u001b[0;34m\u001b[0m\u001b[0m\n",
      "\u001b[0;32m~/anaconda3/envs/mkgu_packaging/lib/python3.6/site-packages/xarray/backends/netCDF4_.py\u001b[0m in \u001b[0;36m_open_netcdf4_group\u001b[0;34m(filename, mode, group, **kwargs)\u001b[0m\n\u001b[1;32m    186\u001b[0m         \u001b[0mchanged_shape\u001b[0m \u001b[0;34m=\u001b[0m \u001b[0mencoding\u001b[0m\u001b[0;34m.\u001b[0m\u001b[0mget\u001b[0m\u001b[0;34m(\u001b[0m\u001b[0;34m'original_shape'\u001b[0m\u001b[0;34m)\u001b[0m \u001b[0;34m!=\u001b[0m \u001b[0mvariable\u001b[0m\u001b[0;34m.\u001b[0m\u001b[0mshape\u001b[0m\u001b[0;34m\u001b[0m\u001b[0m\n\u001b[1;32m    187\u001b[0m         \u001b[0;32mif\u001b[0m \u001b[0mchunks_too_big\u001b[0m \u001b[0;32mor\u001b[0m \u001b[0mchanged_shape\u001b[0m\u001b[0;34m:\u001b[0m\u001b[0;34m\u001b[0m\u001b[0m\n\u001b[0;32m--> 188\u001b[0;31m             \u001b[0;32mdel\u001b[0m \u001b[0mencoding\u001b[0m\u001b[0;34m[\u001b[0m\u001b[0;34m'chunksizes'\u001b[0m\u001b[0;34m]\u001b[0m\u001b[0;34m\u001b[0m\u001b[0m\n\u001b[0m\u001b[1;32m    189\u001b[0m \u001b[0;34m\u001b[0m\u001b[0m\n\u001b[1;32m    190\u001b[0m     \u001b[0;32mfor\u001b[0m \u001b[0mk\u001b[0m \u001b[0;32min\u001b[0m \u001b[0msafe_to_drop\u001b[0m\u001b[0;34m:\u001b[0m\u001b[0;34m\u001b[0m\u001b[0m\n",
      "\u001b[0;32mnetCDF4/_netCDF4.pyx\u001b[0m in \u001b[0;36mnetCDF4._netCDF4.Dataset.__init__\u001b[0;34m()\u001b[0m\n",
      "\u001b[0;32mnetCDF4/_netCDF4.pyx\u001b[0m in \u001b[0;36mnetCDF4._netCDF4._ensure_nc_success\u001b[0;34m()\u001b[0m\n",
      "\u001b[0;31mPermissionError\u001b[0m: [Errno 13] Permission denied: b'/braintree/home/jjpr/dev/mkgu_packaging/notebooks/xarray_align_debug_da6.nc'"
     ]
    }
   ],
   "source": [
    "da6_file = \"xarray_align_debug_da6.nc\"\n",
    "da6.to_netcdf(da6_file)\n",
    "\n",
    "da7_file = \"xarray_align_debug_da7.nc\"\n",
    "da7.to_netcdf(da7_file)"
   ]
  },
  {
   "cell_type": "code",
   "execution_count": 43,
   "metadata": {},
   "outputs": [],
   "source": [
    "da6_reloaded = xr.open_dataarray(da6_file)\n",
    "da7_reloaded = xr.open_dataarray(da7_file)\n"
   ]
  },
  {
   "cell_type": "code",
   "execution_count": 44,
   "metadata": {},
   "outputs": [],
   "source": [
    "for da in (da6_reloaded, da7_reloaded):\n",
    "    da.set_index(append=True, inplace=True, **coords_d)\n",
    "# (da6_reloaded, da7_reloaded)"
   ]
  },
  {
   "cell_type": "code",
   "execution_count": 45,
   "metadata": {},
   "outputs": [
    {
     "name": "stderr",
     "output_type": "stream",
     "text": [
      "/braintree/home/jjpr/anaconda3/envs/mkgu_packaging/lib/python3.6/site-packages/xarray/core/dtypes.py:23: FutureWarning: Conversion of the second argument of issubdtype from `float` to `np.floating` is deprecated. In future, it will be treated as `np.float64 == np.dtype(float).type`.\n",
      "  if np.issubdtype(dtype, float):\n"
     ]
    },
    {
     "data": {
      "text/plain": [
       "(<xarray.DataArray (x: 5, y: 6)>\n",
       " array([[ 1., nan, nan, nan, nan, nan],\n",
       "        [nan,  2., nan, nan, nan, nan],\n",
       "        [nan, nan,  3., nan, nan, nan],\n",
       "        [nan, nan, nan, nan, nan, nan],\n",
       "        [nan, nan, nan, nan, nan, nan]])\n",
       " Coordinates:\n",
       "   * x            (x) MultiIndex\n",
       "   - lower        (x) object 'a' 'b' 'c' 'd' 'e'\n",
       "   - upper        (x) object 'A' 'B' 'C' 'D' 'E'\n",
       "   * y            (y) MultiIndex\n",
       "   - linear       (y) int64 10 20 30 40 50 60\n",
       "   - exponential  (y) int64 10 100 1000 10000 100000 1000000,\n",
       " <xarray.DataArray (x: 5, y: 6)>\n",
       " array([[nan, nan, nan, nan, nan, nan],\n",
       "        [nan, nan, nan, nan, nan, nan],\n",
       "        [nan, nan, nan, 0.1, nan, nan],\n",
       "        [nan, nan, nan, nan, 0.2, nan],\n",
       "        [nan, nan, nan, nan, nan, 0.3]])\n",
       " Coordinates:\n",
       "   * x            (x) MultiIndex\n",
       "   - lower        (x) object 'a' 'b' 'c' 'd' 'e'\n",
       "   - upper        (x) object 'A' 'B' 'C' 'D' 'E'\n",
       "   * y            (y) MultiIndex\n",
       "   - linear       (y) int64 10 20 30 40 50 60\n",
       "   - exponential  (y) int64 10 100 1000 10000 100000 1000000)"
      ]
     },
     "execution_count": 45,
     "metadata": {},
     "output_type": "execute_result"
    }
   ],
   "source": [
    "xr.align(da6_reloaded, da7_reloaded, join=\"outer\")"
   ]
  },
  {
   "cell_type": "code",
   "execution_count": 50,
   "metadata": {},
   "outputs": [
    {
     "data": {
      "text/plain": [
       "<function ndarray.var>"
      ]
     },
     "execution_count": 50,
     "metadata": {},
     "output_type": "execute_result"
    }
   ],
   "source": []
  },
  {
   "cell_type": "code",
   "execution_count": 33,
   "metadata": {},
   "outputs": [
    {
     "data": {
      "text/plain": [
       "((96000, 10), (2, 1772))"
      ]
     },
     "execution_count": 33,
     "metadata": {},
     "output_type": "execute_result"
    }
   ],
   "source": [
    "da_loaded = xr.open_dataarray(\"/braintree/data2/active/users/jjpr/mkgu_packaging/crcns/v2-1/V2Data1/DGrat/data.nc\")\n",
    "non_nan = np.nonzero(~np.isnan(da_loaded))\n",
    "(da_loaded.shape, non_nan.values.shape)"
   ]
  },
  {
   "cell_type": "code",
   "execution_count": 35,
   "metadata": {},
   "outputs": [
    {
     "data": {
      "text/plain": [
       "((96000, 10), (2, 1772))"
      ]
     },
     "execution_count": 35,
     "metadata": {},
     "output_type": "execute_result"
    }
   ],
   "source": [
    "da_loaded.load()\n",
    "non_nan_after_load = np.nonzero(~np.isnan(da_loaded))\n",
    "(da_loaded.shape, non_nan_after_load.values.shape)"
   ]
  },
  {
   "cell_type": "code",
   "execution_count": null,
   "metadata": {},
   "outputs": [],
   "source": []
  }
 ],
 "metadata": {
  "kernelspec": {
   "display_name": "mkgu_packaging",
   "language": "python",
   "name": "mkgu_packaging"
  },
  "language_info": {
   "codemirror_mode": {
    "name": "ipython",
    "version": 3
   },
   "file_extension": ".py",
   "mimetype": "text/x-python",
   "name": "python",
   "nbconvert_exporter": "python",
   "pygments_lexer": "ipython3",
   "version": "3.6.4"
  }
 },
 "nbformat": 4,
 "nbformat_minor": 2
}
